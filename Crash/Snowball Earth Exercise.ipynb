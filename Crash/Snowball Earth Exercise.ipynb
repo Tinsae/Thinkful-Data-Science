{
 "cells": [
  {
   "cell_type": "markdown",
   "metadata": {},
   "source": [
    "#SnowBall Earth Model"
   ]
  },
  {
   "cell_type": "markdown",
   "metadata": {},
   "source": [
    "   In class we saw that by giving temperature dependence to the albedo, $\\alpha$, the energy balance model would allow two stable equilibria with an unstable equilibrium in the middle.   The model for $\\alpha$ that is used in the book is \n",
    "   $$\\alpha(T) = 0.5 - 0.2\\tanh\\left(\\frac{T-265}{10}\\right).$$\n",
    "   Equilibria are given by the intersections of the graphs of $E_{in}(T)$ and $E_{out}(T)$ where\n",
    "   $$E_{in}(T) = (1-\\alpha(T) )Q \\ \\ {\\rm and} \\ \\  E_{out}(T) = \\epsilon \\sigma T^4,$$\n",
    "   where $Q = S_0/4$.\n",
    "   In this series of short exercises we will explore variations of this model and how they effect the outcome."
   ]
  },
  {
   "cell_type": "markdown",
   "metadata": {},
   "source": [
    "1.)  We looked for equilibria by looking at intersections of the graphs of the two functions $E_{in}(T) =(1-\\alpha(T))Q$ and $E_{out}(T) = \\epsilon \\sigma T^4$.  Start by defining and plotting these two functions (use $  Q = 342, \\ \\epsilon = .62, \\ \\sigma = 5.67 \\times 10^{-8}\\ \\ $  (but set them as parameters so that you can change them later) and  $\\ \\ 220 \\le T \\le 310$).\n"
   ]
  },
  {
   "cell_type": "code",
   "execution_count": 1,
   "metadata": {},
   "outputs": [],
   "source": [
    "%matplotlib inline\n",
    "import matplotlib.pyplot as plt\n",
    "import numpy as np\n",
    "import math\n",
    "\n",
    "\n",
    "Q = 342\n",
    "epsilon = .62\n",
    "sigma = 5.67 * np.power(10, -8, dtype=float)\n",
    "T = [220,310]\n",
    "\n",
    "def alpha(T):\n",
    "    alpha = (0.5 - (0.2*math.tanh((T-265)/10)))\n",
    "    return alpha\n",
    "\n",
    "def E_out(T):\n",
    "    out = epsilon(sigma)(T ** 4)\n",
    "    return out\n",
    "    \n",
    "def E_in(T):\n",
    "    inn = (1-(alpha(T))*Q)\n",
    "    return inn"
   ]
  },
  {
   "cell_type": "markdown",
   "metadata": {},
   "source": [
    "2.)  In the above model, $\\alpha(T)$ varies from 0.3 to 0.7 with a mid point temperature for the transition at 265 Kelvin.   What happens if you change this transition temperature to 270 K or 275 K, leaving all other parameters the same?  At approximately what values are the equilibria?  Plot the graphs of $E_{in}$ (and $E_{out}$) for all three values on the same plot, (use different colors).  Explain what you see and what it means."
   ]
  },
  {
   "cell_type": "code",
   "execution_count": 2,
   "metadata": {},
   "outputs": [
    {
     "ename": "TypeError",
     "evalue": "'float' object is not callable",
     "output_type": "error",
     "traceback": [
      "\u001b[1;31m---------------------------------------------------------------------------\u001b[0m",
      "\u001b[1;31mTypeError\u001b[0m                                 Traceback (most recent call last)",
      "\u001b[1;32m<ipython-input-2-9df848236d25>\u001b[0m in \u001b[0;36m<module>\u001b[1;34m()\u001b[0m\n\u001b[0;32m     11\u001b[0m \u001b[1;33m\u001b[0m\u001b[0m\n\u001b[0;32m     12\u001b[0m \u001b[1;33m\u001b[0m\u001b[0m\n\u001b[1;32m---> 13\u001b[1;33m \u001b[0mplt\u001b[0m\u001b[1;33m.\u001b[0m\u001b[0mplot\u001b[0m\u001b[1;33m(\u001b[0m\u001b[0mx\u001b[0m\u001b[1;33m,\u001b[0m \u001b[0mE_out\u001b[0m\u001b[1;33m(\u001b[0m\u001b[0mT\u001b[0m\u001b[1;33m)\u001b[0m\u001b[1;33m,\u001b[0m \u001b[0mlabel\u001b[0m \u001b[1;33m=\u001b[0m \u001b[1;34m'r'\u001b[0m \u001b[1;33m)\u001b[0m\u001b[1;33m\u001b[0m\u001b[0m\n\u001b[0m\u001b[0;32m     14\u001b[0m \u001b[0mplt\u001b[0m\u001b[1;33m.\u001b[0m\u001b[0mplot\u001b[0m\u001b[1;33m(\u001b[0m\u001b[0mx\u001b[0m\u001b[1;33m,\u001b[0m \u001b[0mE_in\u001b[0m\u001b[1;33m(\u001b[0m\u001b[0mT\u001b[0m\u001b[1;33m)\u001b[0m\u001b[1;33m,\u001b[0m \u001b[0mlabel\u001b[0m \u001b[1;33m=\u001b[0m \u001b[1;34m'g'\u001b[0m \u001b[1;33m)\u001b[0m\u001b[1;33m\u001b[0m\u001b[0m\n\u001b[0;32m     15\u001b[0m \u001b[1;33m\u001b[0m\u001b[0m\n",
      "\u001b[1;32m<ipython-input-1-405e5668f97e>\u001b[0m in \u001b[0;36mE_out\u001b[1;34m(T)\u001b[0m\n\u001b[0;32m     15\u001b[0m \u001b[1;33m\u001b[0m\u001b[0m\n\u001b[0;32m     16\u001b[0m \u001b[1;32mdef\u001b[0m \u001b[0mE_out\u001b[0m\u001b[1;33m(\u001b[0m\u001b[0mT\u001b[0m\u001b[1;33m)\u001b[0m\u001b[1;33m:\u001b[0m\u001b[1;33m\u001b[0m\u001b[0m\n\u001b[1;32m---> 17\u001b[1;33m     \u001b[0mout\u001b[0m \u001b[1;33m=\u001b[0m \u001b[0mepsilon\u001b[0m\u001b[1;33m(\u001b[0m\u001b[0msigma\u001b[0m\u001b[1;33m)\u001b[0m\u001b[1;33m(\u001b[0m\u001b[0mT\u001b[0m \u001b[1;33m**\u001b[0m \u001b[1;36m4\u001b[0m\u001b[1;33m)\u001b[0m\u001b[1;33m\u001b[0m\u001b[0m\n\u001b[0m\u001b[0;32m     18\u001b[0m     \u001b[1;32mreturn\u001b[0m \u001b[0mout\u001b[0m\u001b[1;33m\u001b[0m\u001b[0m\n\u001b[0;32m     19\u001b[0m \u001b[1;33m\u001b[0m\u001b[0m\n",
      "\u001b[1;31mTypeError\u001b[0m: 'float' object is not callable"
     ]
    },
    {
     "data": {
      "image/png": "[encoded data removed]",
      "text/plain": [
       "<Figure size 432x288 with 1 Axes>"
      ]
     },
     "metadata": {},
     "output_type": "display_data"
    }
   ],
   "source": [
    "%matplotlib inline\n",
    "import matplotlib.pyplot as plt\n",
    "import numpy as np\n",
    "import math\n",
    "\n",
    "x = np.arange(220, 310, 1)\n",
    "\n",
    "\n",
    "plt.xlabel('Functions')\n",
    "plt.ylabel('Value')\n",
    "\n",
    "\n",
    "plt.plot(x, E_out(T), label = 'r' )\n",
    "plt.plot(x, E_in(T), label = 'g' )\n",
    "\n",
    "plt.legend()\n",
    "plt.show()"
   ]
  },
  {
   "cell_type": "markdown",
   "metadata": {},
   "source": [
    "3.)  The factor 10 in the denominator of the argument of the hyperbolic tangent determines the sensitivity of $\\alpha$ to $T$.  Experiment with two or three  different values for this denominator, leaving other variables the same.  How does this effect the structure of the equilibria?\n"
   ]
  },
  {
   "cell_type": "code",
   "execution_count": null,
   "metadata": {
    "collapsed": true
   },
   "outputs": [],
   "source": []
  },
  {
   "cell_type": "markdown",
   "metadata": {},
   "source": [
    "4.) Choose a parameter in $E_{in}$ or $E_{out}$ that you think would be interesting to study and argue what you think you think the effect of changing the parameter will be.  Also discuss how this parameter could change due to natural or human causes.  Plot your functions and discuss the significance of the result. "
   ]
  },
  {
   "cell_type": "code",
   "execution_count": null,
   "metadata": {
    "collapsed": true
   },
   "outputs": [],
   "source": []
  }
 ],
 "metadata": {
  "kernelspec": {
   "display_name": "Python 3",
   "language": "python",
   "name": "python3"
  },
  "language_info": {
   "codemirror_mode": {
    "name": "ipython",
    "version": 3
   },
   "file_extension": ".py",
   "mimetype": "text/x-python",
   "name": "python",
   "nbconvert_exporter": "python",
   "pygments_lexer": "ipython3",
   "version": "3.6.6"
  }
 },
 "nbformat": 4,
 "nbformat_minor": 1
}
