{
 "cells": [
  {
   "cell_type": "markdown",
   "metadata": {},
   "source": [
    "- Resampling, Cleaning, Missing Values\n",
    "\n",
    "- Univariate forecasting\n",
    "\n",
    "- ARIMA model = AR-Autoregressive, I- Differencing MA- Moving Average\n",
    "    - Small AIC\n",
    "    - Select P for AR, PACF plot\n",
    "    - Select Q for MA, ACF plot\n",
    "    - Select I\n",
    "    - Plot one attirbute, see patterns: Cyclic, Seasonal, Trend\n",
    "    - Seasonal decompose: Check Trend, Seasonality, Residual\n",
    "    - Make Data Stationary: Log, Sqrt Transformation, Differencing.\n",
    "    - Stationarity test: Adf test, Rolling Statistics\n",
    "    - PACF plot, ACF plot correlations will disapper if data is stationary\n",
    "    - Train model on selected P, Q, R\n",
    "    - Perform Grid-Search and try to minimize AIC\n",
    "    - Evaluate on Test-set(forecast), Calculate MSE\n",
    "    - Any transformations that are applied must be reverted.\n",
    " \n",
    "- Multivariate forecasting\n",
    "    - Create separate ARIMA model for each observed feature(series)\n",
    "    - VAR model: Cross Series Lagged\n",
    "- Convert it as Supervised Learning Problem\n",
    "- Neural Networks\n",
    "    - RNN\n",
    "    - LSTM\n",
    "    - Last layer will give output"
   ]
  },
  {
   "cell_type": "markdown",
   "metadata": {},
   "source": [
    "**Blogs**\n",
    "\n",
    "https://www.analyticsvidhya.com/blog/2016/02/time-series-forecasting-codes-python/\n",
    "\n",
    "https://www.analyticsvidhya.com/blog/2018/09/multivariate-time-series-guide-forecasting-modeling-python-codes/\n",
    "\n",
    "https://machinelearningmastery.com/make-predictions-time-series-forecasting-python/\n",
    "\n",
    "https://machinelearningmastery.com/time-series-data-stationary-python/\n",
    "\n",
    "https://machinelearningmastery.com/time-series-forecasting-methods-in-python-cheat-sheet/\n",
    "\n",
    "https://towardsdatascience.com/3-facts-about-time-series-forecasting-that-surprise-experienced-machine-learning-practitioners-69c18ee89387 (supports jason brownlee)\n",
    "\n",
    "**Books**\n",
    "\n",
    "Jason Brownlee LSTM\n",
    "\n",
    "file:///C:/Users/Tinsae/Downloads/kupdf.net_long-short-term-memory-networks-with-python.pdf\n",
    "\n",
    "Dr. N.D Lewis Deep Learning for Time-series\n",
    "\n",
    "**Videos**\n",
    "\n",
    "Jeffrey Yau - Time Series Forecasting using Statistical and Machine Learning Models\n",
    "\n",
    "https://www.youtube.com/watch?v=_vQ0W_qXMxk\n",
    "\n",
    "Udacity Course - Time Series Forecasting\n",
    "\n",
    "https://classroom.udacity.com/courses/ud980\n",
    "\n",
    "Edureka\n",
    "\n",
    "https://www.youtube.com/watch?v=e8Yw4alG16Q&t=1475s\n",
    "\n",
    "Time Series Forecasting Theory - Datamites Data Science Projects\n",
    "\n",
    "https://www.youtube.com/watch?v=YzMV--KhI2I\n",
    "\n",
    "Cryptocurrency-predicting RNN \n",
    "\n",
    "https://www.youtube.com/watch?v=ne-dpRdNReI&t=569s\n",
    "\n",
    "Time Series Forecasting Using Recurrent Neural Network and Vector Autoregressive Model: When and How\n",
    "\n",
    "https://www.youtube.com/watch?v=i40Road82No"
   ]
  },
  {
   "cell_type": "code",
   "execution_count": 4,
   "metadata": {},
   "outputs": [
    {
     "name": "stdout",
     "output_type": "stream",
     "text": [
      "92\n",
      "75\n",
      "90\n",
      "None\n"
     ]
    }
   ],
   "source": [
    "def calculate_grade(scores):\n",
    "   total = 0\n",
    "   for score in scores:\n",
    "       total += score\n",
    "       print(score)\n",
    "\n",
    "print(calculate_grade([92,75,90]))"
   ]
  },
  {
   "cell_type": "code",
   "execution_count": 6,
   "metadata": {},
   "outputs": [],
   "source": [
    "calculate_grade = 3"
   ]
  },
  {
   "cell_type": "code",
   "execution_count": null,
   "metadata": {},
   "outputs": [],
   "source": [
    "def calculate_grade(scores):\n",
    "   total = 0\n",
    "   for score in scores:\n",
    "       total += score\n",
    "       print(score)\n",
    "\n"
   ]
  },
  {
   "cell_type": "code",
   "execution_count": 7,
   "metadata": {},
   "outputs": [
    {
     "ename": "TypeError",
     "evalue": "'int' object is not callable",
     "output_type": "error",
     "traceback": [
      "\u001b[1;31m---------------------------------------------------------------------------\u001b[0m",
      "\u001b[1;31mTypeError\u001b[0m                                 Traceback (most recent call last)",
      "\u001b[1;32m<ipython-input-7-b7e5de811f6c>\u001b[0m in \u001b[0;36m<module>\u001b[1;34m\u001b[0m\n\u001b[1;32m----> 1\u001b[1;33m \u001b[0mprint\u001b[0m\u001b[1;33m(\u001b[0m\u001b[0mcalculate_grade\u001b[0m\u001b[1;33m(\u001b[0m\u001b[1;33m[\u001b[0m\u001b[1;36m92\u001b[0m\u001b[1;33m,\u001b[0m\u001b[1;36m75\u001b[0m\u001b[1;33m,\u001b[0m\u001b[1;36m90\u001b[0m\u001b[1;33m]\u001b[0m\u001b[1;33m)\u001b[0m\u001b[1;33m)\u001b[0m\u001b[1;33m\u001b[0m\u001b[1;33m\u001b[0m\u001b[0m\n\u001b[0m",
      "\u001b[1;31mTypeError\u001b[0m: 'int' object is not callable"
     ]
    }
   ],
   "source": [
    "print(calculate_grade([92,75,90]))"
   ]
  },
  {
   "cell_type": "code",
   "execution_count": null,
   "metadata": {},
   "outputs": [],
   "source": []
  }
 ],
 "metadata": {
  "kernelspec": {
   "display_name": "Python 3",
   "language": "python",
   "name": "python3"
  },
  "language_info": {
   "codemirror_mode": {
    "name": "ipython",
    "version": 3
   },
   "file_extension": ".py",
   "mimetype": "text/x-python",
   "name": "python",
   "nbconvert_exporter": "python",
   "pygments_lexer": "ipython3",
   "version": "3.7.1"
  }
 },
 "nbformat": 4,
 "nbformat_minor": 2
}
