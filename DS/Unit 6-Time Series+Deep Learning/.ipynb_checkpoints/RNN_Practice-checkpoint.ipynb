{
 "cells": [
  {
   "cell_type": "code",
   "execution_count": 1,
   "metadata": {
    "colab": {
     "base_uri": "https://localhost:8080/",
     "height": 122
    },
    "colab_type": "code",
    "id": "qv_feokmxTSK",
    "outputId": "dc24877d-1491-466a-c9ae-13ac4ebf6e03"
   },
   "outputs": [
    {
     "name": "stdout",
     "output_type": "stream",
     "text": [
      "Go to this URL in a browser: https://accounts.google.com/o/oauth2/auth?client_id=947318989803-6bn6qk8qdgf4n4g3pfee6491hc0brc4i.apps.googleusercontent.com&redirect_uri=urn%3Aietf%3Awg%3Aoauth%3A2.0%3Aoob&scope=email%20https%3A%2F%2Fwww.googleapis.com%2Fauth%2Fdocs.test%20https%3A%2F%2Fwww.googleapis.com%2Fauth%2Fdrive%20https%3A%2F%2Fwww.googleapis.com%2Fauth%2Fdrive.photos.readonly%20https%3A%2F%2Fwww.googleapis.com%2Fauth%2Fpeopleapi.readonly&response_type=code\n",
      "\n",
      "Enter your authorization code:\n",
      "··········\n",
      "Mounted at /content/drive\n"
     ]
    }
   ],
   "source": [
    "# Load the Drive helper and mount\n",
    "from google.colab import drive\n",
    "\n",
    "# This will prompt for authorization.\n",
    "drive.mount('/content/drive')"
   ]
  },
  {
   "cell_type": "code",
   "execution_count": 2,
   "metadata": {
    "colab": {
     "base_uri": "https://localhost:8080/",
     "height": 34
    },
    "colab_type": "code",
    "id": "mzXqVzTlyN8O",
    "outputId": "967b7b6a-31c9-4edc-f885-752f784813e3"
   },
   "outputs": [
    {
     "name": "stdout",
     "output_type": "stream",
     "text": [
      "BCH-USD.csv  BTC-USD.csv  ETH-USD.csv  LTC-USD.csv\n"
     ]
    }
   ],
   "source": [
    "!ls \"/content/drive/My Drive/crypto_data\""
   ]
  },
  {
   "cell_type": "markdown",
   "metadata": {
    "colab_type": "text",
    "id": "Ky-vhEUFte2f"
   },
   "source": []
  },
  {
   "cell_type": "code",
   "execution_count": 0,
   "metadata": {
    "colab": {},
    "colab_type": "code",
    "id": "GvZBUo1Lyv6t"
   },
   "outputs": [],
   "source": [
    "import pandas as pd\n",
    "import numpy as np\n",
    "import os\n",
    "import warnings\n",
    "from sklearn import preprocessing \n",
    "from collections import deque\n",
    "import random\n",
    "import time\n",
    "# tensor flow stuff\n",
    "import tensorflow as tf\n",
    "from tensorflow.keras.models import Sequential\n",
    "from tensorflow.keras.layers import Dense, Dropout, LSTM\n",
    "from tensorflow.keras.layers import CuDNNLSTM, BatchNormalization\n",
    "from tensorflow.keras.callbacks import TensorBoard, ModelCheckpoint"
   ]
  },
  {
   "cell_type": "code",
   "execution_count": 0,
   "metadata": {
    "colab": {},
    "colab_type": "code",
    "id": "raEvRCuV8EvH"
   },
   "outputs": [],
   "source": [
    "SEQ_LEN = 60\n",
    "FUTURE_PERIOD_PREDICT = 3\n",
    "RATIO_TO_PREDICT = \"ltc\"\n",
    "EPOCHS = 10\n",
    "BATCH_SIZE=64\n",
    "NAME = f\"{SEQ_LEN}-SEQ-{FUTURE_PERIOD_PREDICT}-PRED-{int(time.time())}\""
   ]
  },
  {
   "cell_type": "code",
   "execution_count": 0,
   "metadata": {
    "colab": {},
    "colab_type": "code",
    "id": "QUG5xbp08IDs"
   },
   "outputs": [],
   "source": []
  },
  {
   "cell_type": "code",
   "execution_count": 0,
   "metadata": {
    "colab": {},
    "colab_type": "code",
    "id": "g9IqZ6WoNRn7"
   },
   "outputs": [],
   "source": [
    "def classify(current, future):\n",
    "  if(float(future) > float(current)):\n",
    "    return 1\n",
    "  else:\n",
    "    return 0"
   ]
  },
  {
   "cell_type": "code",
   "execution_count": 0,
   "metadata": {
    "colab": {},
    "colab_type": "code",
    "id": "642men2pvVE5"
   },
   "outputs": [],
   "source": [
    "def preprocess_df(df):\n",
    "  df = df.drop('future', axis=1)\n",
    "  for col in df.columns:\n",
    "    if col != \"target\":\n",
    "      # helps normalize the data\n",
    "      # btc, lth and others have different units\n",
    "      df[col] = df[col].pct_change()\n",
    "      df.dropna(inplace=True)\n",
    "      df[col] = preprocessing.scale(df[col].values)\n",
    "  df.dropna(inplace=True)\n",
    "  sequential_data = []\n",
    "  # deque removes items from the front\n",
    "  # if more than SEQ_LEN is appended\n",
    "  # convinient for the task below\n",
    "  # creating 60 sequences and when quota fills\n",
    "  # save the sequences in another list\n",
    "  # and the deque will continue removing\n",
    "  # the old sequences as we add new ones\n",
    "  # everytime a deque fills, append that\n",
    "  # sequence to the other list\n",
    "  prev_days = deque(maxlen=SEQ_LEN)\n",
    "  for i in df.values:\n",
    "    # ignore the target, append a list to prev_days list\n",
    "    prev_days.append([n for n in i[:-1]])\n",
    "    # when 60 feature sets are collected\n",
    "    # append the sequence with the target of the 60th feature set\n",
    "    if(len(prev_days) == SEQ_LEN):\n",
    "      sequential_data.append([np.array(prev_days), i[-1]])\n",
    "  random.shuffle(sequential_data)\n",
    "  buys = []  # list that will store our buy sequences and targets\n",
    "  sells = []  # list that will store our sell sequences and targets\n",
    "\n",
    "  for seq, target in sequential_data:  # iterate over the sequential data\n",
    "      if target == 0:  # if it's a \"not buy\"\n",
    "          sells.append([seq, target])  # append to sells list\n",
    "      elif target == 1:  # otherwise if the target is a 1...\n",
    "          buys.append([seq, target])  # it's a buy!\n",
    "\n",
    "  random.shuffle(buys)  # shuffle the buys\n",
    "  random.shuffle(sells)  # shuffle the sells!\n",
    "\n",
    "  lower = min(len(buys), len(sells))  # what's the shorter length?\n",
    "\n",
    "  buys = buys[:lower]  # make sure both lists are only up to the shortest length.\n",
    "  sells = sells[:lower]  # make sure both lists are only up to the shortest length.\n",
    "\n",
    "  sequential_data = buys+sells  # add them together\n",
    "  random.shuffle(sequential_data)  # another shuffle, so the model doesn't get confused with all 1 class then the other.\n",
    "\n",
    "  X = []\n",
    "  y = []\n",
    "\n",
    "  for seq, target in sequential_data:  # going over our new sequential data\n",
    "      X.append(seq)  # X is the sequences\n",
    "      y.append(target)  # y is the targets/labels (buys vs sell/notbuy)\n",
    "\n",
    "  return np.array(X), y  # return X and y...and make X a numpy array!\n"
   ]
  },
  {
   "cell_type": "code",
   "execution_count": 0,
   "metadata": {
    "colab": {},
    "colab_type": "code",
    "id": "BMyNRX7WRKeI"
   },
   "outputs": [],
   "source": [
    "# def preprocess_df(df):\n",
    "#     df = df.drop(\"future\", 1)  # don't need this anymore.\n",
    "\n",
    "#     for col in df.columns:  # go through all of the columns\n",
    "#         if col != \"target\":  # normalize all ... except for the target itself!\n",
    "#             df[col] = df[col].pct_change()  # pct change \"normalizes\" the different currencies (each crypto coin has vastly diff values, we're really more interested in the other coin's movements)\n",
    "#             df.dropna(inplace=True)  # remove the nas created by pct_change\n",
    "#             df[col] = preprocessing.scale(df[col].values)  # scale between 0 and 1.\n",
    "\n",
    "#     df.dropna(inplace=True)  # cleanup again... jic.\n",
    "\n",
    "\n",
    "#     sequential_data = []  # this is a list that will CONTAIN the sequences\n",
    "#     prev_days = deque(maxlen=SEQ_LEN)  # These will be our actual sequences. They are made with deque, which keeps the maximum length by popping out older values as new ones come in\n",
    "\n",
    "#     for i in df.values:  # iterate over the values\n",
    "#         prev_days.append([n for n in i[:-1]])  # store all but the target\n",
    "#         if len(prev_days) == SEQ_LEN:  # make sure we have 60 sequences!\n",
    "#             sequential_data.append([np.array(prev_days), i[-1]])  # append those bad boys!\n",
    "\n",
    "#     random.shuffle(sequential_data)  # shuffle for good measure.\n",
    "\n",
    "#     buys = []  # list that will store our buy sequences and targets\n",
    "#     sells = []  # list that will store our sell sequences and targets\n",
    "\n",
    "#     for seq, target in sequential_data:  # iterate over the sequential data\n",
    "#         if target == 0:  # if it's a \"not buy\"\n",
    "#             sells.append([seq, target])  # append to sells list\n",
    "#         elif target == 1:  # otherwise if the target is a 1...\n",
    "#             buys.append([seq, target])  # it's a buy!\n",
    "\n",
    "#     random.shuffle(buys)  # shuffle the buys\n",
    "#     random.shuffle(sells)  # shuffle the sells!\n",
    "\n",
    "#     lower = min(len(buys), len(sells))  # what's the shorter length?\n",
    "\n",
    "#     buys = buys[:lower]  # make sure both lists are only up to the shortest length.\n",
    "#     sells = sells[:lower]  # make sure both lists are only up to the shortest length.\n",
    "\n",
    "#     sequential_data = buys+sells  # add them together\n",
    "#     random.shuffle(sequential_data)  # another shuffle, so the model doesn't get confused with all 1 class then the other.\n",
    "\n",
    "#     X = []\n",
    "#     y = []\n",
    "\n",
    "#     for seq, target in sequential_data:  # going over our new sequential data\n",
    "#         X.append(seq)  # X is the sequences\n",
    "#         y.append(target)  # y is the targets/labels (buys vs sell/notbuy)\n",
    "\n",
    "#     return np.array(X), y  # return X and y...and make X a numpy array!\n",
    "\n"
   ]
  },
  {
   "cell_type": "code",
   "execution_count": 0,
   "metadata": {
    "colab": {},
    "colab_type": "code",
    "id": "JYuVP3ec05WV"
   },
   "outputs": [],
   "source": [
    "# read all data\n",
    "import os\n",
    "directory_in_str = \"/content/drive/My Drive/crypto_data/\"\n",
    "directory = os.fsencode(directory_in_str)\n",
    "four_dfs = []\n",
    "for file in os.listdir(directory):\n",
    "     # get filename with extension\n",
    "     filename = os.fsdecode(file)\n",
    "     url = os.path.join(directory_in_str, filename)\n",
    "     # column titles\n",
    "     c_titles = [\"time\", \"low\", \"high\", \"open\", \"close\", \"volume\"] \n",
    "     # returns the first 3 characters before - from filename\n",
    "     get_prefix = lambda x: x.split(\".\")[0].split(\"-\")[0].lower() + \"_\"\n",
    "     # time is not prefixed, prefix the others\n",
    "     u_titles = [\"time\"] + [get_prefix(filename) + c for c in c_titles[1:]]\n",
    "     # append it to list of dataframes\n",
    "     four_dfs.append(pd.read_csv(url, names=u_titles))"
   ]
  },
  {
   "cell_type": "code",
   "execution_count": 0,
   "metadata": {
    "colab": {},
    "colab_type": "code",
    "id": "3GSwgSub46qC"
   },
   "outputs": [],
   "source": [
    "# merge them together\n",
    "merged_df = four_dfs[0]\n",
    "for df in four_dfs[1:]:\n",
    "  merged_df = pd.merge(merged_df, df, on='time', how='left')"
   ]
  },
  {
   "cell_type": "code",
   "execution_count": 9,
   "metadata": {
    "colab": {
     "base_uri": "https://localhost:8080/",
     "height": 253
    },
    "colab_type": "code",
    "id": "d14u9yf7DLwB",
    "outputId": "b772d044-d922-4f68-8ebf-0a808c1eedf5"
   },
   "outputs": [
    {
     "data": {
      "text/html": [
       "<div>\n",
       "<style scoped>\n",
       "    .dataframe tbody tr th:only-of-type {\n",
       "        vertical-align: middle;\n",
       "    }\n",
       "\n",
       "    .dataframe tbody tr th {\n",
       "        vertical-align: top;\n",
       "    }\n",
       "\n",
       "    .dataframe thead th {\n",
       "        text-align: right;\n",
       "    }\n",
       "</style>\n",
       "<table border=\"1\" class=\"dataframe\">\n",
       "  <thead>\n",
       "    <tr style=\"text-align: right;\">\n",
       "      <th></th>\n",
       "      <th>time</th>\n",
       "      <th>bch_low</th>\n",
       "      <th>bch_high</th>\n",
       "      <th>bch_open</th>\n",
       "      <th>bch_close</th>\n",
       "      <th>bch_volume</th>\n",
       "      <th>btc_low</th>\n",
       "      <th>btc_high</th>\n",
       "      <th>btc_open</th>\n",
       "      <th>btc_close</th>\n",
       "      <th>...</th>\n",
       "      <th>eth_low</th>\n",
       "      <th>eth_high</th>\n",
       "      <th>eth_open</th>\n",
       "      <th>eth_close</th>\n",
       "      <th>eth_volume</th>\n",
       "      <th>ltc_low</th>\n",
       "      <th>ltc_high</th>\n",
       "      <th>ltc_open</th>\n",
       "      <th>ltc_close</th>\n",
       "      <th>ltc_volume</th>\n",
       "    </tr>\n",
       "  </thead>\n",
       "  <tbody>\n",
       "    <tr>\n",
       "      <th>0</th>\n",
       "      <td>1528968660</td>\n",
       "      <td>871.650024</td>\n",
       "      <td>871.729980</td>\n",
       "      <td>871.650024</td>\n",
       "      <td>871.719971</td>\n",
       "      <td>5.675361</td>\n",
       "      <td>6489.549805</td>\n",
       "      <td>6489.560059</td>\n",
       "      <td>6489.560059</td>\n",
       "      <td>6489.549805</td>\n",
       "      <td>...</td>\n",
       "      <td>NaN</td>\n",
       "      <td>NaN</td>\n",
       "      <td>NaN</td>\n",
       "      <td>NaN</td>\n",
       "      <td>NaN</td>\n",
       "      <td>96.580002</td>\n",
       "      <td>96.589996</td>\n",
       "      <td>96.589996</td>\n",
       "      <td>96.580002</td>\n",
       "      <td>9.647200</td>\n",
       "    </tr>\n",
       "    <tr>\n",
       "      <th>1</th>\n",
       "      <td>1528968720</td>\n",
       "      <td>870.859985</td>\n",
       "      <td>871.719971</td>\n",
       "      <td>871.719971</td>\n",
       "      <td>870.859985</td>\n",
       "      <td>26.856577</td>\n",
       "      <td>6487.370117</td>\n",
       "      <td>6489.560059</td>\n",
       "      <td>6489.549805</td>\n",
       "      <td>6487.379883</td>\n",
       "      <td>...</td>\n",
       "      <td>485.98999</td>\n",
       "      <td>486.5</td>\n",
       "      <td>486.019989</td>\n",
       "      <td>486.01001</td>\n",
       "      <td>26.019083</td>\n",
       "      <td>96.449997</td>\n",
       "      <td>96.669998</td>\n",
       "      <td>96.589996</td>\n",
       "      <td>96.660004</td>\n",
       "      <td>314.387024</td>\n",
       "    </tr>\n",
       "    <tr>\n",
       "      <th>2</th>\n",
       "      <td>1528968780</td>\n",
       "      <td>870.099976</td>\n",
       "      <td>871.090027</td>\n",
       "      <td>871.090027</td>\n",
       "      <td>870.099976</td>\n",
       "      <td>1.124300</td>\n",
       "      <td>6479.410156</td>\n",
       "      <td>6487.370117</td>\n",
       "      <td>6487.370117</td>\n",
       "      <td>6479.410156</td>\n",
       "      <td>...</td>\n",
       "      <td>486.00000</td>\n",
       "      <td>486.0</td>\n",
       "      <td>486.000000</td>\n",
       "      <td>486.00000</td>\n",
       "      <td>8.449400</td>\n",
       "      <td>96.470001</td>\n",
       "      <td>96.570000</td>\n",
       "      <td>96.570000</td>\n",
       "      <td>96.570000</td>\n",
       "      <td>77.129799</td>\n",
       "    </tr>\n",
       "    <tr>\n",
       "      <th>3</th>\n",
       "      <td>1528968840</td>\n",
       "      <td>868.830017</td>\n",
       "      <td>870.950012</td>\n",
       "      <td>868.830017</td>\n",
       "      <td>870.789978</td>\n",
       "      <td>1.749862</td>\n",
       "      <td>6479.410156</td>\n",
       "      <td>6479.419922</td>\n",
       "      <td>6479.419922</td>\n",
       "      <td>6479.410156</td>\n",
       "      <td>...</td>\n",
       "      <td>485.75000</td>\n",
       "      <td>486.0</td>\n",
       "      <td>486.000000</td>\n",
       "      <td>485.75000</td>\n",
       "      <td>26.994646</td>\n",
       "      <td>96.449997</td>\n",
       "      <td>96.570000</td>\n",
       "      <td>96.570000</td>\n",
       "      <td>96.500000</td>\n",
       "      <td>7.216067</td>\n",
       "    </tr>\n",
       "    <tr>\n",
       "      <th>4</th>\n",
       "      <td>1528968900</td>\n",
       "      <td>870.000000</td>\n",
       "      <td>870.000000</td>\n",
       "      <td>870.000000</td>\n",
       "      <td>870.000000</td>\n",
       "      <td>1.680500</td>\n",
       "      <td>6475.930176</td>\n",
       "      <td>6479.979980</td>\n",
       "      <td>6479.410156</td>\n",
       "      <td>6479.979980</td>\n",
       "      <td>...</td>\n",
       "      <td>485.75000</td>\n",
       "      <td>486.0</td>\n",
       "      <td>485.750000</td>\n",
       "      <td>486.00000</td>\n",
       "      <td>77.355759</td>\n",
       "      <td>96.279999</td>\n",
       "      <td>96.540001</td>\n",
       "      <td>96.500000</td>\n",
       "      <td>96.389999</td>\n",
       "      <td>524.539978</td>\n",
       "    </tr>\n",
       "  </tbody>\n",
       "</table>\n",
       "<p>5 rows × 21 columns</p>\n",
       "</div>"
      ],
      "text/plain": [
       "         time     bch_low    bch_high    bch_open   bch_close  bch_volume  \\\n",
       "0  1528968660  871.650024  871.729980  871.650024  871.719971    5.675361   \n",
       "1  1528968720  870.859985  871.719971  871.719971  870.859985   26.856577   \n",
       "2  1528968780  870.099976  871.090027  871.090027  870.099976    1.124300   \n",
       "3  1528968840  868.830017  870.950012  868.830017  870.789978    1.749862   \n",
       "4  1528968900  870.000000  870.000000  870.000000  870.000000    1.680500   \n",
       "\n",
       "       btc_low     btc_high     btc_open    btc_close     ...        eth_low  \\\n",
       "0  6489.549805  6489.560059  6489.560059  6489.549805     ...            NaN   \n",
       "1  6487.370117  6489.560059  6489.549805  6487.379883     ...      485.98999   \n",
       "2  6479.410156  6487.370117  6487.370117  6479.410156     ...      486.00000   \n",
       "3  6479.410156  6479.419922  6479.419922  6479.410156     ...      485.75000   \n",
       "4  6475.930176  6479.979980  6479.410156  6479.979980     ...      485.75000   \n",
       "\n",
       "   eth_high    eth_open  eth_close  eth_volume    ltc_low   ltc_high  \\\n",
       "0       NaN         NaN        NaN         NaN  96.580002  96.589996   \n",
       "1     486.5  486.019989  486.01001   26.019083  96.449997  96.669998   \n",
       "2     486.0  486.000000  486.00000    8.449400  96.470001  96.570000   \n",
       "3     486.0  486.000000  485.75000   26.994646  96.449997  96.570000   \n",
       "4     486.0  485.750000  486.00000   77.355759  96.279999  96.540001   \n",
       "\n",
       "    ltc_open  ltc_close  ltc_volume  \n",
       "0  96.589996  96.580002    9.647200  \n",
       "1  96.589996  96.660004  314.387024  \n",
       "2  96.570000  96.570000   77.129799  \n",
       "3  96.570000  96.500000    7.216067  \n",
       "4  96.500000  96.389999  524.539978  \n",
       "\n",
       "[5 rows x 21 columns]"
      ]
     },
     "execution_count": 9,
     "metadata": {
      "tags": []
     },
     "output_type": "execute_result"
    }
   ],
   "source": [
    "merged_df.head()"
   ]
  },
  {
   "cell_type": "code",
   "execution_count": 0,
   "metadata": {
    "colab": {},
    "colab_type": "code",
    "id": "hjx5X9_LEAfz"
   },
   "outputs": [],
   "source": [
    "# # fill null values forward first.\n",
    "merged_df = merged_df.fillna(method=\"ffill\")\n",
    "## drop any remaing nulls\n",
    "merged_df.dropna(inplace=True)"
   ]
  },
  {
   "cell_type": "code",
   "execution_count": 0,
   "metadata": {
    "colab": {},
    "colab_type": "code",
    "id": "gm6eVTSyGBWv"
   },
   "outputs": [],
   "source": [
    "# filter volume and close columns\n",
    "main_df = merged_df.filter(regex='volume|close|time')"
   ]
  },
  {
   "cell_type": "code",
   "execution_count": 0,
   "metadata": {
    "colab": {},
    "colab_type": "code",
    "id": "FR1Kfa-4dIF-"
   },
   "outputs": [],
   "source": [
    "with warnings.catch_warnings():\n",
    "  warnings.simplefilter(\"ignore\")\n",
    "  main_df.index = main_df.time\n",
    "  main_df.drop(\"time\", axis=1, inplace=True)"
   ]
  },
  {
   "cell_type": "code",
   "execution_count": 13,
   "metadata": {
    "colab": {
     "base_uri": "https://localhost:8080/",
     "height": 235
    },
    "colab_type": "code",
    "id": "8u9VW-J3HmQS",
    "outputId": "8b58ae20-f487-4bd5-a8f5-8141a985953c"
   },
   "outputs": [
    {
     "data": {
      "text/html": [
       "<div>\n",
       "<style scoped>\n",
       "    .dataframe tbody tr th:only-of-type {\n",
       "        vertical-align: middle;\n",
       "    }\n",
       "\n",
       "    .dataframe tbody tr th {\n",
       "        vertical-align: top;\n",
       "    }\n",
       "\n",
       "    .dataframe thead th {\n",
       "        text-align: right;\n",
       "    }\n",
       "</style>\n",
       "<table border=\"1\" class=\"dataframe\">\n",
       "  <thead>\n",
       "    <tr style=\"text-align: right;\">\n",
       "      <th></th>\n",
       "      <th>bch_close</th>\n",
       "      <th>bch_volume</th>\n",
       "      <th>btc_close</th>\n",
       "      <th>btc_volume</th>\n",
       "      <th>eth_close</th>\n",
       "      <th>eth_volume</th>\n",
       "      <th>ltc_close</th>\n",
       "      <th>ltc_volume</th>\n",
       "    </tr>\n",
       "    <tr>\n",
       "      <th>time</th>\n",
       "      <th></th>\n",
       "      <th></th>\n",
       "      <th></th>\n",
       "      <th></th>\n",
       "      <th></th>\n",
       "      <th></th>\n",
       "      <th></th>\n",
       "      <th></th>\n",
       "    </tr>\n",
       "  </thead>\n",
       "  <tbody>\n",
       "    <tr>\n",
       "      <th>1528968720</th>\n",
       "      <td>870.859985</td>\n",
       "      <td>26.856577</td>\n",
       "      <td>6487.379883</td>\n",
       "      <td>7.706374</td>\n",
       "      <td>486.01001</td>\n",
       "      <td>26.019083</td>\n",
       "      <td>96.660004</td>\n",
       "      <td>314.387024</td>\n",
       "    </tr>\n",
       "    <tr>\n",
       "      <th>1528968780</th>\n",
       "      <td>870.099976</td>\n",
       "      <td>1.124300</td>\n",
       "      <td>6479.410156</td>\n",
       "      <td>3.088252</td>\n",
       "      <td>486.00000</td>\n",
       "      <td>8.449400</td>\n",
       "      <td>96.570000</td>\n",
       "      <td>77.129799</td>\n",
       "    </tr>\n",
       "    <tr>\n",
       "      <th>1528968840</th>\n",
       "      <td>870.789978</td>\n",
       "      <td>1.749862</td>\n",
       "      <td>6479.410156</td>\n",
       "      <td>1.404100</td>\n",
       "      <td>485.75000</td>\n",
       "      <td>26.994646</td>\n",
       "      <td>96.500000</td>\n",
       "      <td>7.216067</td>\n",
       "    </tr>\n",
       "    <tr>\n",
       "      <th>1528968900</th>\n",
       "      <td>870.000000</td>\n",
       "      <td>1.680500</td>\n",
       "      <td>6479.979980</td>\n",
       "      <td>0.753000</td>\n",
       "      <td>486.00000</td>\n",
       "      <td>77.355759</td>\n",
       "      <td>96.389999</td>\n",
       "      <td>524.539978</td>\n",
       "    </tr>\n",
       "    <tr>\n",
       "      <th>1528968960</th>\n",
       "      <td>869.989990</td>\n",
       "      <td>1.669014</td>\n",
       "      <td>6480.000000</td>\n",
       "      <td>1.490900</td>\n",
       "      <td>486.00000</td>\n",
       "      <td>7.503300</td>\n",
       "      <td>96.519997</td>\n",
       "      <td>16.991997</td>\n",
       "    </tr>\n",
       "  </tbody>\n",
       "</table>\n",
       "</div>"
      ],
      "text/plain": [
       "             bch_close  bch_volume    btc_close  btc_volume  eth_close  \\\n",
       "time                                                                     \n",
       "1528968720  870.859985   26.856577  6487.379883    7.706374  486.01001   \n",
       "1528968780  870.099976    1.124300  6479.410156    3.088252  486.00000   \n",
       "1528968840  870.789978    1.749862  6479.410156    1.404100  485.75000   \n",
       "1528968900  870.000000    1.680500  6479.979980    0.753000  486.00000   \n",
       "1528968960  869.989990    1.669014  6480.000000    1.490900  486.00000   \n",
       "\n",
       "            eth_volume  ltc_close  ltc_volume  \n",
       "time                                           \n",
       "1528968720   26.019083  96.660004  314.387024  \n",
       "1528968780    8.449400  96.570000   77.129799  \n",
       "1528968840   26.994646  96.500000    7.216067  \n",
       "1528968900   77.355759  96.389999  524.539978  \n",
       "1528968960    7.503300  96.519997   16.991997  "
      ]
     },
     "execution_count": 13,
     "metadata": {
      "tags": []
     },
     "output_type": "execute_result"
    }
   ],
   "source": [
    "main_df.head()"
   ]
  },
  {
   "cell_type": "code",
   "execution_count": 14,
   "metadata": {
    "colab": {
     "base_uri": "https://localhost:8080/",
     "height": 34
    },
    "colab_type": "code",
    "id": "Ccz_hCuIKTg2",
    "outputId": "91c0a0f0-9a42-4204-a030-900fa31e2b2b"
   },
   "outputs": [
    {
     "data": {
      "text/plain": [
       "(92224, 8)"
      ]
     },
     "execution_count": 14,
     "metadata": {
      "tags": []
     },
     "output_type": "execute_result"
    }
   ],
   "source": [
    "main_df.shape"
   ]
  },
  {
   "cell_type": "code",
   "execution_count": 0,
   "metadata": {
    "colab": {},
    "colab_type": "code",
    "id": "OlQol4abNf3R"
   },
   "outputs": [],
   "source": [
    "with warnings.catch_warnings():\n",
    "  warnings.simplefilter(\"ignore\")\n",
    "  main_df.loc[:,'future'] = main_df[f\"{RATIO_TO_PREDICT}_close\"] \\\n",
    "                          .shift(-FUTURE_PERIOD_PREDICT)"
   ]
  },
  {
   "cell_type": "code",
   "execution_count": 16,
   "metadata": {
    "colab": {
     "base_uri": "https://localhost:8080/",
     "height": 235
    },
    "colab_type": "code",
    "id": "2bJebc5-SME8",
    "outputId": "cb365809-2400-4767-ad0f-cf7f17fed71d"
   },
   "outputs": [
    {
     "data": {
      "text/html": [
       "<div>\n",
       "<style scoped>\n",
       "    .dataframe tbody tr th:only-of-type {\n",
       "        vertical-align: middle;\n",
       "    }\n",
       "\n",
       "    .dataframe tbody tr th {\n",
       "        vertical-align: top;\n",
       "    }\n",
       "\n",
       "    .dataframe thead th {\n",
       "        text-align: right;\n",
       "    }\n",
       "</style>\n",
       "<table border=\"1\" class=\"dataframe\">\n",
       "  <thead>\n",
       "    <tr style=\"text-align: right;\">\n",
       "      <th></th>\n",
       "      <th>bch_close</th>\n",
       "      <th>bch_volume</th>\n",
       "      <th>btc_close</th>\n",
       "      <th>btc_volume</th>\n",
       "      <th>eth_close</th>\n",
       "      <th>eth_volume</th>\n",
       "      <th>ltc_close</th>\n",
       "      <th>ltc_volume</th>\n",
       "      <th>future</th>\n",
       "    </tr>\n",
       "    <tr>\n",
       "      <th>time</th>\n",
       "      <th></th>\n",
       "      <th></th>\n",
       "      <th></th>\n",
       "      <th></th>\n",
       "      <th></th>\n",
       "      <th></th>\n",
       "      <th></th>\n",
       "      <th></th>\n",
       "      <th></th>\n",
       "    </tr>\n",
       "  </thead>\n",
       "  <tbody>\n",
       "    <tr>\n",
       "      <th>1528968720</th>\n",
       "      <td>870.859985</td>\n",
       "      <td>26.856577</td>\n",
       "      <td>6487.379883</td>\n",
       "      <td>7.706374</td>\n",
       "      <td>486.01001</td>\n",
       "      <td>26.019083</td>\n",
       "      <td>96.660004</td>\n",
       "      <td>314.387024</td>\n",
       "      <td>96.389999</td>\n",
       "    </tr>\n",
       "    <tr>\n",
       "      <th>1528968780</th>\n",
       "      <td>870.099976</td>\n",
       "      <td>1.124300</td>\n",
       "      <td>6479.410156</td>\n",
       "      <td>3.088252</td>\n",
       "      <td>486.00000</td>\n",
       "      <td>8.449400</td>\n",
       "      <td>96.570000</td>\n",
       "      <td>77.129799</td>\n",
       "      <td>96.519997</td>\n",
       "    </tr>\n",
       "    <tr>\n",
       "      <th>1528968840</th>\n",
       "      <td>870.789978</td>\n",
       "      <td>1.749862</td>\n",
       "      <td>6479.410156</td>\n",
       "      <td>1.404100</td>\n",
       "      <td>485.75000</td>\n",
       "      <td>26.994646</td>\n",
       "      <td>96.500000</td>\n",
       "      <td>7.216067</td>\n",
       "      <td>96.440002</td>\n",
       "    </tr>\n",
       "    <tr>\n",
       "      <th>1528968900</th>\n",
       "      <td>870.000000</td>\n",
       "      <td>1.680500</td>\n",
       "      <td>6479.979980</td>\n",
       "      <td>0.753000</td>\n",
       "      <td>486.00000</td>\n",
       "      <td>77.355759</td>\n",
       "      <td>96.389999</td>\n",
       "      <td>524.539978</td>\n",
       "      <td>96.470001</td>\n",
       "    </tr>\n",
       "    <tr>\n",
       "      <th>1528968960</th>\n",
       "      <td>869.989990</td>\n",
       "      <td>1.669014</td>\n",
       "      <td>6480.000000</td>\n",
       "      <td>1.490900</td>\n",
       "      <td>486.00000</td>\n",
       "      <td>7.503300</td>\n",
       "      <td>96.519997</td>\n",
       "      <td>16.991997</td>\n",
       "      <td>96.400002</td>\n",
       "    </tr>\n",
       "  </tbody>\n",
       "</table>\n",
       "</div>"
      ],
      "text/plain": [
       "             bch_close  bch_volume    btc_close  btc_volume  eth_close  \\\n",
       "time                                                                     \n",
       "1528968720  870.859985   26.856577  6487.379883    7.706374  486.01001   \n",
       "1528968780  870.099976    1.124300  6479.410156    3.088252  486.00000   \n",
       "1528968840  870.789978    1.749862  6479.410156    1.404100  485.75000   \n",
       "1528968900  870.000000    1.680500  6479.979980    0.753000  486.00000   \n",
       "1528968960  869.989990    1.669014  6480.000000    1.490900  486.00000   \n",
       "\n",
       "            eth_volume  ltc_close  ltc_volume     future  \n",
       "time                                                      \n",
       "1528968720   26.019083  96.660004  314.387024  96.389999  \n",
       "1528968780    8.449400  96.570000   77.129799  96.519997  \n",
       "1528968840   26.994646  96.500000    7.216067  96.440002  \n",
       "1528968900   77.355759  96.389999  524.539978  96.470001  \n",
       "1528968960    7.503300  96.519997   16.991997  96.400002  "
      ]
     },
     "execution_count": 16,
     "metadata": {
      "tags": []
     },
     "output_type": "execute_result"
    }
   ],
   "source": [
    "main_df.head()"
   ]
  },
  {
   "cell_type": "code",
   "execution_count": 0,
   "metadata": {
    "colab": {},
    "colab_type": "code",
    "id": "hocHhRexSTeW"
   },
   "outputs": [],
   "source": [
    "with warnings.catch_warnings():\n",
    "  warnings.simplefilter(\"ignore\")\n",
    "  main_df['target'] = list(map(\n",
    "                      classify, \n",
    "                      main_df[f\"{RATIO_TO_PREDICT}_close\"], \n",
    "                      main_df[\"future\"]))"
   ]
  },
  {
   "cell_type": "code",
   "execution_count": 18,
   "metadata": {
    "colab": {
     "base_uri": "https://localhost:8080/",
     "height": 266
    },
    "colab_type": "code",
    "id": "5sJfVFb2VXA_",
    "outputId": "385b126d-55e4-4c0b-f8d0-41e3f5d82de3"
   },
   "outputs": [
    {
     "data": {
      "text/html": [
       "<div>\n",
       "<style scoped>\n",
       "    .dataframe tbody tr th:only-of-type {\n",
       "        vertical-align: middle;\n",
       "    }\n",
       "\n",
       "    .dataframe tbody tr th {\n",
       "        vertical-align: top;\n",
       "    }\n",
       "\n",
       "    .dataframe thead th {\n",
       "        text-align: right;\n",
       "    }\n",
       "</style>\n",
       "<table border=\"1\" class=\"dataframe\">\n",
       "  <thead>\n",
       "    <tr style=\"text-align: right;\">\n",
       "      <th></th>\n",
       "      <th>ltc_close</th>\n",
       "      <th>future</th>\n",
       "      <th>target</th>\n",
       "    </tr>\n",
       "    <tr>\n",
       "      <th>time</th>\n",
       "      <th></th>\n",
       "      <th></th>\n",
       "      <th></th>\n",
       "    </tr>\n",
       "  </thead>\n",
       "  <tbody>\n",
       "    <tr>\n",
       "      <th>1528968720</th>\n",
       "      <td>96.660004</td>\n",
       "      <td>96.389999</td>\n",
       "      <td>0</td>\n",
       "    </tr>\n",
       "    <tr>\n",
       "      <th>1528968780</th>\n",
       "      <td>96.570000</td>\n",
       "      <td>96.519997</td>\n",
       "      <td>0</td>\n",
       "    </tr>\n",
       "    <tr>\n",
       "      <th>1528968840</th>\n",
       "      <td>96.500000</td>\n",
       "      <td>96.440002</td>\n",
       "      <td>0</td>\n",
       "    </tr>\n",
       "    <tr>\n",
       "      <th>1528968900</th>\n",
       "      <td>96.389999</td>\n",
       "      <td>96.470001</td>\n",
       "      <td>1</td>\n",
       "    </tr>\n",
       "    <tr>\n",
       "      <th>1528968960</th>\n",
       "      <td>96.519997</td>\n",
       "      <td>96.400002</td>\n",
       "      <td>0</td>\n",
       "    </tr>\n",
       "    <tr>\n",
       "      <th>1528969020</th>\n",
       "      <td>96.440002</td>\n",
       "      <td>96.400002</td>\n",
       "      <td>0</td>\n",
       "    </tr>\n",
       "  </tbody>\n",
       "</table>\n",
       "</div>"
      ],
      "text/plain": [
       "            ltc_close     future  target\n",
       "time                                    \n",
       "1528968720  96.660004  96.389999       0\n",
       "1528968780  96.570000  96.519997       0\n",
       "1528968840  96.500000  96.440002       0\n",
       "1528968900  96.389999  96.470001       1\n",
       "1528968960  96.519997  96.400002       0\n",
       "1528969020  96.440002  96.400002       0"
      ]
     },
     "execution_count": 18,
     "metadata": {
      "tags": []
     },
     "output_type": "execute_result"
    }
   ],
   "source": [
    "# see the result\n",
    "main_df[[\"ltc_close\", \"future\", \"target\"]].head(6)"
   ]
  },
  {
   "cell_type": "code",
   "execution_count": 19,
   "metadata": {
    "colab": {
     "base_uri": "https://localhost:8080/",
     "height": 235
    },
    "colab_type": "code",
    "id": "op8EvTCCWNjJ",
    "outputId": "e2be58b1-5e8f-4c15-a2b2-2f4794bfafe9"
   },
   "outputs": [
    {
     "data": {
      "text/html": [
       "<div>\n",
       "<style scoped>\n",
       "    .dataframe tbody tr th:only-of-type {\n",
       "        vertical-align: middle;\n",
       "    }\n",
       "\n",
       "    .dataframe tbody tr th {\n",
       "        vertical-align: top;\n",
       "    }\n",
       "\n",
       "    .dataframe thead th {\n",
       "        text-align: right;\n",
       "    }\n",
       "</style>\n",
       "<table border=\"1\" class=\"dataframe\">\n",
       "  <thead>\n",
       "    <tr style=\"text-align: right;\">\n",
       "      <th></th>\n",
       "      <th>bch_close</th>\n",
       "      <th>bch_volume</th>\n",
       "      <th>btc_close</th>\n",
       "      <th>btc_volume</th>\n",
       "      <th>eth_close</th>\n",
       "      <th>eth_volume</th>\n",
       "      <th>ltc_close</th>\n",
       "      <th>ltc_volume</th>\n",
       "      <th>future</th>\n",
       "      <th>target</th>\n",
       "    </tr>\n",
       "    <tr>\n",
       "      <th>time</th>\n",
       "      <th></th>\n",
       "      <th></th>\n",
       "      <th></th>\n",
       "      <th></th>\n",
       "      <th></th>\n",
       "      <th></th>\n",
       "      <th></th>\n",
       "      <th></th>\n",
       "      <th></th>\n",
       "      <th></th>\n",
       "    </tr>\n",
       "  </thead>\n",
       "  <tbody>\n",
       "    <tr>\n",
       "      <th>1535215020</th>\n",
       "      <td>531.479980</td>\n",
       "      <td>0.016868</td>\n",
       "      <td>6714.52002</td>\n",
       "      <td>1.002652</td>\n",
       "      <td>279.359985</td>\n",
       "      <td>8.790519</td>\n",
       "      <td>58.009998</td>\n",
       "      <td>7.301921</td>\n",
       "      <td>58.080002</td>\n",
       "      <td>1</td>\n",
       "    </tr>\n",
       "    <tr>\n",
       "      <th>1535215080</th>\n",
       "      <td>531.469971</td>\n",
       "      <td>0.013854</td>\n",
       "      <td>6714.52002</td>\n",
       "      <td>1.021925</td>\n",
       "      <td>279.369995</td>\n",
       "      <td>1.311763</td>\n",
       "      <td>58.020000</td>\n",
       "      <td>23.802017</td>\n",
       "      <td>58.090000</td>\n",
       "      <td>1</td>\n",
       "    </tr>\n",
       "    <tr>\n",
       "      <th>1535215140</th>\n",
       "      <td>531.479980</td>\n",
       "      <td>0.016900</td>\n",
       "      <td>6715.00000</td>\n",
       "      <td>3.645508</td>\n",
       "      <td>279.660004</td>\n",
       "      <td>11.752819</td>\n",
       "      <td>58.020000</td>\n",
       "      <td>6.953497</td>\n",
       "      <td>NaN</td>\n",
       "      <td>0</td>\n",
       "    </tr>\n",
       "    <tr>\n",
       "      <th>1535215200</th>\n",
       "      <td>531.479980</td>\n",
       "      <td>0.299520</td>\n",
       "      <td>6715.00000</td>\n",
       "      <td>0.513560</td>\n",
       "      <td>279.649994</td>\n",
       "      <td>8.351710</td>\n",
       "      <td>58.080002</td>\n",
       "      <td>202.403183</td>\n",
       "      <td>NaN</td>\n",
       "      <td>0</td>\n",
       "    </tr>\n",
       "    <tr>\n",
       "      <th>1535215260</th>\n",
       "      <td>531.630005</td>\n",
       "      <td>3.528913</td>\n",
       "      <td>6715.00000</td>\n",
       "      <td>0.513560</td>\n",
       "      <td>279.649994</td>\n",
       "      <td>10.511729</td>\n",
       "      <td>58.090000</td>\n",
       "      <td>160.602554</td>\n",
       "      <td>NaN</td>\n",
       "      <td>0</td>\n",
       "    </tr>\n",
       "  </tbody>\n",
       "</table>\n",
       "</div>"
      ],
      "text/plain": [
       "             bch_close  bch_volume   btc_close  btc_volume   eth_close  \\\n",
       "time                                                                     \n",
       "1535215020  531.479980    0.016868  6714.52002    1.002652  279.359985   \n",
       "1535215080  531.469971    0.013854  6714.52002    1.021925  279.369995   \n",
       "1535215140  531.479980    0.016900  6715.00000    3.645508  279.660004   \n",
       "1535215200  531.479980    0.299520  6715.00000    0.513560  279.649994   \n",
       "1535215260  531.630005    3.528913  6715.00000    0.513560  279.649994   \n",
       "\n",
       "            eth_volume  ltc_close  ltc_volume     future  target  \n",
       "time                                                              \n",
       "1535215020    8.790519  58.009998    7.301921  58.080002       1  \n",
       "1535215080    1.311763  58.020000   23.802017  58.090000       1  \n",
       "1535215140   11.752819  58.020000    6.953497        NaN       0  \n",
       "1535215200    8.351710  58.080002  202.403183        NaN       0  \n",
       "1535215260   10.511729  58.090000  160.602554        NaN       0  "
      ]
     },
     "execution_count": 19,
     "metadata": {
      "tags": []
     },
     "output_type": "execute_result"
    }
   ],
   "source": [
    "# there are nulls on the buttom\n",
    "main_df.tail()"
   ]
  },
  {
   "cell_type": "code",
   "execution_count": 0,
   "metadata": {
    "colab": {},
    "colab_type": "code",
    "id": "3OF_oyiOXMY1"
   },
   "outputs": [],
   "source": [
    "# sort them(they may be already sorted)\n",
    "times = sorted(main_df.index.values)\n",
    "# the timestamp for 5% of the data\n",
    "# 95% of the data happened before this time\n",
    "last_5pct = times[-int(0.05*len(times))]"
   ]
  },
  {
   "cell_type": "code",
   "execution_count": 21,
   "metadata": {
    "colab": {
     "base_uri": "https://localhost:8080/",
     "height": 34
    },
    "colab_type": "code",
    "id": "RaGnKZbzcVWA",
    "outputId": "ecb3e50a-f5d2-42e0-93de-78422ebfc6ba"
   },
   "outputs": [
    {
     "data": {
      "text/plain": [
       "1534879920"
      ]
     },
     "execution_count": 21,
     "metadata": {
      "tags": []
     },
     "output_type": "execute_result"
    }
   ],
   "source": [
    "last_5pct"
   ]
  },
  {
   "cell_type": "code",
   "execution_count": 0,
   "metadata": {
    "colab": {},
    "colab_type": "code",
    "id": "6ZIkQ6gdcZXS"
   },
   "outputs": [],
   "source": [
    "validation_main_df_sp = main_df[(main_df.index >= last_5pct)]"
   ]
  },
  {
   "cell_type": "code",
   "execution_count": 0,
   "metadata": {
    "colab": {},
    "colab_type": "code",
    "id": "1Zjo5x4mljqf"
   },
   "outputs": [],
   "source": [
    "main_df_sp = main_df[(main_df.index < last_5pct)]"
   ]
  },
  {
   "cell_type": "markdown",
   "metadata": {
    "colab_type": "text",
    "id": "mREE9pzxsLJu"
   },
   "source": []
  },
  {
   "cell_type": "code",
   "execution_count": 24,
   "metadata": {
    "colab": {
     "base_uri": "https://localhost:8080/",
     "height": 235
    },
    "colab_type": "code",
    "id": "E82Fec7rpR92",
    "outputId": "6bdc494c-b60e-4f91-b4fb-685a3c76b602"
   },
   "outputs": [
    {
     "data": {
      "text/html": [
       "<div>\n",
       "<style scoped>\n",
       "    .dataframe tbody tr th:only-of-type {\n",
       "        vertical-align: middle;\n",
       "    }\n",
       "\n",
       "    .dataframe tbody tr th {\n",
       "        vertical-align: top;\n",
       "    }\n",
       "\n",
       "    .dataframe thead th {\n",
       "        text-align: right;\n",
       "    }\n",
       "</style>\n",
       "<table border=\"1\" class=\"dataframe\">\n",
       "  <thead>\n",
       "    <tr style=\"text-align: right;\">\n",
       "      <th></th>\n",
       "      <th>bch_close</th>\n",
       "      <th>bch_volume</th>\n",
       "      <th>btc_close</th>\n",
       "      <th>btc_volume</th>\n",
       "      <th>eth_close</th>\n",
       "      <th>eth_volume</th>\n",
       "      <th>ltc_close</th>\n",
       "      <th>ltc_volume</th>\n",
       "      <th>future</th>\n",
       "      <th>target</th>\n",
       "    </tr>\n",
       "    <tr>\n",
       "      <th>time</th>\n",
       "      <th></th>\n",
       "      <th></th>\n",
       "      <th></th>\n",
       "      <th></th>\n",
       "      <th></th>\n",
       "      <th></th>\n",
       "      <th></th>\n",
       "      <th></th>\n",
       "      <th></th>\n",
       "      <th></th>\n",
       "    </tr>\n",
       "  </thead>\n",
       "  <tbody>\n",
       "    <tr>\n",
       "      <th>1528968720</th>\n",
       "      <td>870.859985</td>\n",
       "      <td>26.856577</td>\n",
       "      <td>6487.379883</td>\n",
       "      <td>7.706374</td>\n",
       "      <td>486.01001</td>\n",
       "      <td>26.019083</td>\n",
       "      <td>96.660004</td>\n",
       "      <td>314.387024</td>\n",
       "      <td>96.389999</td>\n",
       "      <td>0</td>\n",
       "    </tr>\n",
       "    <tr>\n",
       "      <th>1528968780</th>\n",
       "      <td>870.099976</td>\n",
       "      <td>1.124300</td>\n",
       "      <td>6479.410156</td>\n",
       "      <td>3.088252</td>\n",
       "      <td>486.00000</td>\n",
       "      <td>8.449400</td>\n",
       "      <td>96.570000</td>\n",
       "      <td>77.129799</td>\n",
       "      <td>96.519997</td>\n",
       "      <td>0</td>\n",
       "    </tr>\n",
       "    <tr>\n",
       "      <th>1528968840</th>\n",
       "      <td>870.789978</td>\n",
       "      <td>1.749862</td>\n",
       "      <td>6479.410156</td>\n",
       "      <td>1.404100</td>\n",
       "      <td>485.75000</td>\n",
       "      <td>26.994646</td>\n",
       "      <td>96.500000</td>\n",
       "      <td>7.216067</td>\n",
       "      <td>96.440002</td>\n",
       "      <td>0</td>\n",
       "    </tr>\n",
       "    <tr>\n",
       "      <th>1528968900</th>\n",
       "      <td>870.000000</td>\n",
       "      <td>1.680500</td>\n",
       "      <td>6479.979980</td>\n",
       "      <td>0.753000</td>\n",
       "      <td>486.00000</td>\n",
       "      <td>77.355759</td>\n",
       "      <td>96.389999</td>\n",
       "      <td>524.539978</td>\n",
       "      <td>96.470001</td>\n",
       "      <td>1</td>\n",
       "    </tr>\n",
       "    <tr>\n",
       "      <th>1528968960</th>\n",
       "      <td>869.989990</td>\n",
       "      <td>1.669014</td>\n",
       "      <td>6480.000000</td>\n",
       "      <td>1.490900</td>\n",
       "      <td>486.00000</td>\n",
       "      <td>7.503300</td>\n",
       "      <td>96.519997</td>\n",
       "      <td>16.991997</td>\n",
       "      <td>96.400002</td>\n",
       "      <td>0</td>\n",
       "    </tr>\n",
       "  </tbody>\n",
       "</table>\n",
       "</div>"
      ],
      "text/plain": [
       "             bch_close  bch_volume    btc_close  btc_volume  eth_close  \\\n",
       "time                                                                     \n",
       "1528968720  870.859985   26.856577  6487.379883    7.706374  486.01001   \n",
       "1528968780  870.099976    1.124300  6479.410156    3.088252  486.00000   \n",
       "1528968840  870.789978    1.749862  6479.410156    1.404100  485.75000   \n",
       "1528968900  870.000000    1.680500  6479.979980    0.753000  486.00000   \n",
       "1528968960  869.989990    1.669014  6480.000000    1.490900  486.00000   \n",
       "\n",
       "            eth_volume  ltc_close  ltc_volume     future  target  \n",
       "time                                                              \n",
       "1528968720   26.019083  96.660004  314.387024  96.389999       0  \n",
       "1528968780    8.449400  96.570000   77.129799  96.519997       0  \n",
       "1528968840   26.994646  96.500000    7.216067  96.440002       0  \n",
       "1528968900   77.355759  96.389999  524.539978  96.470001       1  \n",
       "1528968960    7.503300  96.519997   16.991997  96.400002       0  "
      ]
     },
     "execution_count": 24,
     "metadata": {
      "tags": []
     },
     "output_type": "execute_result"
    }
   ],
   "source": [
    "main_df_sp.head()"
   ]
  },
  {
   "cell_type": "code",
   "execution_count": 0,
   "metadata": {
    "colab": {},
    "colab_type": "code",
    "id": "5H44Bj2N3Wpu"
   },
   "outputs": [],
   "source": [
    "train_x, train_y = preprocess_df(main_df_sp)\n",
    "validation_x, validation_y = preprocess_df(validation_main_df_sp)"
   ]
  },
  {
   "cell_type": "code",
   "execution_count": 26,
   "metadata": {
    "colab": {
     "base_uri": "https://localhost:8080/",
     "height": 34
    },
    "colab_type": "code",
    "id": "fIfpq2L74kHg",
    "outputId": "8da7a256-80c1-47fd-dbd3-0726cf8221fd"
   },
   "outputs": [
    {
     "data": {
      "text/plain": [
       "(75008, 60, 8)"
      ]
     },
     "execution_count": 26,
     "metadata": {
      "tags": []
     },
     "output_type": "execute_result"
    }
   ],
   "source": [
    "train_x.shape"
   ]
  },
  {
   "cell_type": "code",
   "execution_count": 27,
   "metadata": {
    "colab": {
     "base_uri": "https://localhost:8080/",
     "height": 34
    },
    "colab_type": "code",
    "id": "uBsqjLH7EaEt",
    "outputId": "25bc6a40-6479-4e1d-e949-8f4cf034966e"
   },
   "outputs": [
    {
     "data": {
      "text/plain": [
       "75008"
      ]
     },
     "execution_count": 27,
     "metadata": {
      "tags": []
     },
     "output_type": "execute_result"
    }
   ],
   "source": [
    "len(train_y)"
   ]
  },
  {
   "cell_type": "code",
   "execution_count": 33,
   "metadata": {
    "colab": {
     "base_uri": "https://localhost:8080/",
     "height": 299
    },
    "colab_type": "code",
    "id": "_5L_uH-dwFI-",
    "outputId": "cb8c1570-ae93-40b4-d1cc-0129af3165f4"
   },
   "outputs": [
    {
     "ename": "TypeError",
     "evalue": "ignored",
     "output_type": "error",
     "traceback": [
      "\u001b[0;31m---------------------------------------------------------------------------\u001b[0m",
      "\u001b[0;31mTypeError\u001b[0m                                 Traceback (most recent call last)",
      "\u001b[0;32m<ipython-input-33-721bfcc076d5>\u001b[0m in \u001b[0;36m<module>\u001b[0;34m()\u001b[0m\n\u001b[1;32m      1\u001b[0m \u001b[0;32mfrom\u001b[0m \u001b[0mtensorboardcolab\u001b[0m \u001b[0;32mimport\u001b[0m \u001b[0mTensorBoardColab\u001b[0m\u001b[0;34m,\u001b[0m \u001b[0mTensorBoardColabCallback\u001b[0m\u001b[0;34m\u001b[0m\u001b[0;34m\u001b[0m\u001b[0m\n\u001b[0;32m----> 2\u001b[0;31m \u001b[0mtbc\u001b[0m\u001b[0;34m=\u001b[0m\u001b[0mTensorBoardColab\u001b[0m\u001b[0;34m(\u001b[0m\u001b[0;34m'/content/drive/My Drive/logs'\u001b[0m\u001b[0;34m)\u001b[0m\u001b[0;34m\u001b[0m\u001b[0;34m\u001b[0m\u001b[0m\n\u001b[0m",
      "\u001b[0;32m/usr/local/lib/python3.6/dist-packages/tensorboardcolab/core.py\u001b[0m in \u001b[0;36m__init__\u001b[0;34m(self, port, graph_path, startup_waiting_time)\u001b[0m\n\u001b[1;32m     18\u001b[0m         \u001b[0msleep_time\u001b[0m \u001b[0;34m=\u001b[0m \u001b[0mstartup_waiting_time\u001b[0m \u001b[0;34m/\u001b[0m \u001b[0;36m3.0\u001b[0m\u001b[0;34m\u001b[0m\u001b[0;34m\u001b[0m\u001b[0m\n\u001b[1;32m     19\u001b[0m         \u001b[0;32mwhile\u001b[0m \u001b[0;32mnot\u001b[0m \u001b[0msetup_passed\u001b[0m\u001b[0;34m:\u001b[0m\u001b[0;34m\u001b[0m\u001b[0;34m\u001b[0m\u001b[0m\n\u001b[0;32m---> 20\u001b[0;31m             \u001b[0mget_ipython\u001b[0m\u001b[0;34m(\u001b[0m\u001b[0;34m)\u001b[0m\u001b[0;34m.\u001b[0m\u001b[0msystem_raw\u001b[0m\u001b[0;34m(\u001b[0m\u001b[0;34m'kill -9 $(sudo lsof -t -i:%d)'\u001b[0m \u001b[0;34m%\u001b[0m \u001b[0mport\u001b[0m\u001b[0;34m)\u001b[0m\u001b[0;34m\u001b[0m\u001b[0;34m\u001b[0m\u001b[0m\n\u001b[0m\u001b[1;32m     21\u001b[0m             \u001b[0mget_ipython\u001b[0m\u001b[0;34m(\u001b[0m\u001b[0;34m)\u001b[0m\u001b[0;34m.\u001b[0m\u001b[0msystem_raw\u001b[0m\u001b[0;34m(\u001b[0m\u001b[0;34m'rm -Rf '\u001b[0m \u001b[0;34m+\u001b[0m \u001b[0mgraph_path\u001b[0m\u001b[0;34m)\u001b[0m\u001b[0;34m\u001b[0m\u001b[0;34m\u001b[0m\u001b[0m\n\u001b[1;32m     22\u001b[0m             \u001b[0mprint\u001b[0m\u001b[0;34m(\u001b[0m\u001b[0;34m'Wait for %d seconds...'\u001b[0m \u001b[0;34m%\u001b[0m \u001b[0mstartup_waiting_time\u001b[0m\u001b[0;34m)\u001b[0m\u001b[0;34m\u001b[0m\u001b[0;34m\u001b[0m\u001b[0m\n",
      "\u001b[0;31mTypeError\u001b[0m: %d format: a number is required, not str"
     ]
    }
   ],
   "source": [
    "from tensorboardcolab import TensorBoardColab, TensorBoardColabCallback\n",
    "tbc=TensorBoardColab('/content/drive/My Drive/logs')"
   ]
  },
  {
   "cell_type": "code",
   "execution_count": 29,
   "metadata": {
    "colab": {
     "base_uri": "https://localhost:8080/",
     "height": 795
    },
    "colab_type": "code",
    "id": "2rgFjze0Ektk",
    "outputId": "fbebdf0d-9db5-4c42-df9d-25bd23ad9dbe"
   },
   "outputs": [
    {
     "name": "stdout",
     "output_type": "stream",
     "text": [
      "WARNING:tensorflow:From /usr/local/lib/python3.6/dist-packages/tensorflow/python/ops/resource_variable_ops.py:435: colocate_with (from tensorflow.python.framework.ops) is deprecated and will be removed in a future version.\n",
      "Instructions for updating:\n",
      "Colocations handled automatically by placer.\n",
      "WARNING:tensorflow:From /usr/local/lib/python3.6/dist-packages/tensorflow/python/keras/layers/core.py:143: calling dropout (from tensorflow.python.ops.nn_ops) with keep_prob is deprecated and will be removed in a future version.\n",
      "Instructions for updating:\n",
      "Please use `rate` instead of `keep_prob`. Rate should be set to `rate = 1 - keep_prob`.\n",
      "Train on 75008 samples, validate on 3810 samples\n",
      "WARNING:tensorflow:From /usr/local/lib/python3.6/dist-packages/tensorflow/python/ops/math_ops.py:3066: to_int32 (from tensorflow.python.ops.math_ops) is deprecated and will be removed in a future version.\n",
      "Instructions for updating:\n",
      "Use tf.cast instead.\n",
      "Epoch 1/10\n"
     ]
    },
    {
     "ename": "AttributeError",
     "evalue": "ignored",
     "output_type": "error",
     "traceback": [
      "\u001b[0;31m---------------------------------------------------------------------------\u001b[0m",
      "\u001b[0;31mAttributeError\u001b[0m                            Traceback (most recent call last)",
      "\u001b[0;32m<ipython-input-29-92bcf5af804e>\u001b[0m in \u001b[0;36m<module>\u001b[0;34m()\u001b[0m\n\u001b[1;32m     46\u001b[0m     \u001b[0mvalidation_data\u001b[0m\u001b[0;34m=\u001b[0m\u001b[0;34m(\u001b[0m\u001b[0mvalidation_x\u001b[0m\u001b[0;34m,\u001b[0m \u001b[0mvalidation_y\u001b[0m\u001b[0;34m)\u001b[0m\u001b[0;34m,\u001b[0m\u001b[0;34m\u001b[0m\u001b[0;34m\u001b[0m\u001b[0m\n\u001b[1;32m     47\u001b[0m \u001b[0;31m#callbacks=[tensorboard, checkpoint])\u001b[0m\u001b[0;34m\u001b[0m\u001b[0;34m\u001b[0m\u001b[0;34m\u001b[0m\u001b[0m\n\u001b[0;32m---> 48\u001b[0;31m     callbacks=[TensorBoardColabCallback(tbc)])\n\u001b[0m\u001b[1;32m     49\u001b[0m \u001b[0;34m\u001b[0m\u001b[0m\n\u001b[1;32m     50\u001b[0m \u001b[0;31m# Score model\u001b[0m\u001b[0;34m\u001b[0m\u001b[0;34m\u001b[0m\u001b[0;34m\u001b[0m\u001b[0m\n",
      "\u001b[0;32m/usr/local/lib/python3.6/dist-packages/tensorflow/python/keras/engine/training.py\u001b[0m in \u001b[0;36mfit\u001b[0;34m(self, x, y, batch_size, epochs, verbose, callbacks, validation_split, validation_data, shuffle, class_weight, sample_weight, initial_epoch, steps_per_epoch, validation_steps, max_queue_size, workers, use_multiprocessing, **kwargs)\u001b[0m\n\u001b[1;32m    878\u001b[0m           \u001b[0minitial_epoch\u001b[0m\u001b[0;34m=\u001b[0m\u001b[0minitial_epoch\u001b[0m\u001b[0;34m,\u001b[0m\u001b[0;34m\u001b[0m\u001b[0;34m\u001b[0m\u001b[0m\n\u001b[1;32m    879\u001b[0m           \u001b[0msteps_per_epoch\u001b[0m\u001b[0;34m=\u001b[0m\u001b[0msteps_per_epoch\u001b[0m\u001b[0;34m,\u001b[0m\u001b[0;34m\u001b[0m\u001b[0;34m\u001b[0m\u001b[0m\n\u001b[0;32m--> 880\u001b[0;31m           validation_steps=validation_steps)\n\u001b[0m\u001b[1;32m    881\u001b[0m \u001b[0;34m\u001b[0m\u001b[0m\n\u001b[1;32m    882\u001b[0m   def evaluate(self,\n",
      "\u001b[0;32m/usr/local/lib/python3.6/dist-packages/tensorflow/python/keras/engine/training_arrays.py\u001b[0m in \u001b[0;36mmodel_iteration\u001b[0;34m(model, inputs, targets, sample_weights, batch_size, epochs, verbose, callbacks, val_inputs, val_targets, val_sample_weights, shuffle, initial_epoch, steps_per_epoch, validation_steps, mode, validation_in_fit, **kwargs)\u001b[0m\n\u001b[1;32m    323\u001b[0m         \u001b[0;31m# Callbacks batch_begin.\u001b[0m\u001b[0;34m\u001b[0m\u001b[0;34m\u001b[0m\u001b[0;34m\u001b[0m\u001b[0m\n\u001b[1;32m    324\u001b[0m         \u001b[0mbatch_logs\u001b[0m \u001b[0;34m=\u001b[0m \u001b[0;34m{\u001b[0m\u001b[0;34m'batch'\u001b[0m\u001b[0;34m:\u001b[0m \u001b[0mbatch_index\u001b[0m\u001b[0;34m,\u001b[0m \u001b[0;34m'size'\u001b[0m\u001b[0;34m:\u001b[0m \u001b[0mlen\u001b[0m\u001b[0;34m(\u001b[0m\u001b[0mbatch_ids\u001b[0m\u001b[0;34m)\u001b[0m\u001b[0;34m}\u001b[0m\u001b[0;34m\u001b[0m\u001b[0;34m\u001b[0m\u001b[0m\n\u001b[0;32m--> 325\u001b[0;31m         \u001b[0mcallbacks\u001b[0m\u001b[0;34m.\u001b[0m\u001b[0m_call_batch_hook\u001b[0m\u001b[0;34m(\u001b[0m\u001b[0mmode\u001b[0m\u001b[0;34m,\u001b[0m \u001b[0;34m'begin'\u001b[0m\u001b[0;34m,\u001b[0m \u001b[0mbatch_index\u001b[0m\u001b[0;34m,\u001b[0m \u001b[0mbatch_logs\u001b[0m\u001b[0;34m)\u001b[0m\u001b[0;34m\u001b[0m\u001b[0;34m\u001b[0m\u001b[0m\n\u001b[0m\u001b[1;32m    326\u001b[0m         \u001b[0mprogbar\u001b[0m\u001b[0;34m.\u001b[0m\u001b[0mon_batch_begin\u001b[0m\u001b[0;34m(\u001b[0m\u001b[0mbatch_index\u001b[0m\u001b[0;34m,\u001b[0m \u001b[0mbatch_logs\u001b[0m\u001b[0;34m)\u001b[0m\u001b[0;34m\u001b[0m\u001b[0;34m\u001b[0m\u001b[0m\n\u001b[1;32m    327\u001b[0m \u001b[0;34m\u001b[0m\u001b[0m\n",
      "\u001b[0;32m/usr/local/lib/python3.6/dist-packages/tensorflow/python/keras/callbacks.py\u001b[0m in \u001b[0;36m_call_batch_hook\u001b[0;34m(self, mode, hook, batch, logs)\u001b[0m\n\u001b[1;32m    194\u001b[0m     \u001b[0mt_before_callbacks\u001b[0m \u001b[0;34m=\u001b[0m \u001b[0mtime\u001b[0m\u001b[0;34m.\u001b[0m\u001b[0mtime\u001b[0m\u001b[0;34m(\u001b[0m\u001b[0;34m)\u001b[0m\u001b[0;34m\u001b[0m\u001b[0;34m\u001b[0m\u001b[0m\n\u001b[1;32m    195\u001b[0m     \u001b[0;32mfor\u001b[0m \u001b[0mcallback\u001b[0m \u001b[0;32min\u001b[0m \u001b[0mself\u001b[0m\u001b[0;34m.\u001b[0m\u001b[0mcallbacks\u001b[0m\u001b[0;34m:\u001b[0m\u001b[0;34m\u001b[0m\u001b[0;34m\u001b[0m\u001b[0m\n\u001b[0;32m--> 196\u001b[0;31m       \u001b[0mbatch_hook\u001b[0m \u001b[0;34m=\u001b[0m \u001b[0mgetattr\u001b[0m\u001b[0;34m(\u001b[0m\u001b[0mcallback\u001b[0m\u001b[0;34m,\u001b[0m \u001b[0mhook_name\u001b[0m\u001b[0;34m)\u001b[0m\u001b[0;34m\u001b[0m\u001b[0;34m\u001b[0m\u001b[0m\n\u001b[0m\u001b[1;32m    197\u001b[0m       \u001b[0mbatch_hook\u001b[0m\u001b[0;34m(\u001b[0m\u001b[0mbatch\u001b[0m\u001b[0;34m,\u001b[0m \u001b[0mlogs\u001b[0m\u001b[0;34m)\u001b[0m\u001b[0;34m\u001b[0m\u001b[0;34m\u001b[0m\u001b[0m\n\u001b[1;32m    198\u001b[0m     \u001b[0mself\u001b[0m\u001b[0;34m.\u001b[0m\u001b[0m_delta_ts\u001b[0m\u001b[0;34m[\u001b[0m\u001b[0mhook_name\u001b[0m\u001b[0;34m]\u001b[0m\u001b[0;34m.\u001b[0m\u001b[0mappend\u001b[0m\u001b[0;34m(\u001b[0m\u001b[0mtime\u001b[0m\u001b[0;34m.\u001b[0m\u001b[0mtime\u001b[0m\u001b[0;34m(\u001b[0m\u001b[0;34m)\u001b[0m \u001b[0;34m-\u001b[0m \u001b[0mt_before_callbacks\u001b[0m\u001b[0;34m)\u001b[0m\u001b[0;34m\u001b[0m\u001b[0;34m\u001b[0m\u001b[0m\n",
      "\u001b[0;31mAttributeError\u001b[0m: 'TensorBoardColabCallback' object has no attribute 'on_train_batch_begin'"
     ]
    }
   ],
   "source": [
    "model = Sequential()\n",
    "# remove return_sequences for dense layer\n",
    "model.add(CuDNNLSTM(128, input_shape=(train_x.shape[1:]),\n",
    "                    return_sequences=True))\n",
    "model.add(Dropout(0.2))\n",
    "model.add(BatchNormalization())\n",
    "\n",
    "model.add(CuDNNLSTM(128,\n",
    "                    return_sequences=True))\n",
    "model.add(Dropout(0.1))\n",
    "model.add(BatchNormalization())\n",
    "\n",
    "\n",
    "model.add(CuDNNLSTM(128,\n",
    "                    return_sequences=True))\n",
    "model.add(Dropout(0.2))\n",
    "model.add(BatchNormalization())\n",
    "\n",
    "model.add(CuDNNLSTM(128))\n",
    "model.add(Dropout(0.2))\n",
    "model.add(BatchNormalization())\n",
    "\n",
    "model.add(Dense(32, activation=\"relu\"))\n",
    "model.add(Dropout(0.2))\n",
    "\n",
    "model.add(Dense(2, activation=\"softmax\"))\n",
    "\n",
    "\n",
    "opt = tf.keras.optimizers.Adam(lr=0.001, decay=1e-6)\n",
    "model.compile(loss='sparse_categorical_crossentropy',\n",
    "             optimizer=opt,metrics=['accuracy'])\n",
    "tensorboard = TensorBoard(log_dir=f'/content/drive/My Drive/logs/{NAME}')\n",
    "\n",
    "# unique file name that will include the epoch and \n",
    "# the validation acc for that epoch\n",
    "\n",
    "filepath = \"/content/drive/My Drive/models/RNN_Final-{epoch:02d}-{val_acc:.3f}\"  \n",
    "# saves only the best ones\n",
    "checkpoint = ModelCheckpoint(\"{}.model\".format(filepath, monitor='val_acc', verbose=1, save_best_only=True, mode='max'))\n",
    "\n",
    "# Train model\n",
    "history = model.fit(\n",
    "    train_x, train_y,\n",
    "    batch_size=BATCH_SIZE,\n",
    "    epochs=EPOCHS,\n",
    "    validation_data=(validation_x, validation_y),\n",
    "    callbacks=[tensorboard, checkpoint])\n",
    "    #callbacks=[TensorBoardColabCallback(tbc)])\n",
    "\n",
    "# Score model\n",
    "score = model.evaluate(validation_x, validation_y, verbose=0)\n",
    "print('Test loss:', score[0])\n",
    "print('Test accuracy:', score[1])\n",
    "# Save model\n",
    "model.save(\"/content/drive/My Drive/models/{}\".format(NAME))\n",
    "\n"
   ]
  },
  {
   "cell_type": "code",
   "execution_count": 0,
   "metadata": {
    "colab": {},
    "colab_type": "code",
    "id": "d9UbyB1PtNlT"
   },
   "outputs": [],
   "source": []
  },
  {
   "cell_type": "code",
   "execution_count": 0,
   "metadata": {
    "colab": {},
    "colab_type": "code",
    "id": "XGMe3Dy_txqb"
   },
   "outputs": [],
   "source": []
  },
  {
   "cell_type": "code",
   "execution_count": 0,
   "metadata": {
    "colab": {},
    "colab_type": "code",
    "id": "2FdKz_uht3rY"
   },
   "outputs": [],
   "source": []
  },
  {
   "cell_type": "code",
   "execution_count": 0,
   "metadata": {
    "colab": {},
    "colab_type": "code",
    "id": "AvHnfN8WxAkG"
   },
   "outputs": [],
   "source": []
  }
 ],
 "metadata": {
  "accelerator": "GPU",
  "colab": {
   "collapsed_sections": [],
   "name": "RNN_Practice.ipynb",
   "provenance": [],
   "version": "0.3.2"
  },
  "kernelspec": {
   "display_name": "Python 3",
   "language": "python",
   "name": "python3"
  },
  "language_info": {
   "codemirror_mode": {
    "name": "ipython",
    "version": 3
   },
   "file_extension": ".py",
   "mimetype": "text/x-python",
   "name": "python",
   "nbconvert_exporter": "python",
   "pygments_lexer": "ipython3",
   "version": "3.7.1"
  }
 },
 "nbformat": 4,
 "nbformat_minor": 1
}
