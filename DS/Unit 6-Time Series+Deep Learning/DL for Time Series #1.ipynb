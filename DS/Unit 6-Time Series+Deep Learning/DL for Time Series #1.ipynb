{
 "cells": [
  {
   "cell_type": "code",
   "execution_count": 6,
   "metadata": {},
   "outputs": [
    {
     "name": "stderr",
     "output_type": "stream",
     "text": [
      "C:\\Users\\Tinsae\\Anaconda3\\lib\\site-packages\\ipykernel_launcher.py:13: FutureWarning: set_value is deprecated and will be removed in a future release. Please use .at[] or .iat[] accessors instead\n",
      "  del sys.path[0]\n"
     ]
    }
   ],
   "source": [
    "import pandas as pd\n",
    "import numpy as np\n",
    "seed = 2016\n",
    "np.random.seed(seed)\n",
    "y_0 = 1\n",
    "alpha = -0.25\n",
    "beta = 0.95\n",
    "y = pd.Series(y_0)\n",
    "y\n",
    "num=10\n",
    "for i in range(num):\n",
    "    y_t = alpha + ( beta * y_0 ) + np.random.uniform(-1, 1)\n",
    "    y = y.set_value(i, y_t)\n",
    "    y_0 = y_t"
   ]
  },
  {
   "cell_type": "code",
   "execution_count": 7,
   "metadata": {},
   "outputs": [
    {
     "data": {
      "text/plain": [
       "0    1.000000\n",
       "1    1.629219\n",
       "2    1.864309\n",
       "3    2.004397\n",
       "4    1.578358\n",
       "5    1.534571\n",
       "6    0.657570\n",
       "7    0.791785\n",
       "8    0.996448\n",
       "9    0.946840\n",
       "dtype: float64"
      ]
     },
     "execution_count": 7,
     "metadata": {},
     "output_type": "execute_result"
    }
   ],
   "source": [
    "y"
   ]
  }
 ],
 "metadata": {
  "kernelspec": {
   "display_name": "Python 3",
   "language": "python",
   "name": "python3"
  },
  "language_info": {
   "codemirror_mode": {
    "name": "ipython",
    "version": 3
   },
   "file_extension": ".py",
   "mimetype": "text/x-python",
   "name": "python",
   "nbconvert_exporter": "python",
   "pygments_lexer": "ipython3",
   "version": "3.7.1"
  }
 },
 "nbformat": 4,
 "nbformat_minor": 2
}
