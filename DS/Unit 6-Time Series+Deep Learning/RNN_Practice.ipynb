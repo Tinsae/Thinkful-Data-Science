{
 "cells": [
  {
   "cell_type": "code",
   "execution_count": 1,
   "metadata": {
    "colab": {},
    "colab_type": "code",
    "id": "GvZBUo1Lyv6t"
   },
   "outputs": [],
   "source": [
    "import pandas as pd\n",
    "import numpy as np\n",
    "import os\n",
    "import warnings\n",
    "from sklearn import preprocessing \n",
    "from collections import deque\n",
    "import random\n",
    "import time\n",
    "# tensor flow stuff\n",
    "import tensorflow as tf\n",
    "from tensorflow.keras.models import Sequential\n",
    "from tensorflow.keras.layers import Dense, Dropout, LSTM\n",
    "from tensorflow.keras.layers import CuDNNLSTM, BatchNormalization\n",
    "from tensorflow.keras.callbacks import TensorBoard, ModelCheckpoint"
   ]
  },
  {
   "cell_type": "code",
   "execution_count": 3,
   "metadata": {
    "colab": {},
    "colab_type": "code",
    "id": "raEvRCuV8EvH"
   },
   "outputs": [],
   "source": [
    "SEQ_LEN = 60\n",
    "FUTURE_PERIOD_PREDICT = 3\n",
    "RATIO_TO_PREDICT = \"ltc\"\n",
    "EPOCHS = 10\n",
    "BATCH_SIZE=64\n",
    "NAME = \"{}-SEQ-{}-PRED-{}\".format(SEQ_LEN, FUTURE_PERIOD_PREDICT, int(time.time()))"
   ]
  },
  {
   "cell_type": "code",
   "execution_count": 4,
   "metadata": {
    "colab": {},
    "colab_type": "code",
    "id": "g9IqZ6WoNRn7"
   },
   "outputs": [],
   "source": [
    "def classify(current, future):\n",
    "  if(float(future) > float(current)):\n",
    "    return 1\n",
    "  else:\n",
    "    return 0"
   ]
  },
  {
   "cell_type": "code",
   "execution_count": 5,
   "metadata": {
    "colab": {},
    "colab_type": "code",
    "id": "642men2pvVE5"
   },
   "outputs": [],
   "source": [
    "def preprocess_df(df):\n",
    "  df = df.drop('future', axis=1)\n",
    "  for col in df.columns:\n",
    "    if col != \"target\":\n",
    "      # helps normalize the data\n",
    "      # btc, lth and others have different units\n",
    "      df[col] = df[col].pct_change()\n",
    "      df.dropna(inplace=True)\n",
    "      df[col] = preprocessing.scale(df[col].values)\n",
    "  df.dropna(inplace=True)\n",
    "  sequential_data = []\n",
    "  # deque removes items from the front\n",
    "  # if more than SEQ_LEN is appended\n",
    "  # convinient for the task below\n",
    "  # creating 60 sequences and when quota fills\n",
    "  # save the sequences in another list\n",
    "  # and the deque will continue removing\n",
    "  # the old sequences as we add new ones\n",
    "  # everytime a deque fills, append that\n",
    "  # sequence to the other list\n",
    "  prev_days = deque(maxlen=SEQ_LEN)\n",
    "  for i in df.values:\n",
    "    # ignore the target, append a list to prev_days list\n",
    "    prev_days.append([n for n in i[:-1]])\n",
    "    # when 60 feature sets are collected\n",
    "    # append the sequence with the target of the 60th feature set\n",
    "    if(len(prev_days) == SEQ_LEN):\n",
    "      sequential_data.append([np.array(prev_days), i[-1]])\n",
    "  random.shuffle(sequential_data)\n",
    "  buys = []  # list that will store our buy sequences and targets\n",
    "  sells = []  # list that will store our sell sequences and targets\n",
    "\n",
    "  for seq, target in sequential_data:  # iterate over the sequential data\n",
    "      if target == 0:  # if it's a \"not buy\"\n",
    "          sells.append([seq, target])  # append to sells list\n",
    "      elif target == 1:  # otherwise if the target is a 1...\n",
    "          buys.append([seq, target])  # it's a buy!\n",
    "\n",
    "  random.shuffle(buys)  # shuffle the buys\n",
    "  random.shuffle(sells)  # shuffle the sells!\n",
    "\n",
    "  lower = min(len(buys), len(sells))  # what's the shorter length?\n",
    "\n",
    "  buys = buys[:lower]  # make sure both lists are only up to the shortest length.\n",
    "  sells = sells[:lower]  # make sure both lists are only up to the shortest length.\n",
    "\n",
    "  sequential_data = buys+sells  # add them together\n",
    "  random.shuffle(sequential_data)  # another shuffle, so the model doesn't get confused with all 1 class then the other.\n",
    "\n",
    "  X = []\n",
    "  y = []\n",
    "\n",
    "  for seq, target in sequential_data:  # going over our new sequential data\n",
    "      X.append(seq)  # X is the sequences\n",
    "      y.append(target)  # y is the targets/labels (buys vs sell/notbuy)\n",
    "\n",
    "  return np.array(X), y  # return X and y...and make X a numpy array!\n"
   ]
  },
  {
   "cell_type": "code",
   "execution_count": 9,
   "metadata": {
    "colab": {},
    "colab_type": "code",
    "id": "JYuVP3ec05WV"
   },
   "outputs": [],
   "source": [
    "# read all data\n",
    "import os\n",
    "directory_in_str = \"/home/tigial3535/crypto-data/\"\n",
    "directory = os.fsencode(directory_in_str)\n",
    "four_dfs = []\n",
    "for file in os.listdir(directory):\n",
    "     # get filename with extension\n",
    "     filename = os.fsdecode(file)\n",
    "     url = os.path.join(directory_in_str, filename)\n",
    "     # column titles\n",
    "     c_titles = [\"time\", \"low\", \"high\", \"open\", \"close\", \"volume\"] \n",
    "     # returns the first 3 characters before - from filename\n",
    "     get_prefix = lambda x: x.split(\".\")[0].split(\"-\")[0].lower() + \"_\"\n",
    "     # time is not prefixed, prefix the others\n",
    "     u_titles = [\"time\"] + [get_prefix(filename) + c for c in c_titles[1:]]\n",
    "     # append it to list of dataframes\n",
    "     four_dfs.append(pd.read_csv(url, names=u_titles))"
   ]
  },
  {
   "cell_type": "code",
   "execution_count": 10,
   "metadata": {
    "colab": {},
    "colab_type": "code",
    "id": "3GSwgSub46qC"
   },
   "outputs": [],
   "source": [
    "# merge them together\n",
    "merged_df = four_dfs[0]\n",
    "for df in four_dfs[1:]:\n",
    "  merged_df = pd.merge(merged_df, df, on='time', how='left')"
   ]
  },
  {
   "cell_type": "code",
   "execution_count": 11,
   "metadata": {
    "colab": {
     "base_uri": "https://localhost:8080/",
     "height": 253
    },
    "colab_type": "code",
    "id": "d14u9yf7DLwB",
    "outputId": "b772d044-d922-4f68-8ebf-0a808c1eedf5"
   },
   "outputs": [
    {
     "data": {
      "text/html": [
       "<div>\n",
       "<style scoped>\n",
       "    .dataframe tbody tr th:only-of-type {\n",
       "        vertical-align: middle;\n",
       "    }\n",
       "\n",
       "    .dataframe tbody tr th {\n",
       "        vertical-align: top;\n",
       "    }\n",
       "\n",
       "    .dataframe thead th {\n",
       "        text-align: right;\n",
       "    }\n",
       "</style>\n",
       "<table border=\"1\" class=\"dataframe\">\n",
       "  <thead>\n",
       "    <tr style=\"text-align: right;\">\n",
       "      <th></th>\n",
       "      <th>time</th>\n",
       "      <th>eth_low</th>\n",
       "      <th>eth_high</th>\n",
       "      <th>eth_open</th>\n",
       "      <th>eth_close</th>\n",
       "      <th>eth_volume</th>\n",
       "      <th>bch_low</th>\n",
       "      <th>bch_high</th>\n",
       "      <th>bch_open</th>\n",
       "      <th>bch_close</th>\n",
       "      <th>...</th>\n",
       "      <th>ltc_low</th>\n",
       "      <th>ltc_high</th>\n",
       "      <th>ltc_open</th>\n",
       "      <th>ltc_close</th>\n",
       "      <th>ltc_volume</th>\n",
       "      <th>btc_low</th>\n",
       "      <th>btc_high</th>\n",
       "      <th>btc_open</th>\n",
       "      <th>btc_close</th>\n",
       "      <th>btc_volume</th>\n",
       "    </tr>\n",
       "  </thead>\n",
       "  <tbody>\n",
       "    <tr>\n",
       "      <th>0</th>\n",
       "      <td>1528968720</td>\n",
       "      <td>485.98999</td>\n",
       "      <td>486.5</td>\n",
       "      <td>486.019989</td>\n",
       "      <td>486.01001</td>\n",
       "      <td>26.019083</td>\n",
       "      <td>870.859985</td>\n",
       "      <td>871.719971</td>\n",
       "      <td>871.719971</td>\n",
       "      <td>870.859985</td>\n",
       "      <td>...</td>\n",
       "      <td>96.449997</td>\n",
       "      <td>96.669998</td>\n",
       "      <td>96.589996</td>\n",
       "      <td>96.660004</td>\n",
       "      <td>314.387024</td>\n",
       "      <td>6487.370117</td>\n",
       "      <td>6489.560059</td>\n",
       "      <td>6489.549805</td>\n",
       "      <td>6487.379883</td>\n",
       "      <td>7.706374</td>\n",
       "    </tr>\n",
       "    <tr>\n",
       "      <th>1</th>\n",
       "      <td>1528968780</td>\n",
       "      <td>486.00000</td>\n",
       "      <td>486.0</td>\n",
       "      <td>486.000000</td>\n",
       "      <td>486.00000</td>\n",
       "      <td>8.449400</td>\n",
       "      <td>870.099976</td>\n",
       "      <td>871.090027</td>\n",
       "      <td>871.090027</td>\n",
       "      <td>870.099976</td>\n",
       "      <td>...</td>\n",
       "      <td>96.470001</td>\n",
       "      <td>96.570000</td>\n",
       "      <td>96.570000</td>\n",
       "      <td>96.570000</td>\n",
       "      <td>77.129799</td>\n",
       "      <td>6479.410156</td>\n",
       "      <td>6487.370117</td>\n",
       "      <td>6487.370117</td>\n",
       "      <td>6479.410156</td>\n",
       "      <td>3.088252</td>\n",
       "    </tr>\n",
       "    <tr>\n",
       "      <th>2</th>\n",
       "      <td>1528968840</td>\n",
       "      <td>485.75000</td>\n",
       "      <td>486.0</td>\n",
       "      <td>486.000000</td>\n",
       "      <td>485.75000</td>\n",
       "      <td>26.994646</td>\n",
       "      <td>868.830017</td>\n",
       "      <td>870.950012</td>\n",
       "      <td>868.830017</td>\n",
       "      <td>870.789978</td>\n",
       "      <td>...</td>\n",
       "      <td>96.449997</td>\n",
       "      <td>96.570000</td>\n",
       "      <td>96.570000</td>\n",
       "      <td>96.500000</td>\n",
       "      <td>7.216067</td>\n",
       "      <td>6479.410156</td>\n",
       "      <td>6479.419922</td>\n",
       "      <td>6479.419922</td>\n",
       "      <td>6479.410156</td>\n",
       "      <td>1.404100</td>\n",
       "    </tr>\n",
       "    <tr>\n",
       "      <th>3</th>\n",
       "      <td>1528968900</td>\n",
       "      <td>485.75000</td>\n",
       "      <td>486.0</td>\n",
       "      <td>485.750000</td>\n",
       "      <td>486.00000</td>\n",
       "      <td>77.355759</td>\n",
       "      <td>870.000000</td>\n",
       "      <td>870.000000</td>\n",
       "      <td>870.000000</td>\n",
       "      <td>870.000000</td>\n",
       "      <td>...</td>\n",
       "      <td>96.279999</td>\n",
       "      <td>96.540001</td>\n",
       "      <td>96.500000</td>\n",
       "      <td>96.389999</td>\n",
       "      <td>524.539978</td>\n",
       "      <td>6475.930176</td>\n",
       "      <td>6479.979980</td>\n",
       "      <td>6479.410156</td>\n",
       "      <td>6479.979980</td>\n",
       "      <td>0.753000</td>\n",
       "    </tr>\n",
       "    <tr>\n",
       "      <th>4</th>\n",
       "      <td>1528968960</td>\n",
       "      <td>485.98999</td>\n",
       "      <td>486.0</td>\n",
       "      <td>486.000000</td>\n",
       "      <td>486.00000</td>\n",
       "      <td>7.503300</td>\n",
       "      <td>869.989990</td>\n",
       "      <td>870.000000</td>\n",
       "      <td>870.000000</td>\n",
       "      <td>869.989990</td>\n",
       "      <td>...</td>\n",
       "      <td>96.459999</td>\n",
       "      <td>96.519997</td>\n",
       "      <td>96.459999</td>\n",
       "      <td>96.519997</td>\n",
       "      <td>16.991997</td>\n",
       "      <td>6477.959961</td>\n",
       "      <td>6480.000000</td>\n",
       "      <td>6477.959961</td>\n",
       "      <td>6480.000000</td>\n",
       "      <td>1.490900</td>\n",
       "    </tr>\n",
       "  </tbody>\n",
       "</table>\n",
       "<p>5 rows × 21 columns</p>\n",
       "</div>"
      ],
      "text/plain": [
       "         time    eth_low  eth_high    eth_open  eth_close  eth_volume  \\\n",
       "0  1528968720  485.98999     486.5  486.019989  486.01001   26.019083   \n",
       "1  1528968780  486.00000     486.0  486.000000  486.00000    8.449400   \n",
       "2  1528968840  485.75000     486.0  486.000000  485.75000   26.994646   \n",
       "3  1528968900  485.75000     486.0  485.750000  486.00000   77.355759   \n",
       "4  1528968960  485.98999     486.0  486.000000  486.00000    7.503300   \n",
       "\n",
       "      bch_low    bch_high    bch_open   bch_close  ...    ltc_low   ltc_high  \\\n",
       "0  870.859985  871.719971  871.719971  870.859985  ...  96.449997  96.669998   \n",
       "1  870.099976  871.090027  871.090027  870.099976  ...  96.470001  96.570000   \n",
       "2  868.830017  870.950012  868.830017  870.789978  ...  96.449997  96.570000   \n",
       "3  870.000000  870.000000  870.000000  870.000000  ...  96.279999  96.540001   \n",
       "4  869.989990  870.000000  870.000000  869.989990  ...  96.459999  96.519997   \n",
       "\n",
       "    ltc_open  ltc_close  ltc_volume      btc_low     btc_high     btc_open  \\\n",
       "0  96.589996  96.660004  314.387024  6487.370117  6489.560059  6489.549805   \n",
       "1  96.570000  96.570000   77.129799  6479.410156  6487.370117  6487.370117   \n",
       "2  96.570000  96.500000    7.216067  6479.410156  6479.419922  6479.419922   \n",
       "3  96.500000  96.389999  524.539978  6475.930176  6479.979980  6479.410156   \n",
       "4  96.459999  96.519997   16.991997  6477.959961  6480.000000  6477.959961   \n",
       "\n",
       "     btc_close  btc_volume  \n",
       "0  6487.379883    7.706374  \n",
       "1  6479.410156    3.088252  \n",
       "2  6479.410156    1.404100  \n",
       "3  6479.979980    0.753000  \n",
       "4  6480.000000    1.490900  \n",
       "\n",
       "[5 rows x 21 columns]"
      ]
     },
     "execution_count": 11,
     "metadata": {},
     "output_type": "execute_result"
    }
   ],
   "source": [
    "merged_df.head()"
   ]
  },
  {
   "cell_type": "code",
   "execution_count": 12,
   "metadata": {
    "colab": {},
    "colab_type": "code",
    "id": "hjx5X9_LEAfz"
   },
   "outputs": [],
   "source": [
    "# # fill null values forward first.\n",
    "merged_df = merged_df.fillna(method=\"ffill\")\n",
    "## drop any remaing nulls\n",
    "merged_df.dropna(inplace=True)"
   ]
  },
  {
   "cell_type": "code",
   "execution_count": 13,
   "metadata": {
    "colab": {},
    "colab_type": "code",
    "id": "gm6eVTSyGBWv"
   },
   "outputs": [],
   "source": [
    "# filter volume and close columns\n",
    "main_df = merged_df.filter(regex='volume|close|time')"
   ]
  },
  {
   "cell_type": "code",
   "execution_count": 14,
   "metadata": {
    "colab": {},
    "colab_type": "code",
    "id": "FR1Kfa-4dIF-"
   },
   "outputs": [],
   "source": [
    "with warnings.catch_warnings():\n",
    "  warnings.simplefilter(\"ignore\")\n",
    "  main_df.index = main_df.time\n",
    "  main_df.drop(\"time\", axis=1, inplace=True)"
   ]
  },
  {
   "cell_type": "code",
   "execution_count": 15,
   "metadata": {
    "colab": {
     "base_uri": "https://localhost:8080/",
     "height": 235
    },
    "colab_type": "code",
    "id": "8u9VW-J3HmQS",
    "outputId": "8b58ae20-f487-4bd5-a8f5-8141a985953c"
   },
   "outputs": [
    {
     "data": {
      "text/html": [
       "<div>\n",
       "<style scoped>\n",
       "    .dataframe tbody tr th:only-of-type {\n",
       "        vertical-align: middle;\n",
       "    }\n",
       "\n",
       "    .dataframe tbody tr th {\n",
       "        vertical-align: top;\n",
       "    }\n",
       "\n",
       "    .dataframe thead th {\n",
       "        text-align: right;\n",
       "    }\n",
       "</style>\n",
       "<table border=\"1\" class=\"dataframe\">\n",
       "  <thead>\n",
       "    <tr style=\"text-align: right;\">\n",
       "      <th></th>\n",
       "      <th>eth_close</th>\n",
       "      <th>eth_volume</th>\n",
       "      <th>bch_close</th>\n",
       "      <th>bch_volume</th>\n",
       "      <th>ltc_close</th>\n",
       "      <th>ltc_volume</th>\n",
       "      <th>btc_close</th>\n",
       "      <th>btc_volume</th>\n",
       "    </tr>\n",
       "    <tr>\n",
       "      <th>time</th>\n",
       "      <th></th>\n",
       "      <th></th>\n",
       "      <th></th>\n",
       "      <th></th>\n",
       "      <th></th>\n",
       "      <th></th>\n",
       "      <th></th>\n",
       "      <th></th>\n",
       "    </tr>\n",
       "  </thead>\n",
       "  <tbody>\n",
       "    <tr>\n",
       "      <th>1528968720</th>\n",
       "      <td>486.01001</td>\n",
       "      <td>26.019083</td>\n",
       "      <td>870.859985</td>\n",
       "      <td>26.856577</td>\n",
       "      <td>96.660004</td>\n",
       "      <td>314.387024</td>\n",
       "      <td>6487.379883</td>\n",
       "      <td>7.706374</td>\n",
       "    </tr>\n",
       "    <tr>\n",
       "      <th>1528968780</th>\n",
       "      <td>486.00000</td>\n",
       "      <td>8.449400</td>\n",
       "      <td>870.099976</td>\n",
       "      <td>1.124300</td>\n",
       "      <td>96.570000</td>\n",
       "      <td>77.129799</td>\n",
       "      <td>6479.410156</td>\n",
       "      <td>3.088252</td>\n",
       "    </tr>\n",
       "    <tr>\n",
       "      <th>1528968840</th>\n",
       "      <td>485.75000</td>\n",
       "      <td>26.994646</td>\n",
       "      <td>870.789978</td>\n",
       "      <td>1.749862</td>\n",
       "      <td>96.500000</td>\n",
       "      <td>7.216067</td>\n",
       "      <td>6479.410156</td>\n",
       "      <td>1.404100</td>\n",
       "    </tr>\n",
       "    <tr>\n",
       "      <th>1528968900</th>\n",
       "      <td>486.00000</td>\n",
       "      <td>77.355759</td>\n",
       "      <td>870.000000</td>\n",
       "      <td>1.680500</td>\n",
       "      <td>96.389999</td>\n",
       "      <td>524.539978</td>\n",
       "      <td>6479.979980</td>\n",
       "      <td>0.753000</td>\n",
       "    </tr>\n",
       "    <tr>\n",
       "      <th>1528968960</th>\n",
       "      <td>486.00000</td>\n",
       "      <td>7.503300</td>\n",
       "      <td>869.989990</td>\n",
       "      <td>1.669014</td>\n",
       "      <td>96.519997</td>\n",
       "      <td>16.991997</td>\n",
       "      <td>6480.000000</td>\n",
       "      <td>1.490900</td>\n",
       "    </tr>\n",
       "  </tbody>\n",
       "</table>\n",
       "</div>"
      ],
      "text/plain": [
       "            eth_close  eth_volume   bch_close  bch_volume  ltc_close  \\\n",
       "time                                                                   \n",
       "1528968720  486.01001   26.019083  870.859985   26.856577  96.660004   \n",
       "1528968780  486.00000    8.449400  870.099976    1.124300  96.570000   \n",
       "1528968840  485.75000   26.994646  870.789978    1.749862  96.500000   \n",
       "1528968900  486.00000   77.355759  870.000000    1.680500  96.389999   \n",
       "1528968960  486.00000    7.503300  869.989990    1.669014  96.519997   \n",
       "\n",
       "            ltc_volume    btc_close  btc_volume  \n",
       "time                                             \n",
       "1528968720  314.387024  6487.379883    7.706374  \n",
       "1528968780   77.129799  6479.410156    3.088252  \n",
       "1528968840    7.216067  6479.410156    1.404100  \n",
       "1528968900  524.539978  6479.979980    0.753000  \n",
       "1528968960   16.991997  6480.000000    1.490900  "
      ]
     },
     "execution_count": 15,
     "metadata": {},
     "output_type": "execute_result"
    }
   ],
   "source": [
    "main_df.head()"
   ]
  },
  {
   "cell_type": "code",
   "execution_count": 16,
   "metadata": {
    "colab": {
     "base_uri": "https://localhost:8080/",
     "height": 34
    },
    "colab_type": "code",
    "id": "Ccz_hCuIKTg2",
    "outputId": "91c0a0f0-9a42-4204-a030-900fa31e2b2b"
   },
   "outputs": [
    {
     "data": {
      "text/plain": [
       "(102831, 8)"
      ]
     },
     "execution_count": 16,
     "metadata": {},
     "output_type": "execute_result"
    }
   ],
   "source": [
    "main_df.shape"
   ]
  },
  {
   "cell_type": "code",
   "execution_count": 18,
   "metadata": {
    "colab": {},
    "colab_type": "code",
    "id": "OlQol4abNf3R"
   },
   "outputs": [],
   "source": [
    "with warnings.catch_warnings():\n",
    "  warnings.simplefilter(\"ignore\")\n",
    "  main_df.loc[:,'future'] = main_df[\"{}_close\".format(RATIO_TO_PREDICT)] \\\n",
    "                          .shift(-FUTURE_PERIOD_PREDICT)"
   ]
  },
  {
   "cell_type": "code",
   "execution_count": 19,
   "metadata": {
    "colab": {
     "base_uri": "https://localhost:8080/",
     "height": 235
    },
    "colab_type": "code",
    "id": "2bJebc5-SME8",
    "outputId": "cb365809-2400-4767-ad0f-cf7f17fed71d"
   },
   "outputs": [
    {
     "data": {
      "text/html": [
       "<div>\n",
       "<style scoped>\n",
       "    .dataframe tbody tr th:only-of-type {\n",
       "        vertical-align: middle;\n",
       "    }\n",
       "\n",
       "    .dataframe tbody tr th {\n",
       "        vertical-align: top;\n",
       "    }\n",
       "\n",
       "    .dataframe thead th {\n",
       "        text-align: right;\n",
       "    }\n",
       "</style>\n",
       "<table border=\"1\" class=\"dataframe\">\n",
       "  <thead>\n",
       "    <tr style=\"text-align: right;\">\n",
       "      <th></th>\n",
       "      <th>eth_close</th>\n",
       "      <th>eth_volume</th>\n",
       "      <th>bch_close</th>\n",
       "      <th>bch_volume</th>\n",
       "      <th>ltc_close</th>\n",
       "      <th>ltc_volume</th>\n",
       "      <th>btc_close</th>\n",
       "      <th>btc_volume</th>\n",
       "      <th>future</th>\n",
       "    </tr>\n",
       "    <tr>\n",
       "      <th>time</th>\n",
       "      <th></th>\n",
       "      <th></th>\n",
       "      <th></th>\n",
       "      <th></th>\n",
       "      <th></th>\n",
       "      <th></th>\n",
       "      <th></th>\n",
       "      <th></th>\n",
       "      <th></th>\n",
       "    </tr>\n",
       "  </thead>\n",
       "  <tbody>\n",
       "    <tr>\n",
       "      <th>1528968720</th>\n",
       "      <td>486.01001</td>\n",
       "      <td>26.019083</td>\n",
       "      <td>870.859985</td>\n",
       "      <td>26.856577</td>\n",
       "      <td>96.660004</td>\n",
       "      <td>314.387024</td>\n",
       "      <td>6487.379883</td>\n",
       "      <td>7.706374</td>\n",
       "      <td>96.389999</td>\n",
       "    </tr>\n",
       "    <tr>\n",
       "      <th>1528968780</th>\n",
       "      <td>486.00000</td>\n",
       "      <td>8.449400</td>\n",
       "      <td>870.099976</td>\n",
       "      <td>1.124300</td>\n",
       "      <td>96.570000</td>\n",
       "      <td>77.129799</td>\n",
       "      <td>6479.410156</td>\n",
       "      <td>3.088252</td>\n",
       "      <td>96.519997</td>\n",
       "    </tr>\n",
       "    <tr>\n",
       "      <th>1528968840</th>\n",
       "      <td>485.75000</td>\n",
       "      <td>26.994646</td>\n",
       "      <td>870.789978</td>\n",
       "      <td>1.749862</td>\n",
       "      <td>96.500000</td>\n",
       "      <td>7.216067</td>\n",
       "      <td>6479.410156</td>\n",
       "      <td>1.404100</td>\n",
       "      <td>96.440002</td>\n",
       "    </tr>\n",
       "    <tr>\n",
       "      <th>1528968900</th>\n",
       "      <td>486.00000</td>\n",
       "      <td>77.355759</td>\n",
       "      <td>870.000000</td>\n",
       "      <td>1.680500</td>\n",
       "      <td>96.389999</td>\n",
       "      <td>524.539978</td>\n",
       "      <td>6479.979980</td>\n",
       "      <td>0.753000</td>\n",
       "      <td>96.470001</td>\n",
       "    </tr>\n",
       "    <tr>\n",
       "      <th>1528968960</th>\n",
       "      <td>486.00000</td>\n",
       "      <td>7.503300</td>\n",
       "      <td>869.989990</td>\n",
       "      <td>1.669014</td>\n",
       "      <td>96.519997</td>\n",
       "      <td>16.991997</td>\n",
       "      <td>6480.000000</td>\n",
       "      <td>1.490900</td>\n",
       "      <td>96.400002</td>\n",
       "    </tr>\n",
       "  </tbody>\n",
       "</table>\n",
       "</div>"
      ],
      "text/plain": [
       "            eth_close  eth_volume   bch_close  bch_volume  ltc_close  \\\n",
       "time                                                                   \n",
       "1528968720  486.01001   26.019083  870.859985   26.856577  96.660004   \n",
       "1528968780  486.00000    8.449400  870.099976    1.124300  96.570000   \n",
       "1528968840  485.75000   26.994646  870.789978    1.749862  96.500000   \n",
       "1528968900  486.00000   77.355759  870.000000    1.680500  96.389999   \n",
       "1528968960  486.00000    7.503300  869.989990    1.669014  96.519997   \n",
       "\n",
       "            ltc_volume    btc_close  btc_volume     future  \n",
       "time                                                        \n",
       "1528968720  314.387024  6487.379883    7.706374  96.389999  \n",
       "1528968780   77.129799  6479.410156    3.088252  96.519997  \n",
       "1528968840    7.216067  6479.410156    1.404100  96.440002  \n",
       "1528968900  524.539978  6479.979980    0.753000  96.470001  \n",
       "1528968960   16.991997  6480.000000    1.490900  96.400002  "
      ]
     },
     "execution_count": 19,
     "metadata": {},
     "output_type": "execute_result"
    }
   ],
   "source": [
    "main_df.head()"
   ]
  },
  {
   "cell_type": "code",
   "execution_count": 21,
   "metadata": {
    "colab": {},
    "colab_type": "code",
    "id": "hocHhRexSTeW"
   },
   "outputs": [],
   "source": [
    "with warnings.catch_warnings():\n",
    "  warnings.simplefilter(\"ignore\")\n",
    "  main_df['target'] = list(map(\n",
    "                      classify, \n",
    "                      main_df[\"{}_close\".format(RATIO_TO_PREDICT)], \n",
    "                      main_df[\"future\"]))"
   ]
  },
  {
   "cell_type": "code",
   "execution_count": 22,
   "metadata": {
    "colab": {
     "base_uri": "https://localhost:8080/",
     "height": 266
    },
    "colab_type": "code",
    "id": "5sJfVFb2VXA_",
    "outputId": "385b126d-55e4-4c0b-f8d0-41e3f5d82de3"
   },
   "outputs": [
    {
     "data": {
      "text/html": [
       "<div>\n",
       "<style scoped>\n",
       "    .dataframe tbody tr th:only-of-type {\n",
       "        vertical-align: middle;\n",
       "    }\n",
       "\n",
       "    .dataframe tbody tr th {\n",
       "        vertical-align: top;\n",
       "    }\n",
       "\n",
       "    .dataframe thead th {\n",
       "        text-align: right;\n",
       "    }\n",
       "</style>\n",
       "<table border=\"1\" class=\"dataframe\">\n",
       "  <thead>\n",
       "    <tr style=\"text-align: right;\">\n",
       "      <th></th>\n",
       "      <th>ltc_close</th>\n",
       "      <th>future</th>\n",
       "      <th>target</th>\n",
       "    </tr>\n",
       "    <tr>\n",
       "      <th>time</th>\n",
       "      <th></th>\n",
       "      <th></th>\n",
       "      <th></th>\n",
       "    </tr>\n",
       "  </thead>\n",
       "  <tbody>\n",
       "    <tr>\n",
       "      <th>1528968720</th>\n",
       "      <td>96.660004</td>\n",
       "      <td>96.389999</td>\n",
       "      <td>0</td>\n",
       "    </tr>\n",
       "    <tr>\n",
       "      <th>1528968780</th>\n",
       "      <td>96.570000</td>\n",
       "      <td>96.519997</td>\n",
       "      <td>0</td>\n",
       "    </tr>\n",
       "    <tr>\n",
       "      <th>1528968840</th>\n",
       "      <td>96.500000</td>\n",
       "      <td>96.440002</td>\n",
       "      <td>0</td>\n",
       "    </tr>\n",
       "    <tr>\n",
       "      <th>1528968900</th>\n",
       "      <td>96.389999</td>\n",
       "      <td>96.470001</td>\n",
       "      <td>1</td>\n",
       "    </tr>\n",
       "    <tr>\n",
       "      <th>1528968960</th>\n",
       "      <td>96.519997</td>\n",
       "      <td>96.400002</td>\n",
       "      <td>0</td>\n",
       "    </tr>\n",
       "    <tr>\n",
       "      <th>1528969020</th>\n",
       "      <td>96.440002</td>\n",
       "      <td>96.400002</td>\n",
       "      <td>0</td>\n",
       "    </tr>\n",
       "  </tbody>\n",
       "</table>\n",
       "</div>"
      ],
      "text/plain": [
       "            ltc_close     future  target\n",
       "time                                    \n",
       "1528968720  96.660004  96.389999       0\n",
       "1528968780  96.570000  96.519997       0\n",
       "1528968840  96.500000  96.440002       0\n",
       "1528968900  96.389999  96.470001       1\n",
       "1528968960  96.519997  96.400002       0\n",
       "1528969020  96.440002  96.400002       0"
      ]
     },
     "execution_count": 22,
     "metadata": {},
     "output_type": "execute_result"
    }
   ],
   "source": [
    "# see the result\n",
    "main_df[[\"ltc_close\", \"future\", \"target\"]].head(6)"
   ]
  },
  {
   "cell_type": "code",
   "execution_count": 23,
   "metadata": {
    "colab": {
     "base_uri": "https://localhost:8080/",
     "height": 235
    },
    "colab_type": "code",
    "id": "op8EvTCCWNjJ",
    "outputId": "e2be58b1-5e8f-4c15-a2b2-2f4794bfafe9"
   },
   "outputs": [
    {
     "data": {
      "text/html": [
       "<div>\n",
       "<style scoped>\n",
       "    .dataframe tbody tr th:only-of-type {\n",
       "        vertical-align: middle;\n",
       "    }\n",
       "\n",
       "    .dataframe tbody tr th {\n",
       "        vertical-align: top;\n",
       "    }\n",
       "\n",
       "    .dataframe thead th {\n",
       "        text-align: right;\n",
       "    }\n",
       "</style>\n",
       "<table border=\"1\" class=\"dataframe\">\n",
       "  <thead>\n",
       "    <tr style=\"text-align: right;\">\n",
       "      <th></th>\n",
       "      <th>eth_close</th>\n",
       "      <th>eth_volume</th>\n",
       "      <th>bch_close</th>\n",
       "      <th>bch_volume</th>\n",
       "      <th>ltc_close</th>\n",
       "      <th>ltc_volume</th>\n",
       "      <th>btc_close</th>\n",
       "      <th>btc_volume</th>\n",
       "      <th>future</th>\n",
       "      <th>target</th>\n",
       "    </tr>\n",
       "    <tr>\n",
       "      <th>time</th>\n",
       "      <th></th>\n",
       "      <th></th>\n",
       "      <th></th>\n",
       "      <th></th>\n",
       "      <th></th>\n",
       "      <th></th>\n",
       "      <th></th>\n",
       "      <th></th>\n",
       "      <th></th>\n",
       "      <th></th>\n",
       "    </tr>\n",
       "  </thead>\n",
       "  <tbody>\n",
       "    <tr>\n",
       "      <th>1535215020</th>\n",
       "      <td>279.359985</td>\n",
       "      <td>8.790519</td>\n",
       "      <td>531.479980</td>\n",
       "      <td>0.016868</td>\n",
       "      <td>58.009998</td>\n",
       "      <td>7.301921</td>\n",
       "      <td>6714.52002</td>\n",
       "      <td>1.002652</td>\n",
       "      <td>58.080002</td>\n",
       "      <td>1</td>\n",
       "    </tr>\n",
       "    <tr>\n",
       "      <th>1535215080</th>\n",
       "      <td>279.369995</td>\n",
       "      <td>1.311763</td>\n",
       "      <td>531.469971</td>\n",
       "      <td>0.013854</td>\n",
       "      <td>58.020000</td>\n",
       "      <td>23.802017</td>\n",
       "      <td>6714.52002</td>\n",
       "      <td>1.021925</td>\n",
       "      <td>58.090000</td>\n",
       "      <td>1</td>\n",
       "    </tr>\n",
       "    <tr>\n",
       "      <th>1535215140</th>\n",
       "      <td>279.660004</td>\n",
       "      <td>11.752819</td>\n",
       "      <td>531.479980</td>\n",
       "      <td>0.016900</td>\n",
       "      <td>58.020000</td>\n",
       "      <td>6.953497</td>\n",
       "      <td>6715.00000</td>\n",
       "      <td>3.645508</td>\n",
       "      <td>NaN</td>\n",
       "      <td>0</td>\n",
       "    </tr>\n",
       "    <tr>\n",
       "      <th>1535215200</th>\n",
       "      <td>279.649994</td>\n",
       "      <td>8.351710</td>\n",
       "      <td>531.479980</td>\n",
       "      <td>0.299520</td>\n",
       "      <td>58.080002</td>\n",
       "      <td>202.403183</td>\n",
       "      <td>6715.00000</td>\n",
       "      <td>0.513560</td>\n",
       "      <td>NaN</td>\n",
       "      <td>0</td>\n",
       "    </tr>\n",
       "    <tr>\n",
       "      <th>1535215260</th>\n",
       "      <td>279.649994</td>\n",
       "      <td>10.511729</td>\n",
       "      <td>531.630005</td>\n",
       "      <td>3.528913</td>\n",
       "      <td>58.090000</td>\n",
       "      <td>160.602554</td>\n",
       "      <td>6715.00000</td>\n",
       "      <td>0.513560</td>\n",
       "      <td>NaN</td>\n",
       "      <td>0</td>\n",
       "    </tr>\n",
       "  </tbody>\n",
       "</table>\n",
       "</div>"
      ],
      "text/plain": [
       "             eth_close  eth_volume   bch_close  bch_volume  ltc_close  \\\n",
       "time                                                                    \n",
       "1535215020  279.359985    8.790519  531.479980    0.016868  58.009998   \n",
       "1535215080  279.369995    1.311763  531.469971    0.013854  58.020000   \n",
       "1535215140  279.660004   11.752819  531.479980    0.016900  58.020000   \n",
       "1535215200  279.649994    8.351710  531.479980    0.299520  58.080002   \n",
       "1535215260  279.649994   10.511729  531.630005    3.528913  58.090000   \n",
       "\n",
       "            ltc_volume   btc_close  btc_volume     future  target  \n",
       "time                                                               \n",
       "1535215020    7.301921  6714.52002    1.002652  58.080002       1  \n",
       "1535215080   23.802017  6714.52002    1.021925  58.090000       1  \n",
       "1535215140    6.953497  6715.00000    3.645508        NaN       0  \n",
       "1535215200  202.403183  6715.00000    0.513560        NaN       0  \n",
       "1535215260  160.602554  6715.00000    0.513560        NaN       0  "
      ]
     },
     "execution_count": 23,
     "metadata": {},
     "output_type": "execute_result"
    }
   ],
   "source": [
    "# there are nulls on the buttom\n",
    "main_df.tail()"
   ]
  },
  {
   "cell_type": "code",
   "execution_count": 24,
   "metadata": {
    "colab": {},
    "colab_type": "code",
    "id": "3OF_oyiOXMY1"
   },
   "outputs": [],
   "source": [
    "# sort them(they may be already sorted)\n",
    "times = sorted(main_df.index.values)\n",
    "# the timestamp for 5% of the data\n",
    "# 95% of the data happened before this time\n",
    "last_5pct = times[-int(0.05*len(times))]"
   ]
  },
  {
   "cell_type": "code",
   "execution_count": 25,
   "metadata": {
    "colab": {
     "base_uri": "https://localhost:8080/",
     "height": 34
    },
    "colab_type": "code",
    "id": "RaGnKZbzcVWA",
    "outputId": "ecb3e50a-f5d2-42e0-93de-78422ebfc6ba"
   },
   "outputs": [
    {
     "data": {
      "text/plain": [
       "1534905120"
      ]
     },
     "execution_count": 25,
     "metadata": {},
     "output_type": "execute_result"
    }
   ],
   "source": [
    "last_5pct"
   ]
  },
  {
   "cell_type": "code",
   "execution_count": 26,
   "metadata": {
    "colab": {},
    "colab_type": "code",
    "id": "6ZIkQ6gdcZXS"
   },
   "outputs": [],
   "source": [
    "validation_main_df_sp = main_df[(main_df.index >= last_5pct)]"
   ]
  },
  {
   "cell_type": "code",
   "execution_count": 27,
   "metadata": {
    "colab": {},
    "colab_type": "code",
    "id": "1Zjo5x4mljqf"
   },
   "outputs": [],
   "source": [
    "main_df_sp = main_df[(main_df.index < last_5pct)]"
   ]
  },
  {
   "cell_type": "code",
   "execution_count": 24,
   "metadata": {
    "colab": {
     "base_uri": "https://localhost:8080/",
     "height": 235
    },
    "colab_type": "code",
    "id": "E82Fec7rpR92",
    "outputId": "6bdc494c-b60e-4f91-b4fb-685a3c76b602"
   },
   "outputs": [
    {
     "data": {
      "text/html": [
       "<div>\n",
       "<style scoped>\n",
       "    .dataframe tbody tr th:only-of-type {\n",
       "        vertical-align: middle;\n",
       "    }\n",
       "\n",
       "    .dataframe tbody tr th {\n",
       "        vertical-align: top;\n",
       "    }\n",
       "\n",
       "    .dataframe thead th {\n",
       "        text-align: right;\n",
       "    }\n",
       "</style>\n",
       "<table border=\"1\" class=\"dataframe\">\n",
       "  <thead>\n",
       "    <tr style=\"text-align: right;\">\n",
       "      <th></th>\n",
       "      <th>bch_close</th>\n",
       "      <th>bch_volume</th>\n",
       "      <th>btc_close</th>\n",
       "      <th>btc_volume</th>\n",
       "      <th>eth_close</th>\n",
       "      <th>eth_volume</th>\n",
       "      <th>ltc_close</th>\n",
       "      <th>ltc_volume</th>\n",
       "      <th>future</th>\n",
       "      <th>target</th>\n",
       "    </tr>\n",
       "    <tr>\n",
       "      <th>time</th>\n",
       "      <th></th>\n",
       "      <th></th>\n",
       "      <th></th>\n",
       "      <th></th>\n",
       "      <th></th>\n",
       "      <th></th>\n",
       "      <th></th>\n",
       "      <th></th>\n",
       "      <th></th>\n",
       "      <th></th>\n",
       "    </tr>\n",
       "  </thead>\n",
       "  <tbody>\n",
       "    <tr>\n",
       "      <th>1528968720</th>\n",
       "      <td>870.859985</td>\n",
       "      <td>26.856577</td>\n",
       "      <td>6487.379883</td>\n",
       "      <td>7.706374</td>\n",
       "      <td>486.01001</td>\n",
       "      <td>26.019083</td>\n",
       "      <td>96.660004</td>\n",
       "      <td>314.387024</td>\n",
       "      <td>96.389999</td>\n",
       "      <td>0</td>\n",
       "    </tr>\n",
       "    <tr>\n",
       "      <th>1528968780</th>\n",
       "      <td>870.099976</td>\n",
       "      <td>1.124300</td>\n",
       "      <td>6479.410156</td>\n",
       "      <td>3.088252</td>\n",
       "      <td>486.00000</td>\n",
       "      <td>8.449400</td>\n",
       "      <td>96.570000</td>\n",
       "      <td>77.129799</td>\n",
       "      <td>96.519997</td>\n",
       "      <td>0</td>\n",
       "    </tr>\n",
       "    <tr>\n",
       "      <th>1528968840</th>\n",
       "      <td>870.789978</td>\n",
       "      <td>1.749862</td>\n",
       "      <td>6479.410156</td>\n",
       "      <td>1.404100</td>\n",
       "      <td>485.75000</td>\n",
       "      <td>26.994646</td>\n",
       "      <td>96.500000</td>\n",
       "      <td>7.216067</td>\n",
       "      <td>96.440002</td>\n",
       "      <td>0</td>\n",
       "    </tr>\n",
       "    <tr>\n",
       "      <th>1528968900</th>\n",
       "      <td>870.000000</td>\n",
       "      <td>1.680500</td>\n",
       "      <td>6479.979980</td>\n",
       "      <td>0.753000</td>\n",
       "      <td>486.00000</td>\n",
       "      <td>77.355759</td>\n",
       "      <td>96.389999</td>\n",
       "      <td>524.539978</td>\n",
       "      <td>96.470001</td>\n",
       "      <td>1</td>\n",
       "    </tr>\n",
       "    <tr>\n",
       "      <th>1528968960</th>\n",
       "      <td>869.989990</td>\n",
       "      <td>1.669014</td>\n",
       "      <td>6480.000000</td>\n",
       "      <td>1.490900</td>\n",
       "      <td>486.00000</td>\n",
       "      <td>7.503300</td>\n",
       "      <td>96.519997</td>\n",
       "      <td>16.991997</td>\n",
       "      <td>96.400002</td>\n",
       "      <td>0</td>\n",
       "    </tr>\n",
       "  </tbody>\n",
       "</table>\n",
       "</div>"
      ],
      "text/plain": [
       "             bch_close  bch_volume    btc_close  btc_volume  eth_close  \\\n",
       "time                                                                     \n",
       "1528968720  870.859985   26.856577  6487.379883    7.706374  486.01001   \n",
       "1528968780  870.099976    1.124300  6479.410156    3.088252  486.00000   \n",
       "1528968840  870.789978    1.749862  6479.410156    1.404100  485.75000   \n",
       "1528968900  870.000000    1.680500  6479.979980    0.753000  486.00000   \n",
       "1528968960  869.989990    1.669014  6480.000000    1.490900  486.00000   \n",
       "\n",
       "            eth_volume  ltc_close  ltc_volume     future  target  \n",
       "time                                                              \n",
       "1528968720   26.019083  96.660004  314.387024  96.389999       0  \n",
       "1528968780    8.449400  96.570000   77.129799  96.519997       0  \n",
       "1528968840   26.994646  96.500000    7.216067  96.440002       0  \n",
       "1528968900   77.355759  96.389999  524.539978  96.470001       1  \n",
       "1528968960    7.503300  96.519997   16.991997  96.400002       0  "
      ]
     },
     "execution_count": 24,
     "metadata": {
      "tags": []
     },
     "output_type": "execute_result"
    }
   ],
   "source": [
    "main_df_sp.head()"
   ]
  },
  {
   "cell_type": "code",
   "execution_count": 28,
   "metadata": {
    "colab": {},
    "colab_type": "code",
    "id": "5H44Bj2N3Wpu"
   },
   "outputs": [],
   "source": [
    "train_x, train_y = preprocess_df(main_df_sp)\n",
    "validation_x, validation_y = preprocess_df(validation_main_df_sp)"
   ]
  },
  {
   "cell_type": "code",
   "execution_count": 29,
   "metadata": {
    "colab": {
     "base_uri": "https://localhost:8080/",
     "height": 34
    },
    "colab_type": "code",
    "id": "fIfpq2L74kHg",
    "outputId": "8da7a256-80c1-47fd-dbd3-0726cf8221fd"
   },
   "outputs": [
    {
     "data": {
      "text/plain": [
       "(82166, 60, 8)"
      ]
     },
     "execution_count": 29,
     "metadata": {},
     "output_type": "execute_result"
    }
   ],
   "source": [
    "train_x.shape"
   ]
  },
  {
   "cell_type": "code",
   "execution_count": 30,
   "metadata": {
    "colab": {
     "base_uri": "https://localhost:8080/",
     "height": 34
    },
    "colab_type": "code",
    "id": "uBsqjLH7EaEt",
    "outputId": "25bc6a40-6479-4e1d-e949-8f4cf034966e"
   },
   "outputs": [
    {
     "data": {
      "text/plain": [
       "82166"
      ]
     },
     "execution_count": 30,
     "metadata": {},
     "output_type": "execute_result"
    }
   ],
   "source": [
    "len(train_y)"
   ]
  },
  {
   "cell_type": "code",
   "execution_count": 33,
   "metadata": {
    "colab": {
     "base_uri": "https://localhost:8080/",
     "height": 795
    },
    "colab_type": "code",
    "id": "2rgFjze0Ektk",
    "outputId": "fbebdf0d-9db5-4c42-df9d-25bd23ad9dbe"
   },
   "outputs": [
    {
     "name": "stdout",
     "output_type": "stream",
     "text": [
      "Train on 82166 samples, validate on 4018 samples\n",
      "Epoch 1/10\n",
      "82166/82166 [==============================] - 119s 1ms/sample - loss: 0.7142 - acc: 0.5161 - val_loss: 0.6875 - val_acc: 0.5475\n",
      "Epoch 2/10\n",
      "82166/82166 [==============================] - 113s 1ms/sample - loss: 0.6891 - acc: 0.5385 - val_loss: 0.6874 - val_acc: 0.5468\n",
      "Epoch 3/10\n",
      "82166/82166 [==============================] - 113s 1ms/sample - loss: 0.6854 - acc: 0.5546 - val_loss: 0.6789 - val_acc: 0.5702\n",
      "Epoch 4/10\n",
      "82166/82166 [==============================] - 113s 1ms/sample - loss: 0.6817 - acc: 0.5647 - val_loss: 0.6784 - val_acc: 0.5672\n",
      "Epoch 5/10\n",
      "82166/82166 [==============================] - 113s 1ms/sample - loss: 0.6800 - acc: 0.5654 - val_loss: 0.6799 - val_acc: 0.5694\n",
      "Epoch 6/10\n",
      "82166/82166 [==============================] - 113s 1ms/sample - loss: 0.6780 - acc: 0.5724 - val_loss: 0.6736 - val_acc: 0.5699\n",
      "Epoch 7/10\n",
      "82166/82166 [==============================] - 110s 1ms/sample - loss: 0.6757 - acc: 0.5776 - val_loss: 0.6757 - val_acc: 0.5737\n",
      "Epoch 8/10\n",
      "82166/82166 [==============================] - 110s 1ms/sample - loss: 0.6716 - acc: 0.5864 - val_loss: 0.6750 - val_acc: 0.5814\n",
      "Epoch 9/10\n",
      "82166/82166 [==============================] - 110s 1ms/sample - loss: 0.6673 - acc: 0.5921 - val_loss: 0.6767 - val_acc: 0.5824\n",
      "Epoch 10/10\n",
      "82166/82166 [==============================] - 110s 1ms/sample - loss: 0.6585 - acc: 0.6082 - val_loss: 0.6867 - val_acc: 0.5764\n",
      "Test loss: 0.6867448023862065\n",
      "Test accuracy: 0.5764062\n"
     ]
    }
   ],
   "source": [
    "model = Sequential()\n",
    "# remove return_sequences for dense layer\n",
    "model.add(CuDNNLSTM(128, input_shape=(train_x.shape[1:]),\n",
    "                    return_sequences=True))\n",
    "model.add(Dropout(0.2))\n",
    "model.add(BatchNormalization())\n",
    "\n",
    "model.add(CuDNNLSTM(128,\n",
    "                    return_sequences=True))\n",
    "model.add(Dropout(0.1))\n",
    "model.add(BatchNormalization())\n",
    "\n",
    "\n",
    "model.add(CuDNNLSTM(128,\n",
    "                    return_sequences=True))\n",
    "model.add(Dropout(0.2))\n",
    "model.add(BatchNormalization())\n",
    "\n",
    "model.add(CuDNNLSTM(128))\n",
    "model.add(Dropout(0.2))\n",
    "model.add(BatchNormalization())\n",
    "\n",
    "model.add(Dense(32, activation=\"relu\"))\n",
    "model.add(Dropout(0.2))\n",
    "\n",
    "model.add(Dense(2, activation=\"softmax\"))\n",
    "\n",
    "\n",
    "opt = tf.keras.optimizers.Adam(lr=0.001, decay=1e-6)\n",
    "model.compile(loss='sparse_categorical_crossentropy',\n",
    "             optimizer=opt,metrics=['accuracy'])\n",
    "tensorboard = TensorBoard(log_dir='/home/tigial3535/logs/{}'.format(NAME))\n",
    "\n",
    "# unique file name that will include the epoch and \n",
    "# the validation acc for that epoch\n",
    "\n",
    "filepath = \"/home/tigial3535/models/RNN_Final-{epoch:02d}-{val_acc:.3f}\"  \n",
    "# saves only the best ones\n",
    "checkpoint = ModelCheckpoint(\"{}.model\".format(filepath, monitor='val_acc', verbose=1, save_best_only=True, mode='max'))\n",
    "\n",
    "# Train model\n",
    "history = model.fit(\n",
    "    train_x, train_y,\n",
    "    batch_size=BATCH_SIZE,\n",
    "    epochs=EPOCHS,\n",
    "    validation_data=(validation_x, validation_y),\n",
    "    callbacks=[tensorboard, checkpoint])\n",
    "# Score model\n",
    "score = model.evaluate(validation_x, validation_y, verbose=0)\n",
    "print('Test loss:', score[0])\n",
    "print('Test accuracy:', score[1])\n",
    "# Save model\n",
    "model.save(\"/home/tigial3535/models/{}\".format(NAME))"
   ]
  },
  {
   "cell_type": "code",
   "execution_count": 0,
   "metadata": {
    "colab": {},
    "colab_type": "code",
    "id": "d9UbyB1PtNlT"
   },
   "outputs": [],
   "source": []
  },
  {
   "cell_type": "code",
   "execution_count": 0,
   "metadata": {
    "colab": {},
    "colab_type": "code",
    "id": "XGMe3Dy_txqb"
   },
   "outputs": [],
   "source": []
  },
  {
   "cell_type": "code",
   "execution_count": 0,
   "metadata": {
    "colab": {},
    "colab_type": "code",
    "id": "2FdKz_uht3rY"
   },
   "outputs": [],
   "source": []
  },
  {
   "cell_type": "code",
   "execution_count": 0,
   "metadata": {
    "colab": {},
    "colab_type": "code",
    "id": "AvHnfN8WxAkG"
   },
   "outputs": [],
   "source": []
  }
 ],
 "metadata": {
  "accelerator": "GPU",
  "colab": {
   "collapsed_sections": [],
   "name": "RNN_Practice.ipynb",
   "provenance": [],
   "version": "0.3.2"
  },
  "kernelspec": {
   "display_name": "Python 3",
   "language": "python",
   "name": "python3"
  },
  "language_info": {
   "codemirror_mode": {
    "name": "ipython",
    "version": 3
   },
   "file_extension": ".py",
   "mimetype": "text/x-python",
   "name": "python",
   "nbconvert_exporter": "python",
   "pygments_lexer": "ipython3",
   "version": "3.5.3"
  }
 },
 "nbformat": 4,
 "nbformat_minor": 1
}
