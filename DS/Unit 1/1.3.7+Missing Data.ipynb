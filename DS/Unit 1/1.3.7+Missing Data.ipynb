{
 "cells": [
  {
   "cell_type": "code",
   "execution_count": 42,
   "metadata": {},
   "outputs": [
    {
     "name": "stdout",
     "output_type": "stream",
     "text": [
      "    age gender  height  weight\n",
      "0  27.0      f    64.0   140.0\n",
      "1  50.0      f     NaN     NaN\n",
      "2  34.0      f    71.0   130.0\n",
      "3   NaN      m    66.0   110.0\n",
      "4   NaN      m    68.0   160.0\n",
      "5   NaN   None     NaN     NaN\n",
      "6  33.0      M     NaN     NaN\n",
      "    age gender  height  weight\n",
      "0  27.0      f    64.0   140.0\n",
      "2  34.0      f    71.0   130.0\n",
      "    age gender  height  weight\n",
      "0  27.0      f    64.0   140.0\n",
      "1  50.0      f     NaN     NaN\n",
      "2  34.0      f    71.0   130.0\n",
      "3   NaN      m    66.0   110.0\n",
      "4   NaN      m    68.0   160.0\n",
      "6  33.0      M     NaN     NaN\n",
      "    age gender  height  weight\n",
      "0  27.0      f    64.0   140.0\n",
      "1  50.0      f     NaN     NaN\n",
      "2  34.0      f    71.0   130.0\n",
      "3   NaN      m    66.0   110.0\n",
      "4   NaN      m    68.0   160.0\n",
      "6  33.0      M     NaN     NaN\n",
      "    age gender  height  weight\n",
      "0  27.0      f    64.0   140.0\n",
      "2  34.0      f    71.0   130.0\n",
      "3   NaN      m    66.0   110.0\n",
      "4   NaN      m    68.0   160.0\n",
      "    age gender  height  weight\n",
      "0  27.0      f    64.0   140.0\n",
      "2  34.0      f    71.0   130.0\n",
      "3   NaN      m    66.0   110.0\n",
      "4   NaN      m    68.0   160.0\n"
     ]
    }
   ],
   "source": [
    "import pandas as pd\n",
    "\n",
    "# Sample data to play with and clean.\n",
    "data = {\n",
    "    'age': [27, 50, 34, None, None, None,33],\n",
    "    'gender': ['f', 'f', 'f', 'm', 'm', None,'M'],\n",
    "    'height' : [64, None, 71, 66, 68, None,None],\n",
    "    'weight' : [140, None, 130, 110, 160, None,None],\n",
    "}\n",
    "df = pd.DataFrame(data)\n",
    "\n",
    "# Full dataset.\n",
    "print(df)\n",
    "\n",
    "# Drop all rows that have any missing values in any column.\n",
    "print(df.dropna()) \n",
    "\n",
    "# Drop only rows where all values are missing.\n",
    "print(df.dropna(how='all'))\n",
    "\n",
    "# Drop only rows where more than two values are missing.\n",
    "print(df.dropna(thresh=2))\n",
    "\n",
    "# Drop all rows that have any missing values in the 'gender' or 'height' columns.\n",
    "print(df.dropna(subset=['gender','height']))\n",
    "\n",
    "# Your turn. Write code below to drop rows where both height and weight\n",
    "# are missing and print the result.\n",
    "\n",
    "print(df.dropna(how='all', subset=['weight', 'height']))\n"
   ]
  },
  {
   "cell_type": "code",
   "execution_count": 43,
   "metadata": {},
   "outputs": [
    {
     "name": "stdout",
     "output_type": "stream",
     "text": [
      "    age gender  height  weight\n",
      "0  27.0      f   64.00   140.0\n",
      "1  50.0      f   67.25   135.0\n",
      "2  34.0      f   71.00   130.0\n",
      "3  36.0      m   66.00   110.0\n",
      "4  36.0      m   68.00   160.0\n",
      "5  36.0   None   67.25   135.0\n",
      "6  33.0      M   67.25   135.0\n"
     ]
    }
   ],
   "source": [
    "df = pd.DataFrame(data)\n",
    "# For each numeric column, replace the missing values with the mean for that column.\n",
    "df.fillna(df.mean(),inplace=True)\n",
    "print(df)"
   ]
  },
  {
   "cell_type": "code",
   "execution_count": 44,
   "metadata": {},
   "outputs": [
    {
     "name": "stdout",
     "output_type": "stream",
     "text": [
      "    age gender  height  weight\n",
      "0  27.0      f    64.0   140.0\n",
      "1  50.0      f    68.0   160.0\n",
      "2  34.0      f    71.0   130.0\n",
      "3  33.0      m    66.0   110.0\n",
      "4  33.0      m    68.0   160.0\n",
      "5  33.0      f    68.0   160.0\n",
      "6  33.0      M    68.0   160.0\n"
     ]
    }
   ],
   "source": [
    "# For each column, replace the missing values with the most common value for that\n",
    "# column. Useful for filling in missing categorical values.\n",
    "# As written, this command will fill in missing values for both numerical and\n",
    "# categorical columns.\n",
    "df = pd.DataFrame(data)\n",
    "# This goes column by column\n",
    "# fills with most frequent value\n",
    "df = df.apply(lambda x:x.fillna(x.value_counts().index[0]))\n",
    "print(df)"
   ]
  },
  {
   "cell_type": "code",
   "execution_count": 48,
   "metadata": {},
   "outputs": [
    {
     "name": "stdout",
     "output_type": "stream",
     "text": [
      "    age gender  height  weight\n",
      "0  27.0      f    64.0   140.0\n",
      "1  50.0      f    67.0   135.0\n",
      "2  34.0      f    71.0   130.0\n",
      "3  33.5      m    66.0   110.0\n",
      "4  33.5      m    68.0   160.0\n",
      "5  33.5   None    67.0   135.0\n",
      "6  33.0      M    67.0   135.0\n"
     ]
    }
   ],
   "source": [
    "# Your turn. Try replacing each value with the median, mode, or other statistic\n",
    "# of your choice.\n",
    "df = pd.DataFrame(data)\n",
    "df.fillna(df.median(),inplace=True)\n",
    "print(df)"
   ]
  },
  {
   "cell_type": "code",
   "execution_count": 46,
   "metadata": {},
   "outputs": [
    {
     "name": "stdout",
     "output_type": "stream",
     "text": [
      "Index(['f', 'm', 'M'], dtype='object')\n",
      "f\n",
      "[0, 1, 2, 3, 4, 5, 6]\n",
      "0\n"
     ]
    }
   ],
   "source": [
    "# Illustration on how to use value_counts and index\n",
    "df = pd.DataFrame(data)\n",
    "# an Index object which can be selected like lists\n",
    "print(df['gender'].value_counts().index)\n",
    "print(df['gender'].value_counts().index[0])\n",
    "\n",
    "# Look the index of the whole dataframe is a RangeIndex which can be selected like list and it is parsable to a list\n",
    "print(list(df.index))\n",
    "print(df.index[0])"
   ]
  }
 ],
 "metadata": {
  "kernelspec": {
   "display_name": "Python 3",
   "language": "python",
   "name": "python3"
  },
  "language_info": {
   "codemirror_mode": {
    "name": "ipython",
    "version": 3
   },
   "file_extension": ".py",
   "mimetype": "text/x-python",
   "name": "python",
   "nbconvert_exporter": "python",
   "pygments_lexer": "ipython3",
   "version": "3.6.6"
  }
 },
 "nbformat": 4,
 "nbformat_minor": 2
}
