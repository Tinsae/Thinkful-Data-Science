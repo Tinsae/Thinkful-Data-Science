{
 "cells": [
  {
   "cell_type": "code",
   "execution_count": 1,
   "metadata": {
    "run_control": {
     "frozen": false,
     "read_only": false
    }
   },
   "outputs": [],
   "source": [
    "%matplotlib inline\n",
    "import numpy as np\n",
    "import pandas as pd\n",
    "import scipy\n",
    "import sklearn\n",
    "import matplotlib.pyplot as plt\n",
    "import seaborn as sns"
   ]
  },
  {
   "cell_type": "markdown",
   "metadata": {
    "run_control": {
     "frozen": false,
     "read_only": false
    }
   },
   "source": [
    "# Naive Bayes\n",
    "\n",
    "Here we're going to go through a basic Naive Bayes classifier. Specifically we're going to build a spam filter. As we've said before, this is a classic use for this kind of classifier and it's not too difficult to set up. The dataset we'll work with is UC Irvine's [SMS spam dataset](https://archive.ics.uci.edu/ml/datasets/SMS+Spam+Collection).\n",
    "\n",
    "This dataset has a few nice attributes. Firstly, it's pre-labelled, which is great for our purposes as we don't have to make our own spam/ham labels ('ham' being the common term to denote a message that is not spam). Secondly, the dataset is relatively small, which will allow us to show off one of the great things about Naive Bayes, its ability to train on relatively little data while achieving reasonable accuracy. "
   ]
  },
  {
   "cell_type": "code",
   "execution_count": 2,
   "metadata": {
    "run_control": {
     "frozen": false,
     "read_only": false
    }
   },
   "outputs": [
    {
     "data": {
      "text/html": [
       "<div>\n",
       "<style scoped>\n",
       "    .dataframe tbody tr th:only-of-type {\n",
       "        vertical-align: middle;\n",
       "    }\n",
       "\n",
       "    .dataframe tbody tr th {\n",
       "        vertical-align: top;\n",
       "    }\n",
       "\n",
       "    .dataframe thead th {\n",
       "        text-align: right;\n",
       "    }\n",
       "</style>\n",
       "<table border=\"1\" class=\"dataframe\">\n",
       "  <thead>\n",
       "    <tr style=\"text-align: right;\">\n",
       "      <th></th>\n",
       "      <th>spam</th>\n",
       "      <th>message</th>\n",
       "    </tr>\n",
       "  </thead>\n",
       "  <tbody>\n",
       "    <tr>\n",
       "      <th>2515</th>\n",
       "      <td>ham</td>\n",
       "      <td>Ok ill send you with in  &amp;lt;DECIMAL&amp;gt;  ok.</td>\n",
       "    </tr>\n",
       "    <tr>\n",
       "      <th>3434</th>\n",
       "      <td>ham</td>\n",
       "      <td>Christmas is An occasion that is Celebrated as...</td>\n",
       "    </tr>\n",
       "    <tr>\n",
       "      <th>5455</th>\n",
       "      <td>ham</td>\n",
       "      <td>Wishing you a beautiful day. Each moment revea...</td>\n",
       "    </tr>\n",
       "    <tr>\n",
       "      <th>286</th>\n",
       "      <td>ham</td>\n",
       "      <td>K, I might come by tonight then if my class le...</td>\n",
       "    </tr>\n",
       "    <tr>\n",
       "      <th>3934</th>\n",
       "      <td>ham</td>\n",
       "      <td>Playin space poker, u?</td>\n",
       "    </tr>\n",
       "  </tbody>\n",
       "</table>\n",
       "</div>"
      ],
      "text/plain": [
       "     spam                                            message\n",
       "2515  ham      Ok ill send you with in  &lt;DECIMAL&gt;  ok.\n",
       "3434  ham  Christmas is An occasion that is Celebrated as...\n",
       "5455  ham  Wishing you a beautiful day. Each moment revea...\n",
       "286   ham  K, I might come by tonight then if my class le...\n",
       "3934  ham                             Playin space poker, u?"
      ]
     },
     "execution_count": 2,
     "metadata": {},
     "output_type": "execute_result"
    }
   ],
   "source": [
    "# Grab and process the raw data.\n",
    "data_path = (\"https://raw.githubusercontent.com/Thinkful-Ed/data-201-resources/\"\n",
    "             \"master/sms_spam_collection/SMSSpamCollection\"\n",
    "            )\n",
    "sms_raw_orignal = pd.read_csv(data_path, delimiter= '\\t', header=None)\n",
    "sms_raw = sms_raw_orignal.copy(deep=True)\n",
    "sms_raw.columns = ['spam', 'message']\n",
    "sms_raw.sample(5)"
   ]
  },
  {
   "cell_type": "markdown",
   "metadata": {
    "run_control": {
     "frozen": false,
     "read_only": false
    }
   },
   "source": [
    "So we've loaded up the dataset and we have two columns, a label and a message.\n",
    "\n",
    "Now, a message isn't really a feature. If you tried to make it one it'd be pretty useless. However, we can engineer features from the message field relatively easily. This kind of feature engineering is a basic version of what we'll cover in the NLP section.\n",
    "\n",
    "At the most obvious level, a feature from the message can be whether it contains a given word. Let's add those columns to our dataframe. The words chosen below are simply intuited as possibly having something to do with spam. Try some of your own ideas too!"
   ]
  },
  {
   "cell_type": "code",
   "execution_count": 3,
   "metadata": {
    "run_control": {
     "frozen": false,
     "read_only": false
    }
   },
   "outputs": [
    {
     "data": {
      "text/html": [
       "<div>\n",
       "<style scoped>\n",
       "    .dataframe tbody tr th:only-of-type {\n",
       "        vertical-align: middle;\n",
       "    }\n",
       "\n",
       "    .dataframe tbody tr th {\n",
       "        vertical-align: top;\n",
       "    }\n",
       "\n",
       "    .dataframe thead th {\n",
       "        text-align: right;\n",
       "    }\n",
       "</style>\n",
       "<table border=\"1\" class=\"dataframe\">\n",
       "  <thead>\n",
       "    <tr style=\"text-align: right;\">\n",
       "      <th></th>\n",
       "      <th>spam</th>\n",
       "      <th>message</th>\n",
       "      <th>click</th>\n",
       "      <th>offer</th>\n",
       "      <th>winner</th>\n",
       "      <th>buy</th>\n",
       "      <th>free</th>\n",
       "      <th>cash</th>\n",
       "      <th>urgent</th>\n",
       "      <th>allcaps</th>\n",
       "    </tr>\n",
       "  </thead>\n",
       "  <tbody>\n",
       "    <tr>\n",
       "      <th>2451</th>\n",
       "      <td>False</td>\n",
       "      <td>K..give back my thanks.</td>\n",
       "      <td>False</td>\n",
       "      <td>False</td>\n",
       "      <td>False</td>\n",
       "      <td>False</td>\n",
       "      <td>False</td>\n",
       "      <td>False</td>\n",
       "      <td>False</td>\n",
       "      <td>False</td>\n",
       "    </tr>\n",
       "    <tr>\n",
       "      <th>5539</th>\n",
       "      <td>False</td>\n",
       "      <td>Just sleeping..and surfing</td>\n",
       "      <td>False</td>\n",
       "      <td>False</td>\n",
       "      <td>False</td>\n",
       "      <td>False</td>\n",
       "      <td>False</td>\n",
       "      <td>False</td>\n",
       "      <td>False</td>\n",
       "      <td>False</td>\n",
       "    </tr>\n",
       "    <tr>\n",
       "      <th>833</th>\n",
       "      <td>True</td>\n",
       "      <td>Dear Voucher Holder, To claim this weeks offer...</td>\n",
       "      <td>False</td>\n",
       "      <td>False</td>\n",
       "      <td>False</td>\n",
       "      <td>False</td>\n",
       "      <td>False</td>\n",
       "      <td>False</td>\n",
       "      <td>False</td>\n",
       "      <td>False</td>\n",
       "    </tr>\n",
       "    <tr>\n",
       "      <th>3530</th>\n",
       "      <td>True</td>\n",
       "      <td>Xmas &amp; New Years Eve tickets are now on sale f...</td>\n",
       "      <td>False</td>\n",
       "      <td>False</td>\n",
       "      <td>False</td>\n",
       "      <td>False</td>\n",
       "      <td>False</td>\n",
       "      <td>False</td>\n",
       "      <td>False</td>\n",
       "      <td>False</td>\n",
       "    </tr>\n",
       "    <tr>\n",
       "      <th>123</th>\n",
       "      <td>True</td>\n",
       "      <td>Todays Voda numbers ending 7548 are selected t...</td>\n",
       "      <td>False</td>\n",
       "      <td>False</td>\n",
       "      <td>False</td>\n",
       "      <td>False</td>\n",
       "      <td>False</td>\n",
       "      <td>False</td>\n",
       "      <td>False</td>\n",
       "      <td>False</td>\n",
       "    </tr>\n",
       "  </tbody>\n",
       "</table>\n",
       "</div>"
      ],
      "text/plain": [
       "       spam                                            message  click  offer  \\\n",
       "2451  False                            K..give back my thanks.  False  False   \n",
       "5539  False                         Just sleeping..and surfing  False  False   \n",
       "833    True  Dear Voucher Holder, To claim this weeks offer...  False  False   \n",
       "3530   True  Xmas & New Years Eve tickets are now on sale f...  False  False   \n",
       "123    True  Todays Voda numbers ending 7548 are selected t...  False  False   \n",
       "\n",
       "      winner    buy   free   cash  urgent  allcaps  \n",
       "2451   False  False  False  False   False    False  \n",
       "5539   False  False  False  False   False    False  \n",
       "833    False  False  False  False   False    False  \n",
       "3530   False  False  False  False   False    False  \n",
       "123    False  False  False  False   False    False  "
      ]
     },
     "execution_count": 3,
     "metadata": {},
     "output_type": "execute_result"
    }
   ],
   "source": [
    "keywords=['click', 'offer', 'winner', 'buy', 'free', 'cash', 'urgent']\n",
    "def convert_data(sms_raw, data_only=False, keywords=['click', 'offer', 'winner', 'buy', 'free', 'cash', 'urgent']):\n",
    "    for key in keywords:\n",
    "        # Note that we add spaces around the key so that we're getting the word,\n",
    "        # not just pattern matching.\n",
    "        # TGA case=False: case insensitive\n",
    "        \n",
    "  \n",
    "        if(data_only == False):\n",
    "            sms_raw[str(key)] = sms_raw.message.str.contains(\n",
    "            ' ' + str(key) + ' ',\n",
    "            case=False\n",
    "        )\n",
    "        # data only is true to convert only the data_portion of one data point\n",
    "        else:\n",
    "            sms_raw[str(key)] = sms_raw.message.lower().find(str(' ' + key + ' ' )) != -1\n",
    "    if(not data_only):\n",
    "        sms_raw['allcaps'] = sms_raw.message.str.isupper()\n",
    "        sms_raw['spam'] = sms_raw['spam'].apply(lambda x: x == 'spam' or x == 1)\n",
    "    else:\n",
    "        sms_raw['allcaps'] = sms_raw.message.isupper()\n",
    "\n",
    "    return sms_raw\n",
    "\n",
    "\n",
    "sms_raw = convert_data(sms_raw)\n",
    "sms_raw.sample(5)"
   ]
  },
  {
   "cell_type": "markdown",
   "metadata": {
    "run_control": {
     "frozen": false,
     "read_only": false
    }
   },
   "source": [
    "Note that you could add new features to the dataframe simply by adding them to the keywords list. That's much nicer than doing each word manually. If it were more complicated it would probably be worth making a function as well.\n",
    "\n",
    "Another feature option would be if the message is all uppercase. That seems kind of spammy doesn't it?"
   ]
  },
  {
   "cell_type": "code",
   "execution_count": 4,
   "metadata": {
    "run_control": {
     "frozen": false,
     "read_only": false
    }
   },
   "outputs": [],
   "source": [
    "# included in the function\n",
    "#sms_raw['allcaps'] = sms_raw.message.str.isupper()"
   ]
  },
  {
   "cell_type": "markdown",
   "metadata": {
    "run_control": {
     "frozen": false,
     "read_only": false
    }
   },
   "source": [
    "Before we go further, let's turn the spam column into a boolean so we can easily do some statistics to prepare for modeling."
   ]
  },
  {
   "cell_type": "code",
   "execution_count": 5,
   "metadata": {
    "run_control": {
     "frozen": false,
     "read_only": false
    }
   },
   "outputs": [],
   "source": [
    "#sms_raw['spam'] = (sms_raw['spam'] == 'spam')\n",
    "# Note that if you run this cell a second time everything will become false.\n",
    "# So... Don't.\n",
    "\n",
    "#TGA Alternative way, you an run it many times\n",
    "# included in the function\n",
    "#sms_raw['spam'] = sms_raw['spam'].apply(lambda x: x == 'spam' or x == 1)"
   ]
  },
  {
   "cell_type": "markdown",
   "metadata": {
    "run_control": {
     "frozen": false,
     "read_only": false
    }
   },
   "source": [
    "Now, as we covered before one of the main assumptions of Naive Bayes is that the variables fed into the model are independent of each other. Let's check to see how true that is in this case using Pandas' built in correlation matrix function, corr(), and the heatmap from seaborn."
   ]
  },
  {
   "cell_type": "code",
   "execution_count": 6,
   "metadata": {
    "run_control": {
     "frozen": false,
     "read_only": false
    }
   },
   "outputs": [
    {
     "data": {
      "text/plain": [
       "<matplotlib.axes._subplots.AxesSubplot at 0x18c29f24a20>"
      ]
     },
     "execution_count": 6,
     "metadata": {},
     "output_type": "execute_result"
    },
    {
     "data": {
      "image/png": "[encoded data removed]",
      "text/plain": [
       "<Figure size 432x288 with 2 Axes>"
      ]
     },
     "metadata": {},
     "output_type": "display_data"
    }
   ],
   "source": [
    "sns.heatmap(sms_raw.corr())"
   ]
  },
  {
   "cell_type": "markdown",
   "metadata": {
    "run_control": {
     "frozen": false,
     "read_only": false
    }
   },
   "source": [
    "That is actually a great looking plot for us. Most of the words show strong independence from each other. The only exceptions are free:offer and cash:winner. For now, let's keep everything in the dataset.\n",
    "\n",
    "Before we actually run the model we have to build out our training data. SKLearn required you to specify an outcome (y or dependent variable) and your inputs (x or independent variables). We'll do that below under the titles `data` and `target`."
   ]
  },
  {
   "cell_type": "code",
   "execution_count": 7,
   "metadata": {
    "run_control": {
     "frozen": false,
     "read_only": false
    }
   },
   "outputs": [
    {
     "name": "stdout",
     "output_type": "stream",
     "text": [
      "      click  offer  winner    buy   free   cash  urgent  allcaps\n",
      "586   False  False   False  False  False  False   False    False\n",
      "2216  False  False   False  False  False  False   False    False\n",
      "2652  False  False   False  False  False  False   False    False\n",
      "4355  False  False   False  False  False  False   False    False\n",
      "3921  False  False   False  False   True  False   False    False\n",
      "1741     True\n",
      "1162    False\n",
      "4687    False\n",
      "739     False\n",
      "3361    False\n",
      "Name: spam, dtype: bool\n"
     ]
    }
   ],
   "source": [
    "data = sms_raw[keywords + ['allcaps']]\n",
    "target = sms_raw['spam']\n",
    "\n",
    "print(data.sample(5))\n",
    "print(target.sample(5))"
   ]
  },
  {
   "cell_type": "code",
   "execution_count": 8,
   "metadata": {
    "run_control": {
     "frozen": false,
     "read_only": false
    }
   },
   "outputs": [
    {
     "name": "stdout",
     "output_type": "stream",
     "text": [
      "Number of mislabeled points out of a total 5572 points : 604\n"
     ]
    }
   ],
   "source": [
    "# Our data is binary / boolean, so we're importing the Bernoulli classifier.\n",
    "from sklearn.naive_bayes import BernoulliNB\n",
    "\n",
    "# Instantiate our model and store it in a new variable.\n",
    "bnb = BernoulliNB()\n",
    "\n",
    "# Fit our model to the data.\n",
    "bnb.fit(data, target)\n",
    "\n",
    "# Classify, storing the result in a new variable.\n",
    "y_pred = bnb.predict(data)\n",
    "\n",
    "# Display our results.\n",
    "print(\"Number of mislabeled points out of a total {} points : {}\".format(\n",
    "    data.shape[0],\n",
    "    (target != y_pred).sum()\n",
    "))"
   ]
  },
  {
   "cell_type": "markdown",
   "metadata": {
    "collapsed": true,
    "run_control": {
     "frozen": false,
     "read_only": false
    }
   },
   "source": [
    "Now try adding some of your own features and seeing if you can improve the model's performance. Also try comparing the other types of Naive Bayes Classifier and see which one is best. You can find the function names for training other kinds of Naive Bayes in the [documentation](http://scikit-learn.org/stable/modules/naive_bayes.html). It's a one word change."
   ]
  },
  {
   "cell_type": "markdown",
   "metadata": {
    "run_control": {
     "frozen": false,
     "read_only": false
    }
   },
   "source": [
    "## Bayesian Poisoning\n",
    "\n",
    "When implementing Naive Bayes, there is one more thing you must be aware of. Because Naive Bayes relies on probabilities and these probabilities are often based around obvious keywords it is a vulnerable model. By that we mean that people can manipulate the model. This is done through a process called __Bayesian Poisoning__.\n",
    "\n",
    "In spam, this would be done through including words in your spam message that would be highly unlikely to be part of a spam message. This would convince the model that the message is legitimate and let it into your inbox or wherever.\n",
    "\n",
    "Can you think of how you could do that here? Look at some spam messages that your model correctly identified and see if you can reword or rework them to get them classified as ham."
   ]
  },
  {
   "cell_type": "code",
   "execution_count": 13,
   "metadata": {
    "run_control": {
     "frozen": false,
     "read_only": false
    }
   },
   "outputs": [
    {
     "name": "stdout",
     "output_type": "stream",
     "text": [
      "604\n"
     ]
    },
    {
     "data": {
      "text/html": [
       "<div>\n",
       "<style scoped>\n",
       "    .dataframe tbody tr th:only-of-type {\n",
       "        vertical-align: middle;\n",
       "    }\n",
       "\n",
       "    .dataframe tbody tr th {\n",
       "        vertical-align: top;\n",
       "    }\n",
       "\n",
       "    .dataframe thead th {\n",
       "        text-align: right;\n",
       "    }\n",
       "</style>\n",
       "<table border=\"1\" class=\"dataframe\">\n",
       "  <thead>\n",
       "    <tr style=\"text-align: right;\">\n",
       "      <th></th>\n",
       "      <th>spam</th>\n",
       "      <th>message</th>\n",
       "      <th>click</th>\n",
       "      <th>offer</th>\n",
       "      <th>winner</th>\n",
       "      <th>buy</th>\n",
       "      <th>free</th>\n",
       "      <th>cash</th>\n",
       "      <th>urgent</th>\n",
       "      <th>allcaps</th>\n",
       "      <th>pred</th>\n",
       "    </tr>\n",
       "  </thead>\n",
       "  <tbody>\n",
       "    <tr>\n",
       "      <th>9</th>\n",
       "      <td>True</td>\n",
       "      <td>Had your mobile 11 months or more? U R entitle...</td>\n",
       "      <td>False</td>\n",
       "      <td>False</td>\n",
       "      <td>False</td>\n",
       "      <td>False</td>\n",
       "      <td>True</td>\n",
       "      <td>False</td>\n",
       "      <td>False</td>\n",
       "      <td>False</td>\n",
       "      <td>True</td>\n",
       "    </tr>\n",
       "    <tr>\n",
       "      <th>12</th>\n",
       "      <td>True</td>\n",
       "      <td>URGENT! You have won a 1 week FREE membership ...</td>\n",
       "      <td>False</td>\n",
       "      <td>False</td>\n",
       "      <td>False</td>\n",
       "      <td>False</td>\n",
       "      <td>True</td>\n",
       "      <td>False</td>\n",
       "      <td>False</td>\n",
       "      <td>False</td>\n",
       "      <td>True</td>\n",
       "    </tr>\n",
       "    <tr>\n",
       "      <th>15</th>\n",
       "      <td>True</td>\n",
       "      <td>XXXMobileMovieClub: To use your credit, click ...</td>\n",
       "      <td>True</td>\n",
       "      <td>False</td>\n",
       "      <td>False</td>\n",
       "      <td>False</td>\n",
       "      <td>False</td>\n",
       "      <td>False</td>\n",
       "      <td>False</td>\n",
       "      <td>False</td>\n",
       "      <td>True</td>\n",
       "    </tr>\n",
       "    <tr>\n",
       "      <th>42</th>\n",
       "      <td>True</td>\n",
       "      <td>07732584351 - Rodger Burns - MSG = We tried to...</td>\n",
       "      <td>False</td>\n",
       "      <td>False</td>\n",
       "      <td>False</td>\n",
       "      <td>False</td>\n",
       "      <td>True</td>\n",
       "      <td>False</td>\n",
       "      <td>False</td>\n",
       "      <td>False</td>\n",
       "      <td>True</td>\n",
       "    </tr>\n",
       "    <tr>\n",
       "      <th>93</th>\n",
       "      <td>True</td>\n",
       "      <td>Please call our customer service representativ...</td>\n",
       "      <td>False</td>\n",
       "      <td>False</td>\n",
       "      <td>False</td>\n",
       "      <td>False</td>\n",
       "      <td>False</td>\n",
       "      <td>True</td>\n",
       "      <td>False</td>\n",
       "      <td>False</td>\n",
       "      <td>True</td>\n",
       "    </tr>\n",
       "  </tbody>\n",
       "</table>\n",
       "</div>"
      ],
      "text/plain": [
       "    spam                                            message  click  offer  \\\n",
       "9   True  Had your mobile 11 months or more? U R entitle...  False  False   \n",
       "12  True  URGENT! You have won a 1 week FREE membership ...  False  False   \n",
       "15  True  XXXMobileMovieClub: To use your credit, click ...   True  False   \n",
       "42  True  07732584351 - Rodger Burns - MSG = We tried to...  False  False   \n",
       "93  True  Please call our customer service representativ...  False  False   \n",
       "\n",
       "    winner    buy   free   cash  urgent  allcaps  pred  \n",
       "9    False  False   True  False   False    False  True  \n",
       "12   False  False   True  False   False    False  True  \n",
       "15   False  False  False  False   False    False  True  \n",
       "42   False  False   True  False   False    False  True  \n",
       "93   False  False  False   True   False    False  True  "
      ]
     },
     "execution_count": 13,
     "metadata": {},
     "output_type": "execute_result"
    }
   ],
   "source": [
    "# TGA: confirm misclassfied entries\n",
    "\n",
    "# misclassfied entries\n",
    "sms_raw['pred'] = y_pred\n",
    "# TGA: this returns a funny array(as andrew ng calls it) something like this [1,]\n",
    "#=> np.where(target != y_pred)\n",
    "print(len(np.where(target != y_pred)[0]))\n",
    "wrong = sms_raw.loc[np.where(target != y_pred)[0]]\n",
    "# corretly classfied\n",
    "right = sms_raw.loc[np.where(target == y_pred)[0]]\n",
    "# correctly classfied spams\n",
    "right_spams = right[right['spam'] == True]\n",
    "right_spams.head()"
   ]
  },
  {
   "cell_type": "code",
   "execution_count": 14,
   "metadata": {},
   "outputs": [
    {
     "name": "stdout",
     "output_type": "stream",
     "text": [
      "feature =  click\n",
      "\n",
      "P( click = False/y=ham ):  0.9995854922279793\n",
      "P( click = True/y=ham):  0.0004145077720207254\n",
      "P( click = True/y=spam):  0.00535475234270415\n",
      "P( click = False/y=spam):  0.9946452476572959\n",
      "\n",
      "feature =  offer\n",
      "\n",
      "P( offer = False/y=ham ):  0.9991709844559585\n",
      "P( offer = True/y=ham):  0.0008290155440414508\n",
      "P( offer = True/y=spam):  0.01606425702811245\n",
      "P( offer = False/y=spam):  0.9839357429718876\n",
      "\n",
      "feature =  winner\n",
      "\n",
      "P( winner = False/y=ham ):  1.0\n",
      "P( winner = True/y=ham):  0.0\n",
      "P( winner = True/y=spam):  0.013386880856760375\n",
      "P( winner = False/y=spam):  0.9866131191432396\n",
      "\n",
      "feature =  buy\n",
      "\n",
      "P( buy = False/y=ham ):  0.9898445595854922\n",
      "P( buy = True/y=ham):  0.010155440414507772\n",
      "P( buy = True/y=spam):  0.0013386880856760374\n",
      "P( buy = False/y=spam):  0.998661311914324\n",
      "\n",
      "feature =  free\n",
      "\n",
      "P( free = False/y=ham ):  0.9915025906735752\n",
      "P( free = True/y=ham):  0.00849740932642487\n",
      "P( free = True/y=spam):  0.16599732262382866\n",
      "P( free = False/y=spam):  0.8340026773761714\n",
      "\n",
      "feature =  cash\n",
      "\n",
      "P( cash = False/y=ham ):  0.9987564766839379\n",
      "P( cash = True/y=ham):  0.001243523316062176\n",
      "P( cash = True/y=spam):  0.07362784471218206\n",
      "P( cash = False/y=spam):  0.9263721552878179\n",
      "\n",
      "feature =  urgent\n",
      "\n",
      "P( urgent = False/y=ham ):  0.9995854922279793\n",
      "P( urgent = True/y=ham):  0.0004145077720207254\n",
      "P( urgent = True/y=spam):  0.008032128514056224\n",
      "P( urgent = False/y=spam):  0.9919678714859438\n",
      "\n",
      "feature =  allcaps\n",
      "\n",
      "P( allcaps = False/y=ham ):  0.981139896373057\n",
      "P( allcaps = True/y=ham):  0.018860103626943004\n",
      "P( allcaps = True/y=spam):  0.004016064257028112\n",
      "P( allcaps = False/y=spam):  0.9959839357429718\n",
      "\n",
      "outcome: spam? \n",
      "False    4825\n",
      "True      747\n",
      "Name: spam, dtype: int64\n"
     ]
    }
   ],
   "source": [
    "# TGA: How does Bernouli Naive Bayes work\n",
    "\n",
    "# My own implementation to train the model\n",
    "\n",
    "probs = {}\n",
    "ham = sms_raw[sms_raw.spam == False]\n",
    "spam = sms_raw[sms_raw.spam == True]\n",
    "for each in data.columns:\n",
    "    print(\"feature = \", each)\n",
    "    print()\n",
    "    # probability that a word is not present in ham emails\n",
    "    falseham = len(ham[ham[each] == False]) /len(ham)\n",
    "    print(\"P(\", each, \"= False/y=ham ): \", falseham)\n",
    "   \n",
    "    # probability that a word is present in ham emails\n",
    "    trueham = len(ham[ham[each] == True]) /len(ham)\n",
    "    print(\"P(\", each, \"= True/y=ham): \", trueham)\n",
    "    \n",
    "    # probability of a word is present in spam emails\n",
    "    truespam =  len(spam[spam[each] == True]) /len(spam)\n",
    "    print(\"P(\", each, \"= True/y=spam): \", truespam)\n",
    "    \n",
    "    # probability of a word is not present in spam emails\n",
    "    falsespam = len(spam[spam[each] == False]) /len(spam)\n",
    "    print(\"P(\", each, \"= False/y=spam): \", falsespam)\n",
    "\n",
    "    probs[each]=(falseham, trueham, truespam, falsespam)\n",
    "    print()\n",
    "# and this is probability of outcomes\n",
    "print(\"outcome: spam? \")\n",
    "print(target.value_counts())"
   ]
  },
  {
   "cell_type": "code",
   "execution_count": 15,
   "metadata": {},
   "outputs": [
    {
     "name": "stdout",
     "output_type": "stream",
     "text": [
      "0.0190449540470997 0.007158846311217922\n",
      "Index(['free'], dtype='object') is predicted to be  True\n"
     ]
    }
   ],
   "source": [
    "# a function which calcuates probabiliy of a datapoint based on Bernouli Naive Bayes \n",
    "def calculate_prob(data_point):\n",
    "    # a list to store p(each feature/given y is ham)\n",
    "    hamx = list()\n",
    "    # a list to store p(each feature/given y is spam)\n",
    "    spamx = list()\n",
    "   \n",
    "    ham = 1\n",
    "    spam = 1\n",
    "    for word in probs.keys():\n",
    "        #print(word )\n",
    "        # if word is in query data(data to be predicited)\n",
    "        if(word in data_point):\n",
    "            ham *= probs[word][1]\n",
    "            hamx.append(probs[word][1])\n",
    "            spam *= probs[word][2]\n",
    "            spamx.append(probs[word][2])\n",
    "\n",
    "        else:\n",
    "            ham *= probs[word][0]\n",
    "            hamx.append(probs[word][0])\n",
    "            spam *= probs[word][3]\n",
    "            spamx.append(probs[word][3])\n",
    "        #print(\"ham = \", ham)\n",
    "        #print(\"spam = \", spam)  \n",
    "    ham *= 0.87\n",
    "    spam *= 0.13\n",
    "    return (spam , ham, spam > ham, hamx, spamx)\n",
    "\n",
    "# Test the model with one data\n",
    "\n",
    "data_point = data.loc[9]\n",
    "# it is calculated like this \n",
    "# probability of y is spam given this input x \n",
    "#                =\n",
    "# probability of x1(or click) is not present/ y is spam\n",
    "#                 *\n",
    "# probability of x2(or offer) is not present/y is spam\n",
    "#                 *\n",
    "#                ...\n",
    "#                ...\n",
    "# proability of x5(or free) is present/y is spam\n",
    "#                 *\n",
    "#                ...\n",
    "#                ...\n",
    "#probabilty of x8(or allcaps ) is not present/y is spam\n",
    "#                 *\n",
    "# probability of spam\n",
    "#__________________\n",
    "# The same way we can calculate probability of y is ham given this input x\n",
    "# present and not represent are represented by True and False in the dataset\n",
    "\n",
    "# the larger one wins but we don't take the probability numbers seriously\n",
    "# according to the literature specified on the curriclum\n",
    "\n",
    "\n",
    "# find the words that are True only and descard the rest\n",
    "data_point = data_point.index[np.where(data_point)]\n",
    "# calcualte prob of y=spam/x and prob of y=ham/x\n",
    "result =calculate_prob(data_point)\n",
    "print(result[0], result[1])\n",
    "print(data_point, \"is predicted to be \", result[2])"
   ]
  },
  {
   "cell_type": "code",
   "execution_count": 16,
   "metadata": {},
   "outputs": [],
   "source": [
    "# Now I will test all the dataset\n",
    "pred_manual = list()\n",
    "for i in range(len(sms_raw)):\n",
    "    data_point = data.loc[i]\n",
    "    data_point = data_point.index[np.where(data_point)]\n",
    "    pred_manual.append(calculate_prob(data_point))\n",
    "\n",
    "# I can assert that my implementation is correct\n",
    "assert((pd.Series(pred_manual) == sms_raw.pred).sum() == 0)"
   ]
  },
  {
   "cell_type": "code",
   "execution_count": 17,
   "metadata": {},
   "outputs": [
    {
     "data": {
      "text/plain": [
       "0.007158846311217922"
      ]
     },
     "execution_count": 17,
     "metadata": {},
     "output_type": "execute_result"
    }
   ],
   "source": [
    "# confirming the calculated values for the prediction of data point 9\n",
    "\n",
    "# product of these calculated hams and finally  0.87 is eqivalent to p(y=ham/given data point 9)\n",
    "np.prod(result[3])*0.87"
   ]
  },
  {
   "cell_type": "code",
   "execution_count": 18,
   "metadata": {},
   "outputs": [
    {
     "data": {
      "text/plain": [
       "0.0190449540470997"
      ]
     },
     "execution_count": 18,
     "metadata": {},
     "output_type": "execute_result"
    }
   ],
   "source": [
    "# product of these calculated spams and finally  0.13 is eqivalent to p(y=spam/given data point 9)\n",
    "np.prod(result[4])*0.13"
   ]
  },
  {
   "cell_type": "code",
   "execution_count": 19,
   "metadata": {},
   "outputs": [],
   "source": [
    "# I assert that the two are equal to the calcualted values by the function\n",
    "assert(np.prod(result[4])*0.13 == result[0])\n",
    "assert(np.prod(result[3])*0.87 == result[1])\n",
    "\n",
    "##Big Claps, Nice work!!!"
   ]
  },
  {
   "cell_type": "code",
   "execution_count": 21,
   "metadata": {},
   "outputs": [
    {
     "name": "stdout",
     "output_type": "stream",
     "text": [
      "There are  4825  ham emails\n",
      "There are  747  spam emails\n"
     ]
    },
    {
     "name": "stderr",
     "output_type": "stream",
     "text": [
      "C:\\ProgramData\\Anaconda3\\lib\\site-packages\\seaborn\\axisgrid.py:715: UserWarning: Using the barplot function without specifying `order` is likely to produce an incorrect plot.\n",
      "  warnings.warn(warning)\n"
     ]
    },
    {
     "data": {
      "text/plain": [
       "<seaborn.axisgrid.FacetGrid at 0x18c2c48c7f0>"
      ]
     },
     "execution_count": 21,
     "metadata": {},
     "output_type": "execute_result"
    },
    {
     "data": {
      "image/png": "[encoded data removed]",
      "text/plain": [
       "<Figure size 1359.25x144 with 9 Axes>"
      ]
     },
     "metadata": {},
     "output_type": "display_data"
    }
   ],
   "source": [
    "# Let me do some bayesian poisioning\n",
    "\n",
    "# Which words are most likely not a spam(ham)\n",
    "# Which words are most likely to be a spam\n",
    "\n",
    "# Lists that will be used to create a dataframe\n",
    "word_index = []\n",
    "word_list = ham.columns[1:-1]\n",
    "# stores the number of times  word is present in spam mails\n",
    "spam_list = []\n",
    "# stores the number of times each word is present in ham emails\n",
    "ham_list = []\n",
    "\n",
    "print(\"There are \", ham.shape[0], \" ham emails\")\n",
    "print(\"There are \", spam.shape[0], \" spam emails\")\n",
    "\n",
    "for col in ham.columns[1:-1]:\n",
    "    word_index.append(col)\n",
    "    ham_list.append(ham[ham[col] == True].shape[0])\n",
    "    spam_list.append(spam[spam[col] == True].shape[0])\n",
    "    #print(col, \" : \" ,ham[ham[col] == True].shape[0])\n",
    "    #print(col, \" : \" ,spam[spam[col] == True].shape[0])\n",
    "    \n",
    "count_df = pd.DataFrame({\"word\" : word_list, \"spam\" : spam_list, \"ham\": ham_list})\n",
    "\n",
    "count_df\n",
    "# Then melt it\n",
    "count_df_melted = pd.melt(count_df,id_vars=\"word\")\n",
    "\n",
    "\n",
    "count_df_melted\n",
    "# see graph\n",
    "g = sns.FacetGrid(count_df_melted, col='word', height=2,sharey=False)\n",
    "\n",
    "ax = g.map(sns.barplot, 'word','value', 'variable',hue_order=['spam', 'ham'])\n",
    "for i in range(9):\n",
    "    ax.axes[0,i].set_xlabel('')\n",
    "ax.add_legend()\n",
    "\n",
    "#plt.show()\n"
   ]
  },
  {
   "cell_type": "markdown",
   "metadata": {},
   "source": [
    "The features are not present in the dataset for the most part. I can see that many ham emails contain allcaps and buy while spams emails contain winner, cash, urgent, free, offer, click much more than hams in order. \n",
    "\n"
   ]
  },
  {
   "cell_type": "code",
   "execution_count": 22,
   "metadata": {},
   "outputs": [
    {
     "data": {
      "text/html": [
       "<div>\n",
       "<style scoped>\n",
       "    .dataframe tbody tr th:only-of-type {\n",
       "        vertical-align: middle;\n",
       "    }\n",
       "\n",
       "    .dataframe tbody tr th {\n",
       "        vertical-align: top;\n",
       "    }\n",
       "\n",
       "    .dataframe thead th {\n",
       "        text-align: right;\n",
       "    }\n",
       "</style>\n",
       "<table border=\"1\" class=\"dataframe\">\n",
       "  <thead>\n",
       "    <tr style=\"text-align: right;\">\n",
       "      <th></th>\n",
       "      <th>spam</th>\n",
       "      <th>message</th>\n",
       "      <th>click</th>\n",
       "      <th>offer</th>\n",
       "      <th>winner</th>\n",
       "      <th>buy</th>\n",
       "      <th>free</th>\n",
       "      <th>cash</th>\n",
       "      <th>urgent</th>\n",
       "      <th>allcaps</th>\n",
       "      <th>pred</th>\n",
       "    </tr>\n",
       "  </thead>\n",
       "  <tbody>\n",
       "    <tr>\n",
       "      <th>9</th>\n",
       "      <td>True</td>\n",
       "      <td>Had your mobile 11 months or more? U R entitle...</td>\n",
       "      <td>False</td>\n",
       "      <td>False</td>\n",
       "      <td>False</td>\n",
       "      <td>False</td>\n",
       "      <td>True</td>\n",
       "      <td>False</td>\n",
       "      <td>False</td>\n",
       "      <td>False</td>\n",
       "      <td>True</td>\n",
       "    </tr>\n",
       "    <tr>\n",
       "      <th>12</th>\n",
       "      <td>True</td>\n",
       "      <td>URGENT! You have won a 1 week FREE membership ...</td>\n",
       "      <td>False</td>\n",
       "      <td>False</td>\n",
       "      <td>False</td>\n",
       "      <td>False</td>\n",
       "      <td>True</td>\n",
       "      <td>False</td>\n",
       "      <td>False</td>\n",
       "      <td>False</td>\n",
       "      <td>True</td>\n",
       "    </tr>\n",
       "    <tr>\n",
       "      <th>15</th>\n",
       "      <td>True</td>\n",
       "      <td>XXXMobileMovieClub: To use your credit, click ...</td>\n",
       "      <td>True</td>\n",
       "      <td>False</td>\n",
       "      <td>False</td>\n",
       "      <td>False</td>\n",
       "      <td>False</td>\n",
       "      <td>False</td>\n",
       "      <td>False</td>\n",
       "      <td>False</td>\n",
       "      <td>True</td>\n",
       "    </tr>\n",
       "  </tbody>\n",
       "</table>\n",
       "</div>"
      ],
      "text/plain": [
       "    spam                                            message  click  offer  \\\n",
       "9   True  Had your mobile 11 months or more? U R entitle...  False  False   \n",
       "12  True  URGENT! You have won a 1 week FREE membership ...  False  False   \n",
       "15  True  XXXMobileMovieClub: To use your credit, click ...   True  False   \n",
       "\n",
       "    winner    buy   free   cash  urgent  allcaps  pred  \n",
       "9    False  False   True  False   False    False  True  \n",
       "12   False  False   True  False   False    False  True  \n",
       "15   False  False  False  False   False    False  True  "
      ]
     },
     "execution_count": 22,
     "metadata": {},
     "output_type": "execute_result"
    }
   ],
   "source": [
    "# finding correctly identified spam emails\n",
    "spam_identified = spam[spam['spam'] == spam['pred']] \n",
    "# see the head 3\n",
    "spam_identified.head(3)"
   ]
  },
  {
   "cell_type": "code",
   "execution_count": 23,
   "metadata": {},
   "outputs": [
    {
     "data": {
      "text/plain": [
       "'Had your mobile 11 months or more? U R entitled to Update to the latest colour mobiles with camera for Free! Call The Mobile Update Co FREE on 08002986030'"
      ]
     },
     "execution_count": 23,
     "metadata": {},
     "output_type": "execute_result"
    }
   ],
   "source": [
    "spam.loc[9]['message']"
   ]
  },
  {
   "cell_type": "code",
   "execution_count": 24,
   "metadata": {},
   "outputs": [
    {
     "data": {
      "text/plain": [
       "'URGENT! You have won a 1 week FREE membership in our £100,000 Prize Jackpot! Txt the word: CLAIM to No: 81010 T&C www.dbuk.net LCCLTD POBOX 4403LDNW1A7RW18'"
      ]
     },
     "execution_count": 24,
     "metadata": {},
     "output_type": "execute_result"
    }
   ],
   "source": [
    "spam.loc[12]['message']"
   ]
  },
  {
   "cell_type": "code",
   "execution_count": 25,
   "metadata": {},
   "outputs": [
    {
     "data": {
      "text/plain": [
       "'XXXMobileMovieClub: To use your credit, click the WAP link in the next txt message or click here>> http://wap. xxxmobilemovieclub.com?n=QJKGIGHJJGCBL'"
      ]
     },
     "execution_count": 25,
     "metadata": {},
     "output_type": "execute_result"
    }
   ],
   "source": [
    "spam.loc[15]['message']"
   ]
  },
  {
   "cell_type": "code",
   "execution_count": 26,
   "metadata": {},
   "outputs": [
    {
     "name": "stdout",
     "output_type": "stream",
     "text": [
      "before poisioning row  9 :  [ True]\n",
      "before poisioning row  12 :  [ True]\n",
      "before poisioning row  15 :  [ True]\n"
     ]
    }
   ],
   "source": [
    "# before altering the data\n",
    "for i in [9,12,15]:\n",
    "    # convert statment to feature vector and call predict for all datapoints\n",
    "    before = bnb.predict(np.array(convert_data(spam.loc[i][1:-1], data_only=True)[1:]).reshape(1, -1))\n",
    "    print(\"before poisioning row \",i,\": \", before)"
   ]
  },
  {
   "cell_type": "code",
   "execution_count": 27,
   "metadata": {},
   "outputs": [],
   "source": [
    "# let me alter free with free-\n",
    "spam.at[9, 'message'] =  spam.loc[2]['message'].replace(\"Free\", \"Free-\")\n",
    "spam.at[12, 'message'] =  spam.loc[12]['message'].replace(\"Free\", \"Free-\")\n",
    "# for data point 15 click is present I will capitalize everything\n",
    "spam.at[15, 'message'] =  spam.loc[15]['message'].upper()"
   ]
  },
  {
   "cell_type": "code",
   "execution_count": 28,
   "metadata": {},
   "outputs": [
    {
     "name": "stdout",
     "output_type": "stream",
     "text": [
      "after poisioning row  9 :  [False]\n",
      "after poisioning row  12 :  [ True]\n",
      "after poisioning row  15 :  [False]\n"
     ]
    }
   ],
   "source": [
    "# after altering the data\n",
    "for i in [9,12,15]:\n",
    "    # convert statment to feature vector and call predict for all datapoints\n",
    "    after = bnb.predict(np.array(convert_data(spam.loc[i][1:-1], data_only=True)[1:]).reshape(1, -1))\n",
    "    print(\"after poisioning row \",i,\": \", after)"
   ]
  },
  {
   "cell_type": "markdown",
   "metadata": {},
   "source": [
    "The alteration worked for data point 9 and data point 15, but it didn't work for data point 12. I can add buy to data 12 and it may change. \n",
    "\n",
    "Next I will try to try differnet types of Naive Bayes and also add some features see performance change"
   ]
  },
  {
   "cell_type": "code",
   "execution_count": 29,
   "metadata": {},
   "outputs": [],
   "source": [
    "# Bernoulli NB\n",
    "def test_models(model,data,target):\n",
    "    model.fit(data, target)\n",
    "    y_pred = model.predict(data)\n",
    "    print(\"Number of mislabeled points out of a total {} points : {}, accuracy: {}% \".format(data.shape[0],(target != y_pred).sum(), (target == y_pred).sum()/data.shape[0]))"
   ]
  },
  {
   "cell_type": "code",
   "execution_count": 30,
   "metadata": {},
   "outputs": [
    {
     "name": "stdout",
     "output_type": "stream",
     "text": [
      "Number of mislabeled points out of a total 5572 points : 604, accuracy: 0.8916008614501076% \n",
      "Number of mislabeled points out of a total 5572 points : 604, accuracy: 0.8916008614501076% \n",
      "Number of mislabeled points out of a total 5572 points : 693, accuracy: 0.8756281407035176% \n"
     ]
    }
   ],
   "source": [
    "from sklearn.naive_bayes import BernoulliNB\n",
    "test_models(BernoulliNB(),data,target)\n",
    "from sklearn.naive_bayes import GaussianNB\n",
    "test_models(GaussianNB(),data,target)\n",
    "from sklearn.naive_bayes import MultinomialNB\n",
    "test_models(MultinomialNB(),data,target)"
   ]
  },
  {
   "cell_type": "markdown",
   "metadata": {},
   "source": [
    "#### Imporoving Performance\n",
    "\n",
    "I will try to improve performance by adding most frequently used words in spam and non-spam emails as features"
   ]
  },
  {
   "cell_type": "code",
   "execution_count": 31,
   "metadata": {},
   "outputs": [],
   "source": [
    "#https://stackoverflow.com/questions/18936957/count-distinct-words-from-a-pandas-data-frame\n",
    "#Counter(\" \".join(r1).split(\" \")).items()\n",
    "import re\n",
    "from collections import Counter\n",
    "# combine all strings in ham email and remove punctuation\n",
    "ham_emails = \" \".join(sms_raw_orignal[sms_raw_orignal[0] == 'ham'][1])\n",
    "ham_emails = re.sub(r'[^\\w\\s]','',ham_emails)\n",
    "# combine all strings in spam email and remove punctuation\n",
    "spam_emails = \" \".join(sms_raw_orignal[sms_raw_orignal[0] == 'spam'][1])\n",
    "spam_emails = re.sub(r'[^\\w\\s]','',spam_emails)\n",
    "\n",
    "\n",
    "ham_word_count = Counter(ham_emails.split(\" \"))\n",
    "spam_word_count = Counter(spam_emails.split(\" \"))\n",
    "\n",
    "# find common ham words\n",
    "#print(ham_word_count.most_common(10))\n",
    "#print(spam_word_count.most_common(10))"
   ]
  },
  {
   "cell_type": "code",
   "execution_count": 33,
   "metadata": {},
   "outputs": [
    {
     "name": "stdout",
     "output_type": "stream",
     "text": [
      "A total of  9067  ham words\n",
      "A total of  3520  spam words\n"
     ]
    }
   ],
   "source": [
    "from nltk.corpus import stopwords\n",
    "# all english stop words\n",
    "en_stops = set(stopwords.words('english'))\n",
    "# take only non-stop words\n",
    "top_ham_words = [w for w, c in ham_word_count.most_common() if w not in en_stops]\n",
    "top_spam_words = [w for w, c in spam_word_count.most_common() if w not in en_stops]\n",
    "print(\"A total of \", len(top_ham_words), \" ham words\")\n",
    "print(\"A total of \", len(top_spam_words), \" spam words\")"
   ]
  },
  {
   "cell_type": "code",
   "execution_count": 34,
   "metadata": {},
   "outputs": [],
   "source": [
    "# let me see top 50 ham words\n",
    "top_ham_words[:50]\n",
    "# I hand picked these features\n",
    "selected_features_ham = ['get','know','like','call','got','time','home','need','good','love']"
   ]
  },
  {
   "cell_type": "code",
   "execution_count": 35,
   "metadata": {},
   "outputs": [],
   "source": [
    "# top 50 spam words\n",
    "top_spam_words[:50]\n",
    "selected_features_spam = ['call','u','claim','prize','stop','reply','contact','need','awarded','please']"
   ]
  },
  {
   "cell_type": "code",
   "execution_count": 36,
   "metadata": {},
   "outputs": [
    {
     "name": "stdout",
     "output_type": "stream",
     "text": [
      "Number of mislabeled points out of a total 5572 points : 519, accuracy: 0.9068557071069634% \n"
     ]
    }
   ],
   "source": [
    "# Now Let me experiment again with these addtional 20 features\n",
    "original_keywords=['click', 'offer', 'winner', 'buy', 'free', 'cash', 'urgent']\n",
    "\n",
    "sms_raw = convert_data(sms_raw, keywords=original_keywords + selected_features_ham + selected_features_spam)\n",
    "\n",
    "data = sms_raw[original_keywords + ['allcaps'] + selected_features_ham + selected_features_spam ]\n",
    "target = sms_raw['spam']\n",
    "\n",
    "test_models(BernoulliNB(), data, target)\n"
   ]
  },
  {
   "cell_type": "markdown",
   "metadata": {},
   "source": [
    "The accuracy is slightly improved"
   ]
  }
 ],
 "metadata": {
  "hide_input": false,
  "kernelspec": {
   "display_name": "Python 3",
   "language": "python",
   "name": "python3"
  },
  "language_info": {
   "codemirror_mode": {
    "name": "ipython",
    "version": 3
   },
   "file_extension": ".py",
   "mimetype": "text/x-python",
   "name": "python",
   "nbconvert_exporter": "python",
   "pygments_lexer": "ipython3",
   "version": "3.6.6"
  },
  "toc": {
   "colors": {
    "hover_highlight": "#DAA520",
    "running_highlight": "#FF0000",
    "selected_highlight": "#FFD700"
   },
   "moveMenuLeft": true,
   "nav_menu": {
    "height": "49px",
    "width": "252px"
   },
   "navigate_menu": true,
   "number_sections": true,
   "sideBar": true,
   "threshold": 4,
   "toc_cell": false,
   "toc_section_display": "block",
   "toc_window_display": false
  }
 },
 "nbformat": 4,
 "nbformat_minor": 2
}
