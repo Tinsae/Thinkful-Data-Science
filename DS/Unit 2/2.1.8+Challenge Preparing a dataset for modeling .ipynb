{
 "cells": [
  {
   "cell_type": "code",
   "execution_count": 2,
   "metadata": {},
   "outputs": [],
   "source": [
    "import pandas as pd\n",
    "import seaborn as sns\n",
    "import numpy as np\n",
    "import matplotlib.pyplot as plt\n",
    "import sqlite3\n",
    "%matplotlib inline"
   ]
  },
  {
   "cell_type": "code",
   "execution_count": 3,
   "metadata": {},
   "outputs": [],
   "source": [
    "walmart = pd.read_csv(\"../../../Data & Script/tommywilczek-walmart/walmart.csv\", index_col=0)"
   ]
  },
  {
   "cell_type": "markdown",
   "metadata": {},
   "source": [
    "### Features to Study\n",
    "\n",
    "Categorical\n",
    "- IsHoliday: True/False If a holiday is celebrated in one or more days in the week\n",
    "- Type: Three types of stores ‘A’, ‘B’ or ‘C’\n",
    "\n",
    "Continous\n",
    "\n",
    "- CPI: Consumer Price Index during that week.\n",
    "- UnEmployement: The unemployment rate during that week in the region of the store.\n",
    "- Temperature: Averge temeperature in that week\n",
    "- Fuel Price:  Fuel Price in that region during that week.\n",
    "- Size : Sets the size of a Store would be calculated by the no. of products available in the particular store ranging from 34,000 to 210,000.\n",
    "\n",
    "Outcome\n",
    "- Weekly Sales: Averge sales in the week"
   ]
  },
  {
   "cell_type": "markdown",
   "metadata": {},
   "source": [
    "### Exploring the data: Univariate"
   ]
  },
  {
   "cell_type": "markdown",
   "metadata": {},
   "source": [
    "*       How many variables do I have?\n",
    "*       How many datapoints?\n",
    "*       Which variables are continuous (having an infinite number of possible values, such as age) and which are categorical (having a limited number of values, such as gender).\n",
    "*       Do any of my variables have a known probability distribution (normal, Poisson, Gamma, etc)?\n",
    "*       Do I have missing data? If so, how much?\n",
    "*    How much variance is there in each of my variables?"
   ]
  },
  {
   "cell_type": "code",
   "execution_count": 4,
   "metadata": {},
   "outputs": [
    {
     "name": "stdout",
     "output_type": "stream",
     "text": [
      "Features Index(['Store', 'Date', 'IsHoliday', 'Dept', 'Weekly_Sales', 'Temperature',\n",
      "       'Fuel_Price', 'MarkDown1', 'MarkDown2', 'MarkDown3', 'MarkDown4',\n",
      "       'MarkDown5', 'CPI', 'Unemployment', 'Type', 'Size'],\n",
      "      dtype='object')\n",
      "Number of data points:  423325\n"
     ]
    }
   ],
   "source": [
    "# all columns of the dataset\n",
    "print(\"Features\", walmart.columns)\n",
    "\n",
    "# number of datapoints\n",
    "print(\"Number of data points: \", len(walmart))"
   ]
  },
  {
   "cell_type": "code",
   "execution_count": 5,
   "metadata": {},
   "outputs": [
    {
     "data": {
      "image/png": "[encoded data removed]",
      "text/plain": [
       "<Figure size 360x360 with 4 Axes>"
      ]
     },
     "metadata": {},
     "output_type": "display_data"
    }
   ],
   "source": [
    "#Amount of nulls\n",
    "\n",
    "#walmart.fillna({'MarkDown1':0, 'MarkDown2':0,'MarkDown3':0,'MarkDown4':0,'MarkDown5':0}, inplace=True)\n",
    "\n",
    "fig = plt.figure(figsize=(5,5))\n",
    "# title of the figure\n",
    "fig.suptitle('Walmart Discount: See 4 Markdowns', fontsize = 16)\n",
    "# adjust horizontal and vertical spacing\n",
    "fig.subplots_adjust(hspace = 0.5, wspace = 0.2)\n",
    "i = 1\n",
    "for column in walmart.columns[7 : 7+4]:\n",
    "    walmart[column + \"_null?\"] = np.where(walmart[column].isnull(), 'Is Null', 'Is Not Null')\n",
    "    fig.add_subplot(220 + i)\n",
    "    ax = sns.countplot(x=column + '_null?', data=walmart, palette=\"Greens_d\")\n",
    "    sns.despine()\n",
    "    if(i % 2 == 0):\n",
    "        ax.set_yticklabels([])\n",
    "    if(i <= 2):\n",
    "        ax.set_xticklabels([])\n",
    "\n",
    "    ax.set(xlabel='', ylabel='')\n",
    "    #plt.title(i)\n",
    "    i += 1"
   ]
  },
  {
   "cell_type": "markdown",
   "metadata": {},
   "source": [
    "#### Features to Study\n",
    "\n",
    "Categorical\n",
    "- Store: The store number. Range from 1-45.\n",
    "- IsHoliday: True/False If a holiday is celebrated in one or more days in the week\n",
    "- Dept: One of 1-99 that shows the department.\n",
    "\n",
    "Continous\n",
    "\n",
    "- Date: The date of the week where this observation was taken . -Weekly_Sales: The sales recorded during that Week.\n",
    "- Temperature: Averge temeperature in that week\n",
    "- Fuel Price:  Fuel Price in that region during that week.\n",
    "- CPI: Consumer Price Index during that week.\n",
    "- UnEmployement: The unemployment rate during that week in the region of the store.\n",
    "Outcome\n",
    "- Weekly Sales: Averge sales in the week"
   ]
  },
  {
   "cell_type": "code",
   "execution_count": 6,
   "metadata": {},
   "outputs": [
    {
     "data": {
      "text/plain": [
       "Index(['Store', 'Date', 'IsHoliday', 'Dept', 'Weekly_Sales', 'Temperature',\n",
       "       'Fuel_Price', 'MarkDown1', 'MarkDown2', 'MarkDown3', 'MarkDown4',\n",
       "       'MarkDown5', 'CPI', 'Unemployment', 'Type', 'Size', 'MarkDown1_null?',\n",
       "       'MarkDown2_null?', 'MarkDown3_null?', 'MarkDown4_null?'],\n",
       "      dtype='object')"
      ]
     },
     "execution_count": 6,
     "metadata": {},
     "output_type": "execute_result"
    }
   ],
   "source": [
    "walmart.columns"
   ]
  },
  {
   "cell_type": "code",
   "execution_count": 7,
   "metadata": {},
   "outputs": [
    {
     "name": "stdout",
     "output_type": "stream",
     "text": [
      "There are  423325  rows\n",
      "\n",
      "Store           0\n",
      "IsHoliday       0\n",
      "Dept         1755\n",
      "Type            0\n",
      "dtype: int64\n"
     ]
    }
   ],
   "source": [
    "# Check Nulls for the four categorical attributes\n",
    "num_of_rows = walmart.shape[0]\n",
    "print(\"There are \", num_of_rows, \" rows\\n\")\n",
    "nulls_count = walmart[['Store', 'IsHoliday', 'Dept', 'Type']].isnull().sum()\n",
    "print(nulls_count)"
   ]
  },
  {
   "cell_type": "code",
   "execution_count": 8,
   "metadata": {},
   "outputs": [
    {
     "name": "stdout",
     "output_type": "stream",
     "text": [
      "Date              0\n",
      "Temperature       0\n",
      "Fuel_Price        0\n",
      "CPI             585\n",
      "Unemployment    585\n",
      "dtype: int64\n"
     ]
    },
    {
     "data": {
      "text/html": [
       "<div>\n",
       "<style scoped>\n",
       "    .dataframe tbody tr th:only-of-type {\n",
       "        vertical-align: middle;\n",
       "    }\n",
       "\n",
       "    .dataframe tbody tr th {\n",
       "        vertical-align: top;\n",
       "    }\n",
       "\n",
       "    .dataframe thead th {\n",
       "        text-align: right;\n",
       "    }\n",
       "</style>\n",
       "<table border=\"1\" class=\"dataframe\">\n",
       "  <thead>\n",
       "    <tr style=\"text-align: right;\">\n",
       "      <th></th>\n",
       "      <th>Temperature</th>\n",
       "      <th>Fuel_Price</th>\n",
       "      <th>CPI</th>\n",
       "      <th>Unemployment</th>\n",
       "    </tr>\n",
       "  </thead>\n",
       "  <tbody>\n",
       "    <tr>\n",
       "      <th>count</th>\n",
       "      <td>423325.000000</td>\n",
       "      <td>423325.000000</td>\n",
       "      <td>422740.000000</td>\n",
       "      <td>422740.000000</td>\n",
       "    </tr>\n",
       "    <tr>\n",
       "      <th>mean</th>\n",
       "      <td>60.067140</td>\n",
       "      <td>3.361933</td>\n",
       "      <td>171.218863</td>\n",
       "      <td>7.957296</td>\n",
       "    </tr>\n",
       "    <tr>\n",
       "      <th>std</th>\n",
       "      <td>18.452599</td>\n",
       "      <td>0.458038</td>\n",
       "      <td>39.167088</td>\n",
       "      <td>1.863433</td>\n",
       "    </tr>\n",
       "    <tr>\n",
       "      <th>min</th>\n",
       "      <td>-7.290000</td>\n",
       "      <td>2.472000</td>\n",
       "      <td>126.064000</td>\n",
       "      <td>3.684000</td>\n",
       "    </tr>\n",
       "    <tr>\n",
       "      <th>25%</th>\n",
       "      <td>46.670000</td>\n",
       "      <td>2.935000</td>\n",
       "      <td>132.022667</td>\n",
       "      <td>6.891000</td>\n",
       "    </tr>\n",
       "    <tr>\n",
       "      <th>50%</th>\n",
       "      <td>62.070000</td>\n",
       "      <td>3.452000</td>\n",
       "      <td>182.350989</td>\n",
       "      <td>7.866000</td>\n",
       "    </tr>\n",
       "    <tr>\n",
       "      <th>75%</th>\n",
       "      <td>74.260000</td>\n",
       "      <td>3.738000</td>\n",
       "      <td>212.512605</td>\n",
       "      <td>8.567000</td>\n",
       "    </tr>\n",
       "    <tr>\n",
       "      <th>max</th>\n",
       "      <td>101.950000</td>\n",
       "      <td>4.468000</td>\n",
       "      <td>228.976456</td>\n",
       "      <td>14.313000</td>\n",
       "    </tr>\n",
       "  </tbody>\n",
       "</table>\n",
       "</div>"
      ],
      "text/plain": [
       "         Temperature     Fuel_Price            CPI   Unemployment\n",
       "count  423325.000000  423325.000000  422740.000000  422740.000000\n",
       "mean       60.067140       3.361933     171.218863       7.957296\n",
       "std        18.452599       0.458038      39.167088       1.863433\n",
       "min        -7.290000       2.472000     126.064000       3.684000\n",
       "25%        46.670000       2.935000     132.022667       6.891000\n",
       "50%        62.070000       3.452000     182.350989       7.866000\n",
       "75%        74.260000       3.738000     212.512605       8.567000\n",
       "max       101.950000       4.468000     228.976456      14.313000"
      ]
     },
     "execution_count": 8,
     "metadata": {},
     "output_type": "execute_result"
    }
   ],
   "source": [
    "# Check Nulls for the five continous attributes\n",
    "cont_features = ['Date', 'Temperature', 'Fuel_Price', 'CPI', 'Unemployment']\n",
    "\n",
    "nulls_count = walmart[cont_features].isnull().sum()\n",
    "print(nulls_count)\n",
    "# how much do they vary\n",
    "walmart[cont_features].describe()"
   ]
  },
  {
   "cell_type": "code",
   "execution_count": 9,
   "metadata": {},
   "outputs": [
    {
     "name": "stdout",
     "output_type": "stream",
     "text": [
      "1755\n"
     ]
    }
   ],
   "source": [
    "# Check Nulls for outcome variable\n",
    "nulls_count = walmart['Weekly_Sales'].isnull().sum()\n",
    "print(nulls_count)"
   ]
  },
  {
   "cell_type": "code",
   "execution_count": 10,
   "metadata": {},
   "outputs": [
    {
     "name": "stdout",
     "output_type": "stream",
     "text": [
      "Null to NotNull ratio 0.005527667867477706 : 0.9944723321325223\n"
     ]
    }
   ],
   "source": [
    "# Two numbers are same , the number of null weekly sales and number of null departments\n",
    "# CPI nulls and Unemployment nulls are also the same\n",
    "\n",
    "# I assert that all missing weekly sales data have no matching department data\n",
    "assert(walmart[(walmart['Weekly_Sales'].isnull()) & (walmart['Dept'].isnull())].shape[0] == 1755)\n",
    "\n",
    "# I assert that all missing CPI has no matching Unemployment\n",
    "assert(walmart[(walmart['CPI'].isnull()) & (walmart['Unemployment'].isnull())].shape[0] == 585)\n",
    "\n",
    "nulls = 1755 + 585\n",
    "not_nulls = num_of_rows - (1755 + 585)\n",
    "print(\"Null to NotNull ratio\", nulls/num_of_rows , \":\", not_nulls/num_of_rows)\n",
    "\n",
    "# Ratio is very small\n",
    "walmart = walmart.dropna()"
   ]
  },
  {
   "cell_type": "markdown",
   "metadata": {},
   "source": [
    "### Exploring Multivariate Relationships"
   ]
  },
  {
   "cell_type": "code",
   "execution_count": 11,
   "metadata": {},
   "outputs": [
    {
     "data": {
      "image/png": "[encoded data removed]",
      "text/plain": [
       "<Figure size 432x288 with 2 Axes>"
      ]
     },
     "metadata": {},
     "output_type": "display_data"
    },
    {
     "name": "stdout",
     "output_type": "stream",
     "text": [
      "              Temperature  Fuel_Price       CPI  Unemployment\n",
      "Temperature      1.000000    0.250824  0.201037     -0.009300\n",
      "Fuel_Price       0.250824    1.000000 -0.365318      0.276568\n",
      "CPI              0.201037   -0.365318  1.000000     -0.291317\n",
      "Unemployment    -0.009300    0.276568 -0.291317      1.000000\n"
     ]
    }
   ],
   "source": [
    "cont_df = walmart[cont_features]\n",
    "corr_mat = cont_df.corr()\n",
    "sns.heatmap(corr_mat)\n",
    "plt.show()\n",
    "print(corr_mat)"
   ]
  },
  {
   "cell_type": "markdown",
   "metadata": {},
   "source": [
    "The darker color shows that the following are slightly correlated\n",
    "*  CPI and UnEmployment(- 0.300008)\n",
    "*  CPI and Temperature(0.181789)\n",
    "\n",
    "The following are very slightly correlated\n",
    "\n",
    "*  CPI and Fuel Price (-0.164460)\n",
    "*  Temperature and Fuel Price(0.142966)\n",
    "\n",
    "The other 16 combinations are all zero"
   ]
  },
  {
   "cell_type": "code",
   "execution_count": 12,
   "metadata": {},
   "outputs": [
    {
     "data": {
      "image/png": "[encoded data removed]",
      "text/plain": [
       "<Figure size 432x288 with 2 Axes>"
      ]
     },
     "metadata": {},
     "output_type": "display_data"
    },
    {
     "name": "stdout",
     "output_type": "stream",
     "text": [
      "              Temperature  Fuel_Price       CPI  Unemployment\n",
      "Temperature      1.000000    0.363005  0.132412     -0.123726\n",
      "Fuel_Price       0.363005    1.000000 -0.294335      0.348735\n",
      "CPI              0.132412   -0.294335  1.000000     -0.218525\n",
      "Unemployment    -0.123726    0.348735 -0.218525      1.000000\n"
     ]
    }
   ],
   "source": [
    "#Let me try to see correlation of the variables with only the first 15 stores\n",
    "walmart_store_15 = walmart.loc[walmart['Store'] < 15].loc[:,cont_features]\n",
    "corr_mat = walmart_store_15.corr()\n",
    "sns.heatmap(corr_mat)\n",
    "plt.show()\n",
    "print(corr_mat)"
   ]
  },
  {
   "cell_type": "markdown",
   "metadata": {},
   "source": [
    "- CPI and UnEmployment(-0.411763) Increased\n",
    "\n",
    "- CPI and Temperature(0.0988) Decreased to 0\n",
    "\n",
    "- CPI and Fuel Price(-0.128230) --Decreased \n",
    "\n",
    "- Temperature and Fuel Price(0.214964) --Increased\n",
    "\n",
    "The same, four attributes are involved: CPI, UnEmployment, Temperature, Fuel Price"
   ]
  },
  {
   "cell_type": "markdown",
   "metadata": {},
   "source": [
    "I want to see how the four correlations look like If I plot the sampling distrbution of correlations."
   ]
  },
  {
   "cell_type": "code",
   "execution_count": 13,
   "metadata": {},
   "outputs": [
    {
     "data": {
      "text/plain": [
       "0.3630053990731591"
      ]
     },
     "execution_count": 13,
     "metadata": {},
     "output_type": "execute_result"
    }
   ],
   "source": [
    "corr_mat.loc['Temperature', 'Fuel_Price']"
   ]
  },
  {
   "cell_type": "code",
   "execution_count": 14,
   "metadata": {},
   "outputs": [
    {
     "name": "stderr",
     "output_type": "stream",
     "text": [
      "C:\\ProgramData\\Anaconda3\\lib\\site-packages\\scipy\\stats\\stats.py:1713: FutureWarning: Using a non-tuple sequence for multidimensional indexing is deprecated; use `arr[tuple(seq)]` instead of `arr[seq]`. In the future this will be interpreted as an array index, `arr[np.array(seq)]`, which will result either in an error or a different result.\n",
      "  return np.add.reduce(sorted[indexer] * weights, axis=axis) / sumval\n"
     ]
    },
    {
     "data": {
      "image/png": "[encoded data removed]",
      "text/plain": [
       "<Figure size 504x504 with 4 Axes>"
      ]
     },
     "metadata": {},
     "output_type": "display_data"
    }
   ],
   "source": [
    "# let sample size be 15\n",
    "corr_dist = {1:[],2:[],3:[],4:[]}\n",
    "to_check = [['CPI', 'Unemployment'], ['CPI', 'Temperature'],['CPI', 'Fuel_Price'],['Temperature', 'Fuel_Price']]\n",
    "# I \n",
    "for i in range(10000):\n",
    "    # Ideal sample size for 95% confidence interval\n",
    "    corr_mat = walmart.sample(400).loc[:,cont_features].corr()\n",
    "    corr_dist[1].append(abs(corr_mat.loc[to_check[0][0], to_check[0][1]]))\n",
    "    corr_dist[2].append(abs(corr_mat.loc[to_check[1][0], to_check[1][1]]))\n",
    "    corr_dist[3].append(abs(corr_mat.loc[to_check[2][0], to_check[2][1]]))\n",
    "    corr_dist[4].append(abs(corr_mat.loc[to_check[3][0], to_check[3][1]]))\n",
    "\n",
    "fig = plt.figure(figsize=(7,7))\n",
    "fig.suptitle('Sampling Distribution of Correlations(Sample Size = 400)', fontsize = 16)\n",
    "fig.subplots_adjust(hspace = 0.5, wspace = 0.2)\n",
    "for i in range(4):\n",
    "    fig.add_subplot(220 + i + 1)\n",
    "    ax = sns.distplot(corr_dist[i + 1])\n",
    "    ax.set_title(to_check[i][0] + \" Vs. \" + to_check[i][1])\n",
    "    ax.set_yticklabels([])\n",
    "    sns.despine(left=False)"
   ]
  },
  {
   "cell_type": "markdown",
   "metadata": {},
   "source": [
    "The above graph shows that on average, the absolute value of correlations is ranked like this:\n",
    "\n",
    "1. CPI vs Fuel Price ( between 0.3 and 0.4)\n",
    "2. CPI vs. Unemployment(around 0.3)\n",
    "3. Temperature and Fuel Price(between 0.2 and 0.3)\n",
    "4. CPI vs. Temperature(around 0.2)"
   ]
  },
  {
   "cell_type": "code",
   "execution_count": 15,
   "metadata": {},
   "outputs": [
    {
     "name": "stderr",
     "output_type": "stream",
     "text": [
      "C:\\ProgramData\\Anaconda3\\lib\\site-packages\\scipy\\stats\\stats.py:1713: FutureWarning: Using a non-tuple sequence for multidimensional indexing is deprecated; use `arr[tuple(seq)]` instead of `arr[seq]`. In the future this will be interpreted as an array index, `arr[np.array(seq)]`, which will result either in an error or a different result.\n",
      "  return np.add.reduce(sorted[indexer] * weights, axis=axis) / sumval\n"
     ]
    },
    {
     "data": {
      "image/png": "[encoded data removed]",
      "text/plain": [
       "<Figure size 720x720 with 20 Axes>"
      ]
     },
     "metadata": {},
     "output_type": "display_data"
    }
   ],
   "source": [
    "# I took a sample of 10000 elements from the whole dataset\n",
    "g = sns.PairGrid(cont_df.sample(10000), diag_sharey=False)\n",
    "# Scatterplot.\n",
    "g.map_upper(plt.scatter, alpha=.5)\n",
    "# Fit line summarizing the linear relationship of the two variables.\n",
    "g.map_lower(sns.regplot, scatter_kws=dict(alpha=0))\n",
    "# Give information about the univariate distributions of the variables.\n",
    "g.map_diag(sns.kdeplot, lw=3)\n",
    "plt.show()"
   ]
  },
  {
   "cell_type": "markdown",
   "metadata": {},
   "source": [
    "#### One Hot Encoding\n",
    "Most machine learning models don't like categorical attributes therefore I created a one hot encoding for Type column "
   ]
  },
  {
   "cell_type": "code",
   "execution_count": 16,
   "metadata": {},
   "outputs": [
    {
     "data": {
      "text/html": [
       "<div>\n",
       "<style scoped>\n",
       "    .dataframe tbody tr th:only-of-type {\n",
       "        vertical-align: middle;\n",
       "    }\n",
       "\n",
       "    .dataframe tbody tr th {\n",
       "        vertical-align: top;\n",
       "    }\n",
       "\n",
       "    .dataframe thead th {\n",
       "        text-align: right;\n",
       "    }\n",
       "</style>\n",
       "<table border=\"1\" class=\"dataframe\">\n",
       "  <thead>\n",
       "    <tr style=\"text-align: right;\">\n",
       "      <th></th>\n",
       "      <th>A</th>\n",
       "      <th>B</th>\n",
       "      <th>C</th>\n",
       "    </tr>\n",
       "  </thead>\n",
       "  <tbody>\n",
       "    <tr>\n",
       "      <th>264880</th>\n",
       "      <td>1</td>\n",
       "      <td>0</td>\n",
       "      <td>0</td>\n",
       "    </tr>\n",
       "    <tr>\n",
       "      <th>104766</th>\n",
       "      <td>1</td>\n",
       "      <td>0</td>\n",
       "      <td>0</td>\n",
       "    </tr>\n",
       "    <tr>\n",
       "      <th>224642</th>\n",
       "      <td>0</td>\n",
       "      <td>1</td>\n",
       "      <td>0</td>\n",
       "    </tr>\n",
       "    <tr>\n",
       "      <th>195009</th>\n",
       "      <td>1</td>\n",
       "      <td>0</td>\n",
       "      <td>0</td>\n",
       "    </tr>\n",
       "    <tr>\n",
       "      <th>67976</th>\n",
       "      <td>0</td>\n",
       "      <td>1</td>\n",
       "      <td>0</td>\n",
       "    </tr>\n",
       "  </tbody>\n",
       "</table>\n",
       "</div>"
      ],
      "text/plain": [
       "        A  B  C\n",
       "264880  1  0  0\n",
       "104766  1  0  0\n",
       "224642  0  1  0\n",
       "195009  1  0  0\n",
       "67976   0  1  0"
      ]
     },
     "execution_count": 16,
     "metadata": {},
     "output_type": "execute_result"
    }
   ],
   "source": [
    "features = pd.get_dummies(walmart.Type)\n",
    "features.sample(5)"
   ]
  },
  {
   "cell_type": "markdown",
   "metadata": {},
   "source": [
    "#### Fixing Non-Normal Features\n",
    "\n",
    "CPI is bimodal and it is not normally distributed, UnEmployment is not good looking as well."
   ]
  },
  {
   "cell_type": "code",
   "execution_count": 17,
   "metadata": {},
   "outputs": [
    {
     "name": "stderr",
     "output_type": "stream",
     "text": [
      "C:\\ProgramData\\Anaconda3\\lib\\site-packages\\scipy\\stats\\stats.py:1713: FutureWarning: Using a non-tuple sequence for multidimensional indexing is deprecated; use `arr[tuple(seq)]` instead of `arr[seq]`. In the future this will be interpreted as an array index, `arr[np.array(seq)]`, which will result either in an error or a different result.\n",
      "  return np.add.reduce(sorted[indexer] * weights, axis=axis) / sumval\n"
     ]
    },
    {
     "data": {
      "image/png": "[encoded data removed]",
      "text/plain": [
       "<Figure size 432x288 with 2 Axes>"
      ]
     },
     "metadata": {},
     "output_type": "display_data"
    }
   ],
   "source": [
    "features['log_cpi'] = np.sqrt(walmart['CPI']) \n",
    "features['log_unemployment'] = np.log(walmart['CPI']) \n",
    "\n",
    "fig = plt.figure(figsize=(6,4))\n",
    "fig.add_subplot(121)\n",
    "sns.distplot(features['log_cpi'])\n",
    "fig.add_subplot(122)\n",
    "sns.distplot(features['log_unemployment'])\n",
    "plt.show()"
   ]
  },
  {
   "cell_type": "markdown",
   "metadata": {},
   "source": [
    "#### Rescaling Data Using Min-Max Normalization/ Z Score Normalization"
   ]
  },
  {
   "cell_type": "code",
   "execution_count": 18,
   "metadata": {},
   "outputs": [
    {
     "name": "stderr",
     "output_type": "stream",
     "text": [
      "C:\\ProgramData\\Anaconda3\\lib\\site-packages\\seaborn\\axisgrid.py:715: UserWarning: Using the boxplot function without specifying `order` is likely to produce an incorrect plot.\n",
      "  warnings.warn(warning)\n"
     ]
    },
    {
     "data": {
      "image/png": "[encoded data removed]",
      "text/plain": [
       "<Figure size 576x288 with 4 Axes>"
      ]
     },
     "metadata": {},
     "output_type": "display_data"
    },
    {
     "name": "stderr",
     "output_type": "stream",
     "text": [
      "C:\\ProgramData\\Anaconda3\\lib\\site-packages\\seaborn\\axisgrid.py:715: UserWarning: Using the boxplot function without specifying `order` is likely to produce an incorrect plot.\n",
      "  warnings.warn(warning)\n"
     ]
    },
    {
     "data": {
      "image/png": "[encoded data removed]",
      "text/plain": [
       "<Figure size 576x288 with 4 Axes>"
      ]
     },
     "metadata": {},
     "output_type": "display_data"
    }
   ],
   "source": [
    "from sklearn import preprocessing\n",
    "# descard Type column\n",
    "walmart_cont = walmart.loc[:, cont_features[1:]]\n",
    "# rescaling data ( Min Max Normalization)\n",
    "walmart_normalized1 = (walmart_cont - walmart_cont.mean()) / (walmart_cont.max() - walmart_cont.min())\n",
    "# It took me an hour to figure out a problem about index \n",
    "walmart_normalized2 = pd.DataFrame(preprocessing.scale(walmart_cont), columns=cont_features[1:],index=walmart_cont.index)\n",
    "\n",
    "type_attrib = walmart.loc[:, 'Type']\n",
    "\n",
    "# add attribute Type\n",
    "walmart_normalized1['Type'] = pd.Series(type_attrib)\n",
    "walmart_normalized2['Type'] = pd.Series(type_attrib)\n",
    "\n",
    "walmart_melted1 = pd.melt(walmart_normalized1, id_vars=['Type'])\n",
    "walmart_melted2 = pd.melt(walmart_normalized2, id_vars=['Type'])\n",
    "\n",
    "g = sns.FacetGrid(walmart_melted1, col=\"variable\", height=4, aspect=.5)\n",
    "g = g.map(sns.boxplot, \"Type\", \"value\")\n",
    "plt.show()\n",
    "\n",
    "g = sns.FacetGrid(walmart_melted2, col=\"variable\", height=4, aspect=.5)\n",
    "g = g.map(sns.boxplot, \"Type\", \"value\")\n",
    "plt.show()"
   ]
  },
  {
   "cell_type": "markdown",
   "metadata": {},
   "source": [
    "The plot shows that there are some outliers for UnEmployment in store types A and B. The range of temperatures for Type C stores is small. Fuel Price is similar to all types.CPI values are close to eachother and vary a lot. Minmax normalized data varies a lot"
   ]
  },
  {
   "cell_type": "markdown",
   "metadata": {},
   "source": [
    "#### More features\n",
    "\n",
    "To capture non-linearity while keeping the model happy, it can be helpful to create quadratic or higher-level features by squaring, cubing, or otherwise multiplying a variable by itself."
   ]
  },
  {
   "cell_type": "code",
   "execution_count": 19,
   "metadata": {},
   "outputs": [
    {
     "data": {
      "text/plain": [
       "Index(['A', 'B', 'C', 'log_cpi', 'log_unemployment', 'square_fuel_price',\n",
       "       'square_unemployment'],\n",
       "      dtype='object')"
      ]
     },
     "execution_count": 19,
     "metadata": {},
     "output_type": "execute_result"
    }
   ],
   "source": [
    "features['square_fuel_price'] = np.square(walmart_normalized2['Fuel_Price'])\n",
    "features['square_unemployment'] = np.square(walmart_normalized2['Unemployment'])\n",
    "features.columns"
   ]
  },
  {
   "cell_type": "markdown",
   "metadata": {},
   "source": [
    "#### PCA"
   ]
  },
  {
   "cell_type": "code",
   "execution_count": 20,
   "metadata": {},
   "outputs": [
    {
     "data": {
      "text/html": [
       "<div>\n",
       "<style scoped>\n",
       "    .dataframe tbody tr th:only-of-type {\n",
       "        vertical-align: middle;\n",
       "    }\n",
       "\n",
       "    .dataframe tbody tr th {\n",
       "        vertical-align: top;\n",
       "    }\n",
       "\n",
       "    .dataframe thead th {\n",
       "        text-align: right;\n",
       "    }\n",
       "</style>\n",
       "<table border=\"1\" class=\"dataframe\">\n",
       "  <thead>\n",
       "    <tr style=\"text-align: right;\">\n",
       "      <th></th>\n",
       "      <th>Temperature</th>\n",
       "      <th>Fuel_Price</th>\n",
       "      <th>CPI</th>\n",
       "      <th>Unemployment</th>\n",
       "    </tr>\n",
       "  </thead>\n",
       "  <tbody>\n",
       "    <tr>\n",
       "      <th>125802</th>\n",
       "      <td>-0.267025</td>\n",
       "      <td>-0.396021</td>\n",
       "      <td>-0.456508</td>\n",
       "      <td>-0.148710</td>\n",
       "    </tr>\n",
       "    <tr>\n",
       "      <th>370175</th>\n",
       "      <td>0.095666</td>\n",
       "      <td>0.090593</td>\n",
       "      <td>0.464192</td>\n",
       "      <td>-0.019355</td>\n",
       "    </tr>\n",
       "    <tr>\n",
       "      <th>338230</th>\n",
       "      <td>-0.086584</td>\n",
       "      <td>-0.070037</td>\n",
       "      <td>-0.353379</td>\n",
       "      <td>0.150961</td>\n",
       "    </tr>\n",
       "    <tr>\n",
       "      <th>108262</th>\n",
       "      <td>0.191200</td>\n",
       "      <td>-0.088934</td>\n",
       "      <td>0.537137</td>\n",
       "      <td>-0.156652</td>\n",
       "    </tr>\n",
       "    <tr>\n",
       "      <th>302324</th>\n",
       "      <td>-0.017166</td>\n",
       "      <td>-0.203895</td>\n",
       "      <td>0.463331</td>\n",
       "      <td>-0.040574</td>\n",
       "    </tr>\n",
       "    <tr>\n",
       "      <th>237553</th>\n",
       "      <td>0.078368</td>\n",
       "      <td>0.369334</td>\n",
       "      <td>-0.372345</td>\n",
       "      <td>0.174563</td>\n",
       "    </tr>\n",
       "    <tr>\n",
       "      <th>312313</th>\n",
       "      <td>-0.320614</td>\n",
       "      <td>-0.426729</td>\n",
       "      <td>0.225944</td>\n",
       "      <td>0.095475</td>\n",
       "    </tr>\n",
       "    <tr>\n",
       "      <th>75916</th>\n",
       "      <td>-0.237630</td>\n",
       "      <td>-0.385785</td>\n",
       "      <td>0.496717</td>\n",
       "      <td>-0.146554</td>\n",
       "    </tr>\n",
       "    <tr>\n",
       "      <th>174577</th>\n",
       "      <td>-0.169455</td>\n",
       "      <td>-0.117281</td>\n",
       "      <td>-0.393577</td>\n",
       "      <td>0.119871</td>\n",
       "    </tr>\n",
       "    <tr>\n",
       "      <th>379532</th>\n",
       "      <td>-0.385057</td>\n",
       "      <td>-0.141690</td>\n",
       "      <td>-0.391571</td>\n",
       "      <td>-0.357833</td>\n",
       "    </tr>\n",
       "  </tbody>\n",
       "</table>\n",
       "</div>"
      ],
      "text/plain": [
       "        Temperature  Fuel_Price       CPI  Unemployment\n",
       "125802    -0.267025   -0.396021 -0.456508     -0.148710\n",
       "370175     0.095666    0.090593  0.464192     -0.019355\n",
       "338230    -0.086584   -0.070037 -0.353379      0.150961\n",
       "108262     0.191200   -0.088934  0.537137     -0.156652\n",
       "302324    -0.017166   -0.203895  0.463331     -0.040574\n",
       "237553     0.078368    0.369334 -0.372345      0.174563\n",
       "312313    -0.320614   -0.426729  0.225944      0.095475\n",
       "75916     -0.237630   -0.385785  0.496717     -0.146554\n",
       "174577    -0.169455   -0.117281 -0.393577      0.119871\n",
       "379532    -0.385057   -0.141690 -0.391571     -0.357833"
      ]
     },
     "execution_count": 20,
     "metadata": {},
     "output_type": "execute_result"
    }
   ],
   "source": [
    "X = walmart_normalized1.loc[:, cont_features[1:]]\n",
    "X.sample(10)"
   ]
  },
  {
   "cell_type": "code",
   "execution_count": 21,
   "metadata": {},
   "outputs": [
    {
     "data": {
      "text/plain": [
       "array([[ 0.04263669,  0.01141879,  0.01693106, -0.00037223],\n",
       "       [ 0.01141879,  0.04860929, -0.03285084,  0.0118197 ],\n",
       "       [ 0.01693106, -0.03285084,  0.1663531 , -0.02303174],\n",
       "       [-0.00037223,  0.0118197 , -0.02303174,  0.03757427]])"
      ]
     },
     "execution_count": 21,
     "metadata": {},
     "output_type": "execute_result"
    }
   ],
   "source": [
    "# The NumPy covariance function assumes that variables are represented by rows,\n",
    "# not columns, so we transpose X.\n",
    "Xt = X.T\n",
    "Cx = np.cov(Xt)\n",
    "Cx"
   ]
  },
  {
   "cell_type": "code",
   "execution_count": 22,
   "metadata": {},
   "outputs": [
    {
     "name": "stdout",
     "output_type": "stream",
     "text": [
      "Eigenvector 1: \n",
      "[[ 0.09678529]\n",
      " [-0.24326418]\n",
      " [ 0.94946295]\n",
      " [-0.17313362]]\n",
      "Eigenvalue 1: 0.18069560942840163\n",
      "----------------------------------------\n",
      "Eigenvector 2: \n",
      "[[0.68880098]\n",
      " [0.67424416]\n",
      " [0.1434595 ]\n",
      " [0.22442683]]\n",
      "Eigenvalue 2: 0.05721918342107776\n",
      "----------------------------------------\n",
      "Eigenvector 3: \n",
      "[[ 0.61299225]\n",
      " [-0.69628276]\n",
      " [-0.18136379]\n",
      " [ 0.32640159]]\n",
      "Eigenvalue 3: 0.024458826338780475\n",
      "----------------------------------------\n",
      "Eigenvector 4: \n",
      "[[-0.37473499]\n",
      " [ 0.03751906]\n",
      " [ 0.21224197]\n",
      " [ 0.90173131]]\n",
      "Eigenvalue 4: 0.03279973906204774\n",
      "----------------------------------------\n",
      "The percentage of total variance in the dataset explained by each component calculated by hand.\n",
      " [0.61216775 0.19384942 0.08286258 0.11112026]\n"
     ]
    }
   ],
   "source": [
    "# Calculating eigenvalues and eigenvectors.\n",
    "eig_val_cov, eig_vec_cov = np.linalg.eig(Cx)\n",
    "\n",
    "# Inspecting the eigenvalues and eigenvectors.\n",
    "for i in range(len(eig_val_cov)):\n",
    "    eigvec_cov = eig_vec_cov[:, i].reshape(1, 4).T\n",
    "    print('Eigenvector {}: \\n{}'.format(i + 1, eigvec_cov))\n",
    "    print('Eigenvalue {}: {}'.format(i + 1, eig_val_cov[i]))\n",
    "    print(40 * '-')\n",
    "\n",
    "print(\n",
    "    'The percentage of total variance in the dataset explained by each',\n",
    "    'component calculated by hand.\\n',\n",
    "    eig_val_cov / sum(eig_val_cov)\n",
    ")"
   ]
  },
  {
   "cell_type": "code",
   "execution_count": 23,
   "metadata": {},
   "outputs": [
    {
     "data": {
      "image/png": "[encoded data removed]",
      "text/plain": [
       "<Figure size 432x288 with 1 Axes>"
      ]
     },
     "metadata": {},
     "output_type": "display_data"
    }
   ],
   "source": [
    "plt.plot(eig_val_cov)\n",
    "plt.show()"
   ]
  },
  {
   "cell_type": "code",
   "execution_count": 25,
   "metadata": {},
   "outputs": [
    {
     "name": "stderr",
     "output_type": "stream",
     "text": [
      "C:\\ProgramData\\Anaconda3\\lib\\site-packages\\seaborn\\axisgrid.py:230: UserWarning: The `size` paramter has been renamed to `height`; please update your code.\n",
      "  warnings.warn(msg, UserWarning)\n"
     ]
    },
    {
     "data": {
      "image/png": "[encoded data removed]",
      "text/plain": [
       "<Figure size 576x288 with 4 Axes>"
      ]
     },
     "metadata": {},
     "output_type": "display_data"
    }
   ],
   "source": [
    "# Create P, which we will use to transform Cx into Cy to get Y, the\n",
    "# dimensionally-reduced representation of X.\n",
    "# the first eigen vector\n",
    "P = eig_vec_cov[:, 0]\n",
    "\n",
    "# Transform X into Y.\n",
    "Y = P.T.dot(Xt)\n",
    "\n",
    "# Combine X and Y for plotting purposes.\n",
    "# unnormalized data\n",
    "data_to_plot = cont_df.iloc[:,1:]\n",
    "data_to_plot['Component'] = Y\n",
    "data_to_plot = pd.melt(data_to_plot, id_vars='Component')\n",
    "\n",
    "g = sns.FacetGrid(data_to_plot, col=\"variable\", size=4, aspect=.5)\n",
    "g = g.map(\n",
    "    sns.regplot,\n",
    "    \"Component\",\n",
    "    \"value\",\n",
    "    fit_reg=False\n",
    ")\n",
    "plt.show()"
   ]
  },
  {
   "cell_type": "markdown",
   "metadata": {},
   "source": [
    "The PCA failed, because I could not find any PCA above one"
   ]
  },
  {
   "cell_type": "code",
   "execution_count": 35,
   "metadata": {},
   "outputs": [
    {
     "name": "stdout",
     "output_type": "stream",
     "text": [
      "log_cpi : (-0.017115495124577516, 9.689589375161461e-08)\n",
      "log_unemployment : (-0.01791040583154755, 2.4031147663474557e-08)\n",
      "square_fuel_price : (0.0024514626173028063, 0.4450368820940126)\n",
      "square_unemployment : (-0.0022355253153513175, 0.48615128329973256)\n"
     ]
    }
   ],
   "source": [
    "from scipy.stats import pearsonr\n",
    "for each in features.columns[3:]:\n",
    "    print(each, \":\", pearsonr(walmart.Weekly_Sales, features[each]))"
   ]
  },
  {
   "cell_type": "markdown",
   "metadata": {},
   "source": [
    "Unfortuantely I didn't find any relavant relationship between attributes and outcome. As a further reserach I tried to work on some stores only."
   ]
  },
  {
   "cell_type": "code",
   "execution_count": 66,
   "metadata": {},
   "outputs": [
    {
     "data": {
      "text/html": [
       "<div>\n",
       "<style scoped>\n",
       "    .dataframe tbody tr th:only-of-type {\n",
       "        vertical-align: middle;\n",
       "    }\n",
       "\n",
       "    .dataframe tbody tr th {\n",
       "        vertical-align: top;\n",
       "    }\n",
       "\n",
       "    .dataframe thead th {\n",
       "        text-align: right;\n",
       "    }\n",
       "</style>\n",
       "<table border=\"1\" class=\"dataframe\">\n",
       "  <thead>\n",
       "    <tr style=\"text-align: right;\">\n",
       "      <th></th>\n",
       "      <th>Temperature</th>\n",
       "      <th>Fuel_Price</th>\n",
       "      <th>CPI</th>\n",
       "      <th>Unemployment</th>\n",
       "      <th>Weekly_Sales</th>\n",
       "    </tr>\n",
       "  </thead>\n",
       "  <tbody>\n",
       "    <tr>\n",
       "      <th>Temperature</th>\n",
       "      <td>1.000000</td>\n",
       "      <td>0.258556</td>\n",
       "      <td>0.272031</td>\n",
       "      <td>-0.074984</td>\n",
       "      <td>-0.017835</td>\n",
       "    </tr>\n",
       "    <tr>\n",
       "      <th>Fuel_Price</th>\n",
       "      <td>0.258556</td>\n",
       "      <td>1.000000</td>\n",
       "      <td>-0.067173</td>\n",
       "      <td>0.044788</td>\n",
       "      <td>-0.030922</td>\n",
       "    </tr>\n",
       "    <tr>\n",
       "      <th>CPI</th>\n",
       "      <td>0.272031</td>\n",
       "      <td>-0.067173</td>\n",
       "      <td>1.000000</td>\n",
       "      <td>-0.849272</td>\n",
       "      <td>-0.113849</td>\n",
       "    </tr>\n",
       "    <tr>\n",
       "      <th>Unemployment</th>\n",
       "      <td>-0.074984</td>\n",
       "      <td>0.044788</td>\n",
       "      <td>-0.849272</td>\n",
       "      <td>1.000000</td>\n",
       "      <td>0.102035</td>\n",
       "    </tr>\n",
       "    <tr>\n",
       "      <th>Weekly_Sales</th>\n",
       "      <td>-0.017835</td>\n",
       "      <td>-0.030922</td>\n",
       "      <td>-0.113849</td>\n",
       "      <td>0.102035</td>\n",
       "      <td>1.000000</td>\n",
       "    </tr>\n",
       "  </tbody>\n",
       "</table>\n",
       "</div>"
      ],
      "text/plain": [
       "              Temperature  Fuel_Price       CPI  Unemployment  Weekly_Sales\n",
       "Temperature      1.000000    0.258556  0.272031     -0.074984     -0.017835\n",
       "Fuel_Price       0.258556    1.000000 -0.067173      0.044788     -0.030922\n",
       "CPI              0.272031   -0.067173  1.000000     -0.849272     -0.113849\n",
       "Unemployment    -0.074984    0.044788 -0.849272      1.000000      0.102035\n",
       "Weekly_Sales    -0.017835   -0.030922 -0.113849      0.102035      1.000000"
      ]
     },
     "execution_count": 66,
     "metadata": {},
     "output_type": "execute_result"
    }
   ],
   "source": [
    "store1 = walmart[walmart['Store'].isin([25,26])]\n",
    "store1 = store1.loc[:,cont_features[1:] + ['Weekly_Sales']]\n",
    "store1.corr()"
   ]
  },
  {
   "cell_type": "code",
   "execution_count": 70,
   "metadata": {},
   "outputs": [
    {
     "name": "stdout",
     "output_type": "stream",
     "text": [
      "              Temperature  Fuel_Price       CPI  Unemployment  Weekly_Sales  \\\n",
      "Temperature      1.000000    0.258556  0.272031     -0.074984     -0.017835   \n",
      "Fuel_Price       0.258556    1.000000 -0.067173      0.044788     -0.030922   \n",
      "CPI              0.272031   -0.067173  1.000000     -0.849272     -0.113849   \n",
      "Unemployment    -0.074984    0.044788 -0.849272      1.000000      0.102035   \n",
      "Weekly_Sales    -0.017835   -0.030922 -0.113849      0.102035      1.000000   \n",
      "fuelsquare       0.252064    0.999717 -0.064223      0.043107     -0.030747   \n",
      "\n",
      "              fuelsquare  \n",
      "Temperature     0.252064  \n",
      "Fuel_Price      0.999717  \n",
      "CPI            -0.064223  \n",
      "Unemployment    0.043107  \n",
      "Weekly_Sales   -0.030747  \n",
      "fuelsquare      1.000000  \n"
     ]
    }
   ],
   "source": [
    "store1 = walmart[walmart['Store'].isin([25,26])]\n",
    "store1 = store1.loc[:,cont_features[1:] + ['Weekly_Sales']]\n",
    "\n",
    "store1['fuelsquare'] = np.square(store1.loc[:,'Fuel_Price'])\n",
    "print(store1.corr())\n"
   ]
  },
  {
   "cell_type": "markdown",
   "metadata": {},
   "source": [
    "When I work only for two stores some correlations improved but still I couldn't find any feature which is correlated with the outcome"
   ]
  }
 ],
 "metadata": {
  "kernelspec": {
   "display_name": "Python 3",
   "language": "python",
   "name": "python3"
  },
  "language_info": {
   "codemirror_mode": {
    "name": "ipython",
    "version": 3
   },
   "file_extension": ".py",
   "mimetype": "text/x-python",
   "name": "python",
   "nbconvert_exporter": "python",
   "pygments_lexer": "ipython3",
   "version": "3.6.6"
  }
 },
 "nbformat": 4,
 "nbformat_minor": 2
}
