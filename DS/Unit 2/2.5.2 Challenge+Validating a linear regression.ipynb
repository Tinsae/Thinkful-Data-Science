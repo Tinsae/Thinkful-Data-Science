{
 "cells": [
  {
   "cell_type": "code",
   "execution_count": 1,
   "metadata": {},
   "outputs": [
    {
     "name": "stdout",
     "output_type": "stream",
     "text": [
      "351\n"
     ]
    },
    {
     "data": {
      "text/plain": [
       "Index(['City', 'Population', 'Violent\\ncrime',\n",
       "       'Murder and\\nnonnegligent\\nmanslaughter',\n",
       "       'Rape\\n(revised\\ndefinition)1', 'Rape\\n(legacy\\ndefinition)2',\n",
       "       'Robbery', 'Aggravated\\nassault', 'Property\\ncrime', 'Burglary',\n",
       "       'Larceny-\\ntheft', 'Motor\\nvehicle\\ntheft', 'Arson3'],\n",
       "      dtype='object')"
      ]
     },
     "execution_count": 1,
     "metadata": {},
     "output_type": "execute_result"
    }
   ],
   "source": [
    "import pandas as pd\n",
    "import numpy as np\n",
    "import matplotlib.pyplot as plt\n",
    "import seaborn as sns\n",
    "from sklearn.linear_model import LinearRegression\n",
    "from scipy import stats\n",
    "newyork = pd.read_csv(\"../../../Data & Script/newyork_offence.csv\", skiprows=4, thousands=\",\")\n",
    "print(len(newyork))\n",
    "newyork.columns"
   ]
  },
  {
   "cell_type": "code",
   "execution_count": 2,
   "metadata": {},
   "outputs": [],
   "source": [
    "# see null values in all columns\n",
    "#print(newyork.isna().sum())\n",
    "# dropping column 4 and 12 because they contain a lot of null values\n",
    "newyork = newyork.drop(newyork.columns[4], axis=1)\n",
    "newyork = newyork.drop(newyork.columns[-1], axis=1)\n",
    "# drop a cell which contains atleast one missing values, \n",
    "newyork = newyork.dropna().reset_index(drop=True)"
   ]
  },
  {
   "cell_type": "code",
   "execution_count": 3,
   "metadata": {},
   "outputs": [],
   "source": [
    "# finding highest value from the non outleirs\n",
    "# outliers = np.where(stats.zscore(newyork['Population']) >= 3)\n",
    "# non_outliers = np.where(stats.zscore(newyork['Population']) < 3)\n",
    "# sorted_numbers = np.sort(newyork.loc[non_outliers]['Population'])[::-1]\n",
    "# sorted_numbers"
   ]
  },
  {
   "cell_type": "code",
   "execution_count": 4,
   "metadata": {},
   "outputs": [],
   "source": [
    "# replace outlier with the mean\n",
    "# iteration determines how many times you want to run the replacement\n",
    "def replace_outliers_with_mean(datax, column, iteration):\n",
    "    replaced_numbers = set()\n",
    "    for i in range(iteration):\n",
    "        outliers = np.where(np.abs(stats.zscore(datax[column])) >= 3)\n",
    "        non_outliers = np.where(np.abs(stats.zscore(datax[column])) < 3)\n",
    "        the_mean = np.mean(non_outliers)\n",
    "        if(len(outliers[0]) > 0):\n",
    "            replaced_numbers.update(outliers[0])\n",
    "            # sort the numbers in the non_outlier list\n",
    "            # for each outlier in outliers list\n",
    "            for o in outliers:\n",
    "            # replace with the highest number in the non_outlier list\n",
    "                datax.loc[o,column] = the_mean\n",
    "    return replaced_numbers\n",
    "\n",
    "def replace_outliers_with_highest(datax, column, iteration):\n",
    "    replaced_numbers = set()\n",
    "    for i in range(iteration):\n",
    "        outliers = np.where(np.abs(stats.zscore(datax[column])) >= 3)\n",
    "        non_outliers = np.where(np.abs(stats.zscore(datax[column])) < 3)\n",
    "        if(len(outliers[0]) > 0):\n",
    "            replaced_numbers.update(outliers[0])\n",
    "            # sort the numbers in the non_outlier list\n",
    "            sorted_numbers = np.sort(datax.loc[non_outliers][column])[::-1]\n",
    "            # for each outlier in outliers list\n",
    "            for o in outliers:\n",
    "            # replace with the highest number in the non_outlier list\n",
    "                datax.loc[o,column] = sorted_numbers[0]\n",
    "    return replaced_numbers"
   ]
  },
  {
   "cell_type": "code",
   "execution_count": 5,
   "metadata": {},
   "outputs": [],
   "source": [
    "# see how replacing outliers changes the distribution\n",
    "\n",
    "# fig = plt.figure(figsize=(6,6))\n",
    "\n",
    "# fig.add_subplot(231)\n",
    "\n",
    "# sns.boxplot(newyork['Population'], orient=\"v\")\n",
    "\n",
    "# outlier1, newyork = replace_outliers(newyork, 'Population')\n",
    "# fig.add_subplot(232)\n",
    "# sns.boxplot(newyork['Population'], orient=\"v\")\n",
    "\n",
    "# outlier2, newyork = replace_outliers(newyork, 'Population')\n",
    "# fig.add_subplot(233)\n",
    "# sns.boxplot(newyork['Population'], orient=\"v\")\n",
    "\n",
    "\n",
    "# print(outlier1)\n",
    "# print(outlier2)\n"
   ]
  },
  {
   "cell_type": "code",
   "execution_count": 6,
   "metadata": {},
   "outputs": [],
   "source": [
    "# myset = set()\n",
    "# myset.update(np.array([1,2,3]))\n",
    "# outliers = np.where(stats.zscore(newyork['Population']) >= 3)[0]"
   ]
  },
  {
   "cell_type": "code",
   "execution_count": 7,
   "metadata": {},
   "outputs": [
    {
     "data": {
      "text/plain": [
       "<matplotlib.axes._subplots.AxesSubplot at 0x209f99db780>"
      ]
     },
     "execution_count": 7,
     "metadata": {},
     "output_type": "execute_result"
    },
    {
     "data": {
      "image/png": "[encoded data removed]",
      "text/plain": [
       "<Figure size 432x288 with 1 Axes>"
      ]
     },
     "metadata": {},
     "output_type": "display_data"
    }
   ],
   "source": [
    "# before outlier removal\n",
    "sns.boxplot(newyork['Population'], orient=\"v\")"
   ]
  },
  {
   "cell_type": "code",
   "execution_count": 8,
   "metadata": {},
   "outputs": [
    {
     "name": "stdout",
     "output_type": "stream",
     "text": [
      "{216}\n",
      "{216}\n",
      "{216}\n",
      "{216}\n",
      "{216}\n",
      "{216}\n",
      "{216}\n",
      "{216, 35}\n",
      "{216}\n",
      "{216}\n"
     ]
    }
   ],
   "source": [
    "# replace outliers in all collumns with the mean of the column\n",
    "for col in newyork.columns[1:]:\n",
    "    # print which rows are replaced\n",
    "    replaced_numbers = replace_outliers_with_mean(newyork, col,1)\n",
    "    print(replaced_numbers)"
   ]
  },
  {
   "cell_type": "code",
   "execution_count": 9,
   "metadata": {},
   "outputs": [
    {
     "data": {
      "text/plain": [
       "216    New York\n",
       "35      Buffalo\n",
       "Name: City, dtype: object"
      ]
     },
     "execution_count": 9,
     "metadata": {},
     "output_type": "execute_result"
    }
   ],
   "source": [
    "newyork.loc[[216,35]]['City']"
   ]
  },
  {
   "cell_type": "markdown",
   "metadata": {},
   "source": [
    "New York city is an outlier in all the features and Buffalo has outlier value in one column"
   ]
  },
  {
   "cell_type": "code",
   "execution_count": 10,
   "metadata": {},
   "outputs": [
    {
     "data": {
      "text/plain": [
       "<matplotlib.axes._subplots.AxesSubplot at 0x209f9cc5860>"
      ]
     },
     "execution_count": 10,
     "metadata": {},
     "output_type": "execute_result"
    },
    {
     "data": {
      "image/png": "[encoded data removed]",
      "text/plain": [
       "<Figure size 432x288 with 1 Axes>"
      ]
     },
     "metadata": {},
     "output_type": "display_data"
    }
   ],
   "source": [
    "# after oulier removal\n",
    "sns.boxplot(newyork['Population'], orient=\"v\")"
   ]
  },
  {
   "cell_type": "code",
   "execution_count": 11,
   "metadata": {},
   "outputs": [],
   "source": [
    "#create the features\n",
    "newyork['PopSquared'] = newyork['Population'] ** 2\n",
    "newyork['Murder'] = newyork[newyork.columns[3]] > 0\n",
    "newyork['Robbery'] = newyork['Robbery'] > 0\n",
    "# rename columns\n",
    "new_column_names = ['city', 'population', 'violent_crime', 'murder_cont', 'rape2', 'robbery',\n",
    "                   'aggravated_assault', 'property_crime', 'burglary', \n",
    "                   'lacrceny_theft', 'motor_vehicle_theft', 'pop_squared', 'murder']\n",
    "newyork.columns = new_column_names\n",
    "# rearrange the colums(move the dependant variable to the end)\n",
    "# a regression model with multiple dependent variables is called multivariate not multivariable\n",
    "# multivariable means multiple independent variables and one dependent variable\n",
    "newyork.columns = new_column_names[:7] + new_column_names[8:] + [new_column_names[7]]"
   ]
  },
  {
   "cell_type": "markdown",
   "metadata": {},
   "source": [
    "Beware of these\n",
    "- Colinearity\n",
    "- Correlation with the outcome\n",
    "- Overfitting as a result of too many variables"
   ]
  },
  {
   "cell_type": "markdown",
   "metadata": {},
   "source": [
    "Steps to make a regression model\n",
    "\n",
    "1. Generate potential dependant and independant variables\n",
    "2. Collect data on variables\n",
    "3. Check the relationship between each independant and the dependant variable using scatter plots and correlation\n",
    "4. Check the relationship among independant variables using scatter plots and correlation\n",
    "5. Conduct linear regression for each IV/DV pair"
   ]
  },
  {
   "cell_type": "markdown",
   "metadata": {},
   "source": [
    "#### How to interpret correlations\n",
    "\n",
    "- [0.9, 1.0] very highly correlated\n",
    "- [0.7, 0.9] highly correlated\n",
    "- [0.5, 0.7] moderately correlated\n",
    "- [0.3, 0.5] low correlation\n",
    "- < 0.3 have little if any (linear) correlation."
   ]
  },
  {
   "cell_type": "code",
   "execution_count": 12,
   "metadata": {},
   "outputs": [
    {
     "name": "stderr",
     "output_type": "stream",
     "text": [
      "C:\\ProgramData\\Anaconda3\\lib\\site-packages\\scipy\\stats\\stats.py:1713: FutureWarning: Using a non-tuple sequence for multidimensional indexing is deprecated; use `arr[tuple(seq)]` instead of `arr[seq]`. In the future this will be interpreted as an array index, `arr[np.array(seq)]`, which will result either in an error or a different result.\n",
      "  return np.add.reduce(sorted[indexer] * weights, axis=axis) / sumval\n"
     ]
    },
    {
     "data": {
      "image/png": "[encoded data removed]",
      "text/plain": [
       "<Figure size 1152x432 with 4 Axes>"
      ]
     },
     "metadata": {},
     "output_type": "display_data"
    }
   ],
   "source": [
    "newyork_selected = newyork[['population', 'robbery','murder', 'pop_squared','property_crime']]\n",
    "# scatter plot to show the relationship between depedent and independent variables\n",
    "fig = plt.figure(figsize=(16,6))\n",
    "fig.subplots_adjust(hspace = 0.4, wspace = 0.2)\n",
    "fig.suptitle(\"Correlation with Property Crime\")\n",
    "for i,v in enumerate(['population', 'robbery','murder', 'pop_squared']): \n",
    "    ax = fig.add_subplot(220 + i +1)\n",
    "    sns.regplot(newyork_selected[v], newyork_selected['property_crime'])\n",
    "    sns.despine()\n",
    "    ax.set(ylabel='')\n",
    "# TGA The shading shows how the values vary for each predicted value"
   ]
  },
  {
   "cell_type": "code",
   "execution_count": 13,
   "metadata": {},
   "outputs": [
    {
     "data": {
      "text/html": [
       "<div>\n",
       "<style scoped>\n",
       "    .dataframe tbody tr th:only-of-type {\n",
       "        vertical-align: middle;\n",
       "    }\n",
       "\n",
       "    .dataframe tbody tr th {\n",
       "        vertical-align: top;\n",
       "    }\n",
       "\n",
       "    .dataframe thead th {\n",
       "        text-align: right;\n",
       "    }\n",
       "</style>\n",
       "<table border=\"1\" class=\"dataframe\">\n",
       "  <thead>\n",
       "    <tr style=\"text-align: right;\">\n",
       "      <th></th>\n",
       "      <th>population</th>\n",
       "      <th>robbery</th>\n",
       "      <th>murder</th>\n",
       "      <th>pop_squared</th>\n",
       "      <th>property_crime</th>\n",
       "    </tr>\n",
       "  </thead>\n",
       "  <tbody>\n",
       "    <tr>\n",
       "      <th>population</th>\n",
       "      <td>1.000000</td>\n",
       "      <td>0.342479</td>\n",
       "      <td>0.888425</td>\n",
       "      <td>0.817205</td>\n",
       "      <td>0.493882</td>\n",
       "    </tr>\n",
       "    <tr>\n",
       "      <th>robbery</th>\n",
       "      <td>0.342479</td>\n",
       "      <td>1.000000</td>\n",
       "      <td>0.151677</td>\n",
       "      <td>0.168000</td>\n",
       "      <td>0.313271</td>\n",
       "    </tr>\n",
       "    <tr>\n",
       "      <th>murder</th>\n",
       "      <td>0.888425</td>\n",
       "      <td>0.151677</td>\n",
       "      <td>1.000000</td>\n",
       "      <td>0.929582</td>\n",
       "      <td>0.340424</td>\n",
       "    </tr>\n",
       "    <tr>\n",
       "      <th>pop_squared</th>\n",
       "      <td>0.817205</td>\n",
       "      <td>0.168000</td>\n",
       "      <td>0.929582</td>\n",
       "      <td>1.000000</td>\n",
       "      <td>0.378263</td>\n",
       "    </tr>\n",
       "    <tr>\n",
       "      <th>property_crime</th>\n",
       "      <td>0.493882</td>\n",
       "      <td>0.313271</td>\n",
       "      <td>0.340424</td>\n",
       "      <td>0.378263</td>\n",
       "      <td>1.000000</td>\n",
       "    </tr>\n",
       "  </tbody>\n",
       "</table>\n",
       "</div>"
      ],
      "text/plain": [
       "                population   robbery    murder  pop_squared  property_crime\n",
       "population        1.000000  0.342479  0.888425     0.817205        0.493882\n",
       "robbery           0.342479  1.000000  0.151677     0.168000        0.313271\n",
       "murder            0.888425  0.151677  1.000000     0.929582        0.340424\n",
       "pop_squared       0.817205  0.168000  0.929582     1.000000        0.378263\n",
       "property_crime    0.493882  0.313271  0.340424     0.378263        1.000000"
      ]
     },
     "execution_count": 13,
     "metadata": {},
     "output_type": "execute_result"
    }
   ],
   "source": [
    "# see the correlation among these variables\n",
    "newyork_selected.corr()"
   ]
  },
  {
   "cell_type": "markdown",
   "metadata": {},
   "source": [
    "Removing outlier helped. Population, Robbery, Murder, PopSquared are all correlated with the output. Some mutlicolinearity exists"
   ]
  },
  {
   "cell_type": "code",
   "execution_count": 14,
   "metadata": {},
   "outputs": [
    {
     "name": "stdout",
     "output_type": "stream",
     "text": [
      "[ 1.10512162e-05  5.08498483e-02 -6.15051106e-11  2.53304288e-03]\n",
      "0.3295667919866683\n"
     ]
    }
   ],
   "source": [
    "# create a regression model on these features\n",
    "from sklearn.linear_model import LinearRegression\n",
    "reg = LinearRegression()\n",
    "X = newyork[['population', 'robbery','murder', 'pop_squared']]\n",
    "Y = newyork['property_crime']\n",
    "reg.fit(X,Y)\n",
    "print(reg.coef_)\n",
    "print(reg.score(X,Y))"
   ]
  },
  {
   "cell_type": "markdown",
   "metadata": {},
   "source": [
    "r2 is not impressive."
   ]
  },
  {
   "cell_type": "code",
   "execution_count": 15,
   "metadata": {},
   "outputs": [
    {
     "data": {
      "image/png": "[encoded data removed]",
      "text/plain": [
       "<Figure size 1152x720 with 2 Axes>"
      ]
     },
     "metadata": {},
     "output_type": "display_data"
    }
   ],
   "source": [
    " fig = plt.figure(figsize=(16,10))\n",
    " sns.heatmap(newyork.corr(), annot=True)\n",
    " plt.show()"
   ]
  },
  {
   "cell_type": "code",
   "execution_count": 16,
   "metadata": {},
   "outputs": [
    {
     "name": "stdout",
     "output_type": "stream",
     "text": [
      "How many independant variables?  11\n"
     ]
    }
   ],
   "source": [
    "import itertools\n",
    "\n",
    "# all independent variables\n",
    "all_features = newyork.columns[1:-1]\n",
    "\n",
    "print(\"How many independant variables? \", len(all_features))\n",
    "# stores the score of each subset of features\n",
    "scores = dict()\n",
    "# find all possible combinations of features\n",
    "for L in range(0, len(all_features)+1):\n",
    "    for subset in itertools.combinations(all_features, L):\n",
    "        if(len(subset) > 0):\n",
    "            X =  newyork[list(subset)]\n",
    "            Y =  newyork['property_crime']\n",
    "            # fit a regression model\n",
    "            reg.fit(X,Y)\n",
    "            # calculate score and store to the dictionary\n",
    "            scores[str(subset)] = reg.score(X, Y)"
   ]
  },
  {
   "cell_type": "code",
   "execution_count": 17,
   "metadata": {},
   "outputs": [
    {
     "data": {
      "text/plain": [
       "[(\"('population', 'violent_crime', 'murder_cont', 'rape2', 'robbery', 'aggravated_assault', 'burglary', 'lacrceny_theft', 'motor_vehicle_theft', 'pop_squared', 'murder')\",\n",
       "  0.41659694523497703),\n",
       " (\"('population', 'violent_crime', 'murder_cont', 'robbery', 'aggravated_assault', 'burglary', 'lacrceny_theft', 'motor_vehicle_theft', 'pop_squared', 'murder')\",\n",
       "  0.4159733792290847),\n",
       " (\"('population', 'violent_crime', 'murder_cont', 'rape2', 'robbery', 'aggravated_assault', 'burglary', 'motor_vehicle_theft', 'pop_squared', 'murder')\",\n",
       "  0.41558819676931935),\n",
       " (\"('population', 'violent_crime', 'murder_cont', 'rape2', 'robbery', 'burglary', 'lacrceny_theft', 'motor_vehicle_theft', 'pop_squared', 'murder')\",\n",
       "  0.41558407284584326),\n",
       " (\"('population', 'violent_crime', 'murder_cont', 'robbery', 'aggravated_assault', 'burglary', 'motor_vehicle_theft', 'pop_squared', 'murder')\",\n",
       "  0.4153052971513783),\n",
       " (\"('population', 'violent_crime', 'murder_cont', 'rape2', 'robbery', 'burglary', 'motor_vehicle_theft', 'pop_squared', 'murder')\",\n",
       "  0.4145499308614769),\n",
       " (\"('population', 'violent_crime', 'murder_cont', 'rape2', 'robbery', 'aggravated_assault', 'lacrceny_theft', 'motor_vehicle_theft', 'pop_squared', 'murder')\",\n",
       "  0.4141873175434837),\n",
       " (\"('population', 'violent_crime', 'murder_cont', 'robbery', 'burglary', 'lacrceny_theft', 'motor_vehicle_theft', 'pop_squared', 'murder')\",\n",
       "  0.4141836418059198),\n",
       " (\"('population', 'violent_crime', 'murder_cont', 'robbery', 'aggravated_assault', 'lacrceny_theft', 'motor_vehicle_theft', 'pop_squared', 'murder')\",\n",
       "  0.41416480711548836),\n",
       " (\"('population', 'violent_crime', 'murder_cont', 'rape2', 'robbery', 'aggravated_assault', 'motor_vehicle_theft', 'pop_squared', 'murder')\",\n",
       "  0.4141379143812418),\n",
       " (\"('population', 'violent_crime', 'murder_cont', 'robbery', 'aggravated_assault', 'motor_vehicle_theft', 'pop_squared', 'murder')\",\n",
       "  0.4141199125992006),\n",
       " (\"('population', 'violent_crime', 'murder_cont', 'rape2', 'aggravated_assault', 'burglary', 'lacrceny_theft', 'motor_vehicle_theft', 'pop_squared', 'murder')\",\n",
       "  0.41383928468762904),\n",
       " (\"('population', 'violent_crime', 'murder_cont', 'rape2', 'robbery', 'aggravated_assault', 'burglary', 'lacrceny_theft', 'pop_squared', 'murder')\",\n",
       "  0.41373853250511156),\n",
       " (\"('population', 'violent_crime', 'murder_cont', 'robbery', 'aggravated_assault', 'burglary', 'lacrceny_theft', 'pop_squared', 'murder')\",\n",
       "  0.4137028471419112),\n",
       " (\"('population', 'violent_crime', 'murder_cont', 'robbery', 'burglary', 'motor_vehicle_theft', 'pop_squared', 'murder')\",\n",
       "  0.4136870214764655),\n",
       " (\"('population', 'violent_crime', 'murder_cont', 'rape2', 'robbery', 'aggravated_assault', 'burglary', 'pop_squared', 'murder')\",\n",
       "  0.4136837561446344),\n",
       " (\"('population', 'violent_crime', 'murder_cont', 'robbery', 'aggravated_assault', 'burglary', 'pop_squared', 'murder')\",\n",
       "  0.4136581530454495),\n",
       " (\"('population', 'violent_crime', 'murder_cont', 'aggravated_assault', 'burglary', 'lacrceny_theft', 'motor_vehicle_theft', 'pop_squared', 'murder')\",\n",
       "  0.4133919887970256),\n",
       " (\"('population', 'violent_crime', 'murder_cont', 'rape2', 'robbery', 'aggravated_assault', 'lacrceny_theft', 'pop_squared', 'murder')\",\n",
       "  0.4131223084362933),\n",
       " (\"('population', 'violent_crime', 'murder_cont', 'robbery', 'aggravated_assault', 'lacrceny_theft', 'pop_squared', 'murder')\",\n",
       "  0.412766483459985),\n",
       " (\"('population', 'violent_crime', 'murder_cont', 'rape2', 'robbery', 'aggravated_assault', 'pop_squared', 'murder')\",\n",
       "  0.41270776443392815),\n",
       " (\"('population', 'violent_crime', 'murder_cont', 'rape2', 'aggravated_assault', 'burglary', 'motor_vehicle_theft', 'pop_squared', 'murder')\",\n",
       "  0.41246531992854946),\n",
       " (\"('population', 'violent_crime', 'murder_cont', 'rape2', 'burglary', 'lacrceny_theft', 'motor_vehicle_theft', 'pop_squared', 'murder')\",\n",
       "  0.4124155768088298),\n",
       " (\"('population', 'violent_crime', 'murder_cont', 'aggravated_assault', 'burglary', 'motor_vehicle_theft', 'pop_squared', 'murder')\",\n",
       "  0.4123447769274755),\n",
       " (\"('population', 'violent_crime', 'murder_cont', 'rape2', 'robbery', 'lacrceny_theft', 'motor_vehicle_theft', 'pop_squared', 'murder')\",\n",
       "  0.4123077202147165),\n",
       " (\"('population', 'violent_crime', 'murder_cont', 'rape2', 'robbery', 'motor_vehicle_theft', 'pop_squared', 'murder')\",\n",
       "  0.41230441447303307),\n",
       " (\"('population', 'violent_crime', 'murder_cont', 'robbery', 'aggravated_assault', 'pop_squared', 'murder')\",\n",
       "  0.4122851930366235),\n",
       " (\"('population', 'violent_crime', 'murder_cont', 'robbery', 'lacrceny_theft', 'motor_vehicle_theft', 'pop_squared', 'murder')\",\n",
       "  0.41202110215884613),\n",
       " (\"('population', 'violent_crime', 'murder_cont', 'robbery', 'motor_vehicle_theft', 'pop_squared', 'murder')\",\n",
       "  0.41202110033743866),\n",
       " (\"('population', 'violent_crime', 'murder_cont', 'rape2', 'robbery', 'burglary', 'lacrceny_theft', 'pop_squared', 'murder')\",\n",
       "  0.41187946109576684),\n",
       " (\"('population', 'violent_crime', 'murder_cont', 'rape2', 'robbery', 'burglary', 'pop_squared', 'murder')\",\n",
       "  0.4118676986876026),\n",
       " (\"('population', 'violent_crime', 'murder_cont', 'rape2', 'aggravated_assault', 'lacrceny_theft', 'motor_vehicle_theft', 'pop_squared', 'murder')\",\n",
       "  0.4115269354931491),\n",
       " (\"('population', 'violent_crime', 'murder_cont', 'robbery', 'burglary', 'lacrceny_theft', 'pop_squared', 'murder')\",\n",
       "  0.4115264158581699),\n",
       " (\"('population', 'violent_crime', 'murder_cont', 'robbery', 'burglary', 'pop_squared', 'murder')\",\n",
       "  0.4115262661637362),\n",
       " (\"('population', 'violent_crime', 'murder_cont', 'aggravated_assault', 'lacrceny_theft', 'motor_vehicle_theft', 'pop_squared', 'murder')\",\n",
       "  0.4115259240167715),\n",
       " (\"('population', 'violent_crime', 'murder_cont', 'rape2', 'robbery', 'lacrceny_theft', 'pop_squared', 'murder')\",\n",
       "  0.411521333020563),\n",
       " (\"('population', 'violent_crime', 'murder_cont', 'rape2', 'aggravated_assault', 'motor_vehicle_theft', 'pop_squared', 'murder')\",\n",
       "  0.4113400114895063),\n",
       " (\"('population', 'violent_crime', 'murder_cont', 'aggravated_assault', 'motor_vehicle_theft', 'pop_squared', 'murder')\",\n",
       "  0.4113399945148028),\n",
       " (\"('population', 'violent_crime', 'murder_cont', 'rape2', 'robbery', 'pop_squared', 'murder')\",\n",
       "  0.41133580010470444),\n",
       " (\"('population', 'violent_crime', 'murder_cont', 'burglary', 'lacrceny_theft', 'motor_vehicle_theft', 'pop_squared', 'murder')\",\n",
       "  0.4111804422148711),\n",
       " (\"('population', 'violent_crime', 'murder_cont', 'rape2', 'aggravated_assault', 'burglary', 'lacrceny_theft', 'pop_squared', 'murder')\",\n",
       "  0.41113971282972633),\n",
       " (\"('population', 'violent_crime', 'murder_cont', 'aggravated_assault', 'burglary', 'lacrceny_theft', 'pop_squared', 'murder')\",\n",
       "  0.41113339181726677),\n",
       " (\"('population', 'violent_crime', 'murder_cont', 'rape2', 'burglary', 'motor_vehicle_theft', 'pop_squared', 'murder')\",\n",
       "  0.410975101360656),\n",
       " (\"('population', 'violent_crime', 'murder_cont', 'rape2', 'aggravated_assault', 'burglary', 'pop_squared', 'murder')\",\n",
       "  0.410944878371546),\n",
       " (\"('population', 'violent_crime', 'murder_cont', 'aggravated_assault', 'burglary', 'pop_squared', 'murder')\",\n",
       "  0.4109445460976699),\n",
       " (\"('population', 'violent_crime', 'murder_cont', 'rape2', 'aggravated_assault', 'lacrceny_theft', 'pop_squared', 'murder')\",\n",
       "  0.41067085168915907),\n",
       " (\"('population', 'violent_crime', 'murder_cont', 'robbery', 'lacrceny_theft', 'pop_squared', 'murder')\",\n",
       "  0.4106475822358902),\n",
       " (\"('population', 'violent_crime', 'murder_cont', 'aggravated_assault', 'lacrceny_theft', 'pop_squared', 'murder')\",\n",
       "  0.41048464699822773),\n",
       " (\"('population', 'violent_crime', 'murder_cont', 'robbery', 'pop_squared', 'murder')\",\n",
       "  0.4104288053875992),\n",
       " (\"('population', 'violent_crime', 'murder_cont', 'burglary', 'motor_vehicle_theft', 'pop_squared', 'murder')\",\n",
       "  0.4103470605560316)]"
      ]
     },
     "execution_count": 17,
     "metadata": {},
     "output_type": "execute_result"
    }
   ],
   "source": [
    "# sort them by value, ascending order\n",
    "sorted_by_value = sorted(scores.items(), key=lambda kv: kv[1])\n",
    "# change to descending order\n",
    "sorted_by_value.reverse()\n",
    "sorted_by_value[:50]"
   ]
  },
  {
   "cell_type": "markdown",
   "metadata": {},
   "source": [
    "The highest R2 is only 0.4 but it gives some hint about the quality of the features. I hand picked five features. I am a little cautious about including murder_cont and murder because murder_cont(continous) was converted to murder(binary). Both show the same information in different formats. "
   ]
  },
  {
   "cell_type": "code",
   "execution_count": 18,
   "metadata": {},
   "outputs": [],
   "source": [
    "good_features = ['population', 'violent_crime','murder_cont','robbery' ,'pop_squared']\n",
    "sqrt_features = ['sqrt_'+ c for c in good_features[:-1]]\n",
    "\n",
    "# sqrt is not applied to pop_squared because it will create duplicate feature, population\n",
    "for col in good_features[:-1]:\n",
    "    newyork['sqrt_' + col] = newyork[col] ** (1/2)\n",
    "# combine good features with their sqrt friends\n",
    "good_features = good_features + sqrt_features\n",
    "\n",
    "scores = dict()\n",
    "for L in range(0, len(good_features)+1):\n",
    "    for subset in itertools.combinations(good_features, L):\n",
    "        if(len(subset) > 0):\n",
    "            X =  newyork[list(subset)]\n",
    "            Y =  newyork['property_crime']\n",
    "            reg.fit(X,Y)\n",
    "            scores[str(subset)] = reg.score(X, Y)"
   ]
  },
  {
   "cell_type": "code",
   "execution_count": 19,
   "metadata": {},
   "outputs": [
    {
     "data": {
      "text/plain": [
       "[(\"('population', 'violent_crime', 'murder_cont', 'robbery', 'pop_squared', 'sqrt_population', 'sqrt_violent_crime', 'sqrt_murder_cont', 'sqrt_robbery')\",\n",
       "  0.890308938386017),\n",
       " (\"('population', 'violent_crime', 'murder_cont', 'pop_squared', 'sqrt_population', 'sqrt_violent_crime', 'sqrt_murder_cont', 'sqrt_robbery')\",\n",
       "  0.890308938386017),\n",
       " (\"('population', 'violent_crime', 'murder_cont', 'robbery', 'pop_squared', 'sqrt_population', 'sqrt_violent_crime', 'sqrt_murder_cont')\",\n",
       "  0.890308938386017),\n",
       " (\"('population', 'violent_crime', 'murder_cont', 'robbery', 'pop_squared', 'sqrt_violent_crime', 'sqrt_murder_cont', 'sqrt_robbery')\",\n",
       "  0.890227947968771),\n",
       " (\"('population', 'violent_crime', 'murder_cont', 'pop_squared', 'sqrt_violent_crime', 'sqrt_murder_cont', 'sqrt_robbery')\",\n",
       "  0.890227947968771),\n",
       " (\"('population', 'violent_crime', 'murder_cont', 'robbery', 'pop_squared', 'sqrt_violent_crime', 'sqrt_murder_cont')\",\n",
       "  0.890227947968771),\n",
       " (\"('violent_crime', 'murder_cont', 'robbery', 'pop_squared', 'sqrt_population', 'sqrt_violent_crime', 'sqrt_murder_cont', 'sqrt_robbery')\",\n",
       "  0.890200578907736),\n",
       " (\"('violent_crime', 'murder_cont', 'pop_squared', 'sqrt_population', 'sqrt_violent_crime', 'sqrt_murder_cont', 'sqrt_robbery')\",\n",
       "  0.890200578907736),\n",
       " (\"('violent_crime', 'murder_cont', 'robbery', 'pop_squared', 'sqrt_population', 'sqrt_violent_crime', 'sqrt_murder_cont')\",\n",
       "  0.890200578907736),\n",
       " (\"('population', 'violent_crime', 'murder_cont', 'robbery', 'pop_squared', 'sqrt_population', 'sqrt_murder_cont', 'sqrt_robbery')\",\n",
       "  0.8898369820119042),\n",
       " (\"('population', 'violent_crime', 'murder_cont', 'pop_squared', 'sqrt_population', 'sqrt_murder_cont', 'sqrt_robbery')\",\n",
       "  0.8898369820119042),\n",
       " (\"('population', 'violent_crime', 'murder_cont', 'robbery', 'pop_squared', 'sqrt_population', 'sqrt_murder_cont')\",\n",
       "  0.8898369820119042),\n",
       " (\"('population', 'violent_crime', 'murder_cont', 'robbery', 'pop_squared', 'sqrt_murder_cont', 'sqrt_robbery')\",\n",
       "  0.8898367937400801),\n",
       " (\"('population', 'violent_crime', 'murder_cont', 'pop_squared', 'sqrt_murder_cont', 'sqrt_robbery')\",\n",
       "  0.8898367937400801),\n",
       " (\"('population', 'violent_crime', 'murder_cont', 'robbery', 'pop_squared', 'sqrt_murder_cont')\",\n",
       "  0.8898367937400801),\n",
       " (\"('population', 'violent_crime', 'murder_cont', 'robbery', 'sqrt_population', 'sqrt_violent_crime', 'sqrt_murder_cont', 'sqrt_robbery')\",\n",
       "  0.8897080523347467),\n",
       " (\"('population', 'violent_crime', 'murder_cont', 'sqrt_population', 'sqrt_violent_crime', 'sqrt_murder_cont', 'sqrt_robbery')\",\n",
       "  0.8897080523347467),\n",
       " (\"('population', 'violent_crime', 'murder_cont', 'robbery', 'sqrt_population', 'sqrt_violent_crime', 'sqrt_murder_cont')\",\n",
       "  0.8897080523347467),\n",
       " (\"('violent_crime', 'murder_cont', 'robbery', 'pop_squared', 'sqrt_population', 'sqrt_murder_cont', 'sqrt_robbery')\",\n",
       "  0.8896302099995611),\n",
       " (\"('violent_crime', 'murder_cont', 'robbery', 'pop_squared', 'sqrt_population', 'sqrt_murder_cont')\",\n",
       "  0.8896302099995611),\n",
       " (\"('violent_crime', 'murder_cont', 'pop_squared', 'sqrt_population', 'sqrt_murder_cont', 'sqrt_robbery')\",\n",
       "  0.889630209999561),\n",
       " (\"('violent_crime', 'murder_cont', 'robbery', 'sqrt_population', 'sqrt_violent_crime', 'sqrt_murder_cont', 'sqrt_robbery')\",\n",
       "  0.8895751113644252),\n",
       " (\"('violent_crime', 'murder_cont', 'sqrt_population', 'sqrt_violent_crime', 'sqrt_murder_cont', 'sqrt_robbery')\",\n",
       "  0.8895751113644252),\n",
       " (\"('violent_crime', 'murder_cont', 'robbery', 'sqrt_population', 'sqrt_violent_crime', 'sqrt_murder_cont')\",\n",
       "  0.8895751113644252),\n",
       " (\"('population', 'violent_crime', 'murder_cont', 'robbery', 'sqrt_violent_crime', 'sqrt_murder_cont', 'sqrt_robbery')\",\n",
       "  0.8895481009857512),\n",
       " (\"('population', 'violent_crime', 'murder_cont', 'sqrt_violent_crime', 'sqrt_murder_cont', 'sqrt_robbery')\",\n",
       "  0.8895481009857512),\n",
       " (\"('population', 'violent_crime', 'murder_cont', 'robbery', 'sqrt_violent_crime', 'sqrt_murder_cont')\",\n",
       "  0.8895481009857512),\n",
       " (\"('population', 'violent_crime', 'murder_cont', 'pop_squared', 'sqrt_population', 'sqrt_violent_crime', 'sqrt_murder_cont')\",\n",
       "  0.88885192917062),\n",
       " (\"('violent_crime', 'murder_cont', 'pop_squared', 'sqrt_population', 'sqrt_violent_crime', 'sqrt_murder_cont')\",\n",
       "  0.8888513752334317),\n",
       " (\"('population', 'violent_crime', 'murder_cont', 'pop_squared', 'sqrt_population', 'sqrt_murder_cont')\",\n",
       "  0.888708971111954),\n",
       " (\"('violent_crime', 'murder_cont', 'pop_squared', 'sqrt_population', 'sqrt_murder_cont')\",\n",
       "  0.8886932441849084),\n",
       " (\"('violent_crime', 'murder_cont', 'robbery', 'pop_squared', 'sqrt_violent_crime', 'sqrt_murder_cont', 'sqrt_robbery')\",\n",
       "  0.8886450469606296),\n",
       " (\"('violent_crime', 'murder_cont', 'pop_squared', 'sqrt_violent_crime', 'sqrt_murder_cont', 'sqrt_robbery')\",\n",
       "  0.8886450469606296),\n",
       " (\"('violent_crime', 'murder_cont', 'robbery', 'pop_squared', 'sqrt_violent_crime', 'sqrt_murder_cont')\",\n",
       "  0.8886450469606296),\n",
       " (\"('violent_crime', 'murder_cont', 'robbery', 'pop_squared', 'sqrt_murder_cont', 'sqrt_robbery')\",\n",
       "  0.8886449112748928),\n",
       " (\"('violent_crime', 'murder_cont', 'pop_squared', 'sqrt_murder_cont', 'sqrt_robbery')\",\n",
       "  0.8886449112748926),\n",
       " (\"('violent_crime', 'murder_cont', 'robbery', 'pop_squared', 'sqrt_murder_cont')\",\n",
       "  0.8886449112748926),\n",
       " (\"('population', 'violent_crime', 'murder_cont', 'robbery', 'sqrt_population', 'sqrt_murder_cont', 'sqrt_robbery')\",\n",
       "  0.8885076807875196),\n",
       " (\"('population', 'violent_crime', 'murder_cont', 'sqrt_population', 'sqrt_murder_cont', 'sqrt_robbery')\",\n",
       "  0.8885076807875196),\n",
       " (\"('population', 'violent_crime', 'murder_cont', 'robbery', 'sqrt_population', 'sqrt_murder_cont')\",\n",
       "  0.8885076807875196),\n",
       " (\"('population', 'violent_crime', 'murder_cont', 'robbery', 'sqrt_murder_cont', 'sqrt_robbery')\",\n",
       "  0.8885042761651899),\n",
       " (\"('population', 'violent_crime', 'murder_cont', 'sqrt_murder_cont', 'sqrt_robbery')\",\n",
       "  0.8885042761651899),\n",
       " (\"('population', 'violent_crime', 'murder_cont', 'robbery', 'sqrt_murder_cont')\",\n",
       "  0.8885042761651899),\n",
       " (\"('population', 'violent_crime', 'murder_cont', 'pop_squared', 'sqrt_violent_crime', 'sqrt_murder_cont')\",\n",
       "  0.8884038650939045),\n",
       " (\"('population', 'violent_crime', 'murder_cont', 'pop_squared', 'sqrt_murder_cont')\",\n",
       "  0.8884037992037114),\n",
       " (\"('violent_crime', 'murder_cont', 'robbery', 'sqrt_population', 'sqrt_murder_cont', 'sqrt_robbery')\",\n",
       "  0.8881387424987077),\n",
       " (\"('violent_crime', 'murder_cont', 'sqrt_population', 'sqrt_murder_cont', 'sqrt_robbery')\",\n",
       "  0.8881387424987077),\n",
       " (\"('violent_crime', 'murder_cont', 'robbery', 'sqrt_population', 'sqrt_murder_cont')\",\n",
       "  0.8881387424987077),\n",
       " (\"('population', 'violent_crime', 'murder_cont', 'sqrt_population', 'sqrt_violent_crime', 'sqrt_murder_cont')\",\n",
       "  0.8879964969335047),\n",
       " (\"('violent_crime', 'murder_cont', 'sqrt_population', 'sqrt_violent_crime', 'sqrt_murder_cont')\",\n",
       "  0.8879950458686012)]"
      ]
     },
     "execution_count": 19,
     "metadata": {},
     "output_type": "execute_result"
    }
   ],
   "source": [
    "sorted_by_value = sorted(scores.items(), key=lambda kv: kv[1])\n",
    "sorted_by_value.reverse()\n",
    "sorted_by_value[:50]"
   ]
  },
  {
   "cell_type": "markdown",
   "metadata": {},
   "source": [
    "The following features seem to be good ones, because the Rsquared is 0.9\n",
    "\n",
    "[(\"('population', 'violent_crime', 'murder_cont', 'murder', 'pop_squared', 'sqrt_population', 'sqrt_violent_crime', 'sqrt_murder_cont')\","
   ]
  },
  {
   "cell_type": "code",
   "execution_count": 20,
   "metadata": {},
   "outputs": [],
   "source": [
    "# Here I am using sklearn.metrics.mean_squared_error. It returns the average Residual sum of squares(errors)(or SSE). \n",
    "# It divides by n. Brandon divides by the degrees of freedom (numberofdatapoints - numberofparameters)\n",
    "# see the wikipedia definition for this\n",
    "# In regression analysis, the term mean squared error is sometimes used to refer to the unbiased estimate of error variance: \n",
    "# the residual sum of squares divided by the number of degrees of freedom."
   ]
  },
  {
   "cell_type": "markdown",
   "metadata": {},
   "source": [
    "#### Model A, B: sklearn, statsmodels\n",
    "\n",
    "'population', 'violent_crime', 'murder_cont', 'murder', 'pop_squared', 'sqrt_population', 'sqrt_violent_crime', 'sqrt_murder_cont'"
   ]
  },
  {
   "cell_type": "code",
   "execution_count": 21,
   "metadata": {},
   "outputs": [
    {
     "name": "stdout",
     "output_type": "stream",
     "text": [
      "\n",
      "working on all data\n",
      "\n",
      "cofficients:  [-1.12935772e-05 -1.90017851e-03 -5.93034712e-02  5.19241123e-11\n",
      "  1.54131786e-03  2.30844244e-03  1.09394779e-02  8.48588796e-01]\n",
      "r2 whole data : 0.9009487064707853\n",
      "rmse whole data : 0.10946731501390083\n",
      "\n",
      "manual calcualtion of rsquared\n",
      "\n",
      "SSE:  4.170116383610704\n",
      "SST:  42.10057471264368\n",
      "SSR:  37.93045850839773\n",
      "rsquared =  0.9009487107311726\n",
      "rsquared =  0.9009487064707853\n",
      "\n",
      "\n",
      "sklearn RMSE comparision\n",
      "\n",
      "training error(RMSE):  0.08726318586395729\n",
      "testing error(RMSE)  1.4889348206835835\n",
      "RMSE(by hand) 0.08726318586395729\n",
      "\n",
      "sklearn R2 comparision\n",
      "\n",
      "rsquared on train data(80%) 0.9406268039736435\n",
      "rsquared on test data(20%) -23.63252111382283\n",
      "\n",
      "stats model summary \n",
      "\n",
      "                            OLS Regression Results                            \n",
      "==============================================================================\n",
      "Dep. Variable:         property_crime   R-squared:                       0.901\n",
      "Model:                            OLS   Adj. R-squared:                  0.899\n",
      "Method:                 Least Squares   F-statistic:                     385.4\n",
      "Date:                Mon, 19 Nov 2018   Prob (F-statistic):          3.87e-165\n",
      "Time:                        14:42:06   Log-Likelihood:                 276.03\n",
      "No. Observations:                 348   AIC:                            -534.1\n",
      "Df Residuals:                     339   BIC:                            -499.4\n",
      "Df Model:                           8                                         \n",
      "Covariance Type:            nonrobust                                         \n",
      "======================================================================================\n",
      "                         coef    std err          t      P>|t|      [0.025      0.975]\n",
      "--------------------------------------------------------------------------------------\n",
      "const                 -0.1003      0.024     -4.143      0.000      -0.148      -0.053\n",
      "population         -1.129e-05   2.07e-06     -5.451      0.000   -1.54e-05   -7.22e-06\n",
      "violent_crime         -0.0019      0.000     -7.490      0.000      -0.002      -0.001\n",
      "murder_cont           -0.0593      0.002    -31.365      0.000      -0.063      -0.056\n",
      "murder              5.192e-11   8.07e-12      6.434      0.000    3.61e-11    6.78e-11\n",
      "pop_squared            0.0015      0.001      2.297      0.022       0.000       0.003\n",
      "sqrt_population        0.0023      0.000      4.988      0.000       0.001       0.003\n",
      "sqrt_violent_crime     0.0109      0.004      2.459      0.014       0.002       0.020\n",
      "sqrt_murder_cont       0.8486      0.021     40.277      0.000       0.807       0.890\n",
      "==============================================================================\n",
      "Omnibus:                       91.663   Durbin-Watson:                   1.969\n",
      "Prob(Omnibus):                  0.000   Jarque-Bera (JB):             2414.106\n",
      "Skew:                          -0.371   Prob(JB):                         0.00\n",
      "Kurtosis:                      15.882   Cond. No.                     2.10e+10\n",
      "==============================================================================\n",
      "\n",
      "Warnings:\n",
      "[1] Standard Errors assume that the covariance matrix of the errors is correctly specified.\n",
      "[2] The condition number is large, 2.1e+10. This might indicate that there are\n",
      "strong multicollinearity or other numerical problems.\n",
      "\n",
      " pvalues \n",
      "\n",
      "const                  4.339859e-05\n",
      "population             9.680042e-08\n",
      "violent_crime          6.033684e-13\n",
      "murder_cont           3.017434e-102\n",
      "murder                 4.228491e-10\n",
      "pop_squared            2.224535e-02\n",
      "sqrt_population        9.770423e-07\n",
      "sqrt_violent_crime     1.444219e-02\n",
      "sqrt_murder_cont      2.903118e-131\n",
      "dtype: float64\n",
      "\n",
      "correlation among features\n",
      "\n"
     ]
    },
    {
     "data": {
      "image/png": "[encoded data removed]",
      "text/plain": [
       "<Figure size 720x720 with 2 Axes>"
      ]
     },
     "metadata": {},
     "output_type": "display_data"
    }
   ],
   "source": [
    "from sklearn.linear_model import LinearRegression\n",
    "reg_model = LinearRegression()\n",
    "X = newyork[['population', 'violent_crime', 'murder_cont', 'murder', 'pop_squared', 'sqrt_population', 'sqrt_violent_crime', 'sqrt_murder_cont']]\n",
    "Y = newyork['property_crime']\n",
    "reg_model.fit(X,Y)\n",
    "\n",
    "from sklearn import metrics\n",
    "print(\"\\nworking on all data\\n\")\n",
    "print(\"cofficients: \", reg_model.coef_)\n",
    "print(\"r2 whole data :\", reg_model.score(X,Y))\n",
    "print(\"rmse whole data :\", np.sqrt(metrics.mean_squared_error(reg_model.predict(X), Y)))\n",
    "\n",
    "print(\"\\nmanual calcualtion of rsquared\\n\")\n",
    "# manual calculation of Rsquared the whole data\n",
    "# from sckit-learn documentation\n",
    "# The coefficient R^2 is defined as (1 - u/v), where u is the residual sum of squares ((y_true - y_pred) ** 2).sum() \n",
    "# and v is the total sum of squares ((y_true - y_true.mean()) ** 2).sum().\n",
    "Yhat = reg_model.predict(X)\n",
    "SSE = np.sum((Y - Yhat) ** 2)\n",
    "SST = np.sum((Y - Y.mean()) ** 2)\n",
    "SSR = np.sum((Yhat - Y.mean()) ** 2)\n",
    "\n",
    "print(\"SSE: \", SSE)\n",
    "print(\"SST: \", SST)\n",
    "print(\"SSR: \", SSR)\n",
    "\n",
    "print(\"rsquared = \",(SSR/SST))\n",
    "print(\"rsquared = \",1 - (SSE/SST))\n",
    "print()\n",
    "\n",
    "\n",
    "# evaluate\n",
    "# Test your model with different holdout groups.\n",
    "from sklearn.model_selection import train_test_split\n",
    "from sklearn import metrics\n",
    "from sklearn.metrics import r2_score\n",
    "\n",
    "# Use train_test_split to create the necessary training and test groups\n",
    "X_train, X_test, y_train, y_test = train_test_split(X, Y, test_size=0.2, random_state=20)\n",
    "reg_modelA = LinearRegression()\n",
    "reg_modelA.fit(X_train, y_train)\n",
    "\n",
    "# Predict\n",
    "y_pred_train = reg_modelA.predict(X_train)\n",
    "y_pred_test = reg_modelA.predict(X_test)\n",
    "\n",
    "print(\"\\nsklearn RMSE comparision\\n\")\n",
    "\n",
    "\n",
    "# RMSE comparision training error, testing error\n",
    "print(\"training error(RMSE): \", np.sqrt(metrics.mean_squared_error(y_train, y_pred_train)))\n",
    "print(\"testing error(RMSE) \", np.sqrt(metrics.mean_squared_error(y_test, y_pred_test)))\n",
    "# manual calculation of RMSE for training data\n",
    "rmse = np.sqrt(np.sum((y_train - y_pred_train) ** 2)/(y_train.shape[0]))\n",
    "print(\"RMSE(by hand)\", rmse)\n",
    "\n",
    "print(\"\\nsklearn R2 comparision\\n\")\n",
    "\n",
    "from sklearn.metrics import r2_score\n",
    "print(\"rsquared on train data(80%)\", reg_modelA.score(X_train, y_train))\n",
    "print(\"rsquared on test data(20%)\", reg_modelA.score(X_test, y_test))\n",
    "\n",
    "# stats model helps to find tvalues\n",
    "# check the pvalues of the parameters\n",
    "# using stats models\n",
    "print(\"\\nstats model summary \\n\")\n",
    "\n",
    "import statsmodels.formula.api as smf\n",
    "import statsmodels.api as sm\n",
    "X = sm.add_constant(X)\n",
    "reg_modelB = smf.OLS(Y,X.astype(float)).fit()\n",
    "\n",
    "print(reg_modelB.summary())\n",
    "print(\"\\n pvalues \\n\")\n",
    "\n",
    "print(reg_modelB.pvalues)\n",
    "\n",
    "print(\"\\ncorrelation among features\\n\")\n",
    "fig= plt.figure(figsize=(10,10))\n",
    "sns.heatmap(X.corr(), annot=True)\n",
    "plt.show()"
   ]
  },
  {
   "cell_type": "markdown",
   "metadata": {},
   "source": [
    "* rsquared is out of range. \n",
    "* test error(RMSE) higher than training error(RMSE). How high should our RMSE be? For example for Classification there is baseline for random, majority class, state of the art...\n",
    "\n",
    "* the whole model pvalue (prob of fstatistic) is well below 0.05\n",
    "* all features pvalue is also below 0.05\n",
    "* why is the condtion number very large?\n",
    "* I can see collinearity, does that affect R2 value?"
   ]
  },
  {
   "cell_type": "markdown",
   "metadata": {},
   "source": [
    "#### Model C, D\n",
    "\n",
    "population','pop_squared','murder','robbery"
   ]
  },
  {
   "cell_type": "code",
   "execution_count": 22,
   "metadata": {},
   "outputs": [
    {
     "name": "stdout",
     "output_type": "stream",
     "text": [
      "\n",
      "working on all data\n",
      "\n",
      "cofficients:  [ 1.10512161e-05  2.53304287e-03 -6.15051080e-11  5.08498471e-02]\n",
      "r2 whole data : 0.32956679198666927\n",
      "rmse whole data : 0.2847948614606228\n",
      "\n",
      "manual calcualtion of rsquared\n",
      "\n",
      "SSE:  28.22562336380261\n",
      "SST:  42.10057471264368\n",
      "SSR:  13.874951347889919\n",
      "rsquared =  0.32956679196407695\n",
      "rsquared =  0.32956679198666927\n",
      "\n",
      "\n",
      "sklearn RMSE comparision\n",
      "\n",
      "training error(RMSE):  0.29094417545759244\n",
      "testing error(RMSE)  0.2644967927246838\n",
      "RMSE(by hand) 0.29094417545759244\n",
      "\n",
      "sklearn R2 comparision\n",
      "\n",
      "rsquared on train data(80%) 0.3399943808841952\n",
      "rsquared on test data(20%) 0.2226827404261741\n",
      "\n",
      "stats model summary \n",
      "\n",
      "                            OLS Regression Results                            \n",
      "==============================================================================\n",
      "Dep. Variable:         property_crime   R-squared:                       0.330\n",
      "Model:                            OLS   Adj. R-squared:                  0.322\n",
      "Method:                 Least Squares   F-statistic:                     42.15\n",
      "Date:                Mon, 19 Nov 2018   Prob (F-statistic):           9.55e-29\n",
      "Time:                        14:42:06   Log-Likelihood:                -56.707\n",
      "No. Observations:                 348   AIC:                             123.4\n",
      "Df Residuals:                     343   BIC:                             142.7\n",
      "Df Model:                           4                                         \n",
      "Covariance Type:            nonrobust                                         \n",
      "===============================================================================\n",
      "                  coef    std err          t      P>|t|      [0.025      0.975]\n",
      "-------------------------------------------------------------------------------\n",
      "const          -0.0432      0.025     -1.722      0.086      -0.093       0.006\n",
      "population   1.105e-05    1.4e-06      7.886      0.000    8.29e-06    1.38e-05\n",
      "pop_squared     0.0025      0.001      4.100      0.000       0.001       0.004\n",
      "murder      -6.151e-11   1.09e-11     -5.630      0.000    -8.3e-11      -4e-11\n",
      "robbery         0.0508      0.036      1.415      0.158      -0.020       0.122\n",
      "==============================================================================\n",
      "Omnibus:                      104.226   Durbin-Watson:                   1.993\n",
      "Prob(Omnibus):                  0.000   Jarque-Bera (JB):              238.141\n",
      "Skew:                           1.502   Prob(JB):                     1.94e-52\n",
      "Kurtosis:                       5.720   Cond. No.                     1.32e+10\n",
      "==============================================================================\n",
      "\n",
      "Warnings:\n",
      "[1] Standard Errors assume that the covariance matrix of the errors is correctly specified.\n",
      "[2] The condition number is large, 1.32e+10. This might indicate that there are\n",
      "strong multicollinearity or other numerical problems.\n",
      "\n",
      " pvalues \n",
      "\n",
      "const          8.601329e-02\n",
      "population     4.194619e-14\n",
      "pop_squared    5.166559e-05\n",
      "murder         3.751421e-08\n",
      "robbery        1.580923e-01\n",
      "dtype: float64\n",
      "\n",
      "correlation among features\n",
      "\n"
     ]
    },
    {
     "data": {
      "image/png": "[encoded data removed]",
      "text/plain": [
       "<Figure size 720x720 with 2 Axes>"
      ]
     },
     "metadata": {},
     "output_type": "display_data"
    }
   ],
   "source": [
    "from sklearn.linear_model import LinearRegression\n",
    "reg_model = LinearRegression()\n",
    "X = newyork[['population','pop_squared','murder','robbery']]\n",
    "Y = newyork['property_crime']\n",
    "reg_model.fit(X,Y)\n",
    "\n",
    "print(\"\\nworking on all data\\n\")\n",
    "print(\"cofficients: \", reg_model.coef_)\n",
    "print(\"r2 whole data :\", reg_model.score(X,Y))\n",
    "from sklearn import metrics\n",
    "print(\"rmse whole data :\", np.sqrt(metrics.mean_squared_error(reg_model.predict(X), Y)))\n",
    "\n",
    "print(\"\\nmanual calcualtion of rsquared\\n\")\n",
    "# manual calculation of Rsquared the whole data\n",
    "# from sckit-learn documentation\n",
    "# The coefficient R^2 is defined as (1 - u/v), where u is the residual sum of squares ((y_true - y_pred) ** 2).sum() \n",
    "# and v is the total sum of squares ((y_true - y_true.mean()) ** 2).sum().\n",
    "Yhat = reg_model.predict(X)\n",
    "SSE = np.sum((Y - Yhat) ** 2)\n",
    "SST = np.sum((Y - Y.mean()) ** 2)\n",
    "SSR = np.sum((Yhat - Y.mean()) ** 2)\n",
    "\n",
    "print(\"SSE: \", SSE)\n",
    "print(\"SST: \", SST)\n",
    "print(\"SSR: \", SSR)\n",
    "\n",
    "print(\"rsquared = \",(SSR/SST))\n",
    "print(\"rsquared = \",1 - (SSE/SST))\n",
    "print()\n",
    "\n",
    "\n",
    "# evaluate\n",
    "# Test your model with different holdout groups.\n",
    "from sklearn.model_selection import train_test_split\n",
    "from sklearn import metrics\n",
    "from sklearn.metrics import r2_score\n",
    "\n",
    "# Use train_test_split to create the necessary training and test groups\n",
    "X_train, X_test, y_train, y_test = train_test_split(X, Y, test_size=0.2, random_state=20)\n",
    "reg_modelC = LinearRegression()\n",
    "reg_modelC.fit(X_train, y_train)\n",
    "\n",
    "# Predict\n",
    "y_pred_train = reg_modelC.predict(X_train)\n",
    "y_pred_test = reg_modelC.predict(X_test)\n",
    "\n",
    "print(\"\\nsklearn RMSE comparision\\n\")\n",
    "\n",
    "\n",
    "# RMSE comparision training error, testing error\n",
    "print(\"training error(RMSE): \", np.sqrt(metrics.mean_squared_error(y_train, y_pred_train)))\n",
    "print(\"testing error(RMSE) \", np.sqrt(metrics.mean_squared_error(y_test, y_pred_test)))\n",
    "# manual calculation of RMSE for training data\n",
    "rmse = np.sqrt(np.sum((y_train - y_pred_train) ** 2)/(y_train.shape[0]))\n",
    "print(\"RMSE(by hand)\", rmse)\n",
    "\n",
    "print(\"\\nsklearn R2 comparision\\n\")\n",
    "\n",
    "from sklearn.metrics import r2_score\n",
    "print(\"rsquared on train data(80%)\", reg_modelC.score(X_train, y_train))\n",
    "print(\"rsquared on test data(20%)\", reg_modelC.score(X_test, y_test))\n",
    "\n",
    "# stats model helps to find tvalues\n",
    "# check the pvalues of the parameters\n",
    "# using stats models\n",
    "print(\"\\nstats model summary \\n\")\n",
    "\n",
    "import statsmodels.formula.api as smf\n",
    "import statsmodels.api as sm\n",
    "X = sm.add_constant(X)\n",
    "reg_modelD = smf.OLS(Y,X.astype(float)).fit()\n",
    "\n",
    "print(reg_modelD.summary())\n",
    "print(\"\\n pvalues \\n\")\n",
    "\n",
    "print(reg_modelD.pvalues)\n",
    "\n",
    "print(\"\\ncorrelation among features\\n\")\n",
    "fig= plt.figure(figsize=(10,10))\n",
    "sns.heatmap(X.corr(), annot=True)\n",
    "plt.show()"
   ]
  },
  {
   "cell_type": "markdown",
   "metadata": {},
   "source": [
    "* r2 on test data is smaller than on train data. Is 0.2 or 0.3 a good Rsquared value?\n",
    "* test error(RMSE) is a little less than training error(RMSE). \n",
    "* the whole model pvalue (prob of fstatistic) is well below 0.05\n",
    "* all features pvalue is below 0.05 except robbery\n",
    "* why is the condtion number very large?\n",
    "* I can see collinearity, does that affect R2 value?"
   ]
  },
  {
   "cell_type": "markdown",
   "metadata": {},
   "source": [
    "watch the video below to understand each meteric, like standard error, confidence interval for each feature\n",
    "\n",
    "https://www.youtube.com/watch?v=ZkjP5RJLQF4&list=PLIeGtxpvyG-LoKUpV0fSY8BGKIMIdmfCi&ab_channel=BrandonFoltz\n",
    "    \n",
    "The null hypothesis for F-statistic is a feature is not relevant for the model so it is zero. \n",
    "\n",
    "Fcritical can be obtained from F distribution table(with a given degrees of freedom) and if its probability is less than 0.05, we reject the null hypothesis and that feature is relevant\n",
    "\n",
    "Fstatistic is calculated for the whole model and for individual features. See the previous tutorial on the curriculum."
   ]
  },
  {
   "cell_type": "markdown",
   "metadata": {},
   "source": [
    "Use these two resources as alternative tutorials\n",
    "\n",
    "https://www.ritchieng.com/machine-learning-evaluate-linear-regression-model/\n",
    "\n",
    "https://www.youtube.com/watch?v=VvlqA-iO2HA&ab_channel=zedstatistics"
   ]
  },
  {
   "cell_type": "markdown",
   "metadata": {},
   "source": [
    "#### Model E: using cross validation, with mean squared error"
   ]
  },
  {
   "cell_type": "code",
   "execution_count": 23,
   "metadata": {},
   "outputs": [
    {
     "name": "stdout",
     "output_type": "stream",
     "text": [
      "RMSE:  0.10946731501390083\n",
      "CV-score(RMSE):  0.41727956151391066\n"
     ]
    }
   ],
   "source": [
    "# cross validation, mean squared error\n",
    "X = newyork[['population', 'violent_crime', 'murder_cont', 'murder', 'pop_squared', 'sqrt_population', 'sqrt_violent_crime', 'sqrt_murder_cont']]\n",
    "Y = newyork['property_crime']\n",
    "reg_modelE = LinearRegression()\n",
    "reg_modelE.fit(X, Y)\n",
    "Ypred = reg_modelE.predict(X)\n",
    "print(\"RMSE: \", np.sqrt(metrics.mean_squared_error(Ypred, Y)))\n",
    "from sklearn.model_selection import cross_val_score\n",
    "# cross_val_score returns the negative of the error to make large errors small\n",
    "print(\"CV-score(RMSE): \", -np.mean(cross_val_score(reg_modelE, X, Y, cv=10, scoring='neg_mean_squared_error')))"
   ]
  },
  {
   "cell_type": "markdown",
   "metadata": {},
   "source": [
    "#### Model F: using cross validation with mean squared error"
   ]
  },
  {
   "cell_type": "code",
   "execution_count": 24,
   "metadata": {},
   "outputs": [
    {
     "name": "stdout",
     "output_type": "stream",
     "text": [
      "RMSE:  0.2847948614606228\n",
      "CV-score(RMSE):  0.08950172903183355\n"
     ]
    }
   ],
   "source": [
    "# cross validation, mean squared error\n",
    "X = newyork[['population','pop_squared','murder','robbery']]\n",
    "Y = newyork['property_crime']\n",
    "reg_modelF = LinearRegression()\n",
    "reg_modelF.fit(X, Y)\n",
    "Ypred = reg_modelF.predict(X)\n",
    "print(\"RMSE: \", np.sqrt(metrics.mean_squared_error(Ypred, Y)))\n",
    "from sklearn.model_selection import cross_val_score\n",
    "print(\"CV-score(RMSE): \", -np.mean(cross_val_score(reg_modelF, X, Y, cv=10, scoring='neg_mean_squared_error')))"
   ]
  },
  {
   "cell_type": "markdown",
   "metadata": {},
   "source": [
    "#### Model G: using cross validation with r^2 "
   ]
  },
  {
   "cell_type": "code",
   "execution_count": 25,
   "metadata": {},
   "outputs": [
    {
     "name": "stdout",
     "output_type": "stream",
     "text": [
      "RMSE:  0.10946731501390083\n",
      "CV-score(r2):  -3.2615216467087342\n"
     ]
    }
   ],
   "source": [
    "# cross validation, r2\n",
    "X = newyork[['population', 'violent_crime', 'murder_cont', 'murder', 'pop_squared', 'sqrt_population', 'sqrt_violent_crime', 'sqrt_murder_cont']]\n",
    "Y = newyork['property_crime']\n",
    "reg_modelG = LinearRegression()\n",
    "reg_modelG.fit(X, Y)\n",
    "Ypred = reg_modelG.predict(X)\n",
    "print(\"RMSE: \", np.sqrt(metrics.mean_squared_error(Ypred, Y)))\n",
    "from sklearn.model_selection import cross_val_score\n",
    "print(\"CV-score(r2): \", np.mean(cross_val_score(reg_modelG, X, Y, cv=10, scoring='r2')))"
   ]
  },
  {
   "cell_type": "markdown",
   "metadata": {},
   "source": [
    "#### Model H: using cross validation with r^2 "
   ]
  },
  {
   "cell_type": "code",
   "execution_count": 26,
   "metadata": {},
   "outputs": [
    {
     "name": "stdout",
     "output_type": "stream",
     "text": [
      "RMSE:  0.2847948614606228\n",
      "CV-score(r2):  0.10469508985953406\n"
     ]
    }
   ],
   "source": [
    "# cross validation, r2\n",
    "X = newyork[['population','pop_squared','murder','robbery']]\n",
    "Y = newyork['property_crime']\n",
    "reg_modelH = LinearRegression()\n",
    "reg_modelH.fit(X, Y)\n",
    "Ypred = reg_modelH.predict(X)\n",
    "print(\"RMSE: \", np.sqrt(metrics.mean_squared_error(Ypred, Y)))\n",
    "from sklearn.model_selection import cross_val_score\n",
    "print(\"CV-score(r2): \", np.mean(cross_val_score(reg_modelH, X, Y, cv=10, scoring='r2')))"
   ]
  },
  {
   "cell_type": "markdown",
   "metadata": {},
   "source": [
    "https://stackoverflow.com/questions/24132237/scikit-learn-cross-validation-scoring-for-regression\n",
    "\n",
    "https://dziganto.github.io/data%20science/linear%20regression/machine%20learning/python/Linear-Regression-101-Metrics/"
   ]
  },
  {
   "cell_type": "markdown",
   "metadata": {},
   "source": [
    "#### Testing on Texas Crime Data"
   ]
  },
  {
   "cell_type": "code",
   "execution_count": 27,
   "metadata": {},
   "outputs": [
    {
     "name": "stdout",
     "output_type": "stream",
     "text": [
      "607\n",
      "{145, 117, 438, 21, 222}\n",
      "{438, 117, 222}\n",
      "{438, 117, 222}\n",
      "{145, 117, 438, 21, 222}\n",
      "{438, 117, 222}\n",
      "{145, 117, 438, 21, 222}\n",
      "{117, 438, 21, 222}\n",
      "{117, 438, 21, 222}\n",
      "{117, 438, 21, 222}\n",
      "{438, 117, 222}\n",
      "{438, 117, 222}\n"
     ]
    }
   ],
   "source": [
    "texas = pd.read_csv(\"../../../Data & Script/texas_offence.csv\", skiprows=4, thousands=\",\")\n",
    "print(len(texas))\n",
    "# drop unused columns\n",
    "texas = texas.drop(texas.columns[4], axis=1)\n",
    "texas = texas.drop(texas.columns[-1], axis=1)\n",
    "\n",
    "# drop a cell which contains atleast one missing values, \n",
    "texas = texas.dropna().reset_index(drop=True)\n",
    "# replace outliers in all collumns with the next highest number\n",
    "for col in texas.columns[1:]:\n",
    "    # print which rows are replaced\n",
    "    replaced_numbers = replace_outliers_with_mean(texas, col,1)\n",
    "    print(replaced_numbers)"
   ]
  },
  {
   "cell_type": "code",
   "execution_count": 28,
   "metadata": {},
   "outputs": [],
   "source": [
    "texas['PopSquared'] = texas['Population'] ** 2\n",
    "texas['Murder'] = texas[texas.columns[3]] > 0\n",
    "texas['Robbery'] = texas['Robbery'] > 0\n",
    "new_column_names = ['city', 'population', 'violent_crime', 'murder_cont', 'rape2', 'robbery',\n",
    "                   'aggravated_assault', 'property_crime', 'burglary', \n",
    "                   'lacrceny_theft', 'motor_vehicle_theft', 'arson3','pop_squared', 'murder']\n",
    "texas.columns = new_column_names\n",
    "# rearrange the columns\n",
    "texas.columns = new_column_names[:7] + new_column_names[8:] + [new_column_names[7]]"
   ]
  },
  {
   "cell_type": "code",
   "execution_count": 29,
   "metadata": {},
   "outputs": [],
   "source": [
    "# create sqrt features\n",
    "good_features = ['population', 'violent_crime','murder_cont','robbery', 'pop_squared',]\n",
    "sqrt_features = ['sqrt_'+ c for c in good_features[:-1]]\n",
    "\n",
    "# sqrt is not applied to pop_squared because it will create duplicate feature, population\n",
    "for col in good_features[:-1]:\n",
    "    texas['sqrt_' + col] = texas[col] ** (1/2)"
   ]
  },
  {
   "cell_type": "code",
   "execution_count": 30,
   "metadata": {},
   "outputs": [
    {
     "name": "stdout",
     "output_type": "stream",
     "text": [
      "rsquared on texas data -16.609008911876213\n",
      "RMSE:  1.775311110269111\n"
     ]
    }
   ],
   "source": [
    "# rsquared on modelA\n",
    "X_test = texas[['population', 'violent_crime', 'murder_cont', 'murder', 'pop_squared', 'sqrt_population', 'sqrt_violent_crime', 'sqrt_murder_cont']]\n",
    "Y_test = texas['property_crime']\n",
    "print(\"rsquared on texas data\", reg_modelA.score(X_test, Y_test))\n",
    "Ypred = reg_modelA.predict(X_test)\n",
    "print(\"RMSE: \", np.sqrt(metrics.mean_squared_error(Ypred, Y_test)))"
   ]
  },
  {
   "cell_type": "code",
   "execution_count": 31,
   "metadata": {},
   "outputs": [
    {
     "name": "stdout",
     "output_type": "stream",
     "text": [
      "rsquared on texas data -0.40438268654589615\n",
      "RMSE:  0.5013600762576605\n"
     ]
    }
   ],
   "source": [
    "# rsquared on modelC\n",
    "X_test = texas[['population','pop_squared','murder','robbery']]\n",
    "Y_test = texas['property_crime']\n",
    "print(\"rsquared on texas data\", reg_modelC.score(X_test, Y_test))\n",
    "Ypred = reg_modelC.predict(X_test)\n",
    "print(\"RMSE: \", np.sqrt(metrics.mean_squared_error(Ypred, Y_test)))"
   ]
  },
  {
   "cell_type": "markdown",
   "metadata": {},
   "source": [
    "#### Questions\n",
    "\n",
    "Why R2 gets out of range?\n",
    "\n",
    "How much is a good RMSE? Are my models good? Accuracy ranges from 0 to 1, What is the boundary for RMSE?\n",
    "\n",
    "How much is a good R2?\n",
    "\n",
    "What is wrong with murder_cont?\n",
    "\n",
    "Why I get a warning from statsmodels about condition? What is condition in linear regression?\n",
    "\n",
    "It is very hard remove multicolinearity, so what are my options?\n",
    "\n",
    "Do people use R2 to evaluate models? I never heard of it when I was doing Regression last year, I relyed on RMSE\n",
    "\n",
    "What is advanage of doing sqrt, log and creating new features?"
   ]
  },
  {
   "cell_type": "code",
   "execution_count": null,
   "metadata": {},
   "outputs": [],
   "source": []
  },
  {
   "cell_type": "code",
   "execution_count": null,
   "metadata": {},
   "outputs": [],
   "source": []
  }
 ],
 "metadata": {
  "kernelspec": {
   "display_name": "Python 3",
   "language": "python",
   "name": "python3"
  },
  "language_info": {
   "codemirror_mode": {
    "name": "ipython",
    "version": 3
   },
   "file_extension": ".py",
   "mimetype": "text/x-python",
   "name": "python",
   "nbconvert_exporter": "python",
   "pygments_lexer": "ipython3",
   "version": "3.6.6"
  }
 },
 "nbformat": 4,
 "nbformat_minor": 2
}
