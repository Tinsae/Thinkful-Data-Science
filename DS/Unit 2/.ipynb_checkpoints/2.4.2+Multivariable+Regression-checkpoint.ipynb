{
 "cells": [
  {
   "cell_type": "markdown",
   "metadata": {
    "run_control": {
     "frozen": false,
     "read_only": false
    }
   },
   "source": [
    "We've covered simple linear regression, but that model is rather limited. It's extremely basic, dealing with only one outcome variable and one input. Most of the time we're interested in a relationship between more than two variables. So what can least squares regression do in that circumstance?\n",
    "\n",
    "The answer is it can still do quite a lot. Least squares regression can handle almost any functional form you pass into it, it will simply estimate the coefficients.\n",
    "\n",
    "## Multivariable Least Squares\n",
    "\n",
    "When a least squares regression has more than one independent variable (or input) it is called multivariable least squares linear regression, multiple linear regression, or just multivariable regression. [Note that this is different from \"multivariate\" regression, which involves more than one _dependent_ variable.]\n",
    "\n",
    "This type of model is used when there are multiple variables affecting your outcome. For example, let's think about rental costs. If we wanted to model the monthly rental cost of an apartment there are several factors that matter. We could do something simple, say:\n",
    "\n",
    "$$ Rent = \\alpha + SquareFootage $$\n",
    "\n",
    "And that might not be a terrible model. It makes sense that as square footage of an apartment goes up so would the cost of rent. However, there's probably more to the story than that.\n",
    "\n",
    "$$ Rent = \\alpha + SquareFootage + Bedrooms + Bathrooms + YearBuilt $$\n",
    "\n",
    "This would seem like a much more robust model. Now all of these relationships are still linear, meaning each additional bedroom affects rent in the same way. The delta to rent will be equivalent for moving from 1 to 2 bedrooms and from 11 to 12. Again, this is the nature of linear regression. As with the simpler models, here again the linear regression algorithm arrives at estimates for coefficients in front of each variable that minimize the sum of squared errors. We'll cover how that algorithm functions in more detail later.\n",
    "\n",
    "## Categorical Variables\n",
    "\n",
    "Not all variables have an obvious linear relationship, however. Categorical variables, for one, pose a unique problem here. A __categorical variable__, much like the outcomes we studied when working with classifiers, is a type or category. This can be something like a boolean {True, False} or state {WA, CA, OR, NV...}. Implying a single linear relationship between all of these values wouldn't make sense. Instead we treat each of them individually, allowing for each value to have its own associated coefficient. So if we wanted to include neighborhood in our example model we could do something like:\n",
    "\n",
    "$$ Rent = \\alpha + SquareFootage + Bedrooms + Bathrooms + YearBuilt + Neighborhood $$\n",
    "\n",
    "In some languages, such as R, this is functionally sufficient and the algorithm will break neighborhood into categories for the various neighborhoods passed into the model. For Python, however, we have to do a little more work. Because these different categories are not linearly related, SKLearn wants separate binary __indicators__ for each. So for every categorical value we have to create a column that is 0 or 1 indicating if the observation is of that category.\n",
    "\n",
    "To continue with our rent example, let's say our town was broken into three neighborhoods: Downtown, South, and North. Then our specification would look something like:\n",
    "\n",
    "$$ Rent = \\alpha + SquareFootage + Bedrooms + Bathrooms + YearBuilt + Downtown + South $$\n",
    "\n",
    "There are a few things to note here. Firstly, one category will always be excluded. That's because it will be incorporated into the intercept (the $\\alpha$) and we would otherwise run into collinearity problems, which we'll cover more in the next section. Also, each of these categories would typically be mutually exclusive, which makes sense. If a house is in the South, it shouldn't simultaneously be in the North.\n",
    "\n",
    "Python offers you two real ways to deal with creating these indicators. The first is to do it manually. If this seems hard or complicated to you THEN YOU SHOULD ABSOLUTELY DO IT! It's good programming practice. However, SKLearn (of course) has a [built in function](http://scikit-learn.org/stable/modules/preprocessing.html) called `OneHotEncoder` that will also do this kind of data preparation.\n",
    "\n",
    "## Linear doesn't have to mean lines...\n",
    "\n",
    "Now it is worth noting that the model assumes a linear relationship between the predictors and the outcome, but the predictors themselves can take on more complicated forms. For example, if you specified a functional form of:\n",
    "\n",
    "$$ y = \\alpha + x + x^2 $$\n",
    "\n",
    "That is perfectly doable in multivariable regression as long as you pass through a dataframe where one column is $x$ and the other column is $x^2$. It is not uncommon to see things like sine or cosine when dealing with a seasonal time series. You can get as complicated as you want, though be careful. Adding a lot of terms can destroy your model by violating the assumptions of OLS. We'll get into those assumptions in the next lesson.\n",
    "\n",
    "## DRILL: Prepare the Data\n",
    "\n",
    "[Download the Excel file here](https://ucr.fbi.gov/crime-in-the-u.s/2013/crime-in-the-u.s.-2013/tables/table-8/table-8-state-cuts/table_8_offenses_known_to_law_enforcement_new_york_by_city_2013.xls) on crime data in New York State in 2013, provided by the FBI: UCR ([Thinkful mirror](https://raw.githubusercontent.com/Thinkful-Ed/data-201-resources/master/New_York_offenses/NEW_YORK-Offenses_Known_to_Law_Enforcement_by_City_2013%20-%2013tbl8ny.csv)).\n",
    "\n",
    "Prepare this data to model with multivariable regression (including data cleaning if necessary) according to this specification:\n",
    "\n",
    "$$ Property crime = \\alpha + Population + Population^2 + Murder + Robbery$$\n",
    "\n",
    "The 'population' variable is already set for you, but you will need to create the last three features.  Robbery and Murder are currently continuous variables.  For this model, please use these variables to create  categorical features where values greater than 0 are coded 1, and values equal to 0 are coded 0.  You'll use this data and model in a later assignment- for now, just write the code you need to get the data ready.  Don't forget basic data cleaning procedures, either!  Do some graphing to see if there are any anomalous cases, and decide how you want to deal with them.\n"
   ]
  },
  {
   "cell_type": "code",
   "execution_count": 84,
   "metadata": {},
   "outputs": [
    {
     "name": "stdout",
     "output_type": "stream",
     "text": [
      "351\n"
     ]
    }
   ],
   "source": [
    "import pandas as pd\n",
    "newyork = pd.read_csv(\"../../../Data & Script/newyork_offence.csv\", skiprows=4, thousands=\",\")\n",
    "print(len(newyork))"
   ]
  },
  {
   "cell_type": "code",
   "execution_count": 85,
   "metadata": {},
   "outputs": [
    {
     "name": "stdout",
     "output_type": "stream",
     "text": [
      "City                                        0\n",
      "Population                                  3\n",
      "Violent\\ncrime                              3\n",
      "Murder and\\nnonnegligent\\nmanslaughter      3\n",
      "Rape\\n(revised\\ndefinition)1              351\n",
      "Rape\\n(legacy\\ndefinition)2                 3\n",
      "Robbery                                     3\n",
      "Aggravated\\nassault                         3\n",
      "Property\\ncrime                             3\n",
      "Burglary                                    3\n",
      "Larceny-\\ntheft                             3\n",
      "Motor\\nvehicle\\ntheft                       3\n",
      "Arson3                                    164\n",
      "dtype: int64\n",
      "\n",
      "City                                      0\n",
      "Population                                3\n",
      "Violent\\ncrime                            3\n",
      "Murder and\\nnonnegligent\\nmanslaughter    3\n",
      "Rape\\n(legacy\\ndefinition)2               3\n",
      "Robbery                                   3\n",
      "Aggravated\\nassault                       3\n",
      "Property\\ncrime                           3\n",
      "Burglary                                  3\n",
      "Larceny-\\ntheft                           3\n",
      "Motor\\nvehicle\\ntheft                     3\n",
      "dtype: int64\n"
     ]
    }
   ],
   "source": [
    "# Check null values\n",
    "print(newyork.isna().sum())\n",
    "# dropping column 4 and 12 because they contain a lot of null values\n",
    "newyork = newyork.drop(newyork.columns[4], axis=1)\n",
    "newyork = newyork.drop(newyork.columns[-1], axis=1)\n",
    "print()\n",
    "# print null count again\n",
    "print(newyork.isna().sum())\n",
    "\n",
    "#newyork.dropna(how=\"all\")"
   ]
  },
  {
   "cell_type": "code",
   "execution_count": 86,
   "metadata": {},
   "outputs": [
    {
     "name": "stdout",
     "output_type": "stream",
     "text": [
      "City                                      0\n",
      "Population                                0\n",
      "Violent\\ncrime                            0\n",
      "Murder and\\nnonnegligent\\nmanslaughter    0\n",
      "Rape\\n(legacy\\ndefinition)2               0\n",
      "Robbery                                   0\n",
      "Aggravated\\nassault                       0\n",
      "Property\\ncrime                           0\n",
      "Burglary                                  0\n",
      "Larceny-\\ntheft                           0\n",
      "Motor\\nvehicle\\ntheft                     0\n",
      "dtype: int64\n"
     ]
    }
   ],
   "source": [
    "# drop a cell which contains atleast one missing values, \n",
    "newyork = newyork.dropna()\n",
    "print(newyork.isna().sum())"
   ]
  },
  {
   "cell_type": "code",
   "execution_count": 87,
   "metadata": {},
   "outputs": [],
   "source": [
    "newyork['Population_Squared']=newyork['Population']**2"
   ]
  },
  {
   "cell_type": "code",
   "execution_count": 88,
   "metadata": {},
   "outputs": [
    {
     "name": "stdout",
     "output_type": "stream",
     "text": [
      "335.0      1\n",
      "47.0       1\n",
      "42.0       1\n",
      "21.0       1\n",
      "10.0       1\n",
      "8.0        2\n",
      "7.0        2\n",
      "6.0        1\n",
      "5.0        1\n",
      "4.0        1\n",
      "3.0        2\n",
      "2.0        4\n",
      "1.0       31\n",
      "0.0      299\n",
      "Name: Murder and\\nnonnegligent\\nmanslaughter, dtype: int64\n"
     ]
    },
    {
     "data": {
      "image/png": "[encoded data removed]",
      "text/plain": [
       "<Figure size 432x288 with 1 Axes>"
      ]
     },
     "metadata": {},
     "output_type": "display_data"
    }
   ],
   "source": [
    "# check murder rate\n",
    "import seaborn as sns\n",
    "import matplotlib.pyplot as plt\n",
    "# see the unique values, there are no negatives\n",
    "# so I can safely categorize them into >0 and 0\n",
    "print(newyork[newyork.columns[3]].value_counts().sort_index(ascending=False))\n",
    "\n",
    "sns.boxplot(newyork[newyork.columns[3]])\n",
    "plt.show()"
   ]
  },
  {
   "cell_type": "markdown",
   "metadata": {},
   "source": [
    "335 is very far it is murder rate of newyork city in 2013"
   ]
  },
  {
   "cell_type": "code",
   "execution_count": 89,
   "metadata": {},
   "outputs": [
    {
     "name": "stdout",
     "output_type": "stream",
     "text": [
      "which city is an outlier =>\n",
      " 216    New York\n",
      "Name: City, dtype: object\n"
     ]
    }
   ],
   "source": [
    "# Using zscore to detect outliers\n",
    "# a zscore above 3 is obviously an outlier\n",
    "from scipy import stats\n",
    "import numpy as np\n",
    "outlier = np.where(stats.zscore(newyork[newyork.columns[3]]) > 3)\n",
    "print(\"which city is an outlier =>\\n\", newyork.loc[outlier].City)"
   ]
  },
  {
   "cell_type": "markdown",
   "metadata": {},
   "source": [
    "Newyork city is the only outlier"
   ]
  },
  {
   "cell_type": "code",
   "execution_count": 90,
   "metadata": {},
   "outputs": [
    {
     "name": "stdout",
     "output_type": "stream",
     "text": [
      "which cities are new outliers =>\n",
      " 35       Buffalo\n",
      "216     New York\n",
      "272    Rochester\n",
      "310     Syracuse\n",
      "Name: City, dtype: object\n"
     ]
    },
    {
     "data": {
      "image/png": "[encoded data removed]",
      "text/plain": [
       "<Figure size 432x288 with 1 Axes>"
      ]
     },
     "metadata": {},
     "output_type": "display_data"
    }
   ],
   "source": [
    "# I will replace 335 with next highest value\n",
    "# find 5 largest murder rates\n",
    "largest_numbers = newyork[newyork.columns[3]].nlargest(n=5, keep='first')\n",
    "# change their index\n",
    "largest_numbers.index = range(5)\n",
    "# TGA NOTE: prevent copy on a slice warning use .loc\n",
    "# newyork[newyork[newyork.columns[3]]][216] = largest_numbers[1] # not good way\n",
    "newyork.loc[216,newyork.columns[3]] = largest_numbers[1]\n",
    "newoutliers = np.where(stats.zscore(newyork[newyork.columns[3]]) > 3)\n",
    "print(\"which cities are new outliers =>\\n\", newyork.loc[newoutliers].City)\n",
    "\n",
    "# see the change after 335 is removed\n",
    "sns.boxplot(newyork[newyork.columns[3]])\n",
    "plt.show()"
   ]
  },
  {
   "cell_type": "markdown",
   "metadata": {},
   "source": [
    "after removing 335 four cities become outliers, should I fix them?"
   ]
  },
  {
   "cell_type": "code",
   "execution_count": 91,
   "metadata": {},
   "outputs": [],
   "source": [
    "# create the feature\n",
    "newyork['Murder'] = newyork[newyork.columns[3]] > 0"
   ]
  },
  {
   "cell_type": "code",
   "execution_count": 92,
   "metadata": {},
   "outputs": [
    {
     "name": "stdout",
     "output_type": "stream",
     "text": [
      "19170.0      1\n",
      "1322.0       1\n",
      "918.0        1\n",
      "400.0        1\n",
      "390.0        1\n",
      "228.0        1\n",
      "227.0        1\n",
      "204.0        1\n",
      "203.0        1\n",
      "166.0        1\n",
      "150.0        1\n",
      "145.0        1\n",
      "102.0        1\n",
      "101.0        1\n",
      "100.0        1\n",
      "81.0         1\n",
      "76.0         1\n",
      "60.0         1\n",
      "51.0         1\n",
      "48.0         1\n",
      "47.0         1\n",
      "39.0         1\n",
      "34.0         1\n",
      "31.0         2\n",
      "29.0         1\n",
      "28.0         1\n",
      "26.0         2\n",
      "25.0         1\n",
      "24.0         1\n",
      "23.0         1\n",
      "22.0         1\n",
      "21.0         1\n",
      "20.0         1\n",
      "19.0         2\n",
      "17.0         2\n",
      "16.0         7\n",
      "15.0         1\n",
      "13.0         5\n",
      "12.0         4\n",
      "11.0         5\n",
      "10.0         3\n",
      "9.0          3\n",
      "8.0          5\n",
      "7.0          3\n",
      "6.0          6\n",
      "5.0         10\n",
      "4.0         14\n",
      "3.0         23\n",
      "2.0         25\n",
      "1.0         56\n",
      "0.0        139\n",
      "Name: Robbery, dtype: int64\n"
     ]
    },
    {
     "data": {
      "image/png": "[encoded data removed]",
      "text/plain": [
       "<Figure size 432x288 with 1 Axes>"
      ]
     },
     "metadata": {},
     "output_type": "display_data"
    }
   ],
   "source": [
    "# check robbery\n",
    "# see the unique values, there are no negatives\n",
    "# so I can safely categorize them into >0 and 0\n",
    "print(newyork['Robbery'].value_counts().sort_index(ascending=False))\n",
    "\n",
    "sns.boxplot(newyork['Robbery'])\n",
    "plt.show()"
   ]
  },
  {
   "cell_type": "markdown",
   "metadata": {},
   "source": [
    "19170.0   is very extreme, again it is for newyork. Hey Hey I have to reconsider my plan to work in newyork"
   ]
  },
  {
   "cell_type": "code",
   "execution_count": 93,
   "metadata": {},
   "outputs": [
    {
     "name": "stdout",
     "output_type": "stream",
     "text": [
      "which city is an outlier =>\n",
      " 216    New York\n",
      "Name: City, dtype: object\n",
      "which cities are new outliers =>\n",
      " 35       Buffalo\n",
      "216     New York\n",
      "272    Rochester\n",
      "310     Syracuse\n",
      "346      Yonkers\n",
      "Name: City, dtype: object\n"
     ]
    },
    {
     "data": {
      "image/png": "[encoded data removed]",
      "text/plain": [
       "<Figure size 432x288 with 1 Axes>"
      ]
     },
     "metadata": {},
     "output_type": "display_data"
    }
   ],
   "source": [
    "# using zscore method\n",
    "# Using zscore to detect outliers\n",
    "# a zscore above 3 is obviously an outlier\n",
    "\n",
    "outlier = np.where(stats.zscore(newyork.Robbery) > 3)\n",
    "print(\"which city is an outlier =>\\n\", newyork.loc[outlier].City)\n",
    "\n",
    "largest_numbers = newyork.Robbery.nlargest(n=5, keep='first')\n",
    "# change their index\n",
    "largest_numbers.index = range(5)\n",
    "# TGA NOTE: prevent copy on a slice warning use .loc\n",
    "# newyork[newyork[newyork.columns[3]]][216] = largest_numbers[1] # not good way\n",
    "# change the outlier to the next highest number\n",
    "newyork.loc[216,'Robbery'] = largest_numbers[1]\n",
    "\n",
    "# see the new outliers\n",
    "newyork.loc[216,'Robbery'] = largest_numbers[1]\n",
    "newoutliers = np.where(stats.zscore(newyork.Robbery) > 3)\n",
    "print(\"which cities are new outliers =>\\n\", newyork.loc[newoutliers].City)\n",
    "\n",
    "sns.boxplot(newyork[newyork.columns[3]])\n",
    "plt.show()"
   ]
  },
  {
   "cell_type": "code",
   "execution_count": 95,
   "metadata": {},
   "outputs": [],
   "source": [
    "# create the last feature\n",
    "newyork['RobberyB'] = newyork['Robbery'] > 0"
   ]
  }
 ],
 "metadata": {
  "hide_input": false,
  "kernelspec": {
   "display_name": "Python 3",
   "language": "python",
   "name": "python3"
  },
  "language_info": {
   "codemirror_mode": {
    "name": "ipython",
    "version": 3
   },
   "file_extension": ".py",
   "mimetype": "text/x-python",
   "name": "python",
   "nbconvert_exporter": "python",
   "pygments_lexer": "ipython3",
   "version": "3.6.6"
  },
  "toc": {
   "colors": {
    "hover_highlight": "#DAA520",
    "running_highlight": "#FF0000",
    "selected_highlight": "#FFD700"
   },
   "moveMenuLeft": true,
   "nav_menu": {
    "height": "86px",
    "width": "252px"
   },
   "navigate_menu": true,
   "number_sections": true,
   "sideBar": true,
   "threshold": 4,
   "toc_cell": false,
   "toc_section_display": "block",
   "toc_window_display": false
  }
 },
 "nbformat": 4,
 "nbformat_minor": 2
}
