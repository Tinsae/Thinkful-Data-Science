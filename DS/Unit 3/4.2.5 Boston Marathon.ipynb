{
 "cells": [
  {
   "cell_type": "code",
   "execution_count": 4,
   "metadata": {},
   "outputs": [
    {
     "ename": "FileNotFoundError",
     "evalue": "File b'results.csv' does not exist",
     "output_type": "error",
     "traceback": [
      "\u001b[1;31m---------------------------------------------------------------------------\u001b[0m",
      "\u001b[1;31mFileNotFoundError\u001b[0m                         Traceback (most recent call last)",
      "\u001b[1;32m<ipython-input-4-ce6d8d741fea>\u001b[0m in \u001b[0;36m<module>\u001b[1;34m\u001b[0m\n\u001b[0;32m      1\u001b[0m \u001b[1;32mimport\u001b[0m \u001b[0mpandas\u001b[0m \u001b[1;32mas\u001b[0m \u001b[0mpd\u001b[0m\u001b[1;33m\u001b[0m\u001b[1;33m\u001b[0m\u001b[0m\n\u001b[1;32m----> 2\u001b[1;33m \u001b[0mres\u001b[0m \u001b[1;33m=\u001b[0m \u001b[0mpd\u001b[0m\u001b[1;33m.\u001b[0m\u001b[0mread_csv\u001b[0m\u001b[1;33m(\u001b[0m\u001b[1;34m\"results.csv\"\u001b[0m\u001b[1;33m)\u001b[0m\u001b[1;33m\u001b[0m\u001b[1;33m\u001b[0m\u001b[0m\n\u001b[0m\u001b[0;32m      3\u001b[0m \u001b[0mres\u001b[0m\u001b[1;33m\u001b[0m\u001b[1;33m\u001b[0m\u001b[0m\n",
      "\u001b[1;32m~\\Anaconda3\\lib\\site-packages\\pandas\\io\\parsers.py\u001b[0m in \u001b[0;36mparser_f\u001b[1;34m(filepath_or_buffer, sep, delimiter, header, names, index_col, usecols, squeeze, prefix, mangle_dupe_cols, dtype, engine, converters, true_values, false_values, skipinitialspace, skiprows, nrows, na_values, keep_default_na, na_filter, verbose, skip_blank_lines, parse_dates, infer_datetime_format, keep_date_col, date_parser, dayfirst, iterator, chunksize, compression, thousands, decimal, lineterminator, quotechar, quoting, escapechar, comment, encoding, dialect, tupleize_cols, error_bad_lines, warn_bad_lines, skipfooter, doublequote, delim_whitespace, low_memory, memory_map, float_precision)\u001b[0m\n\u001b[0;32m    676\u001b[0m                     skip_blank_lines=skip_blank_lines)\n\u001b[0;32m    677\u001b[0m \u001b[1;33m\u001b[0m\u001b[0m\n\u001b[1;32m--> 678\u001b[1;33m         \u001b[1;32mreturn\u001b[0m \u001b[0m_read\u001b[0m\u001b[1;33m(\u001b[0m\u001b[0mfilepath_or_buffer\u001b[0m\u001b[1;33m,\u001b[0m \u001b[0mkwds\u001b[0m\u001b[1;33m)\u001b[0m\u001b[1;33m\u001b[0m\u001b[1;33m\u001b[0m\u001b[0m\n\u001b[0m\u001b[0;32m    679\u001b[0m \u001b[1;33m\u001b[0m\u001b[0m\n\u001b[0;32m    680\u001b[0m     \u001b[0mparser_f\u001b[0m\u001b[1;33m.\u001b[0m\u001b[0m__name__\u001b[0m \u001b[1;33m=\u001b[0m \u001b[0mname\u001b[0m\u001b[1;33m\u001b[0m\u001b[1;33m\u001b[0m\u001b[0m\n",
      "\u001b[1;32m~\\Anaconda3\\lib\\site-packages\\pandas\\io\\parsers.py\u001b[0m in \u001b[0;36m_read\u001b[1;34m(filepath_or_buffer, kwds)\u001b[0m\n\u001b[0;32m    438\u001b[0m \u001b[1;33m\u001b[0m\u001b[0m\n\u001b[0;32m    439\u001b[0m     \u001b[1;31m# Create the parser.\u001b[0m\u001b[1;33m\u001b[0m\u001b[1;33m\u001b[0m\u001b[1;33m\u001b[0m\u001b[0m\n\u001b[1;32m--> 440\u001b[1;33m     \u001b[0mparser\u001b[0m \u001b[1;33m=\u001b[0m \u001b[0mTextFileReader\u001b[0m\u001b[1;33m(\u001b[0m\u001b[0mfilepath_or_buffer\u001b[0m\u001b[1;33m,\u001b[0m \u001b[1;33m**\u001b[0m\u001b[0mkwds\u001b[0m\u001b[1;33m)\u001b[0m\u001b[1;33m\u001b[0m\u001b[1;33m\u001b[0m\u001b[0m\n\u001b[0m\u001b[0;32m    441\u001b[0m \u001b[1;33m\u001b[0m\u001b[0m\n\u001b[0;32m    442\u001b[0m     \u001b[1;32mif\u001b[0m \u001b[0mchunksize\u001b[0m \u001b[1;32mor\u001b[0m \u001b[0miterator\u001b[0m\u001b[1;33m:\u001b[0m\u001b[1;33m\u001b[0m\u001b[1;33m\u001b[0m\u001b[0m\n",
      "\u001b[1;32m~\\Anaconda3\\lib\\site-packages\\pandas\\io\\parsers.py\u001b[0m in \u001b[0;36m__init__\u001b[1;34m(self, f, engine, **kwds)\u001b[0m\n\u001b[0;32m    785\u001b[0m             \u001b[0mself\u001b[0m\u001b[1;33m.\u001b[0m\u001b[0moptions\u001b[0m\u001b[1;33m[\u001b[0m\u001b[1;34m'has_index_names'\u001b[0m\u001b[1;33m]\u001b[0m \u001b[1;33m=\u001b[0m \u001b[0mkwds\u001b[0m\u001b[1;33m[\u001b[0m\u001b[1;34m'has_index_names'\u001b[0m\u001b[1;33m]\u001b[0m\u001b[1;33m\u001b[0m\u001b[1;33m\u001b[0m\u001b[0m\n\u001b[0;32m    786\u001b[0m \u001b[1;33m\u001b[0m\u001b[0m\n\u001b[1;32m--> 787\u001b[1;33m         \u001b[0mself\u001b[0m\u001b[1;33m.\u001b[0m\u001b[0m_make_engine\u001b[0m\u001b[1;33m(\u001b[0m\u001b[0mself\u001b[0m\u001b[1;33m.\u001b[0m\u001b[0mengine\u001b[0m\u001b[1;33m)\u001b[0m\u001b[1;33m\u001b[0m\u001b[1;33m\u001b[0m\u001b[0m\n\u001b[0m\u001b[0;32m    788\u001b[0m \u001b[1;33m\u001b[0m\u001b[0m\n\u001b[0;32m    789\u001b[0m     \u001b[1;32mdef\u001b[0m \u001b[0mclose\u001b[0m\u001b[1;33m(\u001b[0m\u001b[0mself\u001b[0m\u001b[1;33m)\u001b[0m\u001b[1;33m:\u001b[0m\u001b[1;33m\u001b[0m\u001b[1;33m\u001b[0m\u001b[0m\n",
      "\u001b[1;32m~\\Anaconda3\\lib\\site-packages\\pandas\\io\\parsers.py\u001b[0m in \u001b[0;36m_make_engine\u001b[1;34m(self, engine)\u001b[0m\n\u001b[0;32m   1012\u001b[0m     \u001b[1;32mdef\u001b[0m \u001b[0m_make_engine\u001b[0m\u001b[1;33m(\u001b[0m\u001b[0mself\u001b[0m\u001b[1;33m,\u001b[0m \u001b[0mengine\u001b[0m\u001b[1;33m=\u001b[0m\u001b[1;34m'c'\u001b[0m\u001b[1;33m)\u001b[0m\u001b[1;33m:\u001b[0m\u001b[1;33m\u001b[0m\u001b[1;33m\u001b[0m\u001b[0m\n\u001b[0;32m   1013\u001b[0m         \u001b[1;32mif\u001b[0m \u001b[0mengine\u001b[0m \u001b[1;33m==\u001b[0m \u001b[1;34m'c'\u001b[0m\u001b[1;33m:\u001b[0m\u001b[1;33m\u001b[0m\u001b[1;33m\u001b[0m\u001b[0m\n\u001b[1;32m-> 1014\u001b[1;33m             \u001b[0mself\u001b[0m\u001b[1;33m.\u001b[0m\u001b[0m_engine\u001b[0m \u001b[1;33m=\u001b[0m \u001b[0mCParserWrapper\u001b[0m\u001b[1;33m(\u001b[0m\u001b[0mself\u001b[0m\u001b[1;33m.\u001b[0m\u001b[0mf\u001b[0m\u001b[1;33m,\u001b[0m \u001b[1;33m**\u001b[0m\u001b[0mself\u001b[0m\u001b[1;33m.\u001b[0m\u001b[0moptions\u001b[0m\u001b[1;33m)\u001b[0m\u001b[1;33m\u001b[0m\u001b[1;33m\u001b[0m\u001b[0m\n\u001b[0m\u001b[0;32m   1015\u001b[0m         \u001b[1;32melse\u001b[0m\u001b[1;33m:\u001b[0m\u001b[1;33m\u001b[0m\u001b[1;33m\u001b[0m\u001b[0m\n\u001b[0;32m   1016\u001b[0m             \u001b[1;32mif\u001b[0m \u001b[0mengine\u001b[0m \u001b[1;33m==\u001b[0m \u001b[1;34m'python'\u001b[0m\u001b[1;33m:\u001b[0m\u001b[1;33m\u001b[0m\u001b[1;33m\u001b[0m\u001b[0m\n",
      "\u001b[1;32m~\\Anaconda3\\lib\\site-packages\\pandas\\io\\parsers.py\u001b[0m in \u001b[0;36m__init__\u001b[1;34m(self, src, **kwds)\u001b[0m\n\u001b[0;32m   1706\u001b[0m         \u001b[0mkwds\u001b[0m\u001b[1;33m[\u001b[0m\u001b[1;34m'usecols'\u001b[0m\u001b[1;33m]\u001b[0m \u001b[1;33m=\u001b[0m \u001b[0mself\u001b[0m\u001b[1;33m.\u001b[0m\u001b[0musecols\u001b[0m\u001b[1;33m\u001b[0m\u001b[1;33m\u001b[0m\u001b[0m\n\u001b[0;32m   1707\u001b[0m \u001b[1;33m\u001b[0m\u001b[0m\n\u001b[1;32m-> 1708\u001b[1;33m         \u001b[0mself\u001b[0m\u001b[1;33m.\u001b[0m\u001b[0m_reader\u001b[0m \u001b[1;33m=\u001b[0m \u001b[0mparsers\u001b[0m\u001b[1;33m.\u001b[0m\u001b[0mTextReader\u001b[0m\u001b[1;33m(\u001b[0m\u001b[0msrc\u001b[0m\u001b[1;33m,\u001b[0m \u001b[1;33m**\u001b[0m\u001b[0mkwds\u001b[0m\u001b[1;33m)\u001b[0m\u001b[1;33m\u001b[0m\u001b[1;33m\u001b[0m\u001b[0m\n\u001b[0m\u001b[0;32m   1709\u001b[0m \u001b[1;33m\u001b[0m\u001b[0m\n\u001b[0;32m   1710\u001b[0m         \u001b[0mpassed_names\u001b[0m \u001b[1;33m=\u001b[0m \u001b[0mself\u001b[0m\u001b[1;33m.\u001b[0m\u001b[0mnames\u001b[0m \u001b[1;32mis\u001b[0m \u001b[1;32mNone\u001b[0m\u001b[1;33m\u001b[0m\u001b[1;33m\u001b[0m\u001b[0m\n",
      "\u001b[1;32mpandas\\_libs\\parsers.pyx\u001b[0m in \u001b[0;36mpandas._libs.parsers.TextReader.__cinit__\u001b[1;34m()\u001b[0m\n",
      "\u001b[1;32mpandas\\_libs\\parsers.pyx\u001b[0m in \u001b[0;36mpandas._libs.parsers.TextReader._setup_parser_source\u001b[1;34m()\u001b[0m\n",
      "\u001b[1;31mFileNotFoundError\u001b[0m: File b'results.csv' does not exist"
     ]
    }
   ],
   "source": [
    "import pandas as pd\n",
    "res = pd.read_csv(\"results.csv\")\n",
    "res"
   ]
  },
  {
   "cell_type": "code",
   "execution_count": 5,
   "metadata": {},
   "outputs": [
    {
     "name": "stdout",
     "output_type": "stream",
     "text": [
      " Volume in drive C has no label.\n",
      " Volume Serial Number is FA47-1318\n",
      "\n",
      " Directory of C:\\Users\\Tinsae\\Google Drive\\Thinkful Github\\Thinkful-Data-Science\\DS\\Unit 3\n",
      "\n",
      "02/09/2019  01:41 PM    <DIR>          .\n",
      "02/09/2019  01:41 PM    <DIR>          ..\n",
      "02/09/2019  01:33 PM    <DIR>          .ipynb_checkpoints\n",
      "12/04/2018  09:28 PM            54,655 3.1.1+K+Nearest+Neighbors+Classifiers.ipynb\n",
      "12/04/2018  11:56 PM            18,717 3.1.2+Tuning+KNN.ipynb\n",
      "12/05/2018  11:09 AM           106,515 3.1.3+KNN+Regression.ipynb\n",
      "12/28/2018  12:12 PM           139,294 3.1.4+Model Comparison+OLS vs KNN Regression.ipynb\n",
      "12/13/2018  07:27 PM           253,571 3.2.1+Decision+Trees.ipynb\n",
      "12/11/2018  02:07 PM            53,740 3.2.2+The+ID3+Algorithm.ipynb\n",
      "12/15/2018  08:49 PM             7,072 3.2.3+Random+Forest.ipynb\n",
      "01/01/2019  09:58 PM           342,000 3.2.5+Random+Forest+Guided+Example.ipynb\n",
      "12/13/2018  05:55 PM               555 3.2.6+Challenge If a tree falls in the forest.ipynb\n",
      "12/29/2018  01:59 PM           744,541 3.3.1+Logistic+Regression.ipynb\n",
      "12/27/2018  09:29 AM            42,667 3.3.2+Ridge+Regression.ipynb\n",
      "12/27/2018  09:40 AM            29,479 3.3.3+Lasso+Regression.ipynb\n",
      "12/30/2018  06:37 PM           207,166 3.3.4 Challenge+Crime Dataset.ipynb\n",
      "12/31/2018  01:46 PM            73,942 3.3.4+Challenge+FIFA Players Dataset.ipynb\n",
      "01/01/2019  04:52 PM            70,640 3.4.1+Linear+SVM.ipynb\n",
      "01/01/2019  06:36 PM           250,937 3.4.2+The+Kernel+Trick.ipynb\n",
      "01/05/2019  12:35 PM            44,090 3.4.4+SVM+Regression+-+Guided+Example.ipynb\n",
      "01/03/2019  10:26 PM         1,772,678 3.5.2+Gradient+boosting.ipynb\n",
      "01/04/2019  08:29 PM            41,838 3.5.3+Guided+example+and+Challenge.ipynb\n",
      "01/05/2019  12:29 AM            15,547 3.5.5+what_model_can_answer.docx\n",
      "01/09/2019  11:40 PM            71,018 3.6.1+Credit Card Fraud Detection.ipynb\n",
      "02/09/2019  01:41 PM             8,432 4.2.5 Boston Marathon.ipynb\n",
      "01/31/2019  07:58 PM            15,444 baseline.xlsx\n",
      "02/05/2019  01:56 PM         1,955,675 Capstone_Presentation1.pptx\n",
      "01/19/2019  12:32 AM                55 employee_file.csv\n",
      "12/30/2018  05:52 PM         7,753,139 fifamod3.csv\n",
      "01/07/2019  11:23 PM           206,279 in-depth-skewed-data-classif-93-recall-acc-now.ipynb\n",
      "01/02/2019  06:23 PM         5,637,683 modelA.sav\n",
      "01/02/2019  06:23 PM       101,736,205 modelB.sav\n",
      "01/02/2019  06:23 PM         5,496,739 modelC.sav\n",
      "01/02/2019  06:23 PM        98,916,446 modelD.sav\n",
      "01/02/2019  06:23 PM         4,607,480 modelE.sav\n",
      "01/02/2019  06:23 PM         5,496,739 modelF.sav\n",
      "01/11/2019  11:59 AM        19,134,071 output.csv\n",
      "01/26/2019  11:40 PM           465,555 Predicting Restaurant Closure Nevada.ipynb\n",
      "01/24/2019  03:38 PM         3,280,278 restaurants_only(undersampled).csv\n",
      "01/18/2019  12:18 PM         4,041,833 restaurants_only.csv\n",
      "01/11/2019  07:21 PM           101,873 Sales Prediction.ipynb\n",
      "01/02/2019  06:23 PM        22,953,691 selector_rf.sav\n",
      "01/02/2019  06:23 PM        11,100,113 selector_rf2.sav\n",
      "01/02/2019  06:23 PM         7,421,269 selector_rf3.sav\n",
      "02/01/2019  02:53 AM         1,629,792 Supervised Learning Capstone.html\n",
      "02/05/2019  01:46 PM         1,188,864 Supervised Learning Capstone.ipynb\n",
      "01/02/2019  06:23 PM        97,451,503 svr1.sav\n",
      "01/28/2019  05:04 PM         1,025,443 test.csv\n",
      "01/28/2019  05:03 PM         4,375,590 train.csv\n",
      "12/28/2018  08:13 PM             2,986 Untitled.ipynb\n",
      "01/19/2019  02:43 AM             5,876 Untitled1.ipynb\n",
      "01/22/2019  12:35 AM             3,777 Untitled2.ipynb\n",
      "01/18/2019  09:55 PM         8,410,266 vocabulary0.sav\n",
      "01/24/2019  11:29 PM           990,915 X_test.csv\n",
      "01/24/2019  11:28 PM         4,248,667 X_train.csv\n",
      "              52 File(s)    424,003,340 bytes\n",
      "               3 Dir(s)  20,942,262,272 bytes free\n"
     ]
    }
   ],
   "source": [
    "ls"
   ]
  },
  {
   "cell_type": "code",
   "execution_count": null,
   "metadata": {},
   "outputs": [],
   "source": []
  }
 ],
 "metadata": {
  "kernelspec": {
   "display_name": "Python 3",
   "language": "python",
   "name": "python3"
  },
  "language_info": {
   "codemirror_mode": {
    "name": "ipython",
    "version": 3
   },
   "file_extension": ".py",
   "mimetype": "text/x-python",
   "name": "python",
   "nbconvert_exporter": "python",
   "pygments_lexer": "ipython3",
   "version": "3.7.1"
  }
 },
 "nbformat": 4,
 "nbformat_minor": 2
}
