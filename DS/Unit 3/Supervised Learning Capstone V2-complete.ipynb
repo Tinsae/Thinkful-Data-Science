{
 "cells": [
  {
   "cell_type": "markdown",
   "metadata": {
    "colab_type": "text",
    "id": "krvlntDtA7wK"
   },
   "source": [
    "## What is inside"
   ]
  },
  {
   "cell_type": "markdown",
   "metadata": {
    "colab_type": "text",
    "id": "FGN_lS4eA7wO"
   },
   "source": [
    "Objective\n",
    "\n",
    "Gathering Data\n",
    "\n",
    "Prepare Data for Modeling\n",
    "    - Supervised/Unsupervised/Regression/Classfication\n",
    "    - Data Visualization\n",
    "    - Data Cleaning: Missing Values, Outlier Removal\n",
    "    - Feature Extraction: Interaction, Lagging, One-Hot Encoding\n",
    "    - Feature Selection: Univariate/Recursive\n",
    "    - Split data into train/test\n",
    "    - Under Sampling, Over Sampling\n",
    "    - Scaling, Normalizing, outlier removal\n",
    "Baseline Modeling\n",
    "    - Select model\n",
    "        - Linear Regression, Logistic Regression\n",
    "        - K-nearest neighbors, Decision Tree\n",
    "        - Support Vector Machine, Random Forest\n",
    "    - Parameteric Models: Multicolinearity, Relation with the outcome\n",
    "    - Evaluation Metric: ROC AUC, PR AUC, Accuracy, R2, MSE, RMSE, RSS, MAE\n",
    "    - Fit model on train-set\n",
    "    - Test model on test-set\n",
    "    - Feature importances, ANOVA table(stats_models), Coefficents\n",
    "\n",
    "Secondary Modeling\n",
    "    - Reduce Overfitting\n",
    "        - Hyperparameter Tuning: L1, L2 penality\n",
    "    - Gradient Boosting, XGBoost, Custom Ensembles\n",
    "    - Improve generalization error\n"
   ]
  },
  {
   "cell_type": "code",
   "execution_count": 1,
   "metadata": {
    "colab": {},
    "colab_type": "code",
    "id": "tuqixvXkA7wR"
   },
   "outputs": [],
   "source": [
    "import pandas as pd\n",
    "import pickle\n",
    "from geopy.distance import great_circle\n",
    "import operator\n",
    "from scipy import sparse\n",
    "from scipy.sparse import csr_matrix, vstack, hstack, coo_matrix\n",
    "import seaborn as sns\n",
    "import numpy as np\n",
    "import matplotlib.pyplot as plt\n",
    "from sklearn.model_selection import train_test_split\n",
    "import warnings\n",
    "warnings.simplefilter(action='ignore', category=FutureWarning)\n",
    "\n",
    "%matplotlib inline"
   ]
  },
  {
   "cell_type": "markdown",
   "metadata": {
    "colab_type": "text",
    "id": "MaEPPhcJA7wY"
   },
   "source": [
    "## 1. Objective"
   ]
  },
  {
   "cell_type": "markdown",
   "metadata": {
    "colab_type": "text",
    "id": "dyzv6IvXA7wZ"
   },
   "source": [
    "Predict whether a restaurant will be closed or not based on its geographical location and user reviews. Most businesses don't just open and close in short period of time. They stay for years before closing. The newest Yelp Dataset was released before 6 months. It contains data about businesses that were opened and closed since 2004. Thus, it will be useful to predict whether a restaurant will close in the next few years. Banks can use this model to make informed loan decisions. Because loans are mostly long-term. Investors want to put their money on a restaurant that is likely to remain for many years.\n",
    "\n",
    "I searched for related works that try to predict restaurants closure, The project I am aiming to develop is unique in the following aspects:\n",
    "\n",
    "* It can better generalize across cities because it is trained on 11 meteropolitan areas. The related projects were focused on one city.\n",
    "\n",
    "* It aims at improving perfomance by combining bag of words with other features, like the surrounding performance. Researchers at Univeristy of Maryland worked on the textual features only and Michail Alifierakis used features related to the surrounding performance only. He didn't encoporate textual features. \n",
    "\n",
    "* It uses the most recent version of the dataset which was released before 6 months."
   ]
  },
  {
   "cell_type": "markdown",
   "metadata": {
    "colab_type": "text",
    "id": "YNW9vJeIA7wa"
   },
   "source": [
    "## 2. Gathering Data"
   ]
  },
  {
   "cell_type": "markdown",
   "metadata": {
    "colab_type": "text",
    "id": "3Nkg2yMPA7wb"
   },
   "source": [
    "http://us-city.census.okfn.org/dataset/food-safety"
   ]
  },
  {
   "cell_type": "markdown",
   "metadata": {
    "colab_type": "text",
    "id": "u0VibSuKA7wb"
   },
   "source": [
    "This dataset is a subset of Yelp's businesses, reviews, and user data. In total, there are :\n",
    "\n",
    "- 5,200,000 user reviews\n",
    "- Information on 174,000 businesses\n",
    "- The data spans 11 metropolitan areas in 4 countries\n",
    "\n",
    "It is a huge dataset. I beleive that more data contributes in imporivng model generalization.Loading the data to memory at once is impossible. I considered the following options\n",
    "\n",
    "* a machine learning library other than pandas\n",
    "* dividing the data into chunks and working one chunk at a time\n",
    "* database\n",
    "* cloud\n",
    "\n",
    "Pandas can read in chunks.I utilized Google Cloud Platform to create a virtual machine with 8 CPUs and 56 GB RAM. The project involved trying models on sets of features, grid search acorss pipelines and processing textual data. The cloud compute engine really helped me see results quickly. "
   ]
  },
  {
   "cell_type": "code",
   "execution_count": 2,
   "metadata": {
    "colab": {},
    "colab_type": "code",
    "id": "OmVplZgmA7wc"
   },
   "outputs": [],
   "source": [
    "b = pd.read_json(\"yelp_academic_dataset_business.json\", lines=True)"
   ]
  },
  {
   "cell_type": "markdown",
   "metadata": {
    "colab_type": "text",
    "id": "Yu_IdvieA7wf"
   },
   "source": [
    "### Business\n",
    "\n",
    "Contains business data including location data, attributes, and categories. "
   ]
  },
  {
   "cell_type": "code",
   "execution_count": 3,
   "metadata": {
    "colab": {
     "base_uri": "https://localhost:8080/",
     "height": 697
    },
    "colab_type": "code",
    "executionInfo": {
     "elapsed": 14401,
     "status": "ok",
     "timestamp": 1550205323424,
     "user": {
      "displayName": "Tinsae Alemayehu",
      "photoUrl": "https://lh3.googleusercontent.com/-odlrIxb-v8U/AAAAAAAAAAI/AAAAAAAABc8/mQdXmHo27Uc/s64/photo.jpg",
      "userId": "15239562036318860052"
     },
     "user_tz": 300
    },
    "id": "b9RC3G9ZA7wl",
    "outputId": "f47201e4-54f6-4603-bd44-6734e698dfe4"
   },
   "outputs": [
    {
     "data": {
      "text/html": [
       "<div>\n",
       "<style scoped>\n",
       "    .dataframe tbody tr th:only-of-type {\n",
       "        vertical-align: middle;\n",
       "    }\n",
       "\n",
       "    .dataframe tbody tr th {\n",
       "        vertical-align: top;\n",
       "    }\n",
       "\n",
       "    .dataframe thead th {\n",
       "        text-align: right;\n",
       "    }\n",
       "</style>\n",
       "<table border=\"1\" class=\"dataframe\">\n",
       "  <thead>\n",
       "    <tr style=\"text-align: right;\">\n",
       "      <th></th>\n",
       "      <th>address</th>\n",
       "      <th>attributes</th>\n",
       "      <th>business_id</th>\n",
       "      <th>categories</th>\n",
       "      <th>city</th>\n",
       "      <th>hours</th>\n",
       "      <th>is_open</th>\n",
       "      <th>latitude</th>\n",
       "      <th>longitude</th>\n",
       "      <th>name</th>\n",
       "      <th>neighborhood</th>\n",
       "      <th>postal_code</th>\n",
       "      <th>review_count</th>\n",
       "      <th>stars</th>\n",
       "      <th>state</th>\n",
       "    </tr>\n",
       "  </thead>\n",
       "  <tbody>\n",
       "    <tr>\n",
       "      <th>0</th>\n",
       "      <td>1314 44 Avenue NE</td>\n",
       "      <td>{'BikeParking': 'False', 'BusinessAcceptsCredi...</td>\n",
       "      <td>Apn5Q_b6Nz61Tq4XzPdf9A</td>\n",
       "      <td>Tours, Breweries, Pizza, Restaurants, Food, Ho...</td>\n",
       "      <td>Calgary</td>\n",
       "      <td>{'Monday': '8:30-17:0', 'Tuesday': '11:0-21:0'...</td>\n",
       "      <td>1</td>\n",
       "      <td>51.091813</td>\n",
       "      <td>-114.031675</td>\n",
       "      <td>Minhas Micro Brewery</td>\n",
       "      <td></td>\n",
       "      <td>T2E 6L6</td>\n",
       "      <td>24</td>\n",
       "      <td>4.0</td>\n",
       "      <td>AB</td>\n",
       "    </tr>\n",
       "    <tr>\n",
       "      <th>1</th>\n",
       "      <td></td>\n",
       "      <td>{'Alcohol': 'none', 'BikeParking': 'False', 'B...</td>\n",
       "      <td>AjEbIBw6ZFfln7ePHha9PA</td>\n",
       "      <td>Chicken Wings, Burgers, Caterers, Street Vendo...</td>\n",
       "      <td>Henderson</td>\n",
       "      <td>{'Friday': '17:0-23:0', 'Saturday': '17:0-23:0...</td>\n",
       "      <td>0</td>\n",
       "      <td>35.960734</td>\n",
       "      <td>-114.939821</td>\n",
       "      <td>CK'S BBQ &amp; Catering</td>\n",
       "      <td></td>\n",
       "      <td>89002</td>\n",
       "      <td>3</td>\n",
       "      <td>4.5</td>\n",
       "      <td>NV</td>\n",
       "    </tr>\n",
       "    <tr>\n",
       "      <th>2</th>\n",
       "      <td>1335 rue Beaubien E</td>\n",
       "      <td>{'Alcohol': 'beer_and_wine', 'Ambience': '{'ro...</td>\n",
       "      <td>O8S5hYJ1SMc8fA4QBtVujA</td>\n",
       "      <td>Breakfast &amp; Brunch, Restaurants, French, Sandw...</td>\n",
       "      <td>Montréal</td>\n",
       "      <td>{'Monday': '10:0-22:0', 'Tuesday': '10:0-22:0'...</td>\n",
       "      <td>0</td>\n",
       "      <td>45.540503</td>\n",
       "      <td>-73.599300</td>\n",
       "      <td>La Bastringue</td>\n",
       "      <td>Rosemont-La Petite-Patrie</td>\n",
       "      <td>H2G 1K7</td>\n",
       "      <td>5</td>\n",
       "      <td>4.0</td>\n",
       "      <td>QC</td>\n",
       "    </tr>\n",
       "    <tr>\n",
       "      <th>3</th>\n",
       "      <td>211 W Monroe St</td>\n",
       "      <td>None</td>\n",
       "      <td>bFzdJJ3wp3PZssNEsyU23g</td>\n",
       "      <td>Insurance, Financial Services</td>\n",
       "      <td>Phoenix</td>\n",
       "      <td>None</td>\n",
       "      <td>1</td>\n",
       "      <td>33.449999</td>\n",
       "      <td>-112.076979</td>\n",
       "      <td>Geico Insurance</td>\n",
       "      <td></td>\n",
       "      <td>85003</td>\n",
       "      <td>8</td>\n",
       "      <td>1.5</td>\n",
       "      <td>AZ</td>\n",
       "    </tr>\n",
       "    <tr>\n",
       "      <th>4</th>\n",
       "      <td>2005 Alyth Place SE</td>\n",
       "      <td>{'BusinessAcceptsCreditCards': 'True'}</td>\n",
       "      <td>8USyCYqpScwiNEb58Bt6CA</td>\n",
       "      <td>Home &amp; Garden, Nurseries &amp; Gardening, Shopping...</td>\n",
       "      <td>Calgary</td>\n",
       "      <td>{'Monday': '8:0-17:0', 'Tuesday': '8:0-17:0', ...</td>\n",
       "      <td>1</td>\n",
       "      <td>51.035591</td>\n",
       "      <td>-114.027366</td>\n",
       "      <td>Action Engine</td>\n",
       "      <td></td>\n",
       "      <td>T2H 0N5</td>\n",
       "      <td>4</td>\n",
       "      <td>2.0</td>\n",
       "      <td>AB</td>\n",
       "    </tr>\n",
       "    <tr>\n",
       "      <th>5</th>\n",
       "      <td>20235 N Cave Creek Rd, Ste 1115</td>\n",
       "      <td>{'BikeParking': 'True', 'BusinessAcceptsCredit...</td>\n",
       "      <td>45bWSZtniwPRiqlivpS8Og</td>\n",
       "      <td>Coffee &amp; Tea, Food</td>\n",
       "      <td>Phoenix</td>\n",
       "      <td>{'Monday': '5:30-20:0', 'Tuesday': '5:30-20:0'...</td>\n",
       "      <td>1</td>\n",
       "      <td>33.671375</td>\n",
       "      <td>-112.030017</td>\n",
       "      <td>The Coffee Bean &amp; Tea Leaf</td>\n",
       "      <td></td>\n",
       "      <td>85024</td>\n",
       "      <td>63</td>\n",
       "      <td>4.0</td>\n",
       "      <td>AZ</td>\n",
       "    </tr>\n",
       "  </tbody>\n",
       "</table>\n",
       "</div>"
      ],
      "text/plain": [
       "                           address  \\\n",
       "0                1314 44 Avenue NE   \n",
       "1                                    \n",
       "2              1335 rue Beaubien E   \n",
       "3                  211 W Monroe St   \n",
       "4              2005 Alyth Place SE   \n",
       "5  20235 N Cave Creek Rd, Ste 1115   \n",
       "\n",
       "                                          attributes             business_id  \\\n",
       "0  {'BikeParking': 'False', 'BusinessAcceptsCredi...  Apn5Q_b6Nz61Tq4XzPdf9A   \n",
       "1  {'Alcohol': 'none', 'BikeParking': 'False', 'B...  AjEbIBw6ZFfln7ePHha9PA   \n",
       "2  {'Alcohol': 'beer_and_wine', 'Ambience': '{'ro...  O8S5hYJ1SMc8fA4QBtVujA   \n",
       "3                                               None  bFzdJJ3wp3PZssNEsyU23g   \n",
       "4             {'BusinessAcceptsCreditCards': 'True'}  8USyCYqpScwiNEb58Bt6CA   \n",
       "5  {'BikeParking': 'True', 'BusinessAcceptsCredit...  45bWSZtniwPRiqlivpS8Og   \n",
       "\n",
       "                                          categories       city  \\\n",
       "0  Tours, Breweries, Pizza, Restaurants, Food, Ho...    Calgary   \n",
       "1  Chicken Wings, Burgers, Caterers, Street Vendo...  Henderson   \n",
       "2  Breakfast & Brunch, Restaurants, French, Sandw...   Montréal   \n",
       "3                      Insurance, Financial Services    Phoenix   \n",
       "4  Home & Garden, Nurseries & Gardening, Shopping...    Calgary   \n",
       "5                                 Coffee & Tea, Food    Phoenix   \n",
       "\n",
       "                                               hours  is_open   latitude  \\\n",
       "0  {'Monday': '8:30-17:0', 'Tuesday': '11:0-21:0'...        1  51.091813   \n",
       "1  {'Friday': '17:0-23:0', 'Saturday': '17:0-23:0...        0  35.960734   \n",
       "2  {'Monday': '10:0-22:0', 'Tuesday': '10:0-22:0'...        0  45.540503   \n",
       "3                                               None        1  33.449999   \n",
       "4  {'Monday': '8:0-17:0', 'Tuesday': '8:0-17:0', ...        1  51.035591   \n",
       "5  {'Monday': '5:30-20:0', 'Tuesday': '5:30-20:0'...        1  33.671375   \n",
       "\n",
       "    longitude                        name               neighborhood  \\\n",
       "0 -114.031675        Minhas Micro Brewery                              \n",
       "1 -114.939821         CK'S BBQ & Catering                              \n",
       "2  -73.599300               La Bastringue  Rosemont-La Petite-Patrie   \n",
       "3 -112.076979             Geico Insurance                              \n",
       "4 -114.027366               Action Engine                              \n",
       "5 -112.030017  The Coffee Bean & Tea Leaf                              \n",
       "\n",
       "  postal_code  review_count  stars state  \n",
       "0     T2E 6L6            24    4.0    AB  \n",
       "1       89002             3    4.5    NV  \n",
       "2     H2G 1K7             5    4.0    QC  \n",
       "3       85003             8    1.5    AZ  \n",
       "4     T2H 0N5             4    2.0    AB  \n",
       "5       85024            63    4.0    AZ  "
      ]
     },
     "execution_count": 3,
     "metadata": {},
     "output_type": "execute_result"
    }
   ],
   "source": [
    "b.head(6)"
   ]
  },
  {
   "cell_type": "markdown",
   "metadata": {
    "colab_type": "text",
    "id": "0iwmva18A7wr"
   },
   "source": [
    "See Categories more closely"
   ]
  },
  {
   "cell_type": "code",
   "execution_count": 4,
   "metadata": {
    "colab": {
     "base_uri": "https://localhost:8080/",
     "height": 126
    },
    "colab_type": "code",
    "executionInfo": {
     "elapsed": 14006,
     "status": "ok",
     "timestamp": 1550205323425,
     "user": {
      "displayName": "Tinsae Alemayehu",
      "photoUrl": "https://lh3.googleusercontent.com/-odlrIxb-v8U/AAAAAAAAAAI/AAAAAAAABc8/mQdXmHo27Uc/s64/photo.jpg",
      "userId": "15239562036318860052"
     },
     "user_tz": 300
    },
    "id": "7Ap3UxPcA7ws",
    "outputId": "8e06c639-6dc4-4ef9-a214-ffccf6b9c95b"
   },
   "outputs": [
    {
     "data": {
      "text/plain": [
       "51323     Nightlife, Beer, Wine & Spirits, American (Tra...\n",
       "39199                                     Restaurants, Thai\n",
       "70486     Reflexology, Massage, Health & Medical, Beauty...\n",
       "141433                              Day Spas, Beauty & Spas\n",
       "10448                                  Burgers, Restaurants\n",
       "Name: categories, dtype: object"
      ]
     },
     "execution_count": 4,
     "metadata": {},
     "output_type": "execute_result"
    }
   ],
   "source": [
    "b.categories.sample(5)"
   ]
  },
  {
   "cell_type": "markdown",
   "metadata": {
    "colab_type": "text",
    "id": "8XAlWbcrA7wv"
   },
   "source": [
    "The Yelp Category List\n",
    "\n",
    "- Active Life\n",
    "- Arts & Entertainment\n",
    "- Automotive\n",
    "- Beauty & Spas\n",
    "- Education\n",
    "- Event Planning & Services\n",
    "- Financial Services\n",
    "- Food\n",
    "- Health & Medical\n",
    "- Home Services\n",
    "- Hotels & Travel\n",
    "- Local Flavor\n",
    "- Local Services\n",
    "- Mass Media\n",
    "- Nightlife\n",
    "- Pets\n",
    "- Professional Services\n",
    "- Public Services & Government\n",
    "- Real estate\n",
    "- Religious Organizations\n",
    "- Restaurants\n",
    "- Shopping\n",
    "\n",
    "*Each one of these contain other specific categories*\n",
    "\n",
    "Restaurants\n",
    "- Afghan\n",
    "- African\n",
    "    - Senegalese\n",
    "    - South African\n",
    "- American (New)\n",
    "- American (Traditional)\n",
    "- Arabian\n",
    "- Argentine\n",
    "- Armenian"
   ]
  },
  {
   "cell_type": "markdown",
   "metadata": {
    "colab_type": "text",
    "id": "n5UOUzjzA7ww"
   },
   "source": [
    "Attributes are stored as a nested JSON object."
   ]
  },
  {
   "cell_type": "code",
   "execution_count": 5,
   "metadata": {
    "colab": {
     "base_uri": "https://localhost:8080/",
     "height": 183
    },
    "colab_type": "code",
    "executionInfo": {
     "elapsed": 12485,
     "status": "ok",
     "timestamp": 1550205323426,
     "user": {
      "displayName": "Tinsae Alemayehu",
      "photoUrl": "https://lh3.googleusercontent.com/-odlrIxb-v8U/AAAAAAAAAAI/AAAAAAAABc8/mQdXmHo27Uc/s64/photo.jpg",
      "userId": "15239562036318860052"
     },
     "user_tz": 300
    },
    "id": "BmfDewRRA7wx",
    "outputId": "f4498dbd-5974-4c44-df90-64a03efa86e7"
   },
   "outputs": [
    {
     "data": {
      "text/plain": [
       "{'BikeParking': 'True',\n",
       " 'BusinessAcceptsCreditCards': 'True',\n",
       " 'BusinessParking': \"{'garage': False, 'street': False, 'validated': False, 'lot': True, 'valet': False}\",\n",
       " 'ByAppointmentOnly': 'True',\n",
       " 'GoodForKids': 'True',\n",
       " 'HairSpecializesIn': \"{'coloring': True, 'africanamerican': False, 'curly': True, 'perms': True, 'kids': True, 'extensions': True, 'asian': False, 'straightperms': True}\",\n",
       " 'RestaurantsPriceRange2': '2',\n",
       " 'WheelchairAccessible': 'True'}"
      ]
     },
     "execution_count": 5,
     "metadata": {},
     "output_type": "execute_result"
    }
   ],
   "source": [
    "b.attributes[1005]"
   ]
  },
  {
   "cell_type": "code",
   "execution_count": 6,
   "metadata": {
    "colab": {
     "base_uri": "https://localhost:8080/",
     "height": 90
    },
    "colab_type": "code",
    "executionInfo": {
     "elapsed": 12295,
     "status": "ok",
     "timestamp": 1550205323427,
     "user": {
      "displayName": "Tinsae Alemayehu",
      "photoUrl": "https://lh3.googleusercontent.com/-odlrIxb-v8U/AAAAAAAAAAI/AAAAAAAABc8/mQdXmHo27Uc/s64/photo.jpg",
      "userId": "15239562036318860052"
     },
     "user_tz": 300
    },
    "id": "tMojqq8MA7w0",
    "outputId": "c71bf2e9-9424-4501-b992-10b6c53bad73"
   },
   "outputs": [
    {
     "data": {
      "text/plain": [
       "Index(['address', 'attributes', 'business_id', 'categories', 'city', 'hours',\n",
       "       'is_open', 'latitude', 'longitude', 'name', 'neighborhood',\n",
       "       'postal_code', 'review_count', 'stars', 'state'],\n",
       "      dtype='object')"
      ]
     },
     "execution_count": 6,
     "metadata": {},
     "output_type": "execute_result"
    }
   ],
   "source": [
    "b.columns"
   ]
  },
  {
   "cell_type": "markdown",
   "metadata": {
    "colab_type": "text",
    "id": "lBhgLuBpA7w3"
   },
   "source": [
    "All the attributes are displayed as follows. Star rating average of all stars recieved by the business, rounded to half-stars. "
   ]
  },
  {
   "cell_type": "markdown",
   "metadata": {
    "colab_type": "text",
    "id": "xc8fCGL1A7w4"
   },
   "source": [
    "<img src=\"https://drive.google.com/uc?export=view&id=1-tIQSbZZmff7eQn6p9hqB68BQLOIBw2q\" width=\"500\"/>"
   ]
  },
  {
   "cell_type": "markdown",
   "metadata": {
    "colab_type": "text",
    "id": "KciaMuXFA7w4"
   },
   "source": [
    "### Check in\n",
    "\n",
    "Checkins on a business."
   ]
  },
  {
   "cell_type": "code",
   "execution_count": 7,
   "metadata": {
    "colab": {},
    "colab_type": "code",
    "id": "sKVBDPsGA7w5"
   },
   "outputs": [],
   "source": [
    "csize = 1e2\n",
    "checkin_reader = pd.read_json(\"yelp_academic_dataset_checkin.json\", lines=True, chunksize=csize)\n",
    "for i, ch in enumerate(checkin_reader):\n",
    "    if(i > 0):\n",
    "        break"
   ]
  },
  {
   "cell_type": "code",
   "execution_count": 8,
   "metadata": {
    "colab": {
     "base_uri": "https://localhost:8080/",
     "height": 35
    },
    "colab_type": "code",
    "executionInfo": {
     "elapsed": 14176,
     "status": "ok",
     "timestamp": 1550205327253,
     "user": {
      "displayName": "Tinsae Alemayehu",
      "photoUrl": "https://lh3.googleusercontent.com/-odlrIxb-v8U/AAAAAAAAAAI/AAAAAAAABc8/mQdXmHo27Uc/s64/photo.jpg",
      "userId": "15239562036318860052"
     },
     "user_tz": 300
    },
    "id": "CFpGgEVAA7w8",
    "outputId": "84ef4dac-e846-4889-d1c0-0d5371206859"
   },
   "outputs": [
    {
     "data": {
      "text/plain": [
       "Index(['business_id', 'time'], dtype='object')"
      ]
     },
     "execution_count": 8,
     "metadata": {},
     "output_type": "execute_result"
    }
   ],
   "source": [
    "ch.columns"
   ]
  },
  {
   "cell_type": "code",
   "execution_count": 9,
   "metadata": {
    "colab": {
     "base_uri": "https://localhost:8080/",
     "height": 198
    },
    "colab_type": "code",
    "executionInfo": {
     "elapsed": 13235,
     "status": "ok",
     "timestamp": 1550205328130,
     "user": {
      "displayName": "Tinsae Alemayehu",
      "photoUrl": "https://lh3.googleusercontent.com/-odlrIxb-v8U/AAAAAAAAAAI/AAAAAAAABc8/mQdXmHo27Uc/s64/photo.jpg",
      "userId": "15239562036318860052"
     },
     "user_tz": 300
    },
    "id": "VVPZLvpLA7w_",
    "outputId": "145a162a-14c7-4d44-b8df-40ef2c2769e4"
   },
   "outputs": [
    {
     "data": {
      "text/html": [
       "<div>\n",
       "<style scoped>\n",
       "    .dataframe tbody tr th:only-of-type {\n",
       "        vertical-align: middle;\n",
       "    }\n",
       "\n",
       "    .dataframe tbody tr th {\n",
       "        vertical-align: top;\n",
       "    }\n",
       "\n",
       "    .dataframe thead th {\n",
       "        text-align: right;\n",
       "    }\n",
       "</style>\n",
       "<table border=\"1\" class=\"dataframe\">\n",
       "  <thead>\n",
       "    <tr style=\"text-align: right;\">\n",
       "      <th></th>\n",
       "      <th>business_id</th>\n",
       "      <th>time</th>\n",
       "    </tr>\n",
       "  </thead>\n",
       "  <tbody>\n",
       "    <tr>\n",
       "      <th>100</th>\n",
       "      <td>6FkCrxJMq5KIgavHRqtlbQ</td>\n",
       "      <td>{'Tue-4': 1, 'Wed-14': 2, 'Thu-15': 1, 'Sun-16...</td>\n",
       "    </tr>\n",
       "    <tr>\n",
       "      <th>101</th>\n",
       "      <td>d24LIT55-aAr7l1X99vpjw</td>\n",
       "      <td>{'Fri-1': 1, 'Fri-17': 1, 'Mon-19': 1, 'Tue-22...</td>\n",
       "    </tr>\n",
       "    <tr>\n",
       "      <th>102</th>\n",
       "      <td>2pmOI_mrn1ZWB88IeiOMkA</td>\n",
       "      <td>{'Tue-16': 1, 'Tue-17': 1, 'Wed-17': 1, 'Wed-2...</td>\n",
       "    </tr>\n",
       "    <tr>\n",
       "      <th>103</th>\n",
       "      <td>KvUuXo2Fpt-rcWR13iLWHg</td>\n",
       "      <td>{'Wed-0': 1, 'Sun-1': 1, 'Sat-13': 1, 'Mon-16'...</td>\n",
       "    </tr>\n",
       "    <tr>\n",
       "      <th>104</th>\n",
       "      <td>quYlYKkiZ5qRLdu-_hew7g</td>\n",
       "      <td>{'Tue-17': 1, 'Sun-19': 1}</td>\n",
       "    </tr>\n",
       "  </tbody>\n",
       "</table>\n",
       "</div>"
      ],
      "text/plain": [
       "                business_id                                               time\n",
       "100  6FkCrxJMq5KIgavHRqtlbQ  {'Tue-4': 1, 'Wed-14': 2, 'Thu-15': 1, 'Sun-16...\n",
       "101  d24LIT55-aAr7l1X99vpjw  {'Fri-1': 1, 'Fri-17': 1, 'Mon-19': 1, 'Tue-22...\n",
       "102  2pmOI_mrn1ZWB88IeiOMkA  {'Tue-16': 1, 'Tue-17': 1, 'Wed-17': 1, 'Wed-2...\n",
       "103  KvUuXo2Fpt-rcWR13iLWHg  {'Wed-0': 1, 'Sun-1': 1, 'Sat-13': 1, 'Mon-16'...\n",
       "104  quYlYKkiZ5qRLdu-_hew7g                         {'Tue-17': 1, 'Sun-19': 1}"
      ]
     },
     "execution_count": 9,
     "metadata": {},
     "output_type": "execute_result"
    }
   ],
   "source": [
    "ch.head()"
   ]
  },
  {
   "cell_type": "markdown",
   "metadata": {
    "colab_type": "text",
    "id": "BjKFE7f_A7xD"
   },
   "source": [
    "### Review\n",
    "\n",
    "Contains full review text data including the user_id that wrote the review and the business_id the review is written for."
   ]
  },
  {
   "cell_type": "markdown",
   "metadata": {},
   "source": [
    "The reviews data is more than 5 GB, uploading it directly took time. I decided to upload the data to an ftp server and transfer it from there. Python has a builtin libraries: ftplib and requests, which can read data from ftp server."
   ]
  },
  {
   "cell_type": "code",
   "execution_count": 10,
   "metadata": {},
   "outputs": [],
   "source": [
    "# # import neccessary libraries\n",
    "# from ftplib import FTP\n",
    "# import requests\n",
    "\n",
    "# # login to ftp server\n",
    "# server = \"##.##.###.##\"\n",
    "# username = \"******@tinsaealemayehu.com\"\n",
    "# password = \"********\"\n",
    "# ftp = FTP(server)\n",
    "# ftp.login(user=username, passwd=password)\n",
    "\n",
    "# trans\n",
    "# rvfile = open(\"yelp_academic_dataset_review.json\", \"wb\")\n",
    "# ftp.retrbinary('RETR yelp_academic_dataset_review.json', rvfile.write)\n",
    "# rvfile.close()"
   ]
  },
  {
   "cell_type": "code",
   "execution_count": 11,
   "metadata": {
    "colab": {},
    "colab_type": "code",
    "id": "ZT_75-QXA7xE"
   },
   "outputs": [],
   "source": [
    "csize = 1e2\n",
    "review_reader = pd.read_json(\"yelp_academic_dataset_review.json\", lines=True, chunksize=csize)\n",
    "for i, r in enumerate(review_reader):\n",
    "    if(i > 0):\n",
    "        break"
   ]
  },
  {
   "cell_type": "code",
   "execution_count": 12,
   "metadata": {
    "colab": {
     "base_uri": "https://localhost:8080/",
     "height": 72
    },
    "colab_type": "code",
    "executionInfo": {
     "elapsed": 219173,
     "status": "ok",
     "timestamp": 1550205536307,
     "user": {
      "displayName": "Tinsae Alemayehu",
      "photoUrl": "https://lh3.googleusercontent.com/-odlrIxb-v8U/AAAAAAAAAAI/AAAAAAAABc8/mQdXmHo27Uc/s64/photo.jpg",
      "userId": "15239562036318860052"
     },
     "user_tz": 300
    },
    "id": "zOR89FVVA7xG",
    "outputId": "eec054ae-9171-4e0a-83ad-da0e2fa24757"
   },
   "outputs": [
    {
     "data": {
      "text/plain": [
       "Index(['business_id', 'cool', 'date', 'funny', 'review_id', 'stars', 'text',\n",
       "       'useful', 'user_id'],\n",
       "      dtype='object')"
      ]
     },
     "execution_count": 12,
     "metadata": {},
     "output_type": "execute_result"
    }
   ],
   "source": [
    "r.columns"
   ]
  },
  {
   "cell_type": "code",
   "execution_count": 13,
   "metadata": {
    "colab": {
     "base_uri": "https://localhost:8080/",
     "height": 285
    },
    "colab_type": "code",
    "executionInfo": {
     "elapsed": 219143,
     "status": "ok",
     "timestamp": 1550205536982,
     "user": {
      "displayName": "Tinsae Alemayehu",
      "photoUrl": "https://lh3.googleusercontent.com/-odlrIxb-v8U/AAAAAAAAAAI/AAAAAAAABc8/mQdXmHo27Uc/s64/photo.jpg",
      "userId": "15239562036318860052"
     },
     "user_tz": 300
    },
    "id": "LCTBHnaXA7xN",
    "outputId": "32dedd6b-1f3a-4cbe-83b2-b54b1d0ad060"
   },
   "outputs": [
    {
     "data": {
      "text/html": [
       "<div>\n",
       "<style scoped>\n",
       "    .dataframe tbody tr th:only-of-type {\n",
       "        vertical-align: middle;\n",
       "    }\n",
       "\n",
       "    .dataframe tbody tr th {\n",
       "        vertical-align: top;\n",
       "    }\n",
       "\n",
       "    .dataframe thead th {\n",
       "        text-align: right;\n",
       "    }\n",
       "</style>\n",
       "<table border=\"1\" class=\"dataframe\">\n",
       "  <thead>\n",
       "    <tr style=\"text-align: right;\">\n",
       "      <th></th>\n",
       "      <th>business_id</th>\n",
       "      <th>cool</th>\n",
       "      <th>date</th>\n",
       "      <th>funny</th>\n",
       "      <th>review_id</th>\n",
       "      <th>stars</th>\n",
       "      <th>text</th>\n",
       "      <th>useful</th>\n",
       "      <th>user_id</th>\n",
       "    </tr>\n",
       "  </thead>\n",
       "  <tbody>\n",
       "    <tr>\n",
       "      <th>100</th>\n",
       "      <td>7wHLFohwCw8l6WS-feLjeg</td>\n",
       "      <td>1</td>\n",
       "      <td>2017-04-05</td>\n",
       "      <td>0</td>\n",
       "      <td>5k9F53Lanw09xR3nwCdRYg</td>\n",
       "      <td>5</td>\n",
       "      <td>I had an amazing time here. They were very bus...</td>\n",
       "      <td>1</td>\n",
       "      <td>Yy_iGXxLpL6tYDQoE-6XVg</td>\n",
       "    </tr>\n",
       "    <tr>\n",
       "      <th>101</th>\n",
       "      <td>ixAh9crILnJ9tM8LhWFhkw</td>\n",
       "      <td>0</td>\n",
       "      <td>2017-04-05</td>\n",
       "      <td>0</td>\n",
       "      <td>Fv1cqziL1JShSztJWYkTcA</td>\n",
       "      <td>4</td>\n",
       "      <td>I've been coming here for a while and I love h...</td>\n",
       "      <td>0</td>\n",
       "      <td>Yy_iGXxLpL6tYDQoE-6XVg</td>\n",
       "    </tr>\n",
       "    <tr>\n",
       "      <th>102</th>\n",
       "      <td>aQ222ydz_GSRZV66xNt4kQ</td>\n",
       "      <td>0</td>\n",
       "      <td>2017-04-09</td>\n",
       "      <td>1</td>\n",
       "      <td>AxhxGl41DItKjqkzYtr53Q</td>\n",
       "      <td>1</td>\n",
       "      <td>2 of my girlfriends recommended this place so ...</td>\n",
       "      <td>1</td>\n",
       "      <td>Yy_iGXxLpL6tYDQoE-6XVg</td>\n",
       "    </tr>\n",
       "    <tr>\n",
       "      <th>103</th>\n",
       "      <td>owLBKLyHe85xPba24bmZRw</td>\n",
       "      <td>0</td>\n",
       "      <td>2016-01-23</td>\n",
       "      <td>0</td>\n",
       "      <td>lAyATpsxALW9owlSKhSozA</td>\n",
       "      <td>5</td>\n",
       "      <td>Vickie makes me feel so comfortable every time...</td>\n",
       "      <td>0</td>\n",
       "      <td>Yy_iGXxLpL6tYDQoE-6XVg</td>\n",
       "    </tr>\n",
       "    <tr>\n",
       "      <th>104</th>\n",
       "      <td>s3i73_ttk_F33AEdqMr18g</td>\n",
       "      <td>0</td>\n",
       "      <td>2017-01-31</td>\n",
       "      <td>0</td>\n",
       "      <td>_qIXejLYgWGYYtcGcMw1eg</td>\n",
       "      <td>3</td>\n",
       "      <td>The halo-halo was good! I got the mango toast ...</td>\n",
       "      <td>0</td>\n",
       "      <td>Yy_iGXxLpL6tYDQoE-6XVg</td>\n",
       "    </tr>\n",
       "  </tbody>\n",
       "</table>\n",
       "</div>"
      ],
      "text/plain": [
       "                business_id  cool       date  funny               review_id  \\\n",
       "100  7wHLFohwCw8l6WS-feLjeg     1 2017-04-05      0  5k9F53Lanw09xR3nwCdRYg   \n",
       "101  ixAh9crILnJ9tM8LhWFhkw     0 2017-04-05      0  Fv1cqziL1JShSztJWYkTcA   \n",
       "102  aQ222ydz_GSRZV66xNt4kQ     0 2017-04-09      1  AxhxGl41DItKjqkzYtr53Q   \n",
       "103  owLBKLyHe85xPba24bmZRw     0 2016-01-23      0  lAyATpsxALW9owlSKhSozA   \n",
       "104  s3i73_ttk_F33AEdqMr18g     0 2017-01-31      0  _qIXejLYgWGYYtcGcMw1eg   \n",
       "\n",
       "     stars                                               text  useful  \\\n",
       "100      5  I had an amazing time here. They were very bus...       1   \n",
       "101      4  I've been coming here for a while and I love h...       0   \n",
       "102      1  2 of my girlfriends recommended this place so ...       1   \n",
       "103      5  Vickie makes me feel so comfortable every time...       0   \n",
       "104      3  The halo-halo was good! I got the mango toast ...       0   \n",
       "\n",
       "                    user_id  \n",
       "100  Yy_iGXxLpL6tYDQoE-6XVg  \n",
       "101  Yy_iGXxLpL6tYDQoE-6XVg  \n",
       "102  Yy_iGXxLpL6tYDQoE-6XVg  \n",
       "103  Yy_iGXxLpL6tYDQoE-6XVg  \n",
       "104  Yy_iGXxLpL6tYDQoE-6XVg  "
      ]
     },
     "execution_count": 13,
     "metadata": {},
     "output_type": "execute_result"
    }
   ],
   "source": [
    "r.head()"
   ]
  },
  {
   "cell_type": "markdown",
   "metadata": {
    "colab_type": "text",
    "id": "sxMBfavHA7xS"
   },
   "source": [
    "See the text, stars, date and user. A review can receive votes from other users: useful, cool, funny. The business that is reviewed, the user who reviewed are linked by business_id and review_id respectively."
   ]
  },
  {
   "cell_type": "markdown",
   "metadata": {
    "colab_type": "text",
    "id": "xMCv7ODNA7xU"
   },
   "source": [
    "<img src=\"https://drive.google.com/uc?export=view&id=1FD3GDVCTS5ZTj_ohu2p83FJb46hIblEN\" width=\"400\"/>"
   ]
  },
  {
   "cell_type": "markdown",
   "metadata": {
    "colab_type": "text",
    "id": "3NFE-utzA7xU"
   },
   "source": [
    "#### Tip\n",
    "\n",
    "Tips written by a user on a business. Tips are shorter than reviews and tend to convey quick suggestions."
   ]
  },
  {
   "cell_type": "code",
   "execution_count": 14,
   "metadata": {
    "colab": {},
    "colab_type": "code",
    "id": "Ob5Mn7xSA7xV"
   },
   "outputs": [],
   "source": [
    "csize=1e2\n",
    "tip_reader = pd.read_json(\"yelp_academic_dataset_tip.json\", lines=True, chunksize=csize)\n",
    "for i, t in enumerate(tip_reader):\n",
    "    if(i > 0):\n",
    "        break"
   ]
  },
  {
   "cell_type": "code",
   "execution_count": 15,
   "metadata": {
    "colab": {},
    "colab_type": "code",
    "id": "6WKwav-_A7xX"
   },
   "outputs": [
    {
     "data": {
      "text/plain": [
       "Index(['business_id', 'date', 'likes', 'text', 'user_id'], dtype='object')"
      ]
     },
     "execution_count": 15,
     "metadata": {},
     "output_type": "execute_result"
    }
   ],
   "source": [
    "t.columns"
   ]
  },
  {
   "cell_type": "code",
   "execution_count": 16,
   "metadata": {
    "colab": {},
    "colab_type": "code",
    "id": "HXszzj3GA7xa"
   },
   "outputs": [
    {
     "data": {
      "text/html": [
       "<div>\n",
       "<style scoped>\n",
       "    .dataframe tbody tr th:only-of-type {\n",
       "        vertical-align: middle;\n",
       "    }\n",
       "\n",
       "    .dataframe tbody tr th {\n",
       "        vertical-align: top;\n",
       "    }\n",
       "\n",
       "    .dataframe thead th {\n",
       "        text-align: right;\n",
       "    }\n",
       "</style>\n",
       "<table border=\"1\" class=\"dataframe\">\n",
       "  <thead>\n",
       "    <tr style=\"text-align: right;\">\n",
       "      <th></th>\n",
       "      <th>business_id</th>\n",
       "      <th>date</th>\n",
       "      <th>likes</th>\n",
       "      <th>text</th>\n",
       "      <th>user_id</th>\n",
       "    </tr>\n",
       "  </thead>\n",
       "  <tbody>\n",
       "    <tr>\n",
       "      <th>100</th>\n",
       "      <td>-InU2nAbC9AuS-Um2Cowgw</td>\n",
       "      <td>2014-03-31</td>\n",
       "      <td>0</td>\n",
       "      <td>Order extra gravy. Its the best thing ever!</td>\n",
       "      <td>QGgWWhEi5R4SLAKN-xwtNQ</td>\n",
       "    </tr>\n",
       "    <tr>\n",
       "      <th>101</th>\n",
       "      <td>SurnOSM2bVVN4-Js3G23RQ</td>\n",
       "      <td>2016-04-18</td>\n",
       "      <td>0</td>\n",
       "      <td>Get the ice tea with raspberries, they add the...</td>\n",
       "      <td>QGgWWhEi5R4SLAKN-xwtNQ</td>\n",
       "    </tr>\n",
       "    <tr>\n",
       "      <th>102</th>\n",
       "      <td>ydhgMcBh4A_eihzEAg9LLQ</td>\n",
       "      <td>2015-08-09</td>\n",
       "      <td>0</td>\n",
       "      <td>Still delicious!</td>\n",
       "      <td>QGgWWhEi5R4SLAKN-xwtNQ</td>\n",
       "    </tr>\n",
       "    <tr>\n",
       "      <th>103</th>\n",
       "      <td>3CBLxydJU6CFRMGhu9b-sw</td>\n",
       "      <td>2015-11-18</td>\n",
       "      <td>0</td>\n",
       "      <td>Tuesday Special - 50¢ wings</td>\n",
       "      <td>QGgWWhEi5R4SLAKN-xwtNQ</td>\n",
       "    </tr>\n",
       "    <tr>\n",
       "      <th>104</th>\n",
       "      <td>Ue4wtaeyhPKvdkXlULimCw</td>\n",
       "      <td>2015-08-26</td>\n",
       "      <td>0</td>\n",
       "      <td>Add an ice tea for lunch, it's the real thing ...</td>\n",
       "      <td>QGgWWhEi5R4SLAKN-xwtNQ</td>\n",
       "    </tr>\n",
       "  </tbody>\n",
       "</table>\n",
       "</div>"
      ],
      "text/plain": [
       "                business_id       date  likes  \\\n",
       "100  -InU2nAbC9AuS-Um2Cowgw 2014-03-31      0   \n",
       "101  SurnOSM2bVVN4-Js3G23RQ 2016-04-18      0   \n",
       "102  ydhgMcBh4A_eihzEAg9LLQ 2015-08-09      0   \n",
       "103  3CBLxydJU6CFRMGhu9b-sw 2015-11-18      0   \n",
       "104  Ue4wtaeyhPKvdkXlULimCw 2015-08-26      0   \n",
       "\n",
       "                                                  text                 user_id  \n",
       "100        Order extra gravy. Its the best thing ever!  QGgWWhEi5R4SLAKN-xwtNQ  \n",
       "101  Get the ice tea with raspberries, they add the...  QGgWWhEi5R4SLAKN-xwtNQ  \n",
       "102                                   Still delicious!  QGgWWhEi5R4SLAKN-xwtNQ  \n",
       "103                        Tuesday Special - 50¢ wings  QGgWWhEi5R4SLAKN-xwtNQ  \n",
       "104  Add an ice tea for lunch, it's the real thing ...  QGgWWhEi5R4SLAKN-xwtNQ  "
      ]
     },
     "execution_count": 16,
     "metadata": {},
     "output_type": "execute_result"
    }
   ],
   "source": [
    "t.head()"
   ]
  },
  {
   "cell_type": "markdown",
   "metadata": {
    "colab_type": "text",
    "id": "9jO91CGZA7xd"
   },
   "source": [
    "#### User\n",
    "\n",
    "User data including the user's friend mapping and all the metadata associated with the user."
   ]
  },
  {
   "cell_type": "code",
   "execution_count": 17,
   "metadata": {
    "colab": {},
    "colab_type": "code",
    "id": "VWA2CmT0A7xe"
   },
   "outputs": [],
   "source": [
    "# user_reader = pd.read_json(\"yelp-dataset/yelp_academic_dataset_user.json\", lines=True, chunksize=csize)\n",
    "# csize=1e2\n",
    "# for i, u in enumerate(user_reader):\n",
    "#     if(i > 0):\n",
    "#         break"
   ]
  },
  {
   "cell_type": "code",
   "execution_count": 18,
   "metadata": {
    "colab": {},
    "colab_type": "code",
    "id": "hbmAXoZzA7xh"
   },
   "outputs": [],
   "source": [
    "# u.columns"
   ]
  },
  {
   "cell_type": "code",
   "execution_count": 19,
   "metadata": {
    "colab": {},
    "colab_type": "code",
    "id": "myqj3EvuA7xk"
   },
   "outputs": [],
   "source": [
    "# u.head()"
   ]
  },
  {
   "cell_type": "markdown",
   "metadata": {
    "colab_type": "text",
    "id": "zDio-l_0A7xm"
   },
   "source": [
    "<img src=\"https://drive.google.com/uc?export=view&id=1pmFWXvpQjqsrbNqIiSG_DP8B1SSu-z2A\" width=\"500\"/>"
   ]
  },
  {
   "cell_type": "markdown",
   "metadata": {
    "colab_type": "text",
    "id": "HExJzV1dA7xn"
   },
   "source": [
    "useful, funny, cool exisit in user table. They refer to number of votes sent by the user. On review table these features were counting number of votes given to a review."
   ]
  },
  {
   "cell_type": "markdown",
   "metadata": {
    "colab_type": "text",
    "id": "c1MbXbLIA7xo"
   },
   "source": [
    "Users can recieve compliments from other users. A complement is given on the profile page. It is not given for a single review, rather on the overall activity of a user. "
   ]
  },
  {
   "cell_type": "markdown",
   "metadata": {
    "colab_type": "text",
    "id": "sAjtE6UgA7xo"
   },
   "source": [
    "Compliment Type | Profile\n",
    "- | - \n",
    "<img src=\"https://drive.google.com/uc?export=view&id=1yjTX0vvW1vCQClX4Byqfz6OcGBL8ILmu\" width=\"300\"/>|<img src=\"https://drive.google.com/uc?export=view&id=1bzdwJf7tmzlQndbfnv9ORbaCeyX8e300\" width=\"150\"/>"
   ]
  },
  {
   "cell_type": "markdown",
   "metadata": {
    "colab_type": "text",
    "id": "t14vW9JfA7xq"
   },
   "source": [
    "## Prepare Data for Modeling"
   ]
  },
  {
   "cell_type": "code",
   "execution_count": 20,
   "metadata": {
    "colab": {},
    "colab_type": "code",
    "id": "VH7A6tVsA7xw"
   },
   "outputs": [],
   "source": [
    "# the code below is just practice code\n",
    "\n",
    "# from scipy.sparse import csr_matrix, vstack, hstack, coo_matrix\n",
    "# from IPython.display import HTML, display\n",
    "# import tabulate\n",
    "\n",
    "# list1 = np.array([[1,0,0], [4,5,0]])\n",
    "# list1 = [[1,0,0], [4,5,0]]\n",
    "# matrix1 = csr_matrix(list1)\n",
    "# display(HTML(tabulate.tabulate(list1, tablefmt='html')))\n",
    "# print(matrix1)\n",
    "# print()\n",
    "# # stacking a new row\n",
    "# matrix2 = vstack((matrix1, [0,9,0]))\n",
    "# list2 = matrix2.toarray()\n",
    "# display(HTML(tabulate.tabulate(list2, tablefmt='html')))\n",
    "# print(matrix2)\n",
    "# print()\n",
    "# # stacking a new column on matrix1\n",
    "# matrix3 = hstack((matrix1,[[0],[4.5]] ))\n",
    "# list3 = matrix3.toarray()\n",
    "# display(HTML(tabulate.tabulate(list3, tablefmt='html')))\n",
    "# print(matrix3)\n",
    "# print()\n",
    "# # stacking a two columns on matrix1\n",
    "# matrix4 = hstack((matrix1,[[0,9.9589],[4.5214, 0]] ))\n",
    "# list4 = matrix4.toarray()\n",
    "# display(HTML(tabulate.tabulate(list4, tablefmt='html')))\n",
    "# print(matrix4)\n",
    "# print()\n",
    "# # rounding numpy matrices\n",
    "# matrix4.data= np.round(matrix4.data,2)\n",
    "# print(matrix4)"
   ]
  },
  {
   "cell_type": "markdown",
   "metadata": {
    "colab_type": "text",
    "id": "RUKAmKsPA7xz"
   },
   "source": [
    "### Do closed businesses have more nulls?"
   ]
  },
  {
   "cell_type": "code",
   "execution_count": 21,
   "metadata": {
    "colab": {
     "base_uri": "https://localhost:8080/",
     "height": 308
    },
    "colab_type": "code",
    "executionInfo": {
     "elapsed": 208839,
     "status": "ok",
     "timestamp": 1550205537219,
     "user": {
      "displayName": "Tinsae Alemayehu",
      "photoUrl": "https://lh3.googleusercontent.com/-odlrIxb-v8U/AAAAAAAAAAI/AAAAAAAABc8/mQdXmHo27Uc/s64/photo.jpg",
      "userId": "15239562036318860052"
     },
     "user_tz": 300
    },
    "id": "oJnCwMUQA7x1",
    "outputId": "374e4241-ca1b-4bfe-e4ab-84356a371d55"
   },
   "outputs": [
    {
     "data": {
      "text/plain": [
       "address          0.00000\n",
       "attributes      13.67283\n",
       "business_id      0.00000\n",
       "categories       0.28686\n",
       "city             0.00000\n",
       "hours           23.75592\n",
       "is_open          0.00000\n",
       "latitude         0.00318\n",
       "longitude        0.00318\n",
       "name             0.00000\n",
       "neighborhood     0.00000\n",
       "postal_code      0.00000\n",
       "review_count     0.00000\n",
       "stars            0.00000\n",
       "state            0.00000\n",
       "dtype: float64"
      ]
     },
     "execution_count": 21,
     "metadata": {},
     "output_type": "execute_result"
    }
   ],
   "source": [
    "# nulls in percent\n",
    "((b.isnull().sum()/len(b)) * 100).round(5)"
   ]
  },
  {
   "cell_type": "code",
   "execution_count": 22,
   "metadata": {
    "colab": {
     "base_uri": "https://localhost:8080/",
     "height": 279
    },
    "colab_type": "code",
    "executionInfo": {
     "elapsed": 209641,
     "status": "ok",
     "timestamp": 1550205538196,
     "user": {
      "displayName": "Tinsae Alemayehu",
      "photoUrl": "https://lh3.googleusercontent.com/-odlrIxb-v8U/AAAAAAAAAAI/AAAAAAAABc8/mQdXmHo27Uc/s64/photo.jpg",
      "userId": "15239562036318860052"
     },
     "user_tz": 300
    },
    "id": "Pd65iXwJA7x4",
    "outputId": "1489f2a4-b577-4654-ff77-d4d9dba23d38"
   },
   "outputs": [
    {
     "data": {
      "image/png": "[encoded data removed]",
      "text/plain": [
       "<Figure size 432x288 with 1 Axes>"
      ]
     },
     "metadata": {
      "needs_background": "light"
     },
     "output_type": "display_data"
    }
   ],
   "source": [
    "nulls_count = pd.DataFrame({\"open\":(b[b.is_open == True].isnull().sum()/len(b[b.is_open == False])).round(5), \n",
    "                           \"closed\":(b[b.is_open == False].isnull().sum()/len(b[b.is_open == False])).round(5)})\n",
    "\n",
    "nulls_count = nulls_count[(nulls_count.open > 0) | (nulls_count.closed > 0)]\n",
    "nulls_count[\"feature\"] = nulls_count.index\n",
    "nulls_count_melted = pd.melt(nulls_count, id_vars=['feature'], value_vars=['open', 'closed'])\n",
    "sns.pointplot(x=\"feature\", y=\"value\", hue=\"variable\", kind=\"point\", data=nulls_count_melted)\n",
    "sns.despine()\n",
    "plt.show()"
   ]
  },
  {
   "cell_type": "markdown",
   "metadata": {
    "colab_type": "text",
    "id": "kfl_RqNSA7x8"
   },
   "source": [
    "No, closed business have much lesser nulls"
   ]
  },
  {
   "cell_type": "markdown",
   "metadata": {
    "colab_type": "text",
    "id": "vCVpv_D_A7x9"
   },
   "source": [
    "### Class imbalance: Business"
   ]
  },
  {
   "cell_type": "code",
   "execution_count": 23,
   "metadata": {
    "colab": {
     "base_uri": "https://localhost:8080/",
     "height": 315
    },
    "colab_type": "code",
    "executionInfo": {
     "elapsed": 206940,
     "status": "ok",
     "timestamp": 1550205538197,
     "user": {
      "displayName": "Tinsae Alemayehu",
      "photoUrl": "https://lh3.googleusercontent.com/-odlrIxb-v8U/AAAAAAAAAAI/AAAAAAAABc8/mQdXmHo27Uc/s64/photo.jpg",
      "userId": "15239562036318860052"
     },
     "user_tz": 300
    },
    "id": "QR_bv3oTA7x-",
    "outputId": "34a08c03-2119-4f2a-e0a4-122fb8cbe38a"
   },
   "outputs": [
    {
     "data": {
      "image/png": "[encoded data removed]",
      "text/plain": [
       "<Figure size 576x432 with 1 Axes>"
      ]
     },
     "metadata": {},
     "output_type": "display_data"
    }
   ],
   "source": [
    "sns.set(rc={'figure.figsize':(8,6)})\n",
    "sns.countplot(b.is_open)\n",
    "plt.title(\"Imbalanced Classes\")\n",
    "plt.xticks([0,1], (\"Closed\", \"Open\"))\n",
    "plt.xlabel(\"Class\")\n",
    "plt.ylabel(\"Frequency\")\n",
    "sns.despine()\n",
    "plt.show()"
   ]
  },
  {
   "cell_type": "code",
   "execution_count": 24,
   "metadata": {},
   "outputs": [
    {
     "data": {
      "text/plain": [
       "1    0.830391\n",
       "0    0.169609\n",
       "Name: is_open, dtype: float64"
      ]
     },
     "execution_count": 24,
     "metadata": {},
     "output_type": "execute_result"
    }
   ],
   "source": [
    "pd.value_counts(b.is_open)/b.shape[0]"
   ]
  },
  {
   "cell_type": "markdown",
   "metadata": {
    "colab_type": "text",
    "id": "KM57AmH9A7yB"
   },
   "source": [
    "* 23% of hours is missing. I can drop hours\n",
    "\n",
    "* 0.29 % rows have missing category. I can drop those rows\n",
    "\n",
    "* 0.001 % rows have missing latitude, longitude information. Dropping them will not affect the data\n",
    "\n",
    "* I am not going to use the attributes feature. "
   ]
  },
  {
   "cell_type": "code",
   "execution_count": 25,
   "metadata": {
    "colab": {
     "base_uri": "https://localhost:8080/",
     "height": 272
    },
    "colab_type": "code",
    "executionInfo": {
     "elapsed": 206630,
     "status": "ok",
     "timestamp": 1550205539583,
     "user": {
      "displayName": "Tinsae Alemayehu",
      "photoUrl": "https://lh3.googleusercontent.com/-odlrIxb-v8U/AAAAAAAAAAI/AAAAAAAABc8/mQdXmHo27Uc/s64/photo.jpg",
      "userId": "15239562036318860052"
     },
     "user_tz": 300
    },
    "id": "v_--kE39A7yB",
    "outputId": "aec9030e-14b7-4268-bc84-83f2fa7ea707"
   },
   "outputs": [
    {
     "data": {
      "text/plain": [
       "address         0.0\n",
       "business_id     0.0\n",
       "categories      0.0\n",
       "city            0.0\n",
       "is_open         0.0\n",
       "latitude        0.0\n",
       "longitude       0.0\n",
       "name            0.0\n",
       "neighborhood    0.0\n",
       "postal_code     0.0\n",
       "review_count    0.0\n",
       "stars           0.0\n",
       "state           0.0\n",
       "dtype: float64"
      ]
     },
     "execution_count": 25,
     "metadata": {},
     "output_type": "execute_result"
    }
   ],
   "source": [
    "b.drop(\"hours\", axis=1, inplace=True)\n",
    "b = b.drop(b[b.categories.isnull()].index)\n",
    "b = b.drop(b[(b.latitude.isnull()) | (b.longitude.isnull()) ].index)\n",
    "b = b.drop(\"attributes\", axis=1)\n",
    "# nulls in percent\n",
    "((b.isnull().sum()/len(b)) * 100).round(5)"
   ]
  },
  {
   "cell_type": "markdown",
   "metadata": {
    "colab_type": "text",
    "id": "ubm8SNfaA7yE"
   },
   "source": [
    "### Binarize Categories"
   ]
  },
  {
   "cell_type": "markdown",
   "metadata": {
    "colab_type": "text",
    "id": "T6YIE0GeA7yE"
   },
   "source": [
    "A business is labeled to more than one categories. Converting them to binary will make filtering and analyzing very easy. Let me try to one-hot encode them.  "
   ]
  },
  {
   "cell_type": "code",
   "execution_count": 26,
   "metadata": {
    "colab": {
     "base_uri": "https://localhost:8080/",
     "height": 126
    },
    "colab_type": "code",
    "executionInfo": {
     "elapsed": 205592,
     "status": "ok",
     "timestamp": 1550205539587,
     "user": {
      "displayName": "Tinsae Alemayehu",
      "photoUrl": "https://lh3.googleusercontent.com/-odlrIxb-v8U/AAAAAAAAAAI/AAAAAAAABc8/mQdXmHo27Uc/s64/photo.jpg",
      "userId": "15239562036318860052"
     },
     "user_tz": 300
    },
    "id": "OOP3edhlA7yF",
    "outputId": "05308431-7119-49f4-b46e-e3d8e036cf53"
   },
   "outputs": [
    {
     "data": {
      "text/plain": [
       "0    Tours, Breweries, Pizza, Restaurants, Food, Ho...\n",
       "1    Chicken Wings, Burgers, Caterers, Street Vendo...\n",
       "2    Breakfast & Brunch, Restaurants, French, Sandw...\n",
       "3                        Insurance, Financial Services\n",
       "4    Home & Garden, Nurseries & Gardening, Shopping...\n",
       "Name: categories, dtype: object"
      ]
     },
     "execution_count": 26,
     "metadata": {},
     "output_type": "execute_result"
    }
   ],
   "source": [
    "b.categories.head()"
   ]
  },
  {
   "cell_type": "markdown",
   "metadata": {
    "colab_type": "text",
    "id": "H4SvC0y6A7yI"
   },
   "source": [
    "Splitting by comma works except for businesses that have a single category seprated by commas. \n",
    "\n",
    "- Books, Mags, Music & Video\n",
    "- Used, Vintage & Consignment\n",
    "- Beer, Wine & Spirits\n",
    "- Wills, Trusts, & Probates\n",
    "\n",
    "Since there is no syntatical difference beween single category containing comma and multiple categories separated by comma, i couln't find a regex expression to deal with this problem. Replacing manually is the remaining option."
   ]
  },
  {
   "cell_type": "code",
   "execution_count": 27,
   "metadata": {
    "colab": {},
    "colab_type": "code",
    "id": "OZZrpnrkA7yI"
   },
   "outputs": [],
   "source": [
    "b.loc[:, 'categories'] = b.categories.str.replace(\"Books, Mags, Music & Video\", \"Books+Mags+ & MusicVideo\")\n",
    "b.loc[:, 'categories'] = b.categories.str.replace(\"Used, Vintage & Consignment\", \"Used+Vintage+ & Consignment\")\n",
    "b.loc[:, 'categories'] = b.categories.str.replace(\"Beer, Wine & Spirits\", \"Beer+Wine & Spirits\")\n",
    "b.loc[:, 'categories'] = b.categories.str.replace(\"Wills, Trusts, & Probates\", \"Wills+Trusts+&Probates\")"
   ]
  },
  {
   "cell_type": "markdown",
   "metadata": {
    "colab_type": "text",
    "id": "RulnaFgbA7yN"
   },
   "source": [
    "One hot encoding is for single label categorical variables. For multiple labels Scikit-learn's MultiLabelBinarizer is the way to go. "
   ]
  },
  {
   "cell_type": "code",
   "execution_count": 28,
   "metadata": {
    "colab": {
     "base_uri": "https://localhost:8080/",
     "height": 432
    },
    "colab_type": "code",
    "executionInfo": {
     "elapsed": 202895,
     "status": "ok",
     "timestamp": 1550205542263,
     "user": {
      "displayName": "Tinsae Alemayehu",
      "photoUrl": "https://lh3.googleusercontent.com/-odlrIxb-v8U/AAAAAAAAAAI/AAAAAAAABc8/mQdXmHo27Uc/s64/photo.jpg",
      "userId": "15239562036318860052"
     },
     "user_tz": 300
    },
    "id": "Dsd7jkcHA7yO",
    "outputId": "7f77c857-7f92-4f26-96a7-996d5aa243d5"
   },
   "outputs": [
    {
     "data": {
      "text/html": [
       "<div>\n",
       "<style scoped>\n",
       "    .dataframe tbody tr th:only-of-type {\n",
       "        vertical-align: middle;\n",
       "    }\n",
       "\n",
       "    .dataframe tbody tr th {\n",
       "        vertical-align: top;\n",
       "    }\n",
       "\n",
       "    .dataframe thead th {\n",
       "        text-align: right;\n",
       "    }\n",
       "</style>\n",
       "<table border=\"1\" class=\"dataframe\">\n",
       "  <thead>\n",
       "    <tr style=\"text-align: right;\">\n",
       "      <th></th>\n",
       "      <th>3D Printing</th>\n",
       "      <th>ATV Rentals/Tours</th>\n",
       "      <th>Acai Bowls</th>\n",
       "      <th>Accessories</th>\n",
       "      <th>Accountants</th>\n",
       "      <th>Acne Treatment</th>\n",
       "      <th>Active Life</th>\n",
       "      <th>Acupuncture</th>\n",
       "      <th>Addiction Medicine</th>\n",
       "      <th>Adoption Services</th>\n",
       "      <th>...</th>\n",
       "      <th>Wine Tasting Room</th>\n",
       "      <th>Wine Tours</th>\n",
       "      <th>Wineries</th>\n",
       "      <th>Women's Clothing</th>\n",
       "      <th>Workers Compensation Law</th>\n",
       "      <th>Wraps</th>\n",
       "      <th>Yelp Events</th>\n",
       "      <th>Yoga</th>\n",
       "      <th>Ziplining</th>\n",
       "      <th>Zoos</th>\n",
       "    </tr>\n",
       "  </thead>\n",
       "  <tbody>\n",
       "    <tr>\n",
       "      <th>40016</th>\n",
       "      <td>0</td>\n",
       "      <td>0</td>\n",
       "      <td>0</td>\n",
       "      <td>0</td>\n",
       "      <td>0</td>\n",
       "      <td>0</td>\n",
       "      <td>0</td>\n",
       "      <td>0</td>\n",
       "      <td>0</td>\n",
       "      <td>0</td>\n",
       "      <td>...</td>\n",
       "      <td>0</td>\n",
       "      <td>0</td>\n",
       "      <td>0</td>\n",
       "      <td>0</td>\n",
       "      <td>0</td>\n",
       "      <td>0</td>\n",
       "      <td>0</td>\n",
       "      <td>0</td>\n",
       "      <td>0</td>\n",
       "      <td>0</td>\n",
       "    </tr>\n",
       "    <tr>\n",
       "      <th>51375</th>\n",
       "      <td>0</td>\n",
       "      <td>0</td>\n",
       "      <td>0</td>\n",
       "      <td>0</td>\n",
       "      <td>0</td>\n",
       "      <td>0</td>\n",
       "      <td>0</td>\n",
       "      <td>0</td>\n",
       "      <td>0</td>\n",
       "      <td>0</td>\n",
       "      <td>...</td>\n",
       "      <td>0</td>\n",
       "      <td>0</td>\n",
       "      <td>0</td>\n",
       "      <td>0</td>\n",
       "      <td>0</td>\n",
       "      <td>0</td>\n",
       "      <td>0</td>\n",
       "      <td>0</td>\n",
       "      <td>0</td>\n",
       "      <td>0</td>\n",
       "    </tr>\n",
       "    <tr>\n",
       "      <th>126224</th>\n",
       "      <td>0</td>\n",
       "      <td>0</td>\n",
       "      <td>0</td>\n",
       "      <td>0</td>\n",
       "      <td>0</td>\n",
       "      <td>0</td>\n",
       "      <td>0</td>\n",
       "      <td>0</td>\n",
       "      <td>0</td>\n",
       "      <td>0</td>\n",
       "      <td>...</td>\n",
       "      <td>0</td>\n",
       "      <td>0</td>\n",
       "      <td>0</td>\n",
       "      <td>0</td>\n",
       "      <td>0</td>\n",
       "      <td>0</td>\n",
       "      <td>0</td>\n",
       "      <td>0</td>\n",
       "      <td>0</td>\n",
       "      <td>0</td>\n",
       "    </tr>\n",
       "    <tr>\n",
       "      <th>4554</th>\n",
       "      <td>0</td>\n",
       "      <td>0</td>\n",
       "      <td>0</td>\n",
       "      <td>0</td>\n",
       "      <td>0</td>\n",
       "      <td>0</td>\n",
       "      <td>0</td>\n",
       "      <td>0</td>\n",
       "      <td>0</td>\n",
       "      <td>0</td>\n",
       "      <td>...</td>\n",
       "      <td>0</td>\n",
       "      <td>0</td>\n",
       "      <td>0</td>\n",
       "      <td>0</td>\n",
       "      <td>0</td>\n",
       "      <td>0</td>\n",
       "      <td>0</td>\n",
       "      <td>0</td>\n",
       "      <td>0</td>\n",
       "      <td>0</td>\n",
       "    </tr>\n",
       "    <tr>\n",
       "      <th>41540</th>\n",
       "      <td>0</td>\n",
       "      <td>0</td>\n",
       "      <td>0</td>\n",
       "      <td>0</td>\n",
       "      <td>0</td>\n",
       "      <td>0</td>\n",
       "      <td>0</td>\n",
       "      <td>0</td>\n",
       "      <td>0</td>\n",
       "      <td>0</td>\n",
       "      <td>...</td>\n",
       "      <td>0</td>\n",
       "      <td>0</td>\n",
       "      <td>0</td>\n",
       "      <td>0</td>\n",
       "      <td>0</td>\n",
       "      <td>0</td>\n",
       "      <td>0</td>\n",
       "      <td>0</td>\n",
       "      <td>0</td>\n",
       "      <td>0</td>\n",
       "    </tr>\n",
       "    <tr>\n",
       "      <th>164340</th>\n",
       "      <td>0</td>\n",
       "      <td>0</td>\n",
       "      <td>0</td>\n",
       "      <td>0</td>\n",
       "      <td>0</td>\n",
       "      <td>0</td>\n",
       "      <td>0</td>\n",
       "      <td>0</td>\n",
       "      <td>0</td>\n",
       "      <td>0</td>\n",
       "      <td>...</td>\n",
       "      <td>0</td>\n",
       "      <td>0</td>\n",
       "      <td>0</td>\n",
       "      <td>0</td>\n",
       "      <td>0</td>\n",
       "      <td>0</td>\n",
       "      <td>0</td>\n",
       "      <td>0</td>\n",
       "      <td>0</td>\n",
       "      <td>0</td>\n",
       "    </tr>\n",
       "    <tr>\n",
       "      <th>33586</th>\n",
       "      <td>0</td>\n",
       "      <td>0</td>\n",
       "      <td>0</td>\n",
       "      <td>0</td>\n",
       "      <td>0</td>\n",
       "      <td>0</td>\n",
       "      <td>0</td>\n",
       "      <td>0</td>\n",
       "      <td>0</td>\n",
       "      <td>0</td>\n",
       "      <td>...</td>\n",
       "      <td>0</td>\n",
       "      <td>0</td>\n",
       "      <td>0</td>\n",
       "      <td>0</td>\n",
       "      <td>0</td>\n",
       "      <td>0</td>\n",
       "      <td>0</td>\n",
       "      <td>0</td>\n",
       "      <td>0</td>\n",
       "      <td>0</td>\n",
       "    </tr>\n",
       "    <tr>\n",
       "      <th>40225</th>\n",
       "      <td>0</td>\n",
       "      <td>0</td>\n",
       "      <td>0</td>\n",
       "      <td>0</td>\n",
       "      <td>0</td>\n",
       "      <td>0</td>\n",
       "      <td>0</td>\n",
       "      <td>0</td>\n",
       "      <td>0</td>\n",
       "      <td>0</td>\n",
       "      <td>...</td>\n",
       "      <td>0</td>\n",
       "      <td>0</td>\n",
       "      <td>0</td>\n",
       "      <td>0</td>\n",
       "      <td>0</td>\n",
       "      <td>0</td>\n",
       "      <td>0</td>\n",
       "      <td>0</td>\n",
       "      <td>0</td>\n",
       "      <td>0</td>\n",
       "    </tr>\n",
       "    <tr>\n",
       "      <th>23310</th>\n",
       "      <td>0</td>\n",
       "      <td>0</td>\n",
       "      <td>0</td>\n",
       "      <td>0</td>\n",
       "      <td>0</td>\n",
       "      <td>0</td>\n",
       "      <td>0</td>\n",
       "      <td>0</td>\n",
       "      <td>0</td>\n",
       "      <td>0</td>\n",
       "      <td>...</td>\n",
       "      <td>0</td>\n",
       "      <td>0</td>\n",
       "      <td>0</td>\n",
       "      <td>0</td>\n",
       "      <td>0</td>\n",
       "      <td>0</td>\n",
       "      <td>0</td>\n",
       "      <td>0</td>\n",
       "      <td>0</td>\n",
       "      <td>0</td>\n",
       "    </tr>\n",
       "    <tr>\n",
       "      <th>67731</th>\n",
       "      <td>0</td>\n",
       "      <td>0</td>\n",
       "      <td>0</td>\n",
       "      <td>0</td>\n",
       "      <td>0</td>\n",
       "      <td>0</td>\n",
       "      <td>0</td>\n",
       "      <td>0</td>\n",
       "      <td>0</td>\n",
       "      <td>0</td>\n",
       "      <td>...</td>\n",
       "      <td>0</td>\n",
       "      <td>0</td>\n",
       "      <td>0</td>\n",
       "      <td>0</td>\n",
       "      <td>0</td>\n",
       "      <td>0</td>\n",
       "      <td>0</td>\n",
       "      <td>0</td>\n",
       "      <td>0</td>\n",
       "      <td>0</td>\n",
       "    </tr>\n",
       "  </tbody>\n",
       "</table>\n",
       "<p>10 rows × 1299 columns</p>\n",
       "</div>"
      ],
      "text/plain": [
       "        3D Printing  ATV Rentals/Tours  Acai Bowls  Accessories  Accountants  \\\n",
       "40016             0                  0           0            0            0   \n",
       "51375             0                  0           0            0            0   \n",
       "126224            0                  0           0            0            0   \n",
       "4554              0                  0           0            0            0   \n",
       "41540             0                  0           0            0            0   \n",
       "164340            0                  0           0            0            0   \n",
       "33586             0                  0           0            0            0   \n",
       "40225             0                  0           0            0            0   \n",
       "23310             0                  0           0            0            0   \n",
       "67731             0                  0           0            0            0   \n",
       "\n",
       "        Acne Treatment  Active Life  Acupuncture  Addiction Medicine  \\\n",
       "40016                0            0            0                   0   \n",
       "51375                0            0            0                   0   \n",
       "126224               0            0            0                   0   \n",
       "4554                 0            0            0                   0   \n",
       "41540                0            0            0                   0   \n",
       "164340               0            0            0                   0   \n",
       "33586                0            0            0                   0   \n",
       "40225                0            0            0                   0   \n",
       "23310                0            0            0                   0   \n",
       "67731                0            0            0                   0   \n",
       "\n",
       "        Adoption Services  ...   Wine Tasting Room  Wine Tours  Wineries  \\\n",
       "40016                   0  ...                   0           0         0   \n",
       "51375                   0  ...                   0           0         0   \n",
       "126224                  0  ...                   0           0         0   \n",
       "4554                    0  ...                   0           0         0   \n",
       "41540                   0  ...                   0           0         0   \n",
       "164340                  0  ...                   0           0         0   \n",
       "33586                   0  ...                   0           0         0   \n",
       "40225                   0  ...                   0           0         0   \n",
       "23310                   0  ...                   0           0         0   \n",
       "67731                   0  ...                   0           0         0   \n",
       "\n",
       "        Women's Clothing  Workers Compensation Law  Wraps  Yelp Events  Yoga  \\\n",
       "40016                  0                         0      0            0     0   \n",
       "51375                  0                         0      0            0     0   \n",
       "126224                 0                         0      0            0     0   \n",
       "4554                   0                         0      0            0     0   \n",
       "41540                  0                         0      0            0     0   \n",
       "164340                 0                         0      0            0     0   \n",
       "33586                  0                         0      0            0     0   \n",
       "40225                  0                         0      0            0     0   \n",
       "23310                  0                         0      0            0     0   \n",
       "67731                  0                         0      0            0     0   \n",
       "\n",
       "        Ziplining  Zoos  \n",
       "40016           0     0  \n",
       "51375           0     0  \n",
       "126224          0     0  \n",
       "4554            0     0  \n",
       "41540           0     0  \n",
       "164340          0     0  \n",
       "33586           0     0  \n",
       "40225           0     0  \n",
       "23310           0     0  \n",
       "67731           0     0  \n",
       "\n",
       "[10 rows x 1299 columns]"
      ]
     },
     "execution_count": 28,
     "metadata": {},
     "output_type": "execute_result"
    }
   ],
   "source": [
    "# split by comma\n",
    "categories_series = b.categories.apply(lambda x: x.split(\",\"))\n",
    "# a  lambda function to convert the following data structure\n",
    "# [list(['Tours', ' Breweries', ' Pizza', ' Restaurants', ' Food', ' Hotels & Travel'])\n",
    "# to \n",
    "# ['Tours', ' Breweries', ' Pizza', ' Restaurants', ' Food', ' Hotels & Travel']\n",
    "take_out_list = lambda x: list(x)\n",
    "# get 2D list\n",
    "categories_2D_list = take_out_list(categories_series)\n",
    "# remove leading and trailing white spaces\n",
    "for alist in categories_2D_list:\n",
    "    alist[:] = [category.strip() for category in alist]\n",
    "#print(categories_2D_list[:3])\n",
    "from sklearn.preprocessing import MultiLabelBinarizer\n",
    "mlb = MultiLabelBinarizer()\n",
    "categories_binarized = mlb.fit_transform(categories_2D_list)\n",
    "#print(categories_binarized.shape)\n",
    "#print(mlb.classes_.shape)\n",
    "# mlb.classes_ returns the unique categories found by the binarizer\n",
    "categories_binarized_df = pd.DataFrame(categories_binarized, columns=list(mlb.classes_))\n",
    "categories_binarized_df.sample(10)"
   ]
  },
  {
   "cell_type": "code",
   "execution_count": 29,
   "metadata": {
    "colab": {
     "base_uri": "https://localhost:8080/",
     "height": 54
    },
    "colab_type": "code",
    "executionInfo": {
     "elapsed": 200315,
     "status": "ok",
     "timestamp": 1550205542266,
     "user": {
      "displayName": "Tinsae Alemayehu",
      "photoUrl": "https://lh3.googleusercontent.com/-odlrIxb-v8U/AAAAAAAAAAI/AAAAAAAABc8/mQdXmHo27Uc/s64/photo.jpg",
      "userId": "15239562036318860052"
     },
     "user_tz": 300
    },
    "id": "hVQOMMpoA7yT",
    "outputId": "0e7789b2-43e0-42fe-c378-6cc07c1d8ca4"
   },
   "outputs": [
    {
     "data": {
      "text/plain": [
       "array(['3D Printing', 'ATV Rentals/Tours', 'Acai Bowls', ..., 'Yoga',\n",
       "       'Ziplining', 'Zoos'], dtype=object)"
      ]
     },
     "execution_count": 29,
     "metadata": {},
     "output_type": "execute_result"
    }
   ],
   "source": [
    "mlb.classes_"
   ]
  },
  {
   "cell_type": "markdown",
   "metadata": {
    "colab_type": "text",
    "id": "WvCx7XTNA7yb"
   },
   "source": [
    "### Top 20 Business Categories"
   ]
  },
  {
   "cell_type": "code",
   "execution_count": 30,
   "metadata": {
    "colab": {
     "base_uri": "https://localhost:8080/",
     "height": 484
    },
    "colab_type": "code",
    "executionInfo": {
     "elapsed": 3592,
     "status": "ok",
     "timestamp": 1550205553363,
     "user": {
      "displayName": "Tinsae Alemayehu",
      "photoUrl": "https://lh3.googleusercontent.com/-odlrIxb-v8U/AAAAAAAAAAI/AAAAAAAABc8/mQdXmHo27Uc/s64/photo.jpg",
      "userId": "15239562036318860052"
     },
     "user_tz": 300
    },
    "id": "Q4ig5c95A7yc",
    "outputId": "c13a19f5-3ff0-483b-d89a-d471e217d0b9"
   },
   "outputs": [
    {
     "data": {
      "image/png": "[encoded data removed]",
      "text/plain": [
       "<Figure size 792x576 with 1 Axes>"
      ]
     },
     "metadata": {},
     "output_type": "display_data"
    }
   ],
   "source": [
    "top_20_categories = categories_binarized_df.sum().sort_values(ascending=False)[:20]\n",
    "sns.set(rc={'figure.figsize':(11,8)})\n",
    "ax = sns.barplot(y=top_20_categories.index, x=top_20_categories.values, orient='h')\n",
    "sns.despine()"
   ]
  },
  {
   "cell_type": "markdown",
   "metadata": {
    "colab_type": "text",
    "id": "Ltc4AAuGA7ye"
   },
   "source": [
    "### Are these categories combined in groups of 3 or more?"
   ]
  },
  {
   "cell_type": "code",
   "execution_count": 31,
   "metadata": {
    "colab": {
     "base_uri": "https://localhost:8080/",
     "height": 54
    },
    "colab_type": "code",
    "executionInfo": {
     "elapsed": 1126,
     "status": "ok",
     "timestamp": 1550207074264,
     "user": {
      "displayName": "Tinsae Alemayehu",
      "photoUrl": "https://lh3.googleusercontent.com/-odlrIxb-v8U/AAAAAAAAAAI/AAAAAAAABc8/mQdXmHo27Uc/s64/photo.jpg",
      "userId": "15239562036318860052"
     },
     "user_tz": 300
    },
    "id": "fWWbwtFmA7yf",
    "outputId": "ecf88340-84c6-45f7-896a-83e01a7c724c"
   },
   "outputs": [
    {
     "name": "stdout",
     "output_type": "stream",
     "text": [
      "26718\n",
      "14.21 %\n"
     ]
    }
   ],
   "source": [
    "# find the number of total busineses\n",
    "total_business = categories_binarized_df.shape[0]\n",
    "combinations_of_top20 = categories_binarized_df[top_20_categories.index].apply(lambda x: list(x.index[np.where(x != 0)]), axis=1)\n",
    "# convert index to string to make it hashable\n",
    "import json\n",
    "# dumps converts list to string\n",
    "combinations_of_top20 = combinations_of_top20.map(json.dumps)\n",
    "value_counts_top20 = combinations_of_top20.value_counts()\n",
    "value_counts_top20\n",
    "count_g_2 = 0\n",
    "for c in value_counts_top20.index:\n",
    "    # count combinations of two or more categories\n",
    "    # loads converts back to list\n",
    "    if(len(json.loads(c)) > 2):\n",
    "        count_g_2 += value_counts_top20.loc[c]\n",
    "print(count_g_2)\n",
    "print(np.round((count_g_2/total_business) * 100, 2), \"%\")"
   ]
  },
  {
   "cell_type": "markdown",
   "metadata": {
    "colab_type": "text",
    "id": "-Xz_25hSA7yh"
   },
   "source": [
    "Only 14% of all businesses have combined categories from the top-20 categories. This indicates that most of these are top level categories encompassing many businesses."
   ]
  },
  {
   "cell_type": "code",
   "execution_count": 32,
   "metadata": {
    "colab": {
     "base_uri": "https://localhost:8080/",
     "height": 35
    },
    "colab_type": "code",
    "executionInfo": {
     "elapsed": 814,
     "status": "ok",
     "timestamp": 1550207156036,
     "user": {
      "displayName": "Tinsae Alemayehu",
      "photoUrl": "https://lh3.googleusercontent.com/-odlrIxb-v8U/AAAAAAAAAAI/AAAAAAAABc8/mQdXmHo27Uc/s64/photo.jpg",
      "userId": "15239562036318860052"
     },
     "user_tz": 300
    },
    "id": "EEBHZxcwA7yi",
    "outputId": "d86ee59e-1ca5-486f-8819-e9476e2823cd"
   },
   "outputs": [
    {
     "data": {
      "text/plain": [
       "188045"
      ]
     },
     "execution_count": 32,
     "metadata": {},
     "output_type": "execute_result"
    }
   ],
   "source": [
    "total_business"
   ]
  },
  {
   "cell_type": "markdown",
   "metadata": {},
   "source": [
    "There are 1888045 businesses in the dataset."
   ]
  },
  {
   "cell_type": "markdown",
   "metadata": {
    "colab_type": "text",
    "id": "9ZTRgbx8A7yk"
   },
   "source": [
    "### Which of these top business categories have higher closure?"
   ]
  },
  {
   "cell_type": "code",
   "execution_count": 33,
   "metadata": {
    "colab": {
     "base_uri": "https://localhost:8080/",
     "height": 126
    },
    "colab_type": "code",
    "executionInfo": {
     "elapsed": 838,
     "status": "ok",
     "timestamp": 1550207173023,
     "user": {
      "displayName": "Tinsae Alemayehu",
      "photoUrl": "https://lh3.googleusercontent.com/-odlrIxb-v8U/AAAAAAAAAAI/AAAAAAAABc8/mQdXmHo27Uc/s64/photo.jpg",
      "userId": "15239562036318860052"
     },
     "user_tz": 300
    },
    "id": "NlLeZ5bEA7yl",
    "outputId": "641b44b5-cf09-47be-b751-c7ddde49627a"
   },
   "outputs": [
    {
     "data": {
      "text/plain": [
       "Index(['Restaurants', 'Shopping', 'Food', 'Beauty & Spas', 'Home Services',\n",
       "       'Health & Medical', 'Local Services', 'Automotive', 'Nightlife', 'Bars',\n",
       "       'Event Planning & Services', 'Active Life', 'Fashion', 'Coffee & Tea',\n",
       "       'Sandwiches', 'Hair Salons', 'Fast Food', 'American (Traditional)',\n",
       "       'Pizza', 'Home & Garden'],\n",
       "      dtype='object')"
      ]
     },
     "execution_count": 33,
     "metadata": {},
     "output_type": "execute_result"
    }
   ],
   "source": [
    "top_20_categories.index"
   ]
  },
  {
   "cell_type": "code",
   "execution_count": 34,
   "metadata": {
    "colab": {
     "base_uri": "https://localhost:8080/",
     "height": 497
    },
    "colab_type": "code",
    "executionInfo": {
     "elapsed": 1162,
     "status": "ok",
     "timestamp": 1550207181986,
     "user": {
      "displayName": "Tinsae Alemayehu",
      "photoUrl": "https://lh3.googleusercontent.com/-odlrIxb-v8U/AAAAAAAAAAI/AAAAAAAABc8/mQdXmHo27Uc/s64/photo.jpg",
      "userId": "15239562036318860052"
     },
     "user_tz": 300
    },
    "id": "q4J9g6S1A7yn",
    "outputId": "0a7c26f6-e864-43d5-f9f8-113da0126a30"
   },
   "outputs": [
    {
     "data": {
      "image/png": "[encoded data removed]",
      "text/plain": [
       "<Figure size 576x576 with 1 Axes>"
      ]
     },
     "metadata": {},
     "output_type": "display_data"
    }
   ],
   "source": [
    "# concatenate is_open info to the binaried categories data\n",
    "open_close_df = pd.concat([categories_binarized_df[top_20_categories.index], b.is_open], axis=1)\n",
    "# find all open businesses\n",
    "open_df = open_close_df[open_close_df.is_open ==1]\n",
    "# find all closed businesses\n",
    "close_df = open_close_df[open_close_df.is_open ==0]\n",
    "# sum across columns to find number of open business in each column(category)\n",
    "open_close_count = (pd.concat([open_df.sum(), close_df.sum()], axis=1))\n",
    "# change the default column names\n",
    "open_close_count.columns = [\"Open\", \"Closed\"]\n",
    "#print(open_close_count)\n",
    "# divide the counts by the total businesses in each category\n",
    "open_close_count_normalized = open_close_count.div(open_df.sum() + close_df.sum(), axis=0).sort_values(by=\"Closed\", ascending=False)[:-2]\n",
    "sns.set(rc={'figure.figsize':(8,8)})\n",
    "ax = sns.pointplot(x=open_close_count_normalized.Closed, y=open_close_count_normalized.index, orient='h')\n",
    "sns.despine()"
   ]
  },
  {
   "cell_type": "markdown",
   "metadata": {
    "colab_type": "text",
    "id": "MQ1qgaqQA7yq"
   },
   "source": [
    "Those businesses that are at the end of the top 20 list are on the top on this graph and vice versa. Fast-food and Coffee/Tea have the highest closure rate though they are limited in number compared to the other businesses. Shopping centers and Health and Medical businesses are in large quantities but they are least likely to be closed."
   ]
  },
  {
   "cell_type": "markdown",
   "metadata": {
    "colab_type": "text",
    "id": "lJebPYYlA7yr"
   },
   "source": [
    "### Number of Reviews: Restaurants vs Shopping"
   ]
  },
  {
   "cell_type": "code",
   "execution_count": 35,
   "metadata": {
    "colab": {
     "base_uri": "https://localhost:8080/",
     "height": 1135
    },
    "colab_type": "code",
    "executionInfo": {
     "elapsed": 1041174,
     "status": "error",
     "timestamp": 1550209066535,
     "user": {
      "displayName": "Tinsae Alemayehu",
      "photoUrl": "https://lh3.googleusercontent.com/-odlrIxb-v8U/AAAAAAAAAAI/AAAAAAAABc8/mQdXmHo27Uc/s64/photo.jpg",
      "userId": "15239562036318860052"
     },
     "user_tz": 300
    },
    "id": "ypWei_GaA7yt",
    "outputId": "67039d7f-0144-47eb-cde8-0bee2455c2cc"
   },
   "outputs": [],
   "source": [
    "categories_binarized_df[\"business_id\"] = b.business_id.values\n",
    "categories_binarized_df[\"is_open\"] = b.is_open.values\n",
    "\n",
    "restaurants_df =  categories_binarized_df[categories_binarized_df.Restaurants == 1]\n",
    "shopping_df = categories_binarized_df[categories_binarized_df.Shopping == 1]\n",
    "\n",
    "total_reviews = 5996996\n",
    "\n",
    "# # the code below takes time. The results are saved to file and loaded in the next cell\n",
    "\n",
    "# csize = 1e6\n",
    "# review_reader = pd.read_json(\"yelp_academic_dataset_review.json\", lines=True, chunksize=csize)\n",
    "\n",
    "\n",
    "# num_restaurant_reviews = 0\n",
    "# num_shopping_reviews = 0\n",
    "# total_reviews = 0 \n",
    "# for i, r in enumerate(review_reader):\n",
    "#     total_reviews += r.shape[0]\n",
    "#     print(\"working on chunk \",i,\" shape =\", r.shape[0])\n",
    "#     # count number of restaurant reviews found in chunk r\n",
    "#     num_restaurant_reviews += pd.merge(restaurants_df, r, on=[\"business_id\"]).shape[0]\n",
    "#     # count number of shopping reviews found in chunk r\n",
    "#     num_shopping_reviews += pd.merge(shopping_df, r, on=[\"business_id\"]).shape[0]\n",
    "\n",
    "    \n",
    "# pickle.dump(num_restaurant_reviews, open(\"yelp-dataset/num_restaurant_reviews.sav\", 'wb'))\n",
    "# pickle.dump(num_shopping_reviews,open(\"yelp-dataset/num_shopping_reviews.sav\", 'wb'))"
   ]
  },
  {
   "cell_type": "code",
   "execution_count": 36,
   "metadata": {
    "colab": {},
    "colab_type": "code",
    "id": "PY71VNhGA7yw"
   },
   "outputs": [
    {
     "name": "stdout",
     "output_type": "stream",
     "text": [
      "Percent of Restaurant Businesses: 0.30\n",
      "Percent of Shopping Businesses: 0.16\n",
      "\n",
      "Percent of Restaurant Reviews: 0.61\n",
      "Percent of Shopping Reviews: 0.07\n"
     ]
    }
   ],
   "source": [
    "num_restaurant_reviews = pickle.load(open(\"yelp-dataset/num_restaurant_reviews.sav\", 'rb'))\n",
    "num_shopping_reviews = pickle.load(open(\"yelp-dataset/num_shopping_reviews.sav\", 'rb'))\n",
    "\n",
    "print(\"Percent of Restaurant Businesses: {:.2f}\".format(restaurants_df.shape[0] / total_business))\n",
    "print(\"Percent of Shopping Businesses: {:.2f}\".format(shopping_df.shape[0] / total_business))\n",
    "print()\n",
    "print(\"Percent of Restaurant Reviews: {:.2f}\".format(num_restaurant_reviews / total_reviews))\n",
    "print(\"Percent of Shopping Reviews: {:.2f}\".format(num_shopping_reviews / total_reviews))"
   ]
  },
  {
   "cell_type": "markdown",
   "metadata": {
    "colab_type": "text",
    "id": "NYVFKi6uA7y0"
   },
   "source": [
    "There are a lot of restaurants on Yelp. Second top are shopping businesses. When you see the number of reviews restaurants take more share than their number. Thus, restaurants are highly reviewed."
   ]
  },
  {
   "cell_type": "markdown",
   "metadata": {
    "colab_type": "text",
    "id": "jJlbAbs4A7y0"
   },
   "source": [
    "### Reviews by Year"
   ]
  },
  {
   "cell_type": "code",
   "execution_count": 37,
   "metadata": {
    "colab": {},
    "colab_type": "code",
    "id": "6_iKWU1dA7y1"
   },
   "outputs": [],
   "source": [
    "#The following code takes time. Saved data is loaded in the next cell\n",
    "\n",
    "# csize=1e6\n",
    "# review_reader = pd.read_json(\"yelp_academic_dataset_review.json\", lines=True, chunksize=csize)\n",
    "# total_reviews = 0 \n",
    "# restaurant_open_review_years = []\n",
    "# restaurant_closed_review_years = []\n",
    "# shopping_open_review_years = []\n",
    "# shopping_closed_review_years = []\n",
    "\n",
    "# for i, r in enumerate(review_reader):\n",
    "#     total_reviews += r.shape[0]\n",
    "#     print(\"working on chunk \",i,\" shape =\", r.shape[0])\n",
    "    \n",
    "#     restaurant_reviewsR = pd.merge(restaurants_df, r, on=[\"business_id\"])\n",
    "    \n",
    "#     restaurant_reviews_closed = restaurant_reviewsR[restaurant_reviewsR.is_open == 0]\n",
    "#     restaurant_reviews_open = restaurant_reviewsR[restaurant_reviewsR.is_open == 1]\n",
    "    \n",
    "    \n",
    "#     restaurant_closed_review_years.append(pd.to_datetime(restaurant_reviews_closed.date.dt.year).values)\n",
    "#     restaurant_open_review_years.append(pd.to_datetime(restaurant_reviews_open.date.dt.year).values)\n",
    " \n",
    "#     shopping_restaurantR= pd.merge(shopping_df, r, on=[\"business_id\"])\n",
    "    \n",
    "#     shopping_reviews_closed = shopping_restaurantR[shopping_restaurantR.is_open == 0]\n",
    "#     shopping_reviews_open = shopping_restaurantR[shopping_restaurantR.is_open == 1]\n",
    "    \n",
    "#     shopping_closed_review_years.append(pd.to_datetime(shopping_reviews_closed.date.dt.year).values)\n",
    "#     shopping_open_review_years.append(pd.to_datetime(shopping_reviews_open.date.dt.year).values)\n",
    "    \n",
    "# # save the lists to file\n",
    "# pickle.dump(restaurant_open_review_years, open(\"yelp-dataset/restaurant_open_review_years.sav\", 'wb'))\n",
    "# pickle.dump(restaurant_closed_review_years, open(\"yelp-dataset/restaurant_closed_review_years.sav\", 'wb'))\n",
    "# pickle.dump(shopping_open_review_years, open(\"yelp-dataset/shopping_open_review_years.sav\",'wb'))\n",
    "# pickle.dump(shopping_closed_review_years, open(\"yelp-dataset/shopping_closed_review_years.sav\", 'wb'))"
   ]
  },
  {
   "cell_type": "code",
   "execution_count": 38,
   "metadata": {
    "colab": {},
    "colab_type": "code",
    "id": "sFXeypMWA7y4"
   },
   "outputs": [],
   "source": [
    "# load lists from file\n",
    "restaurant_open_review_years = pickle.load(open(\"yelp-dataset/restaurant_open_review_years.sav\", 'rb'))\n",
    "restaurant_closed_review_years = pickle.load(open(\"yelp-dataset/restaurant_closed_review_years.sav\", 'rb'))\n",
    "shopping_open_review_years = pickle.load(open(\"yelp-dataset/shopping_open_review_years.sav\", 'rb'))\n",
    "shopping_closed_review_years = pickle.load(open(\"yelp-dataset/shopping_closed_review_years.sav\", 'rb'))\n",
    "\n",
    "restaurant_open_review_years = np.concatenate(restaurant_open_review_years).ravel()\n",
    "restaurant_closed_review_years = np.concatenate(restaurant_closed_review_years).ravel()\n",
    "shopping_open_review_years = np.concatenate(shopping_open_review_years).ravel()\n",
    "shopping_closed_review_years = np.concatenate(shopping_closed_review_years).ravel()"
   ]
  },
  {
   "cell_type": "code",
   "execution_count": 39,
   "metadata": {
    "colab": {},
    "colab_type": "code",
    "id": "SIHm_KA9A7y6",
    "outputId": "5dcdd2db-954a-47de-927e-30bce096f125"
   },
   "outputs": [
    {
     "data": {
      "image/png": "[encoded data removed]",
      "text/plain": [
       "<Figure size 1152x432 with 2 Axes>"
      ]
     },
     "metadata": {},
     "output_type": "display_data"
    }
   ],
   "source": [
    "fig, (ax1,ax2) = plt.subplots(2,1,figsize=(16,6), sharex= True, sharey=False)\n",
    "\n",
    "sns.set(rc={'figure.figsize':(4,4)})\n",
    "sns.distplot(restaurant_open_review_years.astype(int), kde=False, label=\"open\", ax=ax1)\n",
    "sns.distplot(restaurant_closed_review_years.astype(int), kde=False, label = \"closed\", ax=ax1)\n",
    "ax1.legend()\n",
    "ax1.set_ylabel(\"Count\")\n",
    "ax2.set_xlabel(\"Year\")\n",
    "ax1.set_title(\"Restaurants Review\")\n",
    "\n",
    "sns.distplot(shopping_open_review_years.astype(int), kde=False, label=\"open\", ax=ax2)\n",
    "sns.distplot(shopping_closed_review_years.astype(int), kde=False, label = \"closed\", ax=ax2)\n",
    "ax2.set_title(\"Shopping Review\")\n",
    "ax2.set_xlabel(\"Year\")\n",
    "ax1.set_ylabel(\"Count\")\n",
    "sns.despine()\n",
    "ax2.legend()\n",
    "plt.show()"
   ]
  },
  {
   "cell_type": "markdown",
   "metadata": {
    "colab_type": "text",
    "id": "pEeej8QOA7y8"
   },
   "source": [
    "The information on when a restaurant is closed is not provided by Yelp. We can only approximate the rate of closure based on the distrubiton of reviews. The graph shows that restaurants started recieving reviews on Yelp since 2004 and the reviews continued to increase. The year 2017 is the peak year for open restaurants. Many restaurants that were reviewed in 2014/15 are closed. We can not be sure whether they were closed in the same year or later."
   ]
  },
  {
   "cell_type": "markdown",
   "metadata": {
    "colab_type": "text",
    "id": "Vc5WxaMqA7y9"
   },
   "source": [
    "Many shopping businesses that were reviewed in 2014-15 are closed by now."
   ]
  },
  {
   "cell_type": "markdown",
   "metadata": {
    "colab_type": "text",
    "id": "hvC0uhzzA7y9"
   },
   "source": [
    "### Approxmating Restaurants Age"
   ]
  },
  {
   "cell_type": "code",
   "execution_count": 40,
   "metadata": {
    "colab": {},
    "colab_type": "code",
    "id": "9TwN7CRfA7y-"
   },
   "outputs": [],
   "source": [
    "#The following code takes 15 minutes. Saved data is loaded in the next cell\n",
    "\n",
    "# csize = 1e5\n",
    "# review_reader = pd.read_json(\"yelp_academic_dataset_review.json\", lines=True, chunksize=csize)\n",
    "# total_reviews = 0 \n",
    "# #restaurant_open_last_review_year = []\n",
    "# #hopping_open_last_review_year = \n",
    "# #hopping_closed_last_review_year = []\n",
    "# for i, r in enumerate(review_reader):\n",
    "#     with warnings.catch_warnings():\n",
    "#         warnings.simplefilter(\"ignore\")\n",
    "#         print(\"working on chunk \",i,\" shape =\", r.shape[0])\n",
    "\n",
    "#         restaurant_reviewsR = pd.merge(restaurants_df, r, on=[\"business_id\"])\n",
    "\n",
    "#         restaurant_reviewsR[\"review_year\"] = pd.to_datetime(restaurant_reviewsR.date.dt.year)\n",
    "\n",
    "#         if(i == 0):\n",
    "#             restaurants_open_year = restaurant_reviewsR[[\"business_id\", \"review_year\"]].groupby(\"business_id\")[\"review_year\"].min()\n",
    "#             restaurants_closed_year = restaurant_reviewsR[[\"business_id\", \"review_year\"]].groupby(\"business_id\")[\"review_year\"].max()\n",
    "\n",
    "#         else:\n",
    "#             restaurants_open_year = pd.concat([restaurants_open_year, restaurant_reviewsR[[\"business_id\", \"review_year\"]].groupby(\"business_id\")[\"review_year\"].min()])\n",
    "#             restaurants_closed_year = pd.concat([restaurants_closed_year, restaurant_reviewsR[[\"business_id\", \"review_year\"]].groupby(\"business_id\")[\"review_year\"].max()])\n",
    "\n",
    "# # save the dataframes to file\n",
    "# pickle.dump(restaurants_open_year, open(\"yelp-dataset/restaurants_open_year.sav\", 'wb'))\n",
    "# pickle.dump(restaurants_closed_year, open(\"yelp-dataset/restaurants_closed_year.sav\", 'wb'))"
   ]
  },
  {
   "cell_type": "code",
   "execution_count": 41,
   "metadata": {
    "colab": {},
    "colab_type": "code",
    "id": "rkOE8tS5A7zA",
    "outputId": "f8f92e74-709e-401d-f684-e2a5d0f913f4"
   },
   "outputs": [
    {
     "data": {
      "text/html": [
       "<div>\n",
       "<style scoped>\n",
       "    .dataframe tbody tr th:only-of-type {\n",
       "        vertical-align: middle;\n",
       "    }\n",
       "\n",
       "    .dataframe tbody tr th {\n",
       "        vertical-align: top;\n",
       "    }\n",
       "\n",
       "    .dataframe thead th {\n",
       "        text-align: right;\n",
       "    }\n",
       "</style>\n",
       "<table border=\"1\" class=\"dataframe\">\n",
       "  <thead>\n",
       "    <tr style=\"text-align: right;\">\n",
       "      <th></th>\n",
       "      <th>business_id</th>\n",
       "      <th>latitude</th>\n",
       "      <th>longitude</th>\n",
       "      <th>stars</th>\n",
       "      <th>review_count</th>\n",
       "      <th>is_open</th>\n",
       "      <th>earliest_review_year</th>\n",
       "      <th>most_recent_review_year</th>\n",
       "    </tr>\n",
       "  </thead>\n",
       "  <tbody>\n",
       "    <tr>\n",
       "      <th>0</th>\n",
       "      <td>Apn5Q_b6Nz61Tq4XzPdf9A</td>\n",
       "      <td>51.091813</td>\n",
       "      <td>-114.031675</td>\n",
       "      <td>4.0</td>\n",
       "      <td>24</td>\n",
       "      <td>1</td>\n",
       "      <td>1970-01-01 00:00:00.000002013</td>\n",
       "      <td>1970-01-01 00:00:00.000002018</td>\n",
       "    </tr>\n",
       "    <tr>\n",
       "      <th>1</th>\n",
       "      <td>AjEbIBw6ZFfln7ePHha9PA</td>\n",
       "      <td>35.960734</td>\n",
       "      <td>-114.939821</td>\n",
       "      <td>4.5</td>\n",
       "      <td>3</td>\n",
       "      <td>0</td>\n",
       "      <td>1970-01-01 00:00:00.000002017</td>\n",
       "      <td>1970-01-01 00:00:00.000002017</td>\n",
       "    </tr>\n",
       "    <tr>\n",
       "      <th>2</th>\n",
       "      <td>O8S5hYJ1SMc8fA4QBtVujA</td>\n",
       "      <td>45.540503</td>\n",
       "      <td>-73.599300</td>\n",
       "      <td>4.0</td>\n",
       "      <td>5</td>\n",
       "      <td>0</td>\n",
       "      <td>1970-01-01 00:00:00.000002014</td>\n",
       "      <td>1970-01-01 00:00:00.000002016</td>\n",
       "    </tr>\n",
       "    <tr>\n",
       "      <th>3</th>\n",
       "      <td>6OuOZAok8ikONMS_T3EzXg</td>\n",
       "      <td>43.712946</td>\n",
       "      <td>-79.632763</td>\n",
       "      <td>2.0</td>\n",
       "      <td>7</td>\n",
       "      <td>1</td>\n",
       "      <td>1970-01-01 00:00:00.000002012</td>\n",
       "      <td>1970-01-01 00:00:00.000002014</td>\n",
       "    </tr>\n",
       "    <tr>\n",
       "      <th>4</th>\n",
       "      <td>8-NRKkPY1UiFXW20WXKiXg</td>\n",
       "      <td>33.448106</td>\n",
       "      <td>-112.341302</td>\n",
       "      <td>2.5</td>\n",
       "      <td>40</td>\n",
       "      <td>1</td>\n",
       "      <td>1970-01-01 00:00:00.000002008</td>\n",
       "      <td>1970-01-01 00:00:00.000002018</td>\n",
       "    </tr>\n",
       "  </tbody>\n",
       "</table>\n",
       "</div>"
      ],
      "text/plain": [
       "              business_id   latitude   longitude  stars  review_count  \\\n",
       "0  Apn5Q_b6Nz61Tq4XzPdf9A  51.091813 -114.031675    4.0            24   \n",
       "1  AjEbIBw6ZFfln7ePHha9PA  35.960734 -114.939821    4.5             3   \n",
       "2  O8S5hYJ1SMc8fA4QBtVujA  45.540503  -73.599300    4.0             5   \n",
       "3  6OuOZAok8ikONMS_T3EzXg  43.712946  -79.632763    2.0             7   \n",
       "4  8-NRKkPY1UiFXW20WXKiXg  33.448106 -112.341302    2.5            40   \n",
       "\n",
       "   is_open          earliest_review_year       most_recent_review_year  \n",
       "0        1 1970-01-01 00:00:00.000002013 1970-01-01 00:00:00.000002018  \n",
       "1        0 1970-01-01 00:00:00.000002017 1970-01-01 00:00:00.000002017  \n",
       "2        0 1970-01-01 00:00:00.000002014 1970-01-01 00:00:00.000002016  \n",
       "3        1 1970-01-01 00:00:00.000002012 1970-01-01 00:00:00.000002014  \n",
       "4        1 1970-01-01 00:00:00.000002008 1970-01-01 00:00:00.000002018  "
      ]
     },
     "execution_count": 41,
     "metadata": {},
     "output_type": "execute_result"
    }
   ],
   "source": [
    "# open and close in the file names refer to earliest review year and most recent review years\n",
    "# it is a naming mistake made when dumping the objects\n",
    "earliest_review_year_all = pickle.load(open(\"yelp-dataset/restaurants_open_year.sav\", 'rb'))\n",
    "most_recent_review_year_all = pickle.load(open(\"yelp-dataset/restaurants_closed_year.sav\", 'rb'))\n",
    "\n",
    "earliest_review_year = earliest_review_year_all.groupby(\"business_id\").min()\n",
    "most_recent_review_year = most_recent_review_year_all.groupby(\"business_id\").max()\n",
    "\n",
    "restaurants_dates = pd.concat([earliest_review_year, most_recent_review_year], axis=1)\n",
    "restaurants_dates.columns = [\"earliest_review_year\", \"most_recent_review_year\"]\n",
    "# filter required attributes\n",
    "restaurants_only = pd.merge(b[[\"business_id\", \"latitude\", \"longitude\", \"stars\",\"review_count\", \"is_open\"]], \n",
    "                            restaurants_dates, on=\"business_id\")\n",
    "restaurants_only.head()"
   ]
  },
  {
   "cell_type": "code",
   "execution_count": 42,
   "metadata": {
    "colab": {},
    "colab_type": "code",
    "id": "FnsFEOSPA7zF",
    "outputId": "65c89816-90aa-467d-9665-38100321dadc"
   },
   "outputs": [
    {
     "data": {
      "image/png": "[encoded data removed]",
      "text/plain": [
       "<Figure size 864x576 with 2 Axes>"
      ]
     },
     "metadata": {},
     "output_type": "display_data"
    }
   ],
   "source": [
    "fig, (ax1,ax2) = plt.subplots(2,1,figsize=(12,8), sharex=True)\n",
    "fig.subplots_adjust(hspace = 0.4, wspace = 0.4)\n",
    "\n",
    "sns.set(rc={'figure.figsize':(4,4)})\n",
    "\n",
    "open_earliest_years = restaurants_only[restaurants_only.is_open == True].earliest_review_year.values.astype(int)\n",
    "open_most_recent_years = restaurants_only[restaurants_only.is_open == True].most_recent_review_year.values.astype(int)\n",
    "closed_earliest_years = restaurants_only[restaurants_only.is_open == False].earliest_review_year.values.astype(int)\n",
    "closed_most_recent_years = restaurants_only[restaurants_only.is_open == False].most_recent_review_year.values.astype(int)\n",
    "\n",
    "\n",
    "sns.distplot(open_earliest_years, kde=False, label=\"newly opened\", ax=ax1)\n",
    "sns.distplot(open_most_recent_years, kde=False, label = \"most recent\", ax=ax1)\n",
    "\n",
    "sns.distplot(closed_earliest_years, kde=False, label=\"newly opened\", ax=ax2)\n",
    "sns.distplot(closed_most_recent_years, kde=False, label = \"out of business\", ax=ax2)\n",
    "\n",
    "ax1.set_title(\"Open Restaurants\")\n",
    "ax2.set_title(\"Closed Restaurants\")\n",
    "\n",
    "ax1.legend(loc=\"upper left\")\n",
    "ax2.legend(loc=\"upper left\")\n",
    "ax1.set_ylabel(\"Count\")\n",
    "ax2.set_ylabel(\"Count\")\n",
    "\n",
    "ax2.set_xlabel(\"Year\")\n",
    "plt.suptitle(\"Review Year\")\n",
    "sns.despine()"
   ]
  },
  {
   "cell_type": "markdown",
   "metadata": {
    "colab_type": "text",
    "id": "2sGlws-RA7zK"
   },
   "source": [
    "We are approximating the earliest year as the opening year of a restaurant. For currently closed restaurants, the most recent year is approximated as the out of business year.\n",
    "\n",
    "Looking at the upper graph; almost all currently open restaurants were reviewed within the last 2 years. The distriubtion of earliest review year is left skewed. Since 2010 similar number of restaurants were opened\n",
    "\n",
    "Looking at the bottom graph; number of newly opened restaurants is normally distributed for closed restaurants. Many restaurants that were opened in 2010 are closed by now. Restaurants that are recently opened are not closed by now. This indicates that new restaurants are not very likely to be closed and it takes some years. The difference betwen number new restaurants(red) and closed restaurants(blue) kept on increasing until 2013 and then it decreases.\n",
    "\n",
    "They are many contributing factors that are outside the scope of this analysis."
   ]
  },
  {
   "cell_type": "code",
   "execution_count": 43,
   "metadata": {
    "colab": {},
    "colab_type": "code",
    "id": "T6fi0iMlA7zL",
    "outputId": "098e1106-60e2-4525-8f7f-37fc8cd9e4f2"
   },
   "outputs": [
    {
     "data": {
      "text/plain": [
       "57173"
      ]
     },
     "execution_count": 43,
     "metadata": {},
     "output_type": "execute_result"
    }
   ],
   "source": [
    "len(set(restaurants_only.business_id))"
   ]
  },
  {
   "cell_type": "markdown",
   "metadata": {},
   "source": [
    "There are 57173 restaurants on Yelp"
   ]
  },
  {
   "cell_type": "markdown",
   "metadata": {
    "colab_type": "text",
    "id": "oHHh9htAA7zP"
   },
   "source": [
    "### Create Age Feature"
   ]
  },
  {
   "cell_type": "code",
   "execution_count": 44,
   "metadata": {
    "colab": {},
    "colab_type": "code",
    "id": "2hegbC1BA7zR",
    "outputId": "fab2599a-c065-40f6-c774-b6a9962d43ad"
   },
   "outputs": [
    {
     "data": {
      "text/plain": [
       "count    57173.000000\n",
       "mean         5.993266\n",
       "std          3.145764\n",
       "min          0.000000\n",
       "25%          3.000000\n",
       "50%          6.000000\n",
       "75%          8.000000\n",
       "max         14.000000\n",
       "Name: age, dtype: float64"
      ]
     },
     "execution_count": 44,
     "metadata": {},
     "output_type": "execute_result"
    }
   ],
   "source": [
    "# subtract earliest review year from 2018\n",
    "restaurants_only[\"age\"] = 2018 - restaurants_only.earliest_review_year.values.astype(int)\n",
    "# select features\n",
    "restaurants_only = restaurants_only[['business_id', 'latitude', 'longitude', 'stars', 'review_count','age', 'is_open']]\n",
    "restaurants_only.age.describe()"
   ]
  },
  {
   "cell_type": "markdown",
   "metadata": {},
   "source": [
    "The maximum age is only 14 years because Yelp started in 2004"
   ]
  },
  {
   "cell_type": "markdown",
   "metadata": {
    "colab_type": "text",
    "id": "YzpNBcbtA7zW"
   },
   "source": [
    "### Class Imbalance: Restaurants"
   ]
  },
  {
   "cell_type": "code",
   "execution_count": 45,
   "metadata": {
    "colab": {},
    "colab_type": "code",
    "id": "3Pa3Fb46A7zX",
    "outputId": "940d9fa7-68ac-4984-c42a-c9d322b98788"
   },
   "outputs": [
    {
     "data": {
      "image/png": "[encoded data removed]",
      "text/plain": [
       "<Figure size 576x432 with 1 Axes>"
      ]
     },
     "metadata": {},
     "output_type": "display_data"
    }
   ],
   "source": [
    "sns.set(rc={'figure.figsize':(8,6)})\n",
    "sns.countplot(restaurants_only.is_open)\n",
    "plt.title(\"Imbalanced Classes\")\n",
    "plt.xticks([0,1], (\"Closed\", \"Open\"))\n",
    "plt.xlabel(\"Class\")\n",
    "plt.ylabel(\"Frequency\")\n",
    "sns.despine()\n",
    "plt.show()"
   ]
  },
  {
   "cell_type": "code",
   "execution_count": 46,
   "metadata": {},
   "outputs": [
    {
     "data": {
      "text/plain": [
       "1    0.723104\n",
       "0    0.276896\n",
       "Name: is_open, dtype: float64"
      ]
     },
     "execution_count": 46,
     "metadata": {},
     "output_type": "execute_result"
    }
   ],
   "source": [
    "pd.value_counts(restaurants_only.is_open)/restaurants_only.shape[0]"
   ]
  },
  {
   "cell_type": "markdown",
   "metadata": {},
   "source": [
    "Open and Closed Restaurants are not as imbalanced as they are for all busineses. Out of all businesses 83% of them are open but among all restaurants 72% of them are open."
   ]
  },
  {
   "cell_type": "code",
   "execution_count": 47,
   "metadata": {
    "colab": {},
    "colab_type": "code",
    "id": "UtrCRMTRA7zb",
    "outputId": "47d55d43-ed10-42c1-b43d-b4f4eafcf4a6"
   },
   "outputs": [
    {
     "data": {
      "text/html": [
       "<div>\n",
       "<style scoped>\n",
       "    .dataframe tbody tr th:only-of-type {\n",
       "        vertical-align: middle;\n",
       "    }\n",
       "\n",
       "    .dataframe tbody tr th {\n",
       "        vertical-align: top;\n",
       "    }\n",
       "\n",
       "    .dataframe thead th {\n",
       "        text-align: right;\n",
       "    }\n",
       "</style>\n",
       "<table border=\"1\" class=\"dataframe\">\n",
       "  <thead>\n",
       "    <tr style=\"text-align: right;\">\n",
       "      <th></th>\n",
       "      <th>business_id</th>\n",
       "      <th>latitude</th>\n",
       "      <th>longitude</th>\n",
       "      <th>stars</th>\n",
       "      <th>review_count</th>\n",
       "      <th>age</th>\n",
       "      <th>is_open</th>\n",
       "    </tr>\n",
       "  </thead>\n",
       "  <tbody>\n",
       "    <tr>\n",
       "      <th>0</th>\n",
       "      <td>Apn5Q_b6Nz61Tq4XzPdf9A</td>\n",
       "      <td>51.091813</td>\n",
       "      <td>-114.031675</td>\n",
       "      <td>4.0</td>\n",
       "      <td>24</td>\n",
       "      <td>5</td>\n",
       "      <td>1</td>\n",
       "    </tr>\n",
       "    <tr>\n",
       "      <th>1</th>\n",
       "      <td>AjEbIBw6ZFfln7ePHha9PA</td>\n",
       "      <td>35.960734</td>\n",
       "      <td>-114.939821</td>\n",
       "      <td>4.5</td>\n",
       "      <td>3</td>\n",
       "      <td>1</td>\n",
       "      <td>0</td>\n",
       "    </tr>\n",
       "    <tr>\n",
       "      <th>2</th>\n",
       "      <td>O8S5hYJ1SMc8fA4QBtVujA</td>\n",
       "      <td>45.540503</td>\n",
       "      <td>-73.599300</td>\n",
       "      <td>4.0</td>\n",
       "      <td>5</td>\n",
       "      <td>4</td>\n",
       "      <td>0</td>\n",
       "    </tr>\n",
       "    <tr>\n",
       "      <th>3</th>\n",
       "      <td>6OuOZAok8ikONMS_T3EzXg</td>\n",
       "      <td>43.712946</td>\n",
       "      <td>-79.632763</td>\n",
       "      <td>2.0</td>\n",
       "      <td>7</td>\n",
       "      <td>6</td>\n",
       "      <td>1</td>\n",
       "    </tr>\n",
       "    <tr>\n",
       "      <th>4</th>\n",
       "      <td>8-NRKkPY1UiFXW20WXKiXg</td>\n",
       "      <td>33.448106</td>\n",
       "      <td>-112.341302</td>\n",
       "      <td>2.5</td>\n",
       "      <td>40</td>\n",
       "      <td>10</td>\n",
       "      <td>1</td>\n",
       "    </tr>\n",
       "  </tbody>\n",
       "</table>\n",
       "</div>"
      ],
      "text/plain": [
       "              business_id   latitude   longitude  stars  review_count  age  \\\n",
       "0  Apn5Q_b6Nz61Tq4XzPdf9A  51.091813 -114.031675    4.0            24    5   \n",
       "1  AjEbIBw6ZFfln7ePHha9PA  35.960734 -114.939821    4.5             3    1   \n",
       "2  O8S5hYJ1SMc8fA4QBtVujA  45.540503  -73.599300    4.0             5    4   \n",
       "3  6OuOZAok8ikONMS_T3EzXg  43.712946  -79.632763    2.0             7    6   \n",
       "4  8-NRKkPY1UiFXW20WXKiXg  33.448106 -112.341302    2.5            40   10   \n",
       "\n",
       "   is_open  \n",
       "0        1  \n",
       "1        0  \n",
       "2        0  \n",
       "3        1  \n",
       "4        1  "
      ]
     },
     "execution_count": 47,
     "metadata": {},
     "output_type": "execute_result"
    }
   ],
   "source": [
    "restaurants_only.head()"
   ]
  },
  {
   "cell_type": "markdown",
   "metadata": {
    "colab_type": "text",
    "id": "Ek6YdY_CA7zf"
   },
   "source": [
    "### Outliers"
   ]
  },
  {
   "cell_type": "code",
   "execution_count": 48,
   "metadata": {
    "colab": {},
    "colab_type": "code",
    "id": "urd1-SlxA7zg",
    "outputId": "9a6be44e-3044-4c6e-cade-87953f37807f"
   },
   "outputs": [
    {
     "data": {
      "image/png": "[encoded data removed]",
      "text/plain": [
       "<Figure size 576x432 with 2 Axes>"
      ]
     },
     "metadata": {},
     "output_type": "display_data"
    }
   ],
   "source": [
    "fig, (ax1,ax2) = plt.subplots(1,2,figsize=(8,6), sharey=True)\n",
    "# making spaces between subplots\n",
    "#fig.subplots_adjust(hspace = 0.2, wspace = 0.2)\n",
    "ax1.set_xlabel(\"Num of Reviews\")\n",
    "ax2.set_xlabel(\"Num of Reviews\")\n",
    "ax1.set_ylabel(\"Count\")\n",
    "ax2.set_ylabel(\"Count\")\n",
    "sns.kdeplot(restaurants_only.review_count.sort_values(), ax=ax1)\n",
    "sns.kdeplot(restaurants_only.review_count.sort_values(), ax=ax2)\n",
    "ax2.set_xlim(0, 2000)\n",
    "plt.show()"
   ]
  },
  {
   "cell_type": "code",
   "execution_count": 49,
   "metadata": {
    "colab": {},
    "colab_type": "code",
    "id": "XSpWAEYIA7zj",
    "outputId": "32180d5c-815c-4704-bb3a-3a9fe27719ad"
   },
   "outputs": [
    {
     "data": {
      "image/png": "[encoded data removed]",
      "text/plain": [
       "<Figure size 576x432 with 1 Axes>"
      ]
     },
     "metadata": {},
     "output_type": "display_data"
    }
   ],
   "source": [
    "sns.boxplot(restaurants_only.review_count.sort_values())\n",
    "plt.show()"
   ]
  },
  {
   "cell_type": "code",
   "execution_count": 50,
   "metadata": {
    "colab": {},
    "colab_type": "code",
    "id": "EjmdKIkoA7zl",
    "outputId": "3bbc13b9-a32b-4b87-ba82-db3bc2c0e041"
   },
   "outputs": [
    {
     "name": "stdout",
     "output_type": "stream",
     "text": [
      "Number of restaurants:  57173\n",
      "Number of outliers:  786\n"
     ]
    }
   ],
   "source": [
    "from scipy import stats\n",
    "z = np.abs(stats.zscore(restaurants_only.review_count))\n",
    "threshold = 3\n",
    "outlier_businesses = list(np.where(z > 3)[0])\n",
    "print(\"Number of restaurants: \", restaurants_only.shape[0])\n",
    "print(\"Number of outliers: \", len(outlier_businesses))"
   ]
  },
  {
   "cell_type": "markdown",
   "metadata": {},
   "source": [
    "Removing 786 businesses will not harm because there is plenty of data."
   ]
  },
  {
   "cell_type": "code",
   "execution_count": 51,
   "metadata": {
    "colab": {},
    "colab_type": "code",
    "id": "_tPp1nEtA7zp",
    "outputId": "9e670d07-e1d3-4e59-e6c1-7e0bd1d441f7"
   },
   "outputs": [
    {
     "data": {
      "text/html": [
       "<div>\n",
       "<style scoped>\n",
       "    .dataframe tbody tr th:only-of-type {\n",
       "        vertical-align: middle;\n",
       "    }\n",
       "\n",
       "    .dataframe tbody tr th {\n",
       "        vertical-align: top;\n",
       "    }\n",
       "\n",
       "    .dataframe thead th {\n",
       "        text-align: right;\n",
       "    }\n",
       "</style>\n",
       "<table border=\"1\" class=\"dataframe\">\n",
       "  <thead>\n",
       "    <tr style=\"text-align: right;\">\n",
       "      <th></th>\n",
       "      <th>name</th>\n",
       "      <th>state</th>\n",
       "      <th>review_count</th>\n",
       "      <th>address</th>\n",
       "    </tr>\n",
       "  </thead>\n",
       "  <tbody>\n",
       "    <tr>\n",
       "      <th>183</th>\n",
       "      <td>Marché Bacchus</td>\n",
       "      <td>NV</td>\n",
       "      <td>682</td>\n",
       "      <td>2620 Regatta Dr, Ste 106</td>\n",
       "    </tr>\n",
       "    <tr>\n",
       "      <th>318</th>\n",
       "      <td>La Grande Orange Pizzeria</td>\n",
       "      <td>AZ</td>\n",
       "      <td>785</td>\n",
       "      <td>4410 N 40th St</td>\n",
       "    </tr>\n",
       "    <tr>\n",
       "      <th>638</th>\n",
       "      <td>Hussong's Cantina Las Vegas</td>\n",
       "      <td>NV</td>\n",
       "      <td>692</td>\n",
       "      <td>3930 S Las Vegas Blvd, Ste 121B</td>\n",
       "    </tr>\n",
       "    <tr>\n",
       "      <th>462</th>\n",
       "      <td>The Coffee Cup</td>\n",
       "      <td>NV</td>\n",
       "      <td>576</td>\n",
       "      <td>512 Nevada Hwy</td>\n",
       "    </tr>\n",
       "    <tr>\n",
       "      <th>546</th>\n",
       "      <td>Olives</td>\n",
       "      <td>NV</td>\n",
       "      <td>1768</td>\n",
       "      <td>3600 S Las Vegas Blvd</td>\n",
       "    </tr>\n",
       "    <tr>\n",
       "      <th>375</th>\n",
       "      <td>North Italia</td>\n",
       "      <td>AZ</td>\n",
       "      <td>658</td>\n",
       "      <td>North Arcadia, 4925 N 40th St</td>\n",
       "    </tr>\n",
       "    <tr>\n",
       "      <th>196</th>\n",
       "      <td>The Westin Las Vegas Hotel &amp; Spa</td>\n",
       "      <td>NV</td>\n",
       "      <td>626</td>\n",
       "      <td>160 East Flamingo Rd</td>\n",
       "    </tr>\n",
       "    <tr>\n",
       "      <th>263</th>\n",
       "      <td>Palace Station Hotel &amp; Casino</td>\n",
       "      <td>NV</td>\n",
       "      <td>719</td>\n",
       "      <td>2411 W Sahara Ave</td>\n",
       "    </tr>\n",
       "    <tr>\n",
       "      <th>354</th>\n",
       "      <td>Angels Trumpet Ale House</td>\n",
       "      <td>AZ</td>\n",
       "      <td>1023</td>\n",
       "      <td>810 N 2nd St</td>\n",
       "    </tr>\n",
       "    <tr>\n",
       "      <th>521</th>\n",
       "      <td>Egg Works</td>\n",
       "      <td>NV</td>\n",
       "      <td>920</td>\n",
       "      <td>6960 S Rainbow Blvd</td>\n",
       "    </tr>\n",
       "  </tbody>\n",
       "</table>\n",
       "</div>"
      ],
      "text/plain": [
       "                                 name state  review_count  \\\n",
       "183                    Marché Bacchus    NV           682   \n",
       "318         La Grande Orange Pizzeria    AZ           785   \n",
       "638       Hussong's Cantina Las Vegas    NV           692   \n",
       "462                    The Coffee Cup    NV           576   \n",
       "546                            Olives    NV          1768   \n",
       "375                      North Italia    AZ           658   \n",
       "196  The Westin Las Vegas Hotel & Spa    NV           626   \n",
       "263     Palace Station Hotel & Casino    NV           719   \n",
       "354          Angels Trumpet Ale House    AZ          1023   \n",
       "521                         Egg Works    NV           920   \n",
       "\n",
       "                             address  \n",
       "183         2620 Regatta Dr, Ste 106  \n",
       "318                   4410 N 40th St  \n",
       "638  3930 S Las Vegas Blvd, Ste 121B  \n",
       "462                   512 Nevada Hwy  \n",
       "546            3600 S Las Vegas Blvd  \n",
       "375    North Arcadia, 4925 N 40th St  \n",
       "196             160 East Flamingo Rd  \n",
       "263                2411 W Sahara Ave  \n",
       "354                     810 N 2nd St  \n",
       "521              6960 S Rainbow Blvd  "
      ]
     },
     "execution_count": 51,
     "metadata": {},
     "output_type": "execute_result"
    }
   ],
   "source": [
    "business_ids = restaurants_only.iloc[outlier_businesses, 0].to_frame()\n",
    "pd.merge(business_ids, b, on=[\"business_id\"])[[\"name\", \"state\", \"review_count\", \"address\"]].sample(10)"
   ]
  },
  {
   "cell_type": "markdown",
   "metadata": {},
   "source": [
    "These must be very popular places because they are highly reviewed. They may create problems during text processing because a lot of words will be used in their reviews. "
   ]
  },
  {
   "cell_type": "code",
   "execution_count": 52,
   "metadata": {
    "colab": {},
    "colab_type": "code",
    "id": "OodIPlHwA7zr",
    "outputId": "78d6ad72-27ad-4ca8-9854-7b5dacdeefe6"
   },
   "outputs": [
    {
     "data": {
      "text/plain": [
       "(57173, 7)"
      ]
     },
     "execution_count": 52,
     "metadata": {},
     "output_type": "execute_result"
    }
   ],
   "source": [
    "# check shape of dataframe before removal\n",
    "restaurants_only.shape"
   ]
  },
  {
   "cell_type": "code",
   "execution_count": 53,
   "metadata": {
    "colab": {},
    "colab_type": "code",
    "id": "FgnGjYJHA7zt"
   },
   "outputs": [],
   "source": [
    "# remove outlier businesses\n",
    "restaurants_only = restaurants_only.drop(outlier_businesses)"
   ]
  },
  {
   "cell_type": "code",
   "execution_count": 54,
   "metadata": {
    "colab": {},
    "colab_type": "code",
    "id": "mKMKErP1A7zw",
    "outputId": "5601f9df-7b2e-45b5-cfca-1e617464a27c"
   },
   "outputs": [
    {
     "data": {
      "text/plain": [
       "(56387, 7)"
      ]
     },
     "execution_count": 54,
     "metadata": {},
     "output_type": "execute_result"
    }
   ],
   "source": [
    "# check shape again\n",
    "restaurants_only.shape"
   ]
  },
  {
   "cell_type": "code",
   "execution_count": 55,
   "metadata": {},
   "outputs": [],
   "source": [
    "# !python -m spacy download en\n",
    "# import nltk\n",
    "# nltk.download('punkt')\n",
    "# nltk.download('averaged_perceptron_tagger')\n",
    "# nltk.download('wordnet')"
   ]
  },
  {
   "cell_type": "markdown",
   "metadata": {
    "colab_type": "text",
    "id": "NR-ZmvjXA7z2"
   },
   "source": [
    "## Working on Yelp Reviews Data"
   ]
  },
  {
   "cell_type": "code",
   "execution_count": 56,
   "metadata": {},
   "outputs": [],
   "source": [
    "# import spacy\n",
    "# nlp = spacy.load(\"en\", disable=['parser', 'ner'])\n",
    "# doc = nlp(\"She was dancing and walking in the garden. Flowers and plants are refreshing. I have a flower factory\")\n",
    "# for token in doc:\n",
    "#     print(token.lemma_)"
   ]
  },
  {
   "cell_type": "code",
   "execution_count": 57,
   "metadata": {},
   "outputs": [],
   "source": [
    "# using spacy lemmatizer as a class\n",
    "#from spacy.lemmatizer import Lemmatizer\n",
    "#from spacy.lang.en import LEMMA_INDEX, LEMMA_EXC, LEMMA_RULES\n",
    "#lemmatizer = Lemmatizer(LEMMA_INDEX, LEMMA_EXC, LEMMA_RULES)\n",
    "#print(nltk.pos_tag([\"traumatizing\"]))\n",
    "#print(lemmatizer(\"hers\", \"P\"))\n",
    "\n",
    "# nltk classes used for tokenization and lemmatization\n",
    "#from nltk import word_tokenize\n",
    "#from nltk.stem import WordNetLemmatizer "
   ]
  },
  {
   "cell_type": "markdown",
   "metadata": {},
   "source": [
    "### Custom Tokenizer-Lemmatizer"
   ]
  },
  {
   "cell_type": "markdown",
   "metadata": {},
   "source": [
    "Scikit-learn's vectorizers don't convert words into their base form by default. The custom lemmatizer/tokenizer is passed as tokenizer for CountVectorizer and TfIdfVectorizer Objects.\n",
    "\n",
    "I tried to use NLTK's word_tokenize and WordNetLemmatizer. NLTK methods work on a specified part of speech, the default is noun. It is not flexible to work for multiple part of speech. \n",
    "\n",
    "Spacy is very flexible. When a spacy object is created, it will automatically know the part of speech of all tokens in the given document. It converts words into their base form depending on their POS tag. The only problem with spacy is its speed. Creating a spacy document involves tagging, parsing and named entity recognition. I disabled the steps that I don't need which increased its speed."
   ]
  },
  {
   "cell_type": "code",
   "execution_count": 58,
   "metadata": {
    "colab": {},
    "colab_type": "code",
    "id": "-Rrc33y1A7z2"
   },
   "outputs": [],
   "source": [
    "import spacy\n",
    "nlp = spacy.load(\"en\", disable=['parser', 'ner'])\n",
    "# Use custom tokenizer and lemmatizer\n",
    "def lemmatizer_tokenize(a_review):\n",
    "    # remove extra space and new line\n",
    "    a_review = ' '.join(a_review.split())\n",
    "    a_review = nlp(a_review)\n",
    "    words = [token.lemma_ for token in a_review\n",
    "                if (\n",
    "                    not token.is_digit and\n",
    "                    not token.is_punct and \n",
    "                    not token.is_stop and \n",
    "                    token.lemma_ != \"-PRON-\"\n",
    "                )\n",
    "            ]\n",
    "    return words"
   ]
  },
  {
   "cell_type": "code",
   "execution_count": 59,
   "metadata": {},
   "outputs": [
    {
     "data": {
      "text/plain": [
       "['dancing',\n",
       " 'entertain',\n",
       " 'people',\n",
       " 'the',\n",
       " 'girl',\n",
       " 'dance',\n",
       " 'shooter',\n",
       " 'enter',\n",
       " 'club']"
      ]
     },
     "execution_count": 59,
     "metadata": {},
     "output_type": "execute_result"
    }
   ],
   "source": [
    "# testing lemmatizer\n",
    "lemmatizer_tokenize(\"Dancing entertains people. The girl was dancing when the shooters entered the club\")"
   ]
  },
  {
   "cell_type": "markdown",
   "metadata": {},
   "source": [
    "The first \"Dancing\" is  a noun. The second \"dancing\" is a verb. Spacy only converted the verb to its base form. Shooters is a noun, converted to shooter. \"Entered\" is a verb, converted to enter."
   ]
  },
  {
   "cell_type": "code",
   "execution_count": 60,
   "metadata": {
    "colab": {},
    "colab_type": "code",
    "id": "aq8DaGc6A7z3",
    "outputId": "b67db19b-3b25-4e8a-89fe-16f8f315329e",
    "scrolled": true
   },
   "outputs": [
    {
     "data": {
      "text/html": [
       "<div>\n",
       "<style scoped>\n",
       "    .dataframe tbody tr th:only-of-type {\n",
       "        vertical-align: middle;\n",
       "    }\n",
       "\n",
       "    .dataframe tbody tr th {\n",
       "        vertical-align: top;\n",
       "    }\n",
       "\n",
       "    .dataframe thead th {\n",
       "        text-align: right;\n",
       "    }\n",
       "</style>\n",
       "<table border=\"1\" class=\"dataframe\">\n",
       "  <thead>\n",
       "    <tr style=\"text-align: right;\">\n",
       "      <th></th>\n",
       "      <th>business_id</th>\n",
       "      <th>latitude</th>\n",
       "      <th>longitude</th>\n",
       "      <th>stars</th>\n",
       "      <th>review_count</th>\n",
       "      <th>age</th>\n",
       "      <th>is_open</th>\n",
       "    </tr>\n",
       "  </thead>\n",
       "  <tbody>\n",
       "    <tr>\n",
       "      <th>0</th>\n",
       "      <td>Apn5Q_b6Nz61Tq4XzPdf9A</td>\n",
       "      <td>51.091813</td>\n",
       "      <td>-114.031675</td>\n",
       "      <td>4.0</td>\n",
       "      <td>24</td>\n",
       "      <td>5</td>\n",
       "      <td>1</td>\n",
       "    </tr>\n",
       "    <tr>\n",
       "      <th>1</th>\n",
       "      <td>AjEbIBw6ZFfln7ePHha9PA</td>\n",
       "      <td>35.960734</td>\n",
       "      <td>-114.939821</td>\n",
       "      <td>4.5</td>\n",
       "      <td>3</td>\n",
       "      <td>1</td>\n",
       "      <td>0</td>\n",
       "    </tr>\n",
       "    <tr>\n",
       "      <th>2</th>\n",
       "      <td>O8S5hYJ1SMc8fA4QBtVujA</td>\n",
       "      <td>45.540503</td>\n",
       "      <td>-73.599300</td>\n",
       "      <td>4.0</td>\n",
       "      <td>5</td>\n",
       "      <td>4</td>\n",
       "      <td>0</td>\n",
       "    </tr>\n",
       "    <tr>\n",
       "      <th>3</th>\n",
       "      <td>6OuOZAok8ikONMS_T3EzXg</td>\n",
       "      <td>43.712946</td>\n",
       "      <td>-79.632763</td>\n",
       "      <td>2.0</td>\n",
       "      <td>7</td>\n",
       "      <td>6</td>\n",
       "      <td>1</td>\n",
       "    </tr>\n",
       "    <tr>\n",
       "      <th>4</th>\n",
       "      <td>8-NRKkPY1UiFXW20WXKiXg</td>\n",
       "      <td>33.448106</td>\n",
       "      <td>-112.341302</td>\n",
       "      <td>2.5</td>\n",
       "      <td>40</td>\n",
       "      <td>10</td>\n",
       "      <td>1</td>\n",
       "    </tr>\n",
       "  </tbody>\n",
       "</table>\n",
       "</div>"
      ],
      "text/plain": [
       "              business_id   latitude   longitude  stars  review_count  age  \\\n",
       "0  Apn5Q_b6Nz61Tq4XzPdf9A  51.091813 -114.031675    4.0            24    5   \n",
       "1  AjEbIBw6ZFfln7ePHha9PA  35.960734 -114.939821    4.5             3    1   \n",
       "2  O8S5hYJ1SMc8fA4QBtVujA  45.540503  -73.599300    4.0             5    4   \n",
       "3  6OuOZAok8ikONMS_T3EzXg  43.712946  -79.632763    2.0             7    6   \n",
       "4  8-NRKkPY1UiFXW20WXKiXg  33.448106 -112.341302    2.5            40   10   \n",
       "\n",
       "   is_open  \n",
       "0        1  \n",
       "1        0  \n",
       "2        0  \n",
       "3        1  \n",
       "4        1  "
      ]
     },
     "execution_count": 60,
     "metadata": {},
     "output_type": "execute_result"
    }
   ],
   "source": [
    "restaurants_only.head()"
   ]
  },
  {
   "cell_type": "code",
   "execution_count": 61,
   "metadata": {
    "colab": {},
    "colab_type": "code",
    "id": "CcP6pSi3A7z5"
   },
   "outputs": [],
   "source": [
    "# #tokenizer pattern and replace practice\n",
    "# myvect1 = CountVectorizer(stop_words = 'english')\n",
    "# myvect2 = CountVectorizer(stop_words = 'english')\n",
    "\n",
    "# somelist = pd.Series([\"Tinse is great ጥሩ ˈdäNG person\", \"Ethiopia is my country!\", \"15Brown fox\", \"Quick\", \"13 it is nice\"])\n",
    "# somelist2 = pd.Series([\"Tinse is great ጥሩ\",  \"däNG person\", \"fox\"])\n",
    "\n",
    "# somelist = somelist.str.replace(r'(?u)[^\\w\\s]+|[\\d]+', '')\n",
    "# somelist2 = somelist2.str.replace(r'(?u)[^\\w\\s]+|[\\d]+', '')\n",
    "# #print(somelist)\n",
    "# transformed1 = myvect1.fit(somelist)\n",
    "# transformed2 = myvect2.fit(somelist2)\n",
    "\n",
    "# #print(myvect.vocabulary_)\n",
    "# myvect1.get_feature_names()\n",
    "# myvect2.get_feature_names()\n",
    "# the_vocabulary = set(sorted(myvect1.get_feature_names() + myvect2.get_feature_names()))\n",
    "# myvectx = TfidfVectorizer(vocabulary=the_vocabulary)\n",
    "# myvectx.vocabulary\n",
    "# sparse.csr_matrix([1,2,3,0])"
   ]
  },
  {
   "cell_type": "markdown",
   "metadata": {},
   "source": [
    "### 1. Simple TF-IDF Features"
   ]
  },
  {
   "cell_type": "markdown",
   "metadata": {},
   "source": [
    "#### Train/Test Split"
   ]
  },
  {
   "cell_type": "code",
   "execution_count": 125,
   "metadata": {},
   "outputs": [
    {
     "name": "stdout",
     "output_type": "stream",
     "text": [
      "(45109, 7)\n"
     ]
    },
    {
     "data": {
      "text/html": [
       "<div>\n",
       "<style scoped>\n",
       "    .dataframe tbody tr th:only-of-type {\n",
       "        vertical-align: middle;\n",
       "    }\n",
       "\n",
       "    .dataframe tbody tr th {\n",
       "        vertical-align: top;\n",
       "    }\n",
       "\n",
       "    .dataframe thead th {\n",
       "        text-align: right;\n",
       "    }\n",
       "</style>\n",
       "<table border=\"1\" class=\"dataframe\">\n",
       "  <thead>\n",
       "    <tr style=\"text-align: right;\">\n",
       "      <th></th>\n",
       "      <th>business_id</th>\n",
       "      <th>latitude</th>\n",
       "      <th>longitude</th>\n",
       "      <th>stars</th>\n",
       "      <th>review_count</th>\n",
       "      <th>age</th>\n",
       "      <th>is_closed</th>\n",
       "    </tr>\n",
       "  </thead>\n",
       "  <tbody>\n",
       "    <tr>\n",
       "      <th>0</th>\n",
       "      <td>rGJt5LSMUuaMufNuXcyb_A</td>\n",
       "      <td>43.678838</td>\n",
       "      <td>-79.720137</td>\n",
       "      <td>3.0</td>\n",
       "      <td>17</td>\n",
       "      <td>9</td>\n",
       "      <td>0</td>\n",
       "    </tr>\n",
       "    <tr>\n",
       "      <th>1</th>\n",
       "      <td>G5gkRgTMqN0iIpyoW6oTYg</td>\n",
       "      <td>43.657790</td>\n",
       "      <td>-79.487801</td>\n",
       "      <td>3.5</td>\n",
       "      <td>9</td>\n",
       "      <td>3</td>\n",
       "      <td>1</td>\n",
       "    </tr>\n",
       "    <tr>\n",
       "      <th>2</th>\n",
       "      <td>Qg4Ou9YwqXf10zxQGrw0sA</td>\n",
       "      <td>43.774523</td>\n",
       "      <td>-79.177464</td>\n",
       "      <td>3.5</td>\n",
       "      <td>11</td>\n",
       "      <td>6</td>\n",
       "      <td>1</td>\n",
       "    </tr>\n",
       "    <tr>\n",
       "      <th>3</th>\n",
       "      <td>soqpbgQt0v4BrEOwV03FkQ</td>\n",
       "      <td>33.334549</td>\n",
       "      <td>-111.804860</td>\n",
       "      <td>3.5</td>\n",
       "      <td>22</td>\n",
       "      <td>7</td>\n",
       "      <td>1</td>\n",
       "    </tr>\n",
       "    <tr>\n",
       "      <th>4</th>\n",
       "      <td>UPoM5nmUiklwqBV5pLuK7Q</td>\n",
       "      <td>33.421371</td>\n",
       "      <td>-111.893141</td>\n",
       "      <td>3.5</td>\n",
       "      <td>6</td>\n",
       "      <td>11</td>\n",
       "      <td>0</td>\n",
       "    </tr>\n",
       "  </tbody>\n",
       "</table>\n",
       "</div>"
      ],
      "text/plain": [
       "              business_id   latitude   longitude  stars  review_count  age  \\\n",
       "0  rGJt5LSMUuaMufNuXcyb_A  43.678838  -79.720137    3.0            17    9   \n",
       "1  G5gkRgTMqN0iIpyoW6oTYg  43.657790  -79.487801    3.5             9    3   \n",
       "2  Qg4Ou9YwqXf10zxQGrw0sA  43.774523  -79.177464    3.5            11    6   \n",
       "3  soqpbgQt0v4BrEOwV03FkQ  33.334549 -111.804860    3.5            22    7   \n",
       "4  UPoM5nmUiklwqBV5pLuK7Q  33.421371 -111.893141    3.5             6   11   \n",
       "\n",
       "   is_closed  \n",
       "0          0  \n",
       "1          1  \n",
       "2          1  \n",
       "3          1  \n",
       "4          0  "
      ]
     },
     "execution_count": 125,
     "metadata": {},
     "output_type": "execute_result"
    }
   ],
   "source": [
    "X = restaurants_only.drop(\"is_open\", axis=1)\n",
    "# # change is_open to is_closed\n",
    "y = np.where(restaurants_only[\"is_open\"] == 0 , 1, 0)\n",
    "# stratified sampling\n",
    "X_train, X_test, y_train, y_test = train_test_split(X, y, test_size=0.2, random_state=20, shuffle=True, stratify=y)\n",
    "X_train = X_train.reset_index(drop=True)\n",
    "X_test = X_test.reset_index(drop=True)\n",
    "# combine x and y to ease feature engineering\n",
    "# shallow copy\n",
    "train = X_train.copy(deep=True)\n",
    "train[\"is_closed\"] = y_train\n",
    "test = X_test.copy(deep=True)\n",
    "# shallow copy\n",
    "test[\"is_closed\"] = y_test\n",
    "print(train.shape)\n",
    "train.head()"
   ]
  },
  {
   "cell_type": "markdown",
   "metadata": {},
   "source": [
    "### Train-set"
   ]
  },
  {
   "cell_type": "code",
   "execution_count": 126,
   "metadata": {},
   "outputs": [
    {
     "name": "stdout",
     "output_type": "stream",
     "text": [
      "working on chunk  2  shape = 1000000\n",
      "shape of dense matrix:  (380760, 15)\n",
      "shape of sparse matrix:(tfidf)  (380760, 15)\n",
      "2013.4731860160828\n"
     ]
    }
   ],
   "source": [
    "# #Takes a lot of time. Saved models are loaded in the next cells\n",
    "# import time\n",
    "# from sklearn.feature_extraction.text import TfidfVectorizer\n",
    "# csize=1e6\n",
    "# start_time = time.time()\n",
    "# review_reader = pd.read_json(\"yelp_academic_dataset_review.json\", lines=True, chunksize=csize)\n",
    "# from scipy import sparse\n",
    "# for i, r in enumerate(review_reader):\n",
    "#     # work on chunk2 only to save time\n",
    "#     if(i < 2):\n",
    "#         continue\n",
    "#     if(i > 2):\n",
    "#         break\n",
    "#     print(\"working on chunk \",i,\" shape =\", r.shape[0])\n",
    "#     tfidf_train_reviews = pd.merge(train, r, on=[\"business_id\"])\n",
    "#     # save dense matrix to file\n",
    "#     tfidf_train_reviews.to_csv(\"yelp-dataset/tfidf_train_reviews\"+ str(i) + \".csv\")\n",
    "#     # tokens containing numbers, digits and underscore are ignored\n",
    "#     tfidf_vectorizer_train = TfidfVectorizer(stop_words='english', min_df=0.001, tokenizer=lemmatizer_tokenize)  \n",
    "#     # remove punctuation and numbers\n",
    "#     tfidf_train_reviews.text = tfidf_train_reviews.text.str.replace(r'[^\\w\\s]+|[\\d]+', '')\n",
    "#     tfidf_features_train = tfidf_vectorizer_train.fit_transform(tfidf_train_reviews.text)\n",
    "#     # save vectorizer\n",
    "#     pickle.dump(tfidf_vectorizer_train, open(\"yelp-dataset/tfidf_vectorizer_train\"+ str(i) +\".sav\", 'wb'))\n",
    "        \n",
    "#     # save sparse matrix to file\n",
    "#     sparse.save_npz(\"yelp-dataset/tfidf_features_train\"+ str(i) + \".npz\", tfidf_features_train)\n",
    "   \n",
    "#     print(\"shape of dense matrix: \", tfidf_train_reviews.shape)\n",
    "#     print(\"shape of sparse matrix:(tfidf) \", tfidf_train_reviews.shape)\n",
    "# print(time.time() - start_time)"
   ]
  },
  {
   "cell_type": "markdown",
   "metadata": {},
   "source": [
    "#### Load the Vectors"
   ]
  },
  {
   "cell_type": "code",
   "execution_count": 157,
   "metadata": {},
   "outputs": [],
   "source": [
    "i = 2\n",
    "tfidf_features_train = sparse.load_npz(\"yelp-dataset/tfidf_features_train\" + str(i) + \".npz\")\n",
    "tfidf_vectorizer_train = pickle.load(open(\"yelp-dataset/tfidf_vectorizer_train\"+ str(i) + \".sav\", 'rb'))\n",
    "tfidf_train_reviews = pd.read_csv(\"yelp-dataset/tfidf_train_reviews\" + str(i) + \".csv\", index_col=0)\n",
    "# get the indices of reviews for each business id\n",
    "reviews_indices_dict_tfidf_train = tfidf_train_reviews.business_id.groupby(tfidf_train_reviews.business_id).groups"
   ]
  },
  {
   "cell_type": "markdown",
   "metadata": {},
   "source": [
    "#### Average Words Per Business"
   ]
  },
  {
   "cell_type": "code",
   "execution_count": 158,
   "metadata": {},
   "outputs": [
    {
     "name": "stdout",
     "output_type": "stream",
     "text": [
      "creating row:  0\n",
      "creating row:  10000\n",
      "creating row:  20000\n",
      "creating row:  30000\n",
      "35.50138974189758\n"
     ]
    }
   ],
   "source": [
    "import time\n",
    "start_time = time.time()\n",
    "num_of_sparse_features = len(tfidf_vectorizer_train.vocabulary_)\n",
    "# k goes over the business ids\n",
    "# i counts\n",
    "the_sparse_matrices_tf_idf_train = []\n",
    "\n",
    "for i, k in enumerate(reviews_indices_dict_tfidf_train.keys()):\n",
    "    if( i % 10000 == 0):\n",
    "        print(\"creating row: \", i)\n",
    "    # convert to list: row indices for the reviews of k\n",
    "    indices_for_sparse_matrix = list(reviews_indices_dict_tfidf_train[k])\n",
    "    # find means column-wise\n",
    "    means_sparse = tfidf_features_train[indices_for_sparse_matrix, :].mean(axis=0).tolist()[0]\n",
    "    the_sparse_matrices_tf_idf_train.append(means_sparse)\n",
    "pickle.dump(the_sparse_matrices_tf_idf_train, open(\"yelp-dataset/the_sparse_matrices_tf_idf_train.sav\", \"wb\"))    \n",
    "print(time.time() - start_time)"
   ]
  },
  {
   "cell_type": "markdown",
   "metadata": {},
   "source": [
    "#### Prepare X and Y"
   ]
  },
  {
   "cell_type": "code",
   "execution_count": 159,
   "metadata": {},
   "outputs": [
    {
     "data": {
      "text/plain": [
       "<37998x3224 sparse matrix of type '<class 'numpy.float64'>'\n",
       "\twith 7496217 stored elements in Compressed Sparse Row format>"
      ]
     },
     "execution_count": 159,
     "metadata": {},
     "output_type": "execute_result"
    }
   ],
   "source": [
    "tf_idf_aggregate_train = sparse.csr_matrix(the_sparse_matrices_tf_idf_train)\n",
    "# selected features\n",
    "tfidf_train_reviews = tfidf_train_reviews[['business_id', 'stars_x', 'review_count', 'latitude','longitude','age', 'is_closed']]\n",
    "# remove duplicates\n",
    "tfidf_train_reviews.drop_duplicates(inplace=True)\n",
    "# sort by business id\n",
    "tfidf_train_reviews = tfidf_train_reviews.sort_values(by = \"business_id\").reset_index(drop=True)\n",
    "# remove business id and move is_closed to the front\n",
    "tfidf_train_reviews = tfidf_train_reviews[['is_closed', 'stars_x', 'review_count', 'latitude','longitude','age']]\n",
    "# merge sparse and dense features\n",
    "tf_idf_train_final = hstack((tfidf_train_reviews , tf_idf_aggregate_train)).tocsr()\n",
    "tf_idf_train_final"
   ]
  },
  {
   "cell_type": "code",
   "execution_count": 161,
   "metadata": {},
   "outputs": [
    {
     "data": {
      "image/png": "[encoded data removed]",
      "text/plain": [
       "<Figure size 576x432 with 1 Axes>"
      ]
     },
     "metadata": {},
     "output_type": "display_data"
    },
    {
     "name": "stdout",
     "output_type": "stream",
     "text": [
      "0    9903\n",
      "1    9903\n",
      "dtype: int64\n"
     ]
    }
   ],
   "source": [
    "X_train = tf_idf_aggregate_train[:,1:]\n",
    "y_train = tfidf_train_reviews.is_closed\n",
    "\n",
    "from imblearn.under_sampling import RandomUnderSampler\n",
    "rus = RandomUnderSampler(random_state=0)\n",
    "X_train_tf_idf, y_train_tf_idf = rus.fit_sample(X_train, y_train)\n",
    "count_classes = pd.value_counts(y_train_tf_idf.flatten(), sort=True).sort_index()\n",
    "count_classes.plot(kind = 'bar')\n",
    "plt.title(\"Balanced Classes\")\n",
    "plt.xlabel(\"Class\")\n",
    "plt.ylabel(\"Frequency\")\n",
    "plt.show()\n",
    "print(count_classes)"
   ]
  },
  {
   "cell_type": "markdown",
   "metadata": {},
   "source": [
    "### Test-set"
   ]
  },
  {
   "cell_type": "code",
   "execution_count": 171,
   "metadata": {},
   "outputs": [],
   "source": [
    "# #Takes a lot of time. Saved models are loaded in the next cells\n",
    "# import time\n",
    "# from sklearn.feature_extraction.text import TfidfVectorizer\n",
    "# csize=1e6\n",
    "# start_time = time.time()\n",
    "# review_reader = pd.read_json(\"yelp_academic_dataset_review.json\", lines=True, chunksize=csize)\n",
    "# from scipy import sparse\n",
    "# for i, r in enumerate(review_reader):\n",
    "#     # work on chunk2 only to save time\n",
    "#     if(i < 2):\n",
    "#         continue\n",
    "#     if(i > 2):\n",
    "#         break\n",
    "#     print(\"working on chunk \",i,\" shape =\", r.shape[0])\n",
    "#     tfidf_test_reviews = pd.merge(test, r, on=[\"business_id\"])\n",
    "#     # save dense matrix to file\n",
    "#     tfidf_test_reviews.to_csv(\"yelp-dataset/tfidf_test_reviews\"+ str(i) + \".csv\")\n",
    "#     # tokens containing numbers, digits and underscore are ignored\n",
    "#     # remove punctuation and numbers\n",
    "#     tfidf_test_reviews.text = tfidf_test_reviews.text.str.replace(r'[^\\w\\s]+|[\\d]+', '')\n",
    "#     # use train vectorizer\n",
    "#     tfidf_features_test = tfidf_vectorizer_train.transform(tfidf_test_reviews.text)\n",
    "        \n",
    "#     # save sparse matrix to file\n",
    "#     sparse.save_npz(\"yelp-dataset/tfidf_features_test\"+ str(i) + \".npz\", tfidf_features_test)\n",
    "   \n",
    "#     print(\"shape of dense matrix: \", tfidf_features_test.shape)\n",
    "#     print(\"shape of sparse matrix:(tfidf) \", tfidf_test_reviews.shape)\n",
    "# print(time.time() - start_time)"
   ]
  },
  {
   "cell_type": "markdown",
   "metadata": {},
   "source": [
    "#### Load the Vectors"
   ]
  },
  {
   "cell_type": "code",
   "execution_count": 172,
   "metadata": {},
   "outputs": [],
   "source": [
    "i = 2\n",
    "tfidf_features_test = sparse.load_npz(\"yelp-dataset/tfidf_features_test\" + str(i) + \".npz\")\n",
    "tfidf_test_reviews = pd.read_csv(\"yelp-dataset/tfidf_test_reviews\" + str(i) + \".csv\", index_col=0)\n",
    "# get the indices of reviews for each business id\n",
    "reviews_indices_dict_tfidf_test = tfidf_test_reviews.business_id.groupby(tfidf_test_reviews.business_id).groups"
   ]
  },
  {
   "cell_type": "markdown",
   "metadata": {},
   "source": [
    "#### Average words per Business"
   ]
  },
  {
   "cell_type": "code",
   "execution_count": 173,
   "metadata": {},
   "outputs": [
    {
     "name": "stdout",
     "output_type": "stream",
     "text": [
      "creating row:  0\n",
      "7.791294574737549\n"
     ]
    }
   ],
   "source": [
    "import time\n",
    "start_time = time.time()\n",
    "num_of_sparse_features = len(tfidf_vectorizer_train.vocabulary_)\n",
    "# k goes over the business ids\n",
    "# i counts\n",
    "the_sparse_matrices_tf_idf_test = []\n",
    "\n",
    "for i, k in enumerate(reviews_indices_dict_tfidf_test.keys()):\n",
    "    if( i % 10000 == 0):\n",
    "        print(\"creating row: \", i)\n",
    "    # convert to list: row indices for the reviews of k\n",
    "    indices_for_sparse_matrix = list(reviews_indices_dict_tfidf_test[k])\n",
    "    # find means column-wise\n",
    "    means_sparse = tfidf_features_test[indices_for_sparse_matrix, :].mean(axis=0).tolist()[0]\n",
    "    the_sparse_matrices_tf_idf_test.append(means_sparse)\n",
    "pickle.dump(the_sparse_matrices_tf_idf_test, open(\"yelp-dataset/the_sparse_matrices_tf_idf_test.sav\", \"wb\"))    \n",
    "print(time.time() - start_time)"
   ]
  },
  {
   "cell_type": "markdown",
   "metadata": {},
   "source": [
    "#### Prepare X and y"
   ]
  },
  {
   "cell_type": "code",
   "execution_count": 174,
   "metadata": {},
   "outputs": [
    {
     "data": {
      "text/plain": [
       "<9492x3224 sparse matrix of type '<class 'numpy.float64'>'\n",
       "\twith 1879499 stored elements in Compressed Sparse Row format>"
      ]
     },
     "execution_count": 174,
     "metadata": {},
     "output_type": "execute_result"
    }
   ],
   "source": [
    "tf_idf_aggregate_test = sparse.csr_matrix(the_sparse_matrices_tf_idf_test)\n",
    "# selected features\n",
    "tfidf_test_reviews = tfidf_test_reviews[['business_id', 'stars_x', 'review_count', 'latitude','longitude','age', 'is_closed']]\n",
    "# remove duplicates\n",
    "tfidf_test_reviews.drop_duplicates(inplace=True)\n",
    "# sort by business id\n",
    "tfidf_test_reviews = tfidf_test_reviews.sort_values(by = \"business_id\").reset_index(drop=True)\n",
    "# remove business id and move is_closed to the front\n",
    "tfidf_test_reviews = tfidf_test_reviews[['is_closed', 'stars_x', 'review_count', 'latitude','longitude','age']]\n",
    "# merge sparse and dense features\n",
    "tf_idf_test_final = hstack((tfidf_test_reviews , tf_idf_aggregate_test)).tocsr()\n",
    "tf_idf_test_final"
   ]
  },
  {
   "cell_type": "code",
   "execution_count": 175,
   "metadata": {},
   "outputs": [
    {
     "data": {
      "image/png": "[encoded data removed]",
      "text/plain": [
       "<Figure size 576x432 with 1 Axes>"
      ]
     },
     "metadata": {},
     "output_type": "display_data"
    },
    {
     "name": "stdout",
     "output_type": "stream",
     "text": [
      "0    2490\n",
      "1    2490\n",
      "dtype: int64\n"
     ]
    }
   ],
   "source": [
    "X_test = tf_idf_aggregate_test[:,1:]\n",
    "y_test =  tfidf_test_reviews.is_closed\n",
    "\n",
    "from imblearn.under_sampling import RandomUnderSampler\n",
    "rus = RandomUnderSampler(random_state=0)\n",
    "X_test_tf_idf, y_test_tf_idf = rus.fit_sample(X_test, y_test)\n",
    "count_classes = pd.value_counts(y_test_tf_idf.flatten(), sort=True).sort_index()\n",
    "count_classes.plot(kind = 'bar')\n",
    "plt.title(\"Balanced Classes\")\n",
    "plt.xlabel(\"Class\")\n",
    "plt.ylabel(\"Frequency\")\n",
    "plt.show()\n",
    "print(count_classes)"
   ]
  },
  {
   "cell_type": "markdown",
   "metadata": {},
   "source": [
    "### 2. Bag of Words "
   ]
  },
  {
   "cell_type": "code",
   "execution_count": 69,
   "metadata": {
    "colab": {},
    "colab_type": "code",
    "id": "lsYkfEYQA70K",
    "outputId": "ea1df8e3-a28e-49a5-c6c5-5ad01f143269"
   },
   "outputs": [],
   "source": [
    "# Takes a lot of time(1hour). Saved models are loaded in the next cells\n",
    "# import time\n",
    "# from sklearn.feature_extraction.text import TfidfVectorizer, CountVectorizer\n",
    "# csize=1e6\n",
    "# start_time = time.time()\n",
    "# review_reader = pd.read_json(\"yelp_academic_dataset_review.json\", lines=True, chunksize=csize)\n",
    "# from scipy import sparse\n",
    "# for i, r in enumerate(review_reader):\n",
    "#     # work on chunk2 only to save time\n",
    "#     if(i < 2):\n",
    "#         continue\n",
    "#     if(i > 2):\n",
    "#         break\n",
    "#     print(\"working on chunk \",i,\" shape =\", r.shape[0])\n",
    "#     restaurants_reviews = pd.merge(restaurants_only, r, on=[\"business_id\"])\n",
    "#     # save dense matrix to file\n",
    "#     restaurants_reviews.to_csv(\"yelp-dataset/restaurants_reviews\"+ str(i) + \".csv\")\n",
    "#     # tokens containing numbers, digits and underscore are ignored\n",
    "\n",
    "#     restaurants_vectorizer_bow2 = CountVectorizer(stop_words='english', min_df=0.001, tokenizer=lemmatizer_tokenize) \n",
    "\n",
    "#     # remove punctuation and numbers\n",
    "#     restaurants_reviews.text = restaurants_reviews.text.str.replace(r'[^\\w\\s]+|[\\d]+', '')\n",
    "    \n",
    "#     bow_features2 = restaurants_vectorizer_bow2.fit_transform(restaurants_reviews.text)\n",
    "    \n",
    "#     # save vectorizer, the vectorizer contains the vocabulary\n",
    "#     pickle.dump(restaurants_vectorizer_bow2, open(\"yelp-dataset/restaurants_vectorizer_bow\"+ str(i) +\".sav\", 'wb'))\n",
    "#     # save sparse matrix to file\n",
    "#     sparse.save_npz(\"yelp-dataset/bow_features\"+ str(i) + \".npz\", bow_features2)\n",
    "    \n",
    "#     print(\"shape of dense matrix: \", restaurants_reviews.shape)\n",
    "#     print(\"shape of sparse matrix:(tfidf) \", bow_features2.shape)\n",
    "# print(time.time() - start_time)"
   ]
  },
  {
   "cell_type": "markdown",
   "metadata": {},
   "source": [
    "#### Load the Vectors"
   ]
  },
  {
   "cell_type": "code",
   "execution_count": 70,
   "metadata": {
    "colab": {},
    "colab_type": "code",
    "id": "GRCdWsMhA70U",
    "outputId": "6484bc43-c9ff-45f9-ec0e-b7a824adfd61"
   },
   "outputs": [
    {
     "name": "stdout",
     "output_type": "stream",
     "text": [
      "(476253, 3213)\n",
      "(476253, 15)\n"
     ]
    }
   ],
   "source": [
    "i = 2\n",
    "bow_features2 = sparse.load_npz(\"yelp-dataset/bow_features\" + str(i) + \".npz\")\n",
    "restaurants_vectorizer_bow2 = pickle.load(open(\"yelp-dataset/restaurants_vectorizer_bow\"+ str(i) + \".sav\", 'rb'))\n",
    "restaurants_reviews = pd.read_csv(\"yelp-dataset/restaurants_reviews\" + str(i) + \".csv\", index_col=0)\n",
    "\n",
    "\n",
    "# get the indices of reviews for each business id\n",
    "reviews_indices_dict_bow = restaurants_reviews.business_id.groupby(restaurants_reviews.business_id).groups\n",
    "\n",
    "print(bow_features2.shape)\n",
    "print(restaurants_reviews.shape)"
   ]
  },
  {
   "cell_type": "markdown",
   "metadata": {},
   "source": [
    "#### Average Bag of Words Vectors Per Business"
   ]
  },
  {
   "cell_type": "code",
   "execution_count": 71,
   "metadata": {},
   "outputs": [
    {
     "name": "stdout",
     "output_type": "stream",
     "text": [
      "creating row:  0\n",
      "creating row:  10000\n",
      "creating row:  20000\n",
      "creating row:  30000\n",
      "creating row:  40000\n",
      "47.049424171447754\n"
     ]
    }
   ],
   "source": [
    "import time\n",
    "#takes 10 minutes\n",
    "start_time = time.time()\n",
    "num_of_sparse_features = len(restaurants_vectorizer_bow2.vocabulary_)\n",
    "# k goes over the business ids\n",
    "# i counts\n",
    "the_sparse_matrices_bag = []\n",
    "\n",
    "# closed restaurants\n",
    "for i, k in enumerate(reviews_indices_dict_bow.keys()):\n",
    "    if( i % 10000 == 0):\n",
    "        print(\"creating row: \", i)\n",
    "    # convert to list: row indices for the reviews of k\n",
    "    indices_for_sparse_matrix = list(reviews_indices_dict_bow[k])\n",
    "    # find means column-wise\n",
    "    means_sparse = bow_features2[indices_for_sparse_matrix, :].mean(axis=0).tolist()[0]\n",
    "    the_sparse_matrices_bag.append(means_sparse)\n",
    "# save aggregate sparse matrix\n",
    "pickle.dump(the_sparse_matrices_bag, open(\"yelp-dataset/the_sparse_matrices_bag.sav\", \"wb\"))    \n",
    "print(time.time() - start_time)"
   ]
  },
  {
   "cell_type": "markdown",
   "metadata": {},
   "source": [
    "#### Prepare X and Y"
   ]
  },
  {
   "cell_type": "code",
   "execution_count": 72,
   "metadata": {},
   "outputs": [],
   "source": [
    "restaurants_bow_aggregate = sparse.csr_matrix(the_sparse_matrices_bag)"
   ]
  },
  {
   "cell_type": "code",
   "execution_count": 73,
   "metadata": {},
   "outputs": [],
   "source": [
    "# selected features\n",
    "restaurants_reviews = restaurants_reviews[['business_id', 'stars_x', 'review_count', 'latitude','longitude','age', 'is_open']]\n",
    "# remove duplicates\n",
    "restaurants_reviews.drop_duplicates(inplace=True)\n",
    "# sort by business id\n",
    "restaurants_reviews = restaurants_reviews.sort_values(by = \"business_id\").reset_index(drop=True)"
   ]
  },
  {
   "cell_type": "code",
   "execution_count": 74,
   "metadata": {},
   "outputs": [
    {
     "data": {
      "text/plain": [
       "<47490x3219 sparse matrix of type '<class 'numpy.float64'>'\n",
       "\twith 9374200 stored elements in Compressed Sparse Row format>"
      ]
     },
     "execution_count": 74,
     "metadata": {},
     "output_type": "execute_result"
    }
   ],
   "source": [
    "# change is_open to is_closed\n",
    "restaurants_reviews[\"is_closed\"] = np.where(restaurants_reviews.is_open == 0 , 1, 0)\n",
    "restaurants_reviews = restaurants_reviews[['is_closed', 'stars_x', 'review_count', 'latitude','longitude','age']]\n",
    "# merge sparse and dense features\n",
    "restaurants_bow_final = hstack((restaurants_reviews , restaurants_bow_aggregate)).tocsr()\n",
    "restaurants_bow_final"
   ]
  },
  {
   "cell_type": "code",
   "execution_count": 75,
   "metadata": {},
   "outputs": [
    {
     "data": {
      "text/plain": [
       "Index(['is_closed', 'stars_x', 'review_count', 'latitude', 'longitude', 'age'], dtype='object')"
      ]
     },
     "execution_count": 75,
     "metadata": {},
     "output_type": "execute_result"
    }
   ],
   "source": [
    "restaurants_reviews.columns"
   ]
  },
  {
   "cell_type": "code",
   "execution_count": 76,
   "metadata": {},
   "outputs": [
    {
     "data": {
      "image/png": "[encoded data removed]",
      "text/plain": [
       "<Figure size 576x432 with 1 Axes>"
      ]
     },
     "metadata": {},
     "output_type": "display_data"
    },
    {
     "name": "stdout",
     "output_type": "stream",
     "text": [
      "0.0    9914\n",
      "1.0    9914\n",
      "dtype: int64\n"
     ]
    }
   ],
   "source": [
    "# include the target attribute in X. It will be used for IDF penalty\n",
    "X = restaurants_tf_idf_final\n",
    "y = restaurants_tf_idf_final[:,0].toarray()\n",
    "\n",
    "# stratified sampling\n",
    "X_train, X_test, y_train, y_test = train_test_split(X, y, test_size=0.2, random_state=20, shuffle=True, stratify=y)\n",
    "\n",
    "from imblearn.under_sampling import RandomUnderSampler\n",
    "\n",
    "rus = RandomUnderSampler(random_state=0)\n",
    "X_train_bow, y_train_bow = rus.fit_sample(X_train, y_train)\n",
    "X_test_bow, y_test_bow = rus.fit_sample(X_test, y_test)\n",
    "\n",
    "count_classes = pd.value_counts(y_train_bow.flatten(), sort=True).sort_index()\n",
    "count_classes.plot(kind = 'bar')\n",
    "plt.title(\"Balanced Classes\")\n",
    "plt.xlabel(\"Class\")\n",
    "plt.ylabel(\"Frequency\")\n",
    "plt.show()\n",
    "print(count_classes)"
   ]
  },
  {
   "cell_type": "markdown",
   "metadata": {},
   "source": [
    "### 3. Bag of Words Penalized by IDF"
   ]
  },
  {
   "cell_type": "code",
   "execution_count": 78,
   "metadata": {},
   "outputs": [],
   "source": [
    "from sklearn.base import BaseEstimator, TransformerMixin\n",
    "\n",
    "class IDFPenalty(BaseEstimator, TransformerMixin):\n",
    "    def transform(self, X, *_):\n",
    "        self.X = X\n",
    "        # indices of open restaurants\n",
    "        open_rest_indices = np.where(X[:, 0].toarray() == 0)[0]\n",
    "        # indices of closed restauratns\n",
    "        closed_rest_indices = np.where(X[:, 0].toarray() == 1)[0]\n",
    "        num_of_open_restaurants = len(open_rest_indices)\n",
    "        num_of_closed_restaurants = len(closed_rest_indices)\n",
    "        \n",
    "        # textual features start from index 6\n",
    "        idf_open = np.log10(num_of_open_restaurants / (1 + np.array(self.X[open_rest_indices, 6:].sum(axis=0).tolist()[0]))).reshape(1,-1)\n",
    "        idf_closed = np.log10(num_of_closed_restaurants / (1 + np.array(self.X[closed_rest_indices, 6:].sum(axis=0).tolist()[0]))).reshape(1,-1)\n",
    "        \n",
    "        self.X[open_rest_indices, 6:] = sparse.csr_matrix(self.X[open_rest_indices, 6:].toarray() * idf_closed)\n",
    "        self.X[closed_rest_indices, 6:] = sparse.csr_matrix(self.X[closed_rest_indices, 6:].toarray() * idf_open)\n",
    "        # remove is_closed column and return\n",
    "        return self.X[:, 1:]\n",
    "    \n",
    "    def fit(self, *_):\n",
    "        return self"
   ]
  },
  {
   "cell_type": "code",
   "execution_count": 81,
   "metadata": {},
   "outputs": [],
   "source": [
    "from sklearn.preprocessing import Normalizer\n",
    "from sklearn.pipeline import Pipeline\n",
    "\n",
    "pipeline = Pipeline([('IDF', IDFPenalty()),\n",
    "                     (\"scale\", Normalizer())])\n",
    "#  the target attribute is appended to the front\n",
    "X_train_bow_penalized = pipeline.fit_transform(X_train_bow)\n",
    "#  the target attribute is appended to the front\n",
    "X_test_bow_penalized = pipeline.fit_transform(X_test_bow)\n",
    "# same target classes: y_train_bow and y_test_bow"
   ]
  },
  {
   "cell_type": "markdown",
   "metadata": {
    "colab_type": "text",
    "id": "97NXztjnA70b"
   },
   "source": [
    "## Surrounding Restaurants\n",
    "Within 1 mile circle, average ratings, average number of reviews"
   ]
  },
  {
   "cell_type": "markdown",
   "metadata": {},
   "source": [
    "Training data supplied to this transformer will have stars, review_count, latitude, longitude and age. In a pipeline Distance Transformer is the last one. Bag of words features contain the target class. So the a pipeline step should handle it correctly"
   ]
  },
  {
   "cell_type": "code",
   "execution_count": 82,
   "metadata": {},
   "outputs": [
    {
     "data": {
      "text/plain": [
       "(19828, 3219)"
      ]
     },
     "execution_count": 82,
     "metadata": {},
     "output_type": "execute_result"
    }
   ],
   "source": [
    "X_train_bow.shape"
   ]
  },
  {
   "cell_type": "markdown",
   "metadata": {},
   "source": [
    "These are 3212 textual features and 7 dense featurs"
   ]
  },
  {
   "cell_type": "code",
   "execution_count": 83,
   "metadata": {},
   "outputs": [
    {
     "name": "stdout",
     "output_type": "stream",
     "text": [
      "min latitude -34.8693315397\n",
      "max latitude 59.438181380799996\n",
      "min longtiude -122.823161956\n",
      "max longtiude 115.08676899999999\n"
     ]
    }
   ],
   "source": [
    "# I can use one of the X_trains for testing surrounding restaurants\n",
    "print(\"min latitude\", X_train_simple_tf_idf[:,2].min())\n",
    "print(\"max latitude\", X_train_simple_tf_idf[:,2].max())\n",
    "print(\"min longtiude\", X_train_simple_tf_idf[:,3].min())\n",
    "print(\"max longtiude\", X_train_simple_tf_idf[:,3].max())"
   ]
  },
  {
   "cell_type": "code",
   "execution_count": 84,
   "metadata": {},
   "outputs": [
    {
     "data": {
      "text/html": [
       "<div>\n",
       "<style scoped>\n",
       "    .dataframe tbody tr th:only-of-type {\n",
       "        vertical-align: middle;\n",
       "    }\n",
       "\n",
       "    .dataframe tbody tr th {\n",
       "        vertical-align: top;\n",
       "    }\n",
       "\n",
       "    .dataframe thead th {\n",
       "        text-align: right;\n",
       "    }\n",
       "</style>\n",
       "<table border=\"1\" class=\"dataframe\">\n",
       "  <thead>\n",
       "    <tr style=\"text-align: right;\">\n",
       "      <th></th>\n",
       "      <th>average_stars</th>\n",
       "      <th>review_count</th>\n",
       "      <th>latitude</th>\n",
       "      <th>longitude</th>\n",
       "    </tr>\n",
       "  </thead>\n",
       "  <tbody>\n",
       "    <tr>\n",
       "      <th>0</th>\n",
       "      <td>4.5</td>\n",
       "      <td>99.0</td>\n",
       "      <td>36.074029</td>\n",
       "      <td>-115.082891</td>\n",
       "    </tr>\n",
       "    <tr>\n",
       "      <th>1</th>\n",
       "      <td>4.0</td>\n",
       "      <td>283.0</td>\n",
       "      <td>36.114843</td>\n",
       "      <td>-115.153196</td>\n",
       "    </tr>\n",
       "    <tr>\n",
       "      <th>2</th>\n",
       "      <td>3.5</td>\n",
       "      <td>210.0</td>\n",
       "      <td>36.095800</td>\n",
       "      <td>-115.296601</td>\n",
       "    </tr>\n",
       "    <tr>\n",
       "      <th>3</th>\n",
       "      <td>4.5</td>\n",
       "      <td>40.0</td>\n",
       "      <td>45.528243</td>\n",
       "      <td>-73.598002</td>\n",
       "    </tr>\n",
       "    <tr>\n",
       "      <th>4</th>\n",
       "      <td>4.0</td>\n",
       "      <td>88.0</td>\n",
       "      <td>43.038073</td>\n",
       "      <td>-89.452020</td>\n",
       "    </tr>\n",
       "  </tbody>\n",
       "</table>\n",
       "</div>"
      ],
      "text/plain": [
       "   average_stars  review_count   latitude   longitude\n",
       "0            4.5          99.0  36.074029 -115.082891\n",
       "1            4.0         283.0  36.114843 -115.153196\n",
       "2            3.5         210.0  36.095800 -115.296601\n",
       "3            4.5          40.0  45.528243  -73.598002\n",
       "4            4.0          88.0  43.038073  -89.452020"
      ]
     },
     "execution_count": 84,
     "metadata": {},
     "output_type": "execute_result"
    }
   ],
   "source": [
    "X_train_sep = pd.DataFrame({'average_stars':X_train_simple_tf_idf[:,0].toarray().flatten(),\n",
    "                            'review_count':X_train_simple_tf_idf[:,1].toarray().flatten(),\n",
    "                            'latitude':X_train_simple_tf_idf[:,2].toarray().flatten(),\n",
    "                            'longitude':X_train_simple_tf_idf[:,3].toarray().flatten()})\n",
    "\n",
    "\n",
    "X_train_sep.head()"
   ]
  },
  {
   "cell_type": "code",
   "execution_count": 85,
   "metadata": {},
   "outputs": [
    {
     "name": "stdout",
     "output_type": "stream",
     "text": [
      "distance from 5:  248.92305625588324\n",
      "distance from 8:  1446.3304245972151\n",
      "distance from 18:  271.92541918590587\n"
     ]
    },
    {
     "data": {
      "text/plain": [
       "array([   4.83345217,    0.        ,    8.11320766, 2240.46460503,\n",
       "       1443.14152269,  248.93805554, 1921.11385748,  241.14924296,\n",
       "       1446.4175757 ,    5.63989251, 2239.62861175, 1955.4212395 ,\n",
       "       1815.91569051,   10.79772988, 1918.27471715, 1946.93846548,\n",
       "       1920.49161551, 1950.18219579,  271.94180452, 2215.58979508])"
      ]
     },
     "execution_count": 85,
     "metadata": {},
     "output_type": "execute_result"
    }
   ],
   "source": [
    "# A vectorized implemenation of geopy.distance.great_circle function\n",
    "# Adopted by Tinsae \n",
    "# reference\n",
    "# https://gist.github.com/rochacbruno/2883505\n",
    "    \n",
    "import math\n",
    "# calculate the disance between a business and all other businesses\n",
    "def distance_c(many_points, one_point):\n",
    "    # convert the values to float\n",
    "    lat1 = many_points[:,0].astype(float) \n",
    "    lon1 = many_points[:,1].astype(float)\n",
    "    lat2 = one_point[0]\n",
    "    lon2 = one_point[1]\n",
    "    #radius = 6371 # km\n",
    "    radius = 3959 # miles\n",
    "    dlat = np.radians(lat2 - lat1)\n",
    "    dlon = np.radians(lon2 - lon1)\n",
    "    a = np.sin(dlat/2) * np.sin(dlat/2) + np.cos(np.radians(lat1)) \\\n",
    "        * np.cos(np.radians(lat2)) * np.sin(dlon/2) * np.sin(dlon/2)\n",
    "    c = 2 * np.arctan2(np.sqrt(a), np.sqrt(1-a))\n",
    "    d = radius * c\n",
    "\n",
    "    return d\n",
    "\n",
    "# for testing purposes(calculating the distance between buisness@1 and others)\n",
    "business5 = X_train_sep[['latitude', 'longitude']].values[5:6]\n",
    "business8 = X_train_sep[['latitude', 'longitude']].values[8:9]\n",
    "business18 = X_train_sep[['latitude', 'longitude']].values[18:19]\n",
    "business1 = X_train_sep[['latitude', 'longitude']].values[1]\n",
    "\n",
    "print(\"distance from 5: \", great_circle(business5, business1).miles)\n",
    "print(\"distance from 8: \", great_circle(business8, business1).miles)\n",
    "print(\"distance from 18: \", great_circle(business18, business1).miles)\n",
    "\n",
    "distance_c(X_train_sep[['latitude', 'longitude']].values[0:20], business1)       "
   ]
  },
  {
   "cell_type": "markdown",
   "metadata": {},
   "source": [
    "### Distance Transformer"
   ]
  },
  {
   "cell_type": "code",
   "execution_count": 86,
   "metadata": {},
   "outputs": [],
   "source": [
    "from sklearn.base import BaseEstimator, TransformerMixin\n",
    "\n",
    "class DistanceTransformer(BaseEstimator, TransformerMixin):\n",
    "    def transform(self, X, *_):\n",
    "        self.nearest_average_rating=[]\n",
    "        self.nearest_average_num_of_reviews =[]\n",
    "\n",
    "        self.X = X\n",
    "        self.X_sep = pd.DataFrame({'average_stars':X[:,0].toarray().flatten(),\n",
    "                            'review_count':X[:,1].toarray().flatten(),\n",
    "                            'latitude':X[:,2].toarray().flatten(),\n",
    "                            'longitude':X[:,3].toarray().flatten()})\n",
    "        \n",
    "        self.X_sep.apply(lambda current: self.create_distance_features(current), axis=1)\n",
    "        nearest_average_rating = np.array(self.nearest_average_rating).reshape(-1,1)\n",
    "        nearest_average_num_of_reviews = np.array(self.nearest_average_num_of_reviews).reshape(-1,1)\n",
    "\n",
    "        return sparse.hstack((nearest_average_rating, nearest_average_num_of_reviews, self.X.astype(float)))\n",
    "    \n",
    "    # calculate the disance between a business and all other businesses\n",
    "    def distance_c(self, many_points, one_point):\n",
    "        # convert the values to float\n",
    "        lat1 = many_points[:,0].astype(float) \n",
    "        lon1 = many_points[:,1].astype(float)\n",
    "        lat2 = one_point[0]\n",
    "        lon2 = one_point[1]\n",
    "        #radius = 6371 # km\n",
    "        radius = 3959 # miles\n",
    "        dlat = np.radians(lat2 - lat1)\n",
    "        dlon = np.radians(lon2 - lon1)\n",
    "        a = np.sin(dlat/2) * np.sin(dlat/2) + np.cos(np.radians(lat1)) \\\n",
    "            * np.cos(np.radians(lat2)) * np.sin(dlon/2) * np.sin(dlon/2)\n",
    "        c = 2 * np.arctan2(np.sqrt(a), np.sqrt(1-a))\n",
    "        d = radius * c\n",
    "        return d        \n",
    "    \n",
    "    def create_distance_features(self, current):\n",
    "        # find the distance between current row and all other rows using the vectorized function\n",
    "        the_distances = self.distance_c(self.X_sep[['latitude', 'longitude']].values, (current.latitude, current.longitude))    \n",
    "        # A distance cannot be negative. 0 indicates it is the same place\n",
    "        # so both shall be excluded\n",
    "        indices_to_select = np.where((the_distances < 1) & (the_distances > 0))[0]\n",
    "        # if a business within one mile is found\n",
    "        if(len(indices_to_select) > 0):\n",
    "            self.nearest_average_rating.append(self.X_sep.iloc[indices_to_select, :].average_stars.mean())\n",
    "            self.nearest_average_num_of_reviews.append(self.X_sep.iloc[indices_to_select, :].review_count.mean())\n",
    "        else:\n",
    "            self.nearest_average_rating.append(np.nan)\n",
    "            self.nearest_average_num_of_reviews.append(np.nan)    \n",
    "    \n",
    "    def fit(self, *_):\n",
    "        return self"
   ]
  },
  {
   "cell_type": "markdown",
   "metadata": {
    "colab_type": "text",
    "id": "GuBlEj8gA71J"
   },
   "source": [
    "### Custom Normalizer"
   ]
  },
  {
   "cell_type": "code",
   "execution_count": 87,
   "metadata": {
    "colab": {},
    "colab_type": "code",
    "id": "sfLrzjfTA71J"
   },
   "outputs": [],
   "source": [
    "from sklearn.base import BaseEstimator, TransformerMixin\n",
    "from sklearn.preprocessing import Normalizer, StandardScaler\n",
    "\n",
    "class CustomNormalizer(BaseEstimator, TransformerMixin):        \n",
    "\n",
    "    def transform(self, X, *_):\n",
    "        self.X = X\n",
    "        # column 4 and 5 are removed(latitude and longitude)\n",
    "        return sparse.hstack(( StandardScaler().fit_transform(self.X[:, [0,1,2,3,6]].toarray()),  \n",
    "                              Normalizer().fit_transform(self.X[:, 7:]) ))\n",
    "    \n",
    "    def fit(self, *_):\n",
    "        return self"
   ]
  },
  {
   "cell_type": "markdown",
   "metadata": {},
   "source": [
    "### Latent Semantic Analysis"
   ]
  },
  {
   "cell_type": "code",
   "execution_count": 88,
   "metadata": {},
   "outputs": [],
   "source": [
    "from sklearn.base import BaseEstimator, TransformerMixin\n",
    "from sklearn.preprocessing import Normalizer, StandardScaler\n",
    "from sklearn.pipeline import make_pipeline\n",
    "from sklearn.decomposition import TruncatedSVD\n",
    "\n",
    "class LSA(BaseEstimator, TransformerMixin):        \n",
    "\n",
    "    def transform(self, X, *_):\n",
    "        self.X = X.tocsr()\n",
    "        svd= TruncatedSVD(1000)\n",
    "        lsa = make_pipeline(svd, Normalizer(copy=False))\n",
    "        svd.fit_transform(self.X[:, 5:])\n",
    "        variance_explained = svd.explained_variance_ratio_\n",
    "        total_variance = variance_explained.sum()\n",
    "        print(\"Percent variance captured by all components:\",total_variance*100)\n",
    "\n",
    "        # reduce tfidf features from 3603 to 500\n",
    "        return sparse.hstack((self.X[:, 0:5], svd.fit_transform(self.X[:, 5:])))\n",
    "    \n",
    "    def fit(self, *_):\n",
    "        return self"
   ]
  },
  {
   "cell_type": "code",
   "execution_count": 89,
   "metadata": {
    "colab": {},
    "colab_type": "code",
    "id": "ls_nA88XA71K"
   },
   "outputs": [],
   "source": [
    "# # test code\n",
    "# sc = StandardScaler()\n",
    "# sc.fit_transform(X_train[:,2].toarray())\n",
    "# X_train[0:5, 0:5].toarray()\n",
    "# X_train_transformed.tocsr()[0:5, 0:5].toarray()\n",
    "# CNR = CustomNormalizer()\n",
    "# X_train_transformed = CNR.transform(X_train)\n",
    "# (X_train_transformed).tocsr()[0:5, 0:5].toarray()"
   ]
  },
  {
   "cell_type": "code",
   "execution_count": 90,
   "metadata": {
    "colab": {},
    "colab_type": "code",
    "id": "82CoBVzMA71L"
   },
   "outputs": [],
   "source": [
    "# this is used for testing the tranformer\n",
    "\n",
    "# DFC = DistanceFeaturesCreator()\n",
    "# X_train_transformed = DFC.transform(X_train)\n",
    "# (X_train_transformed).tocsr()[0:5, 0:5].toarray()\n",
    "\n",
    "\n",
    "# import time\n",
    "\n",
    "# nearest_average_rating = []\n",
    "# nearest_average_num_of_reviews =  []\n",
    "# start_time = time.time()\n",
    "\n",
    "# X_train_sep2 = X_train_sep.copy(deep=True)\n",
    "\n",
    "# def create_distance_features(current):\n",
    "#     # find the distance between current row and all other rows using the vectorized function\n",
    "#     the_distances = distance_c(X_train_sep2[['latitude', 'longitude']].values, (current.latitude, current.longitude))    \n",
    "#     # A distance cannot be negative. 0 indicates it is the same place\n",
    "#     # so both shall be excluded\n",
    "#     indices_to_select = np.where((the_distances < 1) & (the_distances > 0))[0]\n",
    "#     # if a business within one mile is found\n",
    "#     if(len(indices_to_select) > 0):\n",
    "#         nearest_average_rating.append(X_train_sep2.iloc[indices_to_select, :].average_stars.mean())\n",
    "#         nearest_average_num_of_reviews.append(X_train_sep2.iloc[indices_to_select, :].review_count.mean())\n",
    "#     else:\n",
    "#         nearest_average_rating.append(\"No-Nearest\")\n",
    "#         nearest_average_num_of_reviews.append(\"No-Nearest\")\n",
    "\n",
    "        \n",
    "# X_train_sep2.apply(lambda x: create_distance_features(x), axis=1)\n",
    "# print(time.time() - start_time, \" seconds\")\n",
    "\n",
    "\n",
    "# X_train_sep2[\"nearest_average_rating\"] = nearest_average_rating\n",
    "# X_train_sep2[\"nearest_average_num_of_reviews\"] = nearest_average_num_of_reviews\n",
    "# X_train_sep2.head()"
   ]
  },
  {
   "cell_type": "code",
   "execution_count": 91,
   "metadata": {
    "colab": {},
    "colab_type": "code",
    "id": "6FuE_0nLA71N"
   },
   "outputs": [],
   "source": [
    "# # This is for testing\n",
    "\n",
    "# X_train_transformed\n",
    "# RNN = RemoveNoNearest()\n",
    "\n",
    "# RNN = RemoveNoNearest()\n",
    "# X_transformed_again, y_transformed = RNN.transform(X_train_transformed.tocsr(), y_train)\n",
    "\n",
    "# X_transformed_again = RNN.transform(X_train_transformed.tocsr())\n",
    "# X_train_transformed\n",
    "# X_transformed_again\n",
    "# X_train_transformed.tocsr()[312, 0:2].toarray()\n",
    "# np.isnan(X_transformed_again.toarray()).sum()"
   ]
  },
  {
   "cell_type": "code",
   "execution_count": 92,
   "metadata": {
    "colab": {},
    "colab_type": "code",
    "id": "_h4LQR-3A71P"
   },
   "outputs": [],
   "source": [
    "# from sklearn.preprocessing import StandardScaler\n",
    "# with warnings.catch_warnings():\n",
    "#     warnings.simplefilter(\"ignore\")\n",
    "#     scaler = StandardScaler()\n",
    "#     dense_train_sel_sorted[dense_train_sel_sorted.columns.drop(\"is_closed\")] = scaler.fit_transform(dense_train_sel_sorted[dense_train_sel_sorted.columns.drop(\"is_closed\")])\n",
    "# dense_train_sel_sorted.head(5)"
   ]
  },
  {
   "cell_type": "code",
   "execution_count": null,
   "metadata": {
    "colab": {},
    "colab_type": "code",
    "id": "8iHck45GA71p",
    "outputId": "404cd0d8-96e1-43fd-bdf1-a1647a6a0ab1"
   },
   "outputs": [],
   "source": [
    "# create dataframe for plotting purpose\n",
    "column_headers = ['nearest_average_rating', 'nearest_averge_number_of_reviews','average_stars', \n",
    "                  'review_count', 'age_of_restaurant']\n",
    "df = pd.DataFrame(X_train_rt.tocsr()[:, :5 ].toarray(), columns=column_headers)\n",
    "df.head()"
   ]
  },
  {
   "cell_type": "code",
   "execution_count": null,
   "metadata": {
    "colab": {},
    "colab_type": "code",
    "id": "fvQ9cwfqA71r",
    "outputId": "77109582-b878-4229-fbcc-5e1cf22b1811"
   },
   "outputs": [],
   "source": [
    "\n",
    "# Code from https://seaborn.pydata.org/examples/many_pairwise_correlations.html\n",
    "sns.set(style=\"white\")\n",
    "\n",
    "# Compute the correlation matrix\n",
    "corr = df.corr()\n",
    "\n",
    "# Generate a mask for the upper triangle\n",
    "mask = np.zeros_like(corr, dtype=np.bool)\n",
    "mask[np.triu_indices_from(mask)] = True\n",
    "\n",
    "# Set up the matplotlib figure\n",
    "f, ax = plt.subplots(figsize=(11, 9))\n",
    "\n",
    "# Generate a custom diverging colormap\n",
    "cmap = sns.diverging_palette(220, 10, as_cmap=True)\n",
    "\n",
    "# Draw the heatmap with the mask and correct aspect ratio\n",
    "sns.heatmap(corr, mask=mask, cmap=cmap, vmax=.3, center=0,\n",
    "            square=True, linewidths=.5, cbar_kws={\"shrink\": .5})"
   ]
  },
  {
   "cell_type": "code",
   "execution_count": null,
   "metadata": {
    "colab": {},
    "colab_type": "code",
    "id": "zq_3Q6vkA71s",
    "outputId": "3f21012a-6615-46ad-e45f-cde6d146c47d"
   },
   "outputs": [],
   "source": [
    "sns.pairplot(df)"
   ]
  },
  {
   "cell_type": "markdown",
   "metadata": {
    "colab_type": "text",
    "id": "qkXc6sHLA71v"
   },
   "source": [
    "## 2. Baseline Modeling"
   ]
  },
  {
   "cell_type": "markdown",
   "metadata": {
    "colab_type": "text",
    "id": "KmyGe2KTA71w"
   },
   "source": [
    "I am using undersampled data to test logistic regression and decsion tree models. Other estimators don't perform good. The pipelines transform train and test set separately. I tried to use three forms of textual features.\n",
    "\n",
    "* Simple TF-IDF\n",
    "* Bag of Words\n",
    "* Bag of Words with IDF Penality"
   ]
  },
  {
   "cell_type": "code",
   "execution_count": 94,
   "metadata": {},
   "outputs": [],
   "source": [
    "from sklearn.metrics import classification_report, confusion_matrix,roc_auc_score,average_precision_score\n",
    "from sklearn.tree import DecisionTreeClassifier\n",
    "from sklearn.neighbors import KNeighborsClassifier\n",
    "from sklearn.naive_bayes import GaussianNB\n",
    "from sklearn.linear_model import LogisticRegression\n",
    "from sklearn.svm import SVC, LinearSVC\n",
    "from sklearn.feature_selection import SelectFromModel\n",
    "from sklearn.metrics import accuracy_score\n",
    "from sklearn.preprocessing import StandardScaler\n",
    "from sklearn.impute import SimpleImputer\n",
    "from sklearn.pipeline import Pipeline\n",
    "from sklearn.preprocessing import Normalizer"
   ]
  },
  {
   "cell_type": "code",
   "execution_count": 95,
   "metadata": {},
   "outputs": [
    {
     "data": {
      "text/plain": [
       "['nearest_average_rating',\n",
       " 'nearest_averge_number_of_reviews',\n",
       " 'average_stars',\n",
       " 'review_count',\n",
       " 'age_of_restaurant']"
      ]
     },
     "execution_count": 95,
     "metadata": {},
     "output_type": "execute_result"
    }
   ],
   "source": [
    "# these are the first 5 features\n",
    "first_5 = [\"nearest_average_rating\", \"nearest_averge_number_of_reviews\", \"average_stars\", \"review_count\", \"age_of_restaurant\"] \n",
    "first_5"
   ]
  },
  {
   "cell_type": "code",
   "execution_count": 96,
   "metadata": {},
   "outputs": [
    {
     "data": {
      "text/plain": [
       "['ability',\n",
       " 'able',\n",
       " 'absolute',\n",
       " 'absolutely',\n",
       " 'ac',\n",
       " 'accent',\n",
       " 'accept',\n",
       " 'acceptable',\n",
       " 'access',\n",
       " 'accessible']"
      ]
     },
     "execution_count": 96,
     "metadata": {},
     "output_type": "execute_result"
    }
   ],
   "source": [
    "# these are the remaining\n",
    "restaurants_vectorizer_bow2.get_feature_names()[:10]"
   ]
  },
  {
   "cell_type": "code",
   "execution_count": 97,
   "metadata": {},
   "outputs": [
    {
     "data": {
      "text/plain": [
       "3218"
      ]
     },
     "execution_count": 97,
     "metadata": {},
     "output_type": "execute_result"
    }
   ],
   "source": [
    "# combine the features\n",
    "all_the_features =  first_5 + list(restaurants_vectorizer_bow2.get_feature_names())\n",
    "len(all_the_features)"
   ]
  },
  {
   "cell_type": "markdown",
   "metadata": {},
   "source": [
    "### A. Simple TF-IDF Model\n",
    "\n",
    "The preprocessing is done in the previous section in this way. I split the train and test sets before a and converted each of them to tfidf vectors. The same vocabulary is used for both.  Doing a train-test split after tfidf vectorization creates a weak model because test-set data will leak to the train-set. "
   ]
  },
  {
   "cell_type": "code",
   "execution_count": 179,
   "metadata": {
    "colab": {},
    "colab_type": "code",
    "id": "qifoUmNXA71y",
    "outputId": "202b94f9-e9d3-40ed-b156-3b731d1a4d13"
   },
   "outputs": [],
   "source": [
    "pipeline = Pipeline([\n",
    "                     ('dtf', DistanceTransformer()),\n",
    "                     ('imputer', SimpleImputer(strategy=\"mean\")), \n",
    "                     (\"scale-normalize\", CustomNormalizer())])\n",
    "# (\"lsa\", LSA())"
   ]
  },
  {
   "cell_type": "code",
   "execution_count": 180,
   "metadata": {
    "colab": {},
    "colab_type": "code",
    "id": "KCsOneL5A710",
    "outputId": "36222a05-e449-4730-f35f-cef03d345920"
   },
   "outputs": [],
   "source": [
    "X_train_tf_idf_t = pipeline.fit_transform(X_train_tf_idf)"
   ]
  },
  {
   "cell_type": "code",
   "execution_count": 181,
   "metadata": {
    "colab": {},
    "colab_type": "code",
    "id": "fSvRmiTLA712",
    "outputId": "7eb57740-700d-4b04-bbf8-1adda84a73ed"
   },
   "outputs": [],
   "source": [
    "X_test_tf_idf_t = pipeline.fit_transform(X_test_tf_idf)"
   ]
  },
  {
   "cell_type": "markdown",
   "metadata": {
    "colab_type": "text",
    "id": "8F-7hIu2A716"
   },
   "source": [
    "#### Logistic Regression"
   ]
  },
  {
   "cell_type": "code",
   "execution_count": 185,
   "metadata": {
    "colab": {},
    "colab_type": "code",
    "id": "URzSTj4gA717",
    "outputId": "1c20584a-ba3c-44a7-ebaa-698d0422e600"
   },
   "outputs": [
    {
     "name": "stdout",
     "output_type": "stream",
     "text": [
      "\n",
      " Confusion Matrix\n",
      "Predicted     0     1\n",
      "True                 \n",
      "0          1772   718\n",
      "1           781  1709\n",
      "              precision    recall  f1-score   support\n",
      "\n",
      "           0       0.69      0.71      0.70      2490\n",
      "           1       0.70      0.69      0.70      2490\n",
      "\n",
      "   micro avg       0.70      0.70      0.70      4980\n",
      "   macro avg       0.70      0.70      0.70      4980\n",
      "weighted avg       0.70      0.70      0.70      4980\n",
      "\n",
      "ROC-AUC 0.698995983935743\n",
      "PR-AUC-Score 0.6401253137808756\n",
      "Test Accuracy:  0.698995983935743\n",
      "Train Accuracy:  0.7526002221549025\n"
     ]
    }
   ],
   "source": [
    "logistic_model = LogisticRegression(penalty='l2', C=1.25)\n",
    "logistic_model.fit(X_train_tf_idf_t, y_train_tf_idf)\n",
    "y_pred = logistic_model.predict(X_test_tf_idf_t)\n",
    "y_pred_train = logistic_model.predict(X_train_tf_idf_t)\n",
    "print('\\n Confusion Matrix')\n",
    "print(pd.crosstab(y_test_tf_idf, y_pred, rownames=['True'], colnames=['Predicted']))\n",
    "print(classification_report(y_test_tf_idf, y_pred))\n",
    "print(\"ROC-AUC\", roc_auc_score(y_test_tf_idf, y_pred))\n",
    "print(\"PR-AUC-Score\", average_precision_score(y_test_tf_idf, y_pred))\n",
    "print(\"Test Accuracy: \", accuracy_score(y_test_tf_idf, y_pred))\n",
    "print(\"Train Accuracy: \", accuracy_score(y_train_tf_idf, y_pred_train))"
   ]
  },
  {
   "cell_type": "code",
   "execution_count": 186,
   "metadata": {
    "colab": {},
    "colab_type": "code",
    "id": "ZK1oh4d7A719",
    "outputId": "b202cec6-0db4-40cf-d5e1-dfd6109fb111"
   },
   "outputs": [
    {
     "name": "stdout",
     "output_type": "stream",
     "text": [
      "Most positive cofficeints\n",
      "(contribute positively to restaurants closure)\n",
      "\n",
      "groupon,veg,si,theme,par,remove,slaw,runny,schnitzel,hop,overwhelming,burst,clearly,clear,\n",
      "\n",
      "Most negative cofficeints\n",
      "(contribute negatively to restaurants closure)\n",
      "\n",
      "bus,route,stool,allow,fave,fashion,substitution,attack,bday,park,management,tropical,limited,yeah,peu,"
     ]
    }
   ],
   "source": [
    "print(\"Most positive cofficeints\\n(contribute positively to restaurants closure)\")\n",
    "print()\n",
    "sorted_features = np.argsort(logistic_model.coef_).ravel()[::-1]\n",
    "for i in range(14):\n",
    "    print(all_the_features[sorted_features[i]], end=\",\")\n",
    "print()\n",
    "print(\"\\nMost negative cofficeints\\n(contribute negatively to restaurants closure)\")\n",
    "print()\n",
    "sorted_features = np.argsort(logistic_model.coef_).ravel()\n",
    "for i in range(15):\n",
    "    print(all_the_features[sorted_features[i]],end=\",\")"
   ]
  },
  {
   "cell_type": "markdown",
   "metadata": {
    "colab_type": "text",
    "id": "ad0xOEXgA72D"
   },
   "source": [
    "#### Decision Trees"
   ]
  },
  {
   "cell_type": "code",
   "execution_count": 187,
   "metadata": {
    "colab": {},
    "colab_type": "code",
    "id": "tlUQZGC_A72E",
    "outputId": "33314955-5258-4703-f365-ad7a8b0e4ea5"
   },
   "outputs": [
    {
     "name": "stdout",
     "output_type": "stream",
     "text": [
      "\n",
      " Confusion Matrix\n",
      "Predicted   0.0   1.0\n",
      "True                 \n",
      "0.0        1548   931\n",
      "1.0         964  1515\n",
      "              precision    recall  f1-score   support\n",
      "\n",
      "         0.0       0.62      0.62      0.62      2479\n",
      "         1.0       0.62      0.61      0.62      2479\n",
      "\n",
      "   micro avg       0.62      0.62      0.62      4958\n",
      "   macro avg       0.62      0.62      0.62      4958\n",
      "weighted avg       0.62      0.62      0.62      4958\n",
      "\n",
      "ROC-AUC 0.6177894312222671\n",
      "PR-AUC-Score 0.5729562503277736\n",
      "Test Accuracy:  0.617789431222267\n"
     ]
    }
   ],
   "source": [
    "dt_model = DecisionTreeClassifier()\n",
    "dt_model.fit(X_train_simple_tf_idf_t, y_train_simple_tf_idf)\n",
    "y_pred = dt_model.predict(X_test_simple_tf_idf_t)\n",
    "print('\\n Confusion Matrix')\n",
    "print(pd.crosstab(y_test_simple_tf_idf, y_pred, rownames=['True'], colnames=['Predicted']))\n",
    "print(classification_report(y_test_simple_tf_idf, y_pred))\n",
    "print(\"ROC-AUC\", roc_auc_score(y_test_simple_tf_idf, y_pred))\n",
    "print(\"PR-AUC-Score\", average_precision_score(y_test_simple_tf_idf, y_pred))\n",
    "print(\"Test Accuracy: \", accuracy_score(y_test_simple_tf_idf, y_pred))"
   ]
  },
  {
   "cell_type": "code",
   "execution_count": 188,
   "metadata": {
    "colab": {},
    "colab_type": "code",
    "id": "5J1j8RLIA72F",
    "outputId": "885efc97-8b12-4508-8c84-c37b6082a9b8"
   },
   "outputs": [
    {
     "name": "stdout",
     "output_type": "stream",
     "text": [
      "nearest_averge_number_of_reviews,review_count,age_of_restaurant,employee,fast,drive,customer,place,location,service,nearest_average_rating,menu,busy,owner,order,try,good,thing,restaurant,nice,"
     ]
    }
   ],
   "source": [
    "sorted_features = np.argsort(dt_model.feature_importances_)[::-1]\n",
    "for i in range(20):\n",
    "    print(all_the_features[sorted_features[i]], end=\",\")"
   ]
  },
  {
   "cell_type": "markdown",
   "metadata": {},
   "source": [
    "### B. Bag of Words Model"
   ]
  },
  {
   "cell_type": "markdown",
   "metadata": {},
   "source": [
    "In the preprocessing step, the bag of words vectors were created for all the data. And then the data is split into train and test set. Unlike the tfidf transformation, bag of words vectorization don't leak data. Every business has its own reviews and words are counted based on those reviews. Coupus-wide information like inverse document frequency is not used."
   ]
  },
  {
   "cell_type": "code",
   "execution_count": 189,
   "metadata": {},
   "outputs": [],
   "source": [
    "pipeline = Pipeline([\n",
    "                     ('dtf', DistanceTransformer()),\n",
    "                     ('imputer', SimpleImputer(strategy=\"mean\")), \n",
    "                     (\"scale-normalize\", CustomNormalizer())])\n",
    "# (\"lsa\", LSA())"
   ]
  },
  {
   "cell_type": "code",
   "execution_count": 190,
   "metadata": {},
   "outputs": [],
   "source": [
    "X_train_bow_t = pipeline.fit_transform(X_train_bow[:, 1:])\n",
    "X_test_bow_t = pipeline.fit_transform(X_test_bow[:, 1:])"
   ]
  },
  {
   "cell_type": "code",
   "execution_count": 191,
   "metadata": {},
   "outputs": [],
   "source": [
    "y_train_bow = y_train_bow.ravel()\n",
    "y_test_bow = y_test_bow.ravel()"
   ]
  },
  {
   "cell_type": "markdown",
   "metadata": {},
   "source": [
    "#### Logistic Regression"
   ]
  },
  {
   "cell_type": "code",
   "execution_count": 266,
   "metadata": {},
   "outputs": [
    {
     "data": {
      "text/plain": [
       "array([[0.],\n",
       "       [0.],\n",
       "       [0.],\n",
       "       ...,\n",
       "       [0.],\n",
       "       [0.],\n",
       "       [0.]])"
      ]
     },
     "execution_count": 266,
     "metadata": {},
     "output_type": "execute_result"
    }
   ],
   "source": [
    "X_train_bow[:, 6].toarray()"
   ]
  },
  {
   "cell_type": "code",
   "execution_count": 279,
   "metadata": {},
   "outputs": [
    {
     "name": "stdout",
     "output_type": "stream",
     "text": [
      "\n",
      " Confusion Matrix\n",
      "Predicted   0.0   1.0\n",
      "True                 \n",
      "0.0        1885   594\n",
      "1.0         663  1816\n",
      "              precision    recall  f1-score   support\n",
      "\n",
      "         0.0       0.74      0.76      0.75      2479\n",
      "         1.0       0.75      0.73      0.74      2479\n",
      "\n",
      "   micro avg       0.75      0.75      0.75      4958\n",
      "   macro avg       0.75      0.75      0.75      4958\n",
      "weighted avg       0.75      0.75      0.75      4958\n",
      "\n",
      "ROC-AUC 0.7464703509479629\n",
      "PR-AUC-Score 0.6857220569798758\n",
      "Test Accuracy:  0.7464703509479629\n",
      "Train Accuracy:  0.8507665926971959\n"
     ]
    }
   ],
   "source": [
    "logistic_model = LogisticRegression(penalty='l2', C=1.0)\n",
    "logistic_model.fit(X_train_bow_t, y_train_bow)\n",
    "y_pred = logistic_model.predict(X_test_bow_t)\n",
    "y_pred_train = logistic_model.predict(X_train_bow_t)\n",
    "print('\\n Confusion Matrix')\n",
    "print(pd.crosstab(y_test_bow, y_pred, rownames=['True'], colnames=['Predicted']))\n",
    "print(classification_report(y_test_bow, y_pred))\n",
    "print(\"ROC-AUC\", roc_auc_score(y_test_bow, y_pred))\n",
    "print(\"PR-AUC-Score\", average_precision_score(y_test_bow, y_pred))\n",
    "print(\"Test Accuracy: \", accuracy_score(y_test_bow, y_pred))\n",
    "print(\"Train Accuracy: \", accuracy_score(y_train_bow, y_pred_train))"
   ]
  },
  {
   "cell_type": "code",
   "execution_count": 280,
   "metadata": {},
   "outputs": [
    {
     "name": "stdout",
     "output_type": "stream",
     "text": [
      "Most positive cofficeints\n",
      "(contribute positively to restaurants closure)\n",
      "\n",
      "place,close,owner,groupon,think,\n",
      "\n",
      "Most negative cofficeints\n",
      "(contribute negatively to restaurants closure)\n",
      "\n",
      "order,busy,rude,location,fast,"
     ]
    }
   ],
   "source": [
    "print(\"Most positive cofficeints\\n(contribute positively to restaurants closure)\")\n",
    "print()\n",
    "sorted_features = np.argsort(logistic_model.coef_).ravel()[::-1]\n",
    "for i in range(5):\n",
    "    print(all_the_features[sorted_features[i]], end=\",\")\n",
    "print()\n",
    "print(\"\\nMost negative cofficeints\\n(contribute negatively to restaurants closure)\")\n",
    "print()\n",
    "sorted_features = np.argsort(logistic_model.coef_).ravel()\n",
    "for i in range(5):\n",
    "    print(all_the_features[sorted_features[i]],end=\",\")"
   ]
  },
  {
   "cell_type": "markdown",
   "metadata": {},
   "source": [
    "#### Decision Tree"
   ]
  },
  {
   "cell_type": "code",
   "execution_count": 194,
   "metadata": {},
   "outputs": [
    {
     "name": "stdout",
     "output_type": "stream",
     "text": [
      "\n",
      " Confusion Matrix\n",
      "Predicted   0.0   1.0\n",
      "True                 \n",
      "0.0        1629   850\n",
      "1.0        1084  1395\n",
      "              precision    recall  f1-score   support\n",
      "\n",
      "         0.0       0.60      0.66      0.63      2479\n",
      "         1.0       0.62      0.56      0.59      2479\n",
      "\n",
      "   micro avg       0.61      0.61      0.61      4958\n",
      "   macro avg       0.61      0.61      0.61      4958\n",
      "weighted avg       0.61      0.61      0.61      4958\n",
      "\n",
      "ROC-AUC 0.6099233561920129\n",
      "PR-AUC-Score 0.5683042681014958\n",
      "Test Accuracy:  0.6099233561920129\n"
     ]
    }
   ],
   "source": [
    "dt_model = DecisionTreeClassifier()\n",
    "dt_model.fit(X_train_bow_t, y_train_bow)\n",
    "y_pred = dt_model.predict(X_test_bow_t)\n",
    "print('\\n Confusion Matrix')\n",
    "print(pd.crosstab(y_test_bow, y_pred, rownames=['True'], colnames=['Predicted']))\n",
    "print(classification_report(y_test_bow, y_pred))\n",
    "print(\"ROC-AUC\", roc_auc_score(y_test_bow, y_pred))\n",
    "print(\"PR-AUC-Score\", average_precision_score(y_test_bow, y_pred))\n",
    "print(\"Test Accuracy: \", accuracy_score(y_test_bow, y_pred))"
   ]
  },
  {
   "cell_type": "code",
   "execution_count": 195,
   "metadata": {},
   "outputs": [
    {
     "name": "stdout",
     "output_type": "stream",
     "text": [
      "nearest_averge_number_of_reviews,age_of_restaurant,review_count,order,location,fast,employee,service,customer,staff,good,close,think,place,menu,like,food,pizza,friendly,chef,"
     ]
    }
   ],
   "source": [
    "sorted_features = np.argsort(dt_model.feature_importances_)[::-1]\n",
    "for i in range(20):\n",
    "    print(all_the_features[sorted_features[i]], end=\",\")"
   ]
  },
  {
   "cell_type": "markdown",
   "metadata": {},
   "source": [
    "### C. Bag of Words with IDF Penalty\n",
    "\n",
    "I applied some penalty to the training set based on class labels. For each word, its term frequency is multiplied by the inverse document frequency of the word in the opposite class. The same penalty couldn't not applied to test-set because I can not use test-set class labels for feature transformation because in the real world class label is something to be predicted by a model. A model don't have prior information about the class labels"
   ]
  },
  {
   "cell_type": "code",
   "execution_count": 196,
   "metadata": {},
   "outputs": [],
   "source": [
    "pipeline = Pipeline([('idf', IDFPenalty()),\n",
    "                     ('dtf', DistanceTransformer()),\n",
    "                     ('imputer', SimpleImputer(strategy=\"mean\")), \n",
    "                     (\"scale-normalize\", CustomNormalizer())])\n",
    "# (\"lsa\", LSA())"
   ]
  },
  {
   "cell_type": "code",
   "execution_count": 197,
   "metadata": {},
   "outputs": [],
   "source": [
    "# transform only train-set because the test-set cannot contain the target class\n",
    "X_train_bow_penalized_t = pipeline.fit_transform(X_train_bow)"
   ]
  },
  {
   "cell_type": "code",
   "execution_count": 198,
   "metadata": {},
   "outputs": [],
   "source": [
    "y_train_bow = y_train_bow.ravel()\n",
    "y_test_bow = y_test_bow.ravel()"
   ]
  },
  {
   "cell_type": "markdown",
   "metadata": {},
   "source": [
    "#### Logistic Regression"
   ]
  },
  {
   "cell_type": "code",
   "execution_count": 208,
   "metadata": {},
   "outputs": [
    {
     "name": "stdout",
     "output_type": "stream",
     "text": [
      "\n",
      " Confusion Matrix\n",
      "Predicted   0.0   1.0\n",
      "True                 \n",
      "0.0        1700   779\n",
      "1.0         620  1859\n",
      "              precision    recall  f1-score   support\n",
      "\n",
      "         0.0       0.73      0.69      0.71      2479\n",
      "         1.0       0.70      0.75      0.73      2479\n",
      "\n",
      "   micro avg       0.72      0.72      0.72      4958\n",
      "   macro avg       0.72      0.72      0.72      4958\n",
      "weighted avg       0.72      0.72      0.72      4958\n",
      "\n",
      "ROC-AUC 0.7178297700685761\n",
      "PR-AUC-Score 0.6535047545706911\n",
      "Test Accuracy:  0.7178297700685761\n",
      "Train Accuracy:  0.8808755295541658\n"
     ]
    }
   ],
   "source": [
    "logistic_model = LogisticRegression(penalty='l1', C=0.9)\n",
    "logistic_model.fit(X_train_bow_penalized_t, y_train_bow)\n",
    "y_pred = logistic_model.predict(X_test_bow_t)\n",
    "y_pred_train = logistic_model.predict(X_train_bow_penalized_t)\n",
    "print('\\n Confusion Matrix')\n",
    "print(pd.crosstab(y_test_bow, y_pred, rownames=['True'], colnames=['Predicted']))\n",
    "print(classification_report(y_test_bow, y_pred))\n",
    "print(\"ROC-AUC\", roc_auc_score(y_test_bow, y_pred))\n",
    "print(\"PR-AUC-Score\", average_precision_score(y_test_bow, y_pred))\n",
    "print(\"Test Accuracy: \", accuracy_score(y_test_bow, y_pred))\n",
    "print(\"Train Accuracy: \", accuracy_score(y_train_bow, y_pred_train))"
   ]
  },
  {
   "cell_type": "code",
   "execution_count": 317,
   "metadata": {},
   "outputs": [
    {
     "name": "stdout",
     "output_type": "stream",
     "text": [
      "Most positive cofficeints\n",
      "(contribute positively to restaurants closure)\n",
      "\n",
      "close,owner,place,menu,think,groupon,sign,vegas,restaurant,try,business,buffet,sad,chef,\n",
      "\n",
      "Most negative cofficeints\n",
      "(contribute negatively to restaurants closure)\n",
      "\n",
      "fast,location,pizza,busy,customer,rude,drive,order,store,employee,staff,service,quick,amazing,line,"
     ]
    }
   ],
   "source": [
    "print(\"Most positive cofficeints\\n(contribute positively to restaurants closure)\")\n",
    "print()\n",
    "sorted_features = np.argsort(logistic_model.coef_).ravel()[::-1]\n",
    "for i in range(14):\n",
    "    print(all_the_features[sorted_features[i]], end=\",\")\n",
    "print()\n",
    "print(\"\\nMost negative cofficeints\\n(contribute negatively to restaurants closure)\")\n",
    "print()\n",
    "sorted_features = np.argsort(logistic_model.coef_).ravel()\n",
    "for i in range(15):\n",
    "    print(all_the_features[sorted_features[i]],end=\",\")"
   ]
  },
  {
   "cell_type": "markdown",
   "metadata": {},
   "source": [
    "#### Decsion Tree"
   ]
  },
  {
   "cell_type": "code",
   "execution_count": 318,
   "metadata": {},
   "outputs": [
    {
     "name": "stdout",
     "output_type": "stream",
     "text": [
      "\n",
      " Confusion Matrix\n",
      "Predicted   0.0   1.0\n",
      "True                 \n",
      "0.0        1715   764\n",
      "1.0         924  1555\n",
      "              precision    recall  f1-score   support\n",
      "\n",
      "         0.0       0.65      0.69      0.67      2479\n",
      "         1.0       0.67      0.63      0.65      2479\n",
      "\n",
      "   micro avg       0.66      0.66      0.66      4958\n",
      "   macro avg       0.66      0.66      0.66      4958\n",
      "weighted avg       0.66      0.66      0.66      4958\n",
      "\n",
      "ROC-AUC 0.6595401371520775\n",
      "PR-AUC-Score 0.6069792640239243\n",
      "Test Accuracy:  0.6595401371520775\n"
     ]
    }
   ],
   "source": [
    "dt_model = DecisionTreeClassifier()\n",
    "dt_model.fit(X_train_bow_penalized_t, y_train_bow)\n",
    "y_pred = dt_model.predict(X_test_bow_penalized_t)\n",
    "print('\\n Confusion Matrix')\n",
    "print(pd.crosstab(y_test_bow, y_pred, rownames=['True'], colnames=['Predicted']))\n",
    "print(classification_report(y_test_bow, y_pred))\n",
    "print(\"ROC-AUC\", roc_auc_score(y_test_bow, y_pred))\n",
    "print(\"PR-AUC-Score\", average_precision_score(y_test_bow, y_pred))\n",
    "print(\"Test Accuracy: \", accuracy_score(y_test_bow, y_pred))"
   ]
  },
  {
   "cell_type": "code",
   "execution_count": 319,
   "metadata": {},
   "outputs": [
    {
     "name": "stdout",
     "output_type": "stream",
     "text": [
      "order,nearest_averge_number_of_reviews,location,age_of_restaurant,service,think,review_count,close,place,staff,menu,fast,employee,customer,line,like,time,restaurant,busy,owner,"
     ]
    }
   ],
   "source": [
    "sorted_features = np.argsort(dt_model.feature_importances_)[::-1]\n",
    "for i in range(20):\n",
    "    print(all_the_features[sorted_features[i]], end=\",\")"
   ]
  },
  {
   "cell_type": "markdown",
   "metadata": {},
   "source": [
    "In a prior work the maximum accuracy was obtained by logistic regression which is around 72%. In this project, I applied a spacy lemmatizer for all models. Still, Logistic regression surpasses the others. It achieved around 75% accuracy in the baseline model. Hopefully, the model may improve after hyperparameter tuning"
   ]
  },
  {
   "cell_type": "markdown",
   "metadata": {
    "colab_type": "text",
    "id": "zaLocNBOA72Q"
   },
   "source": [
    "## 3. Ensembles"
   ]
  },
  {
   "cell_type": "markdown",
   "metadata": {},
   "source": [
    "The baseline models performed better witht the two bag of words features. Next I will try to use ensemble models"
   ]
  },
  {
   "cell_type": "markdown",
   "metadata": {},
   "source": [
    "### A. Bag of Words Model"
   ]
  },
  {
   "cell_type": "markdown",
   "metadata": {
    "colab_type": "text",
    "id": "aoTdg8MhA72R"
   },
   "source": [
    "#### Random Forest"
   ]
  },
  {
   "cell_type": "code",
   "execution_count": 211,
   "metadata": {
    "colab": {},
    "colab_type": "code",
    "id": "AYWUylhBA72R",
    "outputId": "1a23efe4-573f-4725-cf54-3021ea54fe23"
   },
   "outputs": [
    {
     "name": "stdout",
     "output_type": "stream",
     "text": [
      "\n",
      " Confusion Matrix\n",
      "Predicted   0.0   1.0\n",
      "True                 \n",
      "0.0        1937   542\n",
      "1.0         989  1490\n",
      "              precision    recall  f1-score   support\n",
      "\n",
      "         0.0       0.66      0.78      0.72      2479\n",
      "         1.0       0.73      0.60      0.66      2479\n",
      "\n",
      "   micro avg       0.69      0.69      0.69      4958\n",
      "   macro avg       0.70      0.69      0.69      4958\n",
      "weighted avg       0.70      0.69      0.69      4958\n",
      "\n",
      "ROC-AUC 0.6912061315046389\n",
      "PR-AUC-Score 0.6402052834359804\n",
      "Test Accuracy:  0.6912061315046389\n",
      "Train Accuracy:  0.8891970950171475\n"
     ]
    }
   ],
   "source": [
    "from sklearn.ensemble import RandomForestClassifier\n",
    "rfc_model = RandomForestClassifier(max_depth=50, n_estimators=900,  min_samples_leaf=15, n_jobs=-1)\n",
    "rfc_model.fit(X_train_bow_t, y_train_bow)\n",
    "y_pred = rfc_model.predict(X_test_bow_t)\n",
    "y_pred_train = rfc_model.predict(X_train_bow_t)\n",
    "print('\\n Confusion Matrix')\n",
    "print(pd.crosstab(y_test_bow, y_pred, rownames=['True'], colnames=['Predicted']))\n",
    "print(classification_report(y_test_bow, y_pred))\n",
    "print(\"ROC-AUC\", roc_auc_score(y_test_bow, y_pred))\n",
    "print(\"PR-AUC-Score\", average_precision_score(y_test_bow, y_pred))\n",
    "print(\"Test Accuracy: \", accuracy_score(y_test_bow, y_pred))\n",
    "print(\"Train Accuracy: \", accuracy_score(y_train_bow, y_pred_train))"
   ]
  },
  {
   "cell_type": "markdown",
   "metadata": {
    "colab_type": "text",
    "id": "MghA9_q7A72W"
   },
   "source": [
    "#### LightGBM"
   ]
  },
  {
   "cell_type": "code",
   "execution_count": 213,
   "metadata": {
    "colab": {},
    "colab_type": "code",
    "id": "-CWUqp1WA72W",
    "outputId": "656fc916-803d-425d-f41f-1d2999be46a7"
   },
   "outputs": [
    {
     "name": "stderr",
     "output_type": "stream",
     "text": [
      "/opt/anaconda3/lib/python3.7/site-packages/lightgbm/basic.py:478: UserWarning: Converting data to scipy sparse matrix.\n",
      "  warnings.warn('Converting data to scipy sparse matrix.')\n",
      "/opt/anaconda3/lib/python3.7/site-packages/lightgbm/basic.py:478: UserWarning: Converting data to scipy sparse matrix.\n",
      "  warnings.warn('Converting data to scipy sparse matrix.')\n"
     ]
    },
    {
     "name": "stdout",
     "output_type": "stream",
     "text": [
      "\n",
      " Confusion Matrix\n",
      "Predicted   0.0   1.0\n",
      "True                 \n",
      "0.0        1911   568\n",
      "1.0         811  1668\n",
      "              precision    recall  f1-score   support\n",
      "\n",
      "         0.0       0.70      0.77      0.73      2479\n",
      "         1.0       0.75      0.67      0.71      2479\n",
      "\n",
      "   micro avg       0.72      0.72      0.72      4958\n",
      "   macro avg       0.72      0.72      0.72      4958\n",
      "weighted avg       0.72      0.72      0.72      4958\n",
      "\n",
      "ROC-AUC 0.7218636546994756\n",
      "PR-AUC-Score 0.6655047298920953\n",
      "Test Accuracy:  0.7218636546994756\n",
      "Train Accuracy:  0.916885212830341\n"
     ]
    }
   ],
   "source": [
    "import lightgbm as lgb \n",
    "lgb_train_data = lgb.Dataset(X_train_bow_t,label=y_train_bow)\n",
    "\n",
    "params = {}\n",
    "params['learning_rate'] = 0.003\n",
    "params['boosting_type'] = 'gbdt'\n",
    "params['objective'] = 'binary'\n",
    "params['metric'] = 'binary_error'\n",
    "params['sub_feature'] = 0.5\n",
    "params['num_leaves'] = 150\n",
    "params['min_data'] = 50\n",
    "params['max_depth'] = 30\n",
    "\n",
    "#training our model using light gbm\n",
    "num_round=1000\n",
    "lgbm_model = lgb.train(params, lgb_train_data, num_round)\n",
    "\n",
    "y_pred = lgbm_model.predict(X_test_bow_t)\n",
    "#converting probabilities into 0 or 1\n",
    "for i in range(0, len(y_test_bow)):\n",
    "    if y_pred[i] >= .5:\n",
    "        y_pred [i] = 1\n",
    "    else:  \n",
    "        y_pred [i] = 0\n",
    "        \n",
    "y_pred_train = lgbm_model.predict(X_train_bow_t)\n",
    "#converting probabilities into 0 or 1\n",
    "for i in range(0,len(y_train_bow)):\n",
    "    if y_pred_train[i] >= .5:\n",
    "        y_pred_train [i] = 1\n",
    "    else:  \n",
    "        y_pred_train [i] = 0\n",
    "print('\\n Confusion Matrix')\n",
    "print(pd.crosstab(y_test_bow, y_pred, rownames=['True'], colnames=['Predicted']))\n",
    "print(classification_report(y_test_bow, y_pred))\n",
    "print(\"ROC-AUC\", roc_auc_score(y_test_bow, y_pred))\n",
    "print(\"PR-AUC-Score\", average_precision_score(y_test_bow, y_pred))\n",
    "print(\"Test Accuracy: \", accuracy_score(y_test_bow, y_pred))\n",
    "print(\"Train Accuracy: \", accuracy_score(y_train_bow, y_pred_train))"
   ]
  },
  {
   "cell_type": "code",
   "execution_count": 214,
   "metadata": {
    "colab": {},
    "colab_type": "code",
    "id": "vtD5MnBDA72X",
    "outputId": "d5edae2f-3e7a-4307-97aa-c8052a583514"
   },
   "outputs": [
    {
     "data": {
      "image/png": "[encoded data removed]",
      "text/plain": [
       "<Figure size 576x432 with 1 Axes>"
      ]
     },
     "metadata": {},
     "output_type": "display_data"
    }
   ],
   "source": [
    "feature_importance = lgbm_model.feature_importance()\n",
    "# Make importances relative to max importance.\n",
    "feature_importance = 100.0 * (feature_importance / feature_importance.max())\n",
    "# argsort sorts from smallest to largest\n",
    "sorted_idx = np.argsort(feature_importance)[-30:]\n",
    "pos = np.arange(sorted_idx.shape[0]) + .9\n",
    "# # use only one column of a 1 x 2 figure\n",
    "plt.subplot(1, 2, 2)\n",
    "# pos is the postion of the bars on the y axis\n",
    "# feature_importance[sorted_idx] is the width of the bars\n",
    "plt.barh(pos, feature_importance[sorted_idx], align='center')\n",
    "plt.yticks(pos, np.array(all_the_features)[[sorted_idx]])\n",
    "plt.xlabel('Relative Importance')\n",
    "plt.title('Variable Importance')\n",
    "plt.show()\n",
    "# print(\"\\nColumn headers\\n\\n\",X.columns)\n",
    "# print(\"\\n Feature Importance\", feature_importance)\n",
    "# print(\"\\nargsorted from smallest to largest\\n\\n\",sorted_idx)\n",
    "# print(\"\\nColumn headers\\n\\n\",X.columns[sorted_idx])\n",
    "# print(\"\\nRearranged accordingly\\n\\n\",feature_importance[sorted_idx])\n",
    "# print(\"\\nPosition on the y axis\\n\\n\", pos)"
   ]
  },
  {
   "cell_type": "markdown",
   "metadata": {
    "colab_type": "text",
    "id": "rzIJTE9mA72Y"
   },
   "source": [
    "#### XGBoost"
   ]
  },
  {
   "cell_type": "code",
   "execution_count": 216,
   "metadata": {},
   "outputs": [
    {
     "name": "stdout",
     "output_type": "stream",
     "text": [
      "\n",
      " Confusion Matrix\n",
      "Predicted   0.0   1.0\n",
      "True                 \n",
      "0.0        1796   683\n",
      "1.0         730  1749\n",
      "              precision    recall  f1-score   support\n",
      "\n",
      "         0.0       0.71      0.72      0.72      2479\n",
      "         1.0       0.72      0.71      0.71      2479\n",
      "\n",
      "   micro avg       0.72      0.72      0.72      4958\n",
      "   macro avg       0.72      0.72      0.71      4958\n",
      "weighted avg       0.72      0.72      0.71      4958\n",
      "\n",
      "ROC-AUC 0.7150060508269462\n",
      "PR-AUC-Score 0.6546240061251354\n",
      "Accuracy:  0.7150060508269463\n",
      "Train Accuracy:  0.7974077062739561\n"
     ]
    }
   ],
   "source": [
    "from xgboost import XGBClassifier\n",
    "xgboost_model = XGBClassifier()\n",
    "xgboost_model.fit(X_train_bow_t, y_train_bow)\n",
    "y_pred = xgboost_model.predict(X_test_bow_t)\n",
    "y_pred_train = xgboost_model.predict(X_train_bow_t)\n",
    "print('\\n Confusion Matrix')\n",
    "print(pd.crosstab(y_test_bow, y_pred, rownames=['True'], colnames=['Predicted']))\n",
    "print(classification_report(y_test_bow, y_pred))\n",
    "print(\"ROC-AUC\", roc_auc_score(y_test_bow, y_pred))\n",
    "print(\"PR-AUC-Score\", average_precision_score(y_test_bow, y_pred))\n",
    "print(\"Accuracy: \", accuracy_score(y_test_bow, y_pred))\n",
    "print(\"Train Accuracy: \", accuracy_score(y_train_bow, y_pred_train))"
   ]
  },
  {
   "cell_type": "code",
   "execution_count": 217,
   "metadata": {},
   "outputs": [
    {
     "data": {
      "image/png": "[encoded data removed]",
      "text/plain": [
       "<Figure size 576x432 with 1 Axes>"
      ]
     },
     "metadata": {},
     "output_type": "display_data"
    }
   ],
   "source": [
    "feature_importance = xgboost_model.feature_importances_\n",
    "# Make importances relative to max importance.\n",
    "feature_importance = 100.0 * (feature_importance / feature_importance.max())\n",
    "# argsort sorts from smallest to largest\n",
    "sorted_idx = np.argsort(feature_importance)[-30:]\n",
    "pos = np.arange(sorted_idx.shape[0]) + .9\n",
    "# # use only one column of a 1 x 2 figure\n",
    "plt.subplot(1, 2, 2)\n",
    "# pos is the postion of the bars on the y axis\n",
    "# feature_importance[sorted_idx] is the width of the bars\n",
    "plt.barh(pos, feature_importance[sorted_idx], align='center')\n",
    "plt.yticks(pos, np.array(all_the_features)[[sorted_idx]])\n",
    "plt.xlabel('Relative Importance')\n",
    "plt.title('Variable Importance')\n",
    "plt.show()"
   ]
  },
  {
   "cell_type": "markdown",
   "metadata": {},
   "source": [
    "### C. Bag of Words with IDF Penalty"
   ]
  },
  {
   "cell_type": "markdown",
   "metadata": {
    "colab_type": "text",
    "id": "aoTdg8MhA72R"
   },
   "source": [
    "#### Random Forest"
   ]
  },
  {
   "cell_type": "code",
   "execution_count": 218,
   "metadata": {
    "colab": {},
    "colab_type": "code",
    "id": "AYWUylhBA72R",
    "outputId": "1a23efe4-573f-4725-cf54-3021ea54fe23"
   },
   "outputs": [
    {
     "name": "stdout",
     "output_type": "stream",
     "text": [
      "\n",
      " Confusion Matrix\n",
      "Predicted   0.0   1.0\n",
      "True                 \n",
      "0.0        2071   408\n",
      "1.0        1293  1186\n",
      "              precision    recall  f1-score   support\n",
      "\n",
      "         0.0       0.62      0.84      0.71      2479\n",
      "         1.0       0.74      0.48      0.58      2479\n",
      "\n",
      "   micro avg       0.66      0.66      0.66      4958\n",
      "   macro avg       0.68      0.66      0.65      4958\n",
      "weighted avg       0.68      0.66      0.65      4958\n",
      "\n",
      "ROC-AUC 0.6569181121419927\n",
      "PR-AUC-Score 0.6167533757844438\n",
      "Test Accuracy:  0.6569181121419927\n",
      "Train Accuracy:  0.9032176719790196\n"
     ]
    }
   ],
   "source": [
    "from sklearn.ensemble import RandomForestClassifier\n",
    "rfc_model = RandomForestClassifier(max_depth=50, n_estimators=900,  min_samples_leaf=15, n_jobs=-1)\n",
    "rfc_model.fit(X_train_bow_penalized_t, y_train_bow)\n",
    "y_pred = rfc_model.predict(X_test_bow_t)\n",
    "y_pred_train = rfc_model.predict(X_train_bow_penalized_t)\n",
    "print('\\n Confusion Matrix')\n",
    "print(pd.crosstab(y_test_bow, y_pred, rownames=['True'], colnames=['Predicted']))\n",
    "print(classification_report(y_test_bow, y_pred))\n",
    "print(\"ROC-AUC\", roc_auc_score(y_test_bow, y_pred))\n",
    "print(\"PR-AUC-Score\", average_precision_score(y_test_bow, y_pred))\n",
    "print(\"Test Accuracy: \", accuracy_score(y_test_bow, y_pred))\n",
    "print(\"Train Accuracy: \", accuracy_score(y_train_bow, y_pred_train))"
   ]
  },
  {
   "cell_type": "markdown",
   "metadata": {
    "colab_type": "text",
    "id": "MghA9_q7A72W"
   },
   "source": [
    "#### LightGBM"
   ]
  },
  {
   "cell_type": "code",
   "execution_count": 220,
   "metadata": {
    "colab": {},
    "colab_type": "code",
    "id": "-CWUqp1WA72W",
    "outputId": "656fc916-803d-425d-f41f-1d2999be46a7"
   },
   "outputs": [
    {
     "name": "stderr",
     "output_type": "stream",
     "text": [
      "/opt/anaconda3/lib/python3.7/site-packages/lightgbm/basic.py:478: UserWarning: Converting data to scipy sparse matrix.\n",
      "  warnings.warn('Converting data to scipy sparse matrix.')\n",
      "/opt/anaconda3/lib/python3.7/site-packages/lightgbm/basic.py:478: UserWarning: Converting data to scipy sparse matrix.\n",
      "  warnings.warn('Converting data to scipy sparse matrix.')\n"
     ]
    },
    {
     "name": "stdout",
     "output_type": "stream",
     "text": [
      "\n",
      " Confusion Matrix\n",
      "Predicted   0.0   1.0\n",
      "True                 \n",
      "0.0        1957   522\n",
      "1.0         997  1482\n",
      "              precision    recall  f1-score   support\n",
      "\n",
      "         0.0       0.66      0.79      0.72      2479\n",
      "         1.0       0.74      0.60      0.66      2479\n",
      "\n",
      "   micro avg       0.69      0.69      0.69      4958\n",
      "   macro avg       0.70      0.69      0.69      4958\n",
      "weighted avg       0.70      0.69      0.69      4958\n",
      "\n",
      "ROC-AUC 0.6936264622831787\n",
      "PR-AUC-Score 0.6431908268980393\n",
      "Test Accuracy:  0.6936264622831787\n",
      "Train Accuracy:  0.9315614282832358\n"
     ]
    }
   ],
   "source": [
    "import lightgbm as lgb \n",
    "lgb_train_data = lgb.Dataset(X_train_bow_penalized_t,label=y_train_bow)\n",
    "\n",
    "params = {}\n",
    "params['learning_rate'] = 0.003\n",
    "params['boosting_type'] = 'gbdt'\n",
    "params['objective'] = 'binary'\n",
    "params['metric'] = 'binary_error'\n",
    "params['sub_feature'] = 0.5\n",
    "params['num_leaves'] = 150\n",
    "params['min_data'] = 50\n",
    "params['max_depth'] = 30\n",
    "\n",
    "#training our model using light gbm\n",
    "num_round=1000\n",
    "lgbm_model = lgb.train(params, lgb_train_data, num_round)\n",
    "\n",
    "y_pred = lgbm_model.predict(X_test_bow_t)\n",
    "#converting probabilities into 0 or 1\n",
    "for i in range(0, len(y_test_bow)):\n",
    "    if y_pred[i] >= .5:\n",
    "        y_pred [i] = 1\n",
    "    else:  \n",
    "        y_pred [i] = 0\n",
    "        \n",
    "y_pred_train = lgbm_model.predict(X_train_bow_penalized_t)\n",
    "#converting probabilities into 0 or 1\n",
    "for i in range(0,len(y_train_bow)):\n",
    "    if y_pred_train[i] >= .5:\n",
    "        y_pred_train [i] = 1\n",
    "    else:  \n",
    "        y_pred_train [i] = 0\n",
    "print('\\n Confusion Matrix')\n",
    "print(pd.crosstab(y_test_bow, y_pred, rownames=['True'], colnames=['Predicted']))\n",
    "print(classification_report(y_test_bow, y_pred))\n",
    "print(\"ROC-AUC\", roc_auc_score(y_test_bow, y_pred))\n",
    "print(\"PR-AUC-Score\", average_precision_score(y_test_bow, y_pred))\n",
    "print(\"Test Accuracy: \", accuracy_score(y_test_bow, y_pred))\n",
    "print(\"Train Accuracy: \", accuracy_score(y_train_bow, y_pred_train))"
   ]
  },
  {
   "cell_type": "code",
   "execution_count": 221,
   "metadata": {
    "colab": {},
    "colab_type": "code",
    "id": "vtD5MnBDA72X",
    "outputId": "d5edae2f-3e7a-4307-97aa-c8052a583514"
   },
   "outputs": [
    {
     "data": {
      "image/png": "[encoded data removed]",
      "text/plain": [
       "<Figure size 576x432 with 1 Axes>"
      ]
     },
     "metadata": {},
     "output_type": "display_data"
    }
   ],
   "source": [
    "feature_importance = lgbm_model.feature_importance()\n",
    "# Make importances relative to max importance.\n",
    "feature_importance = 100.0 * (feature_importance / feature_importance.max())\n",
    "# argsort sorts from smallest to largest\n",
    "sorted_idx = np.argsort(feature_importance)[-30:]\n",
    "pos = np.arange(sorted_idx.shape[0]) + .9\n",
    "# # use only one column of a 1 x 2 figure\n",
    "plt.subplot(1, 2, 2)\n",
    "# pos is the postion of the bars on the y axis\n",
    "# feature_importance[sorted_idx] is the width of the bars\n",
    "plt.barh(pos, feature_importance[sorted_idx], align='center')\n",
    "plt.yticks(pos, np.array(all_the_features)[[sorted_idx]])\n",
    "plt.xlabel('Relative Importance')\n",
    "plt.title('Variable Importance')\n",
    "plt.show()\n",
    "# print(\"\\nColumn headers\\n\\n\",X.columns)\n",
    "# print(\"\\n Feature Importance\", feature_importance)\n",
    "# print(\"\\nargsorted from smallest to largest\\n\\n\",sorted_idx)\n",
    "# print(\"\\nColumn headers\\n\\n\",X.columns[sorted_idx])\n",
    "# print(\"\\nRearranged accordingly\\n\\n\",feature_importance[sorted_idx])\n",
    "# print(\"\\nPosition on the y axis\\n\\n\", pos)"
   ]
  },
  {
   "cell_type": "markdown",
   "metadata": {},
   "source": [
    "average stars is not selected as important feature. All the other dense features are selected. Nearest average rating is the least important one.\n",
    "\n",
    "place, order, service, close, menu, restaurant, try, like think, staff, fast are important textual features"
   ]
  },
  {
   "cell_type": "markdown",
   "metadata": {
    "colab_type": "text",
    "id": "rzIJTE9mA72Y"
   },
   "source": [
    "#### XGBoost"
   ]
  },
  {
   "cell_type": "code",
   "execution_count": 224,
   "metadata": {},
   "outputs": [
    {
     "name": "stdout",
     "output_type": "stream",
     "text": [
      "\n",
      " Confusion Matrix\n",
      "Predicted   0.0   1.0\n",
      "True                 \n",
      "0.0        1833   646\n",
      "1.0         887  1592\n",
      "              precision    recall  f1-score   support\n",
      "\n",
      "         0.0       0.67      0.74      0.71      2479\n",
      "         1.0       0.71      0.64      0.68      2479\n",
      "\n",
      "   micro avg       0.69      0.69      0.69      4958\n",
      "   macro avg       0.69      0.69      0.69      4958\n",
      "weighted avg       0.69      0.69      0.69      4958\n",
      "\n",
      "ROC-AUC 0.690802743041549\n",
      "PR-AUC-Score 0.6357274204299133\n",
      "Accuracy:  0.690802743041549\n",
      "Train Accuracy:  0.8365947145450877\n"
     ]
    }
   ],
   "source": [
    "from xgboost import XGBClassifier\n",
    "xgboost_model = XGBClassifier()\n",
    "xgboost_model.fit(X_train_bow_penalized_t, y_train_bow)\n",
    "y_pred = xgboost_model.predict(X_test_bow_t)\n",
    "y_pred_train = xgboost_model.predict(X_train_bow_penalized_t)\n",
    "print('\\n Confusion Matrix')\n",
    "print(pd.crosstab(y_test_bow, y_pred, rownames=['True'], colnames=['Predicted']))\n",
    "print(classification_report(y_test_bow, y_pred))\n",
    "print(\"ROC-AUC\", roc_auc_score(y_test_bow, y_pred))\n",
    "print(\"PR-AUC-Score\", average_precision_score(y_test_bow, y_pred))\n",
    "print(\"Accuracy: \", accuracy_score(y_test_bow, y_pred))\n",
    "print(\"Train Accuracy: \", accuracy_score(y_train_bow, y_pred_train))"
   ]
  },
  {
   "cell_type": "code",
   "execution_count": 225,
   "metadata": {},
   "outputs": [
    {
     "data": {
      "image/png": "[encoded data removed]",
      "text/plain": [
       "<Figure size 576x432 with 1 Axes>"
      ]
     },
     "metadata": {},
     "output_type": "display_data"
    }
   ],
   "source": [
    "feature_importance = xgboost_model.feature_importances_\n",
    "# Make importances relative to max importance.\n",
    "feature_importance = 100.0 * (feature_importance / feature_importance.max())\n",
    "# argsort sorts from smallest to largest\n",
    "sorted_idx = np.argsort(feature_importance)[-30:]\n",
    "pos = np.arange(sorted_idx.shape[0]) + .9\n",
    "# # use only one column of a 1 x 2 figure\n",
    "plt.subplot(1, 2, 2)\n",
    "# pos is the postion of the bars on the y axis\n",
    "# feature_importance[sorted_idx] is the width of the bars\n",
    "plt.barh(pos, feature_importance[sorted_idx], align='center')\n",
    "plt.yticks(pos, np.array(all_the_features)[[sorted_idx]])\n",
    "plt.xlabel('Relative Importance')\n",
    "plt.title('Variable Importance')\n",
    "plt.show()"
   ]
  },
  {
   "cell_type": "markdown",
   "metadata": {},
   "source": [
    "XGBoost didn't select nearest average rating, average stars, as an important feature. \n",
    "\n",
    "think, place, service, location, order, menu, fast, like busy, rude are important textual features\n",
    "\n",
    "\n",
    "IDF penality didn't increase the performance. Therefore I will only tune models using the bag of words model"
   ]
  },
  {
   "cell_type": "markdown",
   "metadata": {
    "colab_type": "text",
    "id": "bDX9EV9JA72c"
   },
   "source": [
    "## 4. Parameter Tuning and Testing"
   ]
  },
  {
   "cell_type": "markdown",
   "metadata": {
    "colab_type": "text",
    "id": "SWv_l_q2A72c"
   },
   "source": [
    "### Best Parameters for Logistic Regression"
   ]
  },
  {
   "cell_type": "markdown",
   "metadata": {},
   "source": [
    "The training set is used for cross-validation. I gave it X_train_bow[:, 1:] which is the data that didn't pass through the pipeline. GridSearchCV divides the data into five and transforms the training folds and testing fold seprately. It ensures 0% data leakage."
   ]
  },
  {
   "cell_type": "code",
   "execution_count": 228,
   "metadata": {},
   "outputs": [],
   "source": [
    "pipeline = Pipeline([\n",
    "                     ('dtf', DistanceTransformer()),\n",
    "                     ('imputer', SimpleImputer(strategy=\"mean\")), \n",
    "                     (\"scale-normalize\", CustomNormalizer()),\n",
    "    (\"logistic\", LogisticRegression())])"
   ]
  },
  {
   "cell_type": "code",
   "execution_count": 239,
   "metadata": {
    "colab": {},
    "colab_type": "code",
    "id": "3tMNdfiBA72d"
   },
   "outputs": [
    {
     "name": "stdout",
     "output_type": "stream",
     "text": [
      "Best parameter (CV score=0.845):\n",
      "{'logistic__C': 1.5, 'logistic__penalty': 'l2'}\n"
     ]
    }
   ],
   "source": [
    "from sklearn.model_selection import ParameterGrid, GridSearchCV\n",
    "param_grid = {'logistic__C': [0.1, 0.15, 0.2, 0.25, 0.5, 0.8, 1.0, 1.25,1.5], \n",
    "                   'logistic__penalty' :['l2']\n",
    "                  }\n",
    "logistic_search = GridSearchCV(pipeline, param_grid, iid=False, cv=5,\n",
    "                      return_train_score=True, n_jobs=-1)\n",
    "logistic_search.fit(X_train_bow[:, 1:], y_train_bow)\n",
    "print(\"Best parameter (CV score=%0.3f):\" % logistic_search.best_score_)\n",
    "print(logistic_search.best_params_)"
   ]
  },
  {
   "cell_type": "code",
   "execution_count": 242,
   "metadata": {},
   "outputs": [
    {
     "data": {
      "text/plain": [
       "{'mean_fit_time': array([73.5935308 , 73.98362007, 74.47313714, 73.81953764, 73.86055508,\n",
       "        72.70619111, 72.27944546, 72.20310106, 57.15355263]),\n",
       " 'std_fit_time': array([0.26433671, 0.68433579, 0.19868645, 0.48705329, 0.64096314,\n",
       "        0.25610647, 0.80351607, 0.45542303, 3.42984053]),\n",
       " 'mean_score_time': array([11.89971633, 11.81096492, 11.83928585, 11.83185682, 11.88933687,\n",
       "        11.65680456, 11.77552938, 11.75315151,  9.29918165]),\n",
       " 'std_score_time': array([0.08561109, 0.06568171, 0.05616433, 0.08500734, 0.1434633 ,\n",
       "        0.03662108, 0.15811555, 0.10930451, 1.51833826]),\n",
       " 'param_logistic__C': masked_array(data=[0.1, 0.15, 0.2, 0.25, 0.5, 0.8, 1.0, 1.25, 1.5],\n",
       "              mask=[False, False, False, False, False, False, False, False,\n",
       "                    False],\n",
       "        fill_value='?',\n",
       "             dtype=object),\n",
       " 'param_logistic__penalty': masked_array(data=['l2', 'l2', 'l2', 'l2', 'l2', 'l2', 'l2', 'l2', 'l2'],\n",
       "              mask=[False, False, False, False, False, False, False, False,\n",
       "                    False],\n",
       "        fill_value='?',\n",
       "             dtype=object),\n",
       " 'params': [{'logistic__C': 0.1, 'logistic__penalty': 'l2'},\n",
       "  {'logistic__C': 0.15, 'logistic__penalty': 'l2'},\n",
       "  {'logistic__C': 0.2, 'logistic__penalty': 'l2'},\n",
       "  {'logistic__C': 0.25, 'logistic__penalty': 'l2'},\n",
       "  {'logistic__C': 0.5, 'logistic__penalty': 'l2'},\n",
       "  {'logistic__C': 0.8, 'logistic__penalty': 'l2'},\n",
       "  {'logistic__C': 1.0, 'logistic__penalty': 'l2'},\n",
       "  {'logistic__C': 1.25, 'logistic__penalty': 'l2'},\n",
       "  {'logistic__C': 1.5, 'logistic__penalty': 'l2'}],\n",
       " 'split0_test_score': array([0.78113969, 0.80156329, 0.81164902, 0.81996974, 0.83535048,\n",
       "        0.84392335, 0.84871407, 0.85199193, 0.8530005 ]),\n",
       " 'split1_test_score': array([0.77181039, 0.7934947 , 0.80534544, 0.8103883 , 0.83383762,\n",
       "        0.83787191, 0.84089763, 0.84089763, 0.84165406]),\n",
       " 'split2_test_score': array([0.77231467, 0.78895613, 0.80408472, 0.8121533 , 0.83055976,\n",
       "        0.83862834, 0.84039334, 0.84417549, 0.84619264]),\n",
       " 'split3_test_score': array([0.7713061 , 0.79299042, 0.80433686, 0.81391831, 0.83207262,\n",
       "        0.84140192, 0.84140192, 0.84039334, 0.84165406]),\n",
       " 'split4_test_score': array([0.7815338 , 0.79667003, 0.80877901, 0.81634712, 0.83324924,\n",
       "        0.83753784, 0.83829465, 0.83905146, 0.84006054]),\n",
       " 'mean_test_score': array([0.77562093, 0.79473491, 0.80683901, 0.81455536, 0.83301394,\n",
       "        0.83987267, 0.84194032, 0.84330197, 0.84451236]),\n",
       " 'std_test_score': array([0.00467949, 0.0042035 , 0.0029318 , 0.00334861, 0.00161879,\n",
       "        0.00243924, 0.00354809, 0.00466018, 0.00471233]),\n",
       " 'rank_test_score': array([9, 8, 7, 6, 5, 4, 3, 2, 1], dtype=int32),\n",
       " 'split0_train_score': array([0.80469046, 0.82366662, 0.83671668, 0.8481276 , 0.87485815,\n",
       "        0.88633211, 0.89175388, 0.89761695, 0.90184088]),\n",
       " 'split1_train_score': array([0.80513176, 0.82631446, 0.83841886, 0.84976674, 0.87542555,\n",
       "        0.88633211, 0.89314084, 0.89831043, 0.9015887 ]),\n",
       " 'split2_train_score': array([0.80235784, 0.82473837, 0.83892321, 0.84951456, 0.87454293,\n",
       "        0.88696255, 0.89288866, 0.89761695, 0.90152566]),\n",
       " 'split3_train_score': array([0.80197957, 0.82511663, 0.83892321, 0.84995587, 0.87542555,\n",
       "        0.88853865, 0.89477998, 0.89976043, 0.90341697]),\n",
       " 'split4_train_score': array([0.80477811, 0.82652547, 0.84127584, 0.85148764, 0.87752143,\n",
       "        0.88981341, 0.89428896, 0.89800807, 0.90242057]),\n",
       " 'mean_train_score': array([0.80378755, 0.82527231, 0.83885156, 0.84977048, 0.87555472,\n",
       "        0.88759577, 0.89337046, 0.89826256, 0.90215856]),\n",
       " 'std_train_score': array([0.00133538, 0.001053  , 0.00145824, 0.00107216, 0.00104022,\n",
       "        0.00137125, 0.00107038, 0.00079301, 0.00070406])}"
      ]
     },
     "execution_count": 242,
     "metadata": {},
     "output_type": "execute_result"
    }
   ],
   "source": [
    "logistic_search.cv_results_"
   ]
  },
  {
   "cell_type": "code",
   "execution_count": 275,
   "metadata": {},
   "outputs": [
    {
     "name": "stdout",
     "output_type": "stream",
     "text": [
      "\n",
      " Confusion Matrix\n",
      "Predicted   0.0   1.0\n",
      "True                 \n",
      "0.0        1870   609\n",
      "1.0         695  1784\n",
      "              precision    recall  f1-score   support\n",
      "\n",
      "         0.0       0.73      0.75      0.74      2479\n",
      "         1.0       0.75      0.72      0.73      2479\n",
      "\n",
      "   micro avg       0.74      0.74      0.74      4958\n",
      "   macro avg       0.74      0.74      0.74      4958\n",
      "weighted avg       0.74      0.74      0.74      4958\n",
      "\n",
      "ROC-AUC 0.7369907220653489\n",
      "PR-AUC-Score 0.6766784154469629\n",
      "Test Accuracy:  0.7369907220653489\n",
      "Train Accuracy:  0.900040346984063\n"
     ]
    }
   ],
   "source": [
    "y_pred = logistic_search.predict(X_test_bow[:,1:])\n",
    "y_pred_train = logistic_search.predict(X_train_bow[:,1:])\n",
    "print('\\n Confusion Matrix')\n",
    "print(pd.crosstab(y_test_bow, y_pred, rownames=['True'], colnames=['Predicted']))\n",
    "print(classification_report(y_test_bow, y_pred))\n",
    "print(\"ROC-AUC\", roc_auc_score(y_test_bow, y_pred))\n",
    "print(\"PR-AUC-Score\", average_precision_score(y_test_bow, y_pred))\n",
    "print(\"Test Accuracy: \", accuracy_score(y_test_bow, y_pred))\n",
    "print(\"Train Accuracy: \", accuracy_score(y_train_bow, y_pred_train))"
   ]
  },
  {
   "cell_type": "markdown",
   "metadata": {},
   "source": [
    "Logistic Regression cross validation score shows 84% accuracy. There is very small varaince in cross validation test scores. It is promising result. The test-score is not more than 74%. "
   ]
  },
  {
   "cell_type": "markdown",
   "metadata": {
    "colab_type": "text",
    "id": "P1QsUVgCA72h"
   },
   "source": [
    "### Best Parameters for LightGBM"
   ]
  },
  {
   "cell_type": "code",
   "execution_count": null,
   "metadata": {
    "colab": {},
    "colab_type": "code",
    "id": "RZsSG9kPA72i"
   },
   "outputs": [],
   "source": [
    "# This code takes 4 hours, it results are pasted below\n",
    "\n",
    "# #https://lightgbm.readthedocs.io/en/latest/Parameters.html\n",
    "# import lightgbm as lgb\n",
    "# lgbm_classifier = lgb.LGBMClassifier(silent=False, n_jobs=20)\n",
    "\n",
    "# # Create parameters to search\n",
    "# gridParams = {}\n",
    "# gridParams['lgbm_classifier__metric'] = ['binary_error']\n",
    "# gridParams['lgbm_classifier__objective'] = ['binary']\n",
    "# gridParams['lgbm_classifier__max_bin'] = [300]\n",
    "\n",
    "# # the following parameters prevent overfitting\n",
    "# gridParams['lgbm_classifier__num_leaves'] = [150]\n",
    "# gridParams['lgbm_classifier__min_data_in_leaf'] = [50, 100]\n",
    "# #gridParams['lgbm_classifier__min_sum_hessian_in_leaf']\n",
    "# gridParams['lgbm_classifier__bagging_fraction'] =[0.8]\n",
    "# gridParams['lgbm_classifier__bagging_freq'] = [5,10]\n",
    "# gridParams['lgbm_classifier__feature_fraction'] = [0.7, 0.8]\n",
    "\n",
    "# gridParams['lgbm_classifier__learning_rate'] = [0.01]\n",
    "# gridParams['lgbm_classifier__n_estimators'] = [100]\n",
    "# gridParams['lgbm_classifier__max_depth'] = [30]\n",
    "# gridParams['lgbm_classifier__boosting_type'] = ['gbdt']\n",
    "# gridParams['lgbm_classifier__subsample'] = [0.7, 0.75, 0.80]\n",
    "# gridParams['lgbm_classifier__reg_alpha'] = [1.2]\n",
    "# gridParams['lgbm_classifier__reg_lambda'] = [1.2]\n",
    "\n",
    "# pipeline = Pipeline([('DFC', DistanceFeaturesCreator()),('imputer', SimpleImputer(strategy=\"mean\")), \n",
    "#                      (\"scale-normalize\", CustomNormalizer()),(\"lgbm_classifier\", lgbm_classifier)])\n",
    "# # Create the grid\n",
    "# grid = GridSearchCV(pipeline, gridParams, verbose=1, cv=3, n_jobs=-1)\n",
    "\n",
    "# lgb_train_data2 =lgb.Dataset(X_train_rt,label=y_train_resampled)\n",
    "\n",
    "# grid.fit(X_train_rt, y_train_resampled)\n",
    "\n",
    "# # Print the best parameters found\n",
    "# print(grid.best_params_)\n",
    "# print(grid.best_score_)"
   ]
  },
  {
   "cell_type": "markdown",
   "metadata": {
    "colab_type": "text",
    "id": "59gc-fVcA72i"
   },
   "source": [
    "Fitting 3 folds for each of 24 candidates, totalling 72 fits\n",
    "\n",
    "[Parallel(n_jobs=-1)]: Using backend LokyBackend with 4 concurrent workers.\n",
    "\n",
    "[Parallel(n_jobs=-1)]: Done  42 tasks      | elapsed: 74.3min\n",
    "\n",
    "[Parallel(n_jobs=-1)]: Done  72 out of  72 | elapsed: 117.0min finished\n",
    "\n",
    "{'lgbm_classifier__bagging_fraction': 0.8, 'lgbm_classifier__bagging_freq': 10, 'lgbm_classifier__boosting_type': 'gbdt', 'lgbm_classifier__feature_fraction': 0.7, 'lgbm_classifier__learning_rate': 0.01, 'lgbm_classifier__max_bin': 300, 'lgbm_classifier__max_depth': 30, 'lgbm_classifier__metric': 'binary_error', 'lgbm_classifier__min_data_in_leaf': 50, 'lgbm_classifier__n_estimators': 100, 'lgbm_classifier__num_leaves': 150, 'lgbm_classifier__objective': 'binary', 'lgbm_classifier__reg_alpha': 1.2, 'lgbm_classifier__reg_lambda': 1.2, 'lgbm_classifier__subsample': 0.7}\n",
    "\n",
    "0.7127799072019366"
   ]
  },
  {
   "cell_type": "code",
   "execution_count": null,
   "metadata": {
    "colab": {},
    "colab_type": "code",
    "id": "VRpsAst6A72j"
   },
   "outputs": [],
   "source": [
    "# this code took 8 hours, it results are pasted below\n",
    "\n",
    "# #https://lightgbm.readthedocs.io/en/latest/Parameters.html\n",
    "# import lightgbm as lgb\n",
    "# lgbm_classifier = lgb.LGBMClassifier(silent=False, n_jobs=20)\n",
    "\n",
    "# # Create parameters to search\n",
    "# gridParams = {}\n",
    "# gridParams['lgbm_classifier__metric'] = ['binary_error']\n",
    "# gridParams['lgbm_classifier__objective'] = ['binary']\n",
    "# gridParams['lgbm_classifier__max_bin'] = [300]\n",
    "\n",
    "# # the following parameters prevent overfitting\n",
    "# gridParams['lgbm_classifier__num_leaves'] = [100,150]\n",
    "# gridParams['lgbm_classifier__min_data_in_leaf'] = [40, 50]\n",
    "# #gridParams['lgbm_classifier__min_sum_hessian_in_leaf']\n",
    "# gridParams['lgbm_classifier__bagging_fraction'] =[0.7]\n",
    "# gridParams['lgbm_classifier__bagging_freq'] = [10]\n",
    "# gridParams['lgbm_classifier__feature_fraction'] = [0.6, 0.7, 0.8]\n",
    "\n",
    "# gridParams['lgbm_classifier__learning_rate'] = [0.01]\n",
    "# gridParams['lgbm_classifier__n_estimators'] = [100]\n",
    "# gridParams['lgbm_classifier__max_depth'] = [20,30]\n",
    "# gridParams['lgbm_classifier__boosting_type'] = ['gbdt']\n",
    "# gridParams['lgbm_classifier__subsample'] = [0.6, 0.7]\n",
    "# gridParams['lgbm_classifier__reg_alpha'] = [1.2]\n",
    "# gridParams['lgbm_classifier__reg_lambda'] = [1.2]\n",
    "\n",
    "# pipeline = Pipeline([('DFC', DistanceFeaturesCreator()),('imputer', SimpleImputer(strategy=\"mean\")), \n",
    "#                      (\"scale-normalize\", CustomNormalizer()),(\"lgbm_classifier\", lgbm_classifier)])\n",
    "# # Create the grid\n",
    "# grid = GridSearchCV(pipeline, gridParams, verbose=1, cv=3, n_jobs=-1)\n",
    "\n",
    "# lgb_train_data2 =lgb.Dataset(X_train_rt,label=y_train_resampled)\n",
    "\n",
    "# grid.fit(X_train_rt, y_train_resampled)\n",
    "\n",
    "# # Print the best parameters found\n",
    "# print(grid.best_params_)\n",
    "# print(grid.best_score_)"
   ]
  },
  {
   "cell_type": "markdown",
   "metadata": {
    "colab_type": "text",
    "id": "hE_cUQ-jA72k"
   },
   "source": [
    "Fitting 3 folds for each of 48 candidates, totalling 144 fits\n",
    "\n",
    "[Parallel(n_jobs=-1)]: Using backend LokyBackend with 4 concurrent workers.\n",
    "    \n",
    "[Parallel(n_jobs=-1)]: Done  42 tasks      | elapsed: 57.8min\n",
    "        \n",
    "[Parallel(n_jobs=-1)]: Done 144 out of 144 | elapsed: 188.7min finished\n",
    "        \n",
    "{'lgbm_classifier__bagging_fraction': 0.7, 'lgbm_classifier__bagging_freq': 10, 'lgbm_classifier__boosting_type': 'gbdt', 'lgbm_classifier__feature_fraction': 0.6, 'lgbm_classifier__learning_rate': 0.01, 'lgbm_classifier__max_bin': 300, 'lgbm_classifier__max_depth': 20, 'lgbm_classifier__metric': 'binary_error', 'lgbm_classifier__min_data_in_leaf': 50, 'lgbm_classifier__n_estimators': 100, 'lgbm_classifier__num_leaves': 100, 'lgbm_classifier__objective': 'binary', 'lgbm_classifier__reg_alpha': 1.2, 'lgbm_classifier__reg_lambda': 1.2, 'lgbm_classifier__subsample': 0.6}\n",
    "\n",
    "0.715856364736736"
   ]
  },
  {
   "cell_type": "code",
   "execution_count": null,
   "metadata": {
    "colab": {},
    "colab_type": "code",
    "id": "pfkrpR6AA72l"
   },
   "outputs": [],
   "source": [
    "# This code took more than 8 hours. Its results are pasted below\n",
    "\n",
    "# #https://lightgbm.readthedocs.io/en/latest/Parameters.html\n",
    "# import lightgbm as lgb\n",
    "# lgbm_classifier = lgb.LGBMClassifier(silent=False, n_jobs=20)\n",
    "\n",
    "# # Create parameters to search\n",
    "# gridParams = {}\n",
    "# gridParams['lgbm_classifier__metric'] = ['binary_error']\n",
    "# gridParams['lgbm_classifier__objective'] = ['binary']\n",
    "# gridParams['lgbm_classifier__max_bin'] = [300]\n",
    "\n",
    "# # the following parameters prevent overfitting\n",
    "# gridParams['lgbm_classifier__num_leaves'] = [100,150]\n",
    "# gridParams['lgbm_classifier__min_data_in_leaf'] = [60, 70]\n",
    "# #gridParams['lgbm_classifier__min_sum_hessian_in_leaf']\n",
    "# gridParams['lgbm_classifier__bagging_fraction'] =[0.6, 0.65]\n",
    "# gridParams['lgbm_classifier__bagging_freq'] = [10]\n",
    "# gridParams['lgbm_classifier__feature_fraction'] = [0.5, 0.6, 0.7]\n",
    "\n",
    "# gridParams['lgbm_classifier__learning_rate'] = [0.01]\n",
    "# gridParams['lgbm_classifier__n_estimators'] = [100]\n",
    "# gridParams['lgbm_classifier__max_depth'] = [20, 25]\n",
    "# gridParams['lgbm_classifier__boosting_type'] = ['gbdt']\n",
    "# gridParams['lgbm_classifier__subsample'] = [0.6, 0.65]\n",
    "# gridParams['lgbm_classifier__reg_alpha'] = [1.2]\n",
    "# gridParams['lgbm_classifier__reg_lambda'] = [1.2]\n",
    "\n",
    "# pipeline = Pipeline([('DFC', DistanceFeaturesCreator()),('imputer', SimpleImputer(strategy=\"mean\")), \n",
    "#                      (\"scale-normalize\", CustomNormalizer()),(\"lgbm_classifier\", lgbm_classifier)])\n",
    "# # Create the grid\n",
    "# grid = GridSearchCV(pipeline, gridParams, verbose=1, cv=3, n_jobs=-1)\n",
    "\n",
    "# lgb_train_data2 =lgb.Dataset(X_train_rt,label=y_train_resampled)\n",
    "\n",
    "# grid.fit(X_train_rt, y_train_resampled)\n",
    "\n",
    "# # Print the best parameters found\n",
    "# print(grid.best_params_)\n",
    "# print(grid.best_score_)"
   ]
  },
  {
   "cell_type": "markdown",
   "metadata": {
    "colab_type": "text",
    "id": "-r16H4KfA72m"
   },
   "source": [
    "Fitting 3 folds for each of 96 candidates, totalling 288 fits\n",
    "\n",
    "[Parallel(n_jobs=-1)]: Using backend LokyBackend with 4 concurrent workers.\n",
    "    \n",
    "[Parallel(n_jobs=-1)]: Done  42 tasks      | elapsed: 51.4min\n",
    "        \n",
    "[Parallel(n_jobs=-1)]: Done 192 tasks      | elapsed: 266.8min\n",
    "        \n",
    "[Parallel(n_jobs=-1)]: Done 288 out of 288 | elapsed: 396.1min finished\n",
    "        \n",
    "{'lgbm_classifier__bagging_fraction': 0.65, 'lgbm_classifier__bagging_freq': 10, 'lgbm_classifier__boosting_type': 'gbdt', 'lgbm_classifier__feature_fraction': 0.5, 'lgbm_classifier__learning_rate': 0.01, 'lgbm_classifier__max_bin': 300, 'lgbm_classifier__max_depth': 20, 'lgbm_classifier__metric': 'binary_error', 'lgbm_classifier__min_data_in_leaf': 60, 'lgbm_classifier__n_estimators': 100, 'lgbm_classifier__num_leaves': 100, 'lgbm_classifier__objective': 'binary', 'lgbm_classifier__reg_alpha': 1.2, 'lgbm_classifier__reg_lambda': 1.2, 'lgbm_classifier__subsample': 0.6}\n",
    "\n",
    "0.7143937865644543"
   ]
  },
  {
   "cell_type": "code",
   "execution_count": 277,
   "metadata": {
    "colab": {},
    "colab_type": "code",
    "id": "Sq36mMr1A72r",
    "outputId": "439ace16-6d04-437a-d956-5225bb522388"
   },
   "outputs": [
    {
     "name": "stderr",
     "output_type": "stream",
     "text": [
      "/opt/anaconda3/lib/python3.7/site-packages/lightgbm/engine.py:118: UserWarning: Found `n_estimators` in params. Will use it instead of argument\n",
      "  warnings.warn(\"Found `{}` in params. Will use it instead of argument\".format(alias))\n",
      "/opt/anaconda3/lib/python3.7/site-packages/lightgbm/basic.py:478: UserWarning: Converting data to scipy sparse matrix.\n",
      "  warnings.warn('Converting data to scipy sparse matrix.')\n",
      "/opt/anaconda3/lib/python3.7/site-packages/lightgbm/basic.py:478: UserWarning: Converting data to scipy sparse matrix.\n",
      "  warnings.warn('Converting data to scipy sparse matrix.')\n"
     ]
    },
    {
     "name": "stdout",
     "output_type": "stream",
     "text": [
      "\n",
      " Confusion Matrix\n",
      "Predicted   0.0   1.0\n",
      "True                 \n",
      "0.0        1957   522\n",
      "1.0         986  1493\n",
      "              precision    recall  f1-score   support\n",
      "\n",
      "         0.0       0.66      0.79      0.72      2479\n",
      "         1.0       0.74      0.60      0.66      2479\n",
      "\n",
      "   micro avg       0.70      0.70      0.70      4958\n",
      "   macro avg       0.70      0.70      0.69      4958\n",
      "weighted avg       0.70      0.70      0.69      4958\n",
      "\n",
      "ROC-AUC 0.6958450988301735\n",
      "PR-AUC-Score 0.6451100409694536\n",
      "Test Accuracy:  0.6958450988301734\n",
      "Train Accuracy:  0.821111559410934\n"
     ]
    }
   ],
   "source": [
    "import lightgbm as lgb \n",
    "lgb_train_data =lgb.Dataset(X_train_bow_t,label=y_train_bow)\n",
    "\n",
    "params = {}\n",
    "\n",
    "params['bagging_fraction'] = 0.7\n",
    "params['bagging_freq'] = 10\n",
    "params['boosting_type'] = 'gbdt'\n",
    "params['feature_fraction'] = 0.6\n",
    "params['learning_rate'] = 0.01\n",
    "params['max_bin'] = 300\n",
    "params['max_depth'] = 20\n",
    "    \n",
    "params['metric'] = 'binary_error'\n",
    "params['min_data_in_leaf'] = 50 \n",
    "params['n_estimators'] = 100 \n",
    "params['num_leaves'] = 100\n",
    "params['objective'] = 'binary'\n",
    "params['reg_alpha'] = 1.2, \n",
    "params['reg_lambda'] = 1.2\n",
    "params['subsample'] = 0.6\n",
    "\n",
    "num_round=100\n",
    "lgbm_model_final=lgb.train(params, lgb_train_data, num_round)\n",
    "\n",
    "y_pred = lgbm_model_final.predict(X_test_bow_t)\n",
    "#converting probabilities into 0 or 1\n",
    "for i in range(0,len(y_test_bow)):\n",
    "    if y_pred[i] >= .5:\n",
    "        y_pred [i] = 1\n",
    "    else:  \n",
    "        y_pred [i] = 0\n",
    "        \n",
    "y_pred_train = lgbm_model_final.predict(X_train_bow_t)\n",
    "#converting probabilities into 0 or 1\n",
    "for i in range(0,len(y_train_bow)):\n",
    "    if y_pred_train[i] >= .5:\n",
    "        y_pred_train [i] = 1\n",
    "    else:  \n",
    "        y_pred_train [i] = 0\n",
    "print('\\n Confusion Matrix')\n",
    "print(pd.crosstab(y_test_bow, y_pred, rownames=['True'], colnames=['Predicted']))\n",
    "print(classification_report(y_test_bow, y_pred))\n",
    "print(\"ROC-AUC\", roc_auc_score(y_test_bow, y_pred))\n",
    "print(\"PR-AUC-Score\", average_precision_score(y_test_bow, y_pred))\n",
    "print(\"Test Accuracy: \", accuracy_score(y_test_bow, y_pred))\n",
    "print(\"Train Accuracy: \", accuracy_score(y_train_bow, y_pred_train))"
   ]
  },
  {
   "cell_type": "code",
   "execution_count": 278,
   "metadata": {
    "colab": {},
    "colab_type": "code",
    "id": "F6cRpvEOA72t",
    "outputId": "8bf68a51-0d5c-4b81-a15e-8e0d30babd09"
   },
   "outputs": [
    {
     "name": "stderr",
     "output_type": "stream",
     "text": [
      "/opt/anaconda3/lib/python3.7/site-packages/lightgbm/engine.py:118: UserWarning: Found `n_estimators` in params. Will use it instead of argument\n",
      "  warnings.warn(\"Found `{}` in params. Will use it instead of argument\".format(alias))\n",
      "/opt/anaconda3/lib/python3.7/site-packages/lightgbm/basic.py:478: UserWarning: Converting data to scipy sparse matrix.\n",
      "  warnings.warn('Converting data to scipy sparse matrix.')\n",
      "/opt/anaconda3/lib/python3.7/site-packages/lightgbm/basic.py:478: UserWarning: Converting data to scipy sparse matrix.\n",
      "  warnings.warn('Converting data to scipy sparse matrix.')\n"
     ]
    },
    {
     "name": "stdout",
     "output_type": "stream",
     "text": [
      "\n",
      " Confusion Matrix\n",
      "Predicted   0.0   1.0\n",
      "True                 \n",
      "0.0        1943   536\n",
      "1.0         954  1525\n",
      "              precision    recall  f1-score   support\n",
      "\n",
      "         0.0       0.67      0.78      0.72      2479\n",
      "         1.0       0.74      0.62      0.67      2479\n",
      "\n",
      "   micro avg       0.70      0.70      0.70      4958\n",
      "   macro avg       0.71      0.70      0.70      4958\n",
      "weighted avg       0.71      0.70      0.70      4958\n",
      "\n",
      "ROC-AUC 0.6994755949979831\n",
      "PR-AUC-Score 0.6475983902823503\n",
      "Test Accuracy:  0.6994755949979831\n",
      "Train Accuracy:  0.8228767399636877\n"
     ]
    }
   ],
   "source": [
    "import lightgbm as lgb \n",
    "lgb_train_data =lgb.Dataset(X_train_bow_t,label=y_train_bow)\n",
    "\n",
    "params = {}\n",
    "\n",
    "params['bagging_fraction'] = 0.65\n",
    "params['bagging_freq'] = 10\n",
    "params['boosting_type'] = 'gbdt'\n",
    "params['feature_fraction'] = 0.5\n",
    "params['learning_rate'] = 0.01\n",
    "params['max_bin'] = 300\n",
    "params['max_depth'] = 20\n",
    "    \n",
    "params['metric'] = 'binary_error'\n",
    "params['min_data_in_leaf'] = 60\n",
    "params['n_estimators'] = 100 \n",
    "params['num_leaves'] = 100\n",
    "params['objective'] = 'binary'\n",
    "params['reg_alpha'] = 1.2, \n",
    "params['reg_lambda'] = 1.2\n",
    "params['subsample'] = 0.6\n",
    "\n",
    "num_round=100\n",
    "lgbm_model_final=lgb.train(params, lgb_train_data, num_round)\n",
    "\n",
    "y_pred = lgbm_model_final.predict(X_test_bow_t)\n",
    "#converting probabilities into 0 or 1\n",
    "for i in range(0,len(y_test_bow)):\n",
    "    if y_pred[i] >= .5:\n",
    "        y_pred [i] = 1\n",
    "    else:  \n",
    "        y_pred [i] = 0\n",
    "        \n",
    "y_pred_train = lgbm_model_final.predict(X_train_bow_t)\n",
    "#converting probabilities into 0 or 1\n",
    "for i in range(0,len(y_train_bow)):\n",
    "    if y_pred_train[i] >= .5:\n",
    "        y_pred_train [i] = 1\n",
    "    else:  \n",
    "        y_pred_train [i] = 0\n",
    "print('\\n Confusion Matrix')\n",
    "print(pd.crosstab(y_test_bow, y_pred, rownames=['True'], colnames=['Predicted']))\n",
    "print(classification_report(y_test_bow, y_pred))\n",
    "print(\"ROC-AUC\", roc_auc_score(y_test_bow, y_pred))\n",
    "print(\"PR-AUC-Score\", average_precision_score(y_test_bow, y_pred))\n",
    "print(\"Test Accuracy: \", accuracy_score(y_test_bow, y_pred))\n",
    "print(\"Train Accuracy: \", accuracy_score(y_train_bow, y_pred_train))"
   ]
  },
  {
   "cell_type": "markdown",
   "metadata": {
    "colab_type": "text",
    "id": "4DyTqnVhA72u"
   },
   "source": [
    "### Feature Importances for final lightgbm model"
   ]
  },
  {
   "cell_type": "code",
   "execution_count": null,
   "metadata": {
    "colab": {},
    "colab_type": "code",
    "id": "LYBCY0xeA72u",
    "outputId": "c9764e94-5a15-431c-8032-ba2e4f518ba4"
   },
   "outputs": [],
   "source": [
    "feature_importance = lgbm_model_final.feature_importance()\n",
    "# Make importances relative to max importance.\n",
    "feature_importance = 100.0 * (feature_importance / feature_importance.max())\n",
    "# argsort sorts from smallest to largest\n",
    "sorted_idx = np.argsort(feature_importance)[-30:]\n",
    "pos = np.arange(sorted_idx.shape[0]) + .9\n",
    "# # use only one column of a 1 x 2 figure\n",
    "sns.set(rc={'figure.figsize':(12,10)})\n",
    "\n",
    "plt.subplot(1, 2, 2)\n",
    "# pos is the postion of the bars on the y axis\n",
    "# feature_importance[sorted_idx] is the width of the bars\n",
    "plt.barh(pos, feature_importance[sorted_idx], align='center')\n",
    "plt.yticks(pos, np.array(all_the_features)[[sorted_idx]])\n",
    "plt.xlabel('Relative Importance')\n",
    "plt.title('Variable Importance')\n",
    "plt.show()"
   ]
  },
  {
   "cell_type": "markdown",
   "metadata": {},
   "source": [
    "## 5. Separating Bag of Words and Dense Features"
   ]
  },
  {
   "cell_type": "markdown",
   "metadata": {},
   "source": [
    "### Only Bag of Words"
   ]
  },
  {
   "cell_type": "markdown",
   "metadata": {},
   "source": [
    "#### Logistic Regression"
   ]
  },
  {
   "cell_type": "code",
   "execution_count": 310,
   "metadata": {},
   "outputs": [
    {
     "name": "stdout",
     "output_type": "stream",
     "text": [
      "\n",
      " Confusion Matrix\n",
      "Predicted   0.0  1.0\n",
      "True                \n",
      "0.0        2448   31\n",
      "1.0        2267  212\n",
      "              precision    recall  f1-score   support\n",
      "\n",
      "         0.0       0.52      0.99      0.68      2479\n",
      "         1.0       0.87      0.09      0.16      2479\n",
      "\n",
      "   micro avg       0.54      0.54      0.54      4958\n",
      "   macro avg       0.70      0.54      0.42      4958\n",
      "weighted avg       0.70      0.54      0.42      4958\n",
      "\n",
      "ROC-AUC 0.536506655909641\n",
      "PR-AUC-Score 0.5318494282010037\n",
      "Test Accuracy:  0.536506655909641\n",
      "Train Accuracy:  0.9140609239459351\n"
     ]
    }
   ],
   "source": [
    "logistic_model = LogisticRegression(penalty='l2', C=1.0)\n",
    "logistic_model.fit(X_train_bow[:,6:], y_train_bow)\n",
    "y_pred = logistic_model.predict(X_test_bow[:,6:])\n",
    "y_pred_train = logistic_model.predict(X_train_bow[:,6:])\n",
    "print('\\n Confusion Matrix')\n",
    "print(pd.crosstab(y_test_bow, y_pred, rownames=['True'], colnames=['Predicted']))\n",
    "print(classification_report(y_test_bow, y_pred))\n",
    "print(\"ROC-AUC\", roc_auc_score(y_test_bow, y_pred))\n",
    "print(\"PR-AUC-Score\", average_precision_score(y_test_bow, y_pred))\n",
    "print(\"Test Accuracy: \", accuracy_score(y_test_bow, y_pred))\n",
    "print(\"Train Accuracy: \", accuracy_score(y_train_bow, y_pred_train))"
   ]
  },
  {
   "cell_type": "code",
   "execution_count": 313,
   "metadata": {},
   "outputs": [
    {
     "name": "stdout",
     "output_type": "stream",
     "text": [
      "Most positive cofficeints\n",
      "(contribute positively to restaurants closure)\n",
      "\n",
      "place,close,restaurant,think,try,menu,owner,like,vegas,sign,business,little,good,remember,friendly,\n",
      "\n",
      "Most negative cofficeints\n",
      "(contribute negatively to restaurants closure)\n",
      "\n",
      "order,busy,come,staff,amazing,service,favorite,year,family,store,tho,parking,appreciate,super,fast,\n",
      "\n",
      "The Coefficients\n",
      "\n",
      "[ 0.13514072  0.29276576 -0.12545517 -0.27532779 -0.23897298 -0.41322727\n",
      "  0.12759922  0.17847337  0.13156616  0.12195385]\n"
     ]
    }
   ],
   "source": [
    "only_bow = restaurants_vectorizer_bow2.get_feature_names()\n",
    "print(\"Most positive cofficeints\\n(contribute positively to restaurants closure)\")\n",
    "print()\n",
    "sorted_features = np.argsort(logistic_model.coef_).ravel()[::-1]\n",
    "for i in range(15):\n",
    "    print(only_bow[sorted_features[i]], end=\",\")\n",
    "print()\n",
    "print(\"\\nMost negative cofficeints\\n(contribute negatively to restaurants closure)\")\n",
    "print()\n",
    "sorted_features = np.argsort(logistic_model.coef_).ravel()\n",
    "for i in range(15):\n",
    "    print(only_bow[sorted_features[i]],end=\",\")\n",
    "print(\"\\n\\nThe Coefficients\\n\")\n",
    "print(logistic_model.coef_.ravel()[:10])"
   ]
  },
  {
   "cell_type": "markdown",
   "metadata": {},
   "source": [
    "When combined with dense features logistic regression was not showing the actual words which contributed to restaurants closure. These ones look better. Words like amazing, service, favorite are truly positive words.\n",
    "\n",
    "According to this model, people say restaurant, close and place for a restaurant that will close. The words are not that much negative. Even some words like friendly are included. It may have been tokenized from not friendly/"
   ]
  },
  {
   "cell_type": "markdown",
   "metadata": {},
   "source": [
    "#### XGBoost"
   ]
  },
  {
   "cell_type": "code",
   "execution_count": 318,
   "metadata": {},
   "outputs": [
    {
     "name": "stdout",
     "output_type": "stream",
     "text": [
      "\n",
      " Confusion Matrix\n",
      "Predicted   0.0  1.0\n",
      "True                \n",
      "0.0        2095  384\n",
      "1.0        1614  865\n",
      "              precision    recall  f1-score   support\n",
      "\n",
      "         0.0       0.56      0.85      0.68      2479\n",
      "         1.0       0.69      0.35      0.46      2479\n",
      "\n",
      "   micro avg       0.60      0.60      0.60      4958\n",
      "   macro avg       0.63      0.60      0.57      4958\n",
      "weighted avg       0.63      0.60      0.57      4958\n",
      "\n",
      "ROC-AUC 0.5970149253731343\n",
      "PR-AUC-Score 0.567188078821266\n",
      "Test Accuracy:  0.5970149253731343\n"
     ]
    }
   ],
   "source": [
    "from xgboost import XGBClassifier\n",
    "xgboost_model = XGBClassifier()\n",
    "xgboost_model.fit(X_train_bow[:,6:], y_train_bow)\n",
    "y_pred = xgboost_model.predict(X_test_bow[:,6:])\n",
    "y_pred_train = xgboost_model.predict(X_train_bow[:,6:])\n",
    "\n",
    "print('\\n Confusion Matrix')\n",
    "print(pd.crosstab(y_test_bow, y_pred, rownames=['True'], colnames=['Predicted']))\n",
    "print(classification_report(y_test_bow, y_pred))\n",
    "print(\"ROC-AUC\", roc_auc_score(y_test_bow, y_pred))\n",
    "print(\"PR-AUC-Score\", average_precision_score(y_test_bow, y_pred))\n",
    "print(\"Test Accuracy: \", accuracy_score(y_test_bow, y_pred))"
   ]
  },
  {
   "cell_type": "code",
   "execution_count": 320,
   "metadata": {},
   "outputs": [
    {
     "data": {
      "image/png": "[encoded data removed]",
      "text/plain": [
       "<Figure size 576x432 with 1 Axes>"
      ]
     },
     "metadata": {},
     "output_type": "display_data"
    }
   ],
   "source": [
    "feature_importance = xgboost_model.feature_importances_\n",
    "# Make importances relative to max importance.\n",
    "feature_importance = 100.0 * (feature_importance / feature_importance.max())\n",
    "# argsort sorts from smallest to largest\n",
    "sorted_idx = np.argsort(feature_importance)[-30:]\n",
    "pos = np.arange(sorted_idx.shape[0]) + .9\n",
    "# # use only one column of a 1 x 2 figure\n",
    "plt.subplot(1, 2, 2)\n",
    "# pos is the postion of the bars on the y axis\n",
    "# feature_importance[sorted_idx] is the width of the bars\n",
    "plt.barh(pos, feature_importance[sorted_idx], align='center')\n",
    "plt.yticks(pos, np.array(only_bow)[[sorted_idx]])\n",
    "plt.xlabel('Relative Importance')\n",
    "plt.title('Variable Importance')\n",
    "plt.show()"
   ]
  },
  {
   "cell_type": "markdown",
   "metadata": {},
   "source": [
    "The words are similar to the onces obtained before. More research is required to know why these words are good predictors. "
   ]
  },
  {
   "cell_type": "markdown",
   "metadata": {},
   "source": [
    "### Only Dense Features"
   ]
  },
  {
   "cell_type": "code",
   "execution_count": 299,
   "metadata": {},
   "outputs": [
    {
     "name": "stdout",
     "output_type": "stream",
     "text": [
      "\n",
      " Confusion Matrix\n",
      "Predicted   0.0   1.0\n",
      "True                 \n",
      "0.0        1564   915\n",
      "1.0         886  1593\n",
      "              precision    recall  f1-score   support\n",
      "\n",
      "         0.0       0.64      0.63      0.63      2479\n",
      "         1.0       0.64      0.64      0.64      2479\n",
      "\n",
      "   micro avg       0.64      0.64      0.64      4958\n",
      "   macro avg       0.64      0.64      0.64      4958\n",
      "weighted avg       0.64      0.64      0.64      4958\n",
      "\n",
      "ROC-AUC 0.636748688987495\n",
      "PR-AUC-Score 0.586858318005215\n",
      "Test Accuracy:  0.6367486889874949\n",
      "Train Accuracy:  0.6555880572927174\n"
     ]
    }
   ],
   "source": [
    "logistic_model = LogisticRegression(penalty='l2', C=1.0)\n",
    "logistic_model.fit(X_train_bow_t.tocsr()[:,:5], y_train_bow)\n",
    "y_pred = logistic_model.predict(X_test_bow_t.tocsr()[:,:5])\n",
    "y_pred_train = logistic_model.predict(X_train_bow_t.tocsr()[:,:5])\n",
    "print('\\n Confusion Matrix')\n",
    "print(pd.crosstab(y_test_bow, y_pred, rownames=['True'], colnames=['Predicted']))\n",
    "print(classification_report(y_test_bow, y_pred))\n",
    "print(\"ROC-AUC\", roc_auc_score(y_test_bow, y_pred))\n",
    "print(\"PR-AUC-Score\", average_precision_score(y_test_bow, y_pred))\n",
    "print(\"Test Accuracy: \", accuracy_score(y_test_bow, y_pred))\n",
    "print(\"Train Accuracy: \", accuracy_score(y_train_bow, y_pred_train))"
   ]
  },
  {
   "cell_type": "code",
   "execution_count": 309,
   "metadata": {},
   "outputs": [
    {
     "name": "stdout",
     "output_type": "stream",
     "text": [
      "Most positive cofficeints\n",
      "(contribute positively to restaurants closure)\n",
      "\n",
      "age_of_restaurant,nearest_averge_number_of_reviews,average_stars,nearest_average_rating,review_count,\n",
      "\n",
      "Most negative cofficeints\n",
      "(contribute negatively to restaurants closure)\n",
      "\n",
      "review_count,nearest_average_rating,average_stars,nearest_averge_number_of_reviews,age_of_restaurant,\n",
      "\n",
      "The Coefficients\n",
      "\n",
      "['nearest_average_rating', 'nearest_averge_number_of_reviews', 'average_stars', 'review_count', 'age_of_restaurant']\n",
      "[ 0.04853778  0.50964896  0.15131915 -0.79238542  0.524393  ]\n"
     ]
    }
   ],
   "source": [
    "print(\"Most positive cofficeints\\n(contribute positively to restaurants closure)\")\n",
    "print()\n",
    "sorted_features = np.argsort(logistic_model.coef_).ravel()[::-1]\n",
    "for i in range(5):\n",
    "    print(first_5[sorted_features[i]], end=\",\")\n",
    "print()\n",
    "print(\"\\nMost negative cofficeints\\n(contribute negatively to restaurants closure)\")\n",
    "print()\n",
    "sorted_features = np.argsort(logistic_model.coef_).ravel()\n",
    "for i in range(5):\n",
    "    print(first_5[sorted_features[i]],end=\",\")\n",
    "print(\"\\n\\nThe Coefficients\\n\")\n",
    "print(first_5)\n",
    "print(logistic_model.coef_.ravel())"
   ]
  },
  {
   "cell_type": "markdown",
   "metadata": {},
   "source": [
    "The age of a restaurant contributes the most to restaurant closure. It is interesting to see that the nereast average number of reviews contribute to closure while more reviews helps a restaurant to survive"
   ]
  },
  {
   "cell_type": "code",
   "execution_count": 315,
   "metadata": {},
   "outputs": [
    {
     "name": "stdout",
     "output_type": "stream",
     "text": [
      "\n",
      " Confusion Matrix\n",
      "Predicted   0.0   1.0\n",
      "True                 \n",
      "0.0        1585   894\n",
      "1.0         784  1695\n",
      "              precision    recall  f1-score   support\n",
      "\n",
      "         0.0       0.67      0.64      0.65      2479\n",
      "         1.0       0.65      0.68      0.67      2479\n",
      "\n",
      "   micro avg       0.66      0.66      0.66      4958\n",
      "   macro avg       0.66      0.66      0.66      4958\n",
      "weighted avg       0.66      0.66      0.66      4958\n",
      "\n",
      "ROC-AUC 0.6615570794675273\n",
      "PR-AUC-Score 0.6057702779827959\n",
      "Test Accuracy:  0.6615570794675272\n"
     ]
    }
   ],
   "source": [
    "from xgboost import XGBClassifier\n",
    "\n",
    "xgboost_model = XGBClassifier()\n",
    "xgboost_model.fit(X_train_bow_t.tocsr()[:,:5], y_train_bow)\n",
    "y_pred = xgboost_model.predict(X_test_bow_t.tocsr()[:,:5])\n",
    "y_pred_train = xgboost_model.predict(X_train_bow_t.tocsr()[:,:5])\n",
    "\n",
    "print('\\n Confusion Matrix')\n",
    "print(pd.crosstab(y_test_bow, y_pred, rownames=['True'], colnames=['Predicted']))\n",
    "print(classification_report(y_test_bow, y_pred))\n",
    "print(\"ROC-AUC\", roc_auc_score(y_test_bow, y_pred))\n",
    "print(\"PR-AUC-Score\", average_precision_score(y_test_bow, y_pred))\n",
    "print(\"Test Accuracy: \", accuracy_score(y_test_bow, y_pred))"
   ]
  },
  {
   "cell_type": "code",
   "execution_count": 316,
   "metadata": {},
   "outputs": [
    {
     "data": {
      "image/png": "[encoded data removed]",
      "text/plain": [
       "<Figure size 576x432 with 1 Axes>"
      ]
     },
     "metadata": {},
     "output_type": "display_data"
    }
   ],
   "source": [
    "feature_importance = xgboost_model.feature_importances_\n",
    "# Make importances relative to max importance.\n",
    "feature_importance = 100.0 * (feature_importance / feature_importance.max())\n",
    "# argsort sorts from smallest to largest\n",
    "sorted_idx = np.argsort(feature_importance)[-30:]\n",
    "pos = np.arange(sorted_idx.shape[0]) + .9\n",
    "# # use only one column of a 1 x 2 figure\n",
    "plt.subplot(1, 2, 2)\n",
    "# pos is the postion of the bars on the y axis\n",
    "# feature_importance[sorted_idx] is the width of the bars\n",
    "plt.barh(pos, feature_importance[sorted_idx], align='center')\n",
    "plt.yticks(pos, np.array(all_the_features)[[sorted_idx]])\n",
    "plt.xlabel('Relative Importance')\n",
    "plt.title('Variable Importance')\n",
    "plt.show()"
   ]
  },
  {
   "cell_type": "markdown",
   "metadata": {},
   "source": [
    "The dense features are better predictors of restaurants closure. They achieve around 63% accuracy on the testset. Bag of words model achieves around 53% accuracy. When the two are combined the accuracy goes up to 75% on the test-set. Logistic regression achieved 84% corss validation score with very small variance accross folds."
   ]
  },
  {
   "cell_type": "markdown",
   "metadata": {
    "colab_type": "text",
    "id": "1IfzF3REA722"
   },
   "source": [
    "### Health Inspection Data"
   ]
  },
  {
   "cell_type": "markdown",
   "metadata": {},
   "source": [
    "Health inspection results seem highly predictive of restaurants closure. I tried to obtain data about the 11 meteropolitan areas that are used for this project. Most of those areas or cities don't have complete data. Southern nevada has complete data but only 1000 restaurants match the Yelp dataset. I used more than 30000 restaurants in this project. Thus integrating health inspection data is not possible. I can do a seprate project on those 1000 restaurants."
   ]
  },
  {
   "cell_type": "code",
   "execution_count": 322,
   "metadata": {
    "colab": {},
    "colab_type": "code",
    "id": "uNZvAakxA722"
   },
   "outputs": [],
   "source": [
    "# restaurant_inspection = pd.read_csv(\"../../../Data & Script/nevada_restaurant_inspection.csv\").drop([\"State\", \"Serial Number\", \"Employee ID\", \"Permit Number\", \"Inspection Time\"], axis=1)"
   ]
  },
  {
   "cell_type": "code",
   "execution_count": 323,
   "metadata": {
    "colab": {},
    "colab_type": "code",
    "id": "U1yic_82A723",
    "outputId": "599b0e02-96c3-45f9-cf26-e4e07a300b2a"
   },
   "outputs": [],
   "source": [
    "# restaurant_inspection.head(3)"
   ]
  },
  {
   "cell_type": "code",
   "execution_count": 324,
   "metadata": {
    "colab": {},
    "colab_type": "code",
    "id": "-Xy2qmYjA724",
    "outputId": "8dd5fe42-d813-437a-9eac-8712244a4352"
   },
   "outputs": [],
   "source": [
    "# restaurant_inspection.columns"
   ]
  }
 ],
 "metadata": {
  "accelerator": "GPU",
  "colab": {
   "collapsed_sections": [
    "jJlbAbs4A7y0",
    "hvC0uhzzA7y9",
    "oHHh9htAA7zP",
    "YzpNBcbtA7zW",
    "Ek6YdY_CA7zf",
    "NR-ZmvjXA7z2",
    "FIViSMiNA70M",
    "S-BIhcK3A70T",
    "quTg5hplA70X",
    "97NXztjnA70b",
    "yJVJuRD-A707",
    "AXYUiPN6A70_",
    "kLqTN7yTA71G",
    "GuBlEj8gA71J",
    "QZAi5DwAA71R",
    "8F-7hIu2A716",
    "Gg7OPRuGA72B",
    "ad0xOEXgA72D",
    "WUIqUQWIA72J",
    "56z2TlWsA72L",
    "aoTdg8MhA72R",
    "FyDNlxs3A72S",
    "MghA9_q7A72W",
    "rzIJTE9mA72Y",
    "SWv_l_q2A72c",
    "P1QsUVgCA72h",
    "4DyTqnVhA72u",
    "khGdeQ5-A72v",
    "1IfzF3REA722"
   ],
   "name": "Supervised Learning Capstone.ipynb",
   "provenance": [],
   "version": "0.3.2"
  },
  "kernelspec": {
   "display_name": "Python 3",
   "language": "python",
   "name": "python3"
  },
  "language_info": {
   "codemirror_mode": {
    "name": "ipython",
    "version": 3
   },
   "file_extension": ".py",
   "mimetype": "text/x-python",
   "name": "python",
   "nbconvert_exporter": "python",
   "pygments_lexer": "ipython3",
   "version": "3.7.1"
  }
 },
 "nbformat": 4,
 "nbformat_minor": 1
}
