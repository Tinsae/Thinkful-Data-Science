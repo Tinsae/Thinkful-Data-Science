{
 "cells": [
  {
   "cell_type": "markdown",
   "metadata": {},
   "source": [
    "#### Clean and prepare data for modeling"
   ]
  },
  {
   "cell_type": "code",
   "execution_count": 1,
   "metadata": {},
   "outputs": [
    {
     "name": "stderr",
     "output_type": "stream",
     "text": [
      "C:\\ProgramData\\Anaconda3\\lib\\site-packages\\IPython\\core\\interactiveshell.py:2785: DtypeWarning: Columns (23,35) have mixed types. Specify dtype option on import or set low_memory=False.\n",
      "  interactivity=interactivity, compiler=compiler, result=result)\n"
     ]
    },
    {
     "data": {
      "text/html": [
       "<div>\n",
       "<style scoped>\n",
       "    .dataframe tbody tr th:only-of-type {\n",
       "        vertical-align: middle;\n",
       "    }\n",
       "\n",
       "    .dataframe tbody tr th {\n",
       "        vertical-align: top;\n",
       "    }\n",
       "\n",
       "    .dataframe thead th {\n",
       "        text-align: right;\n",
       "    }\n",
       "</style>\n",
       "<table border=\"1\" class=\"dataframe\">\n",
       "  <thead>\n",
       "    <tr style=\"text-align: right;\">\n",
       "      <th></th>\n",
       "      <th>Name</th>\n",
       "      <th>Age</th>\n",
       "      <th>Photo</th>\n",
       "      <th>Nationality</th>\n",
       "      <th>Flag</th>\n",
       "      <th>Overall</th>\n",
       "      <th>Potential</th>\n",
       "      <th>Club</th>\n",
       "      <th>Club Logo</th>\n",
       "      <th>Value</th>\n",
       "      <th>...</th>\n",
       "      <th>RB</th>\n",
       "      <th>RCB</th>\n",
       "      <th>RCM</th>\n",
       "      <th>RDM</th>\n",
       "      <th>RF</th>\n",
       "      <th>RM</th>\n",
       "      <th>RS</th>\n",
       "      <th>RW</th>\n",
       "      <th>RWB</th>\n",
       "      <th>ST</th>\n",
       "    </tr>\n",
       "  </thead>\n",
       "  <tbody>\n",
       "    <tr>\n",
       "      <th>0</th>\n",
       "      <td>Cristiano Ronaldo</td>\n",
       "      <td>32</td>\n",
       "      <td>https://cdn.sofifa.org/48/18/players/20801.png</td>\n",
       "      <td>Portugal</td>\n",
       "      <td>https://cdn.sofifa.org/flags/38.png</td>\n",
       "      <td>94</td>\n",
       "      <td>94</td>\n",
       "      <td>Real Madrid CF</td>\n",
       "      <td>https://cdn.sofifa.org/24/18/teams/243.png</td>\n",
       "      <td>95500000.0</td>\n",
       "      <td>...</td>\n",
       "      <td>61.0</td>\n",
       "      <td>53.0</td>\n",
       "      <td>82.0</td>\n",
       "      <td>62.0</td>\n",
       "      <td>91.0</td>\n",
       "      <td>89.0</td>\n",
       "      <td>92.0</td>\n",
       "      <td>91.0</td>\n",
       "      <td>66.0</td>\n",
       "      <td>92.0</td>\n",
       "    </tr>\n",
       "    <tr>\n",
       "      <th>1</th>\n",
       "      <td>L. Messi</td>\n",
       "      <td>30</td>\n",
       "      <td>https://cdn.sofifa.org/48/18/players/158023.png</td>\n",
       "      <td>Argentina</td>\n",
       "      <td>https://cdn.sofifa.org/flags/52.png</td>\n",
       "      <td>93</td>\n",
       "      <td>93</td>\n",
       "      <td>FC Barcelona</td>\n",
       "      <td>https://cdn.sofifa.org/24/18/teams/241.png</td>\n",
       "      <td>105000000.0</td>\n",
       "      <td>...</td>\n",
       "      <td>57.0</td>\n",
       "      <td>45.0</td>\n",
       "      <td>84.0</td>\n",
       "      <td>59.0</td>\n",
       "      <td>92.0</td>\n",
       "      <td>90.0</td>\n",
       "      <td>88.0</td>\n",
       "      <td>91.0</td>\n",
       "      <td>62.0</td>\n",
       "      <td>88.0</td>\n",
       "    </tr>\n",
       "    <tr>\n",
       "      <th>2</th>\n",
       "      <td>Neymar</td>\n",
       "      <td>25</td>\n",
       "      <td>https://cdn.sofifa.org/48/18/players/190871.png</td>\n",
       "      <td>Brazil</td>\n",
       "      <td>https://cdn.sofifa.org/flags/54.png</td>\n",
       "      <td>92</td>\n",
       "      <td>94</td>\n",
       "      <td>Paris Saint-Germain</td>\n",
       "      <td>https://cdn.sofifa.org/24/18/teams/73.png</td>\n",
       "      <td>123000000.0</td>\n",
       "      <td>...</td>\n",
       "      <td>59.0</td>\n",
       "      <td>46.0</td>\n",
       "      <td>79.0</td>\n",
       "      <td>59.0</td>\n",
       "      <td>88.0</td>\n",
       "      <td>87.0</td>\n",
       "      <td>84.0</td>\n",
       "      <td>89.0</td>\n",
       "      <td>64.0</td>\n",
       "      <td>84.0</td>\n",
       "    </tr>\n",
       "    <tr>\n",
       "      <th>3</th>\n",
       "      <td>L. Suárez</td>\n",
       "      <td>30</td>\n",
       "      <td>https://cdn.sofifa.org/48/18/players/176580.png</td>\n",
       "      <td>Uruguay</td>\n",
       "      <td>https://cdn.sofifa.org/flags/60.png</td>\n",
       "      <td>92</td>\n",
       "      <td>92</td>\n",
       "      <td>FC Barcelona</td>\n",
       "      <td>https://cdn.sofifa.org/24/18/teams/241.png</td>\n",
       "      <td>97000000.0</td>\n",
       "      <td>...</td>\n",
       "      <td>64.0</td>\n",
       "      <td>58.0</td>\n",
       "      <td>80.0</td>\n",
       "      <td>65.0</td>\n",
       "      <td>88.0</td>\n",
       "      <td>85.0</td>\n",
       "      <td>88.0</td>\n",
       "      <td>87.0</td>\n",
       "      <td>68.0</td>\n",
       "      <td>88.0</td>\n",
       "    </tr>\n",
       "    <tr>\n",
       "      <th>4</th>\n",
       "      <td>M. Neuer</td>\n",
       "      <td>31</td>\n",
       "      <td>https://cdn.sofifa.org/48/18/players/167495.png</td>\n",
       "      <td>Germany</td>\n",
       "      <td>https://cdn.sofifa.org/flags/21.png</td>\n",
       "      <td>92</td>\n",
       "      <td>92</td>\n",
       "      <td>FC Bayern Munich</td>\n",
       "      <td>https://cdn.sofifa.org/24/18/teams/21.png</td>\n",
       "      <td>61000000.0</td>\n",
       "      <td>...</td>\n",
       "      <td>NaN</td>\n",
       "      <td>NaN</td>\n",
       "      <td>NaN</td>\n",
       "      <td>NaN</td>\n",
       "      <td>NaN</td>\n",
       "      <td>NaN</td>\n",
       "      <td>NaN</td>\n",
       "      <td>NaN</td>\n",
       "      <td>NaN</td>\n",
       "      <td>NaN</td>\n",
       "    </tr>\n",
       "  </tbody>\n",
       "</table>\n",
       "<p>5 rows × 74 columns</p>\n",
       "</div>"
      ],
      "text/plain": [
       "                Name  Age                                            Photo  \\\n",
       "0  Cristiano Ronaldo   32   https://cdn.sofifa.org/48/18/players/20801.png   \n",
       "1           L. Messi   30  https://cdn.sofifa.org/48/18/players/158023.png   \n",
       "2             Neymar   25  https://cdn.sofifa.org/48/18/players/190871.png   \n",
       "3          L. Suárez   30  https://cdn.sofifa.org/48/18/players/176580.png   \n",
       "4           M. Neuer   31  https://cdn.sofifa.org/48/18/players/167495.png   \n",
       "\n",
       "  Nationality                                 Flag  Overall  Potential  \\\n",
       "0    Portugal  https://cdn.sofifa.org/flags/38.png       94         94   \n",
       "1   Argentina  https://cdn.sofifa.org/flags/52.png       93         93   \n",
       "2      Brazil  https://cdn.sofifa.org/flags/54.png       92         94   \n",
       "3     Uruguay  https://cdn.sofifa.org/flags/60.png       92         92   \n",
       "4     Germany  https://cdn.sofifa.org/flags/21.png       92         92   \n",
       "\n",
       "                  Club                                   Club Logo  \\\n",
       "0       Real Madrid CF  https://cdn.sofifa.org/24/18/teams/243.png   \n",
       "1         FC Barcelona  https://cdn.sofifa.org/24/18/teams/241.png   \n",
       "2  Paris Saint-Germain   https://cdn.sofifa.org/24/18/teams/73.png   \n",
       "3         FC Barcelona  https://cdn.sofifa.org/24/18/teams/241.png   \n",
       "4     FC Bayern Munich   https://cdn.sofifa.org/24/18/teams/21.png   \n",
       "\n",
       "         Value  ...     RB   RCB   RCM   RDM    RF    RM    RS    RW   RWB  \\\n",
       "0   95500000.0  ...   61.0  53.0  82.0  62.0  91.0  89.0  92.0  91.0  66.0   \n",
       "1  105000000.0  ...   57.0  45.0  84.0  59.0  92.0  90.0  88.0  91.0  62.0   \n",
       "2  123000000.0  ...   59.0  46.0  79.0  59.0  88.0  87.0  84.0  89.0  64.0   \n",
       "3   97000000.0  ...   64.0  58.0  80.0  65.0  88.0  85.0  88.0  87.0  68.0   \n",
       "4   61000000.0  ...    NaN   NaN   NaN   NaN   NaN   NaN   NaN   NaN   NaN   \n",
       "\n",
       "     ST  \n",
       "0  92.0  \n",
       "1  88.0  \n",
       "2  84.0  \n",
       "3  88.0  \n",
       "4   NaN  \n",
       "\n",
       "[5 rows x 74 columns]"
      ]
     },
     "execution_count": 1,
     "metadata": {},
     "output_type": "execute_result"
    }
   ],
   "source": [
    "# importing the neccessary packages\n",
    "import pandas as pd\n",
    "import statistics\n",
    "import numpy as np\n",
    "import matplotlib.pyplot as plt\n",
    "import seaborn as sns\n",
    "\n",
    "# the first column can be used as index of the dataframe\n",
    "fifa18 = pd.read_csv(\"../../../Data & Script/fifa-18-demo-player-dataset/fifa18.csv\", index_col=0)\n",
    "def fix(x):\n",
    "    # evaluate sum\n",
    "    if('+' in str(x).strip()):\n",
    "        calc = x.split('+')\n",
    "        return int(calc[0]) + int(calc[1])\n",
    "    # evaluate subtraction\n",
    "    elif('-' in str(x).strip()):\n",
    "        calc = x.split('-')\n",
    "        return int(calc[0]) + int(calc[1])\n",
    "    # convert to integer if string contains a valid number\n",
    "    elif str(x).strip().isdigit():\n",
    "        return int(x)\n",
    "    # return as it is, for example null values\n",
    "    else:\n",
    "         return x\n",
    "for column in fifa18.iloc[:,11:74]:\n",
    "    fifa18[column] = fifa18[column].apply(fix)\n",
    "def convert(v):\n",
    "        if('M' in str(v)):\n",
    "            return float(v[1:-1]) * 1e6\n",
    "        elif('K' in str(v)):\n",
    "            return float(v[1:-1]) * 1e3  \n",
    "        elif('€0' in str(v)):\n",
    "            return float(v[1:])\n",
    "        else:\n",
    "            return v\n",
    "\n",
    "fifa18['Value'] = fifa18['Value'].apply(convert)\n",
    "fifa18['Wage'] = fifa18['Wage'].apply(convert)\n",
    "fifa18.to_csv(\"fifamod3.csv\")\n",
    "fifa18.head(5)"
   ]
  },
  {
   "cell_type": "code",
   "execution_count": 2,
   "metadata": {},
   "outputs": [
    {
     "data": {
      "text/plain": [
       "Index(['Name', 'Age', 'Photo', 'Nationality', 'Flag', 'Overall', 'Potential',\n",
       "       'Club', 'Club Logo', 'Value', 'Wage', 'Special', 'Acceleration',\n",
       "       'Aggression', 'Agility', 'Balance', 'Ball control', 'Composure',\n",
       "       'Crossing', 'Curve', 'Dribbling', 'Finishing', 'Free kick accuracy',\n",
       "       'GK diving', 'GK handling', 'GK kicking', 'GK positioning',\n",
       "       'GK reflexes', 'Heading accuracy', 'Interceptions', 'Jumping',\n",
       "       'Long passing', 'Long shots', 'Marking', 'Penalties', 'Positioning',\n",
       "       'Reactions', 'Short passing', 'Shot power', 'Sliding tackle',\n",
       "       'Sprint speed', 'Stamina', 'Standing tackle', 'Strength', 'Vision',\n",
       "       'Volleys', 'CAM', 'CB', 'CDM', 'CF', 'CM', 'ID', 'LAM', 'LB', 'LCB',\n",
       "       'LCM', 'LDM', 'LF', 'LM', 'LS', 'LW', 'LWB', 'Preferred Positions',\n",
       "       'RAM', 'RB', 'RCB', 'RCM', 'RDM', 'RF', 'RM', 'RS', 'RW', 'RWB', 'ST'],\n",
       "      dtype='object')"
      ]
     },
     "execution_count": 2,
     "metadata": {},
     "output_type": "execute_result"
    }
   ],
   "source": [
    "fifa18.columns"
   ]
  },
  {
   "cell_type": "code",
   "execution_count": 3,
   "metadata": {},
   "outputs": [],
   "source": [
    "plt.rcParams['figure.figsize'] = [12.0, 12.0]\n",
    "performance = fifa18.iloc[:,12:45]"
   ]
  },
  {
   "cell_type": "markdown",
   "metadata": {},
   "source": [
    "A correlation closer to one is a strong correlation, I assumed if the absolute value of a corrleation between two variables is less than 0.6, there is no strong correlation between the variables."
   ]
  },
  {
   "cell_type": "code",
   "execution_count": 4,
   "metadata": {},
   "outputs": [
    {
     "name": "stdout",
     "output_type": "stream",
     "text": [
      "Displaying 15 player performance attributes, least correlated(with others)\n"
     ]
    },
    {
     "data": {
      "text/plain": [
       "Jumping            32\n",
       "Reactions          32\n",
       "Strength           32\n",
       "Standing tackle    28\n",
       "Sliding tackle     28\n",
       "Interceptions      28\n",
       "Marking            28\n",
       "Balance            27\n",
       "Aggression         26\n",
       "Acceleration       24\n",
       "dtype: int64"
      ]
     },
     "execution_count": 4,
     "metadata": {},
     "output_type": "execute_result"
    }
   ],
   "source": [
    "less_correlated = (abs(performance.corr()) < 0.6).sum()\n",
    "less_correlated = less_correlated.sort_values(ascending=False)\n",
    "print(\"Displaying 15 player performance attributes, least correlated(with others)\")\n",
    "less_correlated.head(10)"
   ]
  },
  {
   "cell_type": "code",
   "execution_count": 5,
   "metadata": {},
   "outputs": [
    {
     "name": "stdout",
     "output_type": "stream",
     "text": [
      "Displaying 15 player performance attributes, most correlated(with others)\n"
     ]
    },
    {
     "data": {
      "text/plain": [
       "Stamina          15\n",
       "Penalties        15\n",
       "Curve            13\n",
       "Long shots       13\n",
       "Shot power       12\n",
       "Short passing    11\n",
       "Positioning      10\n",
       "Crossing          9\n",
       "Ball control      9\n",
       "Dribbling         9\n",
       "dtype: int64"
      ]
     },
     "execution_count": 5,
     "metadata": {},
     "output_type": "execute_result"
    }
   ],
   "source": [
    "print(\"Displaying 15 player performance attributes, most correlated(with others)\")\n",
    "less_correlated.tail(10)"
   ]
  },
  {
   "cell_type": "code",
   "execution_count": 7,
   "metadata": {},
   "outputs": [
    {
     "name": "stdout",
     "output_type": "stream",
     "text": [
      "Jumping               0.153346\n",
      "Reactions             0.501808\n",
      "Strength              0.165271\n",
      "Standing tackle       0.131322\n",
      "Sliding tackle        0.116410\n",
      "Interceptions         0.163397\n",
      "Marking               0.110752\n",
      "Balance               0.085899\n",
      "Aggression            0.206696\n",
      "Acceleration          0.146702\n",
      "Sprint speed          0.154200\n",
      "Agility               0.174322\n",
      "Heading accuracy      0.205488\n",
      "Long passing          0.290207\n",
      "Finishing             0.233652\n",
      "Vision                0.317854\n",
      "Free kick accuracy    0.247218\n",
      "Composure             0.391712\n",
      "GK reflexes          -0.036310\n",
      "GK positioning       -0.035451\n",
      "GK kicking           -0.038574\n",
      "GK handling          -0.034461\n",
      "GK diving            -0.035687\n",
      "Stamina               0.203128\n",
      "Penalties             0.237397\n",
      "Curve                 0.268176\n",
      "Long shots            0.264503\n",
      "Shot power            0.272014\n",
      "Short passing         0.307819\n",
      "Positioning           0.242818\n",
      "Crossing              0.242962\n",
      "Ball control          0.293757\n",
      "Dribbling             0.249516\n",
      "Wage                  1.000000\n",
      "Name: Wage, dtype: float64\n",
      "Wage vs Overall [[1.         0.59378909]\n",
      " [0.59378909 1.        ]]\n"
     ]
    }
   ],
   "source": [
    "print(pd.concat([fifa18[less_correlated.index], fifa18[\"Wage\"]], axis=1).corr()['Wage'])\n",
    "print(\"Wage vs Overall\", np.corrcoef(fifa18['Wage'], fifa18['Overall']))"
   ]
  },
  {
   "cell_type": "markdown",
   "metadata": {},
   "source": [
    "* Predicting Wage of players is not possible using the performance attributes, because none of them are correlated with Wage. \n",
    "* Wage is somewhat correlated with Overall"
   ]
  },
  {
   "cell_type": "code",
   "execution_count": 8,
   "metadata": {},
   "outputs": [
    {
     "data": {
      "text/html": [
       "<div>\n",
       "<style scoped>\n",
       "    .dataframe tbody tr th:only-of-type {\n",
       "        vertical-align: middle;\n",
       "    }\n",
       "\n",
       "    .dataframe tbody tr th {\n",
       "        vertical-align: top;\n",
       "    }\n",
       "\n",
       "    .dataframe thead th {\n",
       "        text-align: right;\n",
       "    }\n",
       "</style>\n",
       "<table border=\"1\" class=\"dataframe\">\n",
       "  <thead>\n",
       "    <tr style=\"text-align: right;\">\n",
       "      <th></th>\n",
       "      <th>Crossing</th>\n",
       "      <th>Ball control</th>\n",
       "      <th>Dribbling</th>\n",
       "    </tr>\n",
       "  </thead>\n",
       "  <tbody>\n",
       "    <tr>\n",
       "      <th>Crossing</th>\n",
       "      <td>1.000000</td>\n",
       "      <td>0.839428</td>\n",
       "      <td>0.852374</td>\n",
       "    </tr>\n",
       "    <tr>\n",
       "      <th>Ball control</th>\n",
       "      <td>0.839428</td>\n",
       "      <td>1.000000</td>\n",
       "      <td>0.932543</td>\n",
       "    </tr>\n",
       "    <tr>\n",
       "      <th>Dribbling</th>\n",
       "      <td>0.852374</td>\n",
       "      <td>0.932543</td>\n",
       "      <td>1.000000</td>\n",
       "    </tr>\n",
       "  </tbody>\n",
       "</table>\n",
       "</div>"
      ],
      "text/plain": [
       "              Crossing  Ball control  Dribbling\n",
       "Crossing      1.000000      0.839428   0.852374\n",
       "Ball control  0.839428      1.000000   0.932543\n",
       "Dribbling     0.852374      0.932543   1.000000"
      ]
     },
     "execution_count": 8,
     "metadata": {},
     "output_type": "execute_result"
    }
   ],
   "source": [
    "fifa18[['Crossing', 'Ball control', 'Dribbling']].corr()"
   ]
  },
  {
   "cell_type": "markdown",
   "metadata": {},
   "source": [
    "Crossing, Ball control and Dribbling are most correlated with the other performance attributes and correlated with each other"
   ]
  },
  {
   "cell_type": "code",
   "execution_count": 13,
   "metadata": {},
   "outputs": [],
   "source": [
    "# Driblling is correlated with most of the performance attributes \n",
    "dribbling_correlated = fifa18[less_correlated.index].corr()['Dribbling'].sort_values(ascending=False).head(20)"
   ]
  },
  {
   "cell_type": "code",
   "execution_count": 15,
   "metadata": {},
   "outputs": [
    {
     "name": "stdout",
     "output_type": "stream",
     "text": [
      "Features with low multicolinearity\n"
     ]
    },
    {
     "data": {
      "text/plain": [
       "Index(['Jumping', 'Reactions', 'Strength', 'Standing tackle', 'Sliding tackle',\n",
       "       'Interceptions', 'Marking', 'Balance', 'Aggression', 'Acceleration',\n",
       "       'Sprint speed', 'Agility', 'Heading accuracy', 'Long passing',\n",
       "       'Finishing'],\n",
       "      dtype='object')"
      ]
     },
     "execution_count": 15,
     "metadata": {},
     "output_type": "execute_result"
    }
   ],
   "source": [
    "print(\"Features with low multicolinearity\")\n",
    "less_correlated.head(15).index"
   ]
  },
  {
   "cell_type": "code",
   "execution_count": 16,
   "metadata": {},
   "outputs": [
    {
     "name": "stdout",
     "output_type": "stream",
     "text": [
      "Features with strong correlation to dribbling\n"
     ]
    },
    {
     "data": {
      "text/plain": [
       "Index(['Dribbling', 'Ball control', 'Positioning', 'Crossing', 'Curve',\n",
       "       'Long shots', 'Short passing', 'Finishing', 'Shot power', 'Penalties'],\n",
       "      dtype='object')"
      ]
     },
     "execution_count": 16,
     "metadata": {},
     "output_type": "execute_result"
    }
   ],
   "source": [
    "print(\"Features with strong correlation to dribbling\")\n",
    "dribbling_correlated.head(10).index"
   ]
  },
  {
   "cell_type": "code",
   "execution_count": 19,
   "metadata": {},
   "outputs": [
    {
     "data": {
      "text/html": [
       "<div>\n",
       "<style scoped>\n",
       "    .dataframe tbody tr th:only-of-type {\n",
       "        vertical-align: middle;\n",
       "    }\n",
       "\n",
       "    .dataframe tbody tr th {\n",
       "        vertical-align: top;\n",
       "    }\n",
       "\n",
       "    .dataframe thead th {\n",
       "        text-align: right;\n",
       "    }\n",
       "</style>\n",
       "<table border=\"1\" class=\"dataframe\">\n",
       "  <thead>\n",
       "    <tr style=\"text-align: right;\">\n",
       "      <th></th>\n",
       "      <th>Finishing</th>\n",
       "      <th>Agility</th>\n",
       "      <th>Sprint speed</th>\n",
       "      <th>Long passing</th>\n",
       "      <th>Balance</th>\n",
       "      <th>Heading accuracy</th>\n",
       "    </tr>\n",
       "  </thead>\n",
       "  <tbody>\n",
       "    <tr>\n",
       "      <th>Finishing</th>\n",
       "      <td>1.000000</td>\n",
       "      <td>0.634089</td>\n",
       "      <td>0.586749</td>\n",
       "      <td>0.504226</td>\n",
       "      <td>0.512669</td>\n",
       "      <td>0.472281</td>\n",
       "    </tr>\n",
       "    <tr>\n",
       "      <th>Agility</th>\n",
       "      <td>0.634089</td>\n",
       "      <td>1.000000</td>\n",
       "      <td>0.753129</td>\n",
       "      <td>0.514692</td>\n",
       "      <td>0.765750</td>\n",
       "      <td>0.259485</td>\n",
       "    </tr>\n",
       "    <tr>\n",
       "      <th>Sprint speed</th>\n",
       "      <td>0.586749</td>\n",
       "      <td>0.753129</td>\n",
       "      <td>1.000000</td>\n",
       "      <td>0.424732</td>\n",
       "      <td>0.635713</td>\n",
       "      <td>0.385599</td>\n",
       "    </tr>\n",
       "    <tr>\n",
       "      <th>Long passing</th>\n",
       "      <td>0.504226</td>\n",
       "      <td>0.514692</td>\n",
       "      <td>0.424732</td>\n",
       "      <td>1.000000</td>\n",
       "      <td>0.457044</td>\n",
       "      <td>0.511599</td>\n",
       "    </tr>\n",
       "    <tr>\n",
       "      <th>Balance</th>\n",
       "      <td>0.512669</td>\n",
       "      <td>0.765750</td>\n",
       "      <td>0.635713</td>\n",
       "      <td>0.457044</td>\n",
       "      <td>1.000000</td>\n",
       "      <td>0.171030</td>\n",
       "    </tr>\n",
       "    <tr>\n",
       "      <th>Heading accuracy</th>\n",
       "      <td>0.472281</td>\n",
       "      <td>0.259485</td>\n",
       "      <td>0.385599</td>\n",
       "      <td>0.511599</td>\n",
       "      <td>0.171030</td>\n",
       "      <td>1.000000</td>\n",
       "    </tr>\n",
       "  </tbody>\n",
       "</table>\n",
       "</div>"
      ],
      "text/plain": [
       "                  Finishing   Agility  Sprint speed  Long passing   Balance  \\\n",
       "Finishing          1.000000  0.634089      0.586749      0.504226  0.512669   \n",
       "Agility            0.634089  1.000000      0.753129      0.514692  0.765750   \n",
       "Sprint speed       0.586749  0.753129      1.000000      0.424732  0.635713   \n",
       "Long passing       0.504226  0.514692      0.424732      1.000000  0.457044   \n",
       "Balance            0.512669  0.765750      0.635713      0.457044  1.000000   \n",
       "Heading accuracy   0.472281  0.259485      0.385599      0.511599  0.171030   \n",
       "\n",
       "                  Heading accuracy  \n",
       "Finishing                 0.472281  \n",
       "Agility                   0.259485  \n",
       "Sprint speed              0.385599  \n",
       "Long passing              0.511599  \n",
       "Balance                   0.171030  \n",
       "Heading accuracy          1.000000  "
      ]
     },
     "execution_count": 19,
     "metadata": {},
     "output_type": "execute_result"
    }
   ],
   "source": [
    "intersection = [value for value in dribbling_correlated.index if value in less_correlated.head(15).index] \n",
    "# accelaration is highly correlated with Sprint Speed, so one of them can exist\n",
    "intersection.remove('Acceleration')\n",
    "fifa18[intersection].corr()"
   ]
  },
  {
   "cell_type": "code",
   "execution_count": 38,
   "metadata": {},
   "outputs": [
    {
     "name": "stderr",
     "output_type": "stream",
     "text": [
      "C:\\ProgramData\\Anaconda3\\lib\\site-packages\\scipy\\stats\\stats.py:1713: FutureWarning: Using a non-tuple sequence for multidimensional indexing is deprecated; use `arr[tuple(seq)]` instead of `arr[seq]`. In the future this will be interpreted as an array index, `arr[np.array(seq)]`, which will result either in an error or a different result.\n",
      "  return np.add.reduce(sorted[indexer] * weights, axis=axis) / sumval\n"
     ]
    },
    {
     "data": {
      "image/png": "[encoded data removed]",
      "text/plain": [
       "<Figure size 1152x432 with 6 Axes>"
      ]
     },
     "metadata": {},
     "output_type": "display_data"
    }
   ],
   "source": [
    "# Scatter plot\n",
    "\n",
    "# scatter plot to show the relationship between depedent and independent variables\n",
    "fig = plt.figure(figsize=(16,6))\n",
    "fig.subplots_adjust(hspace = 0.4, wspace = 0.2)\n",
    "fig.suptitle(\"Correlation with Dribbling\")\n",
    "for i,v in enumerate(intersection): \n",
    "    ax = fig.add_subplot(320 + i +1)\n",
    "    sns.regplot(fifa18[v], fifa18['Dribbling'])\n",
    "    sns.despine()\n",
    "    ax.set(ylabel='')"
   ]
  },
  {
   "cell_type": "markdown",
   "metadata": {},
   "source": [
    "* The above features are good to predict Dribbling, because there are less correlated with other performance attributes and with each other. \n",
    "* They are correlated with the outcome variable"
   ]
  },
  {
   "cell_type": "markdown",
   "metadata": {},
   "source": [
    "##### Predict Dribbling Skill"
   ]
  },
  {
   "cell_type": "code",
   "execution_count": 61,
   "metadata": {},
   "outputs": [
    {
     "name": "stdout",
     "output_type": "stream",
     "text": [
      "OLS: R2 on training set 0.8680514495123816\n",
      "OLS: CV-score(r2): 0.89, 0.85 (+/- 0.04)\n"
     ]
    }
   ],
   "source": [
    "# OLS\n",
    "\n",
    "from sklearn.linear_model import LinearRegression\n",
    "X = fifa18[intersection]\n",
    "Y =  fifa18[['Dribbling']]\n",
    "modelA = LinearRegression()\n",
    "print(\"OLS: R2 on training set\", modelA.fit(X,Y).score(X,Y))\n",
    "# cross validation, r2\n",
    "from sklearn.model_selection import cross_val_score\n",
    "X = fifa18[intersection]\n",
    "Y =  fifa18[['Dribbling']]\n",
    "cscore = cross_val_score(modelA, X, Y, cv=10, scoring='r2')\n",
    "print(\"OLS: CV-score(r2): {:.2f}, {:.2f} (+/- {:.2f})\".format(cscore.max(), cscore.mean(), cscore.std() * 2))"
   ]
  },
  {
   "cell_type": "code",
   "execution_count": 62,
   "metadata": {},
   "outputs": [
    {
     "name": "stdout",
     "output_type": "stream",
     "text": [
      "KNN: Unweighted Accuracy: 0.88, 0.85 (+/- 0.04)\n",
      "KNN: Weighted Accuracy: 0.89, 0.86 (+/- 0.04)\n"
     ]
    }
   ],
   "source": [
    "# KNN\n",
    "\n",
    "from sklearn import neighbors\n",
    "from sklearn.model_selection import cross_val_score\n",
    "X = fifa18[intersection]\n",
    "Y =  fifa18[['Dribbling']]\n",
    "# Build our model.\n",
    "modelB = neighbors.KNeighborsRegressor(n_neighbors=10)\n",
    "modelC = neighbors.KNeighborsRegressor(n_neighbors=10, weights=\"distance\")\n",
    "\n",
    "modelB.fit(X, Y)\n",
    "modelC.fit(X,Y)\n",
    "cscore = cross_val_score(modelB, X, Y, cv=10)\n",
    "print(\"KNN: Unweighted Accuracy: {:.2f}, {:.2f} (+/- {:.2f})\".format(cscore.max(), cscore.mean(), cscore.std() * 2))\n",
    "score_w = cross_val_score(modelC, X, Y, cv=10)\n",
    "print(\"KNN: Weighted Accuracy: {:.2f}, {:.2f} (+/- {:.2f})\".format(score_w.max(), score_w.mean(), score_w.std() * 2))"
   ]
  },
  {
   "cell_type": "markdown",
   "metadata": {},
   "source": [
    "Both KNN and OLS performed well"
   ]
  },
  {
   "cell_type": "markdown",
   "metadata": {},
   "source": [
    "KNN don't assume an explicit form for f (X), providing a more flexible approach. Let me try to predict an outcome which is not correlated with the input features"
   ]
  },
  {
   "cell_type": "markdown",
   "metadata": {},
   "source": [
    "##### Predicting Wage from Uncorrelated features"
   ]
  },
  {
   "cell_type": "code",
   "execution_count": 74,
   "metadata": {},
   "outputs": [
    {
     "name": "stdout",
     "output_type": "stream",
     "text": [
      "OLS: Unweighted Accuracy: -0.26, -16.14 (+/- 39.34)\n"
     ]
    }
   ],
   "source": [
    "# OLS\n",
    "\n",
    "from sklearn.linear_model import LinearRegression\n",
    "X = fifa18[intersection]\n",
    "Y = fifa18['Wage']\n",
    "modelTT = LinearRegression()\n",
    "modelTT.fit(X,Y).score(X,Y)\n",
    "cscore = cross_val_score(modelTT, X, Y, cv=10)\n",
    "print(\"OLS: Unweighted Accuracy: {:.2f}, {:.2f} (+/- {:.2f})\".format(cscore.max(), cscore.mean(), cscore.std() * 2))"
   ]
  },
  {
   "cell_type": "code",
   "execution_count": 64,
   "metadata": {},
   "outputs": [
    {
     "name": "stdout",
     "output_type": "stream",
     "text": [
      "KNN: Unweighted Accuracy: -0.47, -3.27 (+/- 6.39)\n",
      "KNN: Weighted Accuracy: -0.47, -3.24 (+/- 6.27)\n"
     ]
    }
   ],
   "source": [
    "# KNN\n",
    "\n",
    "X = fifa18[intersection]\n",
    "Y = fifa18['Wage']\n",
    "modelE = neighbors.KNeighborsRegressor(n_neighbors=10)\n",
    "modelF = neighbors.KNeighborsRegressor(n_neighbors=10,weights=\"distance\")\n",
    "modelE.fit(X, Y)\n",
    "modelF.fit(X,Y)\n",
    "cscore = cross_val_score(modelE, X, Y, cv=10)\n",
    "print(\"KNN: Unweighted Accuracy: {:.2f}, {:.2f} (+/- {:.2f})\".format(cscore.max(), cscore.mean(), cscore.std() * 2))\n",
    "score_w = cross_val_score(modelF,X, Y, cv=10)\n",
    "print(\"KNN: Weighted Accuracy: {:.2f}, {:.2f} (+/- {:.2f})\".format(score_w.max(), score_w.mean(), score_w.std() * 2))"
   ]
  },
  {
   "cell_type": "markdown",
   "metadata": {},
   "source": [
    "Both KNN and OLS didn't succeed. OLS model is slighly better than baseline"
   ]
  },
  {
   "cell_type": "markdown",
   "metadata": {},
   "source": [
    "Predicting Wage of players using the 6 features didn't suceed. Next I will try to predict wage based on all performance attributes"
   ]
  },
  {
   "cell_type": "markdown",
   "metadata": {},
   "source": [
    "##### Predicting Wage from 34 performance attributes"
   ]
  },
  {
   "cell_type": "code",
   "execution_count": 70,
   "metadata": {},
   "outputs": [
    {
     "name": "stdout",
     "output_type": "stream",
     "text": [
      "OLS: R2 on training set 0.3049247085472273\n",
      "OLS: CV-score(r2): -0.15, -51.21 (+/- 264.44)\n"
     ]
    }
   ],
   "source": [
    "# OLS\n",
    "from sklearn.linear_model import LinearRegression\n",
    "X = performance\n",
    "Y = fifa18['Wage']\n",
    "modelG = LinearRegression()\n",
    "print(\"OLS: R2 on training set\", modelG.fit(X,Y).score(X,Y))\n",
    "cscore = cross_val_score(modelG, X, Y, cv=10, scoring='r2')\n",
    "print(\"OLS: CV-score(r2): {:.2f}, {:.2f} (+/- {:.2f})\".format(cscore.max(), cscore.mean(), cscore.std() * 2))"
   ]
  },
  {
   "cell_type": "code",
   "execution_count": 72,
   "metadata": {},
   "outputs": [
    {
     "name": "stdout",
     "output_type": "stream",
     "text": [
      "Unweighted Accuracy: -0.18, -0.49 (+/- 0.65)\n",
      "Weighted Accuracy: -0.20, -0.50 (+/- 0.64)\n"
     ]
    }
   ],
   "source": [
    "# KNN\n",
    "X = performance\n",
    "Y = fifa18['Wage']\n",
    "modelH = neighbors.KNeighborsRegressor(n_neighbors=10)\n",
    "modelH.fit(X, Y)\n",
    "modelI = neighbors.KNeighborsRegressor(n_neighbors=10,weights=\"distance\")\n",
    "modelI.fit(X,Y)\n",
    "cscore = cross_val_score(modelH, X, Y, cv=10)\n",
    "print(\"Unweighted Accuracy: {:.2f}, {:.2f} (+/- {:.2f})\".format(cscore.max(), cscore.mean(), cscore.std() * 2))\n",
    "score_w = cross_val_score(modelI,X, Y, cv=10)\n",
    "print(\"Weighted Accuracy: {:.2f}, {:.2f} (+/- {:.2f})\".format(score_w.max(), score_w.mean(), score_w.std() * 2))"
   ]
  },
  {
   "cell_type": "markdown",
   "metadata": {},
   "source": [
    "R-squared can be artificially made high. That is we can increase the value of R-squared by simply adding more and more independent variables to our model. In other words R-squared never decreases upon adding more independent variables."
   ]
  },
  {
   "cell_type": "markdown",
   "metadata": {},
   "source": [
    " **Hence R-squared will increase even when the variable is not significant to our model**"
   ]
  },
  {
   "cell_type": "markdown",
   "metadata": {},
   "source": [
    "How do we measure the significance of a variable to our model?\n",
    "\n",
    "Here is the formula for adjusted r-squared"
   ]
  },
  {
   "attachments": {
    "image.png": {
     "image/png": "[encoded data removed]"
    }
   },
   "cell_type": "markdown",
   "metadata": {},
   "source": [
    "![image.png](attachment:image.png)"
   ]
  },
  {
   "cell_type": "markdown",
   "metadata": {},
   "source": [
    "There are 18000 rows in this dataset. n - p doesn't change by much if I increase the number of features to two digits."
   ]
  },
  {
   "cell_type": "markdown",
   "metadata": {},
   "source": [
    "https://towardsdatascience.com/coefficient-of-determination-r-squared-explained-db32700d924e"
   ]
  },
  {
   "cell_type": "markdown",
   "metadata": {},
   "source": [
    "##### Testing with one independent variable"
   ]
  },
  {
   "cell_type": "code",
   "execution_count": 57,
   "metadata": {},
   "outputs": [
    {
     "name": "stdout",
     "output_type": "stream",
     "text": [
      "CV-score_KNN: 0.63, 0.44 (+/- 0.41)\n",
      "CV-score_OLS: 0.27, 0.19 (+/- 0.10)\n"
     ]
    }
   ],
   "source": [
    "X = fifa18[['Heading accuracy']]\n",
    "Y = fifa18['Dribbling']\n",
    "modelZ = neighbors.KNeighborsRegressor(n_neighbors=20, weights='distance')\n",
    "cscore = cross_val_score(modelZ, X, Y, cv=10)\n",
    "print(\"CV-score_KNN: {:.2f}, {:.2f} (+/- {:.2f})\".format(cscore.max(), cscore.mean(), cscore.std() * 2))\n",
    "modelZZ = LinearRegression()\n",
    "cscore = cross_val_score(modelZZ, X, Y, cv=10, scoring='r2')\n",
    "print(\"CV-score_OLS: {:.2f}, {:.2f} (+/- {:.2f})\".format(cscore.max(), cscore.mean(), cscore.std() * 2))"
   ]
  },
  {
   "cell_type": "code",
   "execution_count": 73,
   "metadata": {},
   "outputs": [
    {
     "name": "stdout",
     "output_type": "stream",
     "text": [
      "CV-score_KNN: 0.52, 0.45 (+/- 0.11)\n",
      "CV-score_OLS: 0.51, 0.45 (+/- 0.09)\n"
     ]
    }
   ],
   "source": [
    "X = fifa18[['Sprint speed']]\n",
    "Y = fifa18['Dribbling']\n",
    "modelZ = neighbors.KNeighborsRegressor(n_neighbors=20, weights='distance')\n",
    "cscore = cross_val_score(modelZ, X, Y, cv=10)\n",
    "print(\"CV-score_KNN: {:.2f}, {:.2f} (+/- {:.2f})\".format(cscore.max(), cscore.mean(), cscore.std() * 2))\n",
    "modelZZ = LinearRegression()\n",
    "cscore = cross_val_score(modelZZ, X, Y, cv=10, scoring='r2')\n",
    "print(\"CV-score_OLS: {:.2f}, {:.2f} (+/- {:.2f})\".format(cscore.max(), cscore.mean(), cscore.std() * 2))"
   ]
  },
  {
   "cell_type": "markdown",
   "metadata": {},
   "source": [
    "I can say that the relationship between Heading accuracy and Dribbling is somewhat clustered into two. \n",
    "So KNN performed better than OLS"
   ]
  },
  {
   "cell_type": "markdown",
   "metadata": {},
   "source": [
    "#### Technical Coaching"
   ]
  },
  {
   "cell_type": "markdown",
   "metadata": {},
   "source": [
    "Tinsae [5:56 PM]\n",
    "• Challenge: Find a data set and build a KNN Regression and an OLS regression and make a conclusion about their behaviors\n",
    "    \n",
    "• I tried to predict soccer players Dribbling skill using six player performance features(like Sprint Speed, Finishing...)\n",
    "\n",
    "• I made sure that the selected features are correlated with Dribbling(> 0.6) and less correlated with each other (< 0.5)\n",
    "\n",
    "•  Cross-Validation result(R2): KNN(10 neighbors) = 0.86    OLS =0.86)\n",
    "    \n",
    "•  Then I tried to predict Wages using 34 independent player performance attributes\n",
    "\n",
    "• Cross-Validation result(R2): KNN(10 neighbors) = - 51.21    OLS =0.3\n",
    "    \n",
    "• I also tried to predict Wage using 6 performance features(uncorrelated with Wage)\n",
    "\n",
    "• Cross-Validation result(R2): KNN(10 neighbors) = -3.14    OLS = 0.106\n",
    "\n",
    "What can I conclude from these results? Can I say OLS is mostly better than the baseline(R2 is greater than 0 for all three cases)?\n",
    "\n",
    "\n",
    "\n",
    "mswirsky APP [1 hour ago]\n",
    "**It's hard to make conclusions only knowing one number metric for each model.  I assume that's the mean test accuracy for all folds of the cross val in each case?**\n",
    "**What was the standard deviation of the values for each? And what was the difference between train score and test score?**\n",
    "**I would also refrain from making too many statements about applicability using those terrible model inputs in the second and third cases. You're intentionally making bad models there. The first case is the real test of model vs model.**\n",
    "**In general, KNN has a greater ability to model complex behavior than OLS, but also has a greater ability to overfit to training data, which is how you can get those truly terrible accuracy metrics in the second and third cases.**\n",
    "\n",
    "tigial3535 APP [1 hour ago]\n",
    "\n",
    "(3rd case)\n",
    "// interesection is a list containing 6 features\n",
    "X = fifa18[intersection]\n",
    "Y =  fifa18['Wage']\n",
    "// max, mean, stdev * 2\n",
    "KNN Unweighted Accuracy: -0.47, -3.27 (+/- 6.39)\n",
    "KNN Weighted Accuracy: -0.47, -3.24 (+/- 6.27)\n",
    "Here is the whole notebok\n",
    "https://github.com/Tinsae/Thinkful-Data-Science/blob/master/DS/Unit%203/3.1.4%2BModel%20Comparison%2BOLS%20vs%20KNN%20Regression.ipynb\n",
    "\n",
    "I agree that I made a bad model while trying to compare the two. Can you suggest me how to practically show the power of KNN for this dataset or any other dataset?\n",
    "\n",
    "\n",
    "Mike Swirsky (Agent) APP [44 minutes ago]\n",
    "**Okay, so for the first thing: I think the idea that a correlation coefficient less than 0.5 is \"uncorrelated\" isn't really true. If you have a lot of features, each one may not be great at correlating the outcome, but many weakly correlated features may be good predictors of the outcome, used together. That's really one of the strengths of machine learning over just doing analysis.**\n",
    "**Another initial thing to think about: the correlation coefficient is based on a linear correlation of the feature with the outcome. If there is a significantly nonlinear relationship, but there is still a trend, your correlation coefficient will not be a great predictor of how good the feature is at predicting the outcome. There are other methods for evaluating how good a feature is at predicting the outcome: putting features in a random forest model and using \"feature_importances\", using the ANOVA filter with SelectKBest, and others.**\n",
    "**In terms of showing the power of KNN, I think changing the number of neighbors might give you better results. More neighbors will tend to smear out the trend line, making it have less variation. Fewer neighbors allows the model to jump around, which can be important if you have highly non-linear relationships but that still have a trend. The best thing to do first off is look at not just the correlation coefficients between your features and your outcome, but to scatter plot them and look for patterns.**\n",
    "\n",
    "\n",
    "Tinsae [20 minutes ago]\n",
    "The scatter plots look like this. I have never encountered a case where correlation is high but the variables have a non-linear relationship. ANOVA and SelectKBest are not mentioned in the curriculum. I am already spending a significant amount of time to understand, reading supplementary resources. I will try to see those two methods and others.\n",
    "scatterplot.png\n",
    "\n",
    "\n",
    "Mike Swirsky (Agent) APP [18 minutes ago]\n",
    "**So most of these features have pretty linear relationships. It's not surprising that OLS does a pretty good job modeling this behavior.**\n",
    "**One thing I will mention is that at low values of X for many of these features, there is a very different trend. The value of KNN is the ability to change trends mid-way along the X axis.**\n",
    "**I would take a look at using OLS vs KNN with one feature, like heading accuracy. With one input feature you can graph the model against the scattered data. The KNN model will hopefully be able to make a piece-wise function that can follow the two trends in the data.**"
   ]
  },
  {
   "cell_type": "markdown",
   "metadata": {},
   "source": [
    "Revision on Scatter Plots: https://www.youtube.com/watch?v=PE_BpXTyKCE&ab_channel=vcefurthermaths"
   ]
  },
  {
   "cell_type": "markdown",
   "metadata": {},
   "source": [
    "**Mentor Session**\n",
    "\n",
    "What is the best way to test the importance of a feature \n",
    "\n",
    "* Add the new variable, retrain the model on train and test set. If the model improved on the test-set, it is good. \n",
    "Because it generalizes better.\n",
    "\n",
    "\n",
    "What kinds of things can we visualize using 2D plots\n",
    "\n",
    "* Errors vs Independent variables\n",
    "* Errors vs Dependent varabls\n",
    "\n",
    "\n",
    "Additional notes: \n",
    "\n",
    "In Linear regression features that have large cofficients are relevant.\n"
   ]
  },
  {
   "cell_type": "code",
   "execution_count": null,
   "metadata": {},
   "outputs": [],
   "source": []
  }
 ],
 "metadata": {
  "kernelspec": {
   "display_name": "Python 3",
   "language": "python",
   "name": "python3"
  },
  "language_info": {
   "codemirror_mode": {
    "name": "ipython",
    "version": 3
   },
   "file_extension": ".py",
   "mimetype": "text/x-python",
   "name": "python",
   "nbconvert_exporter": "python",
   "pygments_lexer": "ipython3",
   "version": "3.6.6"
  }
 },
 "nbformat": 4,
 "nbformat_minor": 2
}
