{
 "cells": [
  {
   "cell_type": "code",
   "execution_count": 1,
   "metadata": {
    "run_control": {
     "frozen": false,
     "read_only": false
    }
   },
   "outputs": [],
   "source": [
    "import pandas as pd\n",
    "import numpy as np\n",
    "import scipy\n",
    "import matplotlib.pyplot as plt\n",
    "%matplotlib inline\n",
    "\n",
    "from sklearn import ensemble\n",
    "from sklearn import datasets\n",
    "from sklearn.utils import shuffle\n",
    "from sklearn.metrics import mean_squared_error"
   ]
  },
  {
   "cell_type": "markdown",
   "metadata": {},
   "source": [
    "### Gradient boost guided example\n",
    "\n",
    "Having walked through gradient boost by hand, now let's try it with SKlearn.  We'll still use the European Social Survey Data, but now with a categorical outcome: Whether or not someone lives with a partner."
   ]
  },
  {
   "cell_type": "code",
   "execution_count": 2,
   "metadata": {},
   "outputs": [],
   "source": [
    "df = pd.read_csv((\n",
    "    \"https://raw.githubusercontent.com/Thinkful-Ed/data-201-resources/\"\n",
    "    \"master/ESS_practice_data/ESSdata_Thinkful.csv\")).dropna()\n",
    "\n",
    "# Definine outcome and predictors.\n",
    "# Set our outcome to 0 and 1.\n",
    "y = df['partner'] - 1\n",
    "X = df.loc[:, ~df.columns.isin(['partner', 'cntry', 'idno'])]\n",
    "\n",
    "# Make the categorical variable 'country' into dummies.\n",
    "X = pd.concat([X, pd.get_dummies(df['cntry'])], axis=1)\n",
    "\n",
    "# Create training and test sets.\n",
    "offset = int(X.shape[0] * 0.9)\n",
    "\n",
    "# Put 90% of the data in the training set.\n",
    "X_train, y_train = X[:offset], y[:offset]\n",
    "\n",
    "# And put 10% in the test set.\n",
    "X_test, y_test = X[offset:], y[offset:]"
   ]
  },
  {
   "cell_type": "markdown",
   "metadata": {},
   "source": [
    "Since we're now working with a binary outcome, we've switched to a classifier.  Now our loss function can't be the residuals.  Our options are \"deviance\", or \"exponential\".  Deviance is used for logistic regression, and we'll try that here."
   ]
  },
  {
   "cell_type": "code",
   "execution_count": 3,
   "metadata": {},
   "outputs": [
    {
     "name": "stdout",
     "output_type": "stream",
     "text": [
      "Training set accuracy:\n",
      "Percent Type I errors: 0.04650845608292417\n",
      "Percent Type II errors: 0.17607746863066012\n",
      "\n",
      "Test set accuracy:\n",
      "Percent Type I errors: 0.06257668711656442\n",
      "Percent Type II errors: 0.18527607361963191\n"
     ]
    }
   ],
   "source": [
    "# We'll make 500 iterations, use 2-deep trees, and set our loss function.\n",
    "params = {'n_estimators': 500,\n",
    "          'max_depth': 2,\n",
    "          'loss': 'deviance'}\n",
    "\n",
    "# Initialize and fit the model.\n",
    "clf = ensemble.GradientBoostingClassifier(**params)\n",
    "clf.fit(X_train, y_train)\n",
    "\n",
    "predict_train = clf.predict(X_train)\n",
    "predict_test = clf.predict(X_test)\n",
    "\n",
    "# Accuracy tables.\n",
    "table_train = pd.crosstab(y_train, predict_train, margins=True)\n",
    "table_test = pd.crosstab(y_test, predict_test, margins=True)\n",
    "# pd.crosstab adds \"All\" row and column which contains sum across rows and columns respectively\n",
    "train_tI_errors = table_train.loc[0.0,1.0] / table_train.loc['All','All']\n",
    "train_tII_errors = table_train.loc[1.0,0.0] / table_train.loc['All','All']\n",
    "\n",
    "test_tI_errors = table_test.loc[0.0,1.0]/table_test.loc['All','All']\n",
    "test_tII_errors = table_test.loc[1.0,0.0]/table_test.loc['All','All']\n",
    "\n",
    "print((\n",
    "    'Training set accuracy:\\n'\n",
    "    'Percent Type I errors: {}\\n'\n",
    "    'Percent Type II errors: {}\\n\\n'\n",
    "    'Test set accuracy:\\n'\n",
    "    'Percent Type I errors: {}\\n'\n",
    "    'Percent Type II errors: {}'\n",
    ").format(train_tI_errors, train_tII_errors, test_tI_errors, test_tII_errors))\n"
   ]
  },
  {
   "cell_type": "markdown",
   "metadata": {},
   "source": [
    "Unlike decision trees, gradient boost solutions are not terribly easy to interpret on the surface.  But they aren't quite a black box.  We can get a measure of how important various features are by counting how many times a feature is used over the course of many decision trees."
   ]
  },
  {
   "cell_type": "code",
   "execution_count": 4,
   "metadata": {},
   "outputs": [
    {
     "data": {
      "image/png": "[encoded data removed]",
      "text/plain": [
       "<Figure size 432x288 with 1 Axes>"
      ]
     },
     "metadata": {
      "needs_background": "light"
     },
     "output_type": "display_data"
    },
    {
     "name": "stdout",
     "output_type": "stream",
     "text": [
      "\n",
      "Column headers\n",
      "\n",
      " Index(['year', 'tvtot', 'ppltrst', 'pplfair', 'pplhlp', 'happy', 'sclmeet',\n",
      "       'sclact', 'gndr', 'agea', 'CH', 'CZ', 'DE', 'ES', 'NO', 'SE'],\n",
      "      dtype='object')\n",
      "\n",
      " Feature Importance [2.71890335e-01 3.02834394e+00 1.41563197e+00 1.70062970e+00\n",
      " 1.23081586e+00 1.65003969e+01 4.19985737e+00 1.38296692e+00\n",
      " 5.11455767e+00 1.00000000e+02 3.53376125e-01 5.32876443e-01\n",
      " 7.26661658e-02 2.03124575e+00 5.55385134e-01 2.19070105e-01]\n",
      "\n",
      "argsorted from smallest to largest\n",
      "\n",
      " [12 15  0 10 11 14  4  7  2  3 13  1  6  8  5  9]\n",
      "\n",
      "Column headers\n",
      "\n",
      " Index(['DE', 'SE', 'year', 'CH', 'CZ', 'NO', 'pplhlp', 'sclact', 'ppltrst',\n",
      "       'pplfair', 'ES', 'tvtot', 'sclmeet', 'gndr', 'happy', 'agea'],\n",
      "      dtype='object')\n",
      "\n",
      "Rearranged accordingly\n",
      "\n",
      " [7.26661658e-02 2.19070105e-01 2.71890335e-01 3.53376125e-01\n",
      " 5.32876443e-01 5.55385134e-01 1.23081586e+00 1.38296692e+00\n",
      " 1.41563197e+00 1.70062970e+00 2.03124575e+00 3.02834394e+00\n",
      " 4.19985737e+00 5.11455767e+00 1.65003969e+01 1.00000000e+02]\n",
      "\n",
      "Position on the y axis\n",
      "\n",
      " [ 0.5  1.5  2.5  3.5  4.5  5.5  6.5  7.5  8.5  9.5 10.5 11.5 12.5 13.5\n",
      " 14.5 15.5]\n"
     ]
    }
   ],
   "source": [
    "feature_importance = clf.feature_importances_\n",
    "\n",
    "# Make importances relative to max importance.\n",
    "feature_importance = 100.0 * (feature_importance / feature_importance.max())\n",
    "# argsort sorts from smallest to largest\n",
    "sorted_idx = np.argsort(feature_importance)\n",
    "pos = np.arange(sorted_idx.shape[0]) + .5\n",
    "# use only one column of a 1 x 2 figure\n",
    "plt.subplot(1, 2, 2)\n",
    "# pos is the postion of the bars on the y axis\n",
    "# feature_importance[sorted_idx] is the width of the bars\n",
    "plt.barh(pos, feature_importance[sorted_idx], align='center')\n",
    "plt.yticks(pos, X.columns[sorted_idx])\n",
    "plt.xlabel('Relative Importance')\n",
    "plt.title('Variable Importance')\n",
    "plt.show()\n",
    "print(\"\\nColumn headers\\n\\n\",X.columns)\n",
    "print(\"\\n Feature Importance\", feature_importance)\n",
    "print(\"\\nargsorted from smallest to largest\\n\\n\",sorted_idx)\n",
    "print(\"\\nColumn headers\\n\\n\",X.columns[sorted_idx])\n",
    "print(\"\\nRearranged accordingly\\n\\n\",feature_importance[sorted_idx])\n",
    "print(\"\\nPosition on the y axis\\n\\n\", pos)"
   ]
  },
  {
   "cell_type": "markdown",
   "metadata": {},
   "source": [
    "It appears that age and happiness are the most important features in predicting whether or not someone lives with a partner."
   ]
  },
  {
   "cell_type": "markdown",
   "metadata": {
    "collapsed": true
   },
   "source": [
    "### DRILL: Improve this gradient boost model\n",
    "\n",
    "While this model is already doing alright, we've seen from the Type I and Type II error rates that there is definitely room for improvement.  Your task is to see how low you can get the error rates to go in the test set, based on your model in the training set.  Strategies you might use include:\n",
    "\n",
    "* Creating new features\n",
    "* Applying more overfitting-prevention strategies like subsampling\n",
    "* More iterations\n",
    "* Trying a different loss function\n",
    "* Changing the structure of the weak learner: Allowing more leaves in the tree, or other modifications\n",
    "\n",
    "Have fun!"
   ]
  },
  {
   "cell_type": "markdown",
   "metadata": {},
   "source": [
    "Before the fun read this:\n",
    "\n",
    "https://www.analyticsvidhya.com/blog/2016/02/complete-guide-parameter-tuning-gradient-boosting-gbm-python/"
   ]
  },
  {
   "cell_type": "markdown",
   "metadata": {},
   "source": [
    "#### Create new features"
   ]
  },
  {
   "cell_type": "code",
   "execution_count": 5,
   "metadata": {},
   "outputs": [],
   "source": [
    "means = df[['ppltrst','pplfair','pplhlp']].mean(axis=0)\n",
    "stds = df[['ppltrst','pplfair','pplhlp']].std(axis=0)\n",
    "df['trust_fair_help'] = ((df[['ppltrst','pplfair','pplhlp']] - means) / stds).mean(axis=1)\n",
    "df.drop(['ppltrst','pplfair','pplhlp'], axis=1, inplace=True)\n",
    "\n",
    "from sklearn.model_selection import train_test_split\n",
    "\n",
    "# recreate X\n",
    "X = df.loc[:, ~df.columns.isin(['partner', 'cntry', 'idno'])]\n",
    "X = pd.concat([X, pd.get_dummies(df['cntry'])], axis=1)\n",
    "\n",
    "X_train, X_test, y_train, y_test = train_test_split(X, y, test_size=0.2, random_state=20, shuffle=True)\n",
    "\n",
    "\n",
    "X_train, X_test, y_train, y_test = train_test_split(X, y, test_size = 0.1, random_state=20, shuffle=True)\n",
    "\n",
    "# # Create training and test sets.\n",
    "# offset = int(X.shape[0] * 0.9)\n",
    "\n",
    "# # Put 90% of the data in the training set.\n",
    "# X_train, y_train = X[:offset], y[:offset]\n",
    "\n",
    "# # And put 10% in the test set.\n",
    "# X_test, y_test = X[offset:], y[offset:]"
   ]
  },
  {
   "cell_type": "markdown",
   "metadata": {},
   "source": [
    "#### Hyperparameter Search"
   ]
  },
  {
   "cell_type": "code",
   "execution_count": 6,
   "metadata": {},
   "outputs": [],
   "source": [
    "from sklearn.model_selection import ParameterGrid, GridSearchCV\n",
    "import time\n",
    "def hyperparameter_search(hyperparameters):\n",
    "    hyperparameter_combinations = ParameterGrid(hyperparameters)\n",
    "    scores = []\n",
    "    start_time = time.time()\n",
    "    best_model = None\n",
    "    for params in hyperparameter_combinations:\n",
    "        clf = ensemble.GradientBoostingClassifier(**params)\n",
    "        clf.fit(X_train, y_train)\n",
    "        train_error = 1 - clf.score(X_train, y_train)\n",
    "        test_error =  1 - clf.score(X_test, y_test)\n",
    "        scores.append([params, train_error, test_error])\n",
    "        best_model = clf\n",
    "    print(time.time() - start_time, \" seconds\")\n",
    "    scores = np.array(scores)\n",
    "    # best estimator\n",
    "    print(\"best parameters: \", scores[np.argmin(scores[:, 2]), 0])\n",
    "    print(\"lowest test error:\", scores[np.argmin(scores[:, 2]), 2], \"with train error: \", np.argmin(scores[:, 2]), 1)\n",
    "    return best_model"
   ]
  },
  {
   "cell_type": "code",
   "execution_count": 7,
   "metadata": {},
   "outputs": [
    {
     "name": "stdout",
     "output_type": "stream",
     "text": [
      "55.3825466632843  seconds\n",
      "best parameters:  {'learning_rate': 0.125, 'max_depth': 3, 'n_estimators': 150, 'subsample': 0.8}\n",
      "lowest test error: 0.23803680981595088 with train error:  11 1\n"
     ]
    },
    {
     "data": {
      "text/plain": [
       "GradientBoostingClassifier(criterion='friedman_mse', init=None,\n",
       "              learning_rate=0.125, loss='deviance', max_depth=4,\n",
       "              max_features=None, max_leaf_nodes=None,\n",
       "              min_impurity_decrease=0.0, min_impurity_split=None,\n",
       "              min_samples_leaf=1, min_samples_split=2,\n",
       "              min_weight_fraction_leaf=0.0, n_estimators=550,\n",
       "              n_iter_no_change=None, presort='auto', random_state=None,\n",
       "              subsample=0.8, tol=0.0001, validation_fraction=0.1,\n",
       "              verbose=0, warm_start=False)"
      ]
     },
     "execution_count": 7,
     "metadata": {},
     "output_type": "execute_result"
    }
   ],
   "source": [
    "hyperparameters = {'n_estimators':np.arange(100,600,50), \n",
    "                   'learning_rate':[0.125],\n",
    "                   'subsample':[0.8],\n",
    "                  'max_depth':[2,3,4]}\n",
    "hyperparameter_search(hyperparameters) "
   ]
  },
  {
   "cell_type": "code",
   "execution_count": 8,
   "metadata": {},
   "outputs": [
    {
     "name": "stdout",
     "output_type": "stream",
     "text": [
      "7.825634479522705  seconds\n",
      "best parameters:  {'learning_rate': 0.125, 'loss': 'deviance', 'max_depth': 4, 'min_samples_leaf': 90, 'n_estimators': 100, 'subsample': 0.8}\n",
      "lowest test error: 0.22822085889570554 with train error:  10 1\n"
     ]
    },
    {
     "data": {
      "text/plain": [
       "GradientBoostingClassifier(criterion='friedman_mse', init=None,\n",
       "              learning_rate=0.125, loss='deviance', max_depth=4,\n",
       "              max_features=None, max_leaf_nodes=None,\n",
       "              min_impurity_decrease=0.0, min_impurity_split=None,\n",
       "              min_samples_leaf=100, min_samples_split=2,\n",
       "              min_weight_fraction_leaf=0.0, n_estimators=100,\n",
       "              n_iter_no_change=None, presort='auto', random_state=None,\n",
       "              subsample=0.8, tol=0.0001, validation_fraction=0.1,\n",
       "              verbose=0, warm_start=False)"
      ]
     },
     "execution_count": 8,
     "metadata": {},
     "output_type": "execute_result"
    }
   ],
   "source": [
    "hyperparameters = {'n_estimators':[100], \n",
    "                   'learning_rate':[0.125],\n",
    "                   'subsample':[0.8],\n",
    "                  'max_depth':[3,4],\n",
    "                   'min_samples_leaf':[50,60,70,80,90,100],\n",
    "                    'loss':['deviance']\n",
    "                  }\n",
    "hyperparameter_search(hyperparameters) "
   ]
  },
  {
   "cell_type": "code",
   "execution_count": 9,
   "metadata": {},
   "outputs": [
    {
     "name": "stdout",
     "output_type": "stream",
     "text": [
      "58.04666590690613  seconds\n",
      "best parameters:  {'learning_rate': 0.2, 'loss': 'deviance', 'max_depth': 3, 'min_samples_leaf': 90, 'n_estimators': 130, 'subsample': 0.8}\n",
      "lowest test error: 0.22453987730061353 with train error:  59 1\n"
     ]
    }
   ],
   "source": [
    "hyperparameters = {'n_estimators':[100,110,120,130,140,145,160], \n",
    "                   'learning_rate':[0.1, 0.125,0.15, 0.175, 0.2],\n",
    "                   'subsample':[0.8],\n",
    "                  'max_depth':[3,4],\n",
    "                   'min_samples_leaf':[90],\n",
    "                    'loss':['deviance']\n",
    "                  }\n",
    "best_model = hyperparameter_search(hyperparameters) "
   ]
  },
  {
   "cell_type": "code",
   "execution_count": 10,
   "metadata": {},
   "outputs": [
    {
     "data": {
      "image/png": "[encoded data removed]",
      "text/plain": [
       "<Figure size 432x288 with 1 Axes>"
      ]
     },
     "metadata": {
      "needs_background": "light"
     },
     "output_type": "display_data"
    },
    {
     "name": "stdout",
     "output_type": "stream",
     "text": [
      "\n",
      "Column headers\n",
      "\n",
      " Index(['year', 'tvtot', 'happy', 'sclmeet', 'sclact', 'gndr', 'agea',\n",
      "       'trust_fair_help', 'CH', 'CZ', 'DE', 'ES', 'NO', 'SE'],\n",
      "      dtype='object')\n",
      "\n",
      " Feature Importance [  1.70591485   8.21229753  19.90252014   7.34910683   4.56800915\n",
      "   5.04279684 100.          19.74213925   0.50934269   1.67477425\n",
      "   0.           3.54671415   1.01814931   1.17155457]\n",
      "\n",
      "argsorted from smallest to largest\n",
      "\n",
      " [10  8 12 13  9  0 11  4  5  3  1  7  2  6]\n",
      "\n",
      "Column headers\n",
      "\n",
      " Index(['DE', 'CH', 'NO', 'SE', 'CZ', 'year', 'ES', 'sclact', 'gndr', 'sclmeet',\n",
      "       'tvtot', 'trust_fair_help', 'happy', 'agea'],\n",
      "      dtype='object')\n",
      "\n",
      "Rearranged accordingly\n",
      "\n",
      " [  0.           0.50934269   1.01814931   1.17155457   1.67477425\n",
      "   1.70591485   3.54671415   4.56800915   5.04279684   7.34910683\n",
      "   8.21229753  19.74213925  19.90252014 100.        ]\n",
      "\n",
      "Position on the y axis\n",
      "\n",
      " [ 0.5  1.5  2.5  3.5  4.5  5.5  6.5  7.5  8.5  9.5 10.5 11.5 12.5 13.5]\n"
     ]
    }
   ],
   "source": [
    "feature_importance = best_model.feature_importances_\n",
    "\n",
    "# Make importances relative to max importance.\n",
    "feature_importance = 100.0 * (feature_importance / feature_importance.max())\n",
    "# argsort sorts from smallest to largest\n",
    "sorted_idx = np.argsort(feature_importance)\n",
    "pos = np.arange(sorted_idx.shape[0]) + .5\n",
    "# use only one column of a 1 x 2 figure\n",
    "plt.subplot(1, 2, 2)\n",
    "# pos is the postion of the bars on the y axis\n",
    "# feature_importance[sorted_idx] is the width of the bars\n",
    "plt.barh(pos, feature_importance[sorted_idx], align='center')\n",
    "plt.yticks(pos, X.columns[sorted_idx])\n",
    "plt.xlabel('Relative Importance')\n",
    "plt.title('Variable Importance')\n",
    "plt.show()\n",
    "print(\"\\nColumn headers\\n\\n\",X.columns)\n",
    "print(\"\\n Feature Importance\", feature_importance)\n",
    "print(\"\\nargsorted from smallest to largest\\n\\n\",sorted_idx)\n",
    "print(\"\\nColumn headers\\n\\n\",X.columns[sorted_idx])\n",
    "print(\"\\nRearranged accordingly\\n\\n\",feature_importance[sorted_idx])\n",
    "print(\"\\nPosition on the y axis\\n\\n\", pos)"
   ]
  },
  {
   "cell_type": "markdown",
   "metadata": {},
   "source": [
    "#### I was able to reduce the test-error from 0.25 to 0.22"
   ]
  }
 ],
 "metadata": {
  "hide_input": false,
  "kernelspec": {
   "display_name": "Python 3",
   "language": "python",
   "name": "python3"
  },
  "language_info": {
   "codemirror_mode": {
    "name": "ipython",
    "version": 3
   },
   "file_extension": ".py",
   "mimetype": "text/x-python",
   "name": "python",
   "nbconvert_exporter": "python",
   "pygments_lexer": "ipython3",
   "version": "3.7.1"
  },
  "toc": {
   "colors": {
    "hover_highlight": "#DAA520",
    "running_highlight": "#FF0000",
    "selected_highlight": "#FFD700"
   },
   "moveMenuLeft": true,
   "nav_menu": {
    "height": "59px",
    "width": "252px"
   },
   "navigate_menu": true,
   "number_sections": true,
   "sideBar": true,
   "threshold": 4,
   "toc_cell": false,
   "toc_section_display": "block",
   "toc_window_display": false
  }
 },
 "nbformat": 4,
 "nbformat_minor": 2
}
