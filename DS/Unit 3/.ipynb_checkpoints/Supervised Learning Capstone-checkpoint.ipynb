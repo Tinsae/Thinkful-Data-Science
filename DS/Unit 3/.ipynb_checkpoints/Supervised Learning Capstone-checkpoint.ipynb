{
 "cells": [
  {
   "cell_type": "markdown",
   "metadata": {},
   "source": [
    "## What is inside"
   ]
  },
  {
   "cell_type": "markdown",
   "metadata": {},
   "source": [
    "Objective\n",
    "\n",
    "Gathering Data\n",
    "\n",
    "Prepare Data for Modeling\n",
    "    - Supervised/Unsupervised/Regression/Classfication\n",
    "    - Data Visualization\n",
    "    - Data Cleaning: Missing Values, Outlier Removal\n",
    "    - Feature Extraction: Interaction, Lagging, One-Hot Encoding\n",
    "    - Feature Selection: Univariate/Recursive\n",
    "    - Split data into train/test\n",
    "    - Under Sampling, Over Sampling\n",
    "    - Scaling, Normalizing, outlier removal\n",
    "Baseline Modeling\n",
    "    - Select model\n",
    "        - Linear Regression, Logistic Regression\n",
    "        - K-nearest neighbors, Decision Tree\n",
    "        - Support Vector Machine, Random Forest\n",
    "    - Parameteric Models: Multicolinearity, Relation with the outcome\n",
    "    - Evaluation Metric: ROC AUC, PR AUC, Accuracy, R2, MSE, RMSE, RSS, MAE\n",
    "    - Fit model on train-set\n",
    "    - Test model on test-set\n",
    "    - Feature importances, ANOVA table(stats_models), Coefficents\n",
    "\n",
    "Secondary Modeling\n",
    "    - Reduce Overfitting\n",
    "        - Hyperparameter Tuning: L1, L2 penality\n",
    "    - Gradient Boosting, XGBoost, Custom Ensembles\n",
    "    - Improve generalization error\n"
   ]
  },
  {
   "cell_type": "code",
   "execution_count": 5,
   "metadata": {},
   "outputs": [],
   "source": [
    "import pandas as pd\n",
    "import pickle\n",
    "from geopy.distance import great_circle\n",
    "import operator\n",
    "from scipy import sparse\n",
    "from scipy.sparse import csr_matrix, vstack, hstack, coo_matrix\n",
    "import seaborn as sns\n",
    "import numpy as np\n",
    "import matplotlib.pyplot as plt\n",
    "from sklearn.model_selection import train_test_split\n",
    "import warnings\n",
    "warnings.simplefilter(action='ignore', category=FutureWarning)\n",
    "\n",
    "%matplotlib inline"
   ]
  },
  {
   "cell_type": "markdown",
   "metadata": {},
   "source": [
    "## 1. Objective"
   ]
  },
  {
   "cell_type": "markdown",
   "metadata": {},
   "source": [
    "Predict whether a restaurant will be closed or not based on its geographical location and user reviews. Most businesses don't just open and close in short period of time. They stay for years before closing. The newest Yelp Dataset was released before 6 months. It contains data about businesses that were opened and closed since 2004. Thus, it will be useful to predict whether a restaurant will close in the next few years. Banks can use this model to make informed loan decisions. Because loans are mostly long-term. Investors want to put their money on a restaurant that is likely to remain for many years.\n",
    "\n",
    "I searched for related works that try to predict restaurants closure, The project I am aiming to develop is unique in the following aspects:\n",
    "\n",
    "* It can better generalize across cities because it is trained on 11 meteropolitan areas. The related projects were focused ne one city.\n",
    "\n",
    "* It aims at improving perfomance by combining bag of words with other features, like the surrounding performance. Researchers at Univeristy of Maryland worked on the textual features only and Michail Alifierakis used features related to the surrounding performance only. He didn't encoporate textual features. \n",
    "\n",
    "* It uses the most recent version of the dataset which was released before 6 months.\n"
   ]
  },
  {
   "cell_type": "markdown",
   "metadata": {},
   "source": [
    "## 2. Gathering Data"
   ]
  },
  {
   "cell_type": "markdown",
   "metadata": {},
   "source": [
    "http://us-city.census.okfn.org/dataset/food-safety"
   ]
  },
  {
   "cell_type": "markdown",
   "metadata": {},
   "source": [
    "This dataset is a subset of Yelp's businesses, reviews, and user data. In total, there are :\n",
    "\n",
    "- 5,200,000 user reviews\n",
    "- Information on 174,000 businesses\n",
    "- The data spans 11 metropolitan areas in 4 countries\n",
    "\n",
    "It is a huge dataset. I beleive that more data contributes in imporivng model generalization.Loading the data to memory at once is impossible. I considered the following options\n",
    "\n",
    "* a machine learning library other than pandas\n",
    "* dividing the data into chunks and working one chunk at a time\n",
    "* database\n",
    "\n",
    "Pandas can read in chunks."
   ]
  },
  {
   "cell_type": "code",
   "execution_count": 6,
   "metadata": {},
   "outputs": [],
   "source": [
    "b = pd.read_json(\"../../../../../yelp-dataset/yelp_academic_dataset_business.json\", lines=True)"
   ]
  },
  {
   "cell_type": "markdown",
   "metadata": {},
   "source": [
    "### Business\n",
    "\n",
    "Contains business data including location data, attributes, and categories. "
   ]
  },
  {
   "cell_type": "code",
   "execution_count": 7,
   "metadata": {},
   "outputs": [
    {
     "data": {
      "text/html": [
       "<div>\n",
       "<style scoped>\n",
       "    .dataframe tbody tr th:only-of-type {\n",
       "        vertical-align: middle;\n",
       "    }\n",
       "\n",
       "    .dataframe tbody tr th {\n",
       "        vertical-align: top;\n",
       "    }\n",
       "\n",
       "    .dataframe thead th {\n",
       "        text-align: right;\n",
       "    }\n",
       "</style>\n",
       "<table border=\"1\" class=\"dataframe\">\n",
       "  <thead>\n",
       "    <tr style=\"text-align: right;\">\n",
       "      <th></th>\n",
       "      <th>address</th>\n",
       "      <th>attributes</th>\n",
       "      <th>business_id</th>\n",
       "      <th>categories</th>\n",
       "      <th>city</th>\n",
       "      <th>hours</th>\n",
       "      <th>is_open</th>\n",
       "      <th>latitude</th>\n",
       "      <th>longitude</th>\n",
       "      <th>name</th>\n",
       "      <th>neighborhood</th>\n",
       "      <th>postal_code</th>\n",
       "      <th>review_count</th>\n",
       "      <th>stars</th>\n",
       "      <th>state</th>\n",
       "    </tr>\n",
       "  </thead>\n",
       "  <tbody>\n",
       "    <tr>\n",
       "      <th>0</th>\n",
       "      <td>1314 44 Avenue NE</td>\n",
       "      <td>{'BikeParking': 'False', 'BusinessAcceptsCredi...</td>\n",
       "      <td>Apn5Q_b6Nz61Tq4XzPdf9A</td>\n",
       "      <td>Tours, Breweries, Pizza, Restaurants, Food, Ho...</td>\n",
       "      <td>Calgary</td>\n",
       "      <td>{'Monday': '8:30-17:0', 'Tuesday': '11:0-21:0'...</td>\n",
       "      <td>1</td>\n",
       "      <td>51.091813</td>\n",
       "      <td>-114.031675</td>\n",
       "      <td>Minhas Micro Brewery</td>\n",
       "      <td></td>\n",
       "      <td>T2E 6L6</td>\n",
       "      <td>24</td>\n",
       "      <td>4.0</td>\n",
       "      <td>AB</td>\n",
       "    </tr>\n",
       "    <tr>\n",
       "      <th>1</th>\n",
       "      <td></td>\n",
       "      <td>{'Alcohol': 'none', 'BikeParking': 'False', 'B...</td>\n",
       "      <td>AjEbIBw6ZFfln7ePHha9PA</td>\n",
       "      <td>Chicken Wings, Burgers, Caterers, Street Vendo...</td>\n",
       "      <td>Henderson</td>\n",
       "      <td>{'Friday': '17:0-23:0', 'Saturday': '17:0-23:0...</td>\n",
       "      <td>0</td>\n",
       "      <td>35.960734</td>\n",
       "      <td>-114.939821</td>\n",
       "      <td>CK'S BBQ &amp; Catering</td>\n",
       "      <td></td>\n",
       "      <td>89002</td>\n",
       "      <td>3</td>\n",
       "      <td>4.5</td>\n",
       "      <td>NV</td>\n",
       "    </tr>\n",
       "    <tr>\n",
       "      <th>2</th>\n",
       "      <td>1335 rue Beaubien E</td>\n",
       "      <td>{'Alcohol': 'beer_and_wine', 'Ambience': '{'ro...</td>\n",
       "      <td>O8S5hYJ1SMc8fA4QBtVujA</td>\n",
       "      <td>Breakfast &amp; Brunch, Restaurants, French, Sandw...</td>\n",
       "      <td>MontrÃ©al</td>\n",
       "      <td>{'Monday': '10:0-22:0', 'Tuesday': '10:0-22:0'...</td>\n",
       "      <td>0</td>\n",
       "      <td>45.540503</td>\n",
       "      <td>-73.599300</td>\n",
       "      <td>La Bastringue</td>\n",
       "      <td>Rosemont-La Petite-Patrie</td>\n",
       "      <td>H2G 1K7</td>\n",
       "      <td>5</td>\n",
       "      <td>4.0</td>\n",
       "      <td>QC</td>\n",
       "    </tr>\n",
       "    <tr>\n",
       "      <th>3</th>\n",
       "      <td>211 W Monroe St</td>\n",
       "      <td>None</td>\n",
       "      <td>bFzdJJ3wp3PZssNEsyU23g</td>\n",
       "      <td>Insurance, Financial Services</td>\n",
       "      <td>Phoenix</td>\n",
       "      <td>None</td>\n",
       "      <td>1</td>\n",
       "      <td>33.449999</td>\n",
       "      <td>-112.076979</td>\n",
       "      <td>Geico Insurance</td>\n",
       "      <td></td>\n",
       "      <td>85003</td>\n",
       "      <td>8</td>\n",
       "      <td>1.5</td>\n",
       "      <td>AZ</td>\n",
       "    </tr>\n",
       "    <tr>\n",
       "      <th>4</th>\n",
       "      <td>2005 Alyth Place SE</td>\n",
       "      <td>{'BusinessAcceptsCreditCards': 'True'}</td>\n",
       "      <td>8USyCYqpScwiNEb58Bt6CA</td>\n",
       "      <td>Home &amp; Garden, Nurseries &amp; Gardening, Shopping...</td>\n",
       "      <td>Calgary</td>\n",
       "      <td>{'Monday': '8:0-17:0', 'Tuesday': '8:0-17:0', ...</td>\n",
       "      <td>1</td>\n",
       "      <td>51.035591</td>\n",
       "      <td>-114.027366</td>\n",
       "      <td>Action Engine</td>\n",
       "      <td></td>\n",
       "      <td>T2H 0N5</td>\n",
       "      <td>4</td>\n",
       "      <td>2.0</td>\n",
       "      <td>AB</td>\n",
       "    </tr>\n",
       "    <tr>\n",
       "      <th>5</th>\n",
       "      <td>20235 N Cave Creek Rd, Ste 1115</td>\n",
       "      <td>{'BikeParking': 'True', 'BusinessAcceptsCredit...</td>\n",
       "      <td>45bWSZtniwPRiqlivpS8Og</td>\n",
       "      <td>Coffee &amp; Tea, Food</td>\n",
       "      <td>Phoenix</td>\n",
       "      <td>{'Monday': '5:30-20:0', 'Tuesday': '5:30-20:0'...</td>\n",
       "      <td>1</td>\n",
       "      <td>33.671375</td>\n",
       "      <td>-112.030017</td>\n",
       "      <td>The Coffee Bean &amp; Tea Leaf</td>\n",
       "      <td></td>\n",
       "      <td>85024</td>\n",
       "      <td>63</td>\n",
       "      <td>4.0</td>\n",
       "      <td>AZ</td>\n",
       "    </tr>\n",
       "  </tbody>\n",
       "</table>\n",
       "</div>"
      ],
      "text/plain": [
       "                           address  \\\n",
       "0                1314 44 Avenue NE   \n",
       "1                                    \n",
       "2              1335 rue Beaubien E   \n",
       "3                  211 W Monroe St   \n",
       "4              2005 Alyth Place SE   \n",
       "5  20235 N Cave Creek Rd, Ste 1115   \n",
       "\n",
       "                                          attributes             business_id  \\\n",
       "0  {'BikeParking': 'False', 'BusinessAcceptsCredi...  Apn5Q_b6Nz61Tq4XzPdf9A   \n",
       "1  {'Alcohol': 'none', 'BikeParking': 'False', 'B...  AjEbIBw6ZFfln7ePHha9PA   \n",
       "2  {'Alcohol': 'beer_and_wine', 'Ambience': '{'ro...  O8S5hYJ1SMc8fA4QBtVujA   \n",
       "3                                               None  bFzdJJ3wp3PZssNEsyU23g   \n",
       "4             {'BusinessAcceptsCreditCards': 'True'}  8USyCYqpScwiNEb58Bt6CA   \n",
       "5  {'BikeParking': 'True', 'BusinessAcceptsCredit...  45bWSZtniwPRiqlivpS8Og   \n",
       "\n",
       "                                          categories       city  \\\n",
       "0  Tours, Breweries, Pizza, Restaurants, Food, Ho...    Calgary   \n",
       "1  Chicken Wings, Burgers, Caterers, Street Vendo...  Henderson   \n",
       "2  Breakfast & Brunch, Restaurants, French, Sandw...  MontrÃ©al   \n",
       "3                      Insurance, Financial Services    Phoenix   \n",
       "4  Home & Garden, Nurseries & Gardening, Shopping...    Calgary   \n",
       "5                                 Coffee & Tea, Food    Phoenix   \n",
       "\n",
       "                                               hours  is_open   latitude  \\\n",
       "0  {'Monday': '8:30-17:0', 'Tuesday': '11:0-21:0'...        1  51.091813   \n",
       "1  {'Friday': '17:0-23:0', 'Saturday': '17:0-23:0...        0  35.960734   \n",
       "2  {'Monday': '10:0-22:0', 'Tuesday': '10:0-22:0'...        0  45.540503   \n",
       "3                                               None        1  33.449999   \n",
       "4  {'Monday': '8:0-17:0', 'Tuesday': '8:0-17:0', ...        1  51.035591   \n",
       "5  {'Monday': '5:30-20:0', 'Tuesday': '5:30-20:0'...        1  33.671375   \n",
       "\n",
       "    longitude                        name               neighborhood  \\\n",
       "0 -114.031675        Minhas Micro Brewery                              \n",
       "1 -114.939821         CK'S BBQ & Catering                              \n",
       "2  -73.599300               La Bastringue  Rosemont-La Petite-Patrie   \n",
       "3 -112.076979             Geico Insurance                              \n",
       "4 -114.027366               Action Engine                              \n",
       "5 -112.030017  The Coffee Bean & Tea Leaf                              \n",
       "\n",
       "  postal_code  review_count  stars state  \n",
       "0     T2E 6L6            24    4.0    AB  \n",
       "1       89002             3    4.5    NV  \n",
       "2     H2G 1K7             5    4.0    QC  \n",
       "3       85003             8    1.5    AZ  \n",
       "4     T2H 0N5             4    2.0    AB  \n",
       "5       85024            63    4.0    AZ  "
      ]
     },
     "execution_count": 7,
     "metadata": {},
     "output_type": "execute_result"
    }
   ],
   "source": [
    "b.head(6)"
   ]
  },
  {
   "cell_type": "markdown",
   "metadata": {},
   "source": [
    "See Categories more closely"
   ]
  },
  {
   "cell_type": "code",
   "execution_count": 8,
   "metadata": {},
   "outputs": [
    {
     "data": {
      "text/plain": [
       "146023                           Hair Salons, Beauty & Spas\n",
       "132634                              Shopping, Home & Garden\n",
       "170294                           Contractors, Home Services\n",
       "21039     Home Services, Real Estate Agents, Real Estate...\n",
       "49666     Breweries, American (New), Sports Bars, Food, ...\n",
       "Name: categories, dtype: object"
      ]
     },
     "execution_count": 8,
     "metadata": {},
     "output_type": "execute_result"
    }
   ],
   "source": [
    "b.categories.sample(5)"
   ]
  },
  {
   "cell_type": "markdown",
   "metadata": {},
   "source": [
    "The Yelp Category List\n",
    "\n",
    "- Active Life\n",
    "- Arts & Entertainment\n",
    "- Automotive\n",
    "- Beauty & Spas\n",
    "- Education\n",
    "- Event Planning & Services\n",
    "- Financial Services\n",
    "- Food\n",
    "- Health & Medical\n",
    "- Home Services\n",
    "- Hotels & Travel\n",
    "- Local Flavor\n",
    "- Local Services\n",
    "- Mass Media\n",
    "- Nightlife\n",
    "- Pets\n",
    "- Professional Services\n",
    "- Public Services & Government\n",
    "- Real estate\n",
    "- Religious Organizations\n",
    "- Restaurants\n",
    "- Shopping\n",
    "\n",
    "*Each one of these contain other specific categories*\n",
    "\n",
    "Restaurants\n",
    "- Afghan\n",
    "- African\n",
    "    - Senegalese\n",
    "    - South African\n",
    "- American (New)\n",
    "- American (Traditional)\n",
    "- Arabian\n",
    "- Argentine\n",
    "- Armenian"
   ]
  },
  {
   "cell_type": "markdown",
   "metadata": {},
   "source": [
    "Attributes are stored as a nested JSON object."
   ]
  },
  {
   "cell_type": "code",
   "execution_count": 9,
   "metadata": {},
   "outputs": [
    {
     "data": {
      "text/plain": [
       "{'BikeParking': 'True',\n",
       " 'BusinessAcceptsCreditCards': 'True',\n",
       " 'BusinessParking': \"{'garage': False, 'street': False, 'validated': False, 'lot': True, 'valet': False}\",\n",
       " 'ByAppointmentOnly': 'True',\n",
       " 'GoodForKids': 'True',\n",
       " 'HairSpecializesIn': \"{'coloring': True, 'africanamerican': False, 'curly': True, 'perms': True, 'kids': True, 'extensions': True, 'asian': False, 'straightperms': True}\",\n",
       " 'RestaurantsPriceRange2': '2',\n",
       " 'WheelchairAccessible': 'True'}"
      ]
     },
     "execution_count": 9,
     "metadata": {},
     "output_type": "execute_result"
    }
   ],
   "source": [
    "b.attributes[1005]"
   ]
  },
  {
   "cell_type": "code",
   "execution_count": 10,
   "metadata": {},
   "outputs": [
    {
     "data": {
      "text/plain": [
       "Index(['address', 'attributes', 'business_id', 'categories', 'city', 'hours',\n",
       "       'is_open', 'latitude', 'longitude', 'name', 'neighborhood',\n",
       "       'postal_code', 'review_count', 'stars', 'state'],\n",
       "      dtype='object')"
      ]
     },
     "execution_count": 10,
     "metadata": {},
     "output_type": "execute_result"
    }
   ],
   "source": [
    "b.columns"
   ]
  },
  {
   "cell_type": "markdown",
   "metadata": {},
   "source": [
    "All the attributes are displayed as follows. Star rating average of all stars recieved by the business, rounded to half-stars. "
   ]
  },
  {
   "cell_type": "markdown",
   "metadata": {},
   "source": [
    "<img src=\"https://drive.google.com/uc?export=view&id=1-tIQSbZZmff7eQn6p9hqB68BQLOIBw2q\" width=\"500\"/>"
   ]
  },
  {
   "cell_type": "markdown",
   "metadata": {},
   "source": [
    "### Check in\n",
    "\n",
    "Checkins on a business."
   ]
  },
  {
   "cell_type": "code",
   "execution_count": 11,
   "metadata": {},
   "outputs": [],
   "source": [
    "csize = 1e2\n",
    "checkin_reader = pd.read_json(\"../../../../../yelp-dataset/yelp_academic_dataset_checkin.json\", lines=True, chunksize=csize)\n",
    "\n",
    "for i, c in enumerate(checkin_reader):\n",
    "    if(i > 0):\n",
    "        break"
   ]
  },
  {
   "cell_type": "code",
   "execution_count": 12,
   "metadata": {},
   "outputs": [
    {
     "data": {
      "text/plain": [
       "Index(['business_id', 'time'], dtype='object')"
      ]
     },
     "execution_count": 12,
     "metadata": {},
     "output_type": "execute_result"
    }
   ],
   "source": [
    "c.columns"
   ]
  },
  {
   "cell_type": "code",
   "execution_count": 13,
   "metadata": {},
   "outputs": [
    {
     "data": {
      "text/html": [
       "<div>\n",
       "<style scoped>\n",
       "    .dataframe tbody tr th:only-of-type {\n",
       "        vertical-align: middle;\n",
       "    }\n",
       "\n",
       "    .dataframe tbody tr th {\n",
       "        vertical-align: top;\n",
       "    }\n",
       "\n",
       "    .dataframe thead th {\n",
       "        text-align: right;\n",
       "    }\n",
       "</style>\n",
       "<table border=\"1\" class=\"dataframe\">\n",
       "  <thead>\n",
       "    <tr style=\"text-align: right;\">\n",
       "      <th></th>\n",
       "      <th>business_id</th>\n",
       "      <th>time</th>\n",
       "    </tr>\n",
       "  </thead>\n",
       "  <tbody>\n",
       "    <tr>\n",
       "      <th>100</th>\n",
       "      <td>6FkCrxJMq5KIgavHRqtlbQ</td>\n",
       "      <td>{'Tue-4': 1, 'Wed-14': 2, 'Thu-15': 1, 'Sun-16...</td>\n",
       "    </tr>\n",
       "    <tr>\n",
       "      <th>101</th>\n",
       "      <td>d24LIT55-aAr7l1X99vpjw</td>\n",
       "      <td>{'Fri-1': 1, 'Fri-17': 1, 'Mon-19': 1, 'Tue-22...</td>\n",
       "    </tr>\n",
       "    <tr>\n",
       "      <th>102</th>\n",
       "      <td>2pmOI_mrn1ZWB88IeiOMkA</td>\n",
       "      <td>{'Tue-16': 1, 'Tue-17': 1, 'Wed-17': 1, 'Wed-2...</td>\n",
       "    </tr>\n",
       "    <tr>\n",
       "      <th>103</th>\n",
       "      <td>KvUuXo2Fpt-rcWR13iLWHg</td>\n",
       "      <td>{'Wed-0': 1, 'Sun-1': 1, 'Sat-13': 1, 'Mon-16'...</td>\n",
       "    </tr>\n",
       "    <tr>\n",
       "      <th>104</th>\n",
       "      <td>quYlYKkiZ5qRLdu-_hew7g</td>\n",
       "      <td>{'Tue-17': 1, 'Sun-19': 1}</td>\n",
       "    </tr>\n",
       "  </tbody>\n",
       "</table>\n",
       "</div>"
      ],
      "text/plain": [
       "                business_id                                               time\n",
       "100  6FkCrxJMq5KIgavHRqtlbQ  {'Tue-4': 1, 'Wed-14': 2, 'Thu-15': 1, 'Sun-16...\n",
       "101  d24LIT55-aAr7l1X99vpjw  {'Fri-1': 1, 'Fri-17': 1, 'Mon-19': 1, 'Tue-22...\n",
       "102  2pmOI_mrn1ZWB88IeiOMkA  {'Tue-16': 1, 'Tue-17': 1, 'Wed-17': 1, 'Wed-2...\n",
       "103  KvUuXo2Fpt-rcWR13iLWHg  {'Wed-0': 1, 'Sun-1': 1, 'Sat-13': 1, 'Mon-16'...\n",
       "104  quYlYKkiZ5qRLdu-_hew7g                         {'Tue-17': 1, 'Sun-19': 1}"
      ]
     },
     "execution_count": 13,
     "metadata": {},
     "output_type": "execute_result"
    }
   ],
   "source": [
    "c.head()"
   ]
  },
  {
   "cell_type": "markdown",
   "metadata": {},
   "source": [
    "#### Review\n",
    "\n",
    "Contains full review text data including the user_id that wrote the review and the business_id the review is written for."
   ]
  },
  {
   "cell_type": "code",
   "execution_count": 14,
   "metadata": {},
   "outputs": [],
   "source": [
    "csize = 1e2\n",
    "review_reader = pd.read_json(\"../../../../../yelp-dataset/yelp_academic_dataset_review.json\", lines=True, chunksize=csize)\n",
    "for i, r in enumerate(review_reader):\n",
    "    if(i > 0):\n",
    "        break"
   ]
  },
  {
   "cell_type": "code",
   "execution_count": 15,
   "metadata": {},
   "outputs": [
    {
     "data": {
      "text/plain": [
       "Index(['business_id', 'cool', 'date', 'funny', 'review_id', 'stars', 'text',\n",
       "       'useful', 'user_id'],\n",
       "      dtype='object')"
      ]
     },
     "execution_count": 15,
     "metadata": {},
     "output_type": "execute_result"
    }
   ],
   "source": [
    "r.columns"
   ]
  },
  {
   "cell_type": "code",
   "execution_count": 16,
   "metadata": {},
   "outputs": [
    {
     "data": {
      "text/html": [
       "<div>\n",
       "<style scoped>\n",
       "    .dataframe tbody tr th:only-of-type {\n",
       "        vertical-align: middle;\n",
       "    }\n",
       "\n",
       "    .dataframe tbody tr th {\n",
       "        vertical-align: top;\n",
       "    }\n",
       "\n",
       "    .dataframe thead th {\n",
       "        text-align: right;\n",
       "    }\n",
       "</style>\n",
       "<table border=\"1\" class=\"dataframe\">\n",
       "  <thead>\n",
       "    <tr style=\"text-align: right;\">\n",
       "      <th></th>\n",
       "      <th>business_id</th>\n",
       "      <th>cool</th>\n",
       "      <th>date</th>\n",
       "      <th>funny</th>\n",
       "      <th>review_id</th>\n",
       "      <th>stars</th>\n",
       "      <th>text</th>\n",
       "      <th>useful</th>\n",
       "      <th>user_id</th>\n",
       "    </tr>\n",
       "  </thead>\n",
       "  <tbody>\n",
       "    <tr>\n",
       "      <th>100</th>\n",
       "      <td>7wHLFohwCw8l6WS-feLjeg</td>\n",
       "      <td>1</td>\n",
       "      <td>2017-04-05</td>\n",
       "      <td>0</td>\n",
       "      <td>5k9F53Lanw09xR3nwCdRYg</td>\n",
       "      <td>5</td>\n",
       "      <td>I had an amazing time here. They were very bus...</td>\n",
       "      <td>1</td>\n",
       "      <td>Yy_iGXxLpL6tYDQoE-6XVg</td>\n",
       "    </tr>\n",
       "    <tr>\n",
       "      <th>101</th>\n",
       "      <td>ixAh9crILnJ9tM8LhWFhkw</td>\n",
       "      <td>0</td>\n",
       "      <td>2017-04-05</td>\n",
       "      <td>0</td>\n",
       "      <td>Fv1cqziL1JShSztJWYkTcA</td>\n",
       "      <td>4</td>\n",
       "      <td>I've been coming here for a while and I love h...</td>\n",
       "      <td>0</td>\n",
       "      <td>Yy_iGXxLpL6tYDQoE-6XVg</td>\n",
       "    </tr>\n",
       "    <tr>\n",
       "      <th>102</th>\n",
       "      <td>aQ222ydz_GSRZV66xNt4kQ</td>\n",
       "      <td>0</td>\n",
       "      <td>2017-04-09</td>\n",
       "      <td>1</td>\n",
       "      <td>AxhxGl41DItKjqkzYtr53Q</td>\n",
       "      <td>1</td>\n",
       "      <td>2 of my girlfriends recommended this place so ...</td>\n",
       "      <td>1</td>\n",
       "      <td>Yy_iGXxLpL6tYDQoE-6XVg</td>\n",
       "    </tr>\n",
       "    <tr>\n",
       "      <th>103</th>\n",
       "      <td>owLBKLyHe85xPba24bmZRw</td>\n",
       "      <td>0</td>\n",
       "      <td>2016-01-23</td>\n",
       "      <td>0</td>\n",
       "      <td>lAyATpsxALW9owlSKhSozA</td>\n",
       "      <td>5</td>\n",
       "      <td>Vickie makes me feel so comfortable every time...</td>\n",
       "      <td>0</td>\n",
       "      <td>Yy_iGXxLpL6tYDQoE-6XVg</td>\n",
       "    </tr>\n",
       "    <tr>\n",
       "      <th>104</th>\n",
       "      <td>s3i73_ttk_F33AEdqMr18g</td>\n",
       "      <td>0</td>\n",
       "      <td>2017-01-31</td>\n",
       "      <td>0</td>\n",
       "      <td>_qIXejLYgWGYYtcGcMw1eg</td>\n",
       "      <td>3</td>\n",
       "      <td>The halo-halo was good! I got the mango toast ...</td>\n",
       "      <td>0</td>\n",
       "      <td>Yy_iGXxLpL6tYDQoE-6XVg</td>\n",
       "    </tr>\n",
       "  </tbody>\n",
       "</table>\n",
       "</div>"
      ],
      "text/plain": [
       "                business_id  cool       date  funny               review_id  \\\n",
       "100  7wHLFohwCw8l6WS-feLjeg     1 2017-04-05      0  5k9F53Lanw09xR3nwCdRYg   \n",
       "101  ixAh9crILnJ9tM8LhWFhkw     0 2017-04-05      0  Fv1cqziL1JShSztJWYkTcA   \n",
       "102  aQ222ydz_GSRZV66xNt4kQ     0 2017-04-09      1  AxhxGl41DItKjqkzYtr53Q   \n",
       "103  owLBKLyHe85xPba24bmZRw     0 2016-01-23      0  lAyATpsxALW9owlSKhSozA   \n",
       "104  s3i73_ttk_F33AEdqMr18g     0 2017-01-31      0  _qIXejLYgWGYYtcGcMw1eg   \n",
       "\n",
       "     stars                                               text  useful  \\\n",
       "100      5  I had an amazing time here. They were very bus...       1   \n",
       "101      4  I've been coming here for a while and I love h...       0   \n",
       "102      1  2 of my girlfriends recommended this place so ...       1   \n",
       "103      5  Vickie makes me feel so comfortable every time...       0   \n",
       "104      3  The halo-halo was good! I got the mango toast ...       0   \n",
       "\n",
       "                    user_id  \n",
       "100  Yy_iGXxLpL6tYDQoE-6XVg  \n",
       "101  Yy_iGXxLpL6tYDQoE-6XVg  \n",
       "102  Yy_iGXxLpL6tYDQoE-6XVg  \n",
       "103  Yy_iGXxLpL6tYDQoE-6XVg  \n",
       "104  Yy_iGXxLpL6tYDQoE-6XVg  "
      ]
     },
     "execution_count": 16,
     "metadata": {},
     "output_type": "execute_result"
    }
   ],
   "source": [
    "r.head()"
   ]
  },
  {
   "cell_type": "markdown",
   "metadata": {},
   "source": [
    "See the text, stars, date and user. A review can receive votes from other users: useful, cool, funny. The business that is reviewed, the user who reviewed are linked by business_id and review_id respectively."
   ]
  },
  {
   "cell_type": "markdown",
   "metadata": {},
   "source": [
    "<img src=\"https://drive.google.com/uc?export=view&id=1FD3GDVCTS5ZTj_ohu2p83FJb46hIblEN\" width=\"400\"/>"
   ]
  },
  {
   "cell_type": "markdown",
   "metadata": {},
   "source": [
    "#### Tip\n",
    "\n",
    "Tips written by a user on a business. Tips are shorter than reviews and tend to convey quick suggestions."
   ]
  },
  {
   "cell_type": "code",
   "execution_count": 17,
   "metadata": {},
   "outputs": [],
   "source": [
    "csize=1e2\n",
    "tip_reader = pd.read_json(\"../../../../../yelp-dataset/yelp_academic_dataset_tip.json\", lines=True, chunksize=csize)\n",
    "for i, t in enumerate(tip_reader):\n",
    "    if(i > 0):\n",
    "        break"
   ]
  },
  {
   "cell_type": "code",
   "execution_count": 18,
   "metadata": {},
   "outputs": [
    {
     "data": {
      "text/plain": [
       "Index(['business_id', 'date', 'likes', 'text', 'user_id'], dtype='object')"
      ]
     },
     "execution_count": 18,
     "metadata": {},
     "output_type": "execute_result"
    }
   ],
   "source": [
    "t.columns"
   ]
  },
  {
   "cell_type": "code",
   "execution_count": 19,
   "metadata": {},
   "outputs": [
    {
     "data": {
      "text/html": [
       "<div>\n",
       "<style scoped>\n",
       "    .dataframe tbody tr th:only-of-type {\n",
       "        vertical-align: middle;\n",
       "    }\n",
       "\n",
       "    .dataframe tbody tr th {\n",
       "        vertical-align: top;\n",
       "    }\n",
       "\n",
       "    .dataframe thead th {\n",
       "        text-align: right;\n",
       "    }\n",
       "</style>\n",
       "<table border=\"1\" class=\"dataframe\">\n",
       "  <thead>\n",
       "    <tr style=\"text-align: right;\">\n",
       "      <th></th>\n",
       "      <th>business_id</th>\n",
       "      <th>date</th>\n",
       "      <th>likes</th>\n",
       "      <th>text</th>\n",
       "      <th>user_id</th>\n",
       "    </tr>\n",
       "  </thead>\n",
       "  <tbody>\n",
       "    <tr>\n",
       "      <th>100</th>\n",
       "      <td>-InU2nAbC9AuS-Um2Cowgw</td>\n",
       "      <td>2014-03-31</td>\n",
       "      <td>0</td>\n",
       "      <td>Order extra gravy. Its the best thing ever!</td>\n",
       "      <td>QGgWWhEi5R4SLAKN-xwtNQ</td>\n",
       "    </tr>\n",
       "    <tr>\n",
       "      <th>101</th>\n",
       "      <td>SurnOSM2bVVN4-Js3G23RQ</td>\n",
       "      <td>2016-04-18</td>\n",
       "      <td>0</td>\n",
       "      <td>Get the ice tea with raspberries, they add the...</td>\n",
       "      <td>QGgWWhEi5R4SLAKN-xwtNQ</td>\n",
       "    </tr>\n",
       "    <tr>\n",
       "      <th>102</th>\n",
       "      <td>ydhgMcBh4A_eihzEAg9LLQ</td>\n",
       "      <td>2015-08-09</td>\n",
       "      <td>0</td>\n",
       "      <td>Still delicious!</td>\n",
       "      <td>QGgWWhEi5R4SLAKN-xwtNQ</td>\n",
       "    </tr>\n",
       "    <tr>\n",
       "      <th>103</th>\n",
       "      <td>3CBLxydJU6CFRMGhu9b-sw</td>\n",
       "      <td>2015-11-18</td>\n",
       "      <td>0</td>\n",
       "      <td>Tuesday Special - 50Â¢ wings</td>\n",
       "      <td>QGgWWhEi5R4SLAKN-xwtNQ</td>\n",
       "    </tr>\n",
       "    <tr>\n",
       "      <th>104</th>\n",
       "      <td>Ue4wtaeyhPKvdkXlULimCw</td>\n",
       "      <td>2015-08-26</td>\n",
       "      <td>0</td>\n",
       "      <td>Add an ice tea for lunch, it's the real thing ...</td>\n",
       "      <td>QGgWWhEi5R4SLAKN-xwtNQ</td>\n",
       "    </tr>\n",
       "  </tbody>\n",
       "</table>\n",
       "</div>"
      ],
      "text/plain": [
       "                business_id       date  likes  \\\n",
       "100  -InU2nAbC9AuS-Um2Cowgw 2014-03-31      0   \n",
       "101  SurnOSM2bVVN4-Js3G23RQ 2016-04-18      0   \n",
       "102  ydhgMcBh4A_eihzEAg9LLQ 2015-08-09      0   \n",
       "103  3CBLxydJU6CFRMGhu9b-sw 2015-11-18      0   \n",
       "104  Ue4wtaeyhPKvdkXlULimCw 2015-08-26      0   \n",
       "\n",
       "                                                  text                 user_id  \n",
       "100        Order extra gravy. Its the best thing ever!  QGgWWhEi5R4SLAKN-xwtNQ  \n",
       "101  Get the ice tea with raspberries, they add the...  QGgWWhEi5R4SLAKN-xwtNQ  \n",
       "102                                   Still delicious!  QGgWWhEi5R4SLAKN-xwtNQ  \n",
       "103                       Tuesday Special - 50Â¢ wings  QGgWWhEi5R4SLAKN-xwtNQ  \n",
       "104  Add an ice tea for lunch, it's the real thing ...  QGgWWhEi5R4SLAKN-xwtNQ  "
      ]
     },
     "execution_count": 19,
     "metadata": {},
     "output_type": "execute_result"
    }
   ],
   "source": [
    "t.head()"
   ]
  },
  {
   "cell_type": "markdown",
   "metadata": {},
   "source": [
    "#### User\n",
    "\n",
    "User data including the user's friend mapping and all the metadata associated with the user."
   ]
  },
  {
   "cell_type": "code",
   "execution_count": 20,
   "metadata": {},
   "outputs": [],
   "source": [
    "user_reader = pd.read_json(\"../../../../../yelp-dataset/yelp_academic_dataset_user.json\", lines=True, chunksize=csize)\n",
    "csize=1e2\n",
    "for i, u in enumerate(user_reader):\n",
    "    if(i > 0):\n",
    "        break"
   ]
  },
  {
   "cell_type": "code",
   "execution_count": 21,
   "metadata": {},
   "outputs": [
    {
     "data": {
      "text/plain": [
       "Index(['average_stars', 'compliment_cool', 'compliment_cute',\n",
       "       'compliment_funny', 'compliment_hot', 'compliment_list',\n",
       "       'compliment_more', 'compliment_note', 'compliment_photos',\n",
       "       'compliment_plain', 'compliment_profile', 'compliment_writer', 'cool',\n",
       "       'elite', 'fans', 'friends', 'funny', 'name', 'review_count', 'useful',\n",
       "       'user_id', 'yelping_since'],\n",
       "      dtype='object')"
      ]
     },
     "execution_count": 21,
     "metadata": {},
     "output_type": "execute_result"
    }
   ],
   "source": [
    "u.columns"
   ]
  },
  {
   "cell_type": "code",
   "execution_count": 22,
   "metadata": {},
   "outputs": [
    {
     "data": {
      "text/html": [
       "<div>\n",
       "<style scoped>\n",
       "    .dataframe tbody tr th:only-of-type {\n",
       "        vertical-align: middle;\n",
       "    }\n",
       "\n",
       "    .dataframe tbody tr th {\n",
       "        vertical-align: top;\n",
       "    }\n",
       "\n",
       "    .dataframe thead th {\n",
       "        text-align: right;\n",
       "    }\n",
       "</style>\n",
       "<table border=\"1\" class=\"dataframe\">\n",
       "  <thead>\n",
       "    <tr style=\"text-align: right;\">\n",
       "      <th></th>\n",
       "      <th>average_stars</th>\n",
       "      <th>compliment_cool</th>\n",
       "      <th>compliment_cute</th>\n",
       "      <th>compliment_funny</th>\n",
       "      <th>compliment_hot</th>\n",
       "      <th>compliment_list</th>\n",
       "      <th>compliment_more</th>\n",
       "      <th>compliment_note</th>\n",
       "      <th>compliment_photos</th>\n",
       "      <th>compliment_plain</th>\n",
       "      <th>...</th>\n",
       "      <th>cool</th>\n",
       "      <th>elite</th>\n",
       "      <th>fans</th>\n",
       "      <th>friends</th>\n",
       "      <th>funny</th>\n",
       "      <th>name</th>\n",
       "      <th>review_count</th>\n",
       "      <th>useful</th>\n",
       "      <th>user_id</th>\n",
       "      <th>yelping_since</th>\n",
       "    </tr>\n",
       "  </thead>\n",
       "  <tbody>\n",
       "    <tr>\n",
       "      <th>100</th>\n",
       "      <td>4.80</td>\n",
       "      <td>0</td>\n",
       "      <td>0</td>\n",
       "      <td>0</td>\n",
       "      <td>0</td>\n",
       "      <td>0</td>\n",
       "      <td>0</td>\n",
       "      <td>0</td>\n",
       "      <td>0</td>\n",
       "      <td>0</td>\n",
       "      <td>...</td>\n",
       "      <td>0</td>\n",
       "      <td>None</td>\n",
       "      <td>0</td>\n",
       "      <td>None</td>\n",
       "      <td>0</td>\n",
       "      <td>Emili</td>\n",
       "      <td>5</td>\n",
       "      <td>0</td>\n",
       "      <td>6DoRkChoTpUYXOeNSnyJqQ</td>\n",
       "      <td>2015-05-02</td>\n",
       "    </tr>\n",
       "    <tr>\n",
       "      <th>101</th>\n",
       "      <td>3.50</td>\n",
       "      <td>0</td>\n",
       "      <td>0</td>\n",
       "      <td>0</td>\n",
       "      <td>0</td>\n",
       "      <td>0</td>\n",
       "      <td>0</td>\n",
       "      <td>0</td>\n",
       "      <td>0</td>\n",
       "      <td>1</td>\n",
       "      <td>...</td>\n",
       "      <td>0</td>\n",
       "      <td>None</td>\n",
       "      <td>0</td>\n",
       "      <td>None</td>\n",
       "      <td>0</td>\n",
       "      <td>Bo</td>\n",
       "      <td>2</td>\n",
       "      <td>1</td>\n",
       "      <td>ctmN5z3jzsGuE475qto3qw</td>\n",
       "      <td>2013-03-03</td>\n",
       "    </tr>\n",
       "    <tr>\n",
       "      <th>102</th>\n",
       "      <td>2.60</td>\n",
       "      <td>0</td>\n",
       "      <td>0</td>\n",
       "      <td>0</td>\n",
       "      <td>0</td>\n",
       "      <td>0</td>\n",
       "      <td>0</td>\n",
       "      <td>0</td>\n",
       "      <td>0</td>\n",
       "      <td>1</td>\n",
       "      <td>...</td>\n",
       "      <td>0</td>\n",
       "      <td>None</td>\n",
       "      <td>0</td>\n",
       "      <td>None</td>\n",
       "      <td>0</td>\n",
       "      <td>Samie</td>\n",
       "      <td>5</td>\n",
       "      <td>6</td>\n",
       "      <td>bJPSSCDJjWA1e2mOeBPNtA</td>\n",
       "      <td>2008-09-02</td>\n",
       "    </tr>\n",
       "    <tr>\n",
       "      <th>103</th>\n",
       "      <td>3.54</td>\n",
       "      <td>0</td>\n",
       "      <td>0</td>\n",
       "      <td>0</td>\n",
       "      <td>0</td>\n",
       "      <td>0</td>\n",
       "      <td>0</td>\n",
       "      <td>1</td>\n",
       "      <td>0</td>\n",
       "      <td>0</td>\n",
       "      <td>...</td>\n",
       "      <td>0</td>\n",
       "      <td>None</td>\n",
       "      <td>0</td>\n",
       "      <td>None</td>\n",
       "      <td>0</td>\n",
       "      <td>Mary</td>\n",
       "      <td>32</td>\n",
       "      <td>5</td>\n",
       "      <td>68qmfoSUXpPUaXz_VEyqzA</td>\n",
       "      <td>2011-12-31</td>\n",
       "    </tr>\n",
       "    <tr>\n",
       "      <th>104</th>\n",
       "      <td>3.75</td>\n",
       "      <td>0</td>\n",
       "      <td>0</td>\n",
       "      <td>0</td>\n",
       "      <td>0</td>\n",
       "      <td>0</td>\n",
       "      <td>0</td>\n",
       "      <td>0</td>\n",
       "      <td>0</td>\n",
       "      <td>0</td>\n",
       "      <td>...</td>\n",
       "      <td>0</td>\n",
       "      <td>None</td>\n",
       "      <td>0</td>\n",
       "      <td>None</td>\n",
       "      <td>0</td>\n",
       "      <td>Roaming</td>\n",
       "      <td>4</td>\n",
       "      <td>1</td>\n",
       "      <td>SMF7KR-F9TuGbLeWKHL4Yg</td>\n",
       "      <td>2015-11-08</td>\n",
       "    </tr>\n",
       "  </tbody>\n",
       "</table>\n",
       "<p>5 rows × 22 columns</p>\n",
       "</div>"
      ],
      "text/plain": [
       "     average_stars  compliment_cool  compliment_cute  compliment_funny  \\\n",
       "100           4.80                0                0                 0   \n",
       "101           3.50                0                0                 0   \n",
       "102           2.60                0                0                 0   \n",
       "103           3.54                0                0                 0   \n",
       "104           3.75                0                0                 0   \n",
       "\n",
       "     compliment_hot  compliment_list  compliment_more  compliment_note  \\\n",
       "100               0                0                0                0   \n",
       "101               0                0                0                0   \n",
       "102               0                0                0                0   \n",
       "103               0                0                0                1   \n",
       "104               0                0                0                0   \n",
       "\n",
       "     compliment_photos  compliment_plain      ...        cool  elite  fans  \\\n",
       "100                  0                 0      ...           0   None     0   \n",
       "101                  0                 1      ...           0   None     0   \n",
       "102                  0                 1      ...           0   None     0   \n",
       "103                  0                 0      ...           0   None     0   \n",
       "104                  0                 0      ...           0   None     0   \n",
       "\n",
       "    friends  funny     name  review_count useful                 user_id  \\\n",
       "100    None      0    Emili             5      0  6DoRkChoTpUYXOeNSnyJqQ   \n",
       "101    None      0       Bo             2      1  ctmN5z3jzsGuE475qto3qw   \n",
       "102    None      0    Samie             5      6  bJPSSCDJjWA1e2mOeBPNtA   \n",
       "103    None      0     Mary            32      5  68qmfoSUXpPUaXz_VEyqzA   \n",
       "104    None      0  Roaming             4      1  SMF7KR-F9TuGbLeWKHL4Yg   \n",
       "\n",
       "     yelping_since  \n",
       "100     2015-05-02  \n",
       "101     2013-03-03  \n",
       "102     2008-09-02  \n",
       "103     2011-12-31  \n",
       "104     2015-11-08  \n",
       "\n",
       "[5 rows x 22 columns]"
      ]
     },
     "execution_count": 22,
     "metadata": {},
     "output_type": "execute_result"
    }
   ],
   "source": [
    "u.head()"
   ]
  },
  {
   "cell_type": "markdown",
   "metadata": {},
   "source": [
    "<img src=\"https://drive.google.com/uc?export=view&id=1pmFWXvpQjqsrbNqIiSG_DP8B1SSu-z2A\" width=\"500\"/>"
   ]
  },
  {
   "cell_type": "markdown",
   "metadata": {},
   "source": [
    "useful, funny, cool exisit in user table. They refer to number of votes sent by the user. On review table these features were counting number of votes given to a review."
   ]
  },
  {
   "cell_type": "markdown",
   "metadata": {},
   "source": [
    "Users can recieve compliments from other users. A complement is given on the profile page. It is not given for a single review, rather on the overall activity of a user. "
   ]
  },
  {
   "cell_type": "markdown",
   "metadata": {},
   "source": [
    "Compliment Type | Profile\n",
    "- | - \n",
    "<img src=\"https://drive.google.com/uc?export=view&id=1yjTX0vvW1vCQClX4Byqfz6OcGBL8ILmu\" width=\"300\"/>|<img src=\"https://drive.google.com/uc?export=view&id=1bzdwJf7tmzlQndbfnv9ORbaCeyX8e300\" width=\"150\"/>"
   ]
  },
  {
   "cell_type": "markdown",
   "metadata": {},
   "source": [
    "## Prepare Data for Modeling"
   ]
  },
  {
   "cell_type": "code",
   "execution_count": 23,
   "metadata": {},
   "outputs": [],
   "source": [
    "# from scipy.sparse import csr_matrix, vstack, hstack, coo_matrix\n",
    "# from IPython.display import HTML, display\n",
    "# import tabulate\n",
    "\n",
    "# list1 = np.array([[1,0,0], [4,5,0]])\n",
    "# list1 = [[1,0,0], [4,5,0]]\n",
    "# matrix1 = csr_matrix(list1)\n",
    "# display(HTML(tabulate.tabulate(list1, tablefmt='html')))\n",
    "# print(matrix1)\n",
    "# print()\n",
    "# # stacking a new row\n",
    "# matrix2 = vstack((matrix1, [0,9,0]))\n",
    "# list2 = matrix2.toarray()\n",
    "# display(HTML(tabulate.tabulate(list2, tablefmt='html')))\n",
    "# print(matrix2)\n",
    "# print()\n",
    "# # stacking a new column on matrix1\n",
    "# matrix3 = hstack((matrix1,[[0],[4.5]] ))\n",
    "# list3 = matrix3.toarray()\n",
    "# display(HTML(tabulate.tabulate(list3, tablefmt='html')))\n",
    "# print(matrix3)\n",
    "# print()\n",
    "# # stacking a two columns on matrix1\n",
    "# matrix4 = hstack((matrix1,[[0,9.9589],[4.5214, 0]] ))\n",
    "# list4 = matrix4.toarray()\n",
    "# display(HTML(tabulate.tabulate(list4, tablefmt='html')))\n",
    "# print(matrix4)\n",
    "# print()\n",
    "# # rounding numpy matrices\n",
    "# matrix4.data= np.round(matrix4.data,2)\n",
    "# print(matrix4)"
   ]
  },
  {
   "cell_type": "markdown",
   "metadata": {},
   "source": [
    "### Business"
   ]
  },
  {
   "cell_type": "markdown",
   "metadata": {},
   "source": [
    "Business table is only 188593. It is only one chunk(< 1e6), so I can use all the data at once"
   ]
  },
  {
   "cell_type": "markdown",
   "metadata": {},
   "source": [
    "#### Do closed businesses have more nulls?"
   ]
  },
  {
   "cell_type": "code",
   "execution_count": 24,
   "metadata": {},
   "outputs": [
    {
     "data": {
      "text/plain": [
       "address          0.00000\n",
       "attributes      13.67283\n",
       "business_id      0.00000\n",
       "categories       0.28686\n",
       "city             0.00000\n",
       "hours           23.75592\n",
       "is_open          0.00000\n",
       "latitude         0.00318\n",
       "longitude        0.00318\n",
       "name             0.00000\n",
       "neighborhood     0.00000\n",
       "postal_code      0.00000\n",
       "review_count     0.00000\n",
       "stars            0.00000\n",
       "state            0.00000\n",
       "dtype: float64"
      ]
     },
     "execution_count": 24,
     "metadata": {},
     "output_type": "execute_result"
    }
   ],
   "source": [
    "# nulls in percent\n",
    "((b.isnull().sum()/len(b)) * 100).round(5)"
   ]
  },
  {
   "cell_type": "code",
   "execution_count": 25,
   "metadata": {},
   "outputs": [
    {
     "data": {
      "image/png": "[encoded data removed]",
      "text/plain": [
       "<Figure size 428.125x360 with 1 Axes>"
      ]
     },
     "metadata": {
      "needs_background": "light"
     },
     "output_type": "display_data"
    }
   ],
   "source": [
    "nulls_count = pd.DataFrame({\"open\":(b[b.is_open == True].isnull().sum()/len(b[b.is_open == False])).round(5), \n",
    "                           \"closed\":(b[b.is_open == False].isnull().sum()/len(b[b.is_open == False])).round(5)})\n",
    "\n",
    "nulls_count = nulls_count[(nulls_count.open > 0) | (nulls_count.closed > 0)]\n",
    "nulls_count[\"feature\"] = nulls_count.index\n",
    "nulls_count_melted = pd.melt(nulls_count, id_vars=['feature'], value_vars=['open', 'closed'])\n",
    "sns.catplot(x=\"feature\", y=\"value\", hue=\"variable\", kind=\"point\", data=nulls_count_melted)\n",
    "sns.despine()\n",
    "plt.show()"
   ]
  },
  {
   "cell_type": "markdown",
   "metadata": {},
   "source": [
    "No, closed business have much lesser nulls"
   ]
  },
  {
   "cell_type": "markdown",
   "metadata": {},
   "source": [
    "#### Class imbalance"
   ]
  },
  {
   "cell_type": "code",
   "execution_count": 26,
   "metadata": {},
   "outputs": [
    {
     "data": {
      "image/png": "[encoded data removed]",
      "text/plain": [
       "<Figure size 432x288 with 1 Axes>"
      ]
     },
     "metadata": {
      "needs_background": "light"
     },
     "output_type": "display_data"
    }
   ],
   "source": [
    "count_classes = pd.value_counts(b.is_open, sort=True, normalize=True).sort_index()\n",
    "count_classes.plot(kind = 'bar')\n",
    "plt.title(\"Imbalanced Classes\")\n",
    "plt.xticks([0,1], (\"Closed\", \"Open\"))\n",
    "plt.xlabel(\"Class\")\n",
    "plt.ylabel(\"Frequency\")\n",
    "sns.despine()\n",
    "plt.show()"
   ]
  },
  {
   "cell_type": "markdown",
   "metadata": {},
   "source": [
    "* 23% of hours is missing. I can drop hours\n",
    "\n",
    "* 0.29 % rows have missing category. I can drop those rows\n",
    "\n",
    "* 0.001 % rows have missing latitude, longitude information. Dropping them will not affect the data\n",
    "\n",
    "* I am not going to use the attributes feature. "
   ]
  },
  {
   "cell_type": "code",
   "execution_count": 27,
   "metadata": {},
   "outputs": [
    {
     "data": {
      "text/plain": [
       "address         0.0\n",
       "business_id     0.0\n",
       "categories      0.0\n",
       "city            0.0\n",
       "is_open         0.0\n",
       "latitude        0.0\n",
       "longitude       0.0\n",
       "name            0.0\n",
       "neighborhood    0.0\n",
       "postal_code     0.0\n",
       "review_count    0.0\n",
       "stars           0.0\n",
       "state           0.0\n",
       "dtype: float64"
      ]
     },
     "execution_count": 27,
     "metadata": {},
     "output_type": "execute_result"
    }
   ],
   "source": [
    "b.drop(\"hours\", axis=1, inplace=True)\n",
    "b = b.drop(b[b.categories.isnull()].index)\n",
    "b = b.drop(b[(b.latitude.isnull()) | (b.longitude.isnull()) ].index)\n",
    "b = b.drop(\"attributes\", axis=1)\n",
    "# nulls in percent\n",
    "((b.isnull().sum()/len(b)) * 100).round(5)"
   ]
  },
  {
   "cell_type": "markdown",
   "metadata": {},
   "source": [
    "### Binarize Categories"
   ]
  },
  {
   "cell_type": "markdown",
   "metadata": {},
   "source": [
    "A business is labeled to more than one categories. Converting them to binary will make filtering and analyzing very easy. Let me try to one-hot encode them.  "
   ]
  },
  {
   "cell_type": "code",
   "execution_count": 28,
   "metadata": {},
   "outputs": [
    {
     "data": {
      "text/plain": [
       "0    Tours, Breweries, Pizza, Restaurants, Food, Ho...\n",
       "1    Chicken Wings, Burgers, Caterers, Street Vendo...\n",
       "2    Breakfast & Brunch, Restaurants, French, Sandw...\n",
       "3                        Insurance, Financial Services\n",
       "4    Home & Garden, Nurseries & Gardening, Shopping...\n",
       "Name: categories, dtype: object"
      ]
     },
     "execution_count": 28,
     "metadata": {},
     "output_type": "execute_result"
    }
   ],
   "source": [
    "b.categories.head()"
   ]
  },
  {
   "cell_type": "markdown",
   "metadata": {},
   "source": [
    "Splitting by comma works except for businesses that have a single category seprated by commas. \n",
    "\n",
    "- Books, Mags, Music & Video\n",
    "- Used, Vintage & Consignment\n",
    "- Beer, Wine & Spirits\n",
    "- Wills, Trusts, & Probates\n",
    "\n",
    "Since there is no syntatical difference beween single category containing comma and multiple categories separated by comma, i couln't find a regex expression to deal with this problem. Replacing manually is the remaining option."
   ]
  },
  {
   "cell_type": "code",
   "execution_count": 29,
   "metadata": {},
   "outputs": [],
   "source": [
    "b.loc[:, 'categories'] = b.categories.str.replace(\"Books, Mags, Music & Video\", \"Books+Mags+ & MusicVideo\")\n",
    "b.loc[:, 'categories'] = b.categories.str.replace(\"Used, Vintage & Consignment\", \"Used+Vintage+ & Consignment\")\n",
    "b.loc[:, 'categories'] = b.categories.str.replace(\"Beer, Wine & Spirits\", \"Beer+Wine & Spirits\")\n",
    "b.loc[:, 'categories'] = b.categories.str.replace(\"Wills, Trusts, & Probates\", \"Wills+Trusts+&Probates\")"
   ]
  },
  {
   "cell_type": "markdown",
   "metadata": {},
   "source": [
    "One hot encoding is for single label categorical variables. For multiple labels Scikit-learn's MultiLabelBinarizer is the way to go. "
   ]
  },
  {
   "cell_type": "code",
   "execution_count": 30,
   "metadata": {},
   "outputs": [
    {
     "data": {
      "text/html": [
       "<div>\n",
       "<style scoped>\n",
       "    .dataframe tbody tr th:only-of-type {\n",
       "        vertical-align: middle;\n",
       "    }\n",
       "\n",
       "    .dataframe tbody tr th {\n",
       "        vertical-align: top;\n",
       "    }\n",
       "\n",
       "    .dataframe thead th {\n",
       "        text-align: right;\n",
       "    }\n",
       "</style>\n",
       "<table border=\"1\" class=\"dataframe\">\n",
       "  <thead>\n",
       "    <tr style=\"text-align: right;\">\n",
       "      <th></th>\n",
       "      <th>3D Printing</th>\n",
       "      <th>ATV Rentals/Tours</th>\n",
       "      <th>Acai Bowls</th>\n",
       "      <th>Accessories</th>\n",
       "      <th>Accountants</th>\n",
       "      <th>Acne Treatment</th>\n",
       "      <th>Active Life</th>\n",
       "      <th>Acupuncture</th>\n",
       "      <th>Addiction Medicine</th>\n",
       "      <th>Adoption Services</th>\n",
       "      <th>...</th>\n",
       "      <th>Wine Tasting Room</th>\n",
       "      <th>Wine Tours</th>\n",
       "      <th>Wineries</th>\n",
       "      <th>Women's Clothing</th>\n",
       "      <th>Workers Compensation Law</th>\n",
       "      <th>Wraps</th>\n",
       "      <th>Yelp Events</th>\n",
       "      <th>Yoga</th>\n",
       "      <th>Ziplining</th>\n",
       "      <th>Zoos</th>\n",
       "    </tr>\n",
       "  </thead>\n",
       "  <tbody>\n",
       "    <tr>\n",
       "      <th>43600</th>\n",
       "      <td>0</td>\n",
       "      <td>0</td>\n",
       "      <td>0</td>\n",
       "      <td>0</td>\n",
       "      <td>0</td>\n",
       "      <td>0</td>\n",
       "      <td>0</td>\n",
       "      <td>0</td>\n",
       "      <td>0</td>\n",
       "      <td>0</td>\n",
       "      <td>...</td>\n",
       "      <td>0</td>\n",
       "      <td>0</td>\n",
       "      <td>0</td>\n",
       "      <td>0</td>\n",
       "      <td>0</td>\n",
       "      <td>0</td>\n",
       "      <td>0</td>\n",
       "      <td>0</td>\n",
       "      <td>0</td>\n",
       "      <td>0</td>\n",
       "    </tr>\n",
       "    <tr>\n",
       "      <th>174266</th>\n",
       "      <td>0</td>\n",
       "      <td>0</td>\n",
       "      <td>0</td>\n",
       "      <td>0</td>\n",
       "      <td>0</td>\n",
       "      <td>0</td>\n",
       "      <td>0</td>\n",
       "      <td>0</td>\n",
       "      <td>0</td>\n",
       "      <td>0</td>\n",
       "      <td>...</td>\n",
       "      <td>0</td>\n",
       "      <td>0</td>\n",
       "      <td>0</td>\n",
       "      <td>0</td>\n",
       "      <td>0</td>\n",
       "      <td>0</td>\n",
       "      <td>0</td>\n",
       "      <td>0</td>\n",
       "      <td>0</td>\n",
       "      <td>0</td>\n",
       "    </tr>\n",
       "    <tr>\n",
       "      <th>42005</th>\n",
       "      <td>0</td>\n",
       "      <td>0</td>\n",
       "      <td>0</td>\n",
       "      <td>0</td>\n",
       "      <td>0</td>\n",
       "      <td>0</td>\n",
       "      <td>0</td>\n",
       "      <td>0</td>\n",
       "      <td>0</td>\n",
       "      <td>0</td>\n",
       "      <td>...</td>\n",
       "      <td>0</td>\n",
       "      <td>0</td>\n",
       "      <td>0</td>\n",
       "      <td>0</td>\n",
       "      <td>0</td>\n",
       "      <td>0</td>\n",
       "      <td>0</td>\n",
       "      <td>0</td>\n",
       "      <td>0</td>\n",
       "      <td>0</td>\n",
       "    </tr>\n",
       "    <tr>\n",
       "      <th>36644</th>\n",
       "      <td>0</td>\n",
       "      <td>0</td>\n",
       "      <td>0</td>\n",
       "      <td>0</td>\n",
       "      <td>0</td>\n",
       "      <td>0</td>\n",
       "      <td>0</td>\n",
       "      <td>0</td>\n",
       "      <td>0</td>\n",
       "      <td>0</td>\n",
       "      <td>...</td>\n",
       "      <td>0</td>\n",
       "      <td>0</td>\n",
       "      <td>0</td>\n",
       "      <td>0</td>\n",
       "      <td>0</td>\n",
       "      <td>0</td>\n",
       "      <td>0</td>\n",
       "      <td>0</td>\n",
       "      <td>0</td>\n",
       "      <td>0</td>\n",
       "    </tr>\n",
       "    <tr>\n",
       "      <th>95441</th>\n",
       "      <td>0</td>\n",
       "      <td>0</td>\n",
       "      <td>0</td>\n",
       "      <td>0</td>\n",
       "      <td>0</td>\n",
       "      <td>0</td>\n",
       "      <td>0</td>\n",
       "      <td>0</td>\n",
       "      <td>0</td>\n",
       "      <td>0</td>\n",
       "      <td>...</td>\n",
       "      <td>0</td>\n",
       "      <td>0</td>\n",
       "      <td>0</td>\n",
       "      <td>0</td>\n",
       "      <td>0</td>\n",
       "      <td>0</td>\n",
       "      <td>0</td>\n",
       "      <td>0</td>\n",
       "      <td>0</td>\n",
       "      <td>0</td>\n",
       "    </tr>\n",
       "    <tr>\n",
       "      <th>34163</th>\n",
       "      <td>0</td>\n",
       "      <td>0</td>\n",
       "      <td>0</td>\n",
       "      <td>0</td>\n",
       "      <td>0</td>\n",
       "      <td>0</td>\n",
       "      <td>0</td>\n",
       "      <td>1</td>\n",
       "      <td>0</td>\n",
       "      <td>0</td>\n",
       "      <td>...</td>\n",
       "      <td>0</td>\n",
       "      <td>0</td>\n",
       "      <td>0</td>\n",
       "      <td>0</td>\n",
       "      <td>0</td>\n",
       "      <td>0</td>\n",
       "      <td>0</td>\n",
       "      <td>0</td>\n",
       "      <td>0</td>\n",
       "      <td>0</td>\n",
       "    </tr>\n",
       "    <tr>\n",
       "      <th>126241</th>\n",
       "      <td>0</td>\n",
       "      <td>0</td>\n",
       "      <td>0</td>\n",
       "      <td>0</td>\n",
       "      <td>0</td>\n",
       "      <td>0</td>\n",
       "      <td>0</td>\n",
       "      <td>0</td>\n",
       "      <td>0</td>\n",
       "      <td>0</td>\n",
       "      <td>...</td>\n",
       "      <td>0</td>\n",
       "      <td>0</td>\n",
       "      <td>0</td>\n",
       "      <td>0</td>\n",
       "      <td>0</td>\n",
       "      <td>0</td>\n",
       "      <td>0</td>\n",
       "      <td>0</td>\n",
       "      <td>0</td>\n",
       "      <td>0</td>\n",
       "    </tr>\n",
       "    <tr>\n",
       "      <th>175898</th>\n",
       "      <td>0</td>\n",
       "      <td>0</td>\n",
       "      <td>0</td>\n",
       "      <td>0</td>\n",
       "      <td>0</td>\n",
       "      <td>0</td>\n",
       "      <td>0</td>\n",
       "      <td>0</td>\n",
       "      <td>0</td>\n",
       "      <td>0</td>\n",
       "      <td>...</td>\n",
       "      <td>0</td>\n",
       "      <td>0</td>\n",
       "      <td>0</td>\n",
       "      <td>0</td>\n",
       "      <td>0</td>\n",
       "      <td>0</td>\n",
       "      <td>0</td>\n",
       "      <td>0</td>\n",
       "      <td>0</td>\n",
       "      <td>0</td>\n",
       "    </tr>\n",
       "    <tr>\n",
       "      <th>65401</th>\n",
       "      <td>0</td>\n",
       "      <td>0</td>\n",
       "      <td>0</td>\n",
       "      <td>0</td>\n",
       "      <td>0</td>\n",
       "      <td>0</td>\n",
       "      <td>0</td>\n",
       "      <td>0</td>\n",
       "      <td>0</td>\n",
       "      <td>0</td>\n",
       "      <td>...</td>\n",
       "      <td>0</td>\n",
       "      <td>0</td>\n",
       "      <td>0</td>\n",
       "      <td>0</td>\n",
       "      <td>0</td>\n",
       "      <td>0</td>\n",
       "      <td>0</td>\n",
       "      <td>0</td>\n",
       "      <td>0</td>\n",
       "      <td>0</td>\n",
       "    </tr>\n",
       "    <tr>\n",
       "      <th>181109</th>\n",
       "      <td>0</td>\n",
       "      <td>0</td>\n",
       "      <td>0</td>\n",
       "      <td>0</td>\n",
       "      <td>0</td>\n",
       "      <td>0</td>\n",
       "      <td>0</td>\n",
       "      <td>0</td>\n",
       "      <td>0</td>\n",
       "      <td>0</td>\n",
       "      <td>...</td>\n",
       "      <td>0</td>\n",
       "      <td>0</td>\n",
       "      <td>0</td>\n",
       "      <td>0</td>\n",
       "      <td>0</td>\n",
       "      <td>0</td>\n",
       "      <td>0</td>\n",
       "      <td>0</td>\n",
       "      <td>0</td>\n",
       "      <td>0</td>\n",
       "    </tr>\n",
       "  </tbody>\n",
       "</table>\n",
       "<p>10 rows × 1299 columns</p>\n",
       "</div>"
      ],
      "text/plain": [
       "        3D Printing  ATV Rentals/Tours  Acai Bowls  Accessories  Accountants  \\\n",
       "43600             0                  0           0            0            0   \n",
       "174266            0                  0           0            0            0   \n",
       "42005             0                  0           0            0            0   \n",
       "36644             0                  0           0            0            0   \n",
       "95441             0                  0           0            0            0   \n",
       "34163             0                  0           0            0            0   \n",
       "126241            0                  0           0            0            0   \n",
       "175898            0                  0           0            0            0   \n",
       "65401             0                  0           0            0            0   \n",
       "181109            0                  0           0            0            0   \n",
       "\n",
       "        Acne Treatment  Active Life  Acupuncture  Addiction Medicine  \\\n",
       "43600                0            0            0                   0   \n",
       "174266               0            0            0                   0   \n",
       "42005                0            0            0                   0   \n",
       "36644                0            0            0                   0   \n",
       "95441                0            0            0                   0   \n",
       "34163                0            0            1                   0   \n",
       "126241               0            0            0                   0   \n",
       "175898               0            0            0                   0   \n",
       "65401                0            0            0                   0   \n",
       "181109               0            0            0                   0   \n",
       "\n",
       "        Adoption Services  ...   Wine Tasting Room  Wine Tours  Wineries  \\\n",
       "43600                   0  ...                   0           0         0   \n",
       "174266                  0  ...                   0           0         0   \n",
       "42005                   0  ...                   0           0         0   \n",
       "36644                   0  ...                   0           0         0   \n",
       "95441                   0  ...                   0           0         0   \n",
       "34163                   0  ...                   0           0         0   \n",
       "126241                  0  ...                   0           0         0   \n",
       "175898                  0  ...                   0           0         0   \n",
       "65401                   0  ...                   0           0         0   \n",
       "181109                  0  ...                   0           0         0   \n",
       "\n",
       "        Women's Clothing  Workers Compensation Law  Wraps  Yelp Events  Yoga  \\\n",
       "43600                  0                         0      0            0     0   \n",
       "174266                 0                         0      0            0     0   \n",
       "42005                  0                         0      0            0     0   \n",
       "36644                  0                         0      0            0     0   \n",
       "95441                  0                         0      0            0     0   \n",
       "34163                  0                         0      0            0     0   \n",
       "126241                 0                         0      0            0     0   \n",
       "175898                 0                         0      0            0     0   \n",
       "65401                  0                         0      0            0     0   \n",
       "181109                 0                         0      0            0     0   \n",
       "\n",
       "        Ziplining  Zoos  \n",
       "43600           0     0  \n",
       "174266          0     0  \n",
       "42005           0     0  \n",
       "36644           0     0  \n",
       "95441           0     0  \n",
       "34163           0     0  \n",
       "126241          0     0  \n",
       "175898          0     0  \n",
       "65401           0     0  \n",
       "181109          0     0  \n",
       "\n",
       "[10 rows x 1299 columns]"
      ]
     },
     "execution_count": 30,
     "metadata": {},
     "output_type": "execute_result"
    }
   ],
   "source": [
    "# split by comma\n",
    "categories_series = b.categories.apply(lambda x: x.split(\",\"))\n",
    "# a  lambda function to convert the following data structure\n",
    "# [list(['Tours', ' Breweries', ' Pizza', ' Restaurants', ' Food', ' Hotels & Travel'])\n",
    "# to \n",
    "# ['Tours', ' Breweries', ' Pizza', ' Restaurants', ' Food', ' Hotels & Travel']\n",
    "take_out_list = lambda x: list(x)\n",
    "# get 2D list\n",
    "categories_2D_list = take_out_list(categories_series)\n",
    "# remove leading and trailing white spaces\n",
    "for alist in categories_2D_list:\n",
    "    alist[:] = [category.strip() for category in alist]\n",
    "#print(categories_2D_list[:3])\n",
    "from sklearn.preprocessing import MultiLabelBinarizer\n",
    "mlb = MultiLabelBinarizer()\n",
    "categories_binarized = mlb.fit_transform(categories_2D_list)\n",
    "#print(categories_binarized.shape)\n",
    "#print(mlb.classes_.shape)\n",
    "# mlb.classes_ returns the unique categories found by the binarizer\n",
    "categories_binarized_df = pd.DataFrame(categories_binarized, columns=list(mlb.classes_))\n",
    "categories_binarized_df.sample(10)"
   ]
  },
  {
   "cell_type": "code",
   "execution_count": 31,
   "metadata": {},
   "outputs": [
    {
     "data": {
      "text/plain": [
       "array(['3D Printing', 'ATV Rentals/Tours', 'Acai Bowls', ..., 'Yoga',\n",
       "       'Ziplining', 'Zoos'], dtype=object)"
      ]
     },
     "execution_count": 31,
     "metadata": {},
     "output_type": "execute_result"
    }
   ],
   "source": [
    "mlb.classes_"
   ]
  },
  {
   "cell_type": "markdown",
   "metadata": {},
   "source": [
    "#### Top 20 Business Categories"
   ]
  },
  {
   "cell_type": "code",
   "execution_count": 32,
   "metadata": {},
   "outputs": [
    {
     "data": {
      "image/png": "[encoded data removed]",
      "text/plain": [
       "<Figure size 792x576 with 1 Axes>"
      ]
     },
     "metadata": {},
     "output_type": "display_data"
    }
   ],
   "source": [
    "top_20_categories = categories_binarized_df.sum().sort_values(ascending=False)[:20]\n",
    "sns.set(rc={'figure.figsize':(11,8)})\n",
    "ax = sns.barplot(y=top_20_categories.index, x=top_20_categories.values, orient='h')\n",
    "sns.despine()"
   ]
  },
  {
   "cell_type": "markdown",
   "metadata": {},
   "source": [
    "**Are these categories combined in groups of 3 or more?**"
   ]
  },
  {
   "cell_type": "code",
   "execution_count": 33,
   "metadata": {},
   "outputs": [
    {
     "name": "stdout",
     "output_type": "stream",
     "text": [
      "26718\n",
      "14.21 %\n"
     ]
    }
   ],
   "source": [
    "# find the number of total busineses\n",
    "total_business = categories_binarized_df.shape[0]\n",
    "\n",
    "combinations_of_top20 = categories_binarized_df[top_20_categories.index].apply(lambda x: list(x.index[np.where(x != 0)]), axis=1)\n",
    "\n",
    "value_counts_top20 = combinations_of_top20.value_counts()\n",
    "\n",
    "# convert index to string to make it hashable\n",
    "import json\n",
    "# dumps converts list to string\n",
    "value_counts_top20.index = value_counts_top20.index.map(json.dumps)\n",
    "count_g_2 = 0\n",
    "for c in value_counts_top20.index:\n",
    "    # count combinations of two or more categories\n",
    "    # loads converts back to list\n",
    "    if(len(json.loads(c)) > 2):\n",
    "        count_g_2 += value_counts_top20.loc[c]\n",
    "print(count_g_2)\n",
    "print(np.round((count_g_2/total_business) * 100, 2), \"%\")"
   ]
  },
  {
   "cell_type": "markdown",
   "metadata": {},
   "source": [
    "Only 14% of all businesses have combined categories from the top-20 categories"
   ]
  },
  {
   "cell_type": "code",
   "execution_count": 34,
   "metadata": {},
   "outputs": [
    {
     "data": {
      "text/plain": [
       "188045"
      ]
     },
     "execution_count": 34,
     "metadata": {},
     "output_type": "execute_result"
    }
   ],
   "source": [
    "total_business"
   ]
  },
  {
   "cell_type": "markdown",
   "metadata": {},
   "source": [
    "#### Closure rate in the top categories"
   ]
  },
  {
   "cell_type": "code",
   "execution_count": 35,
   "metadata": {},
   "outputs": [
    {
     "data": {
      "text/plain": [
       "Index(['Restaurants', 'Shopping', 'Food', 'Beauty & Spas', 'Home Services',\n",
       "       'Health & Medical', 'Local Services', 'Automotive', 'Nightlife', 'Bars',\n",
       "       'Event Planning & Services', 'Active Life', 'Fashion', 'Coffee & Tea',\n",
       "       'Sandwiches', 'Hair Salons', 'Fast Food', 'American (Traditional)',\n",
       "       'Pizza', 'Home & Garden'],\n",
       "      dtype='object')"
      ]
     },
     "execution_count": 35,
     "metadata": {},
     "output_type": "execute_result"
    }
   ],
   "source": [
    "top_20_categories.index"
   ]
  },
  {
   "cell_type": "code",
   "execution_count": 36,
   "metadata": {},
   "outputs": [
    {
     "data": {
      "image/png": "[encoded data removed]",
      "text/plain": [
       "<Figure size 576x576 with 1 Axes>"
      ]
     },
     "metadata": {},
     "output_type": "display_data"
    }
   ],
   "source": [
    "# concatenate is_open info to the binaried categories data\n",
    "open_close_df = pd.concat([categories_binarized_df[top_20_categories.index], b.is_open], axis=1)\n",
    "# find all open businesses\n",
    "open_df = open_close_df[open_close_df.is_open ==1]\n",
    "# find all closed businesses\n",
    "close_df = open_close_df[open_close_df.is_open ==0]\n",
    "# sum across columns to find number of open business in each column(category)\n",
    "open_close_count = (pd.concat([open_df.sum(), close_df.sum()], axis=1))\n",
    "# change the default column names\n",
    "open_close_count.columns = [\"Open\", \"Closed\"]\n",
    "#print(open_close_count)\n",
    "# divide the counts by the total businesses in each category\n",
    "open_close_count_normalized = open_close_count.div(open_df.sum() + close_df.sum(), axis=0).sort_values(by=\"Closed\", ascending=False)[:-2]\n",
    "sns.set(rc={'figure.figsize':(8,8)})\n",
    "ax = sns.pointplot(x=open_close_count_normalized.Closed, y=open_close_count_normalized.index, orient='h')\n",
    "sns.despine()"
   ]
  },
  {
   "cell_type": "markdown",
   "metadata": {},
   "source": [
    "Those businesses that are at the end of the top 20 list are on the top on this graph and vice versa. Fast-food and Coffee/Tea have the highest closure rate though they are limited in number compared to the other businesses. Shopping centers and Health and Medical businesses are in large quantities but they are least likely to be closed."
   ]
  },
  {
   "cell_type": "markdown",
   "metadata": {},
   "source": [
    "#### Number of Reviews: Restaurants vs Shopping"
   ]
  },
  {
   "cell_type": "code",
   "execution_count": 37,
   "metadata": {},
   "outputs": [],
   "source": [
    "categories_binarized_df[\"business_id\"] = b.business_id.values\n",
    "categories_binarized_df[\"is_open\"] = b.is_open.values\n",
    "\n",
    "restaurants_df =  categories_binarized_df[categories_binarized_df.Restaurants == 1]\n",
    "shopping_df = categories_binarized_df[categories_binarized_df.Shopping == 1]\n",
    "\n",
    "total_reviews = 5996996\n",
    "\n",
    "# # the code below takes time. The results are saved to file and loaded in the next cell\n",
    "\n",
    "# review_reader = pd.read_json(\"../../../../../yelp-dataset/yelp_academic_dataset_review.json\", lines=True, chunksize=csize)\n",
    "# num_restaurant_reviews = 0\n",
    "# num_shopping_reviews = 0\n",
    "# total_reviews = 0 \n",
    "# for i, r in enumerate(review_reader):\n",
    "#     total_reviews += r.shape[0]\n",
    "#     print(\"working on chunk \",i,\" shape =\", r.shape[0])\n",
    "#     # count number of restaurant reviews found in chunk r\n",
    "#     num_restaurant_reviews += pd.merge(restaurants_df, r, on=[\"business_id\"]).shape[0]\n",
    "#     # count number of shopping reviews found in chunk r\n",
    "#     num_shopping_reviews += pd.merge(shopping_df, r, on=[\"business_id\"]).shape[0]\n",
    "\n",
    "# pickle.dump(num_restaurant_reviews, open(\"../../../../../yelp-dataset/num_restaurant_reviews.sav\", 'wb'))\n",
    "# pickle.dump(num_shopping_reviews,open(\"../../../../../yelp-dataset/num_shopping_reviews.sav\", 'wb'))"
   ]
  },
  {
   "cell_type": "code",
   "execution_count": 38,
   "metadata": {},
   "outputs": [
    {
     "name": "stdout",
     "output_type": "stream",
     "text": [
      "Percent of Restaurant Businesses: 0.30\n",
      "Percent of Shopping Businesses: 0.16\n",
      "\n",
      "Percent of Restaurant Reviews: 0.30\n",
      "Percent of Shopping Reviews: 0.16\n"
     ]
    }
   ],
   "source": [
    "num_restaurant_reviews = pickle.load(open(\"../../../../../yelp-dataset/num_restaurant_reviews.sav\", 'rb'))\n",
    "num_shopping_reviews = pickle.load(open(\"../../../../../yelp-dataset/num_shopping_reviews.sav\", 'rb'))\n",
    "\n",
    "print(\"Percent of Restaurant Businesses: {:.2f}\".format(restaurants_df.shape[0] / total_business))\n",
    "print(\"Percent of Shopping Businesses: {:.2f}\".format(shopping_df.shape[0] / total_business))\n",
    "print()\n",
    "print(\"Percent of Restaurant Reviews: {:.2f}\".format(num_restaurant_reviews / total_reviews))\n",
    "print(\"Percent of Shopping Reviews: {:.2f}\".format(num_shopping_reviews / total_reviews))"
   ]
  },
  {
   "cell_type": "markdown",
   "metadata": {},
   "source": [
    "There are as much restaurant reviews as the number of restaurant businesses. The same for shopping businesses and reviews. I think Yelp people used stratified sampling technique to include reviews according to the proportion of a business type."
   ]
  },
  {
   "cell_type": "markdown",
   "metadata": {},
   "source": [
    "### Reviews by Year"
   ]
  },
  {
   "cell_type": "code",
   "execution_count": 39,
   "metadata": {},
   "outputs": [],
   "source": [
    "# The following code takes 15 minutes. Saved data is loaded in the next cell\n",
    "\n",
    "\n",
    "# review_reader = pd.read_json(\"../../../../../yelp-dataset/yelp_academic_dataset_review.json\", lines=True, chunksize=csize)\n",
    "# total_reviews = 0 \n",
    "# restaurant_open_review_years = []\n",
    "# restaurant_closed_review_years = []\n",
    "# shopping_open_review_years = []\n",
    "# shopping_closed_review_years = []\n",
    "\n",
    "# for i, r in enumerate(review_reader):\n",
    "#     total_reviews += r.shape[0]\n",
    "#     print(\"working on chunk \",i,\" shape =\", r.shape[0])\n",
    "    \n",
    "#     restaurant_reviewsR = pd.merge(restaurants_df, r, on=[\"business_id\"])\n",
    "    \n",
    "#     restaurant_reviews_closed = restaurant_reviewsR[restaurant_reviewsR.is_open == 0]\n",
    "#     restaurant_reviews_open = restaurant_reviewsR[restaurant_reviewsR.is_open == 1]\n",
    "    \n",
    "    \n",
    "#     restaurant_closed_review_years.append(pd.to_datetime(restaurant_reviews_closed.date.dt.year).values)\n",
    "#     restaurant_open_review_years.append(pd.to_datetime(restaurant_reviews_open.date.dt.year).values)\n",
    " \n",
    "#     shopping_restaurantR= pd.merge(shopping_df, r, on=[\"business_id\"])\n",
    "    \n",
    "#     shopping_reviews_closed = shopping_restaurantR[shopping_restaurantR.is_open == 0]\n",
    "#     shopping_reviews_open = shopping_restaurantR[shopping_restaurantR.is_open == 1]\n",
    "    \n",
    "#     shopping_closed_review_years.append(pd.to_datetime(shopping_reviews_closed.date.dt.year).values)\n",
    "#     shopping_open_review_years.append(pd.to_datetime(shopping_reviews_open.date.dt.year).values)\n",
    "    \n",
    "# # save the lists to file\n",
    "# pickle.dump(restaurant_open_review_years, open(\"../../../../../yelp-dataset/restaurant_open_review_years.sav\", 'wb'))\n",
    "# pickle.dump(restaurant_closed_review_years, open(\"../../../../../yelp-dataset/restaurant_closed_review_years.sav\", 'wb'))\n",
    "# pickle.dump(shopping_open_review_years, open(\"../../../../../yelp-dataset/shopping_open_review_years.sav\",'wb'))\n",
    "# pickle.dump(shopping_closed_review_years, open(\"../../../../../yelp-dataset/shopping_closed_review_years.sav\", 'wb'))"
   ]
  },
  {
   "cell_type": "code",
   "execution_count": 40,
   "metadata": {},
   "outputs": [],
   "source": [
    "# load lists from file\n",
    "restaurant_open_review_years = pickle.load(open(\"../../../../../yelp-dataset/restaurant_open_review_years.sav\", 'rb'))\n",
    "restaurant_closed_review_years = pickle.load(open(\"../../../../../yelp-dataset/restaurant_closed_review_years.sav\", 'rb'))\n",
    "shopping_open_review_years = pickle.load(open(\"../../../../../yelp-dataset/shopping_open_review_years.sav\", 'rb'))\n",
    "shopping_closed_review_years = pickle.load(open(\"../../../../../yelp-dataset/shopping_closed_review_years.sav\", 'rb'))\n",
    "\n",
    "restaurant_open_review_years = np.concatenate(restaurant_open_review_years).ravel()\n",
    "restaurant_closed_review_years = np.concatenate(restaurant_closed_review_years).ravel()\n",
    "shopping_open_review_years = np.concatenate(shopping_open_review_years).ravel()\n",
    "shopping_closed_review_years = np.concatenate(shopping_closed_review_years).ravel()"
   ]
  },
  {
   "cell_type": "code",
   "execution_count": 41,
   "metadata": {},
   "outputs": [
    {
     "data": {
      "image/png": "[encoded data removed]",
      "text/plain": [
       "<Figure size 1152x432 with 2 Axes>"
      ]
     },
     "metadata": {},
     "output_type": "display_data"
    }
   ],
   "source": [
    "fig, (ax1,ax2) = plt.subplots(1,2,figsize=(16,6), sharey=True)\n",
    "\n",
    "sns.set(rc={'figure.figsize':(4,4)})\n",
    "sns.distplot(restaurant_open_review_years.astype(int), kde=False, label=\"open\", ax=ax1)\n",
    "sns.distplot(restaurant_closed_review_years.astype(int), kde=False, label = \"closed\", ax=ax1)\n",
    "ax1.legend()\n",
    "ax1.set_ylabel(\"Count\")\n",
    "ax2.set_xlabel(\"Year\")\n",
    "ax1.set_title(\"Restaurants Review\")\n",
    "\n",
    "sns.distplot(shopping_open_review_years.astype(int), kde=False, label=\"open\", ax=ax2)\n",
    "sns.distplot(shopping_closed_review_years.astype(int), kde=False, label = \"closed\", ax=ax2)\n",
    "ax2.set_title(\"Shopping Review\")\n",
    "ax2.set_xlabel(\"Year\")\n",
    "ax1.set_ylabel(\"Count\")\n",
    "\n",
    "ax2.legend()\n",
    "plt.show()"
   ]
  },
  {
   "cell_type": "markdown",
   "metadata": {},
   "source": [
    "The information on when a restaurant is closed is not provided by Yelp. We can only approximate the rate of closure based on the distrubiton of reviews. The graph shows that restaurants started recieving reviews on Yelp since 2004 and the reviews continued to increase. 2017 is the peak year for open restaurants. Many restaurants that were reviewed in 2014 are closed. We can not be sure whether they were closed in the same year or later."
   ]
  },
  {
   "cell_type": "markdown",
   "metadata": {},
   "source": [
    "Many shopping businesses that were reviewed in 2014-15 are closed by now."
   ]
  },
  {
   "cell_type": "markdown",
   "metadata": {},
   "source": [
    "### Approxmating Restaurants Age"
   ]
  },
  {
   "cell_type": "code",
   "execution_count": 42,
   "metadata": {},
   "outputs": [],
   "source": [
    "#The following code takes 15 minutes. Saved data is loaded in the next cell\n",
    "\n",
    "# csize = 1e6\n",
    "# review_reader = pd.read_json(\"../../../../../yelp-dataset/yelp_academic_dataset_review.json\", lines=True, chunksize=csize)\n",
    "# total_reviews = 0 \n",
    "# #restaurant_open_last_review_year = []\n",
    "# #hopping_open_last_review_year = \n",
    "# #hopping_closed_last_review_year = []\n",
    "# for i, r in enumerate(review_reader):\n",
    "#     with warnings.catch_warnings():\n",
    "#         warnings.simplefilter(\"ignore\")\n",
    "#         print(\"working on chunk \",i,\" shape =\", r.shape[0])\n",
    "\n",
    "#         restaurant_reviewsR = pd.merge(restaurants_df, r, on=[\"business_id\"])\n",
    "\n",
    "#         restaurant_reviewsR[\"review_year\"] = pd.to_datetime(restaurant_reviewsR.date.dt.year)\n",
    "\n",
    "#         if(i == 0):\n",
    "#             restaurants_open_year = restaurant_reviewsR[[\"business_id\", \"review_year\"]].groupby(\"business_id\")[\"review_year\"].min()\n",
    "#             restaurants_closed_year = restaurant_reviewsR[[\"business_id\", \"review_year\"]].groupby(\"business_id\")[\"review_year\"].max()\n",
    "\n",
    "#         else:\n",
    "#             restaurants_open_year = pd.concat([restaurants_open_year, restaurant_reviewsR[[\"business_id\", \"review_year\"]].groupby(\"business_id\")[\"review_year\"].min()])\n",
    "#             restaurants_closed_year = pd.concat([restaurants_closed_year, restaurant_reviewsR[[\"business_id\", \"review_year\"]].groupby(\"business_id\")[\"review_year\"].max()])\n",
    "\n",
    "# # save the dataframes to file\n",
    "# pickle.dump(restaurants_open_year, open(\"../../../../../yelp-dataset/restaurants_open_year.sav\", 'wb'))\n",
    "# pickle.dump(restaurants_closed_year, open(\"../../../../../yelp-dataset/restaurants_closed_year.sav\", 'wb'))"
   ]
  },
  {
   "cell_type": "code",
   "execution_count": 43,
   "metadata": {},
   "outputs": [
    {
     "data": {
      "text/html": [
       "<div>\n",
       "<style scoped>\n",
       "    .dataframe tbody tr th:only-of-type {\n",
       "        vertical-align: middle;\n",
       "    }\n",
       "\n",
       "    .dataframe tbody tr th {\n",
       "        vertical-align: top;\n",
       "    }\n",
       "\n",
       "    .dataframe thead th {\n",
       "        text-align: right;\n",
       "    }\n",
       "</style>\n",
       "<table border=\"1\" class=\"dataframe\">\n",
       "  <thead>\n",
       "    <tr style=\"text-align: right;\">\n",
       "      <th></th>\n",
       "      <th>business_id</th>\n",
       "      <th>latitude</th>\n",
       "      <th>longitude</th>\n",
       "      <th>stars</th>\n",
       "      <th>review_count</th>\n",
       "      <th>is_open</th>\n",
       "      <th>earliest_review_year</th>\n",
       "      <th>most_recent_review_year</th>\n",
       "    </tr>\n",
       "  </thead>\n",
       "  <tbody>\n",
       "    <tr>\n",
       "      <th>0</th>\n",
       "      <td>Apn5Q_b6Nz61Tq4XzPdf9A</td>\n",
       "      <td>51.091813</td>\n",
       "      <td>-114.031675</td>\n",
       "      <td>4.0</td>\n",
       "      <td>24</td>\n",
       "      <td>1</td>\n",
       "      <td>1970-01-01 00:00:00.000002013</td>\n",
       "      <td>1970-01-01 00:00:00.000002018</td>\n",
       "    </tr>\n",
       "    <tr>\n",
       "      <th>1</th>\n",
       "      <td>AjEbIBw6ZFfln7ePHha9PA</td>\n",
       "      <td>35.960734</td>\n",
       "      <td>-114.939821</td>\n",
       "      <td>4.5</td>\n",
       "      <td>3</td>\n",
       "      <td>0</td>\n",
       "      <td>1970-01-01 00:00:00.000002017</td>\n",
       "      <td>1970-01-01 00:00:00.000002017</td>\n",
       "    </tr>\n",
       "    <tr>\n",
       "      <th>2</th>\n",
       "      <td>O8S5hYJ1SMc8fA4QBtVujA</td>\n",
       "      <td>45.540503</td>\n",
       "      <td>-73.599300</td>\n",
       "      <td>4.0</td>\n",
       "      <td>5</td>\n",
       "      <td>0</td>\n",
       "      <td>1970-01-01 00:00:00.000002014</td>\n",
       "      <td>1970-01-01 00:00:00.000002016</td>\n",
       "    </tr>\n",
       "    <tr>\n",
       "      <th>3</th>\n",
       "      <td>6OuOZAok8ikONMS_T3EzXg</td>\n",
       "      <td>43.712946</td>\n",
       "      <td>-79.632763</td>\n",
       "      <td>2.0</td>\n",
       "      <td>7</td>\n",
       "      <td>1</td>\n",
       "      <td>1970-01-01 00:00:00.000002012</td>\n",
       "      <td>1970-01-01 00:00:00.000002014</td>\n",
       "    </tr>\n",
       "    <tr>\n",
       "      <th>4</th>\n",
       "      <td>8-NRKkPY1UiFXW20WXKiXg</td>\n",
       "      <td>33.448106</td>\n",
       "      <td>-112.341302</td>\n",
       "      <td>2.5</td>\n",
       "      <td>40</td>\n",
       "      <td>1</td>\n",
       "      <td>1970-01-01 00:00:00.000002008</td>\n",
       "      <td>1970-01-01 00:00:00.000002018</td>\n",
       "    </tr>\n",
       "  </tbody>\n",
       "</table>\n",
       "</div>"
      ],
      "text/plain": [
       "              business_id   latitude   longitude  stars  review_count  \\\n",
       "0  Apn5Q_b6Nz61Tq4XzPdf9A  51.091813 -114.031675    4.0            24   \n",
       "1  AjEbIBw6ZFfln7ePHha9PA  35.960734 -114.939821    4.5             3   \n",
       "2  O8S5hYJ1SMc8fA4QBtVujA  45.540503  -73.599300    4.0             5   \n",
       "3  6OuOZAok8ikONMS_T3EzXg  43.712946  -79.632763    2.0             7   \n",
       "4  8-NRKkPY1UiFXW20WXKiXg  33.448106 -112.341302    2.5            40   \n",
       "\n",
       "   is_open          earliest_review_year       most_recent_review_year  \n",
       "0        1 1970-01-01 00:00:00.000002013 1970-01-01 00:00:00.000002018  \n",
       "1        0 1970-01-01 00:00:00.000002017 1970-01-01 00:00:00.000002017  \n",
       "2        0 1970-01-01 00:00:00.000002014 1970-01-01 00:00:00.000002016  \n",
       "3        1 1970-01-01 00:00:00.000002012 1970-01-01 00:00:00.000002014  \n",
       "4        1 1970-01-01 00:00:00.000002008 1970-01-01 00:00:00.000002018  "
      ]
     },
     "execution_count": 43,
     "metadata": {},
     "output_type": "execute_result"
    }
   ],
   "source": [
    "# open and close in the file names refer to earliest review year and most recent review years\n",
    "# it is a naming mistake made when dumping the objects\n",
    "earliest_review_year_all = pickle.load(open(\"../../../../../yelp-dataset/restaurants_open_year.sav\", 'rb'))\n",
    "most_recent_review_year_all = pickle.load(open(\"../../../../../yelp-dataset/restaurants_closed_year.sav\", 'rb'))\n",
    "\n",
    "earliest_review_year = earliest_review_year_all.groupby(\"business_id\").min()\n",
    "most_recent_review_year = most_recent_review_year_all.groupby(\"business_id\").max()\n",
    "\n",
    "restaurants_dates = pd.concat([earliest_review_year, most_recent_review_year], axis=1)\n",
    "restaurants_dates.columns = [\"earliest_review_year\", \"most_recent_review_year\"]\n",
    "# filter required attributes\n",
    "restaurants_only = pd.merge(b[[\"business_id\", \"latitude\", \"longitude\", \"stars\",\"review_count\", \"is_open\"]], \n",
    "                            restaurants_dates, on=\"business_id\")\n",
    "restaurants_only.head()"
   ]
  },
  {
   "cell_type": "code",
   "execution_count": 44,
   "metadata": {},
   "outputs": [
    {
     "data": {
      "image/png": "[encoded data removed]",
      "text/plain": [
       "<Figure size 864x576 with 2 Axes>"
      ]
     },
     "metadata": {},
     "output_type": "display_data"
    }
   ],
   "source": [
    "fig, (ax1,ax2) = plt.subplots(2,1,figsize=(12,8), sharex=True)\n",
    "fig.subplots_adjust(hspace = 0.4, wspace = 0.4)\n",
    "\n",
    "sns.set(rc={'figure.figsize':(4,4)})\n",
    "\n",
    "open_earliest_years = restaurants_only[restaurants_only.is_open == True].earliest_review_year.values.astype(int)\n",
    "open_most_recent_years = restaurants_only[restaurants_only.is_open == True].most_recent_review_year.values.astype(int)\n",
    "closed_earliest_years = restaurants_only[restaurants_only.is_open == False].earliest_review_year.values.astype(int)\n",
    "closed_most_recent_years = restaurants_only[restaurants_only.is_open == False].most_recent_review_year.values.astype(int)\n",
    "\n",
    "\n",
    "sns.distplot(open_earliest_years, kde=False, label=\"newly opened\", ax=ax1)\n",
    "sns.distplot(open_most_recent_years, kde=False, label = \"most recent\", ax=ax1)\n",
    "\n",
    "sns.distplot(closed_earliest_years, kde=False, label=\"newly opened\", ax=ax2)\n",
    "sns.distplot(closed_most_recent_years, kde=False, label = \"out of business\", ax=ax2)\n",
    "\n",
    "ax1.set_title(\"Open Restaurants\")\n",
    "ax2.set_title(\"Closed Restaurants\")\n",
    "\n",
    "ax1.legend(loc=\"upper left\")\n",
    "ax2.legend(loc=\"upper left\")\n",
    "ax1.set_ylabel(\"Count\")\n",
    "ax2.set_ylabel(\"Count\")\n",
    "\n",
    "ax2.set_xlabel(\"Year\")\n",
    "plt.suptitle(\"Review Year\")\n",
    "sns.despine()"
   ]
  },
  {
   "cell_type": "markdown",
   "metadata": {},
   "source": [
    "We are approximating the earliest year as the opening year of a restaurant. For currently closed restaurants, the most recent year is approximated as the out of business year.\n",
    "\n",
    "Looking at the upper graph; almost all currently open restaurants were reviewed within the last 2 years. The distriubtion of earliest review year is left skewed. Since 2010 similar number of restaurants were opened\n",
    "\n",
    "Looking at the bottom graph; number of newly opened restaurants is normally distributed for closed restaurants. Many restaurants that were opened in 2010 are closed by now. Restaurants that are recently opened are not closed by now. This indicates that new restaurants are not very likely to be closed and it takes some years. The difference betwen number new restaurants(red) and closed restaurants(blue) kept on increasing until 2013 and then it decreases.\n",
    "\n",
    "They are many contributing factors that are outside the scope of this analysis."
   ]
  },
  {
   "cell_type": "code",
   "execution_count": 45,
   "metadata": {},
   "outputs": [
    {
     "data": {
      "text/plain": [
       "57173"
      ]
     },
     "execution_count": 45,
     "metadata": {},
     "output_type": "execute_result"
    }
   ],
   "source": [
    "len(set(restaurants_only.business_id))"
   ]
  },
  {
   "cell_type": "markdown",
   "metadata": {},
   "source": [
    "#### Create Age Feature"
   ]
  },
  {
   "cell_type": "code",
   "execution_count": 46,
   "metadata": {},
   "outputs": [
    {
     "data": {
      "text/plain": [
       "count    57173.000000\n",
       "mean         5.993266\n",
       "std          3.145764\n",
       "min          0.000000\n",
       "25%          3.000000\n",
       "50%          6.000000\n",
       "75%          8.000000\n",
       "max         14.000000\n",
       "Name: age, dtype: float64"
      ]
     },
     "execution_count": 46,
     "metadata": {},
     "output_type": "execute_result"
    }
   ],
   "source": [
    "restaurants_only[\"age\"] = 2018 - restaurants_only.earliest_review_year.values.astype(int)\n",
    "restaurants_only = restaurants_only[['business_id', 'latitude', 'longitude', 'stars', 'review_count','age', 'is_open']]\n",
    "restaurants_only.age.describe()"
   ]
  },
  {
   "cell_type": "markdown",
   "metadata": {},
   "source": [
    "#### Class Imbalance"
   ]
  },
  {
   "cell_type": "code",
   "execution_count": 47,
   "metadata": {},
   "outputs": [
    {
     "data": {
      "image/png": "[encoded data removed]",
      "text/plain": [
       "<Figure size 576x432 with 1 Axes>"
      ]
     },
     "metadata": {},
     "output_type": "display_data"
    }
   ],
   "source": [
    "sns.set(rc={'figure.figsize':(8,6)})\n",
    "count_classes = pd.value_counts(restaurants_only.is_open, sort=True).sort_index()\n",
    "count_classes.plot(kind = 'bar')\n",
    "plt.title(\"Imbalanced Classes\")\n",
    "plt.xticks([0,1], (\"Closed\", \"Open\"))\n",
    "plt.xlabel(\"Class\")\n",
    "plt.ylabel(\"Frequency\")\n",
    "sns.despine()\n",
    "plt.show()"
   ]
  },
  {
   "cell_type": "code",
   "execution_count": 48,
   "metadata": {},
   "outputs": [
    {
     "data": {
      "text/html": [
       "<div>\n",
       "<style scoped>\n",
       "    .dataframe tbody tr th:only-of-type {\n",
       "        vertical-align: middle;\n",
       "    }\n",
       "\n",
       "    .dataframe tbody tr th {\n",
       "        vertical-align: top;\n",
       "    }\n",
       "\n",
       "    .dataframe thead th {\n",
       "        text-align: right;\n",
       "    }\n",
       "</style>\n",
       "<table border=\"1\" class=\"dataframe\">\n",
       "  <thead>\n",
       "    <tr style=\"text-align: right;\">\n",
       "      <th></th>\n",
       "      <th>business_id</th>\n",
       "      <th>latitude</th>\n",
       "      <th>longitude</th>\n",
       "      <th>stars</th>\n",
       "      <th>review_count</th>\n",
       "      <th>age</th>\n",
       "      <th>is_open</th>\n",
       "    </tr>\n",
       "  </thead>\n",
       "  <tbody>\n",
       "    <tr>\n",
       "      <th>0</th>\n",
       "      <td>Apn5Q_b6Nz61Tq4XzPdf9A</td>\n",
       "      <td>51.091813</td>\n",
       "      <td>-114.031675</td>\n",
       "      <td>4.0</td>\n",
       "      <td>24</td>\n",
       "      <td>5</td>\n",
       "      <td>1</td>\n",
       "    </tr>\n",
       "    <tr>\n",
       "      <th>1</th>\n",
       "      <td>AjEbIBw6ZFfln7ePHha9PA</td>\n",
       "      <td>35.960734</td>\n",
       "      <td>-114.939821</td>\n",
       "      <td>4.5</td>\n",
       "      <td>3</td>\n",
       "      <td>1</td>\n",
       "      <td>0</td>\n",
       "    </tr>\n",
       "    <tr>\n",
       "      <th>2</th>\n",
       "      <td>O8S5hYJ1SMc8fA4QBtVujA</td>\n",
       "      <td>45.540503</td>\n",
       "      <td>-73.599300</td>\n",
       "      <td>4.0</td>\n",
       "      <td>5</td>\n",
       "      <td>4</td>\n",
       "      <td>0</td>\n",
       "    </tr>\n",
       "    <tr>\n",
       "      <th>3</th>\n",
       "      <td>6OuOZAok8ikONMS_T3EzXg</td>\n",
       "      <td>43.712946</td>\n",
       "      <td>-79.632763</td>\n",
       "      <td>2.0</td>\n",
       "      <td>7</td>\n",
       "      <td>6</td>\n",
       "      <td>1</td>\n",
       "    </tr>\n",
       "    <tr>\n",
       "      <th>4</th>\n",
       "      <td>8-NRKkPY1UiFXW20WXKiXg</td>\n",
       "      <td>33.448106</td>\n",
       "      <td>-112.341302</td>\n",
       "      <td>2.5</td>\n",
       "      <td>40</td>\n",
       "      <td>10</td>\n",
       "      <td>1</td>\n",
       "    </tr>\n",
       "  </tbody>\n",
       "</table>\n",
       "</div>"
      ],
      "text/plain": [
       "              business_id   latitude   longitude  stars  review_count  age  \\\n",
       "0  Apn5Q_b6Nz61Tq4XzPdf9A  51.091813 -114.031675    4.0            24    5   \n",
       "1  AjEbIBw6ZFfln7ePHha9PA  35.960734 -114.939821    4.5             3    1   \n",
       "2  O8S5hYJ1SMc8fA4QBtVujA  45.540503  -73.599300    4.0             5    4   \n",
       "3  6OuOZAok8ikONMS_T3EzXg  43.712946  -79.632763    2.0             7    6   \n",
       "4  8-NRKkPY1UiFXW20WXKiXg  33.448106 -112.341302    2.5            40   10   \n",
       "\n",
       "   is_open  \n",
       "0        1  \n",
       "1        0  \n",
       "2        0  \n",
       "3        1  \n",
       "4        1  "
      ]
     },
     "execution_count": 48,
     "metadata": {},
     "output_type": "execute_result"
    }
   ],
   "source": [
    "restaurants_only.head()"
   ]
  },
  {
   "cell_type": "markdown",
   "metadata": {},
   "source": [
    "### Outliers"
   ]
  },
  {
   "cell_type": "code",
   "execution_count": 49,
   "metadata": {},
   "outputs": [
    {
     "data": {
      "image/png": "[encoded data removed]",
      "text/plain": [
       "<Figure size 576x432 with 2 Axes>"
      ]
     },
     "metadata": {},
     "output_type": "display_data"
    }
   ],
   "source": [
    "fig, (ax1,ax2) = plt.subplots(1,2,figsize=(8,6), sharey=True)\n",
    "# making spaces between subplots\n",
    "#fig.subplots_adjust(hspace = 0.2, wspace = 0.2)\n",
    "ax1.set_xlabel(\"Num of Reviews\")\n",
    "ax2.set_xlabel(\"Num of Reviews\")\n",
    "ax1.set_ylabel(\"Count\")\n",
    "ax2.set_ylabel(\"Count\")\n",
    "sns.kdeplot(restaurants_only.review_count.sort_values(), ax=ax1)\n",
    "sns.kdeplot(restaurants_only.review_count.sort_values(), ax=ax2)\n",
    "ax2.set_xlim(0, 2000)\n",
    "plt.show()"
   ]
  },
  {
   "cell_type": "code",
   "execution_count": 50,
   "metadata": {},
   "outputs": [
    {
     "data": {
      "image/png": "[encoded data removed]",
      "text/plain": [
       "<Figure size 576x432 with 1 Axes>"
      ]
     },
     "metadata": {},
     "output_type": "display_data"
    }
   ],
   "source": [
    "sns.boxplot(restaurants_only.review_count.sort_values())\n",
    "plt.show()"
   ]
  },
  {
   "cell_type": "code",
   "execution_count": 51,
   "metadata": {},
   "outputs": [
    {
     "name": "stdout",
     "output_type": "stream",
     "text": [
      "train_size:  57173\n",
      "Number of outliers:  786\n"
     ]
    }
   ],
   "source": [
    "from scipy import stats\n",
    "z = np.abs(stats.zscore(restaurants_only.review_count))\n",
    "threshold = 3\n",
    "outlier_businesses = list(np.where(z > 3)[0])\n",
    "print(\"train_size: \", restaurants_only.shape[0])\n",
    "print(\"Number of outliers: \", len(outlier_businesses))"
   ]
  },
  {
   "cell_type": "code",
   "execution_count": 52,
   "metadata": {},
   "outputs": [
    {
     "data": {
      "text/html": [
       "<div>\n",
       "<style scoped>\n",
       "    .dataframe tbody tr th:only-of-type {\n",
       "        vertical-align: middle;\n",
       "    }\n",
       "\n",
       "    .dataframe tbody tr th {\n",
       "        vertical-align: top;\n",
       "    }\n",
       "\n",
       "    .dataframe thead th {\n",
       "        text-align: right;\n",
       "    }\n",
       "</style>\n",
       "<table border=\"1\" class=\"dataframe\">\n",
       "  <thead>\n",
       "    <tr style=\"text-align: right;\">\n",
       "      <th></th>\n",
       "      <th>name</th>\n",
       "      <th>state</th>\n",
       "      <th>review_count</th>\n",
       "      <th>address</th>\n",
       "    </tr>\n",
       "  </thead>\n",
       "  <tbody>\n",
       "    <tr>\n",
       "      <th>146</th>\n",
       "      <td>The Great Dane</td>\n",
       "      <td>WI</td>\n",
       "      <td>691</td>\n",
       "      <td>123 E Doty St</td>\n",
       "    </tr>\n",
       "    <tr>\n",
       "      <th>449</th>\n",
       "      <td>Snooze an Am Eatery</td>\n",
       "      <td>AZ</td>\n",
       "      <td>649</td>\n",
       "      <td>310 N Gilbert Rd</td>\n",
       "    </tr>\n",
       "    <tr>\n",
       "      <th>326</th>\n",
       "      <td>DW Bistro</td>\n",
       "      <td>NV</td>\n",
       "      <td>1168</td>\n",
       "      <td>9275 W Russell Rd, Ste 190</td>\n",
       "    </tr>\n",
       "    <tr>\n",
       "      <th>689</th>\n",
       "      <td>Joyride Taco House</td>\n",
       "      <td>AZ</td>\n",
       "      <td>920</td>\n",
       "      <td>5202 N Central Ave</td>\n",
       "    </tr>\n",
       "    <tr>\n",
       "      <th>23</th>\n",
       "      <td>El Encanto</td>\n",
       "      <td>AZ</td>\n",
       "      <td>615</td>\n",
       "      <td>6248 E Cave Creek Rd</td>\n",
       "    </tr>\n",
       "    <tr>\n",
       "      <th>220</th>\n",
       "      <td>Amore Taste of Chicago</td>\n",
       "      <td>NV</td>\n",
       "      <td>663</td>\n",
       "      <td>3945 S Durango Dr</td>\n",
       "    </tr>\n",
       "    <tr>\n",
       "      <th>511</th>\n",
       "      <td>Matt's Big Breakfast</td>\n",
       "      <td>AZ</td>\n",
       "      <td>1698</td>\n",
       "      <td>825 N 1st St</td>\n",
       "    </tr>\n",
       "    <tr>\n",
       "      <th>135</th>\n",
       "      <td>The Stockyards</td>\n",
       "      <td>ON</td>\n",
       "      <td>663</td>\n",
       "      <td>699 Saint Clair Avenue W</td>\n",
       "    </tr>\n",
       "    <tr>\n",
       "      <th>267</th>\n",
       "      <td>Omelet House</td>\n",
       "      <td>NV</td>\n",
       "      <td>571</td>\n",
       "      <td>316 N Boulder Hwy</td>\n",
       "    </tr>\n",
       "    <tr>\n",
       "      <th>509</th>\n",
       "      <td>Yard House</td>\n",
       "      <td>NV</td>\n",
       "      <td>880</td>\n",
       "      <td>11011 W Charleston Blvd</td>\n",
       "    </tr>\n",
       "  </tbody>\n",
       "</table>\n",
       "</div>"
      ],
      "text/plain": [
       "                       name state  review_count                     address\n",
       "146          The Great Dane    WI           691               123 E Doty St\n",
       "449     Snooze an Am Eatery    AZ           649            310 N Gilbert Rd\n",
       "326               DW Bistro    NV          1168  9275 W Russell Rd, Ste 190\n",
       "689      Joyride Taco House    AZ           920          5202 N Central Ave\n",
       "23               El Encanto    AZ           615        6248 E Cave Creek Rd\n",
       "220  Amore Taste of Chicago    NV           663           3945 S Durango Dr\n",
       "511    Matt's Big Breakfast    AZ          1698                825 N 1st St\n",
       "135          The Stockyards    ON           663    699 Saint Clair Avenue W\n",
       "267            Omelet House    NV           571           316 N Boulder Hwy\n",
       "509              Yard House    NV           880     11011 W Charleston Blvd"
      ]
     },
     "execution_count": 52,
     "metadata": {},
     "output_type": "execute_result"
    }
   ],
   "source": [
    "business_ids = restaurants_only.iloc[outlier_businesses, 0].to_frame()\n",
    "pd.merge(business_ids, b, on=[\"business_id\"])[[\"name\", \"state\", \"review_count\", \"address\"]].sample(10)"
   ]
  },
  {
   "cell_type": "code",
   "execution_count": 53,
   "metadata": {},
   "outputs": [
    {
     "data": {
      "text/plain": [
       "(57173, 7)"
      ]
     },
     "execution_count": 53,
     "metadata": {},
     "output_type": "execute_result"
    }
   ],
   "source": [
    "restaurants_only.shape"
   ]
  },
  {
   "cell_type": "code",
   "execution_count": 54,
   "metadata": {},
   "outputs": [],
   "source": [
    "restaurants_only = restaurants_only.drop(outlier_businesses)"
   ]
  },
  {
   "cell_type": "code",
   "execution_count": 55,
   "metadata": {},
   "outputs": [
    {
     "data": {
      "text/plain": [
       "(56387, 7)"
      ]
     },
     "execution_count": 55,
     "metadata": {},
     "output_type": "execute_result"
    }
   ],
   "source": [
    "restaurants_only.shape"
   ]
  },
  {
   "cell_type": "markdown",
   "metadata": {},
   "source": [
    "### Bag of Words"
   ]
  },
  {
   "cell_type": "code",
   "execution_count": 56,
   "metadata": {
    "scrolled": true
   },
   "outputs": [
    {
     "data": {
      "text/html": [
       "<div>\n",
       "<style scoped>\n",
       "    .dataframe tbody tr th:only-of-type {\n",
       "        vertical-align: middle;\n",
       "    }\n",
       "\n",
       "    .dataframe tbody tr th {\n",
       "        vertical-align: top;\n",
       "    }\n",
       "\n",
       "    .dataframe thead th {\n",
       "        text-align: right;\n",
       "    }\n",
       "</style>\n",
       "<table border=\"1\" class=\"dataframe\">\n",
       "  <thead>\n",
       "    <tr style=\"text-align: right;\">\n",
       "      <th></th>\n",
       "      <th>business_id</th>\n",
       "      <th>latitude</th>\n",
       "      <th>longitude</th>\n",
       "      <th>stars</th>\n",
       "      <th>review_count</th>\n",
       "      <th>age</th>\n",
       "      <th>is_open</th>\n",
       "    </tr>\n",
       "  </thead>\n",
       "  <tbody>\n",
       "    <tr>\n",
       "      <th>0</th>\n",
       "      <td>Apn5Q_b6Nz61Tq4XzPdf9A</td>\n",
       "      <td>51.091813</td>\n",
       "      <td>-114.031675</td>\n",
       "      <td>4.0</td>\n",
       "      <td>24</td>\n",
       "      <td>5</td>\n",
       "      <td>1</td>\n",
       "    </tr>\n",
       "    <tr>\n",
       "      <th>1</th>\n",
       "      <td>AjEbIBw6ZFfln7ePHha9PA</td>\n",
       "      <td>35.960734</td>\n",
       "      <td>-114.939821</td>\n",
       "      <td>4.5</td>\n",
       "      <td>3</td>\n",
       "      <td>1</td>\n",
       "      <td>0</td>\n",
       "    </tr>\n",
       "    <tr>\n",
       "      <th>2</th>\n",
       "      <td>O8S5hYJ1SMc8fA4QBtVujA</td>\n",
       "      <td>45.540503</td>\n",
       "      <td>-73.599300</td>\n",
       "      <td>4.0</td>\n",
       "      <td>5</td>\n",
       "      <td>4</td>\n",
       "      <td>0</td>\n",
       "    </tr>\n",
       "    <tr>\n",
       "      <th>3</th>\n",
       "      <td>6OuOZAok8ikONMS_T3EzXg</td>\n",
       "      <td>43.712946</td>\n",
       "      <td>-79.632763</td>\n",
       "      <td>2.0</td>\n",
       "      <td>7</td>\n",
       "      <td>6</td>\n",
       "      <td>1</td>\n",
       "    </tr>\n",
       "    <tr>\n",
       "      <th>4</th>\n",
       "      <td>8-NRKkPY1UiFXW20WXKiXg</td>\n",
       "      <td>33.448106</td>\n",
       "      <td>-112.341302</td>\n",
       "      <td>2.5</td>\n",
       "      <td>40</td>\n",
       "      <td>10</td>\n",
       "      <td>1</td>\n",
       "    </tr>\n",
       "  </tbody>\n",
       "</table>\n",
       "</div>"
      ],
      "text/plain": [
       "              business_id   latitude   longitude  stars  review_count  age  \\\n",
       "0  Apn5Q_b6Nz61Tq4XzPdf9A  51.091813 -114.031675    4.0            24    5   \n",
       "1  AjEbIBw6ZFfln7ePHha9PA  35.960734 -114.939821    4.5             3    1   \n",
       "2  O8S5hYJ1SMc8fA4QBtVujA  45.540503  -73.599300    4.0             5    4   \n",
       "3  6OuOZAok8ikONMS_T3EzXg  43.712946  -79.632763    2.0             7    6   \n",
       "4  8-NRKkPY1UiFXW20WXKiXg  33.448106 -112.341302    2.5            40   10   \n",
       "\n",
       "   is_open  \n",
       "0        1  \n",
       "1        0  \n",
       "2        0  \n",
       "3        1  \n",
       "4        1  "
      ]
     },
     "execution_count": 56,
     "metadata": {},
     "output_type": "execute_result"
    }
   ],
   "source": [
    "restaurants_only.head()"
   ]
  },
  {
   "cell_type": "code",
   "execution_count": 57,
   "metadata": {},
   "outputs": [],
   "source": [
    "# tokenizer pattern and replace practice\n",
    "# myvect = CountVectorizer(stop_words = 'english')\n",
    "# somelist = pd.Series([\"Tinse is great ጥሩ ˈdäNG person\", \"Ethiopia is my country!\", \"15Brown fox\", \"Quick\", \"13 it is nice\"])\n",
    "# somelist = somelist.str.replace(r'(?u)[^\\w\\s]+|[\\d]+', '')\n",
    "# print(somelist)\n",
    "# myvect.fit_transform(somelist)\n",
    "# print(myvect.vocabulary_)"
   ]
  },
  {
   "cell_type": "code",
   "execution_count": 58,
   "metadata": {},
   "outputs": [],
   "source": [
    "# # Takes a lot of time. Saved models are loaded in the next cells\n",
    "# import time\n",
    "# from sklearn.feature_extraction.text import TfidfVectorizer, CountVectorizer\n",
    "# csize=1e6\n",
    "# start_time = time.time()\n",
    "# review_reader = pd.read_json(\"../../../../../yelp-dataset/yelp_academic_dataset_review.json\", lines=True, chunksize=csize)\n",
    "# from scipy import sparse\n",
    "# for i, r in enumerate(review_reader):\n",
    "#     print(\"working on chunk \",i,\" shape =\", r.shape[0])\n",
    "#     restaurants_reviews = pd.merge(restaurants_only, r, on=[\"business_id\"])\n",
    "#     # save dense matrix to file\n",
    "#     restaurants_reviews.to_csv(\"../../../../../yelp-dataset/restaurants_reviews\"+ str(i) + \".csv\")\n",
    "#     # tokens containing numbers, digits and underscore are ignored\n",
    "\n",
    "#     restaurants_vectorizer = CountVectorizer(stop_words='english', min_df=0.001) \n",
    "#     # remove punctuation and numbers\n",
    "#     restaurants_reviews.text = restaurants_reviews.text.str.replace(r'[^\\w\\s]+|[\\d]+', '')\n",
    "#     restaurants_bow_features = restaurants_vectorizer.fit_transform(restaurants_reviews.text)\n",
    "#     # save vectorizer\n",
    "#     pickle.dump(restaurants_vectorizer, open(\"../../../../../yelp-dataset/restaurants_vectorizer\"+ str(i) +\".sav\", 'wb'))\n",
    "#     # save sparse matrix to file\n",
    "#     sparse.save_npz(\"../../../../../yelp-dataset/restaurants_bow_features\"+ str(i) + \".npz\", restaurants_bow_features)\n",
    "#     print(\"shape of dense matrix: \", restaurants_reviews.shape)\n",
    "#     print(\"shape of sparse matrix: \", restaurants_bow_features.shape)\n",
    "# print(time.time() - start_time)"
   ]
  },
  {
   "cell_type": "markdown",
   "metadata": {},
   "source": [
    "#### Number of Businesses in the Chunks"
   ]
  },
  {
   "cell_type": "code",
   "execution_count": 59,
   "metadata": {},
   "outputs": [
    {
     "name": "stdout",
     "output_type": "stream",
     "text": [
      "chunk  0  number of businesses:  47675\n",
      "chunk  1  number of businesses:  47794\n",
      "chunk  2  number of businesses:  47490\n",
      "chunk  3  number of businesses:  47316\n",
      "chunk  4  number of businesses:  47105\n",
      "chunk  5  number of businesses:  47651\n"
     ]
    }
   ],
   "source": [
    "from scipy import sparse\n",
    "import pickle\n",
    "import operator\n",
    "\n",
    "for i in range(6):\n",
    "    #sparse = sparse.load_npz(\"../../../../../yelp-dataset/restaurants_bow_features\" + i + \".npz\")\n",
    "    #vectorizer = pickle.load(open(\"../../../../../yelp-dataset/restaurants_vectorizer\"+ i + \".sav\", 'rb'))\n",
    "    restaurants_reviews = pd.read_csv(\"../../../../../yelp-dataset/restaurants_reviews\" + str(i) + \".csv\", index_col=0)\n",
    "    #word_headers = np.array(sorted(restaurants_vectorizer.vocabulary_.items(), key=operator.itemgetter(1)))[:,0]\n",
    "    num_of_businesses = len(restaurants_reviews.business_id.groupby(restaurants_reviews.business_id).groups.items())\n",
    "    #num_of_businesses = len(set(dense.business_id))\n",
    "    print(\"chunk \", i, \" number of businesses: \", num_of_businesses)"
   ]
  },
  {
   "cell_type": "markdown",
   "metadata": {},
   "source": [
    "The numbers are very close to each other. We can use one of the chunks."
   ]
  },
  {
   "cell_type": "markdown",
   "metadata": {},
   "source": [
    "#### Using Chunk 2 as a sample"
   ]
  },
  {
   "cell_type": "code",
   "execution_count": 60,
   "metadata": {},
   "outputs": [
    {
     "name": "stdout",
     "output_type": "stream",
     "text": [
      "Showing 6 businesses from  47490\n",
      "('--1UhMGODdWsrMastO9DZw', Int64Index([272207, 272208], dtype='int64'))\n",
      "('--6MefnULPED_I942VcFNA', Int64Index([105260, 105261, 105262, 105263, 105264, 105265, 105266, 105267], dtype='int64'))\n",
      "('--DaPTJW3-tB1vP-PfdTEg', Int64Index([140039, 140040, 140041, 140042, 140043, 140044, 140045, 140046], dtype='int64'))\n",
      "('--FBCX-N37CMYDfs790Bnw', Int64Index([442444, 442445, 442446, 442447, 442448, 442449, 442450, 442451,\n",
      "            442452, 442453, 442454, 442455, 442456, 442457, 442458, 442459,\n",
      "            442460, 442461, 442462, 442463, 442464, 442465, 442466],\n",
      "           dtype='int64'))\n",
      "('--GM_ORV2cYS-h38DSaCLw', Int64Index([249795, 249796], dtype='int64'))\n",
      "('--I7YYLada0tSLkORTHb5Q', Int64Index([67055, 67056, 67057, 67058, 67059, 67060, 67061, 67062, 67063,\n",
      "            67064, 67065, 67066, 67067, 67068, 67069],\n",
      "           dtype='int64'))\n",
      "(476253, 3994)\n",
      "(476253, 15)\n"
     ]
    }
   ],
   "source": [
    "i = 2\n",
    "restaurants_bow_features = sparse.load_npz(\"../../../../../yelp-dataset/restaurants_bow_features\" + str(i) + \".npz\")\n",
    "restaurants_vectorizer = pickle.load(open(\"../../../../../yelp-dataset/restaurants_vectorizer\"+ str(i) + \".sav\", 'rb'))\n",
    "restaurants_reviews = pd.read_csv(\"../../../../../yelp-dataset/restaurants_reviews\" + str(i) + \".csv\", index_col=0)\n",
    "# these are the >3000 word features in the sparse matrix order(alphabetical)\n",
    "bow_features_names = restaurants_vectorizer.get_feature_names()[:10]\n",
    "# get the indices of reviews for each business id\n",
    "reviews_indices_dict = restaurants_reviews.business_id.groupby(restaurants_reviews.business_id).groups\n",
    "print(\"Showing 6 businesses from \", len(reviews_indices_dict.keys()))\n",
    "for i, item in enumerate(reviews_indices_dict.items()):\n",
    "    if(i > 5):\n",
    "        break;\n",
    "    print(item)\n",
    "print(restaurants_bow_features.shape)\n",
    "print(restaurants_reviews.shape)"
   ]
  },
  {
   "cell_type": "markdown",
   "metadata": {},
   "source": [
    "### Word Counts Per Business"
   ]
  },
  {
   "cell_type": "code",
   "execution_count": 61,
   "metadata": {},
   "outputs": [
    {
     "data": {
      "text/plain": [
       "47490"
      ]
     },
     "execution_count": 61,
     "metadata": {},
     "output_type": "execute_result"
    }
   ],
   "source": [
    "len(list(reviews_indices_dict.items()))"
   ]
  },
  {
   "cell_type": "code",
   "execution_count": 62,
   "metadata": {},
   "outputs": [],
   "source": [
    "# import time\n",
    "# the_sparse_matrices = []\n",
    "# #takes 10 minutes\n",
    "# start_time = time.time()\n",
    "# restaurants_vectorizer = pickle.load(open(\"../../../../../yelp-dataset/restaurants_vectorizer2.sav\", 'rb'))\n",
    "# num_of_sparse_features = len(restaurants_vectorizer.vocabulary_)\n",
    "# # initial coo matrix-all zeros\n",
    "# #the_matrix = coo_matrix(np.array([0] * num_of_sparse_features ))\n",
    "# # k goes over the business ids\n",
    "# # i counts\n",
    "# for i, k in enumerate(reviews_indices_dict.keys()):\n",
    "#     if( i % 10000 == 0):\n",
    "#         print(\"creating row: \", i)\n",
    "#     # convert to list: row indices for the reviews of k\n",
    "#     indices_for_sparse_matrix = list(reviews_indices_dict[k])\n",
    "#     #print(indices_for_sparse_matrix)\n",
    "#     #print(k)\n",
    "#     # find means column-wise\n",
    "#     means_sparse = restaurants_bow_features[indices_for_sparse_matrix, :].mean(axis=0).tolist()[0]\n",
    "#     the_sparse_matrices.append(means_sparse)\n",
    "# print(time.time() - start_time)\n",
    "# # save aggregate sparse matrix\n",
    "# pickle.dump(the_sparse_matrices, open(\"../../../../../yelp-dataset/the_sparse_matrices.sav\", \"wb\"))"
   ]
  },
  {
   "cell_type": "code",
   "execution_count": 63,
   "metadata": {},
   "outputs": [],
   "source": [
    "the_sparse_matrices = pickle.load(open(\"../../../../../yelp-dataset/the_sparse_matrices.sav\", \"rb\"))"
   ]
  },
  {
   "cell_type": "markdown",
   "metadata": {},
   "source": [
    "### Bag of Words + Other Features"
   ]
  },
  {
   "cell_type": "code",
   "execution_count": 64,
   "metadata": {},
   "outputs": [],
   "source": [
    "restaurants_bow_aggregate = sparse.csr_matrix(the_sparse_matrices)"
   ]
  },
  {
   "cell_type": "code",
   "execution_count": 65,
   "metadata": {},
   "outputs": [
    {
     "name": "stdout",
     "output_type": "stream",
     "text": [
      "Sparsity:  0.010765427090639112\n",
      "No of businesses 47490\n",
      "Shape of the aggregate sparse matrix  (47490, 3994)\n"
     ]
    }
   ],
   "source": [
    "# calculate sparsity\n",
    "print(\"Sparsity: \", restaurants_bow_aggregate.mean())\n",
    "print(\"No of businesses\", len(reviews_indices_dict.keys()))\n",
    "print(\"Shape of the aggregate sparse matrix \", restaurants_bow_aggregate.shape)"
   ]
  },
  {
   "cell_type": "code",
   "execution_count": 66,
   "metadata": {},
   "outputs": [
    {
     "data": {
      "text/plain": [
       "Index(['business_id', 'latitude', 'longitude', 'stars_x', 'review_count',\n",
       "       'age', 'is_open', 'cool', 'date', 'funny', 'review_id', 'stars_y',\n",
       "       'text', 'useful', 'user_id'],\n",
       "      dtype='object')"
      ]
     },
     "execution_count": 66,
     "metadata": {},
     "output_type": "execute_result"
    }
   ],
   "source": [
    "restaurants_reviews.columns"
   ]
  },
  {
   "cell_type": "code",
   "execution_count": 67,
   "metadata": {},
   "outputs": [
    {
     "name": "stderr",
     "output_type": "stream",
     "text": [
      "C:\\Users\\Tinsae\\Anaconda3\\lib\\site-packages\\ipykernel_launcher.py:8: SettingWithCopyWarning: \n",
      "A value is trying to be set on a copy of a slice from a DataFrame\n",
      "\n",
      "See the caveats in the documentation: http://pandas.pydata.org/pandas-docs/stable/indexing.html#indexing-view-versus-copy\n",
      "  \n"
     ]
    },
    {
     "data": {
      "text/plain": [
       "(47490, 7)"
      ]
     },
     "execution_count": 67,
     "metadata": {},
     "output_type": "execute_result"
    }
   ],
   "source": [
    "# select features\n",
    "restaurants_reviews_n = restaurants_reviews[['business_id', 'stars_x', 'review_count', 'latitude','longitude','age', 'is_open']]\n",
    "# rename age to age_of_restaurant, stars_x to average_stars\n",
    "restaurants_reviews_n.columns = ['business_id', \"average_stars\", 'review_count','latitude', 'longitude','age_of_restaurant', 'is_open']\n",
    "# round to 3 precision\n",
    "#restaurants_reviews = restaurants_reviews.round(3)\n",
    "# remove duplicates\n",
    "restaurants_reviews_n.drop_duplicates(inplace=True)\n",
    "restaurants_reviews_n.shape"
   ]
  },
  {
   "cell_type": "code",
   "execution_count": 68,
   "metadata": {},
   "outputs": [
    {
     "data": {
      "text/html": [
       "<div>\n",
       "<style scoped>\n",
       "    .dataframe tbody tr th:only-of-type {\n",
       "        vertical-align: middle;\n",
       "    }\n",
       "\n",
       "    .dataframe tbody tr th {\n",
       "        vertical-align: top;\n",
       "    }\n",
       "\n",
       "    .dataframe thead th {\n",
       "        text-align: right;\n",
       "    }\n",
       "</style>\n",
       "<table border=\"1\" class=\"dataframe\">\n",
       "  <thead>\n",
       "    <tr style=\"text-align: right;\">\n",
       "      <th></th>\n",
       "      <th>business_id</th>\n",
       "      <th>average_stars</th>\n",
       "      <th>review_count</th>\n",
       "      <th>latitude</th>\n",
       "      <th>longitude</th>\n",
       "      <th>age_of_restaurant</th>\n",
       "      <th>is_open</th>\n",
       "    </tr>\n",
       "  </thead>\n",
       "  <tbody>\n",
       "    <tr>\n",
       "      <th>0</th>\n",
       "      <td>Apn5Q_b6Nz61Tq4XzPdf9A</td>\n",
       "      <td>4.0</td>\n",
       "      <td>24</td>\n",
       "      <td>51.091813</td>\n",
       "      <td>-114.031675</td>\n",
       "      <td>5</td>\n",
       "      <td>1</td>\n",
       "    </tr>\n",
       "    <tr>\n",
       "      <th>3</th>\n",
       "      <td>6OuOZAok8ikONMS_T3EzXg</td>\n",
       "      <td>2.0</td>\n",
       "      <td>7</td>\n",
       "      <td>43.712946</td>\n",
       "      <td>-79.632763</td>\n",
       "      <td>6</td>\n",
       "      <td>1</td>\n",
       "    </tr>\n",
       "    <tr>\n",
       "      <th>4</th>\n",
       "      <td>8-NRKkPY1UiFXW20WXKiXg</td>\n",
       "      <td>2.5</td>\n",
       "      <td>40</td>\n",
       "      <td>33.448106</td>\n",
       "      <td>-112.341302</td>\n",
       "      <td>10</td>\n",
       "      <td>1</td>\n",
       "    </tr>\n",
       "    <tr>\n",
       "      <th>12</th>\n",
       "      <td>tZnSodhPwNr4bzrwJ1CSbw</td>\n",
       "      <td>4.0</td>\n",
       "      <td>146</td>\n",
       "      <td>43.664125</td>\n",
       "      <td>-79.411886</td>\n",
       "      <td>10</td>\n",
       "      <td>0</td>\n",
       "    </tr>\n",
       "    <tr>\n",
       "      <th>35</th>\n",
       "      <td>_c3ixq9jYKxhLUB0czi0ug</td>\n",
       "      <td>4.0</td>\n",
       "      <td>277</td>\n",
       "      <td>33.479807</td>\n",
       "      <td>-112.091188</td>\n",
       "      <td>12</td>\n",
       "      <td>1</td>\n",
       "    </tr>\n",
       "  </tbody>\n",
       "</table>\n",
       "</div>"
      ],
      "text/plain": [
       "               business_id  average_stars  review_count   latitude  \\\n",
       "0   Apn5Q_b6Nz61Tq4XzPdf9A            4.0            24  51.091813   \n",
       "3   6OuOZAok8ikONMS_T3EzXg            2.0             7  43.712946   \n",
       "4   8-NRKkPY1UiFXW20WXKiXg            2.5            40  33.448106   \n",
       "12  tZnSodhPwNr4bzrwJ1CSbw            4.0           146  43.664125   \n",
       "35  _c3ixq9jYKxhLUB0czi0ug            4.0           277  33.479807   \n",
       "\n",
       "     longitude  age_of_restaurant  is_open  \n",
       "0  -114.031675                  5        1  \n",
       "3   -79.632763                  6        1  \n",
       "4  -112.341302                 10        1  \n",
       "12  -79.411886                 10        0  \n",
       "35 -112.091188                 12        1  "
      ]
     },
     "execution_count": 68,
     "metadata": {},
     "output_type": "execute_result"
    }
   ],
   "source": [
    "restaurants_reviews_n.head()"
   ]
  },
  {
   "cell_type": "markdown",
   "metadata": {},
   "source": [
    "The order of businesses in restaurants_reviews is arbitrary. But the sparse matrix used ordered business ids."
   ]
  },
  {
   "cell_type": "code",
   "execution_count": 69,
   "metadata": {},
   "outputs": [
    {
     "name": "stdout",
     "output_type": "stream",
     "text": [
      "True\n"
     ]
    }
   ],
   "source": [
    "# are the business ids ordered\n",
    "business_ids_of_agg_sparse =  list(reviews_indices_dict.keys())\n",
    "print(all(business_ids_of_agg_sparse[i] <= business_ids_of_agg_sparse[i+1] for i in range(len(business_ids_of_agg_sparse)-1)))"
   ]
  },
  {
   "cell_type": "markdown",
   "metadata": {},
   "source": [
    "The order in the sparse matrix can be matched just by sorting the business_ids in ascending order"
   ]
  },
  {
   "cell_type": "code",
   "execution_count": 70,
   "metadata": {},
   "outputs": [
    {
     "data": {
      "text/html": [
       "<div>\n",
       "<style scoped>\n",
       "    .dataframe tbody tr th:only-of-type {\n",
       "        vertical-align: middle;\n",
       "    }\n",
       "\n",
       "    .dataframe tbody tr th {\n",
       "        vertical-align: top;\n",
       "    }\n",
       "\n",
       "    .dataframe thead th {\n",
       "        text-align: right;\n",
       "    }\n",
       "</style>\n",
       "<table border=\"1\" class=\"dataframe\">\n",
       "  <thead>\n",
       "    <tr style=\"text-align: right;\">\n",
       "      <th></th>\n",
       "      <th>business_id</th>\n",
       "      <th>average_stars</th>\n",
       "      <th>review_count</th>\n",
       "      <th>latitude</th>\n",
       "      <th>longitude</th>\n",
       "      <th>age_of_restaurant</th>\n",
       "      <th>is_open</th>\n",
       "    </tr>\n",
       "  </thead>\n",
       "  <tbody>\n",
       "    <tr>\n",
       "      <th>0</th>\n",
       "      <td>--1UhMGODdWsrMastO9DZw</td>\n",
       "      <td>4.0</td>\n",
       "      <td>24</td>\n",
       "      <td>51.049673</td>\n",
       "      <td>-114.079977</td>\n",
       "      <td>2</td>\n",
       "      <td>1</td>\n",
       "    </tr>\n",
       "    <tr>\n",
       "      <th>1</th>\n",
       "      <td>--6MefnULPED_I942VcFNA</td>\n",
       "      <td>3.0</td>\n",
       "      <td>39</td>\n",
       "      <td>43.840905</td>\n",
       "      <td>-79.399604</td>\n",
       "      <td>10</td>\n",
       "      <td>1</td>\n",
       "    </tr>\n",
       "    <tr>\n",
       "      <th>2</th>\n",
       "      <td>--DaPTJW3-tB1vP-PfdTEg</td>\n",
       "      <td>3.5</td>\n",
       "      <td>45</td>\n",
       "      <td>43.677807</td>\n",
       "      <td>-79.444674</td>\n",
       "      <td>6</td>\n",
       "      <td>1</td>\n",
       "    </tr>\n",
       "    <tr>\n",
       "      <th>3</th>\n",
       "      <td>--FBCX-N37CMYDfs790Bnw</td>\n",
       "      <td>4.0</td>\n",
       "      <td>125</td>\n",
       "      <td>35.978679</td>\n",
       "      <td>-115.155057</td>\n",
       "      <td>9</td>\n",
       "      <td>1</td>\n",
       "    </tr>\n",
       "    <tr>\n",
       "      <th>4</th>\n",
       "      <td>--GM_ORV2cYS-h38DSaCLw</td>\n",
       "      <td>4.0</td>\n",
       "      <td>8</td>\n",
       "      <td>40.252503</td>\n",
       "      <td>-80.183900</td>\n",
       "      <td>5</td>\n",
       "      <td>1</td>\n",
       "    </tr>\n",
       "  </tbody>\n",
       "</table>\n",
       "</div>"
      ],
      "text/plain": [
       "              business_id  average_stars  review_count   latitude   longitude  \\\n",
       "0  --1UhMGODdWsrMastO9DZw            4.0            24  51.049673 -114.079977   \n",
       "1  --6MefnULPED_I942VcFNA            3.0            39  43.840905  -79.399604   \n",
       "2  --DaPTJW3-tB1vP-PfdTEg            3.5            45  43.677807  -79.444674   \n",
       "3  --FBCX-N37CMYDfs790Bnw            4.0           125  35.978679 -115.155057   \n",
       "4  --GM_ORV2cYS-h38DSaCLw            4.0             8  40.252503  -80.183900   \n",
       "\n",
       "   age_of_restaurant  is_open  \n",
       "0                  2        1  \n",
       "1                 10        1  \n",
       "2                  6        1  \n",
       "3                  9        1  \n",
       "4                  5        1  "
      ]
     },
     "execution_count": 70,
     "metadata": {},
     "output_type": "execute_result"
    }
   ],
   "source": [
    "# sort, reindex\n",
    "restaurants_reviews_n = restaurants_reviews_n.sort_values(by = \"business_id\").reset_index(drop=True)\n",
    "restaurants_reviews_n.head(5)"
   ]
  },
  {
   "cell_type": "code",
   "execution_count": 71,
   "metadata": {},
   "outputs": [],
   "source": [
    "# drop business id\n",
    "restaurants_reviews_n = restaurants_reviews_n.drop('business_id', axis=1)\n",
    "# rearrange columns\n",
    "restaurants_reviews_n = restaurants_reviews_n[[\"is_open\", \"average_stars\", \"review_count\", \"latitude\", \"longitude\",\"age_of_restaurant\"]]"
   ]
  },
  {
   "cell_type": "code",
   "execution_count": 72,
   "metadata": {},
   "outputs": [
    {
     "data": {
      "text/html": [
       "<div>\n",
       "<style scoped>\n",
       "    .dataframe tbody tr th:only-of-type {\n",
       "        vertical-align: middle;\n",
       "    }\n",
       "\n",
       "    .dataframe tbody tr th {\n",
       "        vertical-align: top;\n",
       "    }\n",
       "\n",
       "    .dataframe thead th {\n",
       "        text-align: right;\n",
       "    }\n",
       "</style>\n",
       "<table border=\"1\" class=\"dataframe\">\n",
       "  <thead>\n",
       "    <tr style=\"text-align: right;\">\n",
       "      <th></th>\n",
       "      <th>is_open</th>\n",
       "      <th>average_stars</th>\n",
       "      <th>review_count</th>\n",
       "      <th>latitude</th>\n",
       "      <th>longitude</th>\n",
       "      <th>age_of_restaurant</th>\n",
       "    </tr>\n",
       "  </thead>\n",
       "  <tbody>\n",
       "    <tr>\n",
       "      <th>0</th>\n",
       "      <td>1</td>\n",
       "      <td>4.0</td>\n",
       "      <td>24</td>\n",
       "      <td>51.049673</td>\n",
       "      <td>-114.079977</td>\n",
       "      <td>2</td>\n",
       "    </tr>\n",
       "    <tr>\n",
       "      <th>1</th>\n",
       "      <td>1</td>\n",
       "      <td>3.0</td>\n",
       "      <td>39</td>\n",
       "      <td>43.840905</td>\n",
       "      <td>-79.399604</td>\n",
       "      <td>10</td>\n",
       "    </tr>\n",
       "    <tr>\n",
       "      <th>2</th>\n",
       "      <td>1</td>\n",
       "      <td>3.5</td>\n",
       "      <td>45</td>\n",
       "      <td>43.677807</td>\n",
       "      <td>-79.444674</td>\n",
       "      <td>6</td>\n",
       "    </tr>\n",
       "    <tr>\n",
       "      <th>3</th>\n",
       "      <td>1</td>\n",
       "      <td>4.0</td>\n",
       "      <td>125</td>\n",
       "      <td>35.978679</td>\n",
       "      <td>-115.155057</td>\n",
       "      <td>9</td>\n",
       "    </tr>\n",
       "    <tr>\n",
       "      <th>4</th>\n",
       "      <td>1</td>\n",
       "      <td>4.0</td>\n",
       "      <td>8</td>\n",
       "      <td>40.252503</td>\n",
       "      <td>-80.183900</td>\n",
       "      <td>5</td>\n",
       "    </tr>\n",
       "  </tbody>\n",
       "</table>\n",
       "</div>"
      ],
      "text/plain": [
       "   is_open  average_stars  review_count   latitude   longitude  \\\n",
       "0        1            4.0            24  51.049673 -114.079977   \n",
       "1        1            3.0            39  43.840905  -79.399604   \n",
       "2        1            3.5            45  43.677807  -79.444674   \n",
       "3        1            4.0           125  35.978679 -115.155057   \n",
       "4        1            4.0             8  40.252503  -80.183900   \n",
       "\n",
       "   age_of_restaurant  \n",
       "0                  2  \n",
       "1                 10  \n",
       "2                  6  \n",
       "3                  9  \n",
       "4                  5  "
      ]
     },
     "execution_count": 72,
     "metadata": {},
     "output_type": "execute_result"
    }
   ],
   "source": [
    "restaurants_reviews_n.head()"
   ]
  },
  {
   "cell_type": "code",
   "execution_count": 73,
   "metadata": {},
   "outputs": [
    {
     "data": {
      "text/plain": [
       "<47490x3994 sparse matrix of type '<class 'numpy.float64'>'\n",
       "\twith 10593362 stored elements in Compressed Sparse Row format>"
      ]
     },
     "execution_count": 73,
     "metadata": {},
     "output_type": "execute_result"
    }
   ],
   "source": [
    "restaurants_bow_aggregate"
   ]
  },
  {
   "cell_type": "code",
   "execution_count": 74,
   "metadata": {},
   "outputs": [
    {
     "data": {
      "text/plain": [
       "(47490, 6)"
      ]
     },
     "execution_count": 74,
     "metadata": {},
     "output_type": "execute_result"
    }
   ],
   "source": [
    "restaurants_reviews_n.shape"
   ]
  },
  {
   "cell_type": "code",
   "execution_count": 75,
   "metadata": {},
   "outputs": [],
   "source": [
    "restaurants_final_data = hstack((restaurants_reviews_n,restaurants_bow_aggregate)).tocsr()"
   ]
  },
  {
   "cell_type": "markdown",
   "metadata": {},
   "source": [
    "### Train/Test Split"
   ]
  },
  {
   "cell_type": "code",
   "execution_count": 76,
   "metadata": {},
   "outputs": [],
   "source": [
    "X = restaurants_final_data[:, 1:]\n",
    "\n",
    "# # change is_open to is_closed\n",
    "y = np.where(restaurants_final_data[:,0].toarray() == 0 , 1, 0)\n",
    "\n",
    "# # stratified sampling\n",
    "X_train, X_test, y_train, y_test = train_test_split(X, y, test_size=0.2, random_state=20, shuffle=True, stratify=y)"
   ]
  },
  {
   "cell_type": "code",
   "execution_count": 77,
   "metadata": {},
   "outputs": [
    {
     "data": {
      "text/plain": [
       "array([[  3.5       , 318.        ,  33.6834609 , ...,   0.        ,\n",
       "          0.        ,   0.        ],\n",
       "       [  2.5       ,  43.        ,  33.4935632 , ...,   0.        ,\n",
       "          0.        ,   0.        ],\n",
       "       [  3.5       ,  51.        ,  35.21244   , ...,   0.        ,\n",
       "          0.        ,   0.        ],\n",
       "       [  1.5       ,   6.        ,  40.02830515, ...,   0.        ,\n",
       "          0.        ,   0.        ],\n",
       "       [  4.        , 462.        ,  43.07243   , ...,   0.        ,\n",
       "          0.        ,   0.        ]])"
      ]
     },
     "execution_count": 77,
     "metadata": {},
     "output_type": "execute_result"
    }
   ],
   "source": [
    "X_train[:5].toarray()"
   ]
  },
  {
   "cell_type": "code",
   "execution_count": 78,
   "metadata": {},
   "outputs": [
    {
     "data": {
      "text/plain": [
       "array([[ 1.5      ,  9.       , 43.0956809, ...,  0.       ,  0.       ,\n",
       "         0.       ],\n",
       "       [ 3.       , 30.       , 33.4657151, ...,  0.       ,  0.       ,\n",
       "         0.       ],\n",
       "       [ 4.       , 12.       , 43.64522  , ...,  0.       ,  0.       ,\n",
       "         0.       ],\n",
       "       [ 4.5      ,  8.       , 45.496425 , ...,  0.       ,  0.       ,\n",
       "         0.       ],\n",
       "       [ 3.5      ,  6.       , 36.131979 , ...,  0.       ,  0.       ,\n",
       "         0.       ]])"
      ]
     },
     "execution_count": 78,
     "metadata": {},
     "output_type": "execute_result"
    }
   ],
   "source": [
    "X_test[:5].toarray()"
   ]
  },
  {
   "cell_type": "markdown",
   "metadata": {},
   "source": [
    "### Distance Features\n",
    "Within 1 mile circle, average ratings, average number of reviews"
   ]
  },
  {
   "cell_type": "code",
   "execution_count": 79,
   "metadata": {},
   "outputs": [
    {
     "name": "stdout",
     "output_type": "stream",
     "text": [
      "min latitude -34.8693315397\n",
      "max latitude 59.438181380799996\n",
      "min longtiude -123.5874264\n",
      "max longtiude 115.08676899999999\n"
     ]
    }
   ],
   "source": [
    "print(\"min latitude\", X_train[:,2].min())\n",
    "print(\"max latitude\", X_train[:,2].max())\n",
    "print(\"min longtiude\", X_train[:,3].min())\n",
    "print(\"max longtiude\", X_train[:,3].max())"
   ]
  },
  {
   "cell_type": "code",
   "execution_count": 80,
   "metadata": {},
   "outputs": [
    {
     "data": {
      "text/html": [
       "<div>\n",
       "<style scoped>\n",
       "    .dataframe tbody tr th:only-of-type {\n",
       "        vertical-align: middle;\n",
       "    }\n",
       "\n",
       "    .dataframe tbody tr th {\n",
       "        vertical-align: top;\n",
       "    }\n",
       "\n",
       "    .dataframe thead th {\n",
       "        text-align: right;\n",
       "    }\n",
       "</style>\n",
       "<table border=\"1\" class=\"dataframe\">\n",
       "  <thead>\n",
       "    <tr style=\"text-align: right;\">\n",
       "      <th></th>\n",
       "      <th>average_stars</th>\n",
       "      <th>review_count</th>\n",
       "      <th>latitude</th>\n",
       "      <th>longitude</th>\n",
       "    </tr>\n",
       "  </thead>\n",
       "  <tbody>\n",
       "    <tr>\n",
       "      <th>0</th>\n",
       "      <td>3.5</td>\n",
       "      <td>318.0</td>\n",
       "      <td>33.683461</td>\n",
       "      <td>-111.965779</td>\n",
       "    </tr>\n",
       "    <tr>\n",
       "      <th>1</th>\n",
       "      <td>2.5</td>\n",
       "      <td>43.0</td>\n",
       "      <td>33.493563</td>\n",
       "      <td>-111.922724</td>\n",
       "    </tr>\n",
       "    <tr>\n",
       "      <th>2</th>\n",
       "      <td>3.5</td>\n",
       "      <td>51.0</td>\n",
       "      <td>35.212440</td>\n",
       "      <td>-80.835393</td>\n",
       "    </tr>\n",
       "    <tr>\n",
       "      <th>3</th>\n",
       "      <td>1.5</td>\n",
       "      <td>6.0</td>\n",
       "      <td>40.028305</td>\n",
       "      <td>-88.578334</td>\n",
       "    </tr>\n",
       "    <tr>\n",
       "      <th>4</th>\n",
       "      <td>4.0</td>\n",
       "      <td>462.0</td>\n",
       "      <td>43.072430</td>\n",
       "      <td>-89.384340</td>\n",
       "    </tr>\n",
       "  </tbody>\n",
       "</table>\n",
       "</div>"
      ],
      "text/plain": [
       "   average_stars  review_count   latitude   longitude\n",
       "0            3.5         318.0  33.683461 -111.965779\n",
       "1            2.5          43.0  33.493563 -111.922724\n",
       "2            3.5          51.0  35.212440  -80.835393\n",
       "3            1.5           6.0  40.028305  -88.578334\n",
       "4            4.0         462.0  43.072430  -89.384340"
      ]
     },
     "execution_count": 80,
     "metadata": {},
     "output_type": "execute_result"
    }
   ],
   "source": [
    "X_train_sep = pd.DataFrame({'average_stars':X_train[:,0].toarray().flatten(),\n",
    "                            'review_count':X_train[:,1].toarray().flatten(),\n",
    "                            'latitude':X_train[:,2].toarray().flatten(),\n",
    "                            'longitude':X_train[:,3].toarray().flatten()})\n",
    "\n",
    "\n",
    "X_train_sep.head()"
   ]
  },
  {
   "cell_type": "code",
   "execution_count": 81,
   "metadata": {},
   "outputs": [
    {
     "data": {
      "text/plain": [
       "(37992, 4)"
      ]
     },
     "execution_count": 81,
     "metadata": {},
     "output_type": "execute_result"
    }
   ],
   "source": [
    "X_train_sep.shape"
   ]
  },
  {
   "cell_type": "code",
   "execution_count": 82,
   "metadata": {},
   "outputs": [
    {
     "name": "stdout",
     "output_type": "stream",
     "text": [
      "distance from 5:  1879.7699797006924\n",
      "distance from 8:  1875.706764718995\n",
      "distance from 18:  259.56745678916485\n"
     ]
    },
    {
     "data": {
      "text/plain": [
       "array([  13.35345434,    0.        , 1770.15646495, 1364.05684364,\n",
       "       1383.84160073, 1879.88324844,   13.38799749,  263.09685355,\n",
       "       1875.81978863, 1877.01480846,  261.99572402, 1804.81896118,\n",
       "       1818.37045069,    8.47603207, 1877.49469178,  266.29323998,\n",
       "       1758.69643561, 1218.03040445,  259.58309747, 1734.28812112])"
      ]
     },
     "execution_count": 82,
     "metadata": {},
     "output_type": "execute_result"
    }
   ],
   "source": [
    "# A vectorized implemenation of geopy.distance.great_circle function\n",
    "# Adopted by Tinsae \n",
    "# reference\n",
    "# https://gist.github.com/rochacbruno/2883505\n",
    "    \n",
    "import math\n",
    "# calculate the disance between a business and all other businesses\n",
    "def distance_c(many_points, one_point):\n",
    "    # convert the values to float\n",
    "    lat1 = many_points[:,0].astype(float) \n",
    "    lon1 = many_points[:,1].astype(float)\n",
    "    lat2 = one_point[0]\n",
    "    lon2 = one_point[1]\n",
    "    #radius = 6371 # km\n",
    "    radius = 3959 # miles\n",
    "    dlat = np.radians(lat2 - lat1)\n",
    "    dlon = np.radians(lon2 - lon1)\n",
    "    a = np.sin(dlat/2) * np.sin(dlat/2) + np.cos(np.radians(lat1)) \\\n",
    "        * np.cos(np.radians(lat2)) * np.sin(dlon/2) * np.sin(dlon/2)\n",
    "    c = 2 * np.arctan2(np.sqrt(a), np.sqrt(1-a))\n",
    "    d = radius * c\n",
    "\n",
    "    return d\n",
    "\n",
    "# for testing purposes(calculating the distance between buisness@1 and others)\n",
    "business5 = X_train_sep[['latitude', 'longitude']].values[5:6]\n",
    "business8 = X_train_sep[['latitude', 'longitude']].values[8:9]\n",
    "business18 = X_train_sep[['latitude', 'longitude']].values[18:19]\n",
    "business1 = X_train_sep[['latitude', 'longitude']].values[1]\n",
    "\n",
    "print(\"distance from 5: \", great_circle(business5, business1).miles)\n",
    "print(\"distance from 8: \", great_circle(business8, business1).miles)\n",
    "print(\"distance from 18: \", great_circle(business18, business1).miles)\n",
    "\n",
    "distance_c(X_train_sep[['latitude', 'longitude']].values[0:20], business1)       "
   ]
  },
  {
   "cell_type": "markdown",
   "metadata": {},
   "source": [
    "The results match with little precision loss"
   ]
  },
  {
   "cell_type": "markdown",
   "metadata": {},
   "source": [
    "### Distance Tranformer"
   ]
  },
  {
   "cell_type": "code",
   "execution_count": 83,
   "metadata": {},
   "outputs": [],
   "source": [
    "from sklearn.base import BaseEstimator, TransformerMixin\n",
    "\n",
    "class DistanceFeaturesCreator(BaseEstimator, TransformerMixin):\n",
    "    def transform(self, X, *_):\n",
    "        self.nearest_average_rating=[]\n",
    "        self.nearest_average_num_of_reviews =[]\n",
    "\n",
    "        self.X = X\n",
    "        self.X_sep = pd.DataFrame({'average_stars':X[:,0].toarray().flatten(),\n",
    "                            'review_count':X[:,1].toarray().flatten(),\n",
    "                            'latitude':X[:,2].toarray().flatten(),\n",
    "                            'longitude':X[:,3].toarray().flatten()})\n",
    "        \n",
    "        self.X_sep.apply(lambda current: self.create_distance_features(current), axis=1)\n",
    "        nearest_average_rating = np.array(self.nearest_average_rating).reshape(-1,1)\n",
    "        nearest_average_num_of_reviews = np.array(self.nearest_average_num_of_reviews).reshape(-1,1)\n",
    "\n",
    "        return sparse.hstack((nearest_average_rating, nearest_average_num_of_reviews, self.X.astype(float)))\n",
    "    \n",
    "    # calculate the disance between a business and all other businesses\n",
    "    def distance_c(self, many_points, one_point):\n",
    "        # convert the values to float\n",
    "        lat1 = many_points[:,0].astype(float) \n",
    "        lon1 = many_points[:,1].astype(float)\n",
    "        lat2 = one_point[0]\n",
    "        lon2 = one_point[1]\n",
    "        #radius = 6371 # km\n",
    "        radius = 3959 # miles\n",
    "        dlat = np.radians(lat2 - lat1)\n",
    "        dlon = np.radians(lon2 - lon1)\n",
    "        a = np.sin(dlat/2) * np.sin(dlat/2) + np.cos(np.radians(lat1)) \\\n",
    "            * np.cos(np.radians(lat2)) * np.sin(dlon/2) * np.sin(dlon/2)\n",
    "        c = 2 * np.arctan2(np.sqrt(a), np.sqrt(1-a))\n",
    "        d = radius * c\n",
    "        return d        \n",
    "    \n",
    "    def create_distance_features(self, current):\n",
    "        # find the distance between current row and all other rows using the vectorized function\n",
    "        the_distances = self.distance_c(self.X_sep[['latitude', 'longitude']].values, (current.latitude, current.longitude))    \n",
    "        # A distance cannot be negative. 0 indicates it is the same place\n",
    "        # so both shall be excluded\n",
    "        indices_to_select = np.where((the_distances < 1) & (the_distances > 0))[0]\n",
    "        # if a business within one mile is found\n",
    "        if(len(indices_to_select) > 0):\n",
    "            self.nearest_average_rating.append(self.X_sep.iloc[indices_to_select, :].average_stars.mean())\n",
    "            self.nearest_average_num_of_reviews.append(self.X_sep.iloc[indices_to_select, :].review_count.mean())\n",
    "        else:\n",
    "            self.nearest_average_rating.append(np.nan)\n",
    "            self.nearest_average_num_of_reviews.append(np.nan)    \n",
    "    \n",
    "    def fit(self, *_):\n",
    "        return self"
   ]
  },
  {
   "cell_type": "markdown",
   "metadata": {},
   "source": [
    "### Custom Normalizer"
   ]
  },
  {
   "cell_type": "code",
   "execution_count": 84,
   "metadata": {},
   "outputs": [],
   "source": [
    "from sklearn.base import BaseEstimator, TransformerMixin\n",
    "from sklearn.preprocessing import Normalizer, StandardScaler\n",
    "\n",
    "class CustomNormalizer(BaseEstimator, TransformerMixin):        \n",
    "\n",
    "    def transform(self, X, *_):\n",
    "        self.X = X\n",
    "        # column 4 and 5 are removed(latitude and longitude)\n",
    "        return sparse.hstack(( StandardScaler().fit_transform(self.X[:, [0,1,2,3,6]].toarray()),  \n",
    "                              Normalizer().fit_transform(self.X[:, 7:]) ))\n",
    "    \n",
    "    def fit(self, *_):\n",
    "        return self"
   ]
  },
  {
   "cell_type": "code",
   "execution_count": 85,
   "metadata": {},
   "outputs": [],
   "source": [
    "# # test code\n",
    "# sc = StandardScaler()\n",
    "# sc.fit_transform(X_train[:,2].toarray())\n",
    "# X_train[0:5, 0:5].toarray()\n",
    "# X_train_transformed.tocsr()[0:5, 0:5].toarray()\n",
    "# CNR = CustomNormalizer()\n",
    "# X_train_transformed = CNR.transform(X_train)\n",
    "# (X_train_transformed).tocsr()[0:5, 0:5].toarray()"
   ]
  },
  {
   "cell_type": "code",
   "execution_count": 86,
   "metadata": {},
   "outputs": [],
   "source": [
    "# this is used for testing the tranformer\n",
    "\n",
    "# DFC = DistanceFeaturesCreator()\n",
    "# X_train_transformed = DFC.transform(X_train)\n",
    "# (X_train_transformed).tocsr()[0:5, 0:5].toarray()\n",
    "\n",
    "\n",
    "# import time\n",
    "\n",
    "# nearest_average_rating = []\n",
    "# nearest_average_num_of_reviews =  []\n",
    "# start_time = time.time()\n",
    "\n",
    "# X_train_sep2 = X_train_sep.copy(deep=True)\n",
    "\n",
    "# def create_distance_features(current):\n",
    "#     # find the distance between current row and all other rows using the vectorized function\n",
    "#     the_distances = distance_c(X_train_sep2[['latitude', 'longitude']].values, (current.latitude, current.longitude))    \n",
    "#     # A distance cannot be negative. 0 indicates it is the same place\n",
    "#     # so both shall be excluded\n",
    "#     indices_to_select = np.where((the_distances < 1) & (the_distances > 0))[0]\n",
    "#     # if a business within one mile is found\n",
    "#     if(len(indices_to_select) > 0):\n",
    "#         nearest_average_rating.append(X_train_sep2.iloc[indices_to_select, :].average_stars.mean())\n",
    "#         nearest_average_num_of_reviews.append(X_train_sep2.iloc[indices_to_select, :].review_count.mean())\n",
    "#     else:\n",
    "#         nearest_average_rating.append(\"No-Nearest\")\n",
    "#         nearest_average_num_of_reviews.append(\"No-Nearest\")\n",
    "\n",
    "        \n",
    "# X_train_sep2.apply(lambda x: create_distance_features(x), axis=1)\n",
    "# print(time.time() - start_time, \" seconds\")\n",
    "\n",
    "\n",
    "# X_train_sep2[\"nearest_average_rating\"] = nearest_average_rating\n",
    "# X_train_sep2[\"nearest_average_num_of_reviews\"] = nearest_average_num_of_reviews\n",
    "# X_train_sep2.head()"
   ]
  },
  {
   "cell_type": "code",
   "execution_count": 87,
   "metadata": {},
   "outputs": [],
   "source": [
    "# # This is for testing\n",
    "\n",
    "# X_train_transformed\n",
    "# RNN = RemoveNoNearest()\n",
    "\n",
    "# RNN = RemoveNoNearest()\n",
    "# X_transformed_again, y_transformed = RNN.transform(X_train_transformed.tocsr(), y_train)\n",
    "\n",
    "# X_transformed_again = RNN.transform(X_train_transformed.tocsr())\n",
    "# X_train_transformed\n",
    "# X_transformed_again\n",
    "# X_train_transformed.tocsr()[312, 0:2].toarray()\n",
    "# np.isnan(X_transformed_again.toarray()).sum()"
   ]
  },
  {
   "cell_type": "code",
   "execution_count": 88,
   "metadata": {},
   "outputs": [],
   "source": [
    "# from sklearn.preprocessing import StandardScaler\n",
    "# with warnings.catch_warnings():\n",
    "#     warnings.simplefilter(\"ignore\")\n",
    "#     scaler = StandardScaler()\n",
    "#     dense_train_sel_sorted[dense_train_sel_sorted.columns.drop(\"is_closed\")] = scaler.fit_transform(dense_train_sel_sorted[dense_train_sel_sorted.columns.drop(\"is_closed\")])\n",
    "# dense_train_sel_sorted.head(5)"
   ]
  },
  {
   "cell_type": "markdown",
   "metadata": {},
   "source": [
    "### Construct Pipeline"
   ]
  },
  {
   "cell_type": "code",
   "execution_count": 89,
   "metadata": {},
   "outputs": [],
   "source": [
    "from sklearn.preprocessing import StandardScaler\n",
    "from sklearn.impute import SimpleImputer\n",
    "from sklearn.pipeline import Pipeline\n",
    "from sklearn.preprocessing import Normalizer\n"
   ]
  },
  {
   "cell_type": "code",
   "execution_count": 90,
   "metadata": {},
   "outputs": [
    {
     "data": {
      "text/plain": [
       "<37992x3999 sparse matrix of type '<class 'numpy.float64'>'\n",
       "\twith 8646985 stored elements in COOrdinate format>"
      ]
     },
     "execution_count": 90,
     "metadata": {},
     "output_type": "execute_result"
    }
   ],
   "source": [
    "pipeline = Pipeline([('DFC', DistanceFeaturesCreator()),('imputer', SimpleImputer(strategy=\"mean\")), \n",
    "                     (\"scale-normalize\", CustomNormalizer())])\n",
    "X_train_t = pipeline.fit_transform(X_train)\n",
    "X_train_t"
   ]
  },
  {
   "cell_type": "code",
   "execution_count": 91,
   "metadata": {},
   "outputs": [
    {
     "data": {
      "text/plain": [
       "<9498x3999 sparse matrix of type '<class 'numpy.float64'>'\n",
       "\twith 2183459 stored elements in COOrdinate format>"
      ]
     },
     "execution_count": 91,
     "metadata": {},
     "output_type": "execute_result"
    }
   ],
   "source": [
    "# only transform\n",
    "X_test_t = pipeline.transform(X_test)\n",
    "\n",
    "X_test_t"
   ]
  },
  {
   "cell_type": "code",
   "execution_count": 92,
   "metadata": {},
   "outputs": [
    {
     "data": {
      "image/png": "[encoded data removed]",
      "text/plain": [
       "<Figure size 1152x432 with 2 Axes>"
      ]
     },
     "metadata": {},
     "output_type": "display_data"
    }
   ],
   "source": [
    "fig, (ax1,ax2) = plt.subplots(1,2,figsize=(16,6), sharey=True)\n",
    "plt.suptitle(\"Class Count\")\n",
    "sns.countplot(y_train.flatten(), ax=ax1)\n",
    "sns.countplot(y_test.flatten(), ax=ax2)\n",
    "ax1.set_title(\"Train\")\n",
    "ax2.set_title(\"Test\")\n",
    "ax1.set_xlabel(\"Class\")\n",
    "ax2.set_xlabel(\"Class\")\n",
    "sns.despine()"
   ]
  },
  {
   "cell_type": "code",
   "execution_count": 93,
   "metadata": {},
   "outputs": [
    {
     "data": {
      "image/png": "[encoded data removed]",
      "text/plain": [
       "<Figure size 576x432 with 1 Axes>"
      ]
     },
     "metadata": {},
     "output_type": "display_data"
    },
    {
     "name": "stdout",
     "output_type": "stream",
     "text": [
      "0    9914\n",
      "1    9914\n",
      "dtype: int64\n"
     ]
    }
   ],
   "source": [
    "from imblearn.under_sampling import RandomUnderSampler\n",
    "\n",
    "rus = RandomUnderSampler(random_state=0)\n",
    "X_train_resampled, y_train_resampled = rus.fit_sample(X_train, y_train)\n",
    "X_test_resampled, y_test_resampled = rus.fit_sample(X_test, y_test)\n",
    "\n",
    "count_classes = pd.value_counts(y_train_resampled.flatten(), sort=True).sort_index()\n",
    "count_classes.plot(kind = 'bar')\n",
    "plt.title(\"Balanced Classes\")\n",
    "plt.xlabel(\"Class\")\n",
    "plt.ylabel(\"Frequency\")\n",
    "plt.show()\n",
    "print(count_classes)"
   ]
  },
  {
   "cell_type": "code",
   "execution_count": 94,
   "metadata": {},
   "outputs": [
    {
     "data": {
      "text/plain": [
       "<19828x3999 sparse matrix of type '<class 'numpy.float64'>'\n",
       "\twith 4219202 stored elements in COOrdinate format>"
      ]
     },
     "execution_count": 94,
     "metadata": {},
     "output_type": "execute_result"
    }
   ],
   "source": [
    "pipeline = Pipeline([('DFC', DistanceFeaturesCreator()),('imputer', SimpleImputer(strategy=\"mean\")), \n",
    "                     (\"scale-normalize\", CustomNormalizer())])\n",
    "X_train_rt = pipeline.fit_transform(X_train_resampled)\n",
    "X_train_rt"
   ]
  },
  {
   "cell_type": "code",
   "execution_count": 95,
   "metadata": {},
   "outputs": [
    {
     "data": {
      "text/plain": [
       "<4958x3999 sparse matrix of type '<class 'numpy.float64'>'\n",
       "\twith 1069226 stored elements in COOrdinate format>"
      ]
     },
     "execution_count": 95,
     "metadata": {},
     "output_type": "execute_result"
    }
   ],
   "source": [
    "pipeline = Pipeline([('DFC', DistanceFeaturesCreator()),('imputer', SimpleImputer(strategy=\"mean\")), \n",
    "                     (\"scale-normalize\", CustomNormalizer())])\n",
    "X_test_rt = pipeline.fit_transform(X_test_resampled)\n",
    "X_test_rt"
   ]
  },
  {
   "cell_type": "code",
   "execution_count": 96,
   "metadata": {},
   "outputs": [
    {
     "data": {
      "text/plain": [
       "(19828, 3999)"
      ]
     },
     "execution_count": 96,
     "metadata": {},
     "output_type": "execute_result"
    }
   ],
   "source": [
    "X_train_resampled.shape"
   ]
  },
  {
   "cell_type": "code",
   "execution_count": 97,
   "metadata": {},
   "outputs": [
    {
     "data": {
      "text/plain": [
       "(19828, 3999)"
      ]
     },
     "execution_count": 97,
     "metadata": {},
     "output_type": "execute_result"
    }
   ],
   "source": [
    "X_train_rt.shape"
   ]
  },
  {
   "cell_type": "code",
   "execution_count": 98,
   "metadata": {},
   "outputs": [
    {
     "data": {
      "text/html": [
       "<div>\n",
       "<style scoped>\n",
       "    .dataframe tbody tr th:only-of-type {\n",
       "        vertical-align: middle;\n",
       "    }\n",
       "\n",
       "    .dataframe tbody tr th {\n",
       "        vertical-align: top;\n",
       "    }\n",
       "\n",
       "    .dataframe thead th {\n",
       "        text-align: right;\n",
       "    }\n",
       "</style>\n",
       "<table border=\"1\" class=\"dataframe\">\n",
       "  <thead>\n",
       "    <tr style=\"text-align: right;\">\n",
       "      <th></th>\n",
       "      <th>nearest_average_rating</th>\n",
       "      <th>nearest_averge_number_of_reviews</th>\n",
       "      <th>average_stars</th>\n",
       "      <th>review_count</th>\n",
       "      <th>age_of_restaurant</th>\n",
       "    </tr>\n",
       "  </thead>\n",
       "  <tbody>\n",
       "    <tr>\n",
       "      <th>0</th>\n",
       "      <td>0.446718</td>\n",
       "      <td>0.887342</td>\n",
       "      <td>1.387740</td>\n",
       "      <td>0.620304</td>\n",
       "      <td>-1.721332</td>\n",
       "    </tr>\n",
       "    <tr>\n",
       "      <th>1</th>\n",
       "      <td>-0.372693</td>\n",
       "      <td>1.199431</td>\n",
       "      <td>0.727184</td>\n",
       "      <td>3.049227</td>\n",
       "      <td>1.822124</td>\n",
       "    </tr>\n",
       "    <tr>\n",
       "      <th>2</th>\n",
       "      <td>0.698089</td>\n",
       "      <td>1.170384</td>\n",
       "      <td>0.066629</td>\n",
       "      <td>2.085578</td>\n",
       "      <td>1.177860</td>\n",
       "    </tr>\n",
       "    <tr>\n",
       "      <th>3</th>\n",
       "      <td>1.491159</td>\n",
       "      <td>-0.947131</td>\n",
       "      <td>1.387740</td>\n",
       "      <td>-0.158535</td>\n",
       "      <td>0.211462</td>\n",
       "    </tr>\n",
       "    <tr>\n",
       "      <th>4</th>\n",
       "      <td>1.321281</td>\n",
       "      <td>-0.885245</td>\n",
       "      <td>0.727184</td>\n",
       "      <td>0.475097</td>\n",
       "      <td>-0.432802</td>\n",
       "    </tr>\n",
       "  </tbody>\n",
       "</table>\n",
       "</div>"
      ],
      "text/plain": [
       "   nearest_average_rating  nearest_averge_number_of_reviews  average_stars  \\\n",
       "0                0.446718                          0.887342       1.387740   \n",
       "1               -0.372693                          1.199431       0.727184   \n",
       "2                0.698089                          1.170384       0.066629   \n",
       "3                1.491159                         -0.947131       1.387740   \n",
       "4                1.321281                         -0.885245       0.727184   \n",
       "\n",
       "   review_count  age_of_restaurant  \n",
       "0      0.620304          -1.721332  \n",
       "1      3.049227           1.822124  \n",
       "2      2.085578           1.177860  \n",
       "3     -0.158535           0.211462  \n",
       "4      0.475097          -0.432802  "
      ]
     },
     "execution_count": 98,
     "metadata": {},
     "output_type": "execute_result"
    }
   ],
   "source": [
    "# create dataframe for plotting purpose\n",
    "column_headers = ['nearest_average_rating', 'nearest_averge_number_of_reviews','average_stars', \n",
    "                  'review_count', 'age_of_restaurant']\n",
    "df = pd.DataFrame(X_train_rt.tocsr()[:, :5 ].toarray(), columns=column_headers)\n",
    "df.head()"
   ]
  },
  {
   "cell_type": "code",
   "execution_count": 99,
   "metadata": {},
   "outputs": [
    {
     "data": {
      "text/plain": [
       "<matplotlib.axes._subplots.AxesSubplot at 0x21c38739d68>"
      ]
     },
     "execution_count": 99,
     "metadata": {},
     "output_type": "execute_result"
    },
    {
     "data": {
      "image/png": "[encoded data removed]",
      "text/plain": [
       "<Figure size 1152x864 with 2 Axes>"
      ]
     },
     "metadata": {},
     "output_type": "display_data"
    }
   ],
   "source": [
    "f, ax = plt.subplots(figsize=(16, 12))\n",
    "sns.heatmap(df.corr(), annot=True, fmt=\"g\", linewidths=.5, ax=ax)"
   ]
  },
  {
   "cell_type": "code",
   "execution_count": 100,
   "metadata": {},
   "outputs": [
    {
     "data": {
      "text/plain": [
       "<seaborn.axisgrid.PairGrid at 0x21c387d6438>"
      ]
     },
     "execution_count": 100,
     "metadata": {},
     "output_type": "execute_result"
    },
    {
     "data": {
      "image/png": "[encoded data removed]",
      "text/plain": [
       "<Figure size 900x900 with 30 Axes>"
      ]
     },
     "metadata": {},
     "output_type": "display_data"
    }
   ],
   "source": [
    "sns.pairplot(df)"
   ]
  },
  {
   "cell_type": "markdown",
   "metadata": {},
   "source": [
    "## 2. Baseline Modeling"
   ]
  },
  {
   "cell_type": "markdown",
   "metadata": {},
   "source": [
    "https://towardsdatascience.com/what-metrics-should-we-use-on-imbalanced-data-set-precision-recall-roc-e2e79252aeba"
   ]
  },
  {
   "cell_type": "markdown",
   "metadata": {},
   "source": [
    "Eventhough, the data is unbalanced. I decided not to undersample or oversample it. It important to corretly guess a restaurant that is likely to be closed. Wrongly predicting that a well-doing restaurant is going to be closed is a lost business opportunity. \n",
    "\n",
    "I think there are many restaurants who ask for loan and a bank is more interested in finding restaurants that are likely to defalult in the next few years. I want to maximize positive recall with some precision loss.\n",
    "\n",
    "For a PR curve, a good classifer aims for the upper right corner of the chart but upper left for the ROC curve."
   ]
  },
  {
   "cell_type": "code",
   "execution_count": 94,
   "metadata": {},
   "outputs": [
    {
     "data": {
      "text/plain": [
       "['nearest_average_rating',\n",
       " 'nearest_averge_number_of_reviews',\n",
       " 'average_stars',\n",
       " 'review_count',\n",
       " 'age_of_restaurant']"
      ]
     },
     "execution_count": 94,
     "metadata": {},
     "output_type": "execute_result"
    }
   ],
   "source": [
    "# these are the first 5 features\n",
    "first_5 = [\"nearest_average_rating\", \"nearest_averge_number_of_reviews\", \"average_stars\", \"review_count\", \"age_of_restaurant\"] \n",
    "first_5"
   ]
  },
  {
   "cell_type": "code",
   "execution_count": 95,
   "metadata": {},
   "outputs": [
    {
     "data": {
      "text/plain": [
       "['ability',\n",
       " 'able',\n",
       " 'absolute',\n",
       " 'absolutely',\n",
       " 'ac',\n",
       " 'accept',\n",
       " 'acceptable',\n",
       " 'accepted',\n",
       " 'access',\n",
       " 'accessible']"
      ]
     },
     "execution_count": 95,
     "metadata": {},
     "output_type": "execute_result"
    }
   ],
   "source": [
    "# these are the remaining\n",
    "restaurants_vectorizer.get_feature_names()[:10]"
   ]
  },
  {
   "cell_type": "code",
   "execution_count": 96,
   "metadata": {},
   "outputs": [
    {
     "data": {
      "text/plain": [
       "3994"
      ]
     },
     "execution_count": 96,
     "metadata": {},
     "output_type": "execute_result"
    }
   ],
   "source": [
    "len(restaurants_vectorizer.get_feature_names())"
   ]
  },
  {
   "cell_type": "code",
   "execution_count": 97,
   "metadata": {},
   "outputs": [
    {
     "data": {
      "text/plain": [
       "3999"
      ]
     },
     "execution_count": 97,
     "metadata": {},
     "output_type": "execute_result"
    }
   ],
   "source": [
    "# combine the features\n",
    "all_the_features =  first_5 + list(restaurants_vectorizer.get_feature_names())\n",
    "len(all_the_features)"
   ]
  },
  {
   "cell_type": "code",
   "execution_count": 98,
   "metadata": {},
   "outputs": [],
   "source": [
    "from sklearn.metrics import classification_report, confusion_matrix,roc_auc_score,average_precision_score\n",
    "from sklearn.tree import DecisionTreeClassifier\n",
    "from sklearn.neighbors import KNeighborsClassifier\n",
    "from sklearn.naive_bayes import GaussianNB\n",
    "from sklearn.linear_model import LogisticRegression\n",
    "from sklearn.svm import SVC, LinearSVC\n",
    "from sklearn.feature_selection import SelectFromModel\n",
    "from sklearn.metrics import accuracy_score"
   ]
  },
  {
   "cell_type": "code",
   "execution_count": 99,
   "metadata": {},
   "outputs": [],
   "source": [
    "y_train = y_train.flatten()\n",
    "y_test = y_test.flatten()\n",
    "y_test_resampled = y_test_resampled.flatten()\n",
    "y_train_resampled = y_train_resampled.flatten()"
   ]
  },
  {
   "cell_type": "markdown",
   "metadata": {},
   "source": [
    "### Logistic Regression"
   ]
  },
  {
   "cell_type": "code",
   "execution_count": 100,
   "metadata": {},
   "outputs": [
    {
     "name": "stdout",
     "output_type": "stream",
     "text": [
      "\n",
      " Confusion Matrix\n",
      "Predicted     0     1\n",
      "True                 \n",
      "0          6575   444\n",
      "1          1441  1038\n",
      "              precision    recall  f1-score   support\n",
      "\n",
      "           0       0.82      0.94      0.87      7019\n",
      "           1       0.70      0.42      0.52      2479\n",
      "\n",
      "   micro avg       0.80      0.80      0.80      9498\n",
      "   macro avg       0.76      0.68      0.70      9498\n",
      "weighted avg       0.79      0.80      0.78      9498\n",
      "\n",
      "ROC-AUC 0.6777301752443852\n",
      "PR-AUC-Score 0.44498772919334273\n"
     ]
    }
   ],
   "source": [
    "# unbalanced data\n",
    "logistic_model = LogisticRegression()\n",
    "logistic_model.fit(X_train_t, y_train)\n",
    "y_pred = logistic_model.predict(X_test_t)\n",
    "print('\\n Confusion Matrix')\n",
    "print(pd.crosstab(y_test.flatten(), y_pred, rownames=['True'], colnames=['Predicted']))\n",
    "print(classification_report(y_test, y_pred))\n",
    "print(\"ROC-AUC\", roc_auc_score(y_test, y_pred))\n",
    "print(\"PR-AUC-Score\", average_precision_score(y_test, y_pred))"
   ]
  },
  {
   "cell_type": "code",
   "execution_count": 212,
   "metadata": {},
   "outputs": [
    {
     "name": "stdout",
     "output_type": "stream",
     "text": [
      "\n",
      " Confusion Matrix\n",
      "Predicted     0     1\n",
      "True                 \n",
      "0          1768   711\n",
      "1           675  1804\n",
      "              precision    recall  f1-score   support\n",
      "\n",
      "           0       0.72      0.71      0.72      2479\n",
      "           1       0.72      0.73      0.72      2479\n",
      "\n",
      "   micro avg       0.72      0.72      0.72      4958\n",
      "   macro avg       0.72      0.72      0.72      4958\n",
      "weighted avg       0.72      0.72      0.72      4958\n",
      "\n",
      "ROC-AUC 0.7204517950786608\n",
      "PR-AUC-Score 0.6581292398894251\n",
      "Accuracy:  0.7204517950786608\n",
      "Train Accuracy:  0.7566068186403067\n"
     ]
    }
   ],
   "source": [
    "# undersampled data(balanced)\n",
    "logistic_model2 = LogisticRegression(penalty='l1', C=1.0)\n",
    "logistic_model2.fit(X_train_rt, y_train_resampled)\n",
    "y_pred = logistic_model2.predict(X_test_rt)\n",
    "y_pred_train = logistic_model2.predict(X_train_rt)\n",
    "print('\\n Confusion Matrix')\n",
    "print(pd.crosstab(y_test_resampled, y_pred, rownames=['True'], colnames=['Predicted']))\n",
    "print(classification_report(y_test_resampled, y_pred))\n",
    "print(\"ROC-AUC\", roc_auc_score(y_test_resampled, y_pred))\n",
    "print(\"PR-AUC-Score\", average_precision_score(y_test_resampled, y_pred))\n",
    "print(\"Accuracy: \", accuracy_score(y_test_resampled, y_pred))\n",
    "\n",
    "print(\"Train Accuracy: \", accuracy_score(y_train_resampled, y_pred_train))"
   ]
  },
  {
   "cell_type": "code",
   "execution_count": 117,
   "metadata": {},
   "outputs": [
    {
     "name": "stdout",
     "output_type": "stream",
     "text": [
      "Most positive cofficeints\n",
      "(contribute positively to restaurants closure)\n",
      "\n",
      "closed,groupon,mac,vegas,owner,hope,sliders,ayce,sign,yelp,concept,owners,decor,tapas,\n",
      "\n",
      "Most negative cofficeints\n",
      "(contribute negatively to restaurants closure)\n",
      "\n",
      "rude,years,subway,fast,store,truck,busy,employees,drive,manager,favorite,bartenders,hotel,mcdonalds,customer,"
     ]
    }
   ],
   "source": [
    "print(\"Most positive cofficeints\\n(contribute positively to restaurants closure)\")\n",
    "print()\n",
    "sorted_features = np.argsort(logistic_model.coef_).ravel()[::-1]\n",
    "for i in range(14):\n",
    "    print(all_the_features[sorted_features[i]], end=\",\")\n",
    "print()\n",
    "print(\"\\nMost negative cofficeints\\n(contribute negatively to restaurants closure)\")\n",
    "print()\n",
    "sorted_features = np.argsort(logistic_model.coef_).ravel()\n",
    "for i in range(15):\n",
    "    print(all_the_features[sorted_features[i]],end=\",\")"
   ]
  },
  {
   "cell_type": "code",
   "execution_count": 132,
   "metadata": {},
   "outputs": [
    {
     "name": "stdout",
     "output_type": "stream",
     "text": [
      "Most positive cofficeints\n",
      "(contribute positively to restaurants closure)\n",
      "\n",
      "groupon,closed,concept,paradise,scottsdale,opening,owner,vegas,ayce,mac,gone,owners,spaghetti,dance,signs,flavors,chef,odd,yelp,sad,cheesesteak,heres,fan,sliders,hope,margaritas,idea,sign,brunch,tapas,\n",
      "\n",
      "Most negative cofficeints\n",
      "(contribute negatively to restaurants closure)\n",
      "\n",
      "rude,bartenders,goto,busy,drive,years,subway,store,convenient,truck,attitude,airport,employees,beautiful,hotel,workers,fast,golf,manager,panda,wendys,mcdonalds,school,customer,tuesday,favorite,variety,usually,pool,parking,"
     ]
    }
   ],
   "source": [
    "#balanced logisic regression\n",
    "print(\"Most positive cofficeints\\n(contribute positively to restaurants closure)\")\n",
    "print()\n",
    "sorted_features = np.argsort(logistic_model2.coef_.ravel())[::-1]\n",
    "for i in range(30):\n",
    "    print(all_the_features[sorted_features[i]], end=\",\")\n",
    "print()\n",
    "print(\"\\nMost negative cofficeints\\n(contribute negatively to restaurants closure)\")\n",
    "print()\n",
    "sorted_features = np.argsort(logistic_model2.coef_.ravel())\n",
    "for i in range(30):\n",
    "    print(all_the_features[sorted_features[i]],end=\",\")"
   ]
  },
  {
   "cell_type": "code",
   "execution_count": 104,
   "metadata": {},
   "outputs": [],
   "source": [
    "# sfm = SelectFromModel(logistic_model)\n",
    "# sfm.fit(X_train_t, y_train)\n",
    "# logistic_model.fit(sfm.transform(X_train_t), y_train)\n",
    "# y_pred = logistic_model.predict(sfm.transform(X_test_t))\n",
    "# print(\"Number of features: \",  X_train_t.shape[1])\n",
    "# print('\\n Confusion Matrix')\n",
    "# print(pd.crosstab(y_test, y_pred, rownames=['True'], colnames=['Predicted']))\n",
    "# print(classification_report(y_test, y_pred))\n",
    "# print(\"ROC-AUC\", roc_auc_score(y_test, y_pred))\n",
    "# print(\"PR-AUC-Score\", average_precision_score(y_test, y_pred))"
   ]
  },
  {
   "cell_type": "markdown",
   "metadata": {},
   "source": [
    "### K-Nearest-Neighbors"
   ]
  },
  {
   "cell_type": "code",
   "execution_count": 105,
   "metadata": {},
   "outputs": [
    {
     "name": "stdout",
     "output_type": "stream",
     "text": [
      "\n",
      " Confusion Matrix\n",
      "Predicted     0    1\n",
      "True                \n",
      "0          6750  269\n",
      "1          1921  558\n",
      "              precision    recall  f1-score   support\n",
      "\n",
      "           0       0.78      0.96      0.86      7019\n",
      "           1       0.67      0.23      0.34      2479\n",
      "\n",
      "   micro avg       0.77      0.77      0.77      9498\n",
      "   macro avg       0.73      0.59      0.60      9498\n",
      "weighted avg       0.75      0.77      0.72      9498\n",
      "\n",
      "ROC-AUC 0.593383107373917\n",
      "PR-AUC-Score 0.35412813061055504\n"
     ]
    }
   ],
   "source": [
    "# imbalanced\n",
    "nn_model = KNeighborsClassifier(n_neighbors=20, n_jobs=-1)\n",
    "nn_model.fit(X_train_t, y_train)\n",
    "y_pred = nn_model.predict(X_test_t)\n",
    "print('\\n Confusion Matrix')\n",
    "print(pd.crosstab(y_test, y_pred, rownames=['True'], colnames=['Predicted']))\n",
    "print(classification_report(y_test, y_pred))\n",
    "print(\"ROC-AUC\", roc_auc_score(y_test, y_pred))\n",
    "print(\"PR-AUC-Score\", average_precision_score(y_test, y_pred))"
   ]
  },
  {
   "cell_type": "code",
   "execution_count": 214,
   "metadata": {},
   "outputs": [
    {
     "name": "stdout",
     "output_type": "stream",
     "text": [
      "\n",
      " Confusion Matrix\n",
      "Predicted     0     1\n",
      "True                 \n",
      "0          1672   807\n",
      "1           885  1594\n",
      "              precision    recall  f1-score   support\n",
      "\n",
      "           0       0.65      0.67      0.66      2479\n",
      "           1       0.66      0.64      0.65      2479\n",
      "\n",
      "   micro avg       0.66      0.66      0.66      4958\n",
      "   macro avg       0.66      0.66      0.66      4958\n",
      "weighted avg       0.66      0.66      0.66      4958\n",
      "\n",
      "ROC-AUC 0.6587333602258976\n",
      "PR-AUC-Score 0.60538149779262\n",
      "Accuracy:  0.6587333602258976\n",
      "Train Accuracy:  0.736887230179544\n"
     ]
    }
   ],
   "source": [
    "# undersampled\n",
    "nn_model2 = KNeighborsClassifier(n_neighbors=13, n_jobs=-1)\n",
    "nn_model2.fit(X_train_rt, y_train_resampled)\n",
    "y_pred = nn_model2.predict(X_test_rt)\n",
    "y_pred_train = nn_model2.predict(X_train_rt)\n",
    "print('\\n Confusion Matrix')\n",
    "print(pd.crosstab(y_test_resampled, y_pred, rownames=['True'], colnames=['Predicted']))\n",
    "print(classification_report(y_test_resampled, y_pred))\n",
    "print(\"ROC-AUC\", roc_auc_score(y_test_resampled, y_pred))\n",
    "print(\"PR-AUC-Score\", average_precision_score(y_test_resampled, y_pred))\n",
    "print(\"Accuracy: \", accuracy_score(y_test_resampled, y_pred))\n",
    "\n",
    "print(\"Train Accuracy: \", accuracy_score(y_train_resampled, y_pred_train))"
   ]
  },
  {
   "cell_type": "markdown",
   "metadata": {},
   "source": [
    "### Decision Trees"
   ]
  },
  {
   "cell_type": "code",
   "execution_count": 107,
   "metadata": {},
   "outputs": [
    {
     "name": "stdout",
     "output_type": "stream",
     "text": [
      "\n",
      " Confusion Matrix\n",
      "Predicted     0     1\n",
      "True                 \n",
      "0          5622  1397\n",
      "1          1392  1087\n",
      "              precision    recall  f1-score   support\n",
      "\n",
      "           0       0.80      0.80      0.80      7019\n",
      "           1       0.44      0.44      0.44      2479\n",
      "\n",
      "   micro avg       0.71      0.71      0.71      9498\n",
      "   macro avg       0.62      0.62      0.62      9498\n",
      "weighted avg       0.71      0.71      0.71      9498\n",
      "\n",
      "ROC-AUC 0.6197260291764973\n",
      "PR-AUC-Score 0.3384377266715486\n"
     ]
    }
   ],
   "source": [
    "# unbalanced\n",
    "dt_model = DecisionTreeClassifier()\n",
    "dt_model.fit(X_train_t, y_train)\n",
    "y_pred = dt_model.predict(X_test_t)\n",
    "print('\\n Confusion Matrix')\n",
    "print(pd.crosstab(y_test, y_pred, rownames=['True'], colnames=['Predicted']))\n",
    "print(classification_report(y_test, y_pred))\n",
    "print(\"ROC-AUC\", roc_auc_score(y_test, y_pred))\n",
    "print(\"PR-AUC-Score\", average_precision_score(y_test, y_pred))"
   ]
  },
  {
   "cell_type": "code",
   "execution_count": 108,
   "metadata": {},
   "outputs": [],
   "source": [
    "# sfm = SelectFromModel(dt_model)\n",
    "# sfm.fit(X_train, y_train)\n",
    "# dt_model.fit(sfm.transform(X_train), y_train)\n",
    "# y_pred = dt_model.predict(sfm.transform(X_test))\n",
    "# print(\"Number of features: \",  X_train.shape[1])\n",
    "# print('\\n Confusion Matrix')\n",
    "# print(pd.crosstab(y_test, y_pred, rownames=['True'], colnames=['Predicted']))\n",
    "# print(classification_report(y_test, y_pred))\n",
    "# print(\"ROC-AUC\", roc_auc_score(y_test, y_pred))\n",
    "# print(\"PR-AUC-Score\", average_precision_score(y_test, y_pred))"
   ]
  },
  {
   "cell_type": "code",
   "execution_count": 109,
   "metadata": {},
   "outputs": [
    {
     "name": "stdout",
     "output_type": "stream",
     "text": [
      "nearest_averge_number_of_reviews,review_count,age_of_restaurant,place,location,average_stars,order,nearest_average_rating,menu,customer,fast,closed,try,service,dishes,groupon,subway,restaurant,good,time,"
     ]
    }
   ],
   "source": [
    "sorted_features = np.argsort(dt_model.feature_importances_)[::-1]\n",
    "for i in range(20):\n",
    "    print(all_the_features[sorted_features[i]], end=\",\")"
   ]
  },
  {
   "cell_type": "code",
   "execution_count": 216,
   "metadata": {},
   "outputs": [
    {
     "name": "stdout",
     "output_type": "stream",
     "text": [
      "\n",
      " Confusion Matrix\n",
      "Predicted     0     1\n",
      "True                 \n",
      "0          1532   947\n",
      "1           981  1498\n",
      "              precision    recall  f1-score   support\n",
      "\n",
      "           0       0.61      0.62      0.61      2479\n",
      "           1       0.61      0.60      0.61      2479\n",
      "\n",
      "   micro avg       0.61      0.61      0.61      4958\n",
      "   macro avg       0.61      0.61      0.61      4958\n",
      "weighted avg       0.61      0.61      0.61      4958\n",
      "\n",
      "              precision    recall  f1-score   support\n",
      "\n",
      "           0       1.00      1.00      1.00      9914\n",
      "           1       1.00      1.00      1.00      9914\n",
      "\n",
      "   micro avg       1.00      1.00      1.00     19828\n",
      "   macro avg       1.00      1.00      1.00     19828\n",
      "weighted avg       1.00      1.00      1.00     19828\n",
      "\n",
      "ROC-AUC 0.6111335215812828\n",
      "PR-AUC-Score 0.5680891678236244\n",
      "Accuracy:  0.6111335215812828\n",
      "Train Accuracy:  1.0\n"
     ]
    }
   ],
   "source": [
    "# balanced\n",
    "dt_model2 = DecisionTreeClassifier()\n",
    "dt_model2.fit(X_train_rt, y_train_resampled)\n",
    "y_pred = dt_model2.predict(X_test_rt)\n",
    "y_pred_train = dt_model2.predict(X_train_rt)\n",
    "print('\\n Confusion Matrix')\n",
    "print(pd.crosstab(y_test_resampled, y_pred, rownames=['True'], colnames=['Predicted']))\n",
    "print(classification_report(y_test_resampled, y_pred))\n",
    "print(classification_report(y_train_resampled, y_pred_train))\n",
    "\n",
    "print(\"ROC-AUC\", roc_auc_score(y_test_resampled, y_pred))\n",
    "print(\"PR-AUC-Score\", average_precision_score(y_test_resampled, y_pred))\n",
    "print(\"Accuracy: \", accuracy_score(y_test_resampled, y_pred))\n",
    "print(\"Train Accuracy: \", accuracy_score(y_train_resampled, y_pred_train))"
   ]
  },
  {
   "cell_type": "code",
   "execution_count": 111,
   "metadata": {},
   "outputs": [
    {
     "name": "stdout",
     "output_type": "stream",
     "text": [
      "review_count,nearest_averge_number_of_reviews,age_of_restaurant,drive,customer,fast,order,nearest_average_rating,restaurant,good,menu,went,try,staff,average_stars,place,friendly,service,quick,employees,"
     ]
    }
   ],
   "source": [
    "sorted_features = np.argsort(dt_model2.feature_importances_)[::-1]\n",
    "for i in range(20):\n",
    "    print(all_the_features[sorted_features[i]], end=\",\")"
   ]
  },
  {
   "cell_type": "markdown",
   "metadata": {},
   "source": [
    "### Naive Bayes"
   ]
  },
  {
   "cell_type": "code",
   "execution_count": 112,
   "metadata": {},
   "outputs": [
    {
     "name": "stdout",
     "output_type": "stream",
     "text": [
      "\n",
      " Confusion Matrix\n",
      "Predicted     0     1\n",
      "True                 \n",
      "0          4781  2238\n",
      "1          1074  1405\n",
      "              precision    recall  f1-score   support\n",
      "\n",
      "           0       0.82      0.68      0.74      7019\n",
      "           1       0.39      0.57      0.46      2479\n",
      "\n",
      "   micro avg       0.65      0.65      0.65      9498\n",
      "   macro avg       0.60      0.62      0.60      9498\n",
      "weighted avg       0.70      0.65      0.67      9498\n",
      "\n",
      "ROC-AUC 0.6239559758877261\n",
      "PR-AUC-Score 0.33165972313180164\n"
     ]
    }
   ],
   "source": [
    "# unbalanced\n",
    "model_nb = GaussianNB()\n",
    "model_nb.fit(X_train_t.toarray(), y_train)\n",
    "y_pred = model_nb.predict(X_test_t.toarray())\n",
    "print('\\n Confusion Matrix')\n",
    "print(pd.crosstab(y_test, y_pred, rownames=['True'], colnames=['Predicted']))\n",
    "print(classification_report(y_test, y_pred))\n",
    "print(\"ROC-AUC\", roc_auc_score(y_test, y_pred))\n",
    "print(\"PR-AUC-Score\", average_precision_score(y_test, y_pred))"
   ]
  },
  {
   "cell_type": "code",
   "execution_count": 217,
   "metadata": {},
   "outputs": [
    {
     "name": "stdout",
     "output_type": "stream",
     "text": [
      "\n",
      " Confusion Matrix\n",
      "Predicted     0     1\n",
      "True                 \n",
      "0          1577   902\n",
      "1          1026  1453\n",
      "              precision    recall  f1-score   support\n",
      "\n",
      "           0       0.61      0.64      0.62      2479\n",
      "           1       0.62      0.59      0.60      2479\n",
      "\n",
      "   micro avg       0.61      0.61      0.61      4958\n",
      "   macro avg       0.61      0.61      0.61      4958\n",
      "weighted avg       0.61      0.61      0.61      4958\n",
      "\n",
      "ROC-AUC 0.6111335215812828\n",
      "PR-AUC-Score 0.5685677311497257\n",
      "Accuracy:  0.6111335215812828\n",
      "Train Accuracy:  0.6864030663707887\n"
     ]
    }
   ],
   "source": [
    "# balanced\n",
    "model_nb2 = GaussianNB()\n",
    "model_nb2.fit(X_train_rt.toarray(), y_train_resampled)\n",
    "y_pred = model_nb2.predict(X_test_rt.toarray())\n",
    "y_pred_train = model_nb2.predict(X_train_rt.toarray())\n",
    "print('\\n Confusion Matrix')\n",
    "print(pd.crosstab(y_test_resampled, y_pred, rownames=['True'], colnames=['Predicted']))\n",
    "print(classification_report(y_test_resampled, y_pred))\n",
    "print(\"ROC-AUC\", roc_auc_score(y_test_resampled, y_pred))\n",
    "print(\"PR-AUC-Score\", average_precision_score(y_test_resampled, y_pred))\n",
    "print(\"Accuracy: \", accuracy_score(y_test_resampled, y_pred))\n",
    "print(\"Train Accuracy: \", accuracy_score(y_train_resampled, y_pred_train))"
   ]
  },
  {
   "cell_type": "markdown",
   "metadata": {},
   "source": [
    "### Support Vector Machine"
   ]
  },
  {
   "cell_type": "code",
   "execution_count": 114,
   "metadata": {},
   "outputs": [
    {
     "name": "stdout",
     "output_type": "stream",
     "text": [
      "\n",
      " Confusion Matrix\n",
      "Predicted     0     1\n",
      "True                 \n",
      "0          1769   710\n",
      "1           767  1712\n",
      "              precision    recall  f1-score   support\n",
      "\n",
      "           0       0.70      0.71      0.71      2479\n",
      "           1       0.71      0.69      0.70      2479\n",
      "\n",
      "   micro avg       0.70      0.70      0.70      4958\n",
      "   macro avg       0.70      0.70      0.70      4958\n",
      "weighted avg       0.70      0.70      0.70      4958\n",
      "\n",
      "ROC-AUC 0.7020976200080676\n",
      "PR-AUC-Score 0.6428534787175112\n",
      "Accuracy:  0.7020976200080677\n"
     ]
    }
   ],
   "source": [
    "# balanced data\n",
    "svc_model = SVC(kernel='linear', tol=0.001, C=5)\n",
    "svc_model.fit(X_train_rt, y_train_resampled)\n",
    "y_pred = svc_model.predict(X_test_rt)\n",
    "print('\\n Confusion Matrix')\n",
    "print(pd.crosstab(y_test_resampled, y_pred, rownames=['True'], colnames=['Predicted']))\n",
    "print(classification_report(y_test_resampled, y_pred))\n",
    "print(\"ROC-AUC\", roc_auc_score(y_test_resampled, y_pred))\n",
    "print(\"PR-AUC-Score\", average_precision_score(y_test_resampled, y_pred))\n",
    "print(\"Accuracy: \", accuracy_score(y_test_resampled, y_pred))"
   ]
  },
  {
   "cell_type": "code",
   "execution_count": 119,
   "metadata": {},
   "outputs": [
    {
     "data": {
      "text/plain": [
       "<1x3999 sparse matrix of type '<class 'numpy.float64'>'\n",
       "\twith 3999 stored elements in Compressed Sparse Row format>"
      ]
     },
     "execution_count": 119,
     "metadata": {},
     "output_type": "execute_result"
    }
   ],
   "source": [
    "svc_model.coef_"
   ]
  },
  {
   "cell_type": "code",
   "execution_count": 128,
   "metadata": {},
   "outputs": [
    {
     "name": "stdout",
     "output_type": "stream",
     "text": [
      "Most positive cofficeints\n",
      "(contribute positively to restaurants closure)\n",
      "\n",
      "closed,groupon,paradise,mountain,unlimited,quiche,adds,concept,sliders,signs,balsamic,vegas,suggestion,ayce,dealing,scottsdale,ale,cheesesteak,buffets,henderson,\n",
      "\n",
      "Most negative cofficeints\n",
      "(contribute negatively to restaurants closure)\n",
      "\n",
      "bartenders,appreciated,comped,tho,tuesday,convenient,goto,bus,everybody,watery,truck,rude,subway,wendys,uber,services,attitude,dated,cheers,program,occasionally,tzatziki,tourist,purchased,workers,products,years,rudely,brewery,understanding,beautiful,assumed,nc,popular,fav,rated,tour,noisy,splitting,omg,"
     ]
    }
   ],
   "source": [
    "print(\"Most positive cofficeints\\n(contribute positively to restaurants closure)\")\n",
    "print()\n",
    "sorted_features = np.argsort(svc_model.coef_.toarray()).ravel()[::-1]\n",
    "for i in range(30):\n",
    "    print(all_the_features[sorted_features[i]], end=\",\")\n",
    "print()\n",
    "print(\"\\nMost negative cofficeints\\n(contribute negatively to restaurants closure)\")\n",
    "print()\n",
    "sorted_features = np.argsort(svc_model.coef_.toarray()).ravel()\n",
    "for i in range(30):\n",
    "    print(all_the_features[sorted_features[i]],end=\",\")"
   ]
  },
  {
   "cell_type": "code",
   "execution_count": null,
   "metadata": {},
   "outputs": [],
   "source": [
    "baseline_comparision = pd.DataFrame()\n",
    "baseline_comparision[\"Negative Precision\"] = pd.Series([0.82, 0.78, 0.8, 0.82])\n",
    "baseline_comparision[\"Negative Recall\"] = pd.Series([0.94, 0.96, 0.8, 0.68])\n",
    "baseline_comparision[\"Positive Precision\"] = pd.Series([0.7, 0.67, 0.44,0.39])\n",
    "baseline_comparision[\"Positive Recall\"] = pd.Series([0.42, 0.23, 0.44, 0.57])\n",
    "baseline_comparision[\"ROC AUC\"] = pd.Series([0.68, 0.59, 0.62, 0.62])\n",
    "baseline_comparision[\"PR AUC\"] = pd.Series([0.44, 0.35, 0.34, 0.33])\n",
    "baseline_comparision[\"Algorithm\"] = [\"Logistic Regression\", \"KNN\",\"Decision Trees\",\"Naive Bayes\"]\n",
    "baseline_comparision_plot = pd.melt(baseline_comparision, id_vars=\"Algorithm\")\n",
    "fig, ax = plt.subplots(figsize=(10,8))\n",
    "ax.set_title(\"Comparing Baseline Models(Imbalanced Classes)\")\n",
    "sns.pointplot(x='Algorithm', y='value', hue='variable', data=baseline_comparision_plot, kind='bar', ax=ax)\n",
    "sns.despine()"
   ]
  },
  {
   "cell_type": "code",
   "execution_count": null,
   "metadata": {},
   "outputs": [],
   "source": [
    "baseline_comparision2 = pd.DataFrame()\n",
    "baseline_comparision2[\"Negative Precision\"] = pd.Series([0.72, 0.65, 0.6, 0.61, 0.7])\n",
    "baseline_comparision2[\"Negative Recall\"] = pd.Series([0.71, 0.67, 0.61, 0.64, 0.71])\n",
    "baseline_comparision2[\"Positive Precision\"] = pd.Series([0.72, 0.66, 0.6,0.62, 0.71])\n",
    "baseline_comparision2[\"Positive Recall\"] = pd.Series([0.73, 0.64, 0.59, 0.59, 0.69])\n",
    "baseline_comparision2[\"ROC AUC\"] = pd.Series([0.66, 0.66, 0.6, 0.61, 0.7])\n",
    "baseline_comparision2[\"PR AUC\"] = pd.Series([0.66, 0.61, 0.56, 0.57, 0.64])\n",
    "baseline_comparision2[\"Accuracy\"] = pd.Series([0.72, 0.66, 0.6, 0.61, 0.7])\n",
    "\n",
    "baseline_comparision2[\"Algorithm\"] = [\"Logistic Regression\", \"KNN\",\"Decision Trees\",\"Naive Bayes\", \"SVM\"]\n",
    "baseline_comparision_plot2 = pd.melt(baseline_comparision2, id_vars=\"Algorithm\")\n",
    "fig, ax = plt.subplots(figsize=(10,8))\n",
    "ax.set_title(\"Comparing Baseline Models(Balanced Classes)\")\n",
    "sns.pointplot(x='Algorithm', y='value', hue='variable', data=baseline_comparision_plot2, ax=ax)\n",
    "sns.despine()"
   ]
  },
  {
   "cell_type": "markdown",
   "metadata": {},
   "source": [
    "## 3. Ensembles"
   ]
  },
  {
   "cell_type": "markdown",
   "metadata": {},
   "source": [
    "### Random Forest"
   ]
  },
  {
   "cell_type": "code",
   "execution_count": 210,
   "metadata": {},
   "outputs": [
    {
     "name": "stdout",
     "output_type": "stream",
     "text": [
      "\n",
      " Confusion Matrix\n",
      "Predicted     0     1\n",
      "True                 \n",
      "0          1662   817\n",
      "1           730  1749\n",
      "              precision    recall  f1-score   support\n",
      "\n",
      "           0       0.69      0.67      0.68      2479\n",
      "           1       0.68      0.71      0.69      2479\n",
      "\n",
      "   micro avg       0.69      0.69      0.69      4958\n",
      "   macro avg       0.69      0.69      0.69      4958\n",
      "weighted avg       0.69      0.69      0.69      4958\n",
      "\n",
      "ROC-AUC 0.6879790237999193\n",
      "PR-AUC-Score 0.6281275575315896\n",
      "Test Accuracy:  0.6879790237999194\n",
      "Train Accuracy:  0.8787573128908615\n"
     ]
    }
   ],
   "source": [
    "# balanced dataset\n",
    "from sklearn.ensemble import RandomForestClassifier\n",
    "rfc_model = RandomForestClassifier(max_depth=50, n_estimators=900,  min_samples_leaf=15, n_jobs=-1)\n",
    "rfc_model.fit(X_train_rt, y_train_resampled)\n",
    "y_pred = rfc_model.predict(X_test_rt)\n",
    "y_pred_train = rfc_model.predict(X_train_rt)\n",
    "print('\\n Confusion Matrix')\n",
    "print(pd.crosstab(y_test_resampled, y_pred, rownames=['True'], colnames=['Predicted']))\n",
    "print(classification_report(y_test_resampled, y_pred))\n",
    "print(\"ROC-AUC\", roc_auc_score(y_test_resampled, y_pred))\n",
    "print(\"PR-AUC-Score\", average_precision_score(y_test_resampled, y_pred))\n",
    "print(\"Test Accuracy: \", accuracy_score(y_test_resampled, y_pred))\n",
    "print(\"Train Accuracy: \", accuracy_score(y_train_resampled, y_pred_train))"
   ]
  },
  {
   "cell_type": "markdown",
   "metadata": {},
   "source": [
    "### Gradient Boosing"
   ]
  },
  {
   "cell_type": "code",
   "execution_count": 142,
   "metadata": {},
   "outputs": [
    {
     "name": "stdout",
     "output_type": "stream",
     "text": [
      "\n",
      " Confusion Matrix\n",
      "Predicted     0    1\n",
      "True                \n",
      "0          6760  259\n",
      "1          1718  761\n",
      "              precision    recall  f1-score   support\n",
      "\n",
      "           0       0.80      0.96      0.87      7019\n",
      "           1       0.75      0.31      0.43      2479\n",
      "\n",
      "   micro avg       0.79      0.79      0.79      9498\n",
      "   macro avg       0.77      0.64      0.65      9498\n",
      "weighted avg       0.78      0.79      0.76      9498\n",
      "\n",
      "ROC-AUC 0.6350393885644686\n",
      "PR-AUC-Score 0.4099103128836573\n"
     ]
    }
   ],
   "source": [
    "# unbalanced dataset\n",
    "from sklearn.ensemble import GradientBoostingClassifier\n",
    "gbc_model = GradientBoostingClassifier(max_depth=3, subsample=0.8)\n",
    "gbc_model.fit(X_train_t, y_train)\n",
    "y_pred = gbc_model.predict(X_test_t)\n",
    "print('\\n Confusion Matrix')\n",
    "print(pd.crosstab(y_test, y_pred, rownames=['True'], colnames=['Predicted']))\n",
    "print(classification_report(y_test, y_pred))\n",
    "print(\"ROC-AUC\", roc_auc_score(y_test, y_pred))\n",
    "print(\"PR-AUC-Score\", average_precision_score(y_test, y_pred))"
   ]
  },
  {
   "cell_type": "code",
   "execution_count": 211,
   "metadata": {},
   "outputs": [
    {
     "name": "stdout",
     "output_type": "stream",
     "text": [
      "\n",
      " Confusion Matrix\n",
      "Predicted     0     1\n",
      "True                 \n",
      "0          1757   722\n",
      "1           693  1786\n",
      "              precision    recall  f1-score   support\n",
      "\n",
      "           0       0.72      0.71      0.71      2479\n",
      "           1       0.71      0.72      0.72      2479\n",
      "\n",
      "   micro avg       0.71      0.71      0.71      4958\n",
      "   macro avg       0.71      0.71      0.71      4958\n",
      "weighted avg       0.71      0.71      0.71      4958\n",
      "\n",
      "ROC-AUC 0.7146026623638565\n",
      "PR-AUC-Score 0.6528231080469886\n",
      "Accuracy:  0.7146026623638564\n",
      "Train Accuracy:  0.7640710106919508\n"
     ]
    }
   ],
   "source": [
    "# balanced dataset\n",
    "from sklearn.ensemble import GradientBoostingClassifier\n",
    "gbc_model2 = GradientBoostingClassifier(max_depth=3, subsample=0.8)\n",
    "gbc_model2.fit(X_train_rt, y_train_resampled)\n",
    "y_pred = gbc_model2.predict(X_test_rt)\n",
    "y_pred_train = gbc_model2.predict(X_train_rt)\n",
    "print('\\n Confusion Matrix')\n",
    "print(pd.crosstab(y_test_resampled, y_pred, rownames=['True'], colnames=['Predicted']))\n",
    "print(classification_report(y_test_resampled, y_pred))\n",
    "print(\"ROC-AUC\", roc_auc_score(y_test_resampled, y_pred))\n",
    "print(\"PR-AUC-Score\", average_precision_score(y_test_resampled, y_pred))\n",
    "\n",
    "print(\"Accuracy: \", accuracy_score(y_test_resampled, y_pred))\n",
    "print(\"Train Accuracy: \", accuracy_score(y_train_resampled, y_pred_train))"
   ]
  },
  {
   "cell_type": "code",
   "execution_count": 144,
   "metadata": {},
   "outputs": [
    {
     "data": {
      "image/png": "[encoded data removed]",
      "text/plain": [
       "<Figure size 576x432 with 1 Axes>"
      ]
     },
     "metadata": {},
     "output_type": "display_data"
    }
   ],
   "source": [
    "feature_importance = gbc_model2.feature_importances_\n",
    "# Make importances relative to max importance.\n",
    "feature_importance = 100.0 * (feature_importance / feature_importance.max())\n",
    "# argsort sorts from smallest to largest\n",
    "sorted_idx = np.argsort(feature_importance)[-30:]\n",
    "pos = np.arange(sorted_idx.shape[0]) + .7\n",
    "# # use only one column of a 1 x 2 figure\n",
    "plt.subplot(1, 2, 2)\n",
    "# pos is the postion of the bars on the y axis\n",
    "# feature_importance[sorted_idx] is the width of the bars\n",
    "plt.barh(pos, feature_importance[sorted_idx], align='center')\n",
    "plt.yticks(pos, np.array(all_the_features)[[sorted_idx]])\n",
    "plt.xlabel('Relative Importance')\n",
    "plt.title('Variable Importance')\n",
    "plt.show()\n",
    "# print(\"\\nColumn headers\\n\\n\",X.columns)\n",
    "# print(\"\\n Feature Importance\", feature_importance)\n",
    "# print(\"\\nargsorted from smallest to largest\\n\\n\",sorted_idx)\n",
    "# print(\"\\nColumn headers\\n\\n\",X.columns[sorted_idx])\n",
    "# print(\"\\nRearranged accordingly\\n\\n\",feature_importance[sorted_idx])\n",
    "# print(\"\\nPosition on the y axis\\n\\n\", pos)"
   ]
  },
  {
   "cell_type": "markdown",
   "metadata": {},
   "source": [
    "### LightGBM"
   ]
  },
  {
   "cell_type": "code",
   "execution_count": 209,
   "metadata": {},
   "outputs": [
    {
     "name": "stderr",
     "output_type": "stream",
     "text": [
      "C:\\Users\\Tinsae\\Anaconda3\\lib\\site-packages\\lightgbm\\basic.py:452: UserWarning: Converting data to scipy sparse matrix.\n",
      "  warnings.warn('Converting data to scipy sparse matrix.')\n",
      "C:\\Users\\Tinsae\\Anaconda3\\lib\\site-packages\\lightgbm\\basic.py:452: UserWarning: Converting data to scipy sparse matrix.\n",
      "  warnings.warn('Converting data to scipy sparse matrix.')\n"
     ]
    },
    {
     "name": "stdout",
     "output_type": "stream",
     "text": [
      "\n",
      " Confusion Matrix\n",
      "Predicted   0.0   1.0\n",
      "True                 \n",
      "0          1813   666\n",
      "1           666  1813\n",
      "              precision    recall  f1-score   support\n",
      "\n",
      "           0       0.73      0.73      0.73      2479\n",
      "           1       0.73      0.73      0.73      2479\n",
      "\n",
      "   micro avg       0.73      0.73      0.73      4958\n",
      "   macro avg       0.73      0.73      0.73      4958\n",
      "weighted avg       0.73      0.73      0.73      4958\n",
      "\n",
      "ROC-AUC 0.7313432835820896\n",
      "PR-AUC-Score 0.669191356649588\n",
      "Test Accuracy:  0.7313432835820896\n",
      "Train Accuracy:  0.9044280815009078\n"
     ]
    }
   ],
   "source": [
    "import lightgbm as lgb \n",
    "lgb_train_data2 =lgb.Dataset(X_train_rt,label=y_train_resampled)\n",
    "\n",
    "params = {}\n",
    "params['learning_rate'] = 0.003\n",
    "params['boosting_type'] = 'gbdt'\n",
    "params['objective'] = 'binary'\n",
    "params['metric'] = 'binary_error'\n",
    "params['sub_feature'] = 0.5\n",
    "params['num_leaves'] = 150\n",
    "params['min_data'] = 50\n",
    "params['max_depth'] = 30\n",
    "\n",
    "#training our model using light gbm\n",
    "num_round=1000\n",
    "lgbm_model=lgb.train(params, lgb_train_data2, num_round)\n",
    "\n",
    "y_pred = lgbm_model.predict(X_test_rt)\n",
    "#converting probabilities into 0 or 1\n",
    "for i in range(0,len(y_test_resampled)):\n",
    "    if y_pred[i] >= .5:\n",
    "        y_pred [i] = 1\n",
    "    else:  \n",
    "        y_pred [i] = 0\n",
    "        \n",
    "y_pred_train = lgbm_model.predict(X_train_rt)\n",
    "#converting probabilities into 0 or 1\n",
    "for i in range(0,len(y_train_resampled)):\n",
    "    if y_pred_train[i] >= .5:\n",
    "        y_pred_train [i] = 1\n",
    "    else:  \n",
    "        y_pred_train [i] = 0\n",
    "print('\\n Confusion Matrix')\n",
    "print(pd.crosstab(y_test_resampled, y_pred, rownames=['True'], colnames=['Predicted']))\n",
    "print(classification_report(y_test_resampled, y_pred))\n",
    "print(\"ROC-AUC\", roc_auc_score(y_test_resampled, y_pred))\n",
    "print(\"PR-AUC-Score\", average_precision_score(y_test_resampled, y_pred))\n",
    "print(\"Test Accuracy: \", accuracy_score(y_test_resampled, y_pred))\n",
    "print(\"Train Accuracy: \", accuracy_score(y_train_resampled, y_pred_train))"
   ]
  },
  {
   "cell_type": "code",
   "execution_count": 148,
   "metadata": {},
   "outputs": [
    {
     "data": {
      "image/png": "[encoded data removed]",
      "text/plain": [
       "<Figure size 576x432 with 1 Axes>"
      ]
     },
     "metadata": {},
     "output_type": "display_data"
    }
   ],
   "source": [
    "feature_importance = lgbm_model.feature_importance()\n",
    "# Make importances relative to max importance.\n",
    "feature_importance = 100.0 * (feature_importance / feature_importance.max())\n",
    "# argsort sorts from smallest to largest\n",
    "sorted_idx = np.argsort(feature_importance)[-30:]\n",
    "pos = np.arange(sorted_idx.shape[0]) + .9\n",
    "# # use only one column of a 1 x 2 figure\n",
    "plt.subplot(1, 2, 2)\n",
    "# pos is the postion of the bars on the y axis\n",
    "# feature_importance[sorted_idx] is the width of the bars\n",
    "plt.barh(pos, feature_importance[sorted_idx], align='center')\n",
    "plt.yticks(pos, np.array(all_the_features)[[sorted_idx]])\n",
    "plt.xlabel('Relative Importance')\n",
    "plt.title('Variable Importance')\n",
    "plt.show()\n",
    "# print(\"\\nColumn headers\\n\\n\",X.columns)\n",
    "# print(\"\\n Feature Importance\", feature_importance)\n",
    "# print(\"\\nargsorted from smallest to largest\\n\\n\",sorted_idx)\n",
    "# print(\"\\nColumn headers\\n\\n\",X.columns[sorted_idx])\n",
    "# print(\"\\nRearranged accordingly\\n\\n\",feature_importance[sorted_idx])\n",
    "# print(\"\\nPosition on the y axis\\n\\n\", pos)"
   ]
  },
  {
   "cell_type": "markdown",
   "metadata": {},
   "source": [
    "### XGBoost"
   ]
  },
  {
   "cell_type": "code",
   "execution_count": 149,
   "metadata": {},
   "outputs": [
    {
     "name": "stdout",
     "output_type": "stream",
     "text": [
      "\n",
      " Confusion Matrix\n",
      "Predicted     0     1\n",
      "True                 \n",
      "0          1719   760\n",
      "1           696  1783\n",
      "              precision    recall  f1-score   support\n",
      "\n",
      "           0       0.71      0.69      0.70      2479\n",
      "           1       0.70      0.72      0.71      2479\n",
      "\n",
      "   micro avg       0.71      0.71      0.71      4958\n",
      "   macro avg       0.71      0.71      0.71      4958\n",
      "weighted avg       0.71      0.71      0.71      4958\n",
      "\n",
      "ROC-AUC 0.7063331988705122\n",
      "PR-AUC-Score 0.6446685385710277\n",
      "Accuracy:  0.7063331988705123\n"
     ]
    }
   ],
   "source": [
    "from xgboost import XGBClassifier\n",
    "xgboost_model = XGBClassifier()\n",
    "# balanced dataset\n",
    "xgboost_model.fit(X_train_rt, y_train_resampled)\n",
    "y_pred = xgboost_model.predict(X_test_rt)\n",
    "print('\\n Confusion Matrix')\n",
    "print(pd.crosstab(y_test_resampled, y_pred, rownames=['True'], colnames=['Predicted']))\n",
    "print(classification_report(y_test_resampled, y_pred))\n",
    "print(\"ROC-AUC\", roc_auc_score(y_test_resampled, y_pred))\n",
    "print(\"PR-AUC-Score\", average_precision_score(y_test_resampled, y_pred))\n",
    "print(\"Accuracy: \", accuracy_score(y_test_resampled, y_pred))\n"
   ]
  },
  {
   "cell_type": "code",
   "execution_count": 150,
   "metadata": {},
   "outputs": [
    {
     "data": {
      "image/png": "[encoded data removed]",
      "text/plain": [
       "<Figure size 576x432 with 1 Axes>"
      ]
     },
     "metadata": {},
     "output_type": "display_data"
    }
   ],
   "source": [
    "feature_importance = xgboost_model.feature_importances_\n",
    "# Make importances relative to max importance.\n",
    "feature_importance = 100.0 * (feature_importance / feature_importance.max())\n",
    "# argsort sorts from smallest to largest\n",
    "sorted_idx = np.argsort(feature_importance)[-30:]\n",
    "pos = np.arange(sorted_idx.shape[0]) + .9\n",
    "# # use only one column of a 1 x 2 figure\n",
    "plt.subplot(1, 2, 2)\n",
    "# pos is the postion of the bars on the y axis\n",
    "# feature_importance[sorted_idx] is the width of the bars\n",
    "plt.barh(pos, feature_importance[sorted_idx], align='center')\n",
    "plt.yticks(pos, np.array(all_the_features)[[sorted_idx]])\n",
    "plt.xlabel('Relative Importance')\n",
    "plt.title('Variable Importance')\n",
    "plt.show()\n",
    "# print(\"\\nColumn headers\\n\\n\",X.columns)\n",
    "# print(\"\\n Feature Importance\", feature_importance)\n",
    "# print(\"\\nargsorted from smallest to largest\\n\\n\",sorted_idx)\n",
    "# print(\"\\nColumn headers\\n\\n\",X.columns[sorted_idx])\n",
    "# print(\"\\nRearranged accordingly\\n\\n\",feature_importance[sorted_idx])\n",
    "# print(\"\\nPosition on the y axis\\n\\n\", pos)"
   ]
  },
  {
   "cell_type": "markdown",
   "metadata": {},
   "source": [
    "## 4. Parameter Tuning"
   ]
  },
  {
   "cell_type": "markdown",
   "metadata": {},
   "source": [
    "### Best Parameters for Logistic Regression"
   ]
  },
  {
   "cell_type": "code",
   "execution_count": 207,
   "metadata": {},
   "outputs": [],
   "source": [
    "from sklearn.model_selection import ParameterGrid, GridSearchCV\n",
    "pipeline = Pipeline([('DFC', DistanceFeaturesCreator()),('imputer', SimpleImputer(strategy=\"mean\")), \n",
    "                     (\"scale-normalize\", CustomNormalizer()),(\"logistic\", LogisticRegression())])"
   ]
  },
  {
   "cell_type": "code",
   "execution_count": 208,
   "metadata": {},
   "outputs": [
    {
     "name": "stdout",
     "output_type": "stream",
     "text": [
      "Best parameter (CV score=0.714):\n",
      "{'logistic__C': 1.25, 'logistic__penalty': 'l2'}\n"
     ]
    }
   ],
   "source": [
    "param_grid = {'logistic__C': [0.1, 0.15, 0.2, 0.25, 0.5, 0.8, 1.0, 1.25], \n",
    "                   'logistic__penalty' :['l2']\n",
    "                  }\n",
    "search = GridSearchCV(pipeline, param_grid, iid=False, cv=3,\n",
    "                      return_train_score=True, n_jobs=-1)\n",
    "search.fit(X_train_rt, y_train_resampled)\n",
    "print(\"Best parameter (CV score=%0.3f):\" % search.best_score_)\n",
    "print(search.best_params_)"
   ]
  },
  {
   "cell_type": "markdown",
   "metadata": {},
   "source": [
    "### Best Parameters for LightGBM"
   ]
  },
  {
   "cell_type": "code",
   "execution_count": 203,
   "metadata": {},
   "outputs": [
    {
     "name": "stdout",
     "output_type": "stream",
     "text": [
      "Fitting 3 folds for each of 24 candidates, totalling 72 fits\n"
     ]
    },
    {
     "name": "stderr",
     "output_type": "stream",
     "text": [
      "[Parallel(n_jobs=-1)]: Using backend LokyBackend with 4 concurrent workers.\n",
      "[Parallel(n_jobs=-1)]: Done  42 tasks      | elapsed: 74.3min\n",
      "[Parallel(n_jobs=-1)]: Done  72 out of  72 | elapsed: 117.0min finished\n"
     ]
    },
    {
     "name": "stdout",
     "output_type": "stream",
     "text": [
      "{'lgbm_classifier__bagging_fraction': 0.8, 'lgbm_classifier__bagging_freq': 10, 'lgbm_classifier__boosting_type': 'gbdt', 'lgbm_classifier__feature_fraction': 0.7, 'lgbm_classifier__learning_rate': 0.01, 'lgbm_classifier__max_bin': 300, 'lgbm_classifier__max_depth': 30, 'lgbm_classifier__metric': 'binary_error', 'lgbm_classifier__min_data_in_leaf': 50, 'lgbm_classifier__n_estimators': 100, 'lgbm_classifier__num_leaves': 150, 'lgbm_classifier__objective': 'binary', 'lgbm_classifier__reg_alpha': 1.2, 'lgbm_classifier__reg_lambda': 1.2, 'lgbm_classifier__subsample': 0.7}\n",
      "0.7127799072019366\n"
     ]
    }
   ],
   "source": [
    "#https://lightgbm.readthedocs.io/en/latest/Parameters.html\n",
    "import lightgbm as lgb\n",
    "lgbm_classifier = lgb.LGBMClassifier(silent=False, n_jobs=20)\n",
    "\n",
    "# Create parameters to search\n",
    "gridParams = {}\n",
    "gridParams['lgbm_classifier__metric'] = ['binary_error']\n",
    "gridParams['lgbm_classifier__objective'] = ['binary']\n",
    "gridParams['lgbm_classifier__max_bin'] = [300]\n",
    "\n",
    "# the following parameters prevent overfitting\n",
    "gridParams['lgbm_classifier__num_leaves'] = [150]\n",
    "gridParams['lgbm_classifier__min_data_in_leaf'] = [50, 100]\n",
    "#gridParams['lgbm_classifier__min_sum_hessian_in_leaf']\n",
    "gridParams['lgbm_classifier__bagging_fraction'] =[0.8]\n",
    "gridParams['lgbm_classifier__bagging_freq'] = [5,10]\n",
    "gridParams['lgbm_classifier__feature_fraction'] = [0.7, 0.8]\n",
    "\n",
    "gridParams['lgbm_classifier__learning_rate'] = [0.01]\n",
    "gridParams['lgbm_classifier__n_estimators'] = [100]\n",
    "gridParams['lgbm_classifier__max_depth'] = [30]\n",
    "gridParams['lgbm_classifier__boosting_type'] = ['gbdt']\n",
    "gridParams['lgbm_classifier__subsample'] = [0.7, 0.75, 0.80]\n",
    "gridParams['lgbm_classifier__reg_alpha'] = [1.2]\n",
    "gridParams['lgbm_classifier__reg_lambda'] = [1.2]\n",
    "\n",
    "pipeline = Pipeline([('DFC', DistanceFeaturesCreator()),('imputer', SimpleImputer(strategy=\"mean\")), \n",
    "                     (\"scale-normalize\", CustomNormalizer()),(\"lgbm_classifier\", lgbm_classifier)])\n",
    "# Create the grid\n",
    "grid = GridSearchCV(pipeline, gridParams, verbose=1, cv=3, n_jobs=-1)\n",
    "\n",
    "lgb_train_data2 =lgb.Dataset(X_train_rt,label=y_train_resampled)\n",
    "\n",
    "grid.fit(X_train_rt, y_train_resampled)\n",
    "\n",
    "# Print the best parameters found\n",
    "print(grid.best_params_)\n",
    "print(grid.best_score_)"
   ]
  },
  {
   "cell_type": "code",
   "execution_count": 204,
   "metadata": {},
   "outputs": [
    {
     "name": "stdout",
     "output_type": "stream",
     "text": [
      "Fitting 3 folds for each of 48 candidates, totalling 144 fits\n"
     ]
    },
    {
     "name": "stderr",
     "output_type": "stream",
     "text": [
      "[Parallel(n_jobs=-1)]: Using backend LokyBackend with 4 concurrent workers.\n",
      "[Parallel(n_jobs=-1)]: Done  42 tasks      | elapsed: 57.8min\n",
      "[Parallel(n_jobs=-1)]: Done 144 out of 144 | elapsed: 188.7min finished\n"
     ]
    },
    {
     "name": "stdout",
     "output_type": "stream",
     "text": [
      "{'lgbm_classifier__bagging_fraction': 0.7, 'lgbm_classifier__bagging_freq': 10, 'lgbm_classifier__boosting_type': 'gbdt', 'lgbm_classifier__feature_fraction': 0.6, 'lgbm_classifier__learning_rate': 0.01, 'lgbm_classifier__max_bin': 300, 'lgbm_classifier__max_depth': 20, 'lgbm_classifier__metric': 'binary_error', 'lgbm_classifier__min_data_in_leaf': 50, 'lgbm_classifier__n_estimators': 100, 'lgbm_classifier__num_leaves': 100, 'lgbm_classifier__objective': 'binary', 'lgbm_classifier__reg_alpha': 1.2, 'lgbm_classifier__reg_lambda': 1.2, 'lgbm_classifier__subsample': 0.6}\n",
      "0.715856364736736\n"
     ]
    }
   ],
   "source": [
    "#https://lightgbm.readthedocs.io/en/latest/Parameters.html\n",
    "import lightgbm as lgb\n",
    "lgbm_classifier = lgb.LGBMClassifier(silent=False, n_jobs=20)\n",
    "\n",
    "# Create parameters to search\n",
    "gridParams = {}\n",
    "gridParams['lgbm_classifier__metric'] = ['binary_error']\n",
    "gridParams['lgbm_classifier__objective'] = ['binary']\n",
    "gridParams['lgbm_classifier__max_bin'] = [300]\n",
    "\n",
    "# the following parameters prevent overfitting\n",
    "gridParams['lgbm_classifier__num_leaves'] = [100,150]\n",
    "gridParams['lgbm_classifier__min_data_in_leaf'] = [40, 50]\n",
    "#gridParams['lgbm_classifier__min_sum_hessian_in_leaf']\n",
    "gridParams['lgbm_classifier__bagging_fraction'] =[0.7]\n",
    "gridParams['lgbm_classifier__bagging_freq'] = [10]\n",
    "gridParams['lgbm_classifier__feature_fraction'] = [0.6, 0.7, 0.8]\n",
    "\n",
    "gridParams['lgbm_classifier__learning_rate'] = [0.01]\n",
    "gridParams['lgbm_classifier__n_estimators'] = [100]\n",
    "gridParams['lgbm_classifier__max_depth'] = [20,30]\n",
    "gridParams['lgbm_classifier__boosting_type'] = ['gbdt']\n",
    "gridParams['lgbm_classifier__subsample'] = [0.6, 0.7]\n",
    "gridParams['lgbm_classifier__reg_alpha'] = [1.2]\n",
    "gridParams['lgbm_classifier__reg_lambda'] = [1.2]\n",
    "\n",
    "pipeline = Pipeline([('DFC', DistanceFeaturesCreator()),('imputer', SimpleImputer(strategy=\"mean\")), \n",
    "                     (\"scale-normalize\", CustomNormalizer()),(\"lgbm_classifier\", lgbm_classifier)])\n",
    "# Create the grid\n",
    "grid = GridSearchCV(pipeline, gridParams, verbose=1, cv=3, n_jobs=-1)\n",
    "\n",
    "lgb_train_data2 =lgb.Dataset(X_train_rt,label=y_train_resampled)\n",
    "\n",
    "grid.fit(X_train_rt, y_train_resampled)\n",
    "\n",
    "# Print the best parameters found\n",
    "print(grid.best_params_)\n",
    "print(grid.best_score_)"
   ]
  },
  {
   "cell_type": "code",
   "execution_count": 205,
   "metadata": {},
   "outputs": [
    {
     "name": "stdout",
     "output_type": "stream",
     "text": [
      "Fitting 3 folds for each of 96 candidates, totalling 288 fits\n"
     ]
    },
    {
     "name": "stderr",
     "output_type": "stream",
     "text": [
      "[Parallel(n_jobs=-1)]: Using backend LokyBackend with 4 concurrent workers.\n",
      "[Parallel(n_jobs=-1)]: Done  42 tasks      | elapsed: 51.4min\n",
      "[Parallel(n_jobs=-1)]: Done 192 tasks      | elapsed: 266.8min\n",
      "[Parallel(n_jobs=-1)]: Done 288 out of 288 | elapsed: 396.1min finished\n"
     ]
    },
    {
     "name": "stdout",
     "output_type": "stream",
     "text": [
      "{'lgbm_classifier__bagging_fraction': 0.65, 'lgbm_classifier__bagging_freq': 10, 'lgbm_classifier__boosting_type': 'gbdt', 'lgbm_classifier__feature_fraction': 0.5, 'lgbm_classifier__learning_rate': 0.01, 'lgbm_classifier__max_bin': 300, 'lgbm_classifier__max_depth': 20, 'lgbm_classifier__metric': 'binary_error', 'lgbm_classifier__min_data_in_leaf': 60, 'lgbm_classifier__n_estimators': 100, 'lgbm_classifier__num_leaves': 100, 'lgbm_classifier__objective': 'binary', 'lgbm_classifier__reg_alpha': 1.2, 'lgbm_classifier__reg_lambda': 1.2, 'lgbm_classifier__subsample': 0.6}\n",
      "0.7143937865644543\n"
     ]
    }
   ],
   "source": [
    "#https://lightgbm.readthedocs.io/en/latest/Parameters.html\n",
    "import lightgbm as lgb\n",
    "lgbm_classifier = lgb.LGBMClassifier(silent=False, n_jobs=20)\n",
    "\n",
    "# Create parameters to search\n",
    "gridParams = {}\n",
    "gridParams['lgbm_classifier__metric'] = ['binary_error']\n",
    "gridParams['lgbm_classifier__objective'] = ['binary']\n",
    "gridParams['lgbm_classifier__max_bin'] = [300]\n",
    "\n",
    "# the following parameters prevent overfitting\n",
    "gridParams['lgbm_classifier__num_leaves'] = [100,150]\n",
    "gridParams['lgbm_classifier__min_data_in_leaf'] = [60, 70]\n",
    "#gridParams['lgbm_classifier__min_sum_hessian_in_leaf']\n",
    "gridParams['lgbm_classifier__bagging_fraction'] =[0.6, 0.65]\n",
    "gridParams['lgbm_classifier__bagging_freq'] = [10]\n",
    "gridParams['lgbm_classifier__feature_fraction'] = [0.5, 0.6, 0.7]\n",
    "\n",
    "gridParams['lgbm_classifier__learning_rate'] = [0.01]\n",
    "gridParams['lgbm_classifier__n_estimators'] = [100]\n",
    "gridParams['lgbm_classifier__max_depth'] = [20, 25]\n",
    "gridParams['lgbm_classifier__boosting_type'] = ['gbdt']\n",
    "gridParams['lgbm_classifier__subsample'] = [0.6, 0.65]\n",
    "gridParams['lgbm_classifier__reg_alpha'] = [1.2]\n",
    "gridParams['lgbm_classifier__reg_lambda'] = [1.2]\n",
    "\n",
    "pipeline = Pipeline([('DFC', DistanceFeaturesCreator()),('imputer', SimpleImputer(strategy=\"mean\")), \n",
    "                     (\"scale-normalize\", CustomNormalizer()),(\"lgbm_classifier\", lgbm_classifier)])\n",
    "# Create the grid\n",
    "grid = GridSearchCV(pipeline, gridParams, verbose=1, cv=3, n_jobs=-1)\n",
    "\n",
    "lgb_train_data2 =lgb.Dataset(X_train_rt,label=y_train_resampled)\n",
    "\n",
    "grid.fit(X_train_rt, y_train_resampled)\n",
    "\n",
    "# Print the best parameters found\n",
    "print(grid.best_params_)\n",
    "print(grid.best_score_)"
   ]
  },
  {
   "cell_type": "code",
   "execution_count": null,
   "metadata": {},
   "outputs": [],
   "source": [
    "# only the first 7 features\n",
    "logistic_model3 = LogisticRegression(penalty='l2', C=1.2)\n",
    "logistic_model3.fit(X_train_rt.tocsr()[:, :7], y_train_resampled)\n",
    "y_pred = logistic_model3.predict(X_test_rt.tocsr()[:, :7])\n",
    "print('\\n Confusion Matrix')\n",
    "print(pd.crosstab(y_test_resampled, y_pred, rownames=['True'], colnames=['Predicted']))\n",
    "print(classification_report(y_test_resampled, y_pred))\n",
    "print(\"ROC-AUC\", roc_auc_score(y_test_resampled, y_pred))\n",
    "print(\"PR-AUC-Score\", average_precision_score(y_test_resampled, y_pred))\n",
    "print(\"Accuracy: \", accuracy_score(y_test_resampled, y_pred))"
   ]
  },
  {
   "cell_type": "code",
   "execution_count": null,
   "metadata": {},
   "outputs": [],
   "source": []
  },
  {
   "cell_type": "code",
   "execution_count": null,
   "metadata": {},
   "outputs": [],
   "source": [
    "# only bag of wrods\n",
    "logistic_model4 = LogisticRegression(penalty='l1', C=1.27)\n",
    "logistic_model4.fit(X_train_rt.tocsr()[:, 7:], y_train_resampled)\n",
    "y_pred = logistic_model4.predict(X_test_rt.tocsr()[:, 7:])\n",
    "print('\\n Confusion Matrix')\n",
    "print(pd.crosstab(y_test_resampled, y_pred, rownames=['True'], colnames=['Predicted']))\n",
    "print(classification_report(y_test_resampled, y_pred))\n",
    "print(\"ROC-AUC\", roc_auc_score(y_test_resampled, y_pred))\n",
    "print(\"PR-AUC-Score\", average_precision_score(y_test_resampled, y_pred))\n",
    "print(\"Accuracy: \", accuracy_score(y_test_resampled, y_pred))"
   ]
  },
  {
   "cell_type": "code",
   "execution_count": null,
   "metadata": {},
   "outputs": [],
   "source": [
    "# balanced dataset only 7 features\n",
    "from sklearn.ensemble import GradientBoostingClassifier\n",
    "gbc_model3 = GradientBoostingClassifier(max_depth=4, subsample=0.6)\n",
    "gbc_model3.fit(X_train_rt[:, :7], y_train_resampled)\n",
    "y_pred = gbc_model3.predict(X_test_rt[:, :7])\n",
    "print('\\n Confusion Matrix')\n",
    "print(pd.crosstab(y_test_resampled, y_pred, rownames=['True'], colnames=['Predicted']))\n",
    "print(classification_report(y_test_resampled, y_pred))\n",
    "print(\"ROC-AUC\", roc_auc_score(y_test_resampled, y_pred))\n",
    "print(\"PR-AUC-Score\", average_precision_score(y_test_resampled, y_pred))\n",
    "print(\"Accuracy: \", accuracy_score(y_test_resampled, y_pred))"
   ]
  },
  {
   "cell_type": "code",
   "execution_count": null,
   "metadata": {},
   "outputs": [],
   "source": [
    "# balanced dataset, bag of words\n",
    "from sklearn.ensemble import GradientBoostingClassifier\n",
    "gbc_model3 = GradientBoostingClassifier(max_depth=3, subsample=0.6)\n",
    "gbc_model3.fit(X_train_rt[:, 7:], y_train_resampled)\n",
    "y_pred = gbc_model3.predict(X_test_rt[:, 7:])\n",
    "print('\\n Confusion Matrix')\n",
    "print(pd.crosstab(y_test_resampled, y_pred, rownames=['True'], colnames=['Predicted']))\n",
    "print(classification_report(y_test_resampled, y_pred))\n",
    "print(\"ROC-AUC\", roc_auc_score(y_test_resampled, y_pred))\n",
    "print(\"PR-AUC-Score\", average_precision_score(y_test_resampled, y_pred))\n",
    "print(\"Accuracy: \", accuracy_score(y_test_resampled, y_pred))"
   ]
  }
 ],
 "metadata": {
  "kernelspec": {
   "display_name": "Python 3",
   "language": "python",
   "name": "python3"
  },
  "language_info": {
   "codemirror_mode": {
    "name": "ipython",
    "version": 3
   },
   "file_extension": ".py",
   "mimetype": "text/x-python",
   "name": "python",
   "nbconvert_exporter": "python",
   "pygments_lexer": "ipython3",
   "version": "3.7.1"
  }
 },
 "nbformat": 4,
 "nbformat_minor": 2
}
