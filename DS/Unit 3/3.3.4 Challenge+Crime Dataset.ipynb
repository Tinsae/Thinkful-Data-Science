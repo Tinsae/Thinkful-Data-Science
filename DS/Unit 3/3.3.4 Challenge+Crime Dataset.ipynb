{
 "cells": [
  {
   "cell_type": "markdown",
   "metadata": {},
   "source": [
    "## Part 1: Crime Dataset"
   ]
  },
  {
   "cell_type": "markdown",
   "metadata": {},
   "source": [
    "#### Load, Explore and Clean "
   ]
  },
  {
   "cell_type": "code",
   "execution_count": 1,
   "metadata": {},
   "outputs": [
    {
     "name": "stdout",
     "output_type": "stream",
     "text": [
      "348\n"
     ]
    },
    {
     "data": {
      "text/html": [
       "<div>\n",
       "<style scoped>\n",
       "    .dataframe tbody tr th:only-of-type {\n",
       "        vertical-align: middle;\n",
       "    }\n",
       "\n",
       "    .dataframe tbody tr th {\n",
       "        vertical-align: top;\n",
       "    }\n",
       "\n",
       "    .dataframe thead th {\n",
       "        text-align: right;\n",
       "    }\n",
       "</style>\n",
       "<table border=\"1\" class=\"dataframe\">\n",
       "  <thead>\n",
       "    <tr style=\"text-align: right;\">\n",
       "      <th></th>\n",
       "      <th>city</th>\n",
       "      <th>population</th>\n",
       "      <th>violent_crime</th>\n",
       "      <th>murder_and_nonnegligent_manslaughter</th>\n",
       "      <th>rape1</th>\n",
       "      <th>rape2</th>\n",
       "      <th>robbery</th>\n",
       "      <th>aggravated_assault</th>\n",
       "      <th>property_crime</th>\n",
       "      <th>burglary</th>\n",
       "      <th>larceny_theft</th>\n",
       "      <th>motor_vehicle_theft</th>\n",
       "      <th>arson3</th>\n",
       "    </tr>\n",
       "  </thead>\n",
       "  <tbody>\n",
       "    <tr>\n",
       "      <th>343</th>\n",
       "      <td>Woodbury Town</td>\n",
       "      <td>10685</td>\n",
       "      <td>3</td>\n",
       "      <td>0</td>\n",
       "      <td>NaN</td>\n",
       "      <td>0</td>\n",
       "      <td>2</td>\n",
       "      <td>1</td>\n",
       "      <td>541</td>\n",
       "      <td>9</td>\n",
       "      <td>529</td>\n",
       "      <td>3</td>\n",
       "      <td>NaN</td>\n",
       "    </tr>\n",
       "    <tr>\n",
       "      <th>344</th>\n",
       "      <td>Woodridge Village</td>\n",
       "      <td>829</td>\n",
       "      <td>7</td>\n",
       "      <td>0</td>\n",
       "      <td>NaN</td>\n",
       "      <td>0</td>\n",
       "      <td>0</td>\n",
       "      <td>7</td>\n",
       "      <td>17</td>\n",
       "      <td>8</td>\n",
       "      <td>9</td>\n",
       "      <td>0</td>\n",
       "      <td>0.0</td>\n",
       "    </tr>\n",
       "    <tr>\n",
       "      <th>345</th>\n",
       "      <td>Woodstock Town</td>\n",
       "      <td>5931</td>\n",
       "      <td>2</td>\n",
       "      <td>0</td>\n",
       "      <td>NaN</td>\n",
       "      <td>0</td>\n",
       "      <td>0</td>\n",
       "      <td>2</td>\n",
       "      <td>58</td>\n",
       "      <td>13</td>\n",
       "      <td>45</td>\n",
       "      <td>0</td>\n",
       "      <td>NaN</td>\n",
       "    </tr>\n",
       "    <tr>\n",
       "      <th>346</th>\n",
       "      <td>Yonkers</td>\n",
       "      <td>199134</td>\n",
       "      <td>1036</td>\n",
       "      <td>6</td>\n",
       "      <td>NaN</td>\n",
       "      <td>25</td>\n",
       "      <td>390</td>\n",
       "      <td>615</td>\n",
       "      <td>2368</td>\n",
       "      <td>470</td>\n",
       "      <td>1662</td>\n",
       "      <td>236</td>\n",
       "      <td>10.0</td>\n",
       "    </tr>\n",
       "    <tr>\n",
       "      <th>347</th>\n",
       "      <td>Yorktown Town</td>\n",
       "      <td>36643</td>\n",
       "      <td>15</td>\n",
       "      <td>0</td>\n",
       "      <td>NaN</td>\n",
       "      <td>0</td>\n",
       "      <td>2</td>\n",
       "      <td>13</td>\n",
       "      <td>334</td>\n",
       "      <td>45</td>\n",
       "      <td>287</td>\n",
       "      <td>2</td>\n",
       "      <td>NaN</td>\n",
       "    </tr>\n",
       "  </tbody>\n",
       "</table>\n",
       "</div>"
      ],
      "text/plain": [
       "                  city  population  violent_crime  \\\n",
       "343      Woodbury Town       10685              3   \n",
       "344  Woodridge Village         829              7   \n",
       "345     Woodstock Town        5931              2   \n",
       "346            Yonkers      199134           1036   \n",
       "347      Yorktown Town       36643             15   \n",
       "\n",
       "     murder_and_nonnegligent_manslaughter  rape1  rape2  robbery  \\\n",
       "343                                     0    NaN      0        2   \n",
       "344                                     0    NaN      0        0   \n",
       "345                                     0    NaN      0        0   \n",
       "346                                     6    NaN     25      390   \n",
       "347                                     0    NaN      0        2   \n",
       "\n",
       "     aggravated_assault  property_crime  burglary  larceny_theft  \\\n",
       "343                   1             541         9            529   \n",
       "344                   7              17         8              9   \n",
       "345                   2              58        13             45   \n",
       "346                 615            2368       470           1662   \n",
       "347                  13             334        45            287   \n",
       "\n",
       "     motor_vehicle_theft  arson3  \n",
       "343                    3     NaN  \n",
       "344                    0     0.0  \n",
       "345                    0     NaN  \n",
       "346                  236    10.0  \n",
       "347                    2     NaN  "
      ]
     },
     "execution_count": 1,
     "metadata": {},
     "output_type": "execute_result"
    }
   ],
   "source": [
    "import pandas as pd\n",
    "import numpy as np\n",
    "import matplotlib.pyplot as plt\n",
    "import seaborn as sns\n",
    "from sklearn.linear_model import LinearRegression\n",
    "from scipy import stats\n",
    "newyork = pd.read_csv(\"../../../Data & Script/newyork_offence.csv\", skiprows=5, skipfooter=3, thousands=\",\", \n",
    "                      names=['city', 'population', 'violent_crime', 'murder_and_nonnegligent_manslaughter', 'rape1', 'rape2', 'robbery', \n",
    "                             'aggravated_assault', 'property_crime', 'burglary', 'larceny_theft', 'motor_vehicle_theft', 'arson3'], engine='python')\n",
    "import warnings\n",
    "warnings.filterwarnings(\"ignore\")\n",
    "print(len(newyork))\n",
    "newyork.tail()"
   ]
  },
  {
   "cell_type": "code",
   "execution_count": 2,
   "metadata": {},
   "outputs": [],
   "source": [
    "# see null values in all columns\n",
    "#print(newyork.isna().sum())\n",
    "# dropping column 4 and 12 because they contain a lot of null values\n",
    "newyork = newyork.drop(newyork.columns[4], axis=1)\n",
    "newyork = newyork.drop(newyork.columns[-1], axis=1)\n",
    "# drop a cell which contains atleast one missing values, \n",
    "newyork = newyork.dropna().reset_index(drop=True)"
   ]
  },
  {
   "cell_type": "code",
   "execution_count": 3,
   "metadata": {},
   "outputs": [],
   "source": [
    "# replace outlier with the mean\n",
    "# iteration determines how many times you want to run the replacement\n",
    "def replace_outliers_with_mean(datax, column, iteration):\n",
    "    replaced_numbers = set()\n",
    "    for i in range(iteration):\n",
    "        outliers = np.where(np.abs(stats.zscore(datax[column])) >= 3)\n",
    "        non_outliers = np.where(np.abs(stats.zscore(datax[column])) < 3)\n",
    "        the_mean = np.mean(non_outliers)\n",
    "        if(len(outliers[0]) > 0):\n",
    "            replaced_numbers.update(outliers[0])\n",
    "            # for each outlier in outliers list\n",
    "            for o in outliers:\n",
    "                datax.loc[o,column] = the_mean\n",
    "    return replaced_numbers"
   ]
  },
  {
   "cell_type": "code",
   "execution_count": 4,
   "metadata": {},
   "outputs": [
    {
     "name": "stdout",
     "output_type": "stream",
     "text": [
      "population {216}\n",
      "violent_crime {216}\n",
      "murder_and_nonnegligent_manslaughter {216}\n",
      "rape2 {216}\n",
      "robbery {216}\n",
      "aggravated_assault {216}\n",
      "property_crime {216}\n",
      "burglary {216, 35}\n",
      "larceny_theft {216}\n",
      "motor_vehicle_theft {216}\n"
     ]
    }
   ],
   "source": [
    "# replace outliers in all collumns with the mean of the column\n",
    "for col in newyork.columns[1:]:\n",
    "    # print which rows are replaced\n",
    "    replaced_numbers = replace_outliers_with_mean(newyork, col,1)\n",
    "    print(\"{} {}\".format(col.replace(\"\\n\", \" \"), replaced_numbers))"
   ]
  },
  {
   "cell_type": "markdown",
   "metadata": {},
   "source": [
    "#### Feature Selection"
   ]
  },
  {
   "cell_type": "code",
   "execution_count": 5,
   "metadata": {},
   "outputs": [],
   "source": [
    "#create the features\n",
    "newyork['pop_squared'] = newyork['population'] ** 2\n",
    "newyork['murder_cat'] = newyork['murder_and_nonnegligent_manslaughter'] > 0\n",
    "newyork['robbery_cat'] = newyork['robbery'] > 0"
   ]
  },
  {
   "cell_type": "code",
   "execution_count": 6,
   "metadata": {},
   "outputs": [],
   "source": [
    "# divide property crime into 5 bins. All bins contain the same amount of data\n",
    "newyork['property_crime_cat'] = pd.qcut(newyork['property_crime'], 10 , labels=range(10))"
   ]
  },
  {
   "cell_type": "code",
   "execution_count": 7,
   "metadata": {},
   "outputs": [
    {
     "data": {
      "text/html": [
       "<div>\n",
       "<style scoped>\n",
       "    .dataframe tbody tr th:only-of-type {\n",
       "        vertical-align: middle;\n",
       "    }\n",
       "\n",
       "    .dataframe tbody tr th {\n",
       "        vertical-align: top;\n",
       "    }\n",
       "\n",
       "    .dataframe thead th {\n",
       "        text-align: right;\n",
       "    }\n",
       "</style>\n",
       "<table border=\"1\" class=\"dataframe\">\n",
       "  <thead>\n",
       "    <tr style=\"text-align: right;\">\n",
       "      <th></th>\n",
       "      <th>property_crime</th>\n",
       "      <th>property_crime_cat</th>\n",
       "    </tr>\n",
       "  </thead>\n",
       "  <tbody>\n",
       "    <tr>\n",
       "      <th>0</th>\n",
       "      <td>12.0</td>\n",
       "      <td>0</td>\n",
       "    </tr>\n",
       "    <tr>\n",
       "      <th>1</th>\n",
       "      <td>24.0</td>\n",
       "      <td>1</td>\n",
       "    </tr>\n",
       "    <tr>\n",
       "      <th>2</th>\n",
       "      <td>16.0</td>\n",
       "      <td>1</td>\n",
       "    </tr>\n",
       "    <tr>\n",
       "      <th>3</th>\n",
       "      <td>4090.0</td>\n",
       "      <td>9</td>\n",
       "    </tr>\n",
       "    <tr>\n",
       "      <th>4</th>\n",
       "      <td>223.0</td>\n",
       "      <td>6</td>\n",
       "    </tr>\n",
       "  </tbody>\n",
       "</table>\n",
       "</div>"
      ],
      "text/plain": [
       "   property_crime property_crime_cat\n",
       "0            12.0                  0\n",
       "1            24.0                  1\n",
       "2            16.0                  1\n",
       "3          4090.0                  9\n",
       "4           223.0                  6"
      ]
     },
     "execution_count": 7,
     "metadata": {},
     "output_type": "execute_result"
    }
   ],
   "source": [
    "newyork[['property_crime', 'property_crime_cat']].head()"
   ]
  },
  {
   "cell_type": "code",
   "execution_count": 8,
   "metadata": {},
   "outputs": [],
   "source": [
    "X = newyork[['population', 'violent_crime', 'murder_and_nonnegligent_manslaughter', 'rape2', 'robbery', \n",
    "                             'aggravated_assault', 'burglary', 'larceny_theft', 'motor_vehicle_theft']]\n",
    "y = newyork.property_crime_cat"
   ]
  },
  {
   "cell_type": "markdown",
   "metadata": {},
   "source": [
    "##### Univarite Methods\n",
    "\n",
    "There are some drawbacks of using F-Test to select your features. F-Test checks for and only captures linear relationships between features and labels. \n",
    "A highly correlated feature is given higher score and less correlated features are given lower score. Correlation is highly deceptive as it doesn’t capture strong non-linear relationships.\n",
    "\n",
    "Advantage of using mutual information over F-Test is,  it does well with the non-linear relationship between feature and target variable."
   ]
  },
  {
   "cell_type": "code",
   "execution_count": 9,
   "metadata": {},
   "outputs": [],
   "source": [
    "from sklearn.feature_selection import SelectKBest, f_classif, mutual_info_classif"
   ]
  },
  {
   "cell_type": "code",
   "execution_count": 10,
   "metadata": {},
   "outputs": [
    {
     "name": "stdout",
     "output_type": "stream",
     "text": [
      "Index(['population', 'burglary', 'larceny_theft'], dtype='object')\n"
     ]
    }
   ],
   "source": [
    "selector_one = SelectKBest(f_classif , k=3)\n",
    "selector_one.fit(X, y)\n",
    "print(X.columns[selector_one.get_support(indices=True)])"
   ]
  },
  {
   "cell_type": "code",
   "execution_count": 11,
   "metadata": {},
   "outputs": [
    {
     "name": "stdout",
     "output_type": "stream",
     "text": [
      "Index(['violent_crime', 'burglary', 'larceny_theft'], dtype='object')\n"
     ]
    }
   ],
   "source": [
    "selector_two = SelectKBest(mutual_info_classif, k=3)\n",
    "selector_two.fit(X, y)\n",
    "print(X.columns[selector_two.get_support(indices=True)])"
   ]
  },
  {
   "cell_type": "code",
   "execution_count": 12,
   "metadata": {},
   "outputs": [
    {
     "data": {
      "text/plain": [
       "<seaborn.axisgrid.PairGrid at 0x17f117396a0>"
      ]
     },
     "execution_count": 12,
     "metadata": {},
     "output_type": "execute_result"
    },
    {
     "data": {
      "image/png": "[encoded data removed]",
      "text/plain": [
       "<Figure size 900x900 with 30 Axes>"
      ]
     },
     "metadata": {
      "needs_background": "light"
     },
     "output_type": "display_data"
    }
   ],
   "source": [
    "#Check linear relationship\n",
    "sns.pairplot(newyork[['property_crime_cat', 'population', 'burglary', 'larceny_theft', 'violent_crime' ]], kind='reg')"
   ]
  },
  {
   "cell_type": "markdown",
   "metadata": {},
   "source": [
    "##### Other Methods: Recursive feature elimination"
   ]
  },
  {
   "cell_type": "code",
   "execution_count": 13,
   "metadata": {},
   "outputs": [
    {
     "name": "stdout",
     "output_type": "stream",
     "text": [
      "Index(['burglary', 'larceny_theft', 'motor_vehicle_theft'], dtype='object')\n",
      "Optimal number of features : 3\n",
      "Index(['burglary', 'larceny_theft', 'motor_vehicle_theft'], dtype='object')\n",
      "score:  0.9971264367816092\n"
     ]
    },
    {
     "data": {
      "image/png": "[encoded data removed]",
      "text/plain": [
       "<Figure size 432x288 with 1 Axes>"
      ]
     },
     "metadata": {
      "needs_background": "light"
     },
     "output_type": "display_data"
    }
   ],
   "source": [
    "from sklearn.svm import SVC\n",
    "from sklearn.model_selection import StratifiedKFold\n",
    "from sklearn.feature_selection import RFECV \n",
    "# The \"accuracy\" scoring is proportional to the number of correct classifications\n",
    "selector_three = RFECV(estimator= SVC(kernel=\"linear\"), step=1, cv=StratifiedKFold(2),\n",
    "              scoring='accuracy')\n",
    "selector_three.fit(X, y)\n",
    "print(X.columns[selector_three.get_support(indices=True)])\n",
    "\n",
    "print(\"Optimal number of features : %d\" % selector_three.n_features_)\n",
    "print(X.columns[selector_three.get_support(indices=True)])\n",
    "print(\"score: \", selector_three.score(X, y))\n",
    "# Plot number of features VS. cross-validation scores\n",
    "plt.figure()\n",
    "plt.xlabel(\"Number of features selected\")\n",
    "plt.ylabel(\"Cross validation score (nb of correct classifications)\")\n",
    "plt.plot(range(1, len(selector_three.grid_scores_) + 1), selector_three.grid_scores_)\n",
    "plt.show()"
   ]
  },
  {
   "cell_type": "code",
   "execution_count": 14,
   "metadata": {},
   "outputs": [
    {
     "name": "stdout",
     "output_type": "stream",
     "text": [
      "Optimal number of features : 4\n",
      "Index(['population', 'violent_crime', 'burglary', 'larceny_theft'], dtype='object')\n",
      "0.9971264367816092\n"
     ]
    },
    {
     "data": {
      "image/png": "[encoded data removed]",
      "text/plain": [
       "<Figure size 432x288 with 1 Axes>"
      ]
     },
     "metadata": {
      "needs_background": "light"
     },
     "output_type": "display_data"
    }
   ],
   "source": [
    "from sklearn.ensemble import RandomForestClassifier\n",
    "from sklearn.feature_selection import RFECV\n",
    "# The \"accuracy\" scoring is proportional to the number of correct\n",
    "# classifications\n",
    "selector_four = RFECV(RandomForestClassifier(), scoring='accuracy')\n",
    "selector_four.fit(X, y)\n",
    "print(\"Optimal number of features : %d\" % selector_four.n_features_)\n",
    "print(X.columns[selector_four.get_support(indices=True)])\n",
    "print(selector_four.score(X,y))\n",
    "plt.figure()\n",
    "plt.xlabel(\"Number of features selected\")\n",
    "plt.ylabel(\"Cross validation score (nb of correct classifications)\")\n",
    "plt.plot(range(1, len(selector_four.grid_scores_) + 1), selector_four.grid_scores_)\n",
    "plt.show()"
   ]
  },
  {
   "cell_type": "code",
   "execution_count": 15,
   "metadata": {},
   "outputs": [],
   "source": [
    "from sklearn.model_selection import train_test_split\n",
    "X_train, X_test, y_train, y_test = train_test_split(X, y, test_size=0.2, random_state=20, shuffle=True)"
   ]
  },
  {
   "cell_type": "markdown",
   "metadata": {},
   "source": [
    "### Sklearn Logistic Regression\n",
    "\n",
    "multi_class : str, {‘ovr’, ‘multinomial’, ‘auto’}, default: ‘ovr’\n",
    "If the option chosen is ‘ovr’, then a binary problem is fit for each label. For ‘multinomial’ the loss minimised is the multinomial loss fit across the entire probability distribution, even when the data is binary. ‘multinomial’ is unavailable when solver=’liblinear’. ‘auto’ selects ‘ovr’ if the data is binary, or if solver=’liblinear’, and otherwise selects ‘multinomial’.\n",
    "\n",
    "\n",
    "solver : str, {‘newton-cg’, ‘lbfgs’, ‘liblinear’, ‘sag’, ‘saga’}, default: ‘liblinear’.\n",
    "Algorithm to use in the optimization problem.\n",
    "\n",
    "For small datasets, ‘liblinear’ is a good choice, whereas ‘sag’ and ‘saga’ are faster for large ones.\n",
    "For multiclass problems, only ‘newton-cg’, ‘sag’, ‘saga’ and ‘lbfgs’ handle multinomial loss; ‘liblinear’ is limited to one-versus-rest schemes.\n",
    "‘newton-cg’, ‘lbfgs’ and ‘sag’ only handle L2 penalty, whereas ‘liblinear’ and ‘saga’ handle L1 penalty."
   ]
  },
  {
   "cell_type": "markdown",
   "metadata": {},
   "source": [
    "##### Vanilla logistic regression\n",
    "\n",
    "C : float, default: 1.0\n",
    "Inverse of regularization strength; must be a positive float. \n",
    "Like in support vector machines, smaller values specify stronger regularization."
   ]
  },
  {
   "cell_type": "code",
   "execution_count": 16,
   "metadata": {},
   "outputs": [
    {
     "name": "stdout",
     "output_type": "stream",
     "text": [
      "Coefficients\n",
      "[[  1.30910023 -11.34149496 -10.7241811 ]\n",
      " [ -0.95605867  -4.76830467  -4.52366972]\n",
      " [ -0.8483004   -1.39188493  -1.29984385]\n",
      " [ -0.01839922   0.17344379   0.49647142]\n",
      " [ -0.18118301   1.66066667   1.648392  ]\n",
      " [  0.12128569   2.43266617   2.23780581]\n",
      " [  0.22242733   2.87402178   2.79030066]\n",
      " [  0.25779623   3.2101299    2.9483072 ]\n",
      " [  0.04703221   3.48163827   3.16289228]\n",
      " [  0.04632506   3.66917898   3.2640013 ]]\n",
      "[ 388.08010802  303.32091694  202.31422761  113.66802291   25.46567857\n",
      "  -46.25241522 -139.38786247 -190.29393404 -279.38596437 -377.52877745]\n",
      "\n",
      " Accuracy\n",
      "Predicted   0   1   2   3   4   5   6   7   8   9\n",
      "True                                             \n",
      "0          31   0   0   0   0   0   0   0   0   0\n",
      "1           0  28   1   0   0   0   0   0   0   0\n",
      "2           0   1  28   0   0   0   0   0   0   0\n",
      "3           0   0   0  28   0   0   0   0   0   0\n",
      "4           0   0   0   0  26   1   0   0   0   0\n",
      "5           0   0   0   0   1  24   0   0   0   0\n",
      "6           0   0   0   0   0   0  27   0   0   0\n",
      "7           0   0   0   0   0   0   0  25   0   0\n",
      "8           0   0   0   0   0   0   0   0  29   0\n",
      "9           0   0   0   0   0   0   0   0   0  28\n",
      "\n",
      " Percentage accuracy\n",
      "training:  0.9856115107913669\n",
      "testing:  0.9142857142857143\n"
     ]
    }
   ],
   "source": [
    "from sklearn.linear_model import LogisticRegression\n",
    "X_train_t = selector_two.transform(X_train)\n",
    "X_test_t = selector_two.transform(X_test)\n",
    "# no regularization(becasue the inverse regularization is big)\n",
    "modelA = LogisticRegression(C=1e20, solver='newton-cg', multi_class='multinomial')\n",
    "modelA.fit(X_train_t, y_train)\n",
    "\n",
    "# Display.\n",
    "print('Coefficients')\n",
    "print(modelA.coef_)\n",
    "print(modelA.intercept_)\n",
    "yhat = modelA.predict(X_train_t)\n",
    "\n",
    "print('\\n Accuracy')\n",
    "print(pd.crosstab(y_train, yhat, rownames=['True'], colnames=['Predicted']))\n",
    "\n",
    "print('\\n Percentage accuracy')\n",
    "print(\"training: \", modelA.score(X_train_t, y_train))\n",
    "print(\"testing: \", modelA.score(X_test_t, y_test))"
   ]
  },
  {
   "cell_type": "markdown",
   "metadata": {},
   "source": [
    "* Without regularization, newton achived maximum possible performance\n",
    "* At first I was using only 5 categories for property_crime and the performance of Vanilla logistic regression became one on both train and test sets. The model will be more useful with more categories, thus I incresed the categories to 10.\n"
   ]
  },
  {
   "cell_type": "markdown",
   "metadata": {},
   "source": [
    "#### Ridge logistic regression"
   ]
  },
  {
   "cell_type": "code",
   "execution_count": 17,
   "metadata": {},
   "outputs": [
    {
     "name": "stdout",
     "output_type": "stream",
     "text": [
      "Coefficients\n",
      "[[-0.17381806 -2.13428731 -2.21236101]\n",
      " [-0.35879518 -1.09325315 -1.31889697]\n",
      " [-0.13366572 -0.61227006 -0.73795425]\n",
      " [ 0.02632275 -0.21266151 -0.20295706]\n",
      " [ 0.0325985   0.10760207  0.16621228]\n",
      " [ 0.1080901   0.35834526  0.44684896]\n",
      " [ 0.17797019  0.57832149  0.7439411 ]\n",
      " [ 0.21163354  0.8186169   0.87704721]\n",
      " [ 0.05121293  1.01558545  1.06372141]\n",
      " [ 0.05844127  1.17386488  1.17422499]]\n",
      "[ 132.20329776  119.77802776  102.41802028   76.82097483   50.27485422\n",
      "   18.59820953  -31.0631693   -72.29165294 -147.85667864 -248.8818835 ]\n",
      "\n",
      " Accuracy\n",
      "Predicted   0   1   2   3   4   5   6   7   8   9\n",
      "True                                             \n",
      "0          31   0   0   0   0   0   0   0   0   0\n",
      "1           0  27   2   0   0   0   0   0   0   0\n",
      "2           0   0  29   0   0   0   0   0   0   0\n",
      "3           0   0   0  28   0   0   0   0   0   0\n",
      "4           0   0   0   0  27   0   0   0   0   0\n",
      "5           0   0   0   0   1  24   0   0   0   0\n",
      "6           0   0   0   0   0   0  27   0   0   0\n",
      "7           0   0   0   0   0   0   0  25   0   0\n",
      "8           0   0   0   0   0   0   0   0  29   0\n",
      "9           0   0   0   0   0   0   0   0   0  28\n",
      "\n",
      " Percentage accuracy\n",
      "training:  0.9892086330935251\n",
      "testing:  0.9285714285714286\n"
     ]
    }
   ],
   "source": [
    "from sklearn.linear_model import LogisticRegression\n",
    "X_train_t = selector_two.transform(X_train)\n",
    "X_test_t = selector_two.transform(X_test)\n",
    "# \n",
    "modelB = LogisticRegression(penalty='l2', solver='newton-cg', C=1, multi_class='multinomial')\n",
    "modelB.fit(X_train_t, y_train)\n",
    "\n",
    "# Display.\n",
    "print('Coefficients')\n",
    "print(modelB.coef_)\n",
    "print(modelB.intercept_)\n",
    "yhat = modelB.predict(X_train_t)\n",
    "\n",
    "print('\\n Accuracy')\n",
    "print(pd.crosstab(y_train, yhat, rownames=['True'], colnames=['Predicted']))\n",
    "\n",
    "print('\\n Percentage accuracy')\n",
    "print(\"training: \", modelB.score(X_train_t, y_train))\n",
    "print(\"testing: \", modelB.score(X_test_t, y_test))"
   ]
  },
  {
   "cell_type": "markdown",
   "metadata": {},
   "source": [
    "- multinomial with newton-cg performed very well, and it is better on the test set than vanilla logistic regression\n",
    "- The default penality performs better on the test-set"
   ]
  },
  {
   "cell_type": "markdown",
   "metadata": {},
   "source": [
    "#### Lasso logistic regression"
   ]
  },
  {
   "cell_type": "code",
   "execution_count": 18,
   "metadata": {},
   "outputs": [
    {
     "name": "stdout",
     "output_type": "stream",
     "text": [
      "Coefficients\n",
      "[[ 4.22312984e-02 -6.77008701e-01 -4.11528210e-01]\n",
      " [-7.37777261e-02  5.37694260e-02 -6.07786747e-02]\n",
      " [-8.68266118e-03 -1.01683960e-02 -1.76243278e-02]\n",
      " [-4.04068963e-02  1.39245518e-02 -9.47396694e-03]\n",
      " [-9.10598360e-03  3.52878043e-03 -4.38602716e-03]\n",
      " [-1.18599356e-02  1.54453112e-02 -4.12831376e-03]\n",
      " [-2.39676382e-03 -7.91578814e-03  8.44184674e-04]\n",
      " [-6.31981005e-03  2.57713559e-03  6.15154576e-04]\n",
      " [-8.68055069e-03 -3.18931589e-04  2.66195114e-03]\n",
      " [ 1.15539056e-03  1.97320395e-02  7.95342579e-03]]\n",
      "[ 6.07753724  0.         -0.76262209 -1.24545945 -1.61384874 -1.93322103\n",
      " -2.01636912 -2.3684332  -2.61820047 -8.51659567]\n",
      "\n",
      " Accuracy\n",
      "Predicted   0   1   2   3   4  5   6  7   8   9\n",
      "True                                           \n",
      "0          31   0   0   0   0  0   0  0   0   0\n",
      "1           3  21   5   0   0  0   0  0   0   0\n",
      "2           0   6  22   1   0  0   0  0   0   0\n",
      "3           0   0  11  17   0  0   0  0   0   0\n",
      "4           0   0   0  11  13  0   3  0   0   0\n",
      "5           0   0   0   0   6  8  11  0   0   0\n",
      "6           0   0   0   0   0  4  22  0   1   0\n",
      "7           0   0   0   0   0  3   3  1  18   0\n",
      "8           0   0   0   0   0  0   0  0  23   6\n",
      "9           0   0   0   0   0  0   0  0   0  28\n",
      "\n",
      " Percentage accuracy\n",
      "training:  0.6690647482014388\n",
      "testing:  0.5428571428571428\n"
     ]
    }
   ],
   "source": [
    "from sklearn.linear_model import LogisticRegression\n",
    "X_train_t = selector_two.transform(X_train)\n",
    "X_test_t = selector_two.transform(X_test)\n",
    "\n",
    "modelC = LogisticRegression(penalty='l1', solver='liblinear', C=1, multi_class='ovr')\n",
    "modelC.fit(X_train_t, y_train)\n",
    "\n",
    "# Display.\n",
    "print('Coefficients')\n",
    "print(modelC.coef_)\n",
    "print(modelC.intercept_)\n",
    "yhat = modelC.predict(X_train_t)\n",
    "\n",
    "print('\\n Accuracy')\n",
    "print(pd.crosstab(y_train, yhat, rownames=['True'], colnames=['Predicted']))\n",
    "\n",
    "print('\\n Percentage accuracy')\n",
    "print(\"training: \", modelC.score(X_train_t, y_train))\n",
    "print(\"testing: \", modelC.score(X_test_t, y_test))"
   ]
  },
  {
   "cell_type": "markdown",
   "metadata": {},
   "source": [
    "* Saga and liblinear are the only solvers which support l1 regularization. liblinear is good for small datasets than Saga.\n",
    "* liblinear performed better."
   ]
  },
  {
   "cell_type": "markdown",
   "metadata": {},
   "source": [
    "#### Finding the best penality for Ridge"
   ]
  },
  {
   "cell_type": "code",
   "execution_count": 19,
   "metadata": {},
   "outputs": [
    {
     "name": "stdout",
     "output_type": "stream",
     "text": [
      "GridSearchCV(cv=None, error_score='raise',\n",
      "       estimator=LogisticRegression(C=1.0, class_weight=None, dual=False, fit_intercept=True,\n",
      "          intercept_scaling=1, max_iter=100, multi_class='multinomial',\n",
      "          n_jobs=1, penalty='l2', random_state=None, solver='newton-cg',\n",
      "          tol=0.0001, verbose=0, warm_start=False),\n",
      "       fit_params=None, iid=True, n_jobs=1,\n",
      "       param_grid={'C': array([1.e+04, 1.e+03, 1.e+02, 1.e+01, 1.e+00, 1.e-01, 1.e-02, 1.e-03,\n",
      "       1.e+04])},\n",
      "       pre_dispatch='2*n_jobs', refit=True, return_train_score='warn',\n",
      "       scoring='accuracy', verbose=0)\n",
      "Best CV score for Ridge:  0.9100719424460432\n",
      "Best C for Ridge:  0.1\n"
     ]
    }
   ],
   "source": [
    "from sklearn.model_selection import GridSearchCV\n",
    "\n",
    "# prepare a range of alpha values to test\n",
    "# Remember that C cannot be 0\n",
    "inverse_regs = np.array([1e4, 1e3, 1e2, 1e1, 1,1e-1, 1e-2,1e-3,1e4])\n",
    "#alphas = np.logspace(-5,9,20)\n",
    "\n",
    "# create and fit a ridge logistic regression model, testing each C\n",
    "grid = GridSearchCV(estimator=LogisticRegression(penalty='l2', solver='newton-cg', multi_class='multinomial'), param_grid=dict(C=inverse_regs), scoring='accuracy')\n",
    "grid.fit(X_train_t, y_train)\n",
    "print(grid)\n",
    "# summarize the results of the grid search\n",
    "print(\"Best CV score for Ridge: \", grid.best_score_)\n",
    "print(\"Best C for Ridge: \", grid.best_estimator_.C)\n"
   ]
  },
  {
   "cell_type": "markdown",
   "metadata": {},
   "source": [
    "#### Using Logistic Regression CV\n",
    "\n",
    "For a multiclass problem, the hyperparameters for each class are computed using the best scores got by doing a one-vs-rest in parallel across all folds and classes. Hence this is not the true multinomial loss."
   ]
  },
  {
   "cell_type": "code",
   "execution_count": 20,
   "metadata": {},
   "outputs": [
    {
     "name": "stdout",
     "output_type": "stream",
     "text": [
      "Coefficients\n",
      "[[-0.2298037  -3.06467179 -3.04393091]\n",
      " [-0.51162015 -1.63049748 -1.80073336]\n",
      " [-0.2108388  -0.91864431 -1.00770572]\n",
      " [ 0.05702126 -0.31427106 -0.2652777 ]\n",
      " [ 0.03692749  0.17647406  0.23024026]\n",
      " [ 0.15198079  0.55696517  0.60192114]\n",
      " [ 0.25421549  0.88840404  1.04157848]\n",
      " [ 0.29904877  1.1865544   1.20195159]\n",
      " [ 0.07027278  1.46342111  1.44732235]\n",
      " [ 0.08279615  1.65626584  1.59463394]]\n",
      "[ 181.03501832  163.77738502  139.5839825   103.53902363   67.26180697\n",
      "   24.47368248  -49.25176616  -99.41690894 -199.34366368 -331.65856016]\n",
      "What inverse regularization?  [2.7825594 2.7825594 2.7825594 2.7825594 2.7825594 2.7825594 2.7825594\n",
      " 2.7825594 2.7825594 2.7825594]\n",
      "\n",
      " Accuracy\n",
      "Predicted   0   1   2   3   4   5   6   7   8   9\n",
      "True                                             \n",
      "0          31   0   0   0   0   0   0   0   0   0\n",
      "1           0  27   2   0   0   0   0   0   0   0\n",
      "2           0   1  28   0   0   0   0   0   0   0\n",
      "3           0   0   0  28   0   0   0   0   0   0\n",
      "4           0   0   0   0  27   0   0   0   0   0\n",
      "5           0   0   0   0   1  24   0   0   0   0\n",
      "6           0   0   0   0   0   0  27   0   0   0\n",
      "7           0   0   0   0   0   0   0  25   0   0\n",
      "8           0   0   0   0   0   0   0   0  29   0\n",
      "9           0   0   0   0   0   0   0   0   0  28\n",
      "\n",
      " Percentage accuracy\n",
      "training:  0.9856115107913669\n",
      "testing:  0.9428571428571428\n"
     ]
    }
   ],
   "source": [
    "from sklearn.linear_model import LogisticRegressionCV\n",
    "modelD = LogisticRegressionCV(cv=10, random_state=20, solver='newton-cg', multi_class='multinomial').fit(X_train_t, y_train)\n",
    "# Display.\n",
    "print('Coefficients')\n",
    "print(modelD.coef_)\n",
    "print(modelD.intercept_)\n",
    "yhat = modelD.predict(X_train_t)\n",
    "\n",
    "print(\"What inverse regularization? \", modelD.C_)\n",
    "print('\\n Accuracy')\n",
    "print(pd.crosstab(y_train, yhat, rownames=['True'], colnames=['Predicted']))\n",
    "\n",
    "print('\\n Percentage accuracy')\n",
    "print(\"training: \", modelD.score(X_train_t, y_train))\n",
    "print(\"testing: \", modelD.score(X_test_t, y_test))"
   ]
  },
  {
   "cell_type": "markdown",
   "metadata": {},
   "source": [
    "* This one is the best test-score so far\n",
    "* It is not using true multinomial loss to select hyper parameters"
   ]
  },
  {
   "cell_type": "markdown",
   "metadata": {},
   "source": [
    "##### Selector 3 increases the performance"
   ]
  },
  {
   "cell_type": "code",
   "execution_count": 21,
   "metadata": {},
   "outputs": [
    {
     "name": "stdout",
     "output_type": "stream",
     "text": [
      "Coefficients\n",
      "[[-1.44962502 -1.64952353 -0.15951536]\n",
      " [-0.71996844 -1.00285784 -0.39671552]\n",
      " [-0.3827489  -0.58135451 -0.20433688]\n",
      " [-0.13756253 -0.18380732  0.10309334]\n",
      " [ 0.0675829   0.11121851 -0.11780795]\n",
      " [ 0.20859243  0.34093334  0.03388047]\n",
      " [ 0.38517039  0.55553343  0.25761915]\n",
      " [ 0.57816442  0.67005928  0.02669081]\n",
      " [ 0.66018121  0.82588247  0.20942767]\n",
      " [ 0.79021305  0.91391738  0.24766473]]\n",
      "[ 100.55848456   91.54072298   79.306382     60.57721241   40.38120437\n",
      "   15.73369513  -20.81421853  -53.80596158 -115.86596514 -197.6115562 ]\n",
      "What inverse regularization?  [2.7825594 2.7825594 2.7825594 2.7825594 2.7825594 2.7825594 2.7825594\n",
      " 2.7825594 2.7825594 2.7825594]\n",
      "\n",
      " Accuracy\n",
      "Predicted   0   1   2   3   4   5   6   7   8   9\n",
      "True                                             \n",
      "0          31   0   0   0   0   0   0   0   0   0\n",
      "1           0  27   2   0   0   0   0   0   0   0\n",
      "2           0   0  29   0   0   0   0   0   0   0\n",
      "3           0   0   0  27   1   0   0   0   0   0\n",
      "4           0   0   0   1  26   0   0   0   0   0\n",
      "5           0   0   0   0   2  23   0   0   0   0\n",
      "6           0   0   0   0   0   0  27   0   0   0\n",
      "7           0   0   0   0   0   0   0  25   0   0\n",
      "8           0   0   0   0   0   0   0   0  29   0\n",
      "9           0   0   0   0   0   0   0   0   0  28\n",
      "\n",
      " Percentage accuracy\n",
      "training:  0.9784172661870504\n",
      "testing:  0.9285714285714286\n"
     ]
    }
   ],
   "source": [
    "from sklearn.linear_model import LogisticRegressionCV\n",
    "X_train_t = selector_three.transform(X_train)\n",
    "X_test_t = selector_three.transform(X_test)\n",
    "\n",
    "modelZ = LogisticRegressionCV(cv=10, random_state=20, solver='newton-cg', multi_class='multinomial').fit(X_train_t, y_train)\n",
    "# Display.\n",
    "print('Coefficients')\n",
    "print(modelZ.coef_)\n",
    "print(modelZ.intercept_)\n",
    "yhat = modelZ.predict(X_train_t)\n",
    "\n",
    "print(\"What inverse regularization? \", modelD.C_)\n",
    "print('\\n Accuracy')\n",
    "print(pd.crosstab(y_train, yhat, rownames=['True'], colnames=['Predicted']))\n",
    "\n",
    "print('\\n Percentage accuracy')\n",
    "print(\"training: \", modelZ.score(X_train_t, y_train))\n",
    "print(\"testing: \", modelZ.score(X_test_t, y_test))"
   ]
  },
  {
   "cell_type": "code",
   "execution_count": 22,
   "metadata": {},
   "outputs": [
    {
     "name": "stdout",
     "output_type": "stream",
     "text": [
      "population {11}\n",
      "violent_crime {11}\n",
      "murder_and_nonnegligent_manslaughter {11}\n",
      "rape2 {11}\n",
      "robbery {11}\n",
      "aggravated_assault {11}\n",
      "property_crime {11}\n",
      "burglary {11}\n",
      "larceny_theft {11}\n",
      "motor_vehicle_theft {11}\n"
     ]
    }
   ],
   "source": [
    "texas = pd.read_csv(\"../../../Data & Script/texas_offence.csv\", skiprows=5, skipfooter=3, thousands=\",\", \n",
    "                      names=['city', 'population', 'violent_crime', 'murder_and_nonnegligent_manslaughter', 'rape1', 'rape2', 'robbery', \n",
    "                             'aggravated_assault', 'property_crime', 'burglary', 'larceny_theft', 'motor_vehicle_theft', 'arson3'], engine='python')\n",
    "\n",
    "texas = texas.drop(texas.columns[4], axis=1)\n",
    "texas = texas.drop(texas.columns[-1], axis=1)\n",
    "texas = texas.dropna().reset_index(drop=True)\n",
    "\n",
    "# replace outliers in all collumns with the mean of the column\n",
    "for col in texas.columns[1:]:\n",
    "    # print which rows are replaced\n",
    "    replaced_numbers = replace_outliers_with_mean(texas, col,1)\n",
    "    print(\"{} {}\".format(col.replace(\"\\n\", \" \"), replaced_numbers))\n",
    "                             \n",
    "texas['pop_squared'] = texas['population'] ** 2\n",
    "texas['murder_cat'] = texas['murder_and_nonnegligent_manslaughter'] > 0\n",
    "texas['robbery_cat'] = texas['robbery'] > 0\n",
    "texas['property_crime_cat'] = pd.qcut(texas['property_crime'], 10 , labels=range(10))\n",
    "\n",
    "X_texas = texas[['population', 'violent_crime', 'murder_and_nonnegligent_manslaughter', 'rape2', 'robbery', \n",
    "                             'aggravated_assault', 'burglary', 'larceny_theft', 'motor_vehicle_theft']]\n",
    "y_texas = texas.property_crime_cat\n"
   ]
  },
  {
   "cell_type": "code",
   "execution_count": 23,
   "metadata": {},
   "outputs": [
    {
     "data": {
      "text/html": [
       "<table class=\"simpletable\">\n",
       "<caption>OLS Regression Results</caption>\n",
       "<tr>\n",
       "  <th>Dep. Variable:</th>    <td>property_crime_cat</td> <th>  R-squared:         </th> <td>   0.427</td>\n",
       "</tr>\n",
       "<tr>\n",
       "  <th>Model:</th>                    <td>OLS</td>        <th>  Adj. R-squared:    </th> <td>   0.421</td>\n",
       "</tr>\n",
       "<tr>\n",
       "  <th>Method:</th>              <td>Least Squares</td>   <th>  F-statistic:       </th> <td>   68.10</td>\n",
       "</tr>\n",
       "<tr>\n",
       "  <th>Date:</th>              <td>Sun, 30 Dec 2018</td>  <th>  Prob (F-statistic):</th> <td>6.21e-33</td>\n",
       "</tr>\n",
       "<tr>\n",
       "  <th>Time:</th>                  <td>18:36:11</td>      <th>  Log-Likelihood:    </th> <td> -615.32</td>\n",
       "</tr>\n",
       "<tr>\n",
       "  <th>No. Observations:</th>       <td>   278</td>       <th>  AIC:               </th> <td>   1239.</td>\n",
       "</tr>\n",
       "<tr>\n",
       "  <th>Df Residuals:</th>           <td>   274</td>       <th>  BIC:               </th> <td>   1253.</td>\n",
       "</tr>\n",
       "<tr>\n",
       "  <th>Df Model:</th>               <td>     3</td>       <th>                     </th>     <td> </td>   \n",
       "</tr>\n",
       "<tr>\n",
       "  <th>Covariance Type:</th>       <td>nonrobust</td>     <th>                     </th>     <td> </td>   \n",
       "</tr>\n",
       "</table>\n",
       "<table class=\"simpletable\">\n",
       "<tr>\n",
       "    <td></td>       <th>coef</th>     <th>std err</th>      <th>t</th>      <th>P>|t|</th>  <th>[0.025</th>    <th>0.975]</th>  \n",
       "</tr>\n",
       "<tr>\n",
       "  <th>const</th> <td>    3.2856</td> <td>    0.155</td> <td>   21.173</td> <td> 0.000</td> <td>    2.980</td> <td>    3.591</td>\n",
       "</tr>\n",
       "<tr>\n",
       "  <th>x1</th>    <td>   -0.0019</td> <td>    0.001</td> <td>   -1.626</td> <td> 0.105</td> <td>   -0.004</td> <td>    0.000</td>\n",
       "</tr>\n",
       "<tr>\n",
       "  <th>x2</th>    <td>    0.0066</td> <td>    0.001</td> <td>   11.202</td> <td> 0.000</td> <td>    0.005</td> <td>    0.008</td>\n",
       "</tr>\n",
       "<tr>\n",
       "  <th>x3</th>    <td>   -0.0476</td> <td>    0.005</td> <td>   -9.416</td> <td> 0.000</td> <td>   -0.058</td> <td>   -0.038</td>\n",
       "</tr>\n",
       "</table>\n",
       "<table class=\"simpletable\">\n",
       "<tr>\n",
       "  <th>Omnibus:</th>       <td> 0.594</td> <th>  Durbin-Watson:     </th> <td>   1.973</td>\n",
       "</tr>\n",
       "<tr>\n",
       "  <th>Prob(Omnibus):</th> <td> 0.743</td> <th>  Jarque-Bera (JB):  </th> <td>   0.348</td>\n",
       "</tr>\n",
       "<tr>\n",
       "  <th>Skew:</th>          <td> 0.022</td> <th>  Prob(JB):          </th> <td>   0.840</td>\n",
       "</tr>\n",
       "<tr>\n",
       "  <th>Kurtosis:</th>      <td> 3.167</td> <th>  Cond. No.          </th> <td>    932.</td>\n",
       "</tr>\n",
       "</table><br/><br/>Warnings:<br/>[1] Standard Errors assume that the covariance matrix of the errors is correctly specified."
      ],
      "text/plain": [
       "<class 'statsmodels.iolib.summary.Summary'>\n",
       "\"\"\"\n",
       "                            OLS Regression Results                            \n",
       "==============================================================================\n",
       "Dep. Variable:     property_crime_cat   R-squared:                       0.427\n",
       "Model:                            OLS   Adj. R-squared:                  0.421\n",
       "Method:                 Least Squares   F-statistic:                     68.10\n",
       "Date:                Sun, 30 Dec 2018   Prob (F-statistic):           6.21e-33\n",
       "Time:                        18:36:11   Log-Likelihood:                -615.32\n",
       "No. Observations:                 278   AIC:                             1239.\n",
       "Df Residuals:                     274   BIC:                             1253.\n",
       "Df Model:                           3                                         \n",
       "Covariance Type:            nonrobust                                         \n",
       "==============================================================================\n",
       "                 coef    std err          t      P>|t|      [0.025      0.975]\n",
       "------------------------------------------------------------------------------\n",
       "const          3.2856      0.155     21.173      0.000       2.980       3.591\n",
       "x1            -0.0019      0.001     -1.626      0.105      -0.004       0.000\n",
       "x2             0.0066      0.001     11.202      0.000       0.005       0.008\n",
       "x3            -0.0476      0.005     -9.416      0.000      -0.058      -0.038\n",
       "==============================================================================\n",
       "Omnibus:                        0.594   Durbin-Watson:                   1.973\n",
       "Prob(Omnibus):                  0.743   Jarque-Bera (JB):                0.348\n",
       "Skew:                           0.022   Prob(JB):                        0.840\n",
       "Kurtosis:                       3.167   Cond. No.                         932.\n",
       "==============================================================================\n",
       "\n",
       "Warnings:\n",
       "[1] Standard Errors assume that the covariance matrix of the errors is correctly specified.\n",
       "\"\"\""
      ]
     },
     "execution_count": 23,
     "metadata": {},
     "output_type": "execute_result"
    }
   ],
   "source": [
    "import statsmodels.api as sm\n",
    "X_sm = sm.add_constant(X_train_t)\n",
    "model = sm.OLS(y_train,X_sm)\n",
    "results = model.fit()\n",
    "results.summary()\n",
    "#print(ols_model.get_params)"
   ]
  },
  {
   "cell_type": "code",
   "execution_count": 24,
   "metadata": {},
   "outputs": [
    {
     "data": {
      "text/html": [
       "<table class=\"simpletable\">\n",
       "<caption>OLS Regression Results</caption>\n",
       "<tr>\n",
       "  <th>Dep. Variable:</th>            <td>y</td>        <th>  R-squared:         </th> <td>   1.000</td> \n",
       "</tr>\n",
       "<tr>\n",
       "  <th>Model:</th>                   <td>OLS</td>       <th>  Adj. R-squared:    </th> <td>   1.000</td> \n",
       "</tr>\n",
       "<tr>\n",
       "  <th>Method:</th>             <td>Least Squares</td>  <th>  F-statistic:       </th> <td>5.400e+32</td>\n",
       "</tr>\n",
       "<tr>\n",
       "  <th>Date:</th>             <td>Sun, 30 Dec 2018</td> <th>  Prob (F-statistic):</th> <td>1.46e-81</td> \n",
       "</tr>\n",
       "<tr>\n",
       "  <th>Time:</th>                 <td>18:36:11</td>     <th>  Log-Likelihood:    </th> <td>  222.50</td> \n",
       "</tr>\n",
       "<tr>\n",
       "  <th>No. Observations:</th>      <td>     7</td>      <th>  AIC:               </th> <td>  -441.0</td> \n",
       "</tr>\n",
       "<tr>\n",
       "  <th>Df Residuals:</th>          <td>     5</td>      <th>  BIC:               </th> <td>  -441.1</td> \n",
       "</tr>\n",
       "<tr>\n",
       "  <th>Df Model:</th>              <td>     2</td>      <th>                     </th>     <td> </td>    \n",
       "</tr>\n",
       "<tr>\n",
       "  <th>Covariance Type:</th>      <td>nonrobust</td>    <th>                     </th>     <td> </td>    \n",
       "</tr>\n",
       "</table>\n",
       "<table class=\"simpletable\">\n",
       "<tr>\n",
       "    <td></td>       <th>coef</th>     <th>std err</th>      <th>t</th>      <th>P>|t|</th>  <th>[0.025</th>    <th>0.975]</th>  \n",
       "</tr>\n",
       "<tr>\n",
       "  <th>col1</th>  <td>    1.0000</td> <td> 7.21e-17</td> <td> 1.39e+16</td> <td> 0.000</td> <td>    1.000</td> <td>    1.000</td>\n",
       "</tr>\n",
       "<tr>\n",
       "  <th>col2:</th> <td>    1.0000</td> <td> 3.84e-17</td> <td>  2.6e+16</td> <td> 0.000</td> <td>    1.000</td> <td>    1.000</td>\n",
       "</tr>\n",
       "</table>\n",
       "<table class=\"simpletable\">\n",
       "<tr>\n",
       "  <th>Omnibus:</th>       <td>   nan</td> <th>  Durbin-Watson:     </th> <td>   1.500</td>\n",
       "</tr>\n",
       "<tr>\n",
       "  <th>Prob(Omnibus):</th> <td>   nan</td> <th>  Jarque-Bera (JB):  </th> <td>   1.403</td>\n",
       "</tr>\n",
       "<tr>\n",
       "  <th>Skew:</th>          <td> 0.949</td> <th>  Prob(JB):          </th> <td>   0.496</td>\n",
       "</tr>\n",
       "<tr>\n",
       "  <th>Kurtosis:</th>      <td> 1.900</td> <th>  Cond. No.          </th> <td>    1.96</td>\n",
       "</tr>\n",
       "</table><br/><br/>Warnings:<br/>[1] Standard Errors assume that the covariance matrix of the errors is correctly specified."
      ],
      "text/plain": [
       "<class 'statsmodels.iolib.summary.Summary'>\n",
       "\"\"\"\n",
       "                            OLS Regression Results                            \n",
       "==============================================================================\n",
       "Dep. Variable:                      y   R-squared:                       1.000\n",
       "Model:                            OLS   Adj. R-squared:                  1.000\n",
       "Method:                 Least Squares   F-statistic:                 5.400e+32\n",
       "Date:                Sun, 30 Dec 2018   Prob (F-statistic):           1.46e-81\n",
       "Time:                        18:36:11   Log-Likelihood:                 222.50\n",
       "No. Observations:                   7   AIC:                            -441.0\n",
       "Df Residuals:                       5   BIC:                            -441.1\n",
       "Df Model:                           2                                         \n",
       "Covariance Type:            nonrobust                                         \n",
       "==============================================================================\n",
       "                 coef    std err          t      P>|t|      [0.025      0.975]\n",
       "------------------------------------------------------------------------------\n",
       "col1           1.0000   7.21e-17   1.39e+16      0.000       1.000       1.000\n",
       "col2:          1.0000   3.84e-17    2.6e+16      0.000       1.000       1.000\n",
       "==============================================================================\n",
       "Omnibus:                          nan   Durbin-Watson:                   1.500\n",
       "Prob(Omnibus):                    nan   Jarque-Bera (JB):                1.403\n",
       "Skew:                           0.949   Prob(JB):                        0.496\n",
       "Kurtosis:                       1.900   Cond. No.                         1.96\n",
       "==============================================================================\n",
       "\n",
       "Warnings:\n",
       "[1] Standard Errors assume that the covariance matrix of the errors is correctly specified.\n",
       "\"\"\""
      ]
     },
     "execution_count": 24,
     "metadata": {},
     "output_type": "execute_result"
    }
   ],
   "source": [
    "import statsmodels.api as sm\n",
    "sample_x = pd.DataFrame({\"col1\": [50,0,3,14,5,36,7], \"col2:\":[8,12,31,5,107,8,41]})\n",
    "sample_y = sample_x.sum(axis=1)\n",
    "model = sm.OLS(sample_y,sample_x)\n",
    "results = model.fit()\n",
    "results.summary()"
   ]
  }
 ],
 "metadata": {
  "kernelspec": {
   "display_name": "Python 3",
   "language": "python",
   "name": "python3"
  },
  "language_info": {
   "codemirror_mode": {
    "name": "ipython",
    "version": 3
   },
   "file_extension": ".py",
   "mimetype": "text/x-python",
   "name": "python",
   "nbconvert_exporter": "python",
   "pygments_lexer": "ipython3",
   "version": "3.7.0"
  }
 },
 "nbformat": 4,
 "nbformat_minor": 2
}
