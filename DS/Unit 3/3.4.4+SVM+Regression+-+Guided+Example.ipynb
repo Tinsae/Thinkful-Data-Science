{
 "cells": [
  {
   "cell_type": "code",
   "execution_count": 1,
   "metadata": {
    "run_control": {
     "frozen": false,
     "read_only": false
    }
   },
   "outputs": [],
   "source": [
    "import numpy as np\n",
    "import pandas as pd\n",
    "import scipy\n",
    "import matplotlib.pyplot as plt\n",
    "import seaborn as sns\n",
    "import pickle\n",
    "%matplotlib inline"
   ]
  },
  {
   "cell_type": "markdown",
   "metadata": {
    "run_control": {
     "frozen": false,
     "read_only": false
    }
   },
   "source": [
    "Now it's time for another guided example. This time we're going to look at recipes. Specifically we'll use the epicurious dataset, which has a collection of recipes, key terms and ingredients, and their ratings.\n",
    "\n",
    "What we want to see is if we can use the ingredient and keyword list to predict the rating. For someone writing a cookbook this could be really useful information that could help them choose which recipes to include because they're more likely to be enjoyed and therefore make the book more likely to be successful.\n",
    "\n",
    "First let's load the dataset. It's [available on Kaggle](https://www.kaggle.com/hugodarwood/epirecipes). We'll use the csv file here and as pull out column names and some summary statistics for ratings."
   ]
  },
  {
   "cell_type": "code",
   "execution_count": 2,
   "metadata": {
    "run_control": {
     "frozen": false,
     "read_only": false
    }
   },
   "outputs": [],
   "source": [
    "raw_data = pd.read_csv('../../../Data & Script/epi_r.csv')"
   ]
  },
  {
   "cell_type": "code",
   "execution_count": 3,
   "metadata": {
    "run_control": {
     "frozen": false,
     "read_only": false
    },
    "scrolled": true
   },
   "outputs": [
    {
     "data": {
      "text/plain": [
       "['title',\n",
       " 'rating',\n",
       " 'calories',\n",
       " 'protein',\n",
       " 'fat',\n",
       " 'sodium',\n",
       " '#cakeweek',\n",
       " '#wasteless',\n",
       " '22-minute meals',\n",
       " '3-ingredient recipes',\n",
       " '30 days of groceries',\n",
       " 'advance prep required',\n",
       " 'alabama',\n",
       " 'alaska',\n",
       " 'alcoholic',\n",
       " 'almond',\n",
       " 'amaretto',\n",
       " 'anchovy',\n",
       " 'anise',\n",
       " 'anniversary',\n",
       " 'anthony bourdain',\n",
       " 'aperitif',\n",
       " 'appetizer',\n",
       " 'apple',\n",
       " 'apple juice',\n",
       " 'apricot',\n",
       " 'arizona',\n",
       " 'artichoke',\n",
       " 'arugula',\n",
       " 'asian pear',\n",
       " 'asparagus',\n",
       " 'aspen',\n",
       " 'atlanta',\n",
       " 'australia',\n",
       " 'avocado',\n",
       " 'back to school',\n",
       " 'backyard bbq',\n",
       " 'bacon',\n",
       " 'bake',\n",
       " 'banana',\n",
       " 'barley',\n",
       " 'basil',\n",
       " 'bass',\n",
       " 'bastille day',\n",
       " 'bean',\n",
       " 'beef',\n",
       " 'beef rib',\n",
       " 'beef shank',\n",
       " 'beef tenderloin',\n",
       " 'beer',\n",
       " 'beet',\n",
       " 'bell pepper',\n",
       " 'berry',\n",
       " 'beverly hills',\n",
       " 'birthday',\n",
       " 'biscuit',\n",
       " 'bitters',\n",
       " 'blackberry',\n",
       " 'blender',\n",
       " 'blue cheese',\n",
       " 'blueberry',\n",
       " 'boil',\n",
       " 'bok choy',\n",
       " 'bon appétit',\n",
       " 'bon app��tit',\n",
       " 'boston',\n",
       " 'bourbon',\n",
       " 'braise',\n",
       " 'bran',\n",
       " 'brandy',\n",
       " 'bread',\n",
       " 'breadcrumbs',\n",
       " 'breakfast',\n",
       " 'brie',\n",
       " 'brine',\n",
       " 'brisket',\n",
       " 'broccoli',\n",
       " 'broccoli rabe',\n",
       " 'broil',\n",
       " 'brooklyn',\n",
       " 'brown rice',\n",
       " 'brownie',\n",
       " 'brunch',\n",
       " 'brussel sprout',\n",
       " 'buffalo',\n",
       " 'buffet',\n",
       " 'bulgaria',\n",
       " 'bulgur',\n",
       " 'burrito',\n",
       " 'butter',\n",
       " 'buttermilk',\n",
       " 'butternut squash',\n",
       " 'butterscotch/caramel',\n",
       " 'cabbage',\n",
       " 'cake',\n",
       " 'california',\n",
       " 'calvados',\n",
       " 'cambridge',\n",
       " 'campari',\n",
       " 'camping',\n",
       " 'canada',\n",
       " 'candy',\n",
       " 'candy thermometer',\n",
       " 'cantaloupe',\n",
       " 'capers',\n",
       " 'caraway',\n",
       " 'cardamom',\n",
       " 'carrot',\n",
       " 'cashew',\n",
       " 'casserole/gratin',\n",
       " 'cauliflower',\n",
       " 'caviar',\n",
       " 'celery',\n",
       " 'chambord',\n",
       " 'champagne',\n",
       " 'chard',\n",
       " 'chartreuse',\n",
       " 'cheddar',\n",
       " 'cheese',\n",
       " 'cherry',\n",
       " 'chestnut',\n",
       " 'chicago',\n",
       " 'chicken',\n",
       " 'chickpea',\n",
       " 'chile',\n",
       " 'chile pepper',\n",
       " 'chili',\n",
       " 'chill',\n",
       " 'chive',\n",
       " 'chocolate',\n",
       " 'christmas',\n",
       " 'christmas eve',\n",
       " 'cilantro',\n",
       " 'cinco de mayo',\n",
       " 'cinnamon',\n",
       " 'citrus',\n",
       " 'clam',\n",
       " 'clove',\n",
       " 'cobbler/crumble',\n",
       " 'cocktail',\n",
       " 'cocktail party',\n",
       " 'coconut',\n",
       " 'cod',\n",
       " 'coffee',\n",
       " 'coffee grinder',\n",
       " 'cognac/armagnac',\n",
       " 'collard greens',\n",
       " 'colorado',\n",
       " 'columbus',\n",
       " 'condiment',\n",
       " 'condiment/spread',\n",
       " 'connecticut',\n",
       " 'cook like a diner',\n",
       " 'cookbook critic',\n",
       " 'cookie',\n",
       " 'cookies',\n",
       " 'coriander',\n",
       " 'corn',\n",
       " 'cornmeal',\n",
       " 'costa mesa',\n",
       " 'cottage cheese',\n",
       " 'couscous',\n",
       " 'crab',\n",
       " 'cranberry',\n",
       " 'cranberry sauce',\n",
       " 'cream cheese',\n",
       " 'créme de cacao',\n",
       " 'crêpe',\n",
       " 'cr��me de cacao',\n",
       " 'cuba',\n",
       " 'cucumber',\n",
       " 'cumin',\n",
       " 'cupcake',\n",
       " 'currant',\n",
       " 'curry',\n",
       " 'custard',\n",
       " 'dairy',\n",
       " 'dairy free',\n",
       " 'dallas',\n",
       " 'date',\n",
       " 'deep-fry',\n",
       " 'denver',\n",
       " 'dessert',\n",
       " 'digestif',\n",
       " 'dill',\n",
       " 'dinner',\n",
       " 'dip',\n",
       " 'diwali',\n",
       " 'dominican republic',\n",
       " 'dorie greenspan',\n",
       " 'double boiler',\n",
       " 'dried fruit',\n",
       " 'drink',\n",
       " 'drinks',\n",
       " 'duck',\n",
       " 'easter',\n",
       " 'eau de vie',\n",
       " 'edible gift',\n",
       " 'egg',\n",
       " 'egg nog',\n",
       " 'eggplant',\n",
       " 'egypt',\n",
       " 'emeril lagasse',\n",
       " 'endive',\n",
       " 'engagement party',\n",
       " 'england',\n",
       " 'entertaining',\n",
       " 'epi + ushg',\n",
       " 'epi loves the microwave',\n",
       " 'escarole',\n",
       " 'fall',\n",
       " 'family reunion',\n",
       " 'fat free',\n",
       " \"father's day\",\n",
       " 'fennel',\n",
       " 'feta',\n",
       " 'fig',\n",
       " 'fish',\n",
       " 'flaming hot summer',\n",
       " 'flat bread',\n",
       " 'florida',\n",
       " 'fontina',\n",
       " 'food processor',\n",
       " 'fortified wine',\n",
       " 'fourth of july',\n",
       " 'france',\n",
       " 'frangelico',\n",
       " 'frankenrecipe',\n",
       " 'freeze/chill',\n",
       " 'freezer food',\n",
       " 'friendsgiving',\n",
       " 'frittata',\n",
       " 'fritter',\n",
       " 'frozen dessert',\n",
       " 'fruit',\n",
       " 'fruit juice',\n",
       " 'fry',\n",
       " 'game',\n",
       " 'garlic',\n",
       " 'georgia',\n",
       " 'germany',\n",
       " 'gin',\n",
       " 'ginger',\n",
       " 'goat cheese',\n",
       " 'goose',\n",
       " 'gouda',\n",
       " 'gourmet',\n",
       " 'graduation',\n",
       " 'grains',\n",
       " 'grand marnier',\n",
       " 'granola',\n",
       " 'grape',\n",
       " 'grapefruit',\n",
       " 'grappa',\n",
       " 'green bean',\n",
       " 'green onion/scallion',\n",
       " 'grill',\n",
       " 'grill/barbecue',\n",
       " 'ground beef',\n",
       " 'ground lamb',\n",
       " 'guam',\n",
       " 'guava',\n",
       " 'haiti',\n",
       " 'halibut',\n",
       " 'halloween',\n",
       " 'ham',\n",
       " 'hamburger',\n",
       " 'hanukkah',\n",
       " 'harpercollins',\n",
       " 'hawaii',\n",
       " 'hazelnut',\n",
       " 'healdsburg',\n",
       " 'healthy',\n",
       " 'herb',\n",
       " 'high fiber',\n",
       " 'hollywood',\n",
       " 'hominy/cornmeal/masa',\n",
       " 'honey',\n",
       " 'honeydew',\n",
       " \"hors d'oeuvre\",\n",
       " 'horseradish',\n",
       " 'hot drink',\n",
       " 'hot pepper',\n",
       " 'house & garden',\n",
       " 'house cocktail',\n",
       " 'houston',\n",
       " 'hummus',\n",
       " 'ice cream',\n",
       " 'ice cream machine',\n",
       " 'iced coffee',\n",
       " 'iced tea',\n",
       " 'idaho',\n",
       " 'illinois',\n",
       " 'indiana',\n",
       " 'iowa',\n",
       " 'ireland',\n",
       " 'israel',\n",
       " 'italy',\n",
       " 'jalapeño',\n",
       " 'jam or jelly',\n",
       " 'jamaica',\n",
       " 'japan',\n",
       " 'jerusalem artichoke',\n",
       " 'juicer',\n",
       " 'jícama',\n",
       " 'kahlúa',\n",
       " 'kale',\n",
       " 'kansas',\n",
       " 'kansas city',\n",
       " 'kentucky',\n",
       " 'kentucky derby',\n",
       " 'kid-friendly',\n",
       " 'kidney friendly',\n",
       " 'kirsch',\n",
       " 'kitchen olympics',\n",
       " 'kiwi',\n",
       " 'kosher',\n",
       " 'kosher for passover',\n",
       " 'kumquat',\n",
       " 'kwanzaa',\n",
       " 'labor day',\n",
       " 'lamb',\n",
       " 'lamb chop',\n",
       " 'lamb shank',\n",
       " 'lancaster',\n",
       " 'las vegas',\n",
       " 'lasagna',\n",
       " 'leafy green',\n",
       " 'leek',\n",
       " 'legume',\n",
       " 'lemon',\n",
       " 'lemon juice',\n",
       " 'lemongrass',\n",
       " 'lentil',\n",
       " 'lettuce',\n",
       " 'lima bean',\n",
       " 'lime',\n",
       " 'lime juice',\n",
       " 'lingonberry',\n",
       " 'liqueur',\n",
       " 'lobster',\n",
       " 'london',\n",
       " 'long beach',\n",
       " 'los angeles',\n",
       " 'louisiana',\n",
       " 'louisville',\n",
       " 'low cal',\n",
       " 'low carb',\n",
       " 'low cholesterol',\n",
       " 'low fat',\n",
       " 'low sodium',\n",
       " 'low sugar',\n",
       " 'low/no sugar',\n",
       " 'lunar new year',\n",
       " 'lunch',\n",
       " 'lychee',\n",
       " 'macadamia nut',\n",
       " 'macaroni and cheese',\n",
       " 'maine',\n",
       " 'mandoline',\n",
       " 'mango',\n",
       " 'maple syrup',\n",
       " 'mardi gras',\n",
       " 'margarita',\n",
       " 'marinade',\n",
       " 'marinate',\n",
       " 'marsala',\n",
       " 'marscarpone',\n",
       " 'marshmallow',\n",
       " 'martini',\n",
       " 'maryland',\n",
       " 'massachusetts',\n",
       " 'mayonnaise',\n",
       " 'meat',\n",
       " 'meatball',\n",
       " 'meatloaf',\n",
       " 'melon',\n",
       " 'mexico',\n",
       " 'mezcal',\n",
       " 'miami',\n",
       " 'michigan',\n",
       " 'microwave',\n",
       " 'midori',\n",
       " 'milk/cream',\n",
       " 'minneapolis',\n",
       " 'minnesota',\n",
       " 'mint',\n",
       " 'mississippi',\n",
       " 'missouri',\n",
       " 'mixer',\n",
       " 'molasses',\n",
       " 'monterey jack',\n",
       " 'mortar and pestle',\n",
       " \"mother's day\",\n",
       " 'mozzarella',\n",
       " 'muffin',\n",
       " 'mushroom',\n",
       " 'mussel',\n",
       " 'mustard',\n",
       " 'mustard greens',\n",
       " 'nancy silverton',\n",
       " 'nebraska',\n",
       " 'nectarine',\n",
       " 'new hampshire',\n",
       " 'new jersey',\n",
       " 'new mexico',\n",
       " 'new orleans',\n",
       " \"new year's day\",\n",
       " \"new year's eve\",\n",
       " 'new york',\n",
       " 'no meat, no problem',\n",
       " 'no sugar added',\n",
       " 'no-cook',\n",
       " 'non-alcoholic',\n",
       " 'noodle',\n",
       " 'north carolina',\n",
       " 'nut',\n",
       " 'nutmeg',\n",
       " 'oat',\n",
       " 'oatmeal',\n",
       " 'octopus',\n",
       " 'ohio',\n",
       " 'oklahoma',\n",
       " 'okra',\n",
       " 'oktoberfest',\n",
       " 'olive',\n",
       " 'omelet',\n",
       " 'one-pot meal',\n",
       " 'onion',\n",
       " 'orange',\n",
       " 'orange juice',\n",
       " 'oregano',\n",
       " 'oregon',\n",
       " 'organic',\n",
       " 'orzo',\n",
       " 'oscars',\n",
       " 'oyster',\n",
       " 'pacific palisades',\n",
       " 'paleo',\n",
       " 'pan-fry',\n",
       " 'pancake',\n",
       " 'papaya',\n",
       " 'paprika',\n",
       " 'parade',\n",
       " 'paris',\n",
       " 'parmesan',\n",
       " 'parsley',\n",
       " 'parsnip',\n",
       " 'party',\n",
       " 'pasadena',\n",
       " 'passion fruit',\n",
       " 'passover',\n",
       " 'pasta',\n",
       " 'pasta maker',\n",
       " 'pastry',\n",
       " 'pea',\n",
       " 'peach',\n",
       " 'peanut',\n",
       " 'peanut butter',\n",
       " 'peanut free',\n",
       " 'pear',\n",
       " 'pecan',\n",
       " 'pennsylvania',\n",
       " 'pepper',\n",
       " 'pernod',\n",
       " 'persian new year',\n",
       " 'persimmon',\n",
       " 'peru',\n",
       " 'pescatarian',\n",
       " 'philippines',\n",
       " 'phyllo/puff pastry dough',\n",
       " 'pickles',\n",
       " 'picnic',\n",
       " 'pie',\n",
       " 'pine nut',\n",
       " 'pineapple',\n",
       " 'pistachio',\n",
       " 'pittsburgh',\n",
       " 'pizza',\n",
       " 'plantain',\n",
       " 'plum',\n",
       " 'poach',\n",
       " 'poblano',\n",
       " 'poker/game night',\n",
       " 'pomegranate',\n",
       " 'pomegranate juice',\n",
       " 'poppy',\n",
       " 'pork',\n",
       " 'pork chop',\n",
       " 'pork rib',\n",
       " 'pork tenderloin',\n",
       " 'port',\n",
       " 'portland',\n",
       " 'pot pie',\n",
       " 'potato',\n",
       " 'potato salad',\n",
       " 'potluck',\n",
       " 'poultry',\n",
       " 'poultry sausage',\n",
       " 'pressure cooker',\n",
       " 'prosciutto',\n",
       " 'providence',\n",
       " 'prune',\n",
       " 'pumpkin',\n",
       " 'punch',\n",
       " 'purim',\n",
       " 'quail',\n",
       " 'quiche',\n",
       " 'quick & easy',\n",
       " 'quick and healthy',\n",
       " 'quince',\n",
       " 'quinoa',\n",
       " 'rabbit',\n",
       " 'rack of lamb',\n",
       " 'radicchio',\n",
       " 'radish',\n",
       " 'raisin',\n",
       " 'ramadan',\n",
       " 'ramekin',\n",
       " 'raspberry',\n",
       " 'raw',\n",
       " 'red wine',\n",
       " 'rhode island',\n",
       " 'rhubarb',\n",
       " 'rice',\n",
       " 'ricotta',\n",
       " 'roast',\n",
       " 'root vegetable',\n",
       " 'rosemary',\n",
       " 'rosh hashanah/yom kippur',\n",
       " 'rosé',\n",
       " 'rub',\n",
       " 'rum',\n",
       " 'rutabaga',\n",
       " 'rye',\n",
       " 'saffron',\n",
       " 'sage',\n",
       " 'sake',\n",
       " 'salad',\n",
       " 'salad dressing',\n",
       " 'salmon',\n",
       " 'salsa',\n",
       " 'san francisco',\n",
       " 'sandwich',\n",
       " 'sandwich theory',\n",
       " 'sangria',\n",
       " 'santa monica',\n",
       " 'sardine',\n",
       " 'sauce',\n",
       " 'sausage',\n",
       " 'sauté',\n",
       " 'scallop',\n",
       " 'scotch',\n",
       " 'seafood',\n",
       " 'seattle',\n",
       " 'seed',\n",
       " 'self',\n",
       " 'semolina',\n",
       " 'sesame',\n",
       " 'sesame oil',\n",
       " 'shallot',\n",
       " 'shavuot',\n",
       " 'shellfish',\n",
       " 'sherry',\n",
       " 'shower',\n",
       " 'shrimp',\n",
       " 'side',\n",
       " 'simmer',\n",
       " 'skewer',\n",
       " 'slow cooker',\n",
       " 'smoker',\n",
       " 'smoothie',\n",
       " 'snapper',\n",
       " 'sorbet',\n",
       " 'soufflé/meringue',\n",
       " 'soup/stew',\n",
       " 'sour cream',\n",
       " 'sourdough',\n",
       " 'south carolina',\n",
       " 'soy',\n",
       " 'soy free',\n",
       " 'soy sauce',\n",
       " 'spain',\n",
       " 'sparkling wine',\n",
       " 'spice',\n",
       " 'spinach',\n",
       " 'spirit',\n",
       " 'spring',\n",
       " 'spritzer',\n",
       " 'squash',\n",
       " 'squid',\n",
       " 'st. louis',\n",
       " \"st. patrick's day\",\n",
       " 'steak',\n",
       " 'steam',\n",
       " 'stew',\n",
       " 'stir-fry',\n",
       " 'stock',\n",
       " 'strawberry',\n",
       " 'stuffing/dressing',\n",
       " 'sugar conscious',\n",
       " 'sugar snap pea',\n",
       " 'sukkot',\n",
       " 'summer',\n",
       " 'super bowl',\n",
       " 'suzanne goin',\n",
       " 'sweet potato/yam',\n",
       " 'swiss cheese',\n",
       " 'switzerland',\n",
       " 'swordfish',\n",
       " 'taco',\n",
       " 'tailgating',\n",
       " 'tamarind',\n",
       " 'tangerine',\n",
       " 'tapioca',\n",
       " 'tarragon',\n",
       " 'tart',\n",
       " 'tea',\n",
       " 'tennessee',\n",
       " 'tequila',\n",
       " 'tested & improved',\n",
       " 'texas',\n",
       " 'thanksgiving',\n",
       " 'thyme',\n",
       " 'tilapia',\n",
       " 'tofu',\n",
       " 'tomatillo',\n",
       " 'tomato',\n",
       " 'tortillas',\n",
       " 'tree nut',\n",
       " 'tree nut free',\n",
       " 'triple sec',\n",
       " 'tropical fruit',\n",
       " 'trout',\n",
       " 'tuna',\n",
       " 'turnip',\n",
       " 'utah',\n",
       " \"valentine's day\",\n",
       " 'vanilla',\n",
       " 'veal',\n",
       " 'vegan',\n",
       " 'vegetable',\n",
       " 'vegetarian',\n",
       " 'venison',\n",
       " 'vermont',\n",
       " 'vermouth',\n",
       " 'vinegar',\n",
       " 'virginia',\n",
       " 'vodka',\n",
       " 'waffle',\n",
       " 'walnut',\n",
       " 'wasabi',\n",
       " 'washington',\n",
       " 'washington, d.c.',\n",
       " 'watercress',\n",
       " 'watermelon',\n",
       " 'wedding',\n",
       " 'weelicious',\n",
       " 'west virginia',\n",
       " 'westwood',\n",
       " 'wheat/gluten-free',\n",
       " 'whiskey',\n",
       " 'white wine',\n",
       " 'whole wheat',\n",
       " 'wild rice',\n",
       " 'windsor',\n",
       " 'wine',\n",
       " 'winter',\n",
       " 'wisconsin',\n",
       " 'wok',\n",
       " 'yellow squash',\n",
       " 'yogurt',\n",
       " 'yonkers',\n",
       " 'yuca',\n",
       " 'zucchini',\n",
       " 'cookbooks',\n",
       " 'leftovers',\n",
       " 'snack',\n",
       " 'snack week',\n",
       " 'turkey']"
      ]
     },
     "execution_count": 3,
     "metadata": {},
     "output_type": "execute_result"
    }
   ],
   "source": [
    "list(raw_data.columns)"
   ]
  },
  {
   "cell_type": "code",
   "execution_count": 4,
   "metadata": {
    "run_control": {
     "frozen": false,
     "read_only": false
    },
    "scrolled": true
   },
   "outputs": [
    {
     "data": {
      "text/plain": [
       "count    20052.000000\n",
       "mean         3.714467\n",
       "std          1.340829\n",
       "min          0.000000\n",
       "25%          3.750000\n",
       "50%          4.375000\n",
       "75%          4.375000\n",
       "max          5.000000\n",
       "Name: rating, dtype: float64"
      ]
     },
     "execution_count": 4,
     "metadata": {},
     "output_type": "execute_result"
    }
   ],
   "source": [
    "raw_data.rating.describe()"
   ]
  },
  {
   "cell_type": "markdown",
   "metadata": {
    "run_control": {
     "frozen": false,
     "read_only": false
    }
   },
   "source": [
    "We learn a few things from this analysis. From a ratings perspective, there are just over 20,000 recipes with an average rating of 3.71. What is interesting is that the 25th percentile is actually above the mean. This means there is likely some kind of outlier population. This makes sense when we think about reviews: some bad recipes may have very few very low reviews.\n",
    "\n",
    "Let's validate the idea a bit further with a histogram."
   ]
  },
  {
   "cell_type": "code",
   "execution_count": 5,
   "metadata": {
    "run_control": {
     "frozen": false,
     "read_only": false
    }
   },
   "outputs": [
    {
     "data": {
      "image/png": "[encoded data removed]",
      "text/plain": [
       "<Figure size 432x288 with 1 Axes>"
      ]
     },
     "metadata": {
      "needs_background": "light"
     },
     "output_type": "display_data"
    }
   ],
   "source": [
    "raw_data.rating.hist(bins=20)\n",
    "plt.title('Histogram of Recipe Ratings')\n",
    "plt.show()"
   ]
  },
  {
   "cell_type": "markdown",
   "metadata": {
    "run_control": {
     "frozen": false,
     "read_only": false
    }
   },
   "source": [
    "So a few things are shown in this histogram. Firstly there are sharp discontinutities. We don't have continuous data. No recipe has a 3.5 rating, for example. Also we see the anticipated increase at 0.\n",
    "\n",
    "Let's try a naive approach again, this time using SVM Regressor. But first, we'll have to do a bit of data cleaning."
   ]
  },
  {
   "cell_type": "code",
   "execution_count": 6,
   "metadata": {
    "run_control": {
     "frozen": false,
     "read_only": false
    }
   },
   "outputs": [
    {
     "data": {
      "text/plain": [
       "calories    4117\n",
       "protein     4162\n",
       "fat         4183\n",
       "sodium      4119\n",
       "dtype: int64"
      ]
     },
     "execution_count": 6,
     "metadata": {},
     "output_type": "execute_result"
    }
   ],
   "source": [
    "# Count nulls \n",
    "null_count = raw_data.isnull().sum()\n",
    "null_count[null_count > 0]"
   ]
  },
  {
   "cell_type": "markdown",
   "metadata": {
    "run_control": {
     "frozen": false,
     "read_only": false
    }
   },
   "source": [
    "What we can see right away is that nutrition information is not available for all goods. Now this would be an interesting data point, but let's focus on ingredients and keywords right now. So we'll actually drop the whole columns for calories, protein, fat, and sodium. We'll come back to nutrition information later."
   ]
  },
  {
   "cell_type": "code",
   "execution_count": 7,
   "metadata": {
    "run_control": {
     "frozen": false,
     "read_only": false
    }
   },
   "outputs": [
    {
     "data": {
      "text/plain": [
       "SVR(C=1.0, cache_size=200, coef0=0.0, degree=3, epsilon=0.1, gamma='auto',\n",
       "  kernel='rbf', max_iter=-1, shrinking=True, tol=0.001, verbose=False)"
      ]
     },
     "execution_count": 7,
     "metadata": {},
     "output_type": "execute_result"
    }
   ],
   "source": [
    "# # takes long time\n",
    "# from sklearn.svm import SVR\n",
    "# svr = SVR()\n",
    "# X = raw_data.drop(['rating', 'title', 'calories', 'protein', 'fat', 'sodium'], 1)\n",
    "# Y = raw_data.rating\n",
    "# svr.fit(X,Y)\n",
    "\n",
    "# load saved model\n",
    "svr = pickle.load(open('svr1.sav', 'rb'))\n",
    "svr"
   ]
  },
  {
   "cell_type": "markdown",
   "metadata": {
    "run_control": {
     "frozen": false,
     "read_only": false
    }
   },
   "source": [
    "__Note that this actually takes quite a while to run, compared to some of the models we've done before. Be patient.__ It's because of the number of features we have.\n",
    "\n",
    "Let's see what a scatter plot looks like, comparing actuals to predicted."
   ]
  },
  {
   "cell_type": "code",
   "execution_count": 8,
   "metadata": {
    "run_control": {
     "frozen": false,
     "read_only": false
    }
   },
   "outputs": [
    {
     "data": {
      "text/plain": [
       "<matplotlib.collections.PathCollection at 0x1a4076dfe10>"
      ]
     },
     "execution_count": 8,
     "metadata": {},
     "output_type": "execute_result"
    },
    {
     "data": {
      "image/png": "[encoded data removed]",
      "text/plain": [
       "<Figure size 432x288 with 1 Axes>"
      ]
     },
     "metadata": {
      "needs_background": "light"
     },
     "output_type": "display_data"
    }
   ],
   "source": [
    "plt.scatter(Y, svr.predict(X))"
   ]
  },
  {
   "cell_type": "markdown",
   "metadata": {
    "run_control": {
     "frozen": false,
     "read_only": false
    }
   },
   "source": [
    "Now that is a pretty useless visualization. This is because of the discontinous nature of our outcome variable. There's too much data for us to really see what's going on here. If you wanted to look at it you could create histograms, here we'll move on to the scores of both our full fit model and with cross validation. Again if you choose to run it again it will take some time, so you probably shouldn't."
   ]
  },
  {
   "cell_type": "code",
   "execution_count": 9,
   "metadata": {
    "run_control": {
     "frozen": false,
     "read_only": false
    }
   },
   "outputs": [
    {
     "data": {
      "text/plain": [
       "0.03856570651298896"
      ]
     },
     "execution_count": 9,
     "metadata": {},
     "output_type": "execute_result"
    }
   ],
   "source": [
    "svr.score(X, Y)"
   ]
  },
  {
   "cell_type": "code",
   "execution_count": 10,
   "metadata": {
    "run_control": {
     "frozen": false,
     "read_only": false
    }
   },
   "outputs": [
    {
     "data": {
      "text/plain": [
       "array([0.01818511, 0.026411  , 0.03037705, 0.01957949, 0.02451197])"
      ]
     },
     "execution_count": 10,
     "metadata": {},
     "output_type": "execute_result"
    }
   ],
   "source": [
    "from sklearn.model_selection import cross_val_score\n",
    "cross_val_score(svr, X, Y, n_jobs=-1, cv=5)"
   ]
  },
  {
   "cell_type": "markdown",
   "metadata": {
    "run_control": {
     "frozen": false,
     "read_only": false
    }
   },
   "source": [
    "Oh dear, so this did seem not to work very well. In fact it is remarkably poor. Now there are many things that we could do here. \n",
    "\n",
    "Firstly the overfit is a problem, even though it was poor in the first place. We could go back and clean up our feature set. There might be some gains to be made by getting rid of the noise.\n",
    "\n",
    "We could also see how removing the nulls but including dietary information performs. Though its a slight change to the question we could still possibly get some improvements there.\n",
    "\n",
    "Lastly, we could take our regression problem and turn it into a classifier. With this number of features and a discontinuous outcome, we might have better luck thinking of this as a classification problem. We could make it simpler still by instead of classifying on each possible value, group reviews to some decided high and low values.\n",
    "\n",
    "__And that is your challenge.__\n",
    "\n",
    "Transform this regression problem into a binary classifier and clean up the feature set. You can choose whether or not to include nutritional information, but try to cut your feature set down to the 30 most valuable features.\n",
    "\n",
    "Good luck!"
   ]
  },
  {
   "cell_type": "markdown",
   "metadata": {
    "run_control": {
     "frozen": false,
     "read_only": false
    }
   },
   "source": [
    "When you've finished that, also take a moment to think about bias. Is there anything in this dataset that makes you think it could be biased, perhaps extremely so?\n",
    "\n",
    "There is. Several things in fact, but most glaringly is that we don't actually have a random sample. It could be, and probably is, that the people more likely to choose some kinds of recipes are more likely to give high reviews.\n",
    "\n",
    "After all, people who eat chocolate _might_ just be happier people."
   ]
  },
  {
   "cell_type": "markdown",
   "metadata": {},
   "source": [
    "#### Attempt"
   ]
  },
  {
   "cell_type": "markdown",
   "metadata": {},
   "source": [
    "* Recipe: title, rating (2 features)\n",
    "* ingredients: calories, protein, fat, sodium (4 features)\n",
    "* key_terms: (674 features)\n",
    "\n",
    "Only key_terms are used as predictors. Rating is the target variable\n",
    "\n",
    "Read this \n",
    "http://pbpython.com/categorical-encoding.html"
   ]
  },
  {
   "cell_type": "markdown",
   "metadata": {},
   "source": [
    "### Multiclass Classification\n",
    "#### Value Counts"
   ]
  },
  {
   "cell_type": "code",
   "execution_count": 72,
   "metadata": {},
   "outputs": [
    {
     "data": {
      "text/plain": [
       "1.875     124\n",
       "1.250     164\n",
       "2.500     532\n",
       "3.125    1489\n",
       "0.000    1836\n",
       "5.000    2719\n",
       "3.750    5169\n",
       "4.375    8019\n",
       "Name: rating, dtype: int64"
      ]
     },
     "execution_count": 72,
     "metadata": {},
     "output_type": "execute_result"
    }
   ],
   "source": [
    "raw_data.rating.value_counts().sort_values()"
   ]
  },
  {
   "cell_type": "code",
   "execution_count": 12,
   "metadata": {},
   "outputs": [],
   "source": [
    "X = raw_data.drop(['rating', 'title', 'calories', 'protein', 'fat', 'sodium'], 1)\n",
    "y = raw_data.rating\n",
    "# convert y to categorical\n",
    "from sklearn.preprocessing import LabelEncoder\n",
    "lab_enc = LabelEncoder()\n",
    "y = lab_enc.fit_transform(y)"
   ]
  },
  {
   "cell_type": "code",
   "execution_count": 74,
   "metadata": {},
   "outputs": [
    {
     "data": {
      "text/plain": [
       "2     124\n",
       "1     164\n",
       "3     532\n",
       "4    1489\n",
       "0    1836\n",
       "7    2719\n",
       "5    5169\n",
       "6    8019\n",
       "dtype: int64"
      ]
     },
     "execution_count": 74,
     "metadata": {},
     "output_type": "execute_result"
    }
   ],
   "source": [
    "# after encoding\n",
    "pd.Series(y).value_counts().sort_values()"
   ]
  },
  {
   "cell_type": "markdown",
   "metadata": {},
   "source": [
    "The encoding somewhat arbitrary, It is ok for now. I can manually map them when needed."
   ]
  },
  {
   "cell_type": "markdown",
   "metadata": {},
   "source": [
    "#### Recursive Feature Elimination using Random Forest"
   ]
  },
  {
   "cell_type": "code",
   "execution_count": 13,
   "metadata": {},
   "outputs": [
    {
     "name": "stderr",
     "output_type": "stream",
     "text": [
      "C:\\ProgramData\\Anaconda3\\lib\\site-packages\\sklearn\\ensemble\\weight_boosting.py:29: DeprecationWarning: numpy.core.umath_tests is an internal NumPy module and should not be imported. It will be removed in a future NumPy release.\n",
      "  from numpy.core.umath_tests import inner1d\n"
     ]
    },
    {
     "name": "stdout",
     "output_type": "stream",
     "text": [
      "Optimal number of features : 505\n",
      "Index(['22-minute meals', '3-ingredient recipes', 'advance prep required',\n",
      "       'alcoholic', 'almond', 'amaretto', 'anchovy', 'anise', 'anniversary',\n",
      "       'aperitif',\n",
      "       ...\n",
      "       'wine', 'winter', 'wok', 'yellow squash', 'yogurt', 'zucchini',\n",
      "       'leftovers', 'snack', 'snack week', 'turkey'],\n",
      "      dtype='object', length=505)\n",
      "0.9855376022341911\n"
     ]
    },
    {
     "data": {
      "image/png": "[encoded data removed]",
      "text/plain": [
       "<Figure size 432x288 with 1 Axes>"
      ]
     },
     "metadata": {
      "needs_background": "light"
     },
     "output_type": "display_data"
    }
   ],
   "source": [
    "# Select Features using Random Forest\n",
    "\n",
    "from sklearn.ensemble import RandomForestClassifier\n",
    "from sklearn.feature_selection import RFECV\n",
    "# The \"accuracy\" scoring is proportional to the number of correct classifications\n",
    "# takes 30 minutes, better to load previously saved model\n",
    "selector_rf = pickle.load(open('selector_rf.sav', 'rb'))\n",
    "#selector_rf = RFECV(RandomForestClassifier(), scoring='accuracy', n_jobs=-1)\n",
    "#import time\n",
    "#start_time = time.time()\n",
    "#selector_rf.fit(X, y)\n",
    "print(\"Optimal number of features : %d\" % selector_rf.n_features_)\n",
    "print(X.columns[selector_rf.get_support(indices=True)])\n",
    "print(selector_rf.score(X,y))\n",
    "#print(\"--- %s seconds ---\" % (time.time() - start_time))\n",
    "plt.figure()\n",
    "plt.xlabel(\"Number of features selected\")\n",
    "plt.ylabel(\"Cross validation score (nb of correct classifications)\")\n",
    "plt.plot(range(1, len(selector_rf.grid_scores_) + 1), selector_rf.grid_scores_)\n",
    "plt.show()"
   ]
  },
  {
   "cell_type": "code",
   "execution_count": 136,
   "metadata": {},
   "outputs": [
    {
     "data": {
      "text/plain": [
       "array([0.41611881, 0.41576964, 0.41581949, 0.41601891, 0.41492219,\n",
       "       0.41427369, 0.41232852, 0.41128095, 0.40903673, 0.40903746,\n",
       "       0.40594559, 0.40614499, 0.40295198, 0.39941216, 0.39851385,\n",
       "       0.39532293, 0.39472414, 0.39048716, 0.38884083, 0.38839143,\n",
       "       0.38659662, 0.38445207, 0.38420158, 0.38086015, 0.38295477,\n",
       "       0.37941576, 0.3828562 , 0.38235661, 0.38096128, 0.38100893,\n",
       "       0.38320485, 0.38260657, 0.38574761, 0.38470048, 0.38814199,\n",
       "       0.38529846, 0.39018762, 0.39128159, 0.39048442, 0.39716594,\n",
       "       0.39831388, 0.39178146, 0.39741609, 0.39188293, 0.40085828,\n",
       "       0.39816489, 0.40464729, 0.40579639, 0.40559723, 0.40684303,\n",
       "       0.40709287, 0.40659418, 0.40744082, 0.40983461, 0.4063443 ,\n",
       "       0.41402343, 0.41447435, 0.4131778 , 0.4169672 , 0.41392493,\n",
       "       0.41751518, 0.41362529, 0.41736594, 0.41397408, 0.41656834,\n",
       "       0.4175642 , 0.41731534, 0.41976019, 0.42010947, 0.42001058,\n",
       "       0.42010877, 0.4222018 , 0.42290143, 0.42334927, 0.42549427,\n",
       "       0.42080718, 0.4211058 , 0.42275267, 0.42444887, 0.42494636,\n",
       "       0.42394939, 0.4269913 , 0.42629134, 0.42544563, 0.42664199,\n",
       "       0.42714156, 0.42813758, 0.42928608, 0.4340228 , 0.42664206,\n",
       "       0.43337415, 0.43113114, 0.43122987, 0.43347501, 0.43013331,\n",
       "       0.43177902, 0.43631704, 0.43103102, 0.43442173, 0.42928564,\n",
       "       0.43317466, 0.43611622, 0.43287587, 0.43427128, 0.4346724 ,\n",
       "       0.42998384, 0.43362395, 0.43172881, 0.43641375, 0.43197761,\n",
       "       0.43422119, 0.43397396, 0.43382441, 0.4396081 , 0.43811374,\n",
       "       0.4328755 , 0.4366664 , 0.43876006, 0.43955938, 0.43372353,\n",
       "       0.4398567 , 0.44000676, 0.43975892, 0.43606818, 0.44010751,\n",
       "       0.44409602, 0.44025564, 0.43402172, 0.44314956, 0.43741367,\n",
       "       0.43791205, 0.44160291, 0.44175333, 0.44364797, 0.43940988,\n",
       "       0.436465  , 0.44035691, 0.44265097, 0.43626605, 0.44155428,\n",
       "       0.43791164, 0.43965703, 0.44140159, 0.44225092, 0.4418528 ,\n",
       "       0.43965734, 0.43821285, 0.44394721, 0.44185305, 0.4449451 ,\n",
       "       0.44015815, 0.44354779, 0.44210267, 0.44653948, 0.44085562,\n",
       "       0.44853567, 0.44354787, 0.44369764, 0.44275147, 0.44619012,\n",
       "       0.44599197, 0.44539372, 0.44369755, 0.45068048, 0.45172607,\n",
       "       0.44539274, 0.44893331, 0.44200199, 0.44524326, 0.44713794,\n",
       "       0.44639132, 0.44698754, 0.44384734, 0.44908299, 0.44678853,\n",
       "       0.44893393, 0.44549474, 0.44494334, 0.44544373, 0.44754031,\n",
       "       0.45172681, 0.44893322, 0.45127836, 0.44519391, 0.44768732,\n",
       "       0.44459463, 0.44624051, 0.44644112, 0.44594153, 0.44748807,\n",
       "       0.44903344, 0.44120481, 0.44798678, 0.44813704, 0.45082787,\n",
       "       0.44773805, 0.44973145, 0.4481858 , 0.44918379, 0.45127835,\n",
       "       0.45152843, 0.44783705, 0.44998004, 0.44733682, 0.44354754,\n",
       "       0.45092968, 0.45008091, 0.44634091, 0.44988117, 0.45222491,\n",
       "       0.45152829, 0.45252358, 0.45247455, 0.45102953, 0.45267363,\n",
       "       0.44878478, 0.44604199, 0.45312306, 0.45277312, 0.45282331,\n",
       "       0.44743779, 0.45267422, 0.44709075, 0.44988185, 0.44788627,\n",
       "       0.45307519, 0.44843656, 0.44933329, 0.45496793, 0.44768696,\n",
       "       0.44793673, 0.4498827 , 0.45576619, 0.45137869, 0.44808547,\n",
       "       0.44778806, 0.44614112, 0.44858539, 0.45087895, 0.44918466,\n",
       "       0.45182668, 0.44968446, 0.45127759, 0.45596714, 0.45122962,\n",
       "       0.45167597, 0.45347181, 0.44723956, 0.45731234, 0.45666456,\n",
       "       0.45397146, 0.45107835, 0.45367095, 0.44903175, 0.45082865,\n",
       "       0.45053069, 0.44973136, 0.45102839, 0.4473882 , 0.44220356,\n",
       "       0.44968274, 0.44738756, 0.45227508, 0.45067962, 0.45077957,\n",
       "       0.44983235, 0.44574243, 0.44763736, 0.44748816, 0.45187629,\n",
       "       0.45102905, 0.45077855, 0.45377035, 0.45531825, 0.45033039,\n",
       "       0.44783645, 0.44898439, 0.45097758, 0.45102819, 0.44903316,\n",
       "       0.44708834, 0.45287483, 0.45262451, 0.44873579, 0.45252452,\n",
       "       0.45137775, 0.45047998, 0.45431879, 0.44993165, 0.45307335,\n",
       "       0.45157879, 0.4562644 , 0.45362079, 0.45601551, 0.44943312,\n",
       "       0.45222561, 0.45142792, 0.45437082, 0.44953258, 0.45152717,\n",
       "       0.44978027, 0.4526738 , 0.45272463, 0.45023182, 0.45302457,\n",
       "       0.45461897, 0.44978237, 0.45247499, 0.45187632, 0.44978251,\n",
       "       0.45222582, 0.45028016, 0.45466928, 0.45112796, 0.45117693,\n",
       "       0.45082898, 0.4528226 , 0.44993158, 0.45137839, 0.45182742,\n",
       "       0.45247509, 0.45023132, 0.45247393, 0.4502314 , 0.4545207 ,\n",
       "       0.44938073, 0.45157752, 0.45412111, 0.45451859, 0.45756145,\n",
       "       0.45402119, 0.45377015, 0.45262355, 0.44968123, 0.44668995,\n",
       "       0.45292426, 0.4541214 , 0.45127624, 0.44748655, 0.45252575,\n",
       "       0.45242653, 0.45506855, 0.44818548, 0.44953183, 0.45177589,\n",
       "       0.45127791, 0.45392159, 0.45122767, 0.45152657, 0.45407044,\n",
       "       0.44858455, 0.45182677, 0.45282291, 0.45322371, 0.45416888,\n",
       "       0.45227491, 0.45083088, 0.45571641, 0.45466763, 0.45766071,\n",
       "       0.45197615, 0.45132746, 0.45312392, 0.4577621 , 0.45147649,\n",
       "       0.45232603, 0.45422042, 0.45751078, 0.4517271 , 0.45821019,\n",
       "       0.45417062, 0.45571638, 0.45397116, 0.45357183, 0.44893413,\n",
       "       0.45526732, 0.45432151, 0.44988199, 0.44973193, 0.45626481,\n",
       "       0.4538207 , 0.45521888, 0.45287466, 0.4550182 , 0.44833579,\n",
       "       0.45781059, 0.45107771, 0.45641627, 0.45930555, 0.44903326,\n",
       "       0.45172743, 0.44973236, 0.45411985, 0.45761223, 0.45287432,\n",
       "       0.45222488, 0.45382135, 0.45043001, 0.45102855, 0.45287522,\n",
       "       0.45516774, 0.45526727, 0.45192532, 0.4596535 , 0.45771082,\n",
       "       0.45761225, 0.45636434, 0.45855985, 0.45357162, 0.45761178,\n",
       "       0.45601627, 0.45761165, 0.45382123, 0.45407232, 0.45980593,\n",
       "       0.45362209, 0.45681542, 0.45272343, 0.45746213, 0.45267555,\n",
       "       0.45641398, 0.45227557, 0.45427014, 0.45461909, 0.45756105,\n",
       "       0.45895787, 0.45456966, 0.45910627, 0.45456917, 0.45232402,\n",
       "       0.45307269, 0.4518252 , 0.45711333, 0.45387215, 0.45352446,\n",
       "       0.45387096, 0.45182641, 0.45187601, 0.45042867, 0.45352068,\n",
       "       0.45421978, 0.45392018, 0.45372071, 0.46135229, 0.45980604,\n",
       "       0.46055329, 0.45257483, 0.45312334, 0.45486905, 0.45491874,\n",
       "       0.45955697, 0.45242496, 0.46120179, 0.45556705, 0.45536642,\n",
       "       0.45212544, 0.45681292, 0.44953388, 0.45855955, 0.45681392,\n",
       "       0.45207618, 0.45556514, 0.45272392, 0.45317185, 0.45586543,\n",
       "       0.45491884, 0.45337339, 0.45676379, 0.45721236, 0.45362128,\n",
       "       0.45397055, 0.45297389, 0.45571612, 0.44793726, 0.45596492,\n",
       "       0.45835917, 0.45501835, 0.45262256, 0.45327435, 0.45496854,\n",
       "       0.45566599, 0.44983135, 0.45526777, 0.45711144, 0.46170058,\n",
       "       0.45177671, 0.45272595, 0.45546777, 0.4530216 , 0.45855993,\n",
       "       0.45501788, 0.45496918, 0.45731147, 0.45631451, 0.45536436,\n",
       "       0.45461828, 0.45481848, 0.45372137, 0.45297275, 0.45636502,\n",
       "       0.45860788, 0.45192631, 0.45057874, 0.45501847, 0.46429316,\n",
       "       0.45606609, 0.45387208, 0.45835958, 0.45501966, 0.45756279,\n",
       "       0.45486878, 0.45352265, 0.45097792, 0.4503791 , 0.45352214,\n",
       "       0.45591456, 0.45621508, 0.45496736, 0.45741272, 0.45686276,\n",
       "       0.45561616, 0.45801078, 0.45027962, 0.45531756, 0.45696346,\n",
       "       0.45387163, 0.4551668 , 0.45237688, 0.45437075, 0.45297378,\n",
       "       0.45501795, 0.45636517, 0.45521838, 0.45337213, 0.45038042,\n",
       "       0.45920678, 0.45581697, 0.45671424, 0.4519275 , 0.45706343,\n",
       "       0.45307331, 0.45082924, 0.45656382, 0.45362245, 0.45606717,\n",
       "       0.45073029, 0.45581573, 0.45626389, 0.45491817, 0.45137699,\n",
       "       0.45766071, 0.45022923, 0.45137867, 0.45576704, 0.45247376,\n",
       "       0.45417103, 0.45880776, 0.45396984, 0.45486768, 0.45546685,\n",
       "       0.45486783, 0.45601602, 0.45531638, 0.45776024, 0.45427013,\n",
       "       0.45492023, 0.45646462, 0.45232527, 0.45686374, 0.45392247,\n",
       "       0.45397014, 0.45636417, 0.45297395, 0.45167649, 0.45531704,\n",
       "       0.45731288, 0.45401987, 0.45646436, 0.45626509, 0.45012993,\n",
       "       0.4542206 , 0.45347227, 0.45237467, 0.45437025, 0.46080283,\n",
       "       0.45711218, 0.45875877, 0.45736222, 0.45072965, 0.45392124,\n",
       "       0.45776109, 0.45706249, 0.45681364, 0.45332206, 0.45481903,\n",
       "       0.44758549, 0.45761172, 0.45915723, 0.45357211, 0.45581705,\n",
       "       0.4532725 , 0.45412099, 0.45496689, 0.45117826, 0.45601534,\n",
       "       0.45496935, 0.45641306, 0.45292271, 0.45242499, 0.45611608,\n",
       "       0.45746329, 0.45536711, 0.45761266, 0.45631486, 0.45621549,\n",
       "       0.45451773, 0.4484336 , 0.45496907, 0.4489837 , 0.45751211,\n",
       "       0.45721404, 0.45726405, 0.45247409, 0.45671374, 0.4550176 ,\n",
       "       0.45606658, 0.46015563, 0.45452022, 0.45701268, 0.45666314,\n",
       "       0.45421989, 0.45536666, 0.45442025, 0.45167859, 0.45352236,\n",
       "       0.45581645, 0.45571677, 0.45317237, 0.45686228, 0.45197467,\n",
       "       0.45526873, 0.45646497, 0.45322392, 0.45412139, 0.45421919,\n",
       "       0.45187572, 0.45167629, 0.45337389, 0.45062846, 0.45511877,\n",
       "       0.45412055, 0.45536727, 0.45541526, 0.4495815 , 0.4525741 ,\n",
       "       0.45631409, 0.45815983, 0.45746137, 0.45676419, 0.45646484,\n",
       "       0.46030386, 0.4586075 , 0.45182558, 0.45481925, 0.45551622,\n",
       "       0.45142736, 0.45631405, 0.45132879, 0.46055361, 0.4551667 ,\n",
       "       0.45317223, 0.45536707, 0.45431986, 0.45107894])"
      ]
     },
     "execution_count": 136,
     "metadata": {},
     "output_type": "execute_result"
    }
   ],
   "source": [
    "#trying to rank the features, but not working because the estimetor is not fitted using fit()\n",
    "#selector_rf.estimator.feature_importances_\n",
    "\n",
    "selector_rf.grid_scores_"
   ]
  },
  {
   "cell_type": "markdown",
   "metadata": {},
   "source": [
    "#### PCA feature importance"
   ]
  },
  {
   "cell_type": "code",
   "execution_count": 56,
   "metadata": {
    "scrolled": true
   },
   "outputs": [
    {
     "name": "stdout",
     "output_type": "stream",
     "text": [
      "The percentage of total variance in the dataset explained by each component from Sklearn PCA.\n",
      " [0.12310325 0.04414084 0.03883227 0.02648318 0.02280018 0.01867339\n",
      " 0.01624925 0.01510961 0.0143033  0.01340297 0.01245192 0.01186382\n",
      " 0.01149502 0.01031826 0.01002525 0.00932857 0.00909545 0.0088844\n",
      " 0.00867578 0.0084007  0.00821706 0.00808013 0.00777638 0.00769084\n",
      " 0.00756433 0.00723954 0.00712354 0.00702391 0.00682328 0.00670951]\n"
     ]
    },
    {
     "data": {
      "text/plain": [
       "peanut free          0.405768\n",
       "soy free             0.400234\n",
       "kosher               0.353162\n",
       "pescatarian          0.351861\n",
       "tree nut free        0.349370\n",
       "vegetarian           0.285156\n",
       "wheat/gluten-free    0.256291\n",
       "no sugar added       0.171118\n",
       "dairy free           0.168436\n",
       "side                 0.136636\n",
       "kidney friendly      0.127412\n",
       "sugar conscious      0.118664\n",
       "dessert              0.095250\n",
       "vegan                0.089355\n",
       "dinner               0.063663\n",
       "paleo                0.050199\n",
       "bake                 0.043460\n",
       "appetizer            0.042040\n",
       "healthy              0.040171\n",
       "lunch                0.038812\n",
       "drink                0.036431\n",
       "bon appétit          0.035411\n",
       "gourmet              0.030898\n",
       "alcoholic            0.030661\n",
       "egg                  0.028699\n",
       "kid-friendly         0.027143\n",
       "cocktail party       0.026844\n",
       "brunch               0.026526\n",
       "fruit                0.026131\n",
       "fat free             0.025716\n",
       "dtype: float64"
      ]
     },
     "execution_count": 56,
     "metadata": {},
     "output_type": "execute_result"
    }
   ],
   "source": [
    "from sklearn.decomposition import PCA\n",
    "sklearn_pca = PCA(n_components=30)\n",
    "X_t = sklearn_pca.fit_transform(X)\n",
    "\n",
    "print(\n",
    "    'The percentage of total variance in the dataset explained by each',\n",
    "    'component from Sklearn PCA.\\n',\n",
    "    sklearn_pca.explained_variance_ratio_\n",
    ")\n",
    "# take the first principal component and find the loading scores(163 of them)\n",
    "loading_scores = pd.Series(sklearn_pca.components_[0], index=X.columns)\n",
    "\n",
    "sorted_loading_scores = loading_scores.abs().sort_values(ascending=False)\n",
    "\n",
    "sorted_loading_scores.head(30)"
   ]
  },
  {
   "cell_type": "code",
   "execution_count": 213,
   "metadata": {},
   "outputs": [
    {
     "name": "stdout",
     "output_type": "stream",
     "text": [
      "1.0\n",
      "0.9999999999999996\n",
      "0.9999999999999996\n",
      "0.9999999999999998\n"
     ]
    }
   ],
   "source": [
    "# the cofficents don't add up to 1, but the magnitude of an eigen vector is 1.0\n",
    "print(np.linalg.norm(sklearn_pca.components_[0]))\n",
    "print(np.linalg.norm(sklearn_pca.components_[1]))\n",
    "print(np.linalg.norm(sklearn_pca.components_[2]))\n",
    "print(np.linalg.norm(sklearn_pca.components_[3]))"
   ]
  },
  {
   "cell_type": "code",
   "execution_count": 15,
   "metadata": {},
   "outputs": [
    {
     "name": "stdout",
     "output_type": "stream",
     "text": [
      "--- 55.87784266471863 seconds ---\n"
     ]
    }
   ],
   "source": [
    "import time\n",
    "start_time = time.time()\n",
    "# train SVC model(takes time)\n",
    "from sklearn.svm import SVC\n",
    "#modelA =  SVC(tol=0.01, max_iter=-1)\n",
    "# Use PCA features\n",
    "#modelA.fit(X_t,y)\n",
    "#print(\"--- %s seconds ---\" % (time.time() - start_time))\n",
    "\n",
    "modelA = pickle.load(open('modelA.sav', 'rb'))\n",
    "\n",
    "print(\"--- %s seconds ---\" % (time.time() - start_time))"
   ]
  },
  {
   "cell_type": "code",
   "execution_count": 16,
   "metadata": {},
   "outputs": [
    {
     "data": {
      "text/plain": [
       "array([0.41265886, 0.41600199, 0.4176016 , 0.41585639, 0.41747815])"
      ]
     },
     "execution_count": 16,
     "metadata": {},
     "output_type": "execute_result"
    }
   ],
   "source": [
    "from sklearn.model_selection import cross_val_score\n",
    "cross_val_score(modelA, X_t, y, n_jobs=-1, cv=5)"
   ]
  },
  {
   "cell_type": "code",
   "execution_count": 17,
   "metadata": {},
   "outputs": [
    {
     "data": {
      "text/plain": [
       "SVC(C=1.0, cache_size=200, class_weight=None, coef0=0.0,\n",
       "  decision_function_shape='ovr', degree=3, gamma='auto', kernel='rbf',\n",
       "  max_iter=-1, probability=False, random_state=None, shrinking=True,\n",
       "  tol=0.01, verbose=False)"
      ]
     },
     "execution_count": 17,
     "metadata": {},
     "output_type": "execute_result"
    }
   ],
   "source": [
    "# use original features\n",
    "X = raw_data[sorted_loading_scores.index]\n",
    "import time\n",
    "start_time = time.time()\n",
    "# train SVC model(takes time)\n",
    "from sklearn.svm import SVC\n",
    "#modelB =  SVC(tol=0.01, max_iter=-1)\n",
    "#modelB.fit(X,y)\n",
    "#print(\"--- %s seconds ---\" % (time.time() - start_time))\n",
    "\n",
    "modelB = pickle.load(open(\"modelB.sav\", 'wb'))"
   ]
  },
  {
   "cell_type": "code",
   "execution_count": 18,
   "metadata": {},
   "outputs": [
    {
     "data": {
      "text/plain": [
       "array([0.40991777, 0.41500499, 0.41859885, 0.41411119, 0.41548065])"
      ]
     },
     "execution_count": 18,
     "metadata": {},
     "output_type": "execute_result"
    }
   ],
   "source": [
    "cross_val_score(modelB, X, y, n_jobs=-1, cv=5)"
   ]
  },
  {
   "cell_type": "markdown",
   "metadata": {},
   "source": [
    "#### Feature Variance"
   ]
  },
  {
   "cell_type": "code",
   "execution_count": 158,
   "metadata": {},
   "outputs": [
    {
     "name": "stdout",
     "output_type": "stream",
     "text": [
      "Index(['peanut free', 'soy free', 'kosher', 'pescatarian', 'tree nut free',\n",
      "       'vegetarian', 'wheat/gluten-free', 'no sugar added', 'dairy free',\n",
      "       'side', 'kidney friendly', 'sugar conscious', 'dessert', 'vegan',\n",
      "       'dinner', 'bake', 'healthy', 'bon appétit', 'gourmet', 'kid-friendly',\n",
      "       'fruit', 'milk/cream', 'tomato', 'quick & easy', 'fall', 'vegetable',\n",
      "       'sauté', 'onion', 'winter', 'summer'],\n",
      "      dtype='object')\n"
     ]
    }
   ],
   "source": [
    "from sklearn.feature_selection import VarianceThreshold\n",
    "# zero or one in 80% of the samples\n",
    "# one class cannot be more than 91% of the data\n",
    "var_selector = VarianceThreshold(.9115 * (1 - .9115))\n",
    "X_t2 = var_selector.fit_transform(X)\n",
    "print(X.columns[var_selector.get_support(indices=True)])"
   ]
  },
  {
   "cell_type": "code",
   "execution_count": 160,
   "metadata": {},
   "outputs": [
    {
     "name": "stdout",
     "output_type": "stream",
     "text": [
      "       PCA_Importance Variance_Threshold\n",
      "0         peanut free        peanut free\n",
      "1            soy free           soy free\n",
      "2              kosher             kosher\n",
      "3         pescatarian        pescatarian\n",
      "4       tree nut free      tree nut free\n",
      "5          vegetarian         vegetarian\n",
      "6   wheat/gluten-free  wheat/gluten-free\n",
      "7      no sugar added     no sugar added\n",
      "8          dairy free         dairy free\n",
      "9                side               side\n",
      "10    kidney friendly    kidney friendly\n",
      "11    sugar conscious    sugar conscious\n",
      "12            dessert            dessert\n",
      "13              vegan              vegan\n",
      "14             dinner             dinner\n",
      "15              paleo               bake\n",
      "16               bake            healthy\n",
      "17          appetizer        bon appétit\n",
      "18            healthy            gourmet\n",
      "19              lunch       kid-friendly\n",
      "20              drink              fruit\n",
      "21        bon appétit         milk/cream\n",
      "22            gourmet             tomato\n",
      "23          alcoholic       quick & easy\n",
      "24                egg               fall\n",
      "25       kid-friendly          vegetable\n",
      "26     cocktail party              sauté\n",
      "27             brunch              onion\n",
      "28              fruit             winter\n",
      "29           fat free             summer\n",
      "21\n"
     ]
    }
   ],
   "source": [
    "# compare it with PCA\n",
    "pca_and_variance_th = pd.DataFrame({\"PCA_Importance\": sorted_loading_scores.head(30).index, \"Variance_Threshold\":X.columns[var_selector.get_support(indices=True)]})\n",
    "print(pca_and_variance_th)\n",
    "\n",
    "# how much intersection\n",
    "print(len(set(set(pca_and_variance_th.PCA_Importance).intersection(set(pca_and_variance_th.Variance_Threshold)))))"
   ]
  },
  {
   "cell_type": "code",
   "execution_count": 66,
   "metadata": {},
   "outputs": [
    {
     "name": "stdout",
     "output_type": "stream",
     "text": [
      "--- 45.237967014312744 seconds ---\n"
     ]
    }
   ],
   "source": [
    "import time\n",
    "start_time = time.time()\n",
    "# train SVC model(takes time)\n",
    "from sklearn.svm import SVC\n",
    "#modelC =  SVC(tol=0.01, max_iter=-1)\n",
    "#modelC.fit(X_t2,y)\n",
    "modelC = pickle.load(open('modelC.sav', 'rb'))\n",
    "#print(\"--- %s seconds ---\" % (time.time() - start_time))"
   ]
  },
  {
   "cell_type": "code",
   "execution_count": 67,
   "metadata": {},
   "outputs": [
    {
     "data": {
      "text/plain": [
       "0.4139736684619988"
      ]
     },
     "execution_count": 67,
     "metadata": {},
     "output_type": "execute_result"
    }
   ],
   "source": [
    "modelC.score(X_t2,y)"
   ]
  },
  {
   "cell_type": "code",
   "execution_count": 19,
   "metadata": {},
   "outputs": [],
   "source": [
    "# from sklearn.svm import SVC\n",
    "# from sklearn.model_selection import StratifiedKFold\n",
    "# from sklearn.feature_selection import RFECV \n",
    "# selector_three = RFECV(estimator= SVC(tol=0.01), step=1, cv=StratifiedKFold(10),\n",
    "#               n_jobs=-1, scoring='accuracy')\n",
    "# selector_three.fit(X, y)\n",
    "# print(X.columns[selector_three.get_support(indices=True)])\n",
    "\n",
    "# print(\"Optimal number of features : %d\" % selector_three.n_features_)\n",
    "# print(X.columns[selector_three.get_support(indices=True)])\n",
    "# print(\"score: \", selector_three.score(X, y))\n",
    "# # Plot number of features VS. cross-validation scores\n",
    "# plt.figure()\n",
    "# plt.xlabel(\"Number of features selected\")\n",
    "# plt.ylabel(\"Cross validation score (nb of correct classifications)\")\n",
    "# plt.plot(range(1, len(selector_three.grid_scores_) + 1), selector_three.grid_scores_)\n",
    "# plt.show()"
   ]
  },
  {
   "cell_type": "markdown",
   "metadata": {},
   "source": [
    "### Binary Classfier"
   ]
  },
  {
   "cell_type": "code",
   "execution_count": 126,
   "metadata": {},
   "outputs": [
    {
     "name": "stdout",
     "output_type": "stream",
     "text": [
      "4.375\n",
      "Nice class balance: \n",
      " [ 9314 10738]\n"
     ]
    }
   ],
   "source": [
    "y = raw_data.rating\n",
    "# split at the median\n",
    "print(y.median())\n",
    "print(\"Nice class balance: \\n\", np.bincount(np.where(y < 4.375, 0, 1)))\n",
    "y_binary = np.where(y < 4.375, 0, 1)"
   ]
  },
  {
   "cell_type": "code",
   "execution_count": 174,
   "metadata": {},
   "outputs": [
    {
     "name": "stdout",
     "output_type": "stream",
     "text": [
      "majority classifier output:  0.5355076800319171\n"
     ]
    }
   ],
   "source": [
    "print(\"majority classifier output: \", 10738 / (10738 + 9314))"
   ]
  },
  {
   "cell_type": "code",
   "execution_count": 127,
   "metadata": {},
   "outputs": [
    {
     "name": "stdout",
     "output_type": "stream",
     "text": [
      "--- 310.5093038082123 seconds ---\n"
     ]
    }
   ],
   "source": [
    "## try PCA important features\n",
    "# use original features\n",
    "X = raw_data[sorted_loading_scores.index]\n",
    "#import time\n",
    "#start_time = time.time()\n",
    "# train SVC model(takes time)\n",
    "#from sklearn.svm import SVC\n",
    "#modelD =  SVC(tol=0.01, max_iter=-1)\n",
    "#modelD.fit(X, y_binary)\n",
    "modelD = pickle.load(open('modelD.sav', 'rb'))\n",
    "#print(\"--- %s seconds ---\" % (time.time() - start_time))"
   ]
  },
  {
   "cell_type": "code",
   "execution_count": 128,
   "metadata": {},
   "outputs": [
    {
     "data": {
      "text/plain": [
       "array([0.56793817, 0.57466966, 0.57292446, 0.56882793, 0.57944625])"
      ]
     },
     "execution_count": 128,
     "metadata": {},
     "output_type": "execute_result"
    }
   ],
   "source": [
    "cross_val_score(modelD, X, y_binary, n_jobs=-1, cv=5)"
   ]
  },
  {
   "cell_type": "code",
   "execution_count": 129,
   "metadata": {},
   "outputs": [
    {
     "name": "stdout",
     "output_type": "stream",
     "text": [
      "--- 30.04171085357666 seconds ---\n"
     ]
    }
   ],
   "source": [
    "## try PCA components\n",
    "\n",
    "#import time\n",
    "#start_time = time.time()\n",
    "# train SVC model(takes time)\n",
    "from sklearn.svm import SVC\n",
    "modelE = pickle.load(open('modelE.sav', 'rb'))\n",
    "\n",
    "#modelE =  SVC(tol=0.01, max_iter=-1)\n",
    "#modelE.fit(X_t, y_binary)\n",
    "#print(\"--- %s seconds ---\" % (time.time() - start_time))"
   ]
  },
  {
   "cell_type": "code",
   "execution_count": 130,
   "metadata": {},
   "outputs": [
    {
     "data": {
      "text/plain": [
       "array([0.58015457, 0.57766143, 0.57242583, 0.58703242, 0.58268895])"
      ]
     },
     "execution_count": 130,
     "metadata": {},
     "output_type": "execute_result"
    }
   ],
   "source": [
    "cross_val_score(modelE, X_t, y_binary, n_jobs=-1, cv=5)"
   ]
  },
  {
   "cell_type": "code",
   "execution_count": 133,
   "metadata": {},
   "outputs": [
    {
     "name": "stdout",
     "output_type": "stream",
     "text": [
      "Optimal number of features : 583\n",
      "Index(['peanut free', 'soy free', 'kosher', 'pescatarian', 'tree nut free',\n",
      "       'vegetarian', 'wheat/gluten-free', 'no sugar added', 'dairy free',\n",
      "       'side',\n",
      "       ...\n",
      "       'digestif', 'sandwich theory', 'tennessee', 'taco', 'italy',\n",
      "       '22-minute meals', 'granola', 'illinois', 'calvados', 'france'],\n",
      "      dtype='object', length=583)\n",
      "0.985836824256932\n"
     ]
    },
    {
     "data": {
      "image/png": "[encoded data removed]",
      "text/plain": [
       "<Figure size 432x288 with 1 Axes>"
      ]
     },
     "metadata": {
      "needs_background": "light"
     },
     "output_type": "display_data"
    }
   ],
   "source": [
    "# Select Features using Random Forest\n",
    "from sklearn.ensemble import RandomForestClassifier\n",
    "from sklearn.feature_selection import RFECV\n",
    "# The \"accuracy\" scoring is proportional to the number of correct classifications\n",
    "# takes 30 minutes, better to load previously saved model\n",
    "selector_rf2 = pickle.load(open('selector_rf2.sav', 'rb'))\n",
    "#selector_rf2 = RFECV(RandomForestClassifier(), scoring='accuracy', n_jobs=-1)\n",
    "#import time\n",
    "#start_time = time.time()\n",
    "#selector_rf2.fit(X, y_binary)\n",
    "print(\"Optimal number of features : %d\" % selector_rf2.n_features_)\n",
    "print(X.columns[selector_rf2.get_support(indices=True)])\n",
    "print(selector_rf2.score(X, y_binary))\n",
    "#print(\"--- %s seconds ---\" % (time.time() - start_time))\n",
    "plt.figure()\n",
    "plt.xlabel(\"Number of features selected\")\n",
    "plt.ylabel(\"Cross validation score (nb of correct classifications)\")\n",
    "plt.plot(range(1, len(selector_rf2.grid_scores_) + 1), selector_rf2.grid_scores_)\n",
    "plt.show()"
   ]
  },
  {
   "cell_type": "markdown",
   "metadata": {},
   "source": [
    "#### Recursive Feature Elimination(with Max features)"
   ]
  },
  {
   "cell_type": "code",
   "execution_count": 176,
   "metadata": {},
   "outputs": [],
   "source": [
    "import time\n",
    "#start_time = time.time()\n",
    "from sklearn.feature_selection import RFE\n",
    "# takes 10 minutes\n",
    "#selector_rf3 = RFE(RandomForestClassifier(), n_features_to_select=30, step=1)\n",
    "#selector_rf3 = selector_rf3.fit(X, y_binary)\n",
    "selector_rf3 = pickle.load(open(\"selector_rf3.sav\",\"rb\"))\n",
    "#print(\"--- %s seconds ---\" % (time.time() - start_time))"
   ]
  },
  {
   "cell_type": "code",
   "execution_count": 177,
   "metadata": {},
   "outputs": [
    {
     "name": "stdout",
     "output_type": "stream",
     "text": [
      "Index(['vegetarian', 'wheat/gluten-free', 'no sugar added', 'dairy free',\n",
      "       'side', 'kidney friendly', 'sugar conscious', 'healthy', 'bon appétit',\n",
      "       'egg', 'kid-friendly', 'chicken', 'milk/cream', 'salad', 'soup/stew',\n",
      "       'tomato', 'quick & easy', 'garlic', 'dairy', 'sauté', 'potato', 'onion',\n",
      "       'spring', 'herb', 'ginger', 'winter', 'food processor', 'lemon',\n",
      "       'summer', 'chill'],\n",
      "      dtype='object')\n"
     ]
    }
   ],
   "source": [
    "print(X.columns[selector_rf3.get_support(indices=True)])"
   ]
  },
  {
   "cell_type": "code",
   "execution_count": 162,
   "metadata": {},
   "outputs": [
    {
     "name": "stdout",
     "output_type": "stream",
     "text": [
      "       PCA_Importance Variance_Threshold      Random Forest\n",
      "0         peanut free        peanut free         vegetarian\n",
      "1            soy free           soy free  wheat/gluten-free\n",
      "2              kosher             kosher     no sugar added\n",
      "3         pescatarian        pescatarian         dairy free\n",
      "4       tree nut free      tree nut free               side\n",
      "5          vegetarian         vegetarian    kidney friendly\n",
      "6   wheat/gluten-free  wheat/gluten-free    sugar conscious\n",
      "7      no sugar added     no sugar added            healthy\n",
      "8          dairy free         dairy free        bon appétit\n",
      "9                side               side                egg\n",
      "10    kidney friendly    kidney friendly       kid-friendly\n",
      "11    sugar conscious    sugar conscious            chicken\n",
      "12            dessert            dessert         milk/cream\n",
      "13              vegan              vegan              salad\n",
      "14             dinner             dinner          soup/stew\n",
      "15              paleo               bake             tomato\n",
      "16               bake            healthy       quick & easy\n",
      "17          appetizer        bon appétit             garlic\n",
      "18            healthy            gourmet              dairy\n",
      "19              lunch       kid-friendly              sauté\n",
      "20              drink              fruit             potato\n",
      "21        bon appétit         milk/cream              onion\n",
      "22            gourmet             tomato             spring\n",
      "23          alcoholic       quick & easy               herb\n",
      "24                egg               fall             ginger\n",
      "25       kid-friendly          vegetable             winter\n",
      "26     cocktail party              sauté     food processor\n",
      "27             brunch              onion              lemon\n",
      "28              fruit             winter             summer\n",
      "29           fat free             summer              chill\n"
     ]
    }
   ],
   "source": [
    "# compare with the other feature selection results\n",
    "\n",
    "allthree = pd.DataFrame({\"PCA_Importance\": sorted_loading_scores.head(30).index, \n",
    "                         \"Variance_Threshold\":X.columns[var_selector.get_support(indices=True)],\n",
    "                         \"Random Forest\": X.columns[selector_rf3.get_support(indices=True)]\n",
    "                        })\n",
    "print(allthree)"
   ]
  },
  {
   "cell_type": "code",
   "execution_count": 166,
   "metadata": {},
   "outputs": [
    {
     "data": {
      "text/plain": [
       "(20052, 30)"
      ]
     },
     "execution_count": 166,
     "metadata": {},
     "output_type": "execute_result"
    }
   ],
   "source": [
    "# transform X\n",
    "Xt_rf = selector_rf3.transform(X)\n",
    "Xt_rf.shape"
   ]
  },
  {
   "cell_type": "code",
   "execution_count": 169,
   "metadata": {},
   "outputs": [
    {
     "name": "stdout",
     "output_type": "stream",
     "text": [
      "--- 103.1919629573822 seconds ---\n"
     ]
    }
   ],
   "source": [
    "start_time = time.time()\n",
    "#modelF =  SVC(tol=0.01, max_iter=-1)\n",
    "#modelF.fit(X_t2,y_binary)\n",
    "modelF = pickle.load(open('modelF.sav', 'rb'))\n",
    "print(\"--- %s seconds ---\" % (time.time() - start_time))"
   ]
  },
  {
   "cell_type": "code",
   "execution_count": 171,
   "metadata": {},
   "outputs": [
    {
     "data": {
      "text/plain": [
       "array([0.55397656, 0.5477437 , 0.54475193, 0.55361596, 0.54527314])"
      ]
     },
     "execution_count": 171,
     "metadata": {},
     "output_type": "execute_result"
    }
   ],
   "source": [
    "cross_val_score(modelF, Xt_rf, y_binary, n_jobs=-1, cv=5)"
   ]
  },
  {
   "cell_type": "code",
   "execution_count": 170,
   "metadata": {},
   "outputs": [],
   "source": [
    "## Save the models\n",
    "import pickle\n",
    "pickle.dump(svr, open('svr1.sav', 'wb'))\n",
    "pickle.dump(selector_rf, open('selector_rf.sav', 'wb'))\n",
    "pickle.dump(modelA, open('modelA.sav', 'wb'))\n",
    "pickle.dump(modelB, open('modelB.sav', 'wb'))\n",
    "pickle.dump(modelC, open('modelC.sav', 'wb'))\n",
    "pickle.dump(selector_rf2, open('selector_rf2.sav', 'wb'))\n",
    "pickle.dump(modelD, open('modelD.sav', 'wb'))\n",
    "pickle.dump(modelE, open('modelE.sav', 'wb'))\n",
    "pickle.dump(selector_rf3, open('selector_rf3.sav', 'wb'))\n",
    "pickle.dump(modelF, open('modelF.sav', 'wb'))"
   ]
  },
  {
   "cell_type": "markdown",
   "metadata": {},
   "source": [
    "#### Reflection\n",
    "\n",
    "Support Vector Machines can be used for Regression and Classification. For Classification we want to maximize the margin which is the distance from the classifier hyperplane(line for 2D data) to the support vectors(nereast vector to the boundary). If there are misclassified data points we want to minimize their distance to the boundary. For Regression, the margin is the difference between actual and predicted values. The advantage of SVR over other techniques like OLS is, we can specify the size of the margin and the penality for being outside the margin for training. \n",
    "\n",
    "There are many ways to select features. I run PCA and selected 30 features in two ways: the principal components(modelA), important features(modelB). Then I selected 30 features using VarianceThreshold(modelC). All performed similarly(around 0.4)\n",
    "In this notebook, I tried to do multi-class SVC. \n",
    "\n",
    "For binary target variable, using the PCA fetures, the accuracy score is around 0.575. It is a little higher than the majority class(\n",
    "I experimeted RFECV with randomforest for multiclass (rf1) and for binary ouput(rf2). Both yielded large number of features(>500). I couldn't not find a way to rank them. \n",
    "\n",
    "I found using RFE it is possible to get feature_importances. RFE with SVC is not possible because SVC don't have feature_importances or coef_ attributes. I used RFE with RandomForest and its accuracy is only 0.53."
   ]
  }
 ],
 "metadata": {
  "hide_input": false,
  "kernelspec": {
   "display_name": "Python 3",
   "language": "python",
   "name": "python3"
  },
  "language_info": {
   "codemirror_mode": {
    "name": "ipython",
    "version": 3
   },
   "file_extension": ".py",
   "mimetype": "text/x-python",
   "name": "python",
   "nbconvert_exporter": "python",
   "pygments_lexer": "ipython3",
   "version": "3.7.0"
  },
  "toc": {
   "colors": {
    "hover_highlight": "#DAA520",
    "running_highlight": "#FF0000",
    "selected_highlight": "#FFD700"
   },
   "moveMenuLeft": true,
   "nav_menu": {
    "height": "12px",
    "width": "252px"
   },
   "navigate_menu": true,
   "number_sections": true,
   "sideBar": true,
   "threshold": 4,
   "toc_cell": false,
   "toc_section_display": "block",
   "toc_window_display": false
  }
 },
 "nbformat": 4,
 "nbformat_minor": 2
}
