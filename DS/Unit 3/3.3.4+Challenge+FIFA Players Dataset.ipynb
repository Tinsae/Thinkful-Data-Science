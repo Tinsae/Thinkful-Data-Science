{
 "cells": [
  {
   "cell_type": "markdown",
   "metadata": {},
   "source": [
    "### Building Logistic Regression Model\n",
    "\n",
    "A manager thinks that players preference should be respected when it comes to playing position. It ensures that the player will stay longer with the club and will be productive. So he wants to know whether a player likes to play in the forward, midfield, defense or combinations of these positions. A logistic regerssion model capbable of predicting the prefered positon of a player will help the manager filter out suitable player based on the situation of his club. For example, if there are enough midfield players in my team the manager may like to take players who like to play forward only. If the team is balanced, taking players with combined preferences might be preferable."
   ]
  },
  {
   "cell_type": "code",
   "execution_count": 1,
   "metadata": {},
   "outputs": [
    {
     "data": {
      "text/html": [
       "<div>\n",
       "<style scoped>\n",
       "    .dataframe tbody tr th:only-of-type {\n",
       "        vertical-align: middle;\n",
       "    }\n",
       "\n",
       "    .dataframe tbody tr th {\n",
       "        vertical-align: top;\n",
       "    }\n",
       "\n",
       "    .dataframe thead th {\n",
       "        text-align: right;\n",
       "    }\n",
       "</style>\n",
       "<table border=\"1\" class=\"dataframe\">\n",
       "  <thead>\n",
       "    <tr style=\"text-align: right;\">\n",
       "      <th></th>\n",
       "      <th>Name</th>\n",
       "      <th>Age</th>\n",
       "      <th>Photo</th>\n",
       "      <th>Nationality</th>\n",
       "      <th>Flag</th>\n",
       "      <th>Overall</th>\n",
       "      <th>Potential</th>\n",
       "      <th>Club</th>\n",
       "      <th>Club Logo</th>\n",
       "      <th>Value</th>\n",
       "      <th>...</th>\n",
       "      <th>RB</th>\n",
       "      <th>RCB</th>\n",
       "      <th>RCM</th>\n",
       "      <th>RDM</th>\n",
       "      <th>RF</th>\n",
       "      <th>RM</th>\n",
       "      <th>RS</th>\n",
       "      <th>RW</th>\n",
       "      <th>RWB</th>\n",
       "      <th>ST</th>\n",
       "    </tr>\n",
       "  </thead>\n",
       "  <tbody>\n",
       "    <tr>\n",
       "      <th>0</th>\n",
       "      <td>Cristiano Ronaldo</td>\n",
       "      <td>32</td>\n",
       "      <td>https://cdn.sofifa.org/48/18/players/20801.png</td>\n",
       "      <td>Portugal</td>\n",
       "      <td>https://cdn.sofifa.org/flags/38.png</td>\n",
       "      <td>94</td>\n",
       "      <td>94</td>\n",
       "      <td>Real Madrid CF</td>\n",
       "      <td>https://cdn.sofifa.org/24/18/teams/243.png</td>\n",
       "      <td>95500000.0</td>\n",
       "      <td>...</td>\n",
       "      <td>61.0</td>\n",
       "      <td>53.0</td>\n",
       "      <td>82.0</td>\n",
       "      <td>62.0</td>\n",
       "      <td>91.0</td>\n",
       "      <td>89.0</td>\n",
       "      <td>92.0</td>\n",
       "      <td>91.0</td>\n",
       "      <td>66.0</td>\n",
       "      <td>92.0</td>\n",
       "    </tr>\n",
       "    <tr>\n",
       "      <th>1</th>\n",
       "      <td>L. Messi</td>\n",
       "      <td>30</td>\n",
       "      <td>https://cdn.sofifa.org/48/18/players/158023.png</td>\n",
       "      <td>Argentina</td>\n",
       "      <td>https://cdn.sofifa.org/flags/52.png</td>\n",
       "      <td>93</td>\n",
       "      <td>93</td>\n",
       "      <td>FC Barcelona</td>\n",
       "      <td>https://cdn.sofifa.org/24/18/teams/241.png</td>\n",
       "      <td>105000000.0</td>\n",
       "      <td>...</td>\n",
       "      <td>57.0</td>\n",
       "      <td>45.0</td>\n",
       "      <td>84.0</td>\n",
       "      <td>59.0</td>\n",
       "      <td>92.0</td>\n",
       "      <td>90.0</td>\n",
       "      <td>88.0</td>\n",
       "      <td>91.0</td>\n",
       "      <td>62.0</td>\n",
       "      <td>88.0</td>\n",
       "    </tr>\n",
       "    <tr>\n",
       "      <th>2</th>\n",
       "      <td>Neymar</td>\n",
       "      <td>25</td>\n",
       "      <td>https://cdn.sofifa.org/48/18/players/190871.png</td>\n",
       "      <td>Brazil</td>\n",
       "      <td>https://cdn.sofifa.org/flags/54.png</td>\n",
       "      <td>92</td>\n",
       "      <td>94</td>\n",
       "      <td>Paris Saint-Germain</td>\n",
       "      <td>https://cdn.sofifa.org/24/18/teams/73.png</td>\n",
       "      <td>123000000.0</td>\n",
       "      <td>...</td>\n",
       "      <td>59.0</td>\n",
       "      <td>46.0</td>\n",
       "      <td>79.0</td>\n",
       "      <td>59.0</td>\n",
       "      <td>88.0</td>\n",
       "      <td>87.0</td>\n",
       "      <td>84.0</td>\n",
       "      <td>89.0</td>\n",
       "      <td>64.0</td>\n",
       "      <td>84.0</td>\n",
       "    </tr>\n",
       "    <tr>\n",
       "      <th>3</th>\n",
       "      <td>L. Suárez</td>\n",
       "      <td>30</td>\n",
       "      <td>https://cdn.sofifa.org/48/18/players/176580.png</td>\n",
       "      <td>Uruguay</td>\n",
       "      <td>https://cdn.sofifa.org/flags/60.png</td>\n",
       "      <td>92</td>\n",
       "      <td>92</td>\n",
       "      <td>FC Barcelona</td>\n",
       "      <td>https://cdn.sofifa.org/24/18/teams/241.png</td>\n",
       "      <td>97000000.0</td>\n",
       "      <td>...</td>\n",
       "      <td>64.0</td>\n",
       "      <td>58.0</td>\n",
       "      <td>80.0</td>\n",
       "      <td>65.0</td>\n",
       "      <td>88.0</td>\n",
       "      <td>85.0</td>\n",
       "      <td>88.0</td>\n",
       "      <td>87.0</td>\n",
       "      <td>68.0</td>\n",
       "      <td>88.0</td>\n",
       "    </tr>\n",
       "    <tr>\n",
       "      <th>4</th>\n",
       "      <td>M. Neuer</td>\n",
       "      <td>31</td>\n",
       "      <td>https://cdn.sofifa.org/48/18/players/167495.png</td>\n",
       "      <td>Germany</td>\n",
       "      <td>https://cdn.sofifa.org/flags/21.png</td>\n",
       "      <td>92</td>\n",
       "      <td>92</td>\n",
       "      <td>FC Bayern Munich</td>\n",
       "      <td>https://cdn.sofifa.org/24/18/teams/21.png</td>\n",
       "      <td>61000000.0</td>\n",
       "      <td>...</td>\n",
       "      <td>NaN</td>\n",
       "      <td>NaN</td>\n",
       "      <td>NaN</td>\n",
       "      <td>NaN</td>\n",
       "      <td>NaN</td>\n",
       "      <td>NaN</td>\n",
       "      <td>NaN</td>\n",
       "      <td>NaN</td>\n",
       "      <td>NaN</td>\n",
       "      <td>NaN</td>\n",
       "    </tr>\n",
       "  </tbody>\n",
       "</table>\n",
       "<p>5 rows × 74 columns</p>\n",
       "</div>"
      ],
      "text/plain": [
       "                Name  Age                                            Photo  \\\n",
       "0  Cristiano Ronaldo   32   https://cdn.sofifa.org/48/18/players/20801.png   \n",
       "1           L. Messi   30  https://cdn.sofifa.org/48/18/players/158023.png   \n",
       "2             Neymar   25  https://cdn.sofifa.org/48/18/players/190871.png   \n",
       "3          L. Suárez   30  https://cdn.sofifa.org/48/18/players/176580.png   \n",
       "4           M. Neuer   31  https://cdn.sofifa.org/48/18/players/167495.png   \n",
       "\n",
       "  Nationality                                 Flag  Overall  Potential  \\\n",
       "0    Portugal  https://cdn.sofifa.org/flags/38.png       94         94   \n",
       "1   Argentina  https://cdn.sofifa.org/flags/52.png       93         93   \n",
       "2      Brazil  https://cdn.sofifa.org/flags/54.png       92         94   \n",
       "3     Uruguay  https://cdn.sofifa.org/flags/60.png       92         92   \n",
       "4     Germany  https://cdn.sofifa.org/flags/21.png       92         92   \n",
       "\n",
       "                  Club                                   Club Logo  \\\n",
       "0       Real Madrid CF  https://cdn.sofifa.org/24/18/teams/243.png   \n",
       "1         FC Barcelona  https://cdn.sofifa.org/24/18/teams/241.png   \n",
       "2  Paris Saint-Germain   https://cdn.sofifa.org/24/18/teams/73.png   \n",
       "3         FC Barcelona  https://cdn.sofifa.org/24/18/teams/241.png   \n",
       "4     FC Bayern Munich   https://cdn.sofifa.org/24/18/teams/21.png   \n",
       "\n",
       "         Value  ...     RB   RCB   RCM   RDM    RF    RM    RS    RW   RWB  \\\n",
       "0   95500000.0  ...   61.0  53.0  82.0  62.0  91.0  89.0  92.0  91.0  66.0   \n",
       "1  105000000.0  ...   57.0  45.0  84.0  59.0  92.0  90.0  88.0  91.0  62.0   \n",
       "2  123000000.0  ...   59.0  46.0  79.0  59.0  88.0  87.0  84.0  89.0  64.0   \n",
       "3   97000000.0  ...   64.0  58.0  80.0  65.0  88.0  85.0  88.0  87.0  68.0   \n",
       "4   61000000.0  ...    NaN   NaN   NaN   NaN   NaN   NaN   NaN   NaN   NaN   \n",
       "\n",
       "     ST  \n",
       "0  92.0  \n",
       "1  88.0  \n",
       "2  84.0  \n",
       "3  88.0  \n",
       "4   NaN  \n",
       "\n",
       "[5 rows x 74 columns]"
      ]
     },
     "execution_count": 1,
     "metadata": {},
     "output_type": "execute_result"
    }
   ],
   "source": [
    "import pandas as pd\n",
    "import statistics\n",
    "import numpy as np\n",
    "import matplotlib.pyplot as plt\n",
    "import seaborn as sns\n",
    "import warnings\n",
    "warnings.filterwarnings(\"ignore\")\n",
    "# the first column can be used as index of the dataframe\n",
    "fifa18 = pd.read_csv(\"../../../Data & Script/fifa-18-demo-player-dataset/fifa18.csv\", index_col=0)\n",
    "def fix(x):\n",
    "    # evaluate sum\n",
    "    if('+' in str(x).strip()):\n",
    "        calc = x.split('+')\n",
    "        return int(calc[0]) + int(calc[1])\n",
    "    # evaluate subtraction\n",
    "    elif('-' in str(x).strip()):\n",
    "        calc = x.split('-')\n",
    "        return int(calc[0]) + int(calc[1])\n",
    "    # convert to integer if string contains a valid number\n",
    "    elif str(x).strip().isdigit():\n",
    "        return int(x)\n",
    "    # return as it is, for example null values\n",
    "    else:\n",
    "         return x\n",
    "for column in fifa18.iloc[:,11:74]:\n",
    "    fifa18[column] = fifa18[column].apply(fix)\n",
    "def convert(v):\n",
    "        if('M' in str(v)):\n",
    "            return float(v[1:-1]) * 1e6\n",
    "        elif('K' in str(v)):\n",
    "            return float(v[1:-1]) * 1e3  \n",
    "        elif('€0' in str(v)):\n",
    "            return float(v[1:])\n",
    "        else:\n",
    "            return v\n",
    "\n",
    "fifa18['Value'] = fifa18['Value'].apply(convert)\n",
    "fifa18['Wage'] = fifa18['Wage'].apply(convert)\n",
    "fifa18.head(5)"
   ]
  },
  {
   "cell_type": "markdown",
   "metadata": {},
   "source": [
    "Player Positions\n",
    "\n",
    "Forward Positions\n",
    "- LS, ST RS, LW, LF, CF, RF, RW\n",
    "\n",
    "Midfield Positions\n",
    "- LAM, CAM, RAM, LM, LCM, RCM, CM, RM, LDM, CDM, RDM\n",
    "\n",
    "Defender Positions\n",
    "\n",
    "- LB, LWB, LCB, CB, RCB, RB, RWB\n",
    "\n",
    "Goal Keeper\n",
    "\n",
    "- GK"
   ]
  },
  {
   "cell_type": "code",
   "execution_count": 2,
   "metadata": {},
   "outputs": [
    {
     "data": {
      "text/html": [
       "<div>\n",
       "<style scoped>\n",
       "    .dataframe tbody tr th:only-of-type {\n",
       "        vertical-align: middle;\n",
       "    }\n",
       "\n",
       "    .dataframe tbody tr th {\n",
       "        vertical-align: top;\n",
       "    }\n",
       "\n",
       "    .dataframe thead th {\n",
       "        text-align: right;\n",
       "    }\n",
       "</style>\n",
       "<table border=\"1\" class=\"dataframe\">\n",
       "  <thead>\n",
       "    <tr style=\"text-align: right;\">\n",
       "      <th></th>\n",
       "      <th>A</th>\n",
       "      <th>B</th>\n",
       "      <th>C</th>\n",
       "    </tr>\n",
       "  </thead>\n",
       "  <tbody>\n",
       "    <tr>\n",
       "      <th>1</th>\n",
       "      <td>2</td>\n",
       "      <td>4</td>\n",
       "      <td>RM</td>\n",
       "    </tr>\n",
       "    <tr>\n",
       "      <th>2</th>\n",
       "      <td>3</td>\n",
       "      <td>7</td>\n",
       "      <td>CB</td>\n",
       "    </tr>\n",
       "  </tbody>\n",
       "</table>\n",
       "</div>"
      ],
      "text/plain": [
       "   A  B   C\n",
       "1  2  4  RM\n",
       "2  3  7  CB"
      ]
     },
     "execution_count": 2,
     "metadata": {},
     "output_type": "execute_result"
    }
   ],
   "source": [
    "# dropping rows based on condition\n",
    "somedf = pd.DataFrame({\"A\":[1,2,3], \"B\":[5,4,7], \"C\":[\"GK\",\"RM\",\"CB\"]})\n",
    "somedf.drop(somedf[somedf.C.str.contains(\"GK\")].index, inplace=True)\n",
    "somedf"
   ]
  },
  {
   "cell_type": "code",
   "execution_count": 3,
   "metadata": {},
   "outputs": [],
   "source": [
    "# drop by index(remove Goal keepers)\n",
    "fifa18.drop(fifa18[fifa18['Preferred Positions'].str.contains('GK')].index, inplace=True)"
   ]
  },
  {
   "cell_type": "code",
   "execution_count": 4,
   "metadata": {},
   "outputs": [],
   "source": [
    "forward = {'LS', 'ST', 'RS', 'LW', 'LF', 'CF', 'RF', 'RW'}\n",
    "# All the midfield positions end with an M\n",
    "midfield = {'LAM', 'CAM', 'RAM', 'LM', 'LCM', 'RCM','CM', 'RM', 'LDM', 'CDM', 'RDM'}\n",
    "defense = {'LB', 'LWB', 'LCB', 'CB', 'RCB', 'RB', 'RWB'}\n",
    "\n",
    "assert(len(forward) + len(midfield) + len(defense) == 26)"
   ]
  },
  {
   "cell_type": "code",
   "execution_count": 5,
   "metadata": {},
   "outputs": [],
   "source": [
    "# create three features\n",
    "fifa18['forward_rating'] = fifa18[list(forward)].mean(axis=1)\n",
    "fifa18['midfield_rating'] = fifa18[list(midfield)].mean(axis=1)\n",
    "fifa18['defense_rating'] = fifa18[list(defense)].mean(axis=1)"
   ]
  },
  {
   "cell_type": "markdown",
   "metadata": {},
   "source": [
    "I coded a function below which returns\n",
    "\n",
    "- 0 GK position\n",
    "- 1 forward only\n",
    "- 2 midfield only\n",
    "- 3 midfield and forward\n",
    "- 4 defense only\n",
    "- 5 defense and forward\n",
    "- 6 defense and midfiled\n",
    "- 7 defense, midfield and forward\n",
    "\n",
    "I represented the  cases in a truth table\n",
    "    <table align = left >\n",
    "    <tr>\n",
    "    <td><b>Defense</b></td>\n",
    "    <td><b>Midfield</b></td>\n",
    "    <td><b>Forward</b></td>\n",
    "    <td><b>To Decimal</b></td>\n",
    "    <tr/>\n",
    "    <tr><td>0</td><td>0</td><td>0</td><td>0</td></tr>\n",
    "    <tr><td>0</td><td>0</td><td>1</td><td>1</td></tr>\n",
    "    <tr><td>0</td><td>1</td><td>0</td><td>2</td></tr>\n",
    "    <tr><td>0</td><td>1</td><td>1</td><td>3</td></tr>\n",
    "    <tr><td>1</td><td>0</td><td>0</td><td>4</td></tr>\n",
    "    <tr><td>1</td><td>0</td><td>1</td><td>5</td></tr>\n",
    "    <tr><td>1</td><td>1</td><td>0</td><td>6</td></tr>\n",
    "    <tr><td>1</td><td>1</td><td>1</td><td>7</td></tr>\n",
    "   </table>"
   ]
  },
  {
   "cell_type": "code",
   "execution_count": 6,
   "metadata": {},
   "outputs": [],
   "source": [
    "def create_position_code(pos_str):    \n",
    "    d = len(defense.intersection(pos_str.split())) > 0\n",
    "    m = len(midfield.intersection(pos_str.split())) > 0 \n",
    "    f = len(forward.intersection(pos_str.split())) > 0\n",
    "    return int(\"\".join([str(int(d)), str(int(m)), str(int(f))]), 2)    \n",
    "\n",
    "fifa18[\"preference_code\"] = fifa18['Preferred Positions'].apply(create_position_code)"
   ]
  },
  {
   "cell_type": "code",
   "execution_count": 7,
   "metadata": {},
   "outputs": [
    {
     "data": {
      "text/html": [
       "<div>\n",
       "<style scoped>\n",
       "    .dataframe tbody tr th:only-of-type {\n",
       "        vertical-align: middle;\n",
       "    }\n",
       "\n",
       "    .dataframe tbody tr th {\n",
       "        vertical-align: top;\n",
       "    }\n",
       "\n",
       "    .dataframe thead th {\n",
       "        text-align: right;\n",
       "    }\n",
       "</style>\n",
       "<table border=\"1\" class=\"dataframe\">\n",
       "  <thead>\n",
       "    <tr style=\"text-align: right;\">\n",
       "      <th></th>\n",
       "      <th>preference_code</th>\n",
       "      <th>Preferred Positions</th>\n",
       "    </tr>\n",
       "  </thead>\n",
       "  <tbody>\n",
       "    <tr>\n",
       "      <th>7843</th>\n",
       "      <td>2</td>\n",
       "      <td>CAM RM</td>\n",
       "    </tr>\n",
       "    <tr>\n",
       "      <th>3379</th>\n",
       "      <td>1</td>\n",
       "      <td>ST</td>\n",
       "    </tr>\n",
       "    <tr>\n",
       "      <th>8750</th>\n",
       "      <td>6</td>\n",
       "      <td>CM RB CDM</td>\n",
       "    </tr>\n",
       "    <tr>\n",
       "      <th>5113</th>\n",
       "      <td>2</td>\n",
       "      <td>LM RM</td>\n",
       "    </tr>\n",
       "    <tr>\n",
       "      <th>14532</th>\n",
       "      <td>2</td>\n",
       "      <td>RM</td>\n",
       "    </tr>\n",
       "    <tr>\n",
       "      <th>6712</th>\n",
       "      <td>6</td>\n",
       "      <td>LM LB</td>\n",
       "    </tr>\n",
       "    <tr>\n",
       "      <th>9173</th>\n",
       "      <td>4</td>\n",
       "      <td>LB</td>\n",
       "    </tr>\n",
       "    <tr>\n",
       "      <th>3651</th>\n",
       "      <td>2</td>\n",
       "      <td>CM CAM</td>\n",
       "    </tr>\n",
       "    <tr>\n",
       "      <th>801</th>\n",
       "      <td>2</td>\n",
       "      <td>CM CDM</td>\n",
       "    </tr>\n",
       "    <tr>\n",
       "      <th>8561</th>\n",
       "      <td>6</td>\n",
       "      <td>LWB CM CAM LM</td>\n",
       "    </tr>\n",
       "  </tbody>\n",
       "</table>\n",
       "</div>"
      ],
      "text/plain": [
       "       preference_code Preferred Positions\n",
       "7843                 2             CAM RM \n",
       "3379                 1                 ST \n",
       "8750                 6          CM RB CDM \n",
       "5113                 2              LM RM \n",
       "14532                2                 RM \n",
       "6712                 6              LM LB \n",
       "9173                 4                 LB \n",
       "3651                 2             CM CAM \n",
       "801                  2             CM CDM \n",
       "8561                 6      LWB CM CAM LM "
      ]
     },
     "execution_count": 7,
     "metadata": {},
     "output_type": "execute_result"
    }
   ],
   "source": [
    "fifa18[[\"preference_code\",\"Preferred Positions\"]].sample(10)"
   ]
  },
  {
   "cell_type": "code",
   "execution_count": 8,
   "metadata": {},
   "outputs": [
    {
     "data": {
      "text/plain": [
       "2    5357\n",
       "4    4846\n",
       "1    2541\n",
       "3    1587\n",
       "6    1532\n",
       "7      45\n",
       "5      44\n",
       "Name: preference_code, dtype: int64"
      ]
     },
     "execution_count": 8,
     "metadata": {},
     "output_type": "execute_result"
    }
   ],
   "source": [
    "fifa18.preference_code.value_counts()"
   ]
  },
  {
   "cell_type": "code",
   "execution_count": 9,
   "metadata": {},
   "outputs": [
    {
     "data": {
      "text/plain": [
       "Index(['Age', 'Overall', 'Potential', 'Value', 'Wage', 'Special',\n",
       "       'Acceleration', 'Aggression', 'Agility', 'Balance', 'Ball control',\n",
       "       'Composure', 'Crossing', 'Curve', 'Dribbling', 'Finishing',\n",
       "       'Free kick accuracy', 'GK diving', 'GK handling', 'GK kicking',\n",
       "       'GK positioning', 'GK reflexes', 'Heading accuracy', 'Interceptions',\n",
       "       'Jumping', 'Long passing', 'Long shots', 'Marking', 'Penalties',\n",
       "       'Positioning', 'Reactions', 'Short passing', 'Shot power',\n",
       "       'Sliding tackle', 'Sprint speed', 'Stamina', 'Standing tackle',\n",
       "       'Strength', 'Vision', 'Volleys', 'CAM', 'CB', 'CDM', 'CF', 'CM', 'ID',\n",
       "       'LAM', 'LB', 'LCB', 'LCM', 'LDM', 'LF', 'LM', 'LS', 'LW', 'LWB', 'RAM',\n",
       "       'RB', 'RCB', 'RCM', 'RDM', 'RF', 'RM', 'RS', 'RW', 'RWB', 'ST',\n",
       "       'forward_rating', 'midfield_rating', 'defense_rating',\n",
       "       'preference_code'],\n",
       "      dtype='object')"
      ]
     },
     "execution_count": 9,
     "metadata": {},
     "output_type": "execute_result"
    }
   ],
   "source": [
    "# select only numeric types\n",
    "fifa18 = fifa18.select_dtypes(include=[np.number])\n",
    "fifa18.columns"
   ]
  },
  {
   "cell_type": "code",
   "execution_count": 10,
   "metadata": {},
   "outputs": [],
   "source": [
    "X = fifa18.iloc[:,:-1]\n",
    "y = fifa18.preference_code"
   ]
  },
  {
   "cell_type": "code",
   "execution_count": 11,
   "metadata": {},
   "outputs": [
    {
     "name": "stdout",
     "output_type": "stream",
     "text": [
      "Index(['Finishing', 'Interceptions', 'Marking', 'Sliding tackle',\n",
      "       'Standing tackle'],\n",
      "      dtype='object')\n"
     ]
    }
   ],
   "source": [
    "from sklearn.feature_selection import SelectKBest, f_classif, mutual_info_classif\n",
    "selector_one = SelectKBest(f_classif , k=5)\n",
    "selector_one.fit(X, y)\n",
    "print(X.columns[selector_one.get_support(indices=True)])"
   ]
  },
  {
   "cell_type": "code",
   "execution_count": 12,
   "metadata": {},
   "outputs": [
    {
     "name": "stdout",
     "output_type": "stream",
     "text": [
      "Index(['Finishing', 'Interceptions', 'Marking', 'Sliding tackle',\n",
      "       'Standing tackle'],\n",
      "      dtype='object')\n"
     ]
    }
   ],
   "source": [
    "selector_two = SelectKBest(mutual_info_classif, k=5)\n",
    "selector_two.fit(X, y)\n",
    "print(X.columns[selector_two.get_support(indices=True)])"
   ]
  },
  {
   "cell_type": "code",
   "execution_count": 13,
   "metadata": {},
   "outputs": [],
   "source": [
    "# # logistic regression RFE\n",
    "# from sklearn.linear_model import LogisticRegression\n",
    "# from sklearn.model_selection import StratifiedKFold\n",
    "# from sklearn.feature_selection import RFECV \n",
    "# # The \"accuracy\" scoring is proportional to the number of correct classifications\n",
    "# selector_three = RFECV(estimator= LogisticRegression(n_jobs=-1), step=1, cv=StratifiedKFold(10), n_jobs=-1,\n",
    "#               scoring='accuracy', verbose=True)\n",
    "# selector_three.fit(X, y)\n",
    "# print(X.columns[selector_three.get_support(indices=True)])\n",
    "\n",
    "# print(\"Optimal number of features : %d\" % selector_three.n_features_)\n",
    "# print(X.columns[selector_three.get_support(indices=True)])\n",
    "# print(\"score: \", selector_three.score(X, y))\n",
    "# # Plot number of features VS. cross-validation scores\n",
    "# plt.figure()\n",
    "# plt.xlabel(\"Number of features selected\")\n",
    "# plt.ylabel(\"Cross validation score (nb of correct classifications)\")\n",
    "# plt.plot(range(1, len(selector_three.grid_scores_) + 1), selector_three.grid_scores_)\n",
    "# plt.show()"
   ]
  },
  {
   "cell_type": "code",
   "execution_count": 14,
   "metadata": {},
   "outputs": [],
   "source": [
    "# from sklearn.svm import SVC\n",
    "# from sklearn.model_selection import StratifiedKFold\n",
    "# from sklearn.feature_selection import RFECV \n",
    "# # The \"accuracy\" scoring is proportional to the number of correct classifications\n",
    "# selector_three = RFECV(estimator= SVC(kernel=\"linear\", tol=0.01), step=1, cv=StratifiedKFold(10),\n",
    "#               n_jobs=-1, scoring='accuracy')\n",
    "# selector_three.fit(X, y)\n",
    "# print(X.columns[selector_three.get_support(indices=True)])\n",
    "\n",
    "# print(\"Optimal number of features : %d\" % selector_three.n_features_)\n",
    "# print(X.columns[selector_three.get_support(indices=True)])\n",
    "# print(\"score: \", selector_three.score(X, y))\n",
    "# # Plot number of features VS. cross-validation scores\n",
    "# plt.figure()\n",
    "# plt.xlabel(\"Number of features selected\")\n",
    "# plt.ylabel(\"Cross validation score (nb of correct classifications)\")\n",
    "# plt.plot(range(1, len(selector_three.grid_scores_) + 1), selector_three.grid_scores_)\n",
    "# plt.show()"
   ]
  },
  {
   "cell_type": "code",
   "execution_count": 15,
   "metadata": {},
   "outputs": [
    {
     "name": "stderr",
     "output_type": "stream",
     "text": [
      "C:\\ProgramData\\Anaconda3\\lib\\site-packages\\sklearn\\ensemble\\weight_boosting.py:29: DeprecationWarning: numpy.core.umath_tests is an internal NumPy module and should not be imported. It will be removed in a future NumPy release.\n",
      "  from numpy.core.umath_tests import inner1d\n"
     ]
    },
    {
     "name": "stdout",
     "output_type": "stream",
     "text": [
      "Optimal number of features : 8\n",
      "Index(['Crossing', 'Finishing', 'Heading accuracy', 'Long passing', 'Marking',\n",
      "       'Sliding tackle', 'Standing tackle', 'Vision'],\n",
      "      dtype='object')\n",
      "0.9820085255767302\n"
     ]
    },
    {
     "data": {
      "image/png": "[encoded data removed]",
      "text/plain": [
       "<Figure size 432x288 with 1 Axes>"
      ]
     },
     "metadata": {
      "needs_background": "light"
     },
     "output_type": "display_data"
    }
   ],
   "source": [
    "from sklearn.ensemble import RandomForestClassifier\n",
    "from sklearn.feature_selection import RFECV\n",
    "# The \"accuracy\" scoring is proportional to the number of correct\n",
    "# classifications\n",
    "selector_four = RFECV(RandomForestClassifier(n_jobs=-1), scoring='accuracy')\n",
    "selector_four.fit(X, y)\n",
    "print(\"Optimal number of features : %d\" % selector_four.n_features_)\n",
    "print(X.columns[selector_four.get_support(indices=True)])\n",
    "print(selector_four.score(X,y))\n",
    "plt.figure()\n",
    "plt.xlabel(\"Number of features selected\")\n",
    "plt.ylabel(\"Cross validation score (nb of correct classifications)\")\n",
    "plt.plot(range(1, len(selector_four.grid_scores_) + 1), selector_four.grid_scores_)\n",
    "plt.show()"
   ]
  },
  {
   "cell_type": "code",
   "execution_count": 16,
   "metadata": {},
   "outputs": [],
   "source": [
    "from sklearn.model_selection import train_test_split\n",
    "X_train, X_test, y_train, y_test = train_test_split(X, y, test_size=0.2, random_state=20, shuffle=True)"
   ]
  },
  {
   "cell_type": "code",
   "execution_count": 17,
   "metadata": {},
   "outputs": [
    {
     "name": "stdout",
     "output_type": "stream",
     "text": [
      "\n",
      " Accuracy\n",
      "Predicted     1     2   3     4  6\n",
      "True                              \n",
      "1          1698   300  48     0  0\n",
      "2           415  3277  33   559  2\n",
      "3           684   568  36     3  0\n",
      "4             0   427   0  3397  3\n",
      "5             2    31   0     5  0\n",
      "6             2   568   0   666  1\n",
      "7             1    28   0     6  1\n",
      "\n",
      " Percentage accuracy\n",
      "training:  0.6589608964814669\n",
      "testing:  0.6772171732999059\n"
     ]
    }
   ],
   "source": [
    "from sklearn.linear_model import LogisticRegression\n",
    "X_train_t = selector_two.transform(X_train)\n",
    "X_test_t = selector_two.transform(X_test)\n",
    "# no regularization(becasue the inverse regularization is big)\n",
    "modelA = LogisticRegression(C=1e20, solver='newton-cg', multi_class='multinomial')\n",
    "modelA.fit(X_train_t, y_train)\n",
    "\n",
    "# Display.\n",
    "#print('Coefficients')\n",
    "#print(modelA.coef_)\n",
    "#print(modelA.intercept_)\n",
    "yhat = modelA.predict(X_train_t)\n",
    "\n",
    "print('\\n Accuracy')\n",
    "print(pd.crosstab(y_train, yhat, rownames=['True'], colnames=['Predicted']))\n",
    "\n",
    "print('\\n Percentage accuracy')\n",
    "print(\"training: \", modelA.score(X_train_t, y_train))\n",
    "print(\"testing: \", modelA.score(X_test_t, y_test))"
   ]
  },
  {
   "cell_type": "code",
   "execution_count": 18,
   "metadata": {},
   "outputs": [
    {
     "name": "stdout",
     "output_type": "stream",
     "text": [
      "\n",
      " Accuracy\n",
      "Predicted     1     2    3     4  5    6\n",
      "True                                    \n",
      "1          1709   172  158     1  0    6\n",
      "2            97  3699  217   229  0   44\n",
      "3           418   584  282     3  0    4\n",
      "4             0   162    0  3539  0  126\n",
      "5             4    10    0    15  1    8\n",
      "6             1   467    3   641  0  125\n",
      "7             2    22    1     9  0    2\n",
      "\n",
      " Percentage accuracy\n",
      "training:  0.7330930177885746\n",
      "testing:  0.7389533061736133\n"
     ]
    }
   ],
   "source": [
    "# Vanilla Logistic Regression\n",
    "from sklearn.linear_model import LogisticRegression\n",
    "X_train_t = selector_four.transform(X_train)\n",
    "X_test_t = selector_four.transform(X_test)\n",
    "# no regularization(becasue the inverse regularization is big)\n",
    "modelA = LogisticRegression(C=1e20, solver='newton-cg', multi_class='multinomial')\n",
    "modelA.fit(X_train_t, y_train)\n",
    "\n",
    "# Display.\n",
    "#print('Coefficients')\n",
    "#print(modelA.coef_)\n",
    "#print(modelA.intercept_)\n",
    "yhat = modelA.predict(X_train_t)\n",
    "\n",
    "print('\\n Accuracy')\n",
    "print(pd.crosstab(y_train, yhat, rownames=['True'], colnames=['Predicted']))\n",
    "\n",
    "print('\\n Percentage accuracy')\n",
    "print(\"training: \", modelA.score(X_train_t, y_train))\n",
    "print(\"testing: \", modelA.score(X_test_t, y_test))"
   ]
  },
  {
   "cell_type": "code",
   "execution_count": 19,
   "metadata": {},
   "outputs": [
    {
     "name": "stdout",
     "output_type": "stream",
     "text": [
      "\n",
      " Accuracy\n",
      "Predicted     1     2    3     4  5    6\n",
      "True                                    \n",
      "1          1710   172  157     1  0    6\n",
      "2            97  3699  217   229  0   44\n",
      "3           418   584  282     3  0    4\n",
      "4             0   162    0  3539  0  126\n",
      "5             4    10    0    15  1    8\n",
      "6             1   467    3   641  0  125\n",
      "7             2    22    1     9  0    2\n",
      "\n",
      " Percentage accuracy\n",
      "training:  0.7331713815531699\n",
      "testing:  0.7389533061736133\n"
     ]
    }
   ],
   "source": [
    "# L2 regularized\n",
    "from sklearn.linear_model import LogisticRegression\n",
    "X_train_t = selector_four.transform(X_train)\n",
    "X_test_t = selector_four.transform(X_test)\n",
    "# \n",
    "modelB = LogisticRegression(penalty='l2', solver='newton-cg', C=0.1, multi_class='multinomial')\n",
    "modelB.fit(X_train_t, y_train)\n",
    "\n",
    "# Display.\n",
    "#print('Coefficients')\n",
    "#print(modelB.coef_)\n",
    "#print(modelB.intercept_)\n",
    "yhat = modelB.predict(X_train_t)\n",
    "\n",
    "print('\\n Accuracy')\n",
    "print(pd.crosstab(y_train, yhat, rownames=['True'], colnames=['Predicted']))\n",
    "\n",
    "print('\\n Percentage accuracy')\n",
    "print(\"training: \", modelB.score(X_train_t, y_train))\n",
    "print(\"testing: \", modelB.score(X_test_t, y_test))"
   ]
  },
  {
   "cell_type": "code",
   "execution_count": 20,
   "metadata": {},
   "outputs": [
    {
     "name": "stdout",
     "output_type": "stream",
     "text": [
      "Coefficients\n",
      "[[-0.0441314   0.12536514  0.04393537 -0.06689365 -0.03607373 -0.01632517\n",
      "  -0.01992354 -0.02334469]\n",
      " [-0.06253716 -0.00315393 -0.10414676  0.11736109 -0.02669643 -0.0006627\n",
      "   0.02204636  0.07641953]\n",
      " [ 0.03366142  0.05141034 -0.02438004  0.0011619  -0.01325667 -0.02418003\n",
      "  -0.01223568  0.00722692]\n",
      " [ 0.048184   -0.0602677   0.03262774 -0.09247982  0.11696286  0.0652116\n",
      "  -0.0189644  -0.09082456]\n",
      " [ 0.01049829  0.09999499 -0.05912062 -0.1172014   0.06354635  0.00657666\n",
      "   0.02338576 -0.0185747 ]\n",
      " [ 0.01747665 -0.0022617  -0.02566705 -0.01076949  0.02141978  0.04722904\n",
      "  -0.00115351  0.00566776]\n",
      " [ 0.06531492  0.08949208 -0.03910012 -0.0459966   0.03206911 -0.02872679\n",
      "   0.05678848 -0.0514353 ]]\n",
      "[ -1.69662009  -2.27242285  -4.25549207  -2.16076921  -5.81933058\n",
      "  -5.1239502  -10.00673698]\n",
      "\n",
      " Accuracy\n",
      "Predicted     1     2   3     4  6\n",
      "True                              \n",
      "1          1754   239  48     5  0\n",
      "2           132  3842  89   221  2\n",
      "3           498   702  83     7  1\n",
      "4             1   266   0  3556  4\n",
      "5             4    11   1    20  2\n",
      "6             2   545   2   684  4\n",
      "7             4    21   0    11  0\n",
      "\n",
      " Percentage accuracy\n",
      "training:  0.7240028210955254\n",
      "testing:  0.7351927295518647\n"
     ]
    }
   ],
   "source": [
    "# L1 regulararized\n",
    "from sklearn.linear_model import LogisticRegression\n",
    "X_train_t = selector_four.transform(X_train)\n",
    "X_test_t = selector_four.transform(X_test)\n",
    "\n",
    "modelC = LogisticRegression(penalty='l1', solver='liblinear', C=1e1, multi_class='ovr')\n",
    "modelC.fit(X_train_t, y_train)\n",
    "\n",
    "# Display.\n",
    "print('Coefficients')\n",
    "print(modelC.coef_)\n",
    "print(modelC.intercept_)\n",
    "yhat = modelC.predict(X_train_t)\n",
    "\n",
    "print('\\n Accuracy')\n",
    "print(pd.crosstab(y_train, yhat, rownames=['True'], colnames=['Predicted']))\n",
    "\n",
    "print('\\n Percentage accuracy')\n",
    "print(\"training: \", modelC.score(X_train_t, y_train))\n",
    "print(\"testing: \", modelC.score(X_test_t, y_test))"
   ]
  },
  {
   "cell_type": "code",
   "execution_count": 21,
   "metadata": {},
   "outputs": [
    {
     "name": "stdout",
     "output_type": "stream",
     "text": [
      "GridSearchCV(cv=None, error_score='raise',\n",
      "       estimator=LogisticRegression(C=1.0, class_weight=None, dual=False, fit_intercept=True,\n",
      "          intercept_scaling=1, max_iter=100, multi_class='multinomial',\n",
      "          n_jobs=-1, penalty='l2', random_state=None, solver='newton-cg',\n",
      "          tol=0.01, verbose=0, warm_start=False),\n",
      "       fit_params=None, iid=True, n_jobs=1,\n",
      "       param_grid={'C': array([1.e+04, 1.e+03, 1.e+02, 1.e+01, 1.e+00, 1.e-01, 1.e-02, 1.e-03,\n",
      "       1.e+04])},\n",
      "       pre_dispatch='2*n_jobs', refit=True, return_train_score='warn',\n",
      "       scoring='accuracy', verbose=0)\n",
      "Best CV score for Ridge:  0.7317608337904553\n",
      "Best C for Ridge:  0.01\n"
     ]
    }
   ],
   "source": [
    "# find best lambda(L2)\n",
    "from sklearn.model_selection import GridSearchCV\n",
    "\n",
    "# prepare a range of alpha values to test\n",
    "# Remember that C cannot be 0\n",
    "inverse_regs = np.array([1e4, 1e3, 1e2, 1e1, 1,1e-1, 1e-2,1e-3,1e-4])\n",
    "#alphas = np.logspace(-5,9,20)\n",
    "\n",
    "# create and fit a ridge logistic regression model, testing each C\n",
    "grid = GridSearchCV(estimator=LogisticRegression(penalty='l2', n_jobs = -1, tol=0.01, solver='newton-cg', multi_class='multinomial'), param_grid=dict(C=inverse_regs), scoring='accuracy')\n",
    "grid.fit(X_train_t, y_train)\n",
    "print(grid)\n",
    "# summarize the results of the grid search\n",
    "print(\"Best CV score for Ridge: \", grid.best_score_)\n",
    "print(\"Best C for Ridge: \", grid.best_estimator_.C)\n"
   ]
  },
  {
   "cell_type": "code",
   "execution_count": 23,
   "metadata": {},
   "outputs": [
    {
     "name": "stdout",
     "output_type": "stream",
     "text": [
      "\n",
      " Percentage accuracy\n",
      "training:  0.7330930177885746\n",
      "testing:  0.739266687558759\n"
     ]
    }
   ],
   "source": [
    "print('\\n Percentage accuracy')\n",
    "print(\"training: \", grid.score(X_train_t, y_train))\n",
    "print(\"testing: \", grid.score(X_test_t, y_test))"
   ]
  },
  {
   "cell_type": "code",
   "execution_count": 22,
   "metadata": {},
   "outputs": [
    {
     "name": "stdout",
     "output_type": "stream",
     "text": [
      "What inverse regularization?  [0.04641589 0.04641589 0.04641589 0.04641589 0.04641589 0.04641589\n",
      " 0.04641589]\n",
      "\n",
      " Accuracy\n",
      "Predicted     1     2   3     4  6\n",
      "True                              \n",
      "1          1754   239  48     5  0\n",
      "2           132  3842  89   221  2\n",
      "3           498   702  83     7  1\n",
      "4             1   266   0  3556  4\n",
      "5             4    11   1    20  2\n",
      "6             2   545   2   684  4\n",
      "7             4    21   0    11  0\n",
      "\n",
      " Percentage accuracy\n",
      "training:  0.7332497453177651\n",
      "testing:  0.7389533061736133\n"
     ]
    }
   ],
   "source": [
    "# Logistic Regression CV(L2)\n",
    "from sklearn.linear_model import LogisticRegressionCV\n",
    "modelD = LogisticRegressionCV(cv=10, random_state=20, solver='newton-cg', n_jobs=-1 ,tol=0.01, multi_class='multinomial').fit(X_train_t, y_train)\n",
    "# Display.\n",
    "#print('Coefficients')\n",
    "#print(modelD.coef_)\n",
    "#print(modelD.intercept_)\n",
    "#yhat = modelD.predict(X_train_t)\n",
    "\n",
    "print(\"What inverse regularization? \", modelD.C_)\n",
    "print('\\n Accuracy')\n",
    "print(pd.crosstab(y_train, yhat, rownames=['True'], colnames=['Predicted']))\n",
    "\n",
    "print('\\n Percentage accuracy')\n",
    "print(\"training: \", modelD.score(X_train_t, y_train))\n",
    "print(\"testing: \", modelD.score(X_test_t, y_test))"
   ]
  },
  {
   "cell_type": "code",
   "execution_count": 26,
   "metadata": {},
   "outputs": [
    {
     "name": "stdout",
     "output_type": "stream",
     "text": [
      "GridSearchCV(cv=None, error_score='raise',\n",
      "       estimator=LogisticRegression(C=1.0, class_weight=None, dual=False, fit_intercept=True,\n",
      "          intercept_scaling=1, max_iter=100, multi_class='ovr', n_jobs=-1,\n",
      "          penalty='l1', random_state=None, solver='liblinear', tol=0.001,\n",
      "          verbose=0, warm_start=False),\n",
      "       fit_params=None, iid=True, n_jobs=1,\n",
      "       param_grid={'C': array([1.e+04, 1.e+03, 1.e+02, 1.e+01, 1.e+00, 1.e-01, 1.e-02, 1.e-03,\n",
      "       1.e-04])},\n",
      "       pre_dispatch='2*n_jobs', refit=True, return_train_score='warn',\n",
      "       scoring='accuracy', verbose=0)\n",
      "Best CV score for Ridge:  0.7237677298017396\n",
      "Best C for Ridge:  100.0\n"
     ]
    }
   ],
   "source": [
    "# find best lambda(L1)\n",
    "from sklearn.model_selection import GridSearchCV\n",
    "\n",
    "# prepare a range of alpha values to test\n",
    "# Remember that C cannot be 0\n",
    "inverse_regs = np.array([1e4, 1e3, 1e2, 1e1, 1,1e-1, 1e-2,1e-3,1e-4])\n",
    "#alphas = np.logspace(-5,9,20)\n",
    "\n",
    "# create and fit a ridge logistic regression model, testing each C\n",
    "grid = GridSearchCV(estimator=LogisticRegression(penalty='l1', n_jobs = -1, tol=0.001, solver='liblinear'), param_grid=dict(C=inverse_regs), scoring='accuracy')\n",
    "grid.fit(X_train_t, y_train)\n",
    "print(grid)\n",
    "# summarize the results of the grid search\n",
    "print(\"Best CV score for Ridge: \", grid.best_score_)\n",
    "print(\"Best C for Ridge: \", grid.best_estimator_.C)\n"
   ]
  },
  {
   "cell_type": "code",
   "execution_count": 27,
   "metadata": {},
   "outputs": [
    {
     "name": "stdout",
     "output_type": "stream",
     "text": [
      "\n",
      " Percentage accuracy\n",
      "training:  0.7241595486247159\n",
      "testing:  0.7339392040112818\n"
     ]
    }
   ],
   "source": [
    "print('\\n Percentage accuracy')\n",
    "print(\"training: \", grid.score(X_train_t, y_train))\n",
    "print(\"testing: \", grid.score(X_test_t, y_test))"
   ]
  },
  {
   "cell_type": "code",
   "execution_count": 25,
   "metadata": {},
   "outputs": [
    {
     "name": "stdout",
     "output_type": "stream",
     "text": [
      "What inverse regularization?  [3.59381366e-01 1.29154967e+03 1.00000000e-04 4.64158883e-02\n",
      " 1.00000000e-04 1.00000000e-04 1.00000000e-04]\n",
      "\n",
      " Accuracy\n",
      "Predicted     1     2   3     4  6\n",
      "True                              \n",
      "1          1754   239  48     5  0\n",
      "2           132  3842  89   221  2\n",
      "3           498   702  83     7  1\n",
      "4             1   266   0  3556  4\n",
      "5             4    11   1    20  2\n",
      "6             2   545   2   684  4\n",
      "7             4    21   0    11  0\n",
      "\n",
      " Percentage accuracy\n",
      "training:  0.7213384530992869\n",
      "testing:  0.7317455343152617\n"
     ]
    }
   ],
   "source": [
    "# Logistic Regression CV(L1)\n",
    "from sklearn.linear_model import LogisticRegressionCV\n",
    "modelD = LogisticRegressionCV(penalty='l1',cv=10, random_state=20, solver='liblinear', n_jobs=-1 ,tol=0.001).fit(X_train_t, y_train)\n",
    "# Display.\n",
    "#print('Coefficients')\n",
    "#print(modelD.coef_)\n",
    "#print(modelD.intercept_)\n",
    "#yhat = modelD.predict(X_train_t)\n",
    "\n",
    "print(\"What inverse regularization? \", modelD.C_)\n",
    "print('\\n Accuracy')\n",
    "print(pd.crosstab(y_train, yhat, rownames=['True'], colnames=['Predicted']))\n",
    "\n",
    "print('\\n Percentage accuracy')\n",
    "print(\"training: \", modelD.score(X_train_t, y_train))\n",
    "print(\"testing: \", modelD.score(X_test_t, y_test))"
   ]
  },
  {
   "cell_type": "markdown",
   "metadata": {},
   "source": [
    "Vanilla Logistic Regression has the least accuracy and it is slighly overfitted. The difference between train and test error is higher than the regularaized models. Both L1 and L2 have better accuracy. GridSearchCV with L2 and LogisticRegressionCV with L2 performed similar to L1 and L2 regulraized models. The model obtained by GridSearhCV has the best test accuracy = 0.739"
   ]
  }
 ],
 "metadata": {
  "kernelspec": {
   "display_name": "Python 3",
   "language": "python",
   "name": "python3"
  },
  "language_info": {
   "codemirror_mode": {
    "name": "ipython",
    "version": 3
   },
   "file_extension": ".py",
   "mimetype": "text/x-python",
   "name": "python",
   "nbconvert_exporter": "python",
   "pygments_lexer": "ipython3",
   "version": "3.7.0"
  }
 },
 "nbformat": 4,
 "nbformat_minor": 2
}
