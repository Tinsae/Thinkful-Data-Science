{
 "cells": [
  {
   "cell_type": "markdown",
   "metadata": {},
   "source": [
    "## Linked List from Scratch"
   ]
  },
  {
   "cell_type": "markdown",
   "metadata": {},
   "source": [
    "* Singly Linked List\n",
    "* Doubly Linked List\n",
    "* Circular Linnked List"
   ]
  },
  {
   "cell_type": "code",
   "execution_count": 1,
   "metadata": {},
   "outputs": [],
   "source": [
    "# Nodes are components of a linked list\n",
    "class Node:\n",
    "    def __init__(self, data):\n",
    "        self.data = data\n",
    "        self.next = None"
   ]
  },
  {
   "cell_type": "code",
   "execution_count": 2,
   "metadata": {},
   "outputs": [],
   "source": [
    "# implementing singly linked list\n",
    "class SingleLinkedList:\n",
    "    def __init__(self):\n",
    "        # head points to the 0th element\n",
    "        self.head = None\n",
    "        # tail points to the last element\n",
    "        self.tail = None\n",
    "    \n",
    "    def append_to_the_end(self, data):\n",
    "        # create node\n",
    "        node = Node(data)\n",
    "        # if head is None, the list is empty\n",
    "        if(self.head == None):\n",
    "            # node is the only element\n",
    "            node.next = None\n",
    "            # set head\n",
    "            self.head = node\n",
    "            # set tail\n",
    "            self.tail = node\n",
    "        # if list is not empty\n",
    "        else:     \n",
    "#             # method 1: starting from head\n",
    "#             current = self.head\n",
    "#             # go till the last element\n",
    "#             while(current.next != None):\n",
    "#                 current = current.next\n",
    "#             # append the new node\n",
    "#             current.next = node\n",
    "#             node.next = None\n",
    "#             self.tail = node\n",
    "            # method 2: using tail is easier\n",
    "            self.tail.next = node\n",
    "            node.next = None\n",
    "            self.tail = node\n",
    "        \n",
    "    def append_to_the_front(self, data):\n",
    "        node = Node(data)\n",
    "        if(self.head == None):\n",
    "            self.head = node\n",
    "            self.tail = node\n",
    "        else:\n",
    "            # put old head after new node\n",
    "            node.next = self.head\n",
    "            # node will be the new head\n",
    "            self.head = node\n",
    "\n",
    "    def insert(self, data, at):\n",
    "        # if at is 0 use append_to_the_front\n",
    "        if(at == 0):\n",
    "            self.append_to_the_front(data)\n",
    "            return\n",
    "        # create node\n",
    "        node = Node(data)\n",
    "        if(self.head == None):\n",
    "            self.head = node\n",
    "            self.tail = node\n",
    "        else:\n",
    "            # starting from head\n",
    "            current = self.head\n",
    "            i = 0\n",
    "            # go until one node before the place to be inserted\n",
    "            # if at is 2, the loop goes up to node1\n",
    "            while i < (at - 1) and current != None:\n",
    "                current = current.next\n",
    "                i += 1\n",
    "        # if current is None, just append it to the end\n",
    "        if(current == None):\n",
    "            self.append_to_the_end(data)\n",
    "        # insert\n",
    "        else:\n",
    "            node.next = current.next\n",
    "            current.next = node\n",
    "    \n",
    "    def remove_from_the_front(self):\n",
    "        if(self.head != None):\n",
    "            self.head = self.head.next\n",
    "    def remove_from_the_end(self):\n",
    "        if(self.head != None):\n",
    "            current = self.head\n",
    "        while(current.next.next != None):\n",
    "            current = current.next\n",
    "        current.next = None\n",
    "            \n",
    "    def remove(self, at):\n",
    "        if(at == 0):\n",
    "            remove_from_the_front(data)\n",
    "            return        \n",
    "        if(self.head != None):\n",
    "            current = self.head\n",
    "            i = 0\n",
    "            while i < (at - 1) and current != None:\n",
    "                current = current.next\n",
    "                i += 1\n",
    "        # if current is not none\n",
    "        if(current != None):\n",
    "            current.next = current.next.next\n",
    "    def print_list(self):\n",
    "        print(\"printing list\")\n",
    "        if(self.head == None):\n",
    "            print()\n",
    "        else:\n",
    "            current = self.head\n",
    "            print(current.data)\n",
    "            while(current.next != None):\n",
    "                print(current.next.data) \n",
    "                current = current.next"
   ]
  },
  {
   "cell_type": "code",
   "execution_count": 3,
   "metadata": {},
   "outputs": [],
   "source": [
    "my_list = SingleLinkedList()"
   ]
  },
  {
   "cell_type": "code",
   "execution_count": 4,
   "metadata": {},
   "outputs": [
    {
     "name": "stdout",
     "output_type": "stream",
     "text": [
      "printing list\n",
      "44\n",
      "45\n",
      "49\n"
     ]
    }
   ],
   "source": [
    "my_list.append_to_the_end(44)\n",
    "my_list.append_to_the_end(45)\n",
    "my_list.append_to_the_end(49)\n",
    "my_list.print_list()"
   ]
  },
  {
   "cell_type": "code",
   "execution_count": 5,
   "metadata": {},
   "outputs": [
    {
     "name": "stdout",
     "output_type": "stream",
     "text": [
      "printing list\n",
      "150\n",
      "44\n",
      "45\n",
      "49\n"
     ]
    }
   ],
   "source": [
    "my_list.append_to_the_front(150)\n",
    "my_list.print_list()"
   ]
  },
  {
   "cell_type": "code",
   "execution_count": 6,
   "metadata": {},
   "outputs": [
    {
     "name": "stdout",
     "output_type": "stream",
     "text": [
      "printing list\n",
      "150\n",
      "44\n",
      "9.5\n",
      "45\n",
      "49\n"
     ]
    }
   ],
   "source": [
    "my_list.insert(9.5, at=2)\n",
    "my_list.print_list()"
   ]
  },
  {
   "cell_type": "code",
   "execution_count": 7,
   "metadata": {},
   "outputs": [
    {
     "name": "stdout",
     "output_type": "stream",
     "text": [
      "printing list\n",
      "1153.0\n",
      "150\n",
      "44\n",
      "9.5\n",
      "45\n",
      "49\n"
     ]
    }
   ],
   "source": [
    "my_list.insert(1153.0, at=0)\n",
    "my_list.print_list()"
   ]
  },
  {
   "cell_type": "code",
   "execution_count": 8,
   "metadata": {},
   "outputs": [
    {
     "name": "stdout",
     "output_type": "stream",
     "text": [
      "printing list\n",
      "1153.0\n",
      "150\n",
      "44\n",
      "9.5\n",
      "45\n",
      "49\n",
      "1153.0\n"
     ]
    }
   ],
   "source": [
    "my_list.insert(1153.0, at=9)\n",
    "my_list.print_list()"
   ]
  },
  {
   "cell_type": "code",
   "execution_count": 9,
   "metadata": {},
   "outputs": [
    {
     "name": "stdout",
     "output_type": "stream",
     "text": [
      "printing list\n",
      "1153.0\n",
      "150\n",
      "tinsae\n",
      "44\n",
      "9.5\n",
      "45\n",
      "49\n",
      "1153.0\n"
     ]
    }
   ],
   "source": [
    "my_list.insert(\"tinsae\", at=2)\n",
    "my_list.print_list()"
   ]
  },
  {
   "cell_type": "code",
   "execution_count": 10,
   "metadata": {},
   "outputs": [
    {
     "name": "stdout",
     "output_type": "stream",
     "text": [
      "printing list\n",
      "150\n",
      "tinsae\n",
      "44\n",
      "9.5\n",
      "45\n",
      "49\n",
      "1153.0\n"
     ]
    }
   ],
   "source": [
    "my_list.remove_from_the_front()\n",
    "my_list.print_list()"
   ]
  },
  {
   "cell_type": "code",
   "execution_count": 11,
   "metadata": {},
   "outputs": [
    {
     "name": "stdout",
     "output_type": "stream",
     "text": [
      "printing list\n",
      "150\n",
      "tinsae\n",
      "44\n",
      "9.5\n",
      "45\n",
      "49\n"
     ]
    }
   ],
   "source": [
    "my_list.remove_from_the_end()\n",
    "my_list.print_list()"
   ]
  },
  {
   "cell_type": "code",
   "execution_count": 12,
   "metadata": {},
   "outputs": [
    {
     "name": "stdout",
     "output_type": "stream",
     "text": [
      "printing list\n",
      "150\n",
      "44\n",
      "9.5\n",
      "45\n",
      "49\n"
     ]
    }
   ],
   "source": [
    "my_list.remove(at=1)\n",
    "my_list.print_list()"
   ]
  },
  {
   "cell_type": "code",
   "execution_count": 13,
   "metadata": {},
   "outputs": [],
   "source": [
    "# Nodes are components of a linked list\n",
    "class Node:\n",
    "    def __init__(self, data):\n",
    "        self.data = data\n",
    "        self.next = None\n",
    "        self.prev = None"
   ]
  },
  {
   "cell_type": "code",
   "execution_count": 14,
   "metadata": {},
   "outputs": [],
   "source": [
    "# implementing doubly linked list\n",
    "class DoublyLinkedList:\n",
    "    def __init__(self):\n",
    "        # head points to the 0th element\n",
    "        self.head = None\n",
    "        # tail points to the last element\n",
    "        self.tail = None\n",
    "    \n",
    "    def append_to_the_end(self, data):\n",
    "        # create node\n",
    "        node = Node(data)\n",
    "        # if head is None, the list is empty\n",
    "        if(self.head == None):\n",
    "            # node is the only element\n",
    "            node.next = None\n",
    "            node.prev = None\n",
    "            # set head\n",
    "            self.head = node\n",
    "            # set tail\n",
    "            self.tail = node\n",
    "        # if list is not empty\n",
    "        else:     \n",
    "            self.tail.next = node\n",
    "            node.prev = self.tail\n",
    "            self.tail = node\n",
    "            node.next = None\n",
    "        \n",
    "    def append_to_the_front(self, data):\n",
    "        node = Node(data)\n",
    "        if(self.head == None):\n",
    "            self.head = node\n",
    "            self.tail = node\n",
    "        else:\n",
    "            # put old head after new node\n",
    "            node.next = self.head\n",
    "            # node will be the new head\n",
    "            self.head = node\n",
    "\n",
    "    \n",
    "    def print_list(self):\n",
    "        print(\"printing list\")\n",
    "        if(self.head == None):\n",
    "            print()\n",
    "        else:\n",
    "            current = self.head\n",
    "            print(current.data)\n",
    "            while(current.next != None):\n",
    "                print(current.next.data) \n",
    "                current = current.next\n",
    "    def print_in_reverse(self):\n",
    "        print(\"printing in reverse\")\n",
    "        if(self.head == None):\n",
    "            print()\n",
    "        else:\n",
    "            current = self.tail\n",
    "            print(current.data)\n",
    "            while(current.prev != None):\n",
    "                print(current.prev.data) \n",
    "                current = current.prev"
   ]
  },
  {
   "cell_type": "code",
   "execution_count": 15,
   "metadata": {},
   "outputs": [],
   "source": [
    "my_list = DoublyLinkedList()"
   ]
  },
  {
   "cell_type": "code",
   "execution_count": 16,
   "metadata": {},
   "outputs": [
    {
     "name": "stdout",
     "output_type": "stream",
     "text": [
      "printing list\n",
      "170\n",
      "180\n",
      "400\n",
      "100\n"
     ]
    }
   ],
   "source": [
    "my_list.append_to_the_end(170)\n",
    "my_list.append_to_the_end(180)\n",
    "my_list.append_to_the_end(400)\n",
    "my_list.append_to_the_end(100)\n",
    "\n",
    "\n",
    "my_list.print_list()"
   ]
  },
  {
   "cell_type": "code",
   "execution_count": 17,
   "metadata": {},
   "outputs": [
    {
     "name": "stdout",
     "output_type": "stream",
     "text": [
      "400\n"
     ]
    }
   ],
   "source": [
    "print(my_list.tail.prev.data)"
   ]
  },
  {
   "cell_type": "code",
   "execution_count": 18,
   "metadata": {},
   "outputs": [
    {
     "name": "stdout",
     "output_type": "stream",
     "text": [
      "printing in reverse\n",
      "100\n",
      "400\n",
      "180\n",
      "170\n"
     ]
    }
   ],
   "source": [
    "my_list.print_in_reverse()"
   ]
  },
  {
   "cell_type": "code",
   "execution_count": null,
   "metadata": {},
   "outputs": [],
   "source": []
  }
 ],
 "metadata": {
  "kernelspec": {
   "display_name": "Python 3",
   "language": "python",
   "name": "python3"
  },
  "language_info": {
   "codemirror_mode": {
    "name": "ipython",
    "version": 3
   },
   "file_extension": ".py",
   "mimetype": "text/x-python",
   "name": "python",
   "nbconvert_exporter": "python",
   "pygments_lexer": "ipython3",
   "version": "3.7.1"
  }
 },
 "nbformat": 4,
 "nbformat_minor": 2
}
