{
 "cells": [
  {
   "cell_type": "markdown",
   "metadata": {},
   "source": [
    "2 ^ 15 = 32768 and the sum of its digits is 3 + 2 + 7 + 6 + 8 = 26.\n",
    "\n",
    "What is the sum of the digits of the number 2^1000?"
   ]
  },
  {
   "cell_type": "code",
   "execution_count": 34,
   "metadata": {},
   "outputs": [
    {
     "data": {
      "text/plain": [
       "4"
      ]
     },
     "execution_count": 34,
     "metadata": {},
     "output_type": "execute_result"
    }
   ],
   "source": [
    "# easy way to find number of digits\n",
    "len(str(2 ** 10))"
   ]
  },
  {
   "cell_type": "code",
   "execution_count": 35,
   "metadata": {},
   "outputs": [
    {
     "data": {
      "text/plain": [
       "1366"
      ]
     },
     "execution_count": 35,
     "metadata": {},
     "output_type": "execute_result"
    }
   ],
   "source": [
    "# easy way to find sum of digits\n",
    "sum(map(int, str(2**1000)))"
   ]
  },
  {
   "cell_type": "code",
   "execution_count": 42,
   "metadata": {},
   "outputs": [],
   "source": [
    "# programmatically \n",
    "from math import log10, floor,log2, log\n",
    "num_digits = lambda n: floor(1 + log10(n))\n",
    "num_digits = lambda n: floor(1 + log10(n))"
   ]
  },
  {
   "cell_type": "code",
   "execution_count": 43,
   "metadata": {},
   "outputs": [
    {
     "data": {
      "text/plain": [
       "302"
      ]
     },
     "execution_count": 43,
     "metadata": {},
     "output_type": "execute_result"
    }
   ],
   "source": [
    "num_digits(2**1000)"
   ]
  },
  {
   "cell_type": "code",
   "execution_count": 58,
   "metadata": {},
   "outputs": [
    {
     "data": {
      "text/plain": [
       "1366"
      ]
     },
     "execution_count": 58,
     "metadata": {},
     "output_type": "execute_result"
    }
   ],
   "source": [
    "sum(map(int, str(2**1000)))"
   ]
  },
  {
   "cell_type": "code",
   "execution_count": 63,
   "metadata": {},
   "outputs": [],
   "source": [
    "def sum_of_digits(exp):\n",
    "    order = 0;\n",
    "    # another way to express floor(1 + log10(2 ** exponent))\n",
    "    digits = floor(1 + exp * log(2) / log(10))\n",
    "    # declare array\n",
    "    number = np.ones(digits);\n",
    "    # make the first digit one\n",
    "    number[0] = 1;\n",
    "    i = 0\n",
    "    while(i < exp):\n",
    "        carry = 0;\n",
    "        j = 0\n",
    "        while j <= order:    \n",
    "            product = 2 * number[j] + carry\n",
    "            number[j] = product % 10\n",
    "            carry = product / 10 or 0\n",
    "            if j is order and carry > 0:\n",
    "                order += 1\n",
    "            j += 1\n",
    "        i += 1\n",
    "    #return number.reduce((p, x) => x + p, 0);\n",
    "    return sum(number)\n",
    "    \n"
   ]
  },
  {
   "cell_type": "code",
   "execution_count": 67,
   "metadata": {},
   "outputs": [
    {
     "name": "stdout",
     "output_type": "stream",
     "text": [
      "[1, 'fizzbuzz', 1, 1, 1, 'fizz']\n"
     ]
    }
   ],
   "source": [
    "def fizz_buzz(max_fizz_buzz, fizz, buzz):\n",
    "    # initialize counter\n",
    "    num = 0\n",
    "    # while counter is less than max_fizz_buzz\n",
    "    result = []\n",
    "    while(num < max_fizz_buzz):\n",
    "        # start by appending one\n",
    "        result.append(1)\n",
    "        if num % fizz == 0 and num % buzz == 0:\n",
    "            result.append(\"fizzbuzz\")\n",
    "        elif num % fizz == 0:\n",
    "            result.append(\"fizz\")\n",
    "        elif num % buzz == 0:\n",
    "            result.append(\"buzz\")\n",
    "        else:\n",
    "            result.append(num)\n",
    "        num += 1\n",
    "    return result\n",
    "# call the function\n",
    "print(fizz_buzz(3, 2, 7))"
   ]
  },
  {
   "cell_type": "code",
   "execution_count": null,
   "metadata": {},
   "outputs": [],
   "source": []
  }
 ],
 "metadata": {
  "kernelspec": {
   "display_name": "Python 3",
   "language": "python",
   "name": "python3"
  },
  "language_info": {
   "codemirror_mode": {
    "name": "ipython",
    "version": 3
   },
   "file_extension": ".py",
   "mimetype": "text/x-python",
   "name": "python",
   "nbconvert_exporter": "python",
   "pygments_lexer": "ipython3",
   "version": "3.7.1"
  }
 },
 "nbformat": 4,
 "nbformat_minor": 2
}
