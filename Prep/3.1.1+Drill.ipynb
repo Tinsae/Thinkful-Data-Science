{
 "cells": [
  {
   "cell_type": "code",
   "execution_count": 67,
   "metadata": {},
   "outputs": [],
   "source": [
    "import pandas as pd\n",
    "import numpy as np"
   ]
  },
  {
   "cell_type": "markdown",
   "metadata": {},
   "source": [
    "1. Greg was 14, Marcia was 12, Peter was 11, Jan was 10, Bobby was 8, and Cindy was 6 when they started playing the Brady kids on The Brady Bunch. Cousin Oliver was 8 years old when he joined the show. What are the mean, median, and mode of the kids' ages when they first appeared on the show? What are the variance, standard deviation, and standard error?"
   ]
  },
  {
   "cell_type": "code",
   "execution_count": 68,
   "metadata": {},
   "outputs": [
    {
     "name": "stdout",
     "output_type": "stream",
     "text": [
      "mean: 9.86\n",
      "median: 10.00\n",
      "mode: [8]\n",
      "var: 6.408\n",
      "std: 2.531\n",
      "standard error: 1.03\n"
     ]
    }
   ],
   "source": [
    "def stats(ages):\n",
    "    print(\"mean: {0:.2f}\".format(np.mean(ages)))\n",
    "    print(\"median: {0:.2f}\".format(np.median(ages)))\n",
    "    #Finding values and their counts\n",
    "    (values, counts) = np.unique(ages, return_counts=True)\n",
    "    #Finding all elements which occur the maximum amount of times\n",
    "    where = np.argwhere(counts == np.amax(counts))\n",
    "    print(\"mode: {}\".format(values[where].flatten().tolist()))\n",
    "    print(\"var: {0:.3f}\".format(np.var(ages)))\n",
    "    print(\"std: {0:.3f}\".format(np.std(ages)))\n",
    "    print(\"standard error: {0:.2f}\".format(np.std(ages, ddof=1) / np.sqrt(len(ages))))\n",
    "\n",
    "ages = np.array([14, 12, 11, 10, 8, 6, 8])\n",
    "stats(ages)"
   ]
  },
  {
   "cell_type": "markdown",
   "metadata": {},
   "source": [
    "Using these estimates, if you had to choose only one estimate of central tendency and one estimate of variance to describe the data, which would you pick and why?"
   ]
  },
  {
   "cell_type": "markdown",
   "metadata": {},
   "source": [
    "**Central Tendency**\n",
    "\n",
    "I choose mean because the median has fewer useful mathematical properties than the mean\n",
    "\n",
    "**Variance**\n",
    "\n",
    "I choose standard deviation, it has some useful mathematical properties \n"
   ]
  },
  {
   "cell_type": "markdown",
   "metadata": {},
   "source": [
    "3. Next, Cindy has a birthday. Update your estimates- what changed, and what didn't?"
   ]
  },
  {
   "cell_type": "code",
   "execution_count": 69,
   "metadata": {},
   "outputs": [
    {
     "name": "stdout",
     "output_type": "stream",
     "text": [
      "mean: 10.00\n",
      "median: 10.00\n",
      "mode: [8]\n",
      "var: 5.429\n",
      "std: 2.330\n",
      "standard error: 0.95\n"
     ]
    }
   ],
   "source": [
    "ages = np.array([14, 12, 11, 10, 8, 7, 8])\n",
    "stats(ages)"
   ]
  },
  {
   "cell_type": "markdown",
   "metadata": {},
   "source": [
    "Except the **median and mode** all have been changed"
   ]
  },
  {
   "cell_type": "markdown",
   "metadata": {},
   "source": [
    "4. Nobody likes Cousin Oliver. Maybe the network should have used an even younger actor. Replace Cousin Oliver with 1-year-old Jessica, then recalculate again. Does this change your choice of central tendency or variance estimation methods?"
   ]
  },
  {
   "cell_type": "code",
   "execution_count": 70,
   "metadata": {},
   "outputs": [
    {
     "name": "stdout",
     "output_type": "stream",
     "text": [
      "mean: 9.00\n",
      "median: 10.00\n",
      "mode: [1, 7, 8, 10, 11, 12, 14]\n",
      "var: 15.429\n",
      "std: 3.928\n",
      "standard error: 1.60\n"
     ]
    }
   ],
   "source": [
    "ages = np.array([14, 12, 11, 10, 8, 7, 1])\n",
    "stats(ages)"
   ]
  },
  {
   "cell_type": "markdown",
   "metadata": {},
   "source": [
    "**My choice of variance is same => Standard Deviation**\n",
    "\n",
    "**The mean is affected by extreme values, therefore  median is preferable**"
   ]
  },
  {
   "cell_type": "markdown",
   "metadata": {},
   "source": [
    "5. On the 50th anniversary of The Brady Bunch, four different magazines asked their readers whether they were fans of the show. The answers were: TV Guide 20% fans Entertainment Weekly 23% fans Pop Culture Today 17% fans SciPhi Phanatic 5% fans\n",
    "\n",
    "Based on these numbers, what percentage of adult Americans would you estimate were Brady Bunch fans on the 50th anniversary of the show?"
   ]
  },
  {
   "cell_type": "markdown",
   "metadata": {},
   "source": [
    "*All the magazines are trying to represent the whole population. SciPhi is a special interest magazine whereas the other three are general ones, so estimation is the average of the three numbers \n",
    "(20, 23, 17) = 20%*"
   ]
  },
  {
   "cell_type": "code",
   "execution_count": null,
   "metadata": {},
   "outputs": [],
   "source": []
  }
 ],
 "metadata": {
  "kernelspec": {
   "display_name": "Python 3",
   "language": "python",
   "name": "python3"
  },
  "language_info": {
   "codemirror_mode": {
    "name": "ipython",
    "version": 3
   },
   "file_extension": ".py",
   "mimetype": "text/x-python",
   "name": "python",
   "nbconvert_exporter": "python",
   "pygments_lexer": "ipython3",
   "version": "3.6.6"
  }
 },
 "nbformat": 4,
 "nbformat_minor": 2
}
