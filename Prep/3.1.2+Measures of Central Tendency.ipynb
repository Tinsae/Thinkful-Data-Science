{
 "cells": [
  {
   "cell_type": "code",
   "execution_count": 5,
   "metadata": {},
   "outputs": [
    {
     "name": "stdout",
     "output_type": "stream",
     "text": [
      "   age\n",
      "0   28\n",
      "1   42\n",
      "2   27\n",
      "3   24\n",
      "4   35\n",
      "5   54\n",
      "6   35\n",
      "7   37\n",
      "   age\n",
      "0   28\n",
      "1   42\n",
      "2   27\n",
      "3   24\n",
      "4   35\n",
      "5   54\n",
      "6   35\n",
      "7   37\n"
     ]
    }
   ],
   "source": [
    "import pandas as pd\n",
    "import numpy as np\n",
    "\n",
    "# method 1\n",
    "df = pd.DataFrame([28, 42, 27, 24, 35, 54, 35, 37],columns = ['age'])\n",
    "print(df)\n",
    "# method 2\n",
    "df = pd.DataFrame()\n",
    "# Populate it with data.\n",
    "df['age'] = [28, 42, 27, 24, 35, 54, 35, 37]\n",
    "print(df)"
   ]
  },
  {
   "cell_type": "code",
   "execution_count": 6,
   "metadata": {},
   "outputs": [
    {
     "name": "stdout",
     "output_type": "stream",
     "text": [
      "mean =  35.25\n"
     ]
    }
   ],
   "source": [
    "mean = sum(df['age']) / len(df['age'])\n",
    "print(\"mean = \"  , mean)"
   ]
  },
  {
   "cell_type": "code",
   "execution_count": 7,
   "metadata": {},
   "outputs": [
    {
     "name": "stdout",
     "output_type": "stream",
     "text": [
      "mean (same) =  50.0\n"
     ]
    }
   ],
   "source": [
    "# make all values same and calculate mean\n",
    "df['same'] = (50 - df['age']) + df['age'] \n",
    "mean = sum(df['same']) / len(df['same'])\n",
    "print(\"mean (same) = \"  , mean)"
   ]
  },
  {
   "cell_type": "code",
   "execution_count": 19,
   "metadata": {},
   "outputs": [
    {
     "name": "stdout",
     "output_type": "stream",
     "text": [
      "35.0\n",
      "35.0\n"
     ]
    }
   ],
   "source": [
    "import statistics\n",
    "# using statistics module\n",
    "print(statistics.median(df['age']))\n",
    "# using numpy module\n",
    "print(np.median(df['age']))"
   ]
  },
  {
   "cell_type": "code",
   "execution_count": 21,
   "metadata": {},
   "outputs": [
    {
     "name": "stdout",
     "output_type": "stream",
     "text": [
      "50\n"
     ]
    }
   ],
   "source": [
    "# trying the mode function\n",
    "df['other'] = [3,2,3,3,1,1,1,2]\n",
    "import statistics\n",
    "print(statistics.mode(df['same']))\n",
    "#print(statistics.mode(df['other']))"
   ]
  },
  {
   "cell_type": "code",
   "execution_count": 10,
   "metadata": {},
   "outputs": [
    {
     "data": {
      "text/plain": [
       "Counter({28: 1, 42: 1, 27: 1, 24: 1, 35: 2, 54: 1, 37: 1})"
      ]
     },
     "execution_count": 10,
     "metadata": {},
     "output_type": "execute_result"
    }
   ],
   "source": [
    "import collections\n",
    "collections.Counter(df['age'])"
   ]
  },
  {
   "cell_type": "code",
   "execution_count": 12,
   "metadata": {},
   "outputs": [
    {
     "name": "stdout",
     "output_type": "stream",
     "text": [
      "[24 27 28 35 37 42 54]\n",
      "[24 27 28 35 37 42 54] [1 1 1 2 1 1 1]\n"
     ]
    }
   ],
   "source": [
    "# return all unique elements, we can use python set function too\n",
    "counts = np.unique(df['age'])\n",
    "print(counts)\n",
    "# returns unique elements and counts in a tuple\n",
    "# we can unpack into two numpy arrays\n",
    "values, counts = np.unique(df['age'], return_counts=True)\n",
    "print(values, counts)"
   ]
  },
  {
   "cell_type": "code",
   "execution_count": 27,
   "metadata": {},
   "outputs": [
    {
     "data": {
      "text/plain": [
       "array([[2]], dtype=int64)"
      ]
     },
     "execution_count": 27,
     "metadata": {},
     "output_type": "execute_result"
    }
   ],
   "source": [
    "# see how where works\n",
    "x = np.arange(3)\n",
    "# the argument inside is like saying an element greater than 1 in x\n",
    "np.argwhere(x>1)"
   ]
  },
  {
   "cell_type": "code",
   "execution_count": 43,
   "metadata": {},
   "outputs": [
    {
     "name": "stdout",
     "output_type": "stream",
     "text": [
      "data\n",
      " 0    3\n",
      "1    2\n",
      "2    3\n",
      "3    3\n",
      "4    1\n",
      "5    1\n",
      "6    1\n",
      "7    2\n",
      "Name: other, dtype: int64\n",
      "values\n",
      " [1 2 3]\n",
      "counts\n",
      " [3 2 3]\n",
      "indices of the mode:  [[0]\n",
      " [2]]\n",
      "mode(s):  [1 3]\n"
     ]
    }
   ],
   "source": [
    "# to return all occurences of the mode\n",
    "# method 1\n",
    "print(\"data\\n\", df['other'])\n",
    "values, counts = np.unique(df['other'], return_counts=True)\n",
    "print(\"values\\n\" , values)\n",
    "print(\"counts\\n\" , counts)\n",
    "the_mode = np.argwhere(counts == np.max(counts))\n",
    "print(\"indices of the mode: \", the_mode)\n",
    "print(\"mode(s): \" , values[the_mode].flatten())\n"
   ]
  },
  {
   "cell_type": "code",
   "execution_count": null,
   "metadata": {},
   "outputs": [],
   "source": []
  }
 ],
 "metadata": {
  "kernelspec": {
   "display_name": "Python 3",
   "language": "python",
   "name": "python3"
  },
  "language_info": {
   "codemirror_mode": {
    "name": "ipython",
    "version": 3
   },
   "file_extension": ".py",
   "mimetype": "text/x-python",
   "name": "python",
   "nbconvert_exporter": "python",
   "pygments_lexer": "ipython3",
   "version": "3.6.6"
  }
 },
 "nbformat": 4,
 "nbformat_minor": 2
}
