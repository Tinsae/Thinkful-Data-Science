{
 "cells": [
  {
   "cell_type": "code",
   "execution_count": 61,
   "metadata": {},
   "outputs": [],
   "source": [
    "import pandas as pd\n",
    "import numpy as np\n",
    "import matplotlib.pyplot as plt"
   ]
  },
  {
   "cell_type": "code",
   "execution_count": 62,
   "metadata": {},
   "outputs": [],
   "source": [
    "binomial = np.random.binomial(5, 0.5, 100)"
   ]
  },
  {
   "cell_type": "code",
   "execution_count": 63,
   "metadata": {},
   "outputs": [
    {
     "data": {
      "image/png": "[encoded data removed]",
      "text/plain": [
       "<Figure size 432x288 with 1 Axes>"
      ]
     },
     "metadata": {},
     "output_type": "display_data"
    }
   ],
   "source": [
    "plt.hist(binomial)\n",
    "plt.show()"
   ]
  },
  {
   "cell_type": "code",
   "execution_count": 64,
   "metadata": {},
   "outputs": [
    {
     "name": "stdout",
     "output_type": "stream",
     "text": [
      "2.57\n",
      "1.193775523287356\n"
     ]
    },
    {
     "data": {
      "image/png": "[encoded data removed]",
      "text/plain": [
       "<Figure size 432x288 with 1 Axes>"
      ]
     },
     "metadata": {},
     "output_type": "display_data"
    }
   ],
   "source": [
    "mean = np.mean(binomial)\n",
    "std = np.std(binomial)\n",
    "plt.title(\"p is 0.5\")\n",
    "plt.hist(binomial)\n",
    "plt.axvline(mean, color =\"red\", linestyle = \"--\")\n",
    "plt.axvline(std, color =\"blue\", linestyle = \":\")\n",
    "print(mean)\n",
    "print(std)\n",
    "plt.show()"
   ]
  },
  {
   "cell_type": "markdown",
   "metadata": {},
   "source": [
    "In a binomial distribution, when n = 5, there can be 0 , 1 , \n",
    "2, 3, 4 or 5 successes in a single trial(5 flips or rolls)\n",
    "In the above experiement 100 trials were experimented\n",
    "When the probability of success is 0.5, probability of failure is also 0.5\n",
    "Therefore for most of the trials half of them will be successes\n",
    "as shown in the  middle bars of the histogram.\n",
    "In other words a trail with very high number of sucesses or failures will be rare as shown on the first and last bars of the histogram\n",
    "\n",
    "The standard deviation is 1 because approximately there are equal number of 0s,1s,2s,3s,4s and 5s and all differ by one\n",
    "\n",
    "The mean divides the distribution into two, because p is 0.5 see the graph below when the p is 0.9, the mean moves to the right and the standard deviation becomes less than one because we will have a lot of success rate like plenty of the trials will have 5 sucess , 4 success and small amount will be 3, 2,1. Since the probability of no success will be very rare for p = 0.9 we may not even have a trial with no success."
   ]
  },
  {
   "cell_type": "code",
   "execution_count": 65,
   "metadata": {},
   "outputs": [
    {
     "name": "stdout",
     "output_type": "stream",
     "text": [
      "4.46\n",
      "0.7130217387990355\n"
     ]
    },
    {
     "data": {
      "image/png": "[encoded data removed]",
      "text/plain": [
       "<Figure size 432x288 with 1 Axes>"
      ]
     },
     "metadata": {},
     "output_type": "display_data"
    }
   ],
   "source": [
    "binomial = np.random.binomial(5, 0.9, 100)\n",
    "mean = np.mean(binomial)\n",
    "std = np.std(binomial)\n",
    "plt.title(\"p is 0.9\")\n",
    "plt.hist(binomial)\n",
    "plt.axvline(mean, color =\"red\", linestyle = \"--\")\n",
    "plt.axvline(std, color =\"blue\", linestyle = \":\")\n",
    "print(mean)\n",
    "print(std)\n",
    "plt.show()"
   ]
  },
  {
   "cell_type": "code",
   "execution_count": 94,
   "metadata": {},
   "outputs": [],
   "source": [
    "norm1 = np.random.normal(5, 0.5, 1000)\n",
    "norm2 = np.random.normal(10, 1, 1000)\n",
    "norm3 = norm1 + norm2\n",
    "mean = np.mean(norm3)\n",
    "std = np.std(norm3)"
   ]
  },
  {
   "cell_type": "code",
   "execution_count": 99,
   "metadata": {},
   "outputs": [
    {
     "name": "stdout",
     "output_type": "stream",
     "text": [
      "1.1167872311274911\n"
     ]
    },
    {
     "data": {
      "image/png": "[encoded data removed]",
      "text/plain": [
       "<Figure size 432x288 with 1 Axes>"
      ]
     },
     "metadata": {},
     "output_type": "display_data"
    }
   ],
   "source": [
    "plt.hist(norm3)\n",
    "plt.axvline(mean, color =\"red\", linestyle = \"--\")\n",
    "plt.axvline(std, color =\"blue\", linestyle = \":\")\n",
    "plt.show()"
   ]
  },
  {
   "cell_type": "markdown",
   "metadata": {},
   "source": [
    "The mean is still in the center while the standard deviation will increase some what, because the average deviation from the mean will be affected by the presence numbers which are far apart because of combined distribution\n",
    "\n",
    "see the simplified example below"
   ]
  },
  {
   "cell_type": "code",
   "execution_count": 98,
   "metadata": {},
   "outputs": [
    {
     "name": "stdout",
     "output_type": "stream",
     "text": [
      "mean of list1  2.0\n",
      "mean of list2  15.0\n",
      "mean of list3  8.5\n",
      "std of list1  0.816496580927726\n",
      "std of list2  4.08248290463863\n",
      "std of list3  7.135591542869215\n"
     ]
    },
    {
     "data": {
      "text/plain": [
       "6.5"
      ]
     },
     "execution_count": 98,
     "metadata": {},
     "output_type": "execute_result"
    }
   ],
   "source": [
    "list1 = [1, 2, 3]\n",
    "list2 = [10, 15, 20]\n",
    "list3 = list1 + list2\n",
    "print(\"mean of list1 \", np.mean(list1))\n",
    "print(\"mean of list2 \", np.mean(list2))\n",
    "print(\"mean of list3 \", np.mean(list3))\n",
    "print(\"std of list1 \", np.std(list1))\n",
    "print(\"std of list2 \", np.std(list2))\n",
    "print(\"std of list3 \", np.std(list3))\n",
    "np.median(list3)"
   ]
  }
 ],
 "metadata": {
  "kernelspec": {
   "display_name": "Python 3",
   "language": "python",
   "name": "python3"
  },
  "language_info": {
   "codemirror_mode": {
    "name": "ipython",
    "version": 3
   },
   "file_extension": ".py",
   "mimetype": "text/x-python",
   "name": "python",
   "nbconvert_exporter": "python",
   "pygments_lexer": "ipython3",
   "version": "3.6.6"
  }
 },
 "nbformat": 4,
 "nbformat_minor": 2
}
