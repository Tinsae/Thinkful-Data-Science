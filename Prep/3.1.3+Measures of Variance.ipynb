{
 "cells": [
  {
   "cell_type": "code",
   "execution_count": 37,
   "metadata": {},
   "outputs": [],
   "source": [
    "import pandas as pd\n",
    "import numpy as np\n",
    "import matplotlib.pyplot as plt\n",
    "# method 1\n",
    "#df = pd.DataFrame([28, 42, 27, 24, 35, 54, 35, 37],columns = ['age'])\n",
    "#print(df)\n",
    "# method 2\n",
    "df = pd.DataFrame()\n",
    "# Populate it with data.\n",
    "df['age'] = [28, 42, 27, 24, 35, 54, 35, 37]\n"
   ]
  },
  {
   "cell_type": "code",
   "execution_count": 38,
   "metadata": {},
   "outputs": [
    {
     "name": "stdout",
     "output_type": "stream",
     "text": [
      "35.25\n",
      "3.4003676271838605\n"
     ]
    }
   ],
   "source": [
    "# find the mean of the sample\n",
    "x_bar = df['age'].mean()\n",
    "print(x_bar)\n",
    "# standard error using the sample standard deviation\n",
    "se = np.std(df['age'] ,ddof=1) / np.sqrt(len(df['age']))\n",
    "print(se)"
   ]
  },
  {
   "cell_type": "code",
   "execution_count": null,
   "metadata": {},
   "outputs": [],
   "source": [
    "# confirm this with mentor\n",
    "\n",
    "# the standard error is the same as the standard deviation of the sampling distribution\n",
    "\n",
    "# to determine the margin of error for the sample of mean of ages, we can use the t-table\n",
    "\n",
    "# for 95 % confidence interval alpha = 0.05\n",
    "\n",
    "# t of 0.05 with df = 7 is 1.896\n",
    "\n",
    "# 35.25 + or - 1.896 * 3.4\n",
    "\n",
    "# 35.25 +/- 6.4464\n",
    "# [28.81 to 41.69]"
   ]
  },
  {
   "cell_type": "code",
   "execution_count": 43,
   "metadata": {},
   "outputs": [
    {
     "name": "stdout",
     "output_type": "stream",
     "text": [
      "28.806303346486583   ,   41.69369665351341\n"
     ]
    }
   ],
   "source": [
    "x_bar = df['age'].mean() # returns 35.25\n",
    "t_alpha = 1.895\n",
    "lower_margin = x_bar - (t_alpha  * se) \n",
    "higher_margin = x_bar + (t_alpha  * se) \n",
    "print(lower_margin, \"  ,  \", higher_margin)"
   ]
  },
  {
   "cell_type": "code",
   "execution_count": 33,
   "metadata": {},
   "outputs": [
    {
     "name": "stdout",
     "output_type": "stream",
     "text": [
      "low_var      99.689347\n",
      "high_var    440.696008\n",
      "dtype: float64\n",
      "low_var      18.699914\n",
      "high_var   -305.903265\n",
      "dtype: float64\n"
     ]
    }
   ],
   "source": [
    "print(pop.max())\n",
    "print(pop.min())"
   ]
  },
  {
   "cell_type": "code",
   "execution_count": 22,
   "metadata": {},
   "outputs": [
    {
     "name": "stdout",
     "output_type": "stream",
     "text": [
      "92.5\n",
      "9.617692030835672\n",
      "80.9375\n",
      "8.99652710772329\n",
      "92.5\n",
      "9.617692030835672\n"
     ]
    }
   ],
   "source": [
    "print(df['age'].var())\n",
    "print(df['age'].std())\n",
    "# See numpy is calculating population standard deviation and variance\n",
    "print(np.var(df['age']))\n",
    "print(np.std(df['age']))\n",
    "# fix it by adding one more parameter\n",
    "print(np.var(df['age'], ddof=1))\n",
    "print(np.std(df['age'], ddof=1))"
   ]
  },
  {
   "cell_type": "code",
   "execution_count": 23,
   "metadata": {},
   "outputs": [
    {
     "data": {
      "image/png": "[encoded data removed]",
      "text/plain": [
       "<Figure size 432x288 with 2 Axes>"
      ]
     },
     "metadata": {},
     "output_type": "display_data"
    }
   ],
   "source": [
    "pop = pd.DataFrame()\n",
    "pop['low_var'] =  np.random.normal(60, 10, 10000)\n",
    "pop['high_var'] = np.random.normal(60, 100, 10000)\n",
    "pop.hist(layout=(2,1), sharex=True)\n",
    "plt.show()"
   ]
  },
  {
   "cell_type": "code",
   "execution_count": 32,
   "metadata": {},
   "outputs": [
    {
     "name": "stdout",
     "output_type": "stream",
     "text": [
      "low_var     59.469854\n",
      "high_var    61.969477\n",
      "dtype: float64\n",
      "low_var      9.138290\n",
      "high_var    91.568632\n",
      "dtype: float64\n"
     ]
    }
   ],
   "source": [
    "sample = pd.DataFrame()\n",
    "sample['low_var'] = np.random.choice(pop['low_var'], 100)\n",
    "sample['high_var'] = np.random.choice(pop['high_var'], 100)\n",
    "\n",
    "print(sample.mean())\n",
    "print(sample.std(ddof=1))"
   ]
  },
  {
   "cell_type": "code",
   "execution_count": null,
   "metadata": {},
   "outputs": [],
   "source": [
    "# the low_var sample is closer to the population mean and standard deviation\n",
    "# because the high variablilty sample is likely to pick extreme values that will alter the sample mean and sample std"
   ]
  },
  {
   "cell_type": "code",
   "execution_count": 46,
   "metadata": {},
   "outputs": [
    {
     "name": "stdout",
     "output_type": "stream",
     "text": [
      "low_var     60.295968\n",
      "high_var    60.993678\n",
      "dtype: float64\n",
      "low_var      10.319113\n",
      "high_var    103.336653\n",
      "dtype: float64\n"
     ]
    }
   ],
   "source": [
    "# Let see by increasing the sample size to 1000\n",
    "sample = pd.DataFrame()\n",
    "sample['low_var'] = np.random.choice(pop['low_var'], 1000)\n",
    "sample['high_var'] = np.random.choice(pop['high_var'], 1000)\n",
    "\n",
    "print(sample.mean())\n",
    "print(sample.std(ddof=1))"
   ]
  },
  {
   "cell_type": "code",
   "execution_count": null,
   "metadata": {},
   "outputs": [],
   "source": [
    "# increasing the sample size helped the sample taken from higher variablity to have a very close mean\n",
    "# and standard deviation to the population mean"
   ]
  },
  {
   "cell_type": "code",
   "execution_count": 62,
   "metadata": {},
   "outputs": [
    {
     "name": "stdout",
     "output_type": "stream",
     "text": [
      "58.747915741684984\n",
      "9.919151500990926\n"
     ]
    }
   ],
   "source": [
    "# What if I decrease the sample size back to 100 and take samples many times\n",
    "means = [np.random.choice(pop['high_var'], 100).mean() for i in range(10000)]\n",
    "print(np.mean(means))\n",
    "print(np.std(means, ddof=1))"
   ]
  },
  {
   "cell_type": "code",
   "execution_count": null,
   "metadata": {},
   "outputs": [],
   "source": []
  }
 ],
 "metadata": {
  "kernelspec": {
   "display_name": "Python 3",
   "language": "python",
   "name": "python3"
  },
  "language_info": {
   "codemirror_mode": {
    "name": "ipython",
    "version": 3
   },
   "file_extension": ".py",
   "mimetype": "text/x-python",
   "name": "python",
   "nbconvert_exporter": "python",
   "pygments_lexer": "ipython3",
   "version": "3.6.6"
  }
 },
 "nbformat": 4,
 "nbformat_minor": 2
}
