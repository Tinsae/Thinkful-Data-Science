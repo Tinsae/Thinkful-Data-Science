{
 "cells": [
  {
   "cell_type": "code",
   "execution_count": 144,
   "metadata": {},
   "outputs": [],
   "source": [
    "import pandas as pd\n",
    "import numpy as np\n",
    "import matplotlib.pyplot as plt"
   ]
  },
  {
   "cell_type": "markdown",
   "metadata": {},
   "source": [
    "#### Taking 100 samples from each population"
   ]
  },
  {
   "cell_type": "code",
   "execution_count": 145,
   "metadata": {},
   "outputs": [
    {
     "data": {
      "image/png": "[encoded data removed]",
      "text/plain": [
       "<Figure size 432x288 with 1 Axes>"
      ]
     },
     "metadata": {},
     "output_type": "display_data"
    },
    {
     "name": "stdout",
     "output_type": "stream",
     "text": [
      "sample1, mean =  2.09\n",
      "sample2, mean =  4.99\n",
      "sample1, std =  1.1144056711987784\n",
      "sample2, std =  1.4525494828060075\n",
      "diff:  2.9000000000000004\n"
     ]
    }
   ],
   "source": [
    "pop1 = np.random.binomial(10, 0.2, 10000)\n",
    "pop2 = np.random.binomial(10, 0.5, 10000)\n",
    "sample1 = np.random.choice(pop1, 100)\n",
    "sample2 = np.random.choice(pop2, 100)\n",
    "plt.hist(sample1, alpha=0.8 , label=\"sample1\")\n",
    "plt.hist(sample2, alpha=0.8, label=\"sample2\")\n",
    "plt.legend()\n",
    "plt.show()\n",
    "print(\"sample1, mean = \", np.mean(sample1))\n",
    "print(\"sample2, mean = \", np.mean(sample2))\n",
    "print(\"sample1, std = \", np.std(sample1))\n",
    "print(\"sample2, std = \", np.std(sample2))\n",
    "print(\"diff: \", np.mean(sample2) - np.mean(sample1))"
   ]
  },
  {
   "cell_type": "markdown",
   "metadata": {},
   "source": [
    "#### Taking 1000 samples from each population"
   ]
  },
  {
   "cell_type": "code",
   "execution_count": 146,
   "metadata": {},
   "outputs": [
    {
     "data": {
      "image/png": "[encoded data removed]",
      "text/plain": [
       "<Figure size 432x288 with 1 Axes>"
      ]
     },
     "metadata": {},
     "output_type": "display_data"
    },
    {
     "name": "stdout",
     "output_type": "stream",
     "text": [
      "sample1, mean =  1.999\n",
      "sample2, mean =  4.997\n",
      "sample1, std =  1.2786707942234388\n",
      "sample2, std =  1.6244971529676497\n",
      "diff:  2.9979999999999998\n"
     ]
    }
   ],
   "source": [
    "sample1 = np.random.choice(pop1, 1000)\n",
    "sample2 = np.random.choice(pop2, 1000)\n",
    "plt.hist(sample1, alpha=0.8 , label=\"sample1\")\n",
    "plt.hist(sample2, alpha=0.8, label=\"sample2\")\n",
    "plt.legend()\n",
    "plt.show()\n",
    "print(\"sample1, mean = \", np.mean(sample1))\n",
    "print(\"sample2, mean = \", np.mean(sample2))\n",
    "print(\"sample1, std = \", np.std(sample1))\n",
    "print(\"sample2, std = \", np.std(sample2))\n",
    "print(\"diff: \", np.mean(sample2) - np.mean(sample1))"
   ]
  },
  {
   "cell_type": "markdown",
   "metadata": {},
   "source": [
    "### Pattern of differences between means\n",
    "\n",
    "The difference between the means is arbitrary, sometimes the diff with the larger samples is greator, other times it is lesser.\n",
    "In the experiment below I took 100 samples and 1000 samples and calculated the difference in the means of the two samples\n",
    "I did the same thing again 100 times and counted the number of times the difference of the larger samples is smaller. \n",
    "I thought it would be smaller because when we take larger samples there is a chance to match the original distributions where the difference between the means is 0 (10 - 10)\n",
    "But that is not the case sometimes the smaller samples give lesser difference "
   ]
  },
  {
   "cell_type": "code",
   "execution_count": 147,
   "metadata": {},
   "outputs": [
    {
     "name": "stdout",
     "output_type": "stream",
     "text": [
      "    n = 100  n = 1000  Smaller\n",
      "0      2.90     3.027      0.0\n",
      "1      2.97     3.074      0.0\n",
      "2      3.21     2.923      1.0\n",
      "3      2.97     2.986      0.0\n",
      "4      2.68     2.973      0.0\n",
      "5      3.10     2.896      1.0\n",
      "6      2.91     3.023      0.0\n",
      "7      3.28     3.016      1.0\n",
      "8      3.15     2.945      1.0\n",
      "9      2.81     2.947      0.0\n",
      "10     3.13     3.075      1.0\n",
      "11     2.88     3.020      0.0\n",
      "12     3.03     2.940      1.0\n",
      "13     3.20     3.064      1.0\n",
      "14     3.12     3.004      1.0\n",
      "15     2.95     2.971      0.0\n",
      "16     3.36     3.045      1.0\n",
      "17     3.07     3.012      1.0\n",
      "18     3.00     2.997      1.0\n",
      "19     3.10     2.975      1.0\n",
      "20     2.91     2.949      0.0\n",
      "21     3.20     2.969      1.0\n",
      "22     3.45     2.895      1.0\n",
      "23     2.95     2.995      0.0\n",
      "24     3.03     3.014      1.0\n",
      "25     2.82     3.086      0.0\n",
      "26     2.91     3.040      0.0\n",
      "27     2.99     3.028      0.0\n",
      "28     2.94     3.022      0.0\n",
      "29     3.09     2.936      1.0\n",
      "..      ...       ...      ...\n",
      "70     2.93     2.963      0.0\n",
      "71     3.02     3.050      0.0\n",
      "72     2.72     3.043      0.0\n",
      "73     3.58     3.069      1.0\n",
      "74     3.06     2.954      1.0\n",
      "75     3.02     3.042      0.0\n",
      "76     3.00     3.111      0.0\n",
      "77     2.76     3.051      0.0\n",
      "78     2.93     3.080      0.0\n",
      "79     3.24     2.940      1.0\n",
      "80     2.68     3.035      0.0\n",
      "81     3.02     3.018      1.0\n",
      "82     2.66     3.076      0.0\n",
      "83     2.98     3.029      0.0\n",
      "84     2.96     2.998      0.0\n",
      "85     3.08     3.040      1.0\n",
      "86     3.39     2.988      1.0\n",
      "87     3.03     2.959      1.0\n",
      "88     2.93     3.039      0.0\n",
      "89     3.18     3.029      1.0\n",
      "90     3.06     3.039      1.0\n",
      "91     2.85     2.925      0.0\n",
      "92     2.98     2.994      0.0\n",
      "93     2.85     3.074      0.0\n",
      "94     2.77     3.009      0.0\n",
      "95     3.14     2.968      1.0\n",
      "96     3.27     3.024      1.0\n",
      "97     2.90     2.988      0.0\n",
      "98     3.25     3.066      1.0\n",
      "99     2.68     2.904      0.0\n",
      "\n",
      "[100 rows x 3 columns]\n",
      "[54 46]\n"
     ]
    }
   ],
   "source": [
    "comparison = pd.DataFrame(np.zeros((100, 3)), columns=[\"n = 100\", \"n = 1000\", \"Smaller\"])\n",
    "for i in range(100):\n",
    "    sample1 = np.random.choice(pop1, 100)\n",
    "    sample2 = np.random.choice(pop2, 100)\n",
    "    diff1 = np.abs(np.mean(sample2) - np.mean(sample1))\n",
    "    comparison.loc[i][0] = diff1\n",
    "    sample1 = np.random.choice(pop1, 1000)\n",
    "    sample2 = np.random.choice(pop2, 1000)\n",
    "    diff2 = np.abs(np.mean(sample2) - np.mean(sample1))\n",
    "    comparison.loc[i][1] = diff2\n",
    "    comparison.loc[i][2] = diff2 < diff1\n",
    "\n",
    "print(comparison)\n",
    "print(np.bincount(comparison[\"Smaller\"].astype('int')))"
   ]
  },
  {
   "cell_type": "markdown",
   "metadata": {},
   "source": [
    "### Is the mean of a larger sample higher than a smaller one ?\n",
    "\n",
    "According to the experiment I did below, it is again random, sometimes the smaller sample size gives a larger mean"
   ]
  },
  {
   "cell_type": "code",
   "execution_count": 148,
   "metadata": {},
   "outputs": [
    {
     "name": "stdout",
     "output_type": "stream",
     "text": [
      "    mean(n = 100)  mean(n = 1000)  Greater\n",
      "0            2.06           1.967      0.0\n",
      "1            1.97           1.962      0.0\n",
      "2            1.97           2.049      1.0\n",
      "3            1.92           1.972      1.0\n",
      "4            1.91           1.927      1.0\n",
      "5            2.06           1.931      0.0\n",
      "6            2.17           2.017      0.0\n",
      "7            1.97           2.015      1.0\n",
      "8            2.02           2.005      0.0\n",
      "9            1.94           1.946      1.0\n",
      "10           1.95           1.981      1.0\n",
      "11           1.95           2.017      1.0\n",
      "12           1.94           2.004      1.0\n",
      "13           2.04           1.983      0.0\n",
      "14           1.96           2.044      1.0\n",
      "15           1.89           1.953      1.0\n",
      "16           1.82           2.009      1.0\n",
      "17           2.12           1.974      0.0\n",
      "18           1.94           2.017      1.0\n",
      "19           1.97           2.053      1.0\n",
      "20           1.97           2.002      1.0\n",
      "21           1.96           2.018      1.0\n",
      "22           1.94           2.019      1.0\n",
      "23           1.88           1.965      1.0\n",
      "24           1.93           1.991      1.0\n",
      "25           2.13           1.930      0.0\n",
      "26           2.09           2.008      0.0\n",
      "27           2.11           1.995      0.0\n",
      "28           2.07           1.894      0.0\n",
      "29           1.96           1.914      0.0\n",
      "..            ...             ...      ...\n",
      "70           1.95           1.955      1.0\n",
      "71           2.04           2.031      0.0\n",
      "72           2.07           2.033      0.0\n",
      "73           2.09           1.934      0.0\n",
      "74           1.98           2.033      1.0\n",
      "75           2.15           1.990      0.0\n",
      "76           2.10           1.959      0.0\n",
      "77           2.07           1.987      0.0\n",
      "78           1.87           2.034      1.0\n",
      "79           2.11           1.989      0.0\n",
      "80           2.09           2.007      0.0\n",
      "81           2.17           1.990      0.0\n",
      "82           2.18           1.988      0.0\n",
      "83           1.99           2.008      1.0\n",
      "84           2.19           2.000      0.0\n",
      "85           1.99           2.009      1.0\n",
      "86           1.92           2.011      1.0\n",
      "87           1.99           1.958      0.0\n",
      "88           2.00           1.983      0.0\n",
      "89           2.01           2.085      1.0\n",
      "90           1.97           2.013      1.0\n",
      "91           2.01           1.973      0.0\n",
      "92           1.91           1.987      1.0\n",
      "93           1.87           1.993      1.0\n",
      "94           1.87           2.026      1.0\n",
      "95           2.18           1.926      0.0\n",
      "96           2.02           1.957      0.0\n",
      "97           1.98           1.974      0.0\n",
      "98           2.08           1.995      0.0\n",
      "99           1.93           1.967      1.0\n",
      "\n",
      "[100 rows x 3 columns]\n",
      "[50 50]\n"
     ]
    }
   ],
   "source": [
    "compSample1 = pd.DataFrame(np.zeros((100, 3)), columns=[\"mean(n = 100)\", \"mean(n = 1000)\", \"Greater\"])\n",
    "for i in range(100):\n",
    "    sample1 = np.random.choice(pop1, 100)\n",
    "    mean100 = np.mean(sample1)\n",
    "    compSample1.loc[i][0] = mean100\n",
    "    sample1 = np.random.choice(pop1, 1000)\n",
    "    mean1000 = np.mean(sample1)\n",
    "    compSample1.loc[i][1] = mean1000\n",
    "    compSample1.loc[i][2] = mean1000 > mean100\n",
    "\n",
    "print(compSample1)\n",
    "print(np.bincount(compSample1[\"Greater\"].astype('int')))"
   ]
  },
  {
   "cell_type": "markdown",
   "metadata": {},
   "source": [
    "#### Sample size = 20"
   ]
  },
  {
   "cell_type": "code",
   "execution_count": 149,
   "metadata": {},
   "outputs": [
    {
     "data": {
      "image/png": "[encoded data removed]",
      "text/plain": [
       "<Figure size 432x288 with 1 Axes>"
      ]
     },
     "metadata": {},
     "output_type": "display_data"
    },
    {
     "name": "stdout",
     "output_type": "stream",
     "text": [
      "sample1, mean =  2.4\n",
      "sample2, mean =  4.9\n",
      "sample1, std =  1.0677078252031311\n",
      "sample2, std =  1.3\n"
     ]
    }
   ],
   "source": [
    "sample1 = np.random.choice(pop1, 20)\n",
    "sample2 = np.random.choice(pop2, 20)\n",
    "plt.hist(sample1, alpha=0.8 , label=\"sample1\")\n",
    "plt.hist(sample2, alpha=0.8, label=\"sample2\")\n",
    "plt.legend()\n",
    "plt.show()\n",
    "print(\"sample1, mean = \", np.mean(sample1))\n",
    "print(\"sample2, mean = \", np.mean(sample2))\n",
    "print(\"sample1, std = \", np.std(sample1))\n",
    "print(\"sample2, std = \", np.std(sample2))"
   ]
  },
  {
   "cell_type": "markdown",
   "metadata": {},
   "source": [
    "Make the population similar\n",
    "The tvalues gets smaller because the difference in means will be smaller\n",
    "The pvalue increases"
   ]
  },
  {
   "cell_type": "code",
   "execution_count": 150,
   "metadata": {},
   "outputs": [
    {
     "data": {
      "image/png": "[encoded data removed]",
      "text/plain": [
       "<Figure size 432x288 with 1 Axes>"
      ]
     },
     "metadata": {},
     "output_type": "display_data"
    },
    {
     "name": "stdout",
     "output_type": "stream",
     "text": [
      "sample1, mean =  3.11\n",
      "sample2, mean =  4.77\n",
      "sample1, std =  1.5613775968675867\n",
      "sample2, std =  1.3700729907563318\n",
      "Ttest_indResult(statistic=7.951247743095051, pvalue=1.4678741293967898e-13)\n"
     ]
    }
   ],
   "source": [
    "pop1 = np.random.binomial(10, 0.3, 10000)\n",
    "pop2 = np.random.binomial(10, 0.5, 10000)\n",
    "sample1 = np.random.choice(pop1, 100)\n",
    "sample2 = np.random.choice(pop2, 100)\n",
    "plt.hist(sample1, alpha=0.8 , label=\"sample1\")\n",
    "plt.hist(sample2, alpha=0.8, label=\"sample2\")\n",
    "plt.legend()\n",
    "plt.show()\n",
    "print(\"sample1, mean = \", np.mean(sample1))\n",
    "print(\"sample2, mean = \", np.mean(sample2))\n",
    "print(\"sample1, std = \", np.std(sample1))\n",
    "print(\"sample2, std = \", np.std(sample2))\n",
    "from scipy.stats import ttest_ind\n",
    "print(ttest_ind(sample2, sample1, equal_var = False))"
   ]
  },
  {
   "cell_type": "code",
   "execution_count": 151,
   "metadata": {},
   "outputs": [
    {
     "data": {
      "image/png": "[encoded data removed]",
      "text/plain": [
       "<Figure size 432x288 with 1 Axes>"
      ]
     },
     "metadata": {},
     "output_type": "display_data"
    },
    {
     "name": "stdout",
     "output_type": "stream",
     "text": [
      "sample1, mean =  3.73\n",
      "sample2, mean =  5.0\n",
      "sample1, std =  1.4822617852457778\n",
      "sample2, std =  1.5748015748023623\n",
      "Ttest_indResult(statistic=5.842961039556692, pvalue=2.0896666279922688e-08)\n"
     ]
    }
   ],
   "source": [
    "pop1 = np.random.binomial(10, 0.4, 10000)\n",
    "pop2 = np.random.binomial(10, 0.5, 10000)\n",
    "sample1 = np.random.choice(pop1, 100)\n",
    "sample2 = np.random.choice(pop2, 100)\n",
    "plt.hist(sample1, alpha=0.8 , label=\"sample1\")\n",
    "plt.hist(sample2, alpha=0.8, label=\"sample2\")\n",
    "plt.legend()\n",
    "plt.show()\n",
    "print(\"sample1, mean = \", np.mean(sample1))\n",
    "print(\"sample2, mean = \", np.mean(sample2))\n",
    "print(\"sample1, std = \", np.std(sample1))\n",
    "print(\"sample2, std = \", np.std(sample2))\n",
    "from scipy.stats import ttest_ind\n",
    "print(ttest_ind(sample2, sample1, equal_var = False))"
   ]
  },
  {
   "cell_type": "code",
   "execution_count": null,
   "metadata": {},
   "outputs": [],
   "source": []
  }
 ],
 "metadata": {
  "kernelspec": {
   "display_name": "Python 3",
   "language": "python",
   "name": "python3"
  },
  "language_info": {
   "codemirror_mode": {
    "name": "ipython",
    "version": 3
   },
   "file_extension": ".py",
   "mimetype": "text/x-python",
   "name": "python",
   "nbconvert_exporter": "python",
   "pygments_lexer": "ipython3",
   "version": "3.6.6"
  }
 },
 "nbformat": 4,
 "nbformat_minor": 2
}
